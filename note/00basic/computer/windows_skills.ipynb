{
 "cells": [
  {
   "metadata": {},
   "cell_type": "markdown",
   "source": [
    "create soft link on windows:\n",
    "```\n",
    "mklink /J \"D:\\Zheng\\Documents\\2_NBS\\Python\\script\\resources\" \"D:\\Zheng\\Documents\\2_NBS\\Java\\LAW\\Workshop\\src\\main\\resources\"\n",
    "```\n",
    "delete soft link on windows:\n",
    "```\n",
    "rmdir D:\\Zheng\\Documents\\2_NBS\\Java\\LAW\\Workshop\\src\\main\\resources\n",
    "```\n"
   ],
   "id": "173295236129ab38"
  }
 ],
 "metadata": {
  "kernelspec": {
   "display_name": "Python 3",
   "language": "python",
   "name": "python3"
  },
  "language_info": {
   "codemirror_mode": {
    "name": "ipython",
    "version": 2
   },
   "file_extension": ".py",
   "mimetype": "text/x-python",
   "name": "python",
   "nbconvert_exporter": "python",
   "pygments_lexer": "ipython2",
   "version": "2.7.6"
  }
 },
 "nbformat": 4,
 "nbformat_minor": 5
}
