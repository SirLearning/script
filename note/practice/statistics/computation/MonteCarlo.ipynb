{
 "cells": [
  {
   "metadata": {},
   "cell_type": "markdown",
   "source": [
    "# Examples\n",
    "\n",
    "1. count $\\sum\\cos(x)dx$\n",
    "```r\n",
    "result <- vector(\"numeric\")\n",
    "while (length(result) < 10000) {\n",
    "  y <- runif(1, 0, pi/2)\n",
    "  u <- runif(1)\n",
    "  if (u <= cos(y)) {\n",
    "    result <- append(result, y)\n",
    "  }\n",
    "}\n",
    "judge1 <- result <= 1\n",
    "judge2 <- result >= 0\n",
    "m <- sum(judge1*judge2)\n",
    "```\n",
    "\n",
    "2. count $\\int_0^1\\cos(x)dx$\n",
    "```r\n",
    "x <- result[judge1]\n",
    "gx <- exp(x)*cos(x)\n",
    "mean(gx)\n",
    "```\n",
    "\n",
    "3. count by `mosaicCalc`\n",
    "```r\n",
    "library(mosaicCalc)\n",
    "g <- antiD(e^x*cos(x)~x)\n",
    "g(1, e = exp(1)) - g(0, e = exp(1))\n",
    "```\n",
    "\n",
    "4. integrate $\\int_0^3\\cos(exp(x))dx$\n",
    "```r\n",
    "x <- runif(10000, 0, 3)\n",
    "gx <- cos(exp(x))\n",
    "3*mean(gx)\n",
    "\n",
    "library(mosaicCalc)\n",
    "g <- antiD(cos(exp(x))~x)\n",
    "g(3)-g(0)\n",
    "```"
   ],
   "id": "9770a797882d1c84"
  }
 ],
 "metadata": {
  "kernelspec": {
   "display_name": "Python 3",
   "language": "python",
   "name": "python3"
  },
  "language_info": {
   "codemirror_mode": {
    "name": "ipython",
    "version": 2
   },
   "file_extension": ".py",
   "mimetype": "text/x-python",
   "name": "python",
   "nbconvert_exporter": "python",
   "pygments_lexer": "ipython2",
   "version": "2.7.6"
  }
 },
 "nbformat": 4,
 "nbformat_minor": 5
}
