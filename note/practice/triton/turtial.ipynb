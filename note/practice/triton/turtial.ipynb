{
 "cells": [
  {
   "cell_type": "code",
   "execution_count": null,
   "id": "initial_id",
   "metadata": {
    "collapsed": true
   },
   "outputs": [],
   "source": [
    "import torch\n",
    "\n",
    "import triton\n",
    "import triton.language as tl\n",
    "\n",
    "@triton.jit\n",
    "def add_kernel(x_ptr,  # 第一个输入向量的指针。\n",
    "               y_ptr,  # 第二个输入向量的指针。\n",
    "               output_ptr,  # 输出向量的指针。\n",
    "               n_elements,  # 向量的大小。\n",
    "               BLOCK_SIZE: tl.constexpr,  # 每个程序应该处理的元素数量。\n",
    "               # 注意：`constexpr` 可以作为形状值使用。\n",
    "               ):\n",
    "    # 有多个'程序'处理不同的数据。我们在这里标识我们是哪个程序：\n",
    "    pid = tl.program_id(axis=0)  # 我们使用 1D launch 网格，因此 axis 是 0。\n",
    "    # 该程序将处理与初始数据偏移的输入。\n",
    "    # 例如，如果您有长度为 256 的向量和块大小为 64，程序\n",
    "    # 将分别访问元素[0:64, 64:128, 128:192, 192:256]。\n",
    "    # 请注意，偏移量是指针的列表：\n",
    "    block_start = pid * BLOCK_SIZE\n",
    "    offsets = block_start + tl.arange(0, BLOCK_SIZE)\n",
    "    # 创建一个掩码以防止内存操作超出范围。\n",
    "    mask = offsets < n_elements\n",
    "    # 从 DRAM 加载 x 和 y，以掩盖掉输入不是块大小的倍数的任何额外元素。\n",
    "    x = tl.load(x_ptr + offsets, mask=mask)\n",
    "    y = tl.load(y_ptr + offsets, mask=mask)\n",
    "    output = x + y\n",
    "    # 将 x + y 写回到 DRAM。\n",
    "    tl.store(output_ptr + offsets, output, mask=mask)"
   ]
  }
 ],
 "metadata": {
  "kernelspec": {
   "display_name": "Python 3",
   "language": "python",
   "name": "python3"
  },
  "language_info": {
   "codemirror_mode": {
    "name": "ipython",
    "version": 2
   },
   "file_extension": ".py",
   "mimetype": "text/x-python",
   "name": "python",
   "nbconvert_exporter": "python",
   "pygments_lexer": "ipython2",
   "version": "2.7.6"
  }
 },
 "nbformat": 4,
 "nbformat_minor": 5
}
