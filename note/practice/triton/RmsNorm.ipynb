{
 "cells": [
  {
   "cell_type": "code",
   "execution_count": null,
   "id": "initial_id",
   "metadata": {
    "collapsed": true
   },
   "outputs": [],
   "source": [
    "\n",
    "from holoviews.examples.reference.elements.bokeh.Table import weight\n",
    "\n",
    "\n",
    "def triton_rms_norm(\n",
    "        batch_size,\n",
    "        seq_len,\n",
    "        hiden_size = x.shape\n",
    "        shape = x.shape\n",
    "        x = x.view(hidden_size)\n",
    "        weight = weight.view(hidden_size)\n",
    "        output = torch.empty_like(x)\n",
    "        x_stride_r = x.stride()\n",
    "        o_stride_r = x.stride()\n",
    "        BLOCK_SIZE = triton.next_power_of_2(hidden_size)\n",
    "        grid = (batch_size * seq_len)\n",
    "\n",
    "        rms_norm\n",
    ")"
   ]
  }
 ],
 "metadata": {
  "kernelspec": {
   "display_name": "Python 3",
   "language": "python",
   "name": "python3"
  },
  "language_info": {
   "codemirror_mode": {
    "name": "ipython",
    "version": 2
   },
   "file_extension": ".py",
   "mimetype": "text/x-python",
   "name": "python",
   "nbconvert_exporter": "python",
   "pygments_lexer": "ipython2",
   "version": "2.7.6"
  }
 },
 "nbformat": 4,
 "nbformat_minor": 5
}
