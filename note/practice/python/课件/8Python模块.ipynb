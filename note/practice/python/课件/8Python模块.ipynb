{
 "cells": [
  {
   "cell_type": "markdown",
   "metadata": {},
   "source": [
    "## 《Python程序设计》2023秋季\n",
    "**<font size=4>8 Python模块</font>**\n",
    "\n",
    "**机械科学与工程学院  刘潇**\n",
    "\n",
    "本节要点包括：\n",
    "- 了解程序的模块封装和文件管理\n",
    "- 掌握Python中模块的创建和导入规则\n",
    "- 了解Python中的GUI模块\n"
   ]
  },
  {
   "cell_type": "markdown",
   "metadata": {},
   "source": [
    "### 代码封装"
   ]
  },
  {
   "cell_type": "markdown",
   "metadata": {},
   "source": [
    "#### 函数封装"
   ]
  },
  {
   "cell_type": "code",
   "execution_count": 3,
   "metadata": {},
   "outputs": [
    {
     "name": "stdout",
     "output_type": "stream",
     "text": [
      "hello world!\n",
      "hello world!\n",
      "hello world!\n"
     ]
    }
   ],
   "source": [
    "def print1():\n",
    "    print(\"hello world!\")\n",
    "    \n",
    "print1()\n",
    "print1()\n",
    "print1()"
   ]
  },
  {
   "cell_type": "markdown",
   "metadata": {},
   "source": [
    "#### 多个相关函数封装为类"
   ]
  },
  {
   "cell_type": "code",
   "execution_count": 4,
   "metadata": {},
   "outputs": [
    {
     "name": "stdout",
     "output_type": "stream",
     "text": [
      "hello world1!\n",
      "hello world2!\n"
     ]
    }
   ],
   "source": [
    "class classprint():\n",
    "    def print1(self):\n",
    "        print(\"hello world1!\")\n",
    "        \n",
    "    def print2(self):\n",
    "        print(\"hello world2!\")\n",
    "\n",
    "obj = classprint()\n",
    "obj.print1()\n",
    "obj.print2()"
   ]
  },
  {
   "cell_type": "markdown",
   "metadata": {},
   "source": [
    "#### 多个相关函数和类封装为模块（另存为一个文件）"
   ]
  },
  {
   "cell_type": "code",
   "execution_count": null,
   "metadata": {},
   "outputs": [],
   "source": [
    "# 另存为moduleprint.py\n",
    "def print1():\n",
    "    print(\"hello world!\")\n",
    "\n",
    "class classprint():\n",
    "    def print1(self):\n",
    "        print(\"hello world1!\")\n",
    "        \n",
    "    def print2(self):\n",
    "        print(\"hello world2!\")"
   ]
  },
  {
   "cell_type": "code",
   "execution_count": 7,
   "metadata": {},
   "outputs": [
    {
     "name": "stdout",
     "output_type": "stream",
     "text": [
      "hello world!\n",
      "hello world1!\n"
     ]
    }
   ],
   "source": [
    "import moduleprint\n",
    "\n",
    "# print(dir(moduleprint))\n",
    "moduleprint.print1()\n",
    "obj = moduleprint.classprint()\n",
    "obj.print1()"
   ]
  },
  {
   "cell_type": "markdown",
   "metadata": {},
   "source": [
    "### 内置模块"
   ]
  },
  {
   "cell_type": "markdown",
   "metadata": {},
   "source": [
    "#### 导入多个模块"
   ]
  },
  {
   "cell_type": "code",
   "execution_count": 1,
   "metadata": {},
   "outputs": [
    {
     "name": "stdout",
     "output_type": "stream",
     "text": [
      "['In', 'Out', '_', '__', '___', '__builtin__', '__builtins__', '__doc__', '__loader__', '__name__', '__package__', '__spec__', '_dh', '_i', '_i1', '_ih', '_ii', '_iii', '_oh', 'exit', 'get_ipython', 'math', 'quit', 'random']\n"
     ]
    }
   ],
   "source": [
    "import math, random\n",
    "print(dir())"
   ]
  },
  {
   "cell_type": "markdown",
   "metadata": {},
   "source": [
    "#### from ... import导入"
   ]
  },
  {
   "cell_type": "code",
   "execution_count": 2,
   "metadata": {},
   "outputs": [
    {
     "name": "stdout",
     "output_type": "stream",
     "text": [
      "['In', 'Out', '_', '__', '___', '__builtin__', '__builtins__', '__doc__', '__loader__', '__name__', '__package__', '__spec__', '_dh', '_i', '_i1', '_i2', '_ih', '_ii', '_iii', '_oh', 'exit', 'get_ipython', 'math', 'pi', 'quit', 'random']\n",
      "3.141592653589793\n"
     ]
    }
   ],
   "source": [
    "from math import pi\n",
    "print(dir())\n",
    "print(pi)"
   ]
  },
  {
   "cell_type": "code",
   "execution_count": 3,
   "metadata": {},
   "outputs": [
    {
     "name": "stdout",
     "output_type": "stream",
     "text": [
      "0.5425813896827737\n",
      "!\n"
     ]
    }
   ],
   "source": [
    "from random import random, choice\n",
    "print(random())\n",
    "print(choice(\"hello world!\"))"
   ]
  },
  {
   "cell_type": "code",
   "execution_count": 4,
   "metadata": {},
   "outputs": [
    {
     "name": "stdout",
     "output_type": "stream",
     "text": [
      "['In', 'Out', '_', '__', '___', '__builtin__', '__builtins__', '__doc__', '__loader__', '__name__', '__package__', '__spec__', '_dh', '_i', '_i1', '_i2', '_i3', '_i4', '_ih', '_ii', '_iii', '_oh', 'choice', 'exit', 'get_ipython', 'math', 'pi', 'quit', 'random']\n"
     ]
    }
   ],
   "source": [
    "print(dir())"
   ]
  },
  {
   "cell_type": "code",
   "execution_count": 5,
   "metadata": {},
   "outputs": [
    {
     "ename": "AttributeError",
     "evalue": "'builtin_function_or_method' object has no attribute 'random'",
     "output_type": "error",
     "traceback": [
      "\u001b[1;31m---------------------------------------------------------------------------\u001b[0m",
      "\u001b[1;31mAttributeError\u001b[0m                            Traceback (most recent call last)",
      "\u001b[1;32m~\\AppData\\Local\\Temp/ipykernel_4648/4208411749.py\u001b[0m in \u001b[0;36m<module>\u001b[1;34m\u001b[0m\n\u001b[1;32m----> 1\u001b[1;33m \u001b[0mprint\u001b[0m\u001b[1;33m(\u001b[0m\u001b[0mrandom\u001b[0m\u001b[1;33m.\u001b[0m\u001b[0mrandom\u001b[0m\u001b[1;33m(\u001b[0m\u001b[1;33m)\u001b[0m\u001b[1;33m)\u001b[0m\u001b[1;33m\u001b[0m\u001b[1;33m\u001b[0m\u001b[0m\n\u001b[0m",
      "\u001b[1;31mAttributeError\u001b[0m: 'builtin_function_or_method' object has no attribute 'random'"
     ]
    }
   ],
   "source": [
    "print(random.random())"
   ]
  },
  {
   "cell_type": "code",
   "execution_count": 6,
   "metadata": {},
   "outputs": [
    {
     "data": {
      "text/plain": [
       "0.18067139126177245"
      ]
     },
     "execution_count": 6,
     "metadata": {},
     "output_type": "execute_result"
    }
   ],
   "source": [
    "from random import random as randomnumber\n",
    "randomnumber()"
   ]
  },
  {
   "cell_type": "code",
   "execution_count": 7,
   "metadata": {},
   "outputs": [
    {
     "name": "stdout",
     "output_type": "stream",
     "text": [
      "['In', 'Out', '_', '_6', '__', '___', '__builtin__', '__builtins__', '__doc__', '__loader__', '__name__', '__package__', '__spec__', '_dh', '_i', '_i1', '_i2', '_i3', '_i4', '_i5', '_i6', '_i7', '_ih', '_ii', '_iii', '_oh', 'choice', 'exit', 'get_ipython', 'math', 'pi', 'quit', 'random', 'randomnumber']\n"
     ]
    }
   ],
   "source": [
    "print(dir())"
   ]
  },
  {
   "cell_type": "code",
   "execution_count": 8,
   "metadata": {},
   "outputs": [
    {
     "data": {
      "text/plain": [
       "0.8609359118833794"
      ]
     },
     "execution_count": 8,
     "metadata": {},
     "output_type": "execute_result"
    }
   ],
   "source": [
    "random()"
   ]
  },
  {
   "cell_type": "markdown",
   "metadata": {},
   "source": [
    "### 模块路径"
   ]
  },
  {
   "cell_type": "code",
   "execution_count": 10,
   "metadata": {},
   "outputs": [
    {
     "name": "stdout",
     "output_type": "stream",
     "text": [
      "['C:\\\\Users\\\\xliu\\\\Desktop',\n",
      " 'D:\\\\anaconda3\\\\python39.zip',\n",
      " 'D:\\\\anaconda3\\\\DLLs',\n",
      " 'D:\\\\anaconda3\\\\lib',\n",
      " 'D:\\\\anaconda3',\n",
      " '',\n",
      " 'D:\\\\anaconda3\\\\lib\\\\site-packages',\n",
      " 'D:\\\\anaconda3\\\\lib\\\\site-packages\\\\locket-0.2.1-py3.9.egg',\n",
      " 'D:\\\\anaconda3\\\\lib\\\\site-packages\\\\win32',\n",
      " 'D:\\\\anaconda3\\\\lib\\\\site-packages\\\\win32\\\\lib',\n",
      " 'D:\\\\anaconda3\\\\lib\\\\site-packages\\\\Pythonwin',\n",
      " 'D:\\\\anaconda3\\\\lib\\\\site-packages\\\\IPython\\\\extensions',\n",
      " 'C:\\\\Users\\\\xliu\\\\.ipython']\n"
     ]
    }
   ],
   "source": [
    "import sys, pprint\n",
    "pprint.pprint(sys.path)"
   ]
  },
  {
   "cell_type": "markdown",
   "metadata": {},
   "source": [
    "### 第三方模块"
   ]
  },
  {
   "cell_type": "markdown",
   "metadata": {},
   "source": [
    "#### 第一个GUI窗口"
   ]
  },
  {
   "cell_type": "code",
   "execution_count": 3,
   "metadata": {},
   "outputs": [
    {
     "data": {
      "text/plain": [
       "0"
      ]
     },
     "execution_count": 3,
     "metadata": {},
     "output_type": "execute_result"
    }
   ],
   "source": [
    "# 加载wx模块\n",
    "import wx\n",
    "\n",
    "# 创建一个应用程序对象\n",
    "app1 = wx.App(False)\n",
    "\n",
    "# 创建一个顶层窗口对象\n",
    "frame1 = wx.Frame(None, wx.ID_ANY, \"Hello, World!\")\n",
    "\n",
    "# 显示窗口\n",
    "frame1.Show(True)\n",
    "\n",
    "# 运行程序\n",
    "app1.MainLoop()"
   ]
  },
  {
   "cell_type": "markdown",
   "metadata": {},
   "source": [
    "#### 自定义窗口类"
   ]
  },
  {
   "cell_type": "code",
   "execution_count": 4,
   "metadata": {},
   "outputs": [
    {
     "data": {
      "text/plain": [
       "0"
      ]
     },
     "execution_count": 4,
     "metadata": {},
     "output_type": "execute_result"
    }
   ],
   "source": [
    "# 加载wx模块\n",
    "import wx\n",
    "\n",
    "# 创建自定义窗口类\n",
    "class myframe(wx.Frame):\n",
    "    def __init__(self):\n",
    "        wx.Frame.__init__(self, None, wx.ID_ANY, \"Hello, World!\")\n",
    "        # 添加控件\n",
    "        self.text1 = wx.StaticText(self, -1, \"温度\", size=(40, 20), pos=(20, 10)) # 静态文本框\n",
    "        self.text2 = wx.TextCtrl(self, -1, \"25\", size=(60, 20), pos=(60, 10)) # 单行动态文本框\n",
    "        self.button1 = wx.Button(self, -1, \"确定\", size=(100, 30), pos=(20, 40)) # 按钮\n",
    "\n",
    "        \n",
    "# 创建一个应用程序对象\n",
    "app2 = wx.App(False)\n",
    "\n",
    "# 创建一个顶层窗口对象\n",
    "frame2 = myframe()\n",
    "\n",
    "# 显示窗口\n",
    "frame2.Show(True)\n",
    "\n",
    "# 运行程序\n",
    "app2.MainLoop()"
   ]
  },
  {
   "cell_type": "markdown",
   "metadata": {},
   "source": [
    "#### 事件处理"
   ]
  },
  {
   "cell_type": "code",
   "execution_count": 6,
   "metadata": {},
   "outputs": [
    {
     "data": {
      "text/plain": [
       "0"
      ]
     },
     "execution_count": 6,
     "metadata": {},
     "output_type": "execute_result"
    }
   ],
   "source": [
    "# 加载wx模块\n",
    "import wx, random\n",
    "\n",
    "# 创建自定义窗口类\n",
    "class myframe(wx.Frame):\n",
    "    def __init__(self):\n",
    "        wx.Frame.__init__(self, None, wx.ID_ANY, \"Hello, World!\")\n",
    "        # 添加控件\n",
    "        self.text1 = wx.StaticText(self, -1, \"温度\", size=(40, 20), pos=(20, 10)) # 静态文本框\n",
    "        self.text2 = wx.TextCtrl(self, -1, \"25\", size=(60, 20), pos=(60, 10)) # 单行动态文本框\n",
    "        self.button1 = wx.Button(self, -1, \"确定\", size=(100, 30), pos=(20, 40)) # 按钮\n",
    "        \n",
    "        # 添加事件\n",
    "        self.Bind(wx.EVT_BUTTON, self.On_click, self.button1) #按钮控件关联函数\n",
    "        \n",
    "    def On_click(self, event):\n",
    "        self.text2.SetValue(str(random.randint(25,100)))\n",
    "\n",
    "        \n",
    "# 创建一个应用程序对象\n",
    "app3 = wx.App(False)\n",
    "\n",
    "# 创建一个顶层窗口对象\n",
    "frame3 = myframe()\n",
    "\n",
    "# 显示窗口\n",
    "frame3.Show(True)\n",
    "\n",
    "# 运行程序\n",
    "app3.MainLoop()"
   ]
  },
  {
   "cell_type": "markdown",
   "metadata": {},
   "source": [
    "#### 面板和盒子布局器"
   ]
  },
  {
   "cell_type": "code",
   "execution_count": 1,
   "metadata": {},
   "outputs": [
    {
     "data": {
      "text/plain": [
       "0"
      ]
     },
     "execution_count": 1,
     "metadata": {},
     "output_type": "execute_result"
    }
   ],
   "source": [
    "# 加载wx模块\n",
    "import wx, random\n",
    "\n",
    "class TestPanel(wx.Panel):\n",
    "    def __init__(self, parent):\n",
    "        wx.Panel.__init__(self, parent)\n",
    "        # 添加控件\n",
    "        self.text1 = wx.StaticText(self, -1, \"温度\", size=(40, 20), pos=(20, 10)) # 静态文本框\n",
    "        self.text2 = wx.TextCtrl(self, -1, \"25\", size=(60, 20), pos=(60, 10)) # 单行动态文本框\n",
    "        self.button1 = wx.Button(self, -1, \"确定\", size=(100, 30), pos=(20, 40)) # 按钮\n",
    "        \n",
    "        # 添加事件\n",
    "        self.Bind(wx.EVT_BUTTON, self.On_click, self.button1) #按钮控件关联函数\n",
    "        \n",
    "        # 利用wx.BoxSizer布局控件\n",
    "        self.text_box = wx.BoxSizer(wx.HORIZONTAL)  # 水平布局器\n",
    "        self.text_box.Add(self.text1, proportion=1, flag=wx.EXPAND | wx.ALL, border=0)\n",
    "        self.text_box.Add(self.text2, proportion=1, flag=wx.EXPAND | wx.ALL, border=0)\n",
    "        \n",
    "        self.panel_box = wx.BoxSizer(wx.VERTICAL)  # 垂直布局器\n",
    "        self.panel_box.Add(self.text_box, proportion=2, flag=wx.EXPAND | wx.ALL, border=0) \n",
    "        self.panel_box.Add(self.button1, proportion=1, flag=wx.EXPAND | wx.ALL, border=0) \n",
    "        \n",
    "        self.SetSizer(self.panel_box)  # 设置腔体面板布局器\n",
    "    \n",
    "    def On_click(self, event):\n",
    "        self.text2.SetValue(str(random.randint(25,100)))\n",
    "\n",
    "# 创建一个应用程序对象\n",
    "app4 = wx.App(False)\n",
    "\n",
    "# 创建一个顶层框架对象（全局坐标系）\n",
    "frame4 = wx.Frame(None, wx.ID_ANY, \"Hello, World!\")\n",
    "\n",
    "# 创建一个局部面板对象（局部坐标系）\n",
    "panel4 = TestPanel(frame4)\n",
    "\n",
    "# 显示框架\n",
    "frame4.Show(True)\n",
    "\n",
    "# 运行程序\n",
    "app4.MainLoop()"
   ]
  },
  {
   "cell_type": "markdown",
   "metadata": {},
   "source": [
    "### 创建模块"
   ]
  },
  {
   "cell_type": "markdown",
   "metadata": {},
   "source": [
    "### 保存代码为a.py，放在桌面文件夹中"
   ]
  },
  {
   "cell_type": "code",
   "execution_count": 1,
   "metadata": {},
   "outputs": [],
   "source": [
    "\"module a\"\n",
    "\n",
    "# define global a\n",
    "a = 1\n",
    "\n",
    "# define function func1\n",
    "def func1():\n",
    "    print(a)\n",
    "\n",
    "# define class newclass1\n",
    "class newclass1():\n",
    "    var1 = 1\n",
    "    def method1(self):\n",
    "        print(\"hello world!\")\n"
   ]
  },
  {
   "cell_type": "code",
   "execution_count": 7,
   "metadata": {},
   "outputs": [
    {
     "name": "stdout",
     "output_type": "stream",
     "text": [
      "['C:\\\\Users\\\\xliu\\\\Desktop',\n",
      " 'D:\\\\anaconda3\\\\python39.zip',\n",
      " 'D:\\\\anaconda3\\\\DLLs',\n",
      " 'D:\\\\anaconda3\\\\lib',\n",
      " 'D:\\\\anaconda3',\n",
      " '',\n",
      " 'D:\\\\anaconda3\\\\lib\\\\site-packages',\n",
      " 'D:\\\\anaconda3\\\\lib\\\\site-packages\\\\locket-0.2.1-py3.9.egg',\n",
      " 'D:\\\\anaconda3\\\\lib\\\\site-packages\\\\win32',\n",
      " 'D:\\\\anaconda3\\\\lib\\\\site-packages\\\\win32\\\\lib',\n",
      " 'D:\\\\anaconda3\\\\lib\\\\site-packages\\\\Pythonwin',\n",
      " 'D:\\\\anaconda3\\\\lib\\\\site-packages\\\\IPython\\\\extensions',\n",
      " 'C:\\\\Users\\\\xliu\\\\.ipython']\n"
     ]
    }
   ],
   "source": [
    "import sys, pprint\n",
    "pprint.pprint(sys.path)"
   ]
  },
  {
   "cell_type": "markdown",
   "metadata": {},
   "source": [
    "#### 导入模块a"
   ]
  },
  {
   "cell_type": "code",
   "execution_count": 9,
   "metadata": {},
   "outputs": [
    {
     "name": "stdout",
     "output_type": "stream",
     "text": [
      "['In', 'Out', '_', '__', '___', '__builtin__', '__builtins__', '__doc__', '__loader__', '__name__', '__package__', '__spec__', '_dh', '_i', '_i1', '_i2', '_i3', '_i4', '_i5', '_i6', '_i7', '_i8', '_i9', '_ih', '_ii', '_iii', '_oh', 'a', 'exit', 'get_ipython', 'pprint', 'quit', 'sys']\n",
      "['In', 'Out', '_', '__', '___', '__builtin__', '__builtins__', '__doc__', '__loader__', '__name__', '__package__', '__spec__', '_dh', '_i', '_i1', '_i2', '_i3', '_i4', '_i5', '_i6', '_i7', '_i8', '_i9', '_ih', '_ii', '_iii', '_oh', 'a', 'exit', 'get_ipython', 'pprint', 'quit', 'sys']\n",
      "1\n"
     ]
    }
   ],
   "source": [
    "print(dir())\n",
    "import a\n",
    "print(dir())\n",
    "a.func1()"
   ]
  },
  {
   "cell_type": "markdown",
   "metadata": {},
   "source": [
    "#### 模块内置属性"
   ]
  },
  {
   "cell_type": "code",
   "execution_count": 8,
   "metadata": {},
   "outputs": [
    {
     "name": "stdout",
     "output_type": "stream",
     "text": [
      "['__builtins__',\n",
      " '__cached__',\n",
      " '__doc__',\n",
      " '__file__',\n",
      " '__loader__',\n",
      " '__name__',\n",
      " '__package__',\n",
      " '__spec__',\n",
      " 'a',\n",
      " 'func1',\n",
      " 'newclass1']\n"
     ]
    }
   ],
   "source": [
    "pprint.pprint(dir(a))"
   ]
  },
  {
   "cell_type": "code",
   "execution_count": 3,
   "metadata": {},
   "outputs": [
    {
     "name": "stdout",
     "output_type": "stream",
     "text": [
      "module a\n"
     ]
    }
   ],
   "source": [
    "print(a.__doc__)"
   ]
  },
  {
   "cell_type": "code",
   "execution_count": 4,
   "metadata": {},
   "outputs": [
    {
     "name": "stdout",
     "output_type": "stream",
     "text": [
      "C:\\Users\\xliu\\Desktop\\a.py\n"
     ]
    }
   ],
   "source": [
    "print(a.__file__)"
   ]
  },
  {
   "cell_type": "code",
   "execution_count": 5,
   "metadata": {},
   "outputs": [
    {
     "name": "stdout",
     "output_type": "stream",
     "text": [
      "a\n"
     ]
    }
   ],
   "source": [
    "print(a.__name__)"
   ]
  },
  {
   "cell_type": "code",
   "execution_count": null,
   "metadata": {},
   "outputs": [],
   "source": [
    "print(a.__dict__)"
   ]
  },
  {
   "cell_type": "code",
   "execution_count": null,
   "metadata": {},
   "outputs": [],
   "source": [
    "print(a.__builtins__)"
   ]
  },
  {
   "cell_type": "markdown",
   "metadata": {},
   "source": [
    "#### 保存代码为b.py，放在桌面文件夹中"
   ]
  },
  {
   "cell_type": "code",
   "execution_count": null,
   "metadata": {},
   "outputs": [],
   "source": [
    "\"module b\"\n",
    "\n",
    "# define global a\n",
    "a = 1\n",
    "\n",
    "# define function func1\n",
    "def func1():\n",
    "    print(a)\n",
    "\n",
    "# define class newclass1\n",
    "class newclass1():\n",
    "    var1 = 1\n",
    "    def method1(self):\n",
    "        print(\"hello world!\")\n",
    "\n",
    "print(__name__)"
   ]
  },
  {
   "cell_type": "code",
   "execution_count": null,
   "metadata": {},
   "outputs": [],
   "source": []
  },
  {
   "cell_type": "code",
   "execution_count": null,
   "metadata": {},
   "outputs": [],
   "source": []
  }
 ],
 "metadata": {
  "kernelspec": {
   "display_name": "Python 3",
   "language": "python",
   "name": "python3"
  },
  "language_info": {
   "codemirror_mode": {
    "name": "ipython",
    "version": 3
   },
   "file_extension": ".py",
   "mimetype": "text/x-python",
   "name": "python",
   "nbconvert_exporter": "python",
   "pygments_lexer": "ipython3",
   "version": "3.8.3"
  }
 },
 "nbformat": 4,
 "nbformat_minor": 4
}
