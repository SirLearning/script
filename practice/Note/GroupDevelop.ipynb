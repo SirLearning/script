{
 "cells": [
  {
   "cell_type": "markdown",
   "source": [
    "# 模块的分割设计与单元测试\n",
    "\n",
    "## 模块的分割设计\n",
    "\n",
    "1. 功能设计：一个应用程序的功能，明确各功能的输入和输出\n",
    "\n",
    "应用程序角度，整体的输入输出信息包括：\n",
    "- 用户看得见的范畴\n",
    "- 关联外部系统的接口\n",
    "- 数据库中保存的数据\n",
    "\n",
    "各子功能的业务场景：描述了用户与系统之间进行交互的行为内容，籍此明确\n",
    "- 用户向系统输入的内容\n",
    "- 系统反馈给用户的信息\n",
    "\n",
    "业务场景之间的流程切换：页面流转图，如Web应用程序\n",
    "- URl\n",
    "- HTTP方法\n",
    "- 安全：登陆以及权限\n",
    "- 输入：\n",
    "    - 用户输入\n",
    "    - 读取数据库或文件内容\n",
    "    - 来自外部系统的内容\n",
    "- 输出：\n",
    "    - 页面输出\n",
    "    - 写入文件或数据库\n",
    "    - 调用外部系统\n",
    "\n",
    "明确输入和输出的对应关系：两者对应构成子功能\n",
    "- 在python中，函数以及类（统称为组件）通过模块来组织，模块又通过包来组织\n",
    "- 复杂的子功能不能通过一次设计编码来解决：需要将其设计成组件之间的组合来完成\n",
    "- 划分功能组件：可在遇到共同操作时，调用通用模块实现，减少应用程序之间的内部冲突\n",
    "\n",
    "软件构架：功能分解的目标规范\n",
    "- MVC模式：Model-View-Controller\n",
    "    - Model：功能逻辑与数据相关的部分\n",
    "        - ApplicationModel：构成子功能的Model，保存应用程序当前运行的状态。不保存永久状态，而是在一定时间内维持状态\n",
    "            - 一定时间：Web应用程序中，一次HTTP请求的处理时间（一个请求使几个页面之间切换的时间）\n",
    "            - 可以通过普通的类、模块中的函数进行封装\n",
    "            - 被View调用后：执行对应的DomainModel定义的各种方法\n",
    "            - 不进行具体的业务处理，只是将请求转发给DomainModel（仅负责流程传递）\n",
    "        - DomainModel：已经持久化的Model，已经保存到文件、数据库。保持持久化状态的对象\n",
    "            - 在多数场合，通过RDBMS（关联数据库管理系统）来保存该对象信息\n",
    "            - python可使用SQLAlchemy作为O/R映射工具\n",
    "            - 该对象中还保存了自身状态变化业务逻辑信息\n",
    "    - View：用户界面，展示Model信息\n",
    "    - Controller：根据用户输入将Model和View联系起来\n",
    "- 最近的Web应用程序开发框架：对Controller进行集成，View通过模板与显示逻辑的形式来实现\n",
    "    - 大多由Model-View-Template（MVT）三大模块构成\n",
    "- Web应用程序架构：\n",
    "    - View\n",
    "    - DomainModel\n",
    "    - ApplicationModel\n",
    "    - ServiceGateway：外部服务。负责将Web API的包装、邮件发送、启动其他进程等外部系统的内容直接送入Model或View中\n",
    "    - Uitlity：\n",
    "        - 不保持状态，只有输入参数、返回值的功能体\n",
    "        - 也可能有：输入参数种类繁多、保持对象状态直到方法调用返回这样的复杂情况\n",
    "        - 基本从输入输出的角度而言，通过其单一对象即可完成所有操作"
   ],
   "metadata": {
    "collapsed": false
   },
   "id": "bc50c35ab041f92f"
  },
  {
   "cell_type": "code",
   "execution_count": null,
   "id": "initial_id",
   "metadata": {
    "collapsed": true
   },
   "outputs": [],
   "source": []
  }
 ],
 "metadata": {
  "kernelspec": {
   "display_name": "Python 3",
   "language": "python",
   "name": "python3"
  },
  "language_info": {
   "codemirror_mode": {
    "name": "ipython",
    "version": 2
   },
   "file_extension": ".py",
   "mimetype": "text/x-python",
   "name": "python",
   "nbconvert_exporter": "python",
   "pygments_lexer": "ipython2",
   "version": "2.7.6"
  }
 },
 "nbformat": 4,
 "nbformat_minor": 5
}
