{
 "cells": [
  {
   "cell_type": "markdown",
   "metadata": {},
   "source": [
    "## 《Python程序设计》2023秋季\n",
    "**<font size=4>4 Python语句控制</font>**\n",
    "\n",
    "**机械科学与工程学院  刘潇**\n",
    "\n",
    "本节要点包括：\n",
    "- 掌握bool表达式的运算和条件语句结构\n",
    "- 掌握循环语句的迭代过程和break、continue等语句\n",
    "- 了解os模块，结合条件和循环语句操作文件"
   ]
  },
  {
   "cell_type": "markdown",
   "metadata": {},
   "source": [
    "### Python语句"
   ]
  },
  {
   "cell_type": "code",
   "execution_count": 1,
   "metadata": {
    "scrolled": true
   },
   "outputs": [
    {
     "name": "stdout",
     "output_type": "stream",
     "text": [
      "2.0\n",
      "4\n"
     ]
    }
   ],
   "source": [
    "import math as m\n",
    "a = 2 + 2\n",
    "b = a\n",
    "print(m.sqrt(a))\n",
    "del a\n",
    "print(b)"
   ]
  },
  {
   "cell_type": "markdown",
   "metadata": {},
   "source": [
    "### 赋值语句"
   ]
  },
  {
   "cell_type": "code",
   "execution_count": 3,
   "metadata": {},
   "outputs": [
    {
     "name": "stdout",
     "output_type": "stream",
     "text": [
      "1\n",
      "[2, 3]\n",
      "hello world!hello world!\n"
     ]
    }
   ],
   "source": [
    "#并行赋值\n",
    "x, y, z = 1, 2, 3\n",
    "print(x)\n",
    "x, *y, z = 1, 2, 3, 4\n",
    "print(y)\n",
    "\n",
    "#链式赋值\n",
    "x = y = \"hello world!\"\n",
    "\n",
    "#运算符赋值\n",
    "x = \"hello\"\n",
    "x += \" world!\"\n",
    "x *= 2\n",
    "print(x)"
   ]
  },
  {
   "cell_type": "markdown",
   "metadata": {},
   "source": [
    "### 条件语句"
   ]
  },
  {
   "cell_type": "code",
   "execution_count": 6,
   "metadata": {},
   "outputs": [
    {
     "name": "stdout",
     "output_type": "stream",
     "text": [
      "input your age: 0.5\n",
      "he is a baby!\n",
      "True\n"
     ]
    }
   ],
   "source": [
    "age = float(input(\"input your age: \"))\n",
    "if age < 1:\n",
    "    print(\"he is a baby!\")\n",
    "    \n",
    "print(0.5 < 1)"
   ]
  },
  {
   "cell_type": "markdown",
   "metadata": {},
   "source": [
    "### bool类型"
   ]
  },
  {
   "cell_type": "code",
   "execution_count": 11,
   "metadata": {},
   "outputs": [
    {
     "name": "stdout",
     "output_type": "stream",
     "text": [
      "True\n",
      "True\n",
      "41\n",
      "input your age: -0.5\n",
      "True\n",
      "True\n",
      "False\n"
     ]
    }
   ],
   "source": [
    "# True和False分别是1和0的别名\n",
    "print(True == 1)\n",
    "print(False == 0)\n",
    "print(True + False + 40)\n",
    "\n",
    "age = float(input(\"input your age: \"))\n",
    "if age + 0.5:\n",
    "    print(\"he is a baby!\")\n",
    "    \n",
    "# 转换数据类型\n",
    "print(bool(\"hello world\"))\n",
    "print(bool(\"40\"))\n",
    "print(bool(\"\"))"
   ]
  },
  {
   "cell_type": "markdown",
   "metadata": {},
   "source": [
    "### bool表达式"
   ]
  },
  {
   "cell_type": "code",
   "execution_count": 15,
   "metadata": {},
   "outputs": [
    {
     "name": "stdout",
     "output_type": "stream",
     "text": [
      "True\n",
      "False\n",
      "False\n",
      "2\n",
      "1\n",
      "0\n",
      "False\n"
     ]
    }
   ],
   "source": [
    "# 比较运算符返回True或者False\n",
    "print(1 < 2)\n",
    "a, b = [1,2], [1,2]\n",
    "print(a is b)\n",
    "\n",
    "# 逻辑运算符\n",
    "print(True and False)\n",
    "\n",
    "print(1 and 2)\n",
    "print(1 or 2)\n",
    "print(1 and 0)\n",
    "print(not 2)"
   ]
  },
  {
   "cell_type": "markdown",
   "metadata": {},
   "source": [
    "### 复杂的条件"
   ]
  },
  {
   "cell_type": "code",
   "execution_count": 3,
   "metadata": {},
   "outputs": [
    {
     "name": "stdout",
     "output_type": "stream",
     "text": [
      "Input you name: hello\n",
      "your name contains the letter 'h'.\n",
      "Input a number:5\n",
      "Great!\n",
      "Great!\n"
     ]
    }
   ],
   "source": [
    "name = input(\"Input you name: \")\n",
    "if \"h\" in name:\n",
    "    print(\"your name contains the letter 'h'.\")\n",
    "    \n",
    "number = float(input(\"Input a number:\"))\n",
    "if number < 10 and number > 1:\n",
    "    print(\"Great!\")\n",
    "    \n",
    "if 1 < number < 10:\n",
    "    print(\"Great!\")"
   ]
  },
  {
   "cell_type": "markdown",
   "metadata": {},
   "source": [
    "### else和elif子句"
   ]
  },
  {
   "cell_type": "code",
   "execution_count": 8,
   "metadata": {},
   "outputs": [
    {
     "name": "stdout",
     "output_type": "stream",
     "text": [
      "Input a number: 2\n",
      "The number is positive.\n",
      "The number is positive.\n"
     ]
    }
   ],
   "source": [
    "number = float(input(\"Input a number: \"))\n",
    "\n",
    "if number > 0:\n",
    "    print(\"The number is positive.\")\n",
    "elif number < 0:\n",
    "    print(\"The number is negative.\")\n",
    "else: \n",
    "    print(\"The number is zero.\")\n",
    "    \n",
    "print(\"The number is positive.\" if number > 0 else \"The number is negative.\")"
   ]
  },
  {
   "cell_type": "markdown",
   "metadata": {},
   "source": [
    "### 三目运算"
   ]
  },
  {
   "cell_type": "code",
   "execution_count": 4,
   "metadata": {},
   "outputs": [
    {
     "name": "stdout",
     "output_type": "stream",
     "text": [
      "3\n",
      "3\n",
      "6\n"
     ]
    }
   ],
   "source": [
    "a = 3 < 2 and 2 or 3\n",
    "print(a)\n",
    "\n",
    "a = 2 if 3 < 2 else 3\n",
    "print(a)\n",
    "\n",
    "b = 5 if False and 1 else 6\n",
    "print(b)"
   ]
  },
  {
   "cell_type": "markdown",
   "metadata": {},
   "source": [
    "### 条件语句示例"
   ]
  },
  {
   "cell_type": "code",
   "execution_count": 4,
   "metadata": {},
   "outputs": [
    {
     "name": "stdout",
     "output_type": "stream",
     "text": [
      "Input a number: 50\n",
      "50能被2整除，不能被3整除\n"
     ]
    }
   ],
   "source": [
    "number = int(input(\"Input a number: \"))\n",
    "if number % 2 == 0:\n",
    "    if number % 3 == 0:\n",
    "        print(str(number) + \"能同时被2和3整除\")\n",
    "    else:\n",
    "        print(str(number) + \"能被2整除，不能被3整除\")\n",
    "elif number % 3 == 0:\n",
    "    print(str(number) + \"能被3整除，不能被2整除\")\n",
    "else: \n",
    "    print(str(number) + \"不能被2和3整除\")"
   ]
  },
  {
   "cell_type": "markdown",
   "metadata": {},
   "source": [
    "### 断言assert"
   ]
  },
  {
   "cell_type": "code",
   "execution_count": 14,
   "metadata": {},
   "outputs": [
    {
     "ename": "AssertionError",
     "evalue": "该代码只能在 Linux 下执行",
     "output_type": "error",
     "traceback": [
      "\u001b[1;31m---------------------------------------------------------------------------\u001b[0m",
      "\u001b[1;31mAssertionError\u001b[0m                            Traceback (most recent call last)",
      "\u001b[1;32m<ipython-input-14-9a27a863c9ce>\u001b[0m in \u001b[0;36m<module>\u001b[1;34m\u001b[0m\n\u001b[0;32m      3\u001b[0m \u001b[1;31m#print(sys.__doc__)\u001b[0m\u001b[1;33m\u001b[0m\u001b[1;33m\u001b[0m\u001b[1;33m\u001b[0m\u001b[0m\n\u001b[0;32m      4\u001b[0m \u001b[1;33m\u001b[0m\u001b[0m\n\u001b[1;32m----> 5\u001b[1;33m \u001b[1;32massert\u001b[0m \u001b[1;33m(\u001b[0m\u001b[1;34m'linux'\u001b[0m \u001b[1;32min\u001b[0m \u001b[0msys\u001b[0m\u001b[1;33m.\u001b[0m\u001b[0mplatform\u001b[0m\u001b[1;33m)\u001b[0m\u001b[1;33m,\u001b[0m \u001b[1;34m\"该代码只能在 Linux 下执行\"\u001b[0m\u001b[1;33m\u001b[0m\u001b[1;33m\u001b[0m\u001b[0m\n\u001b[0m",
      "\u001b[1;31mAssertionError\u001b[0m: 该代码只能在 Linux 下执行"
     ]
    }
   ],
   "source": [
    "import sys\n",
    "#print(dir(sys))\n",
    "#print(sys.__doc__)\n",
    "\n",
    "assert ('linux' in sys.platform), \"该代码只能在 Linux 下执行\""
   ]
  },
  {
   "cell_type": "markdown",
   "metadata": {},
   "source": [
    "### pass语句"
   ]
  },
  {
   "cell_type": "code",
   "execution_count": 89,
   "metadata": {},
   "outputs": [
    {
     "ename": "IndentationError",
     "evalue": "expected an indented block (<ipython-input-89-e92bc170d710>, line 7)",
     "output_type": "error",
     "traceback": [
      "\u001b[1;36m  File \u001b[1;32m\"<ipython-input-89-e92bc170d710>\"\u001b[1;36m, line \u001b[1;32m7\u001b[0m\n\u001b[1;33m    else:\u001b[0m\n\u001b[1;37m         ^\u001b[0m\n\u001b[1;31mIndentationError\u001b[0m\u001b[1;31m:\u001b[0m expected an indented block\n"
     ]
    }
   ],
   "source": [
    "number = int(input(\"Input a number: \"))\n",
    "if number % 2 == 0:\n",
    "    if number % 3 == 0:\n",
    "        print(str(number) + \"能同时被2和3整除\")\n",
    "    else:\n",
    "        #还不知道写啥\n",
    "else:\n",
    "    print(str(number) + \"不能被2和3整除\")"
   ]
  },
  {
   "cell_type": "markdown",
   "metadata": {},
   "source": [
    "### while语句"
   ]
  },
  {
   "cell_type": "code",
   "execution_count": 2,
   "metadata": {},
   "outputs": [
    {
     "name": "stdout",
     "output_type": "stream",
     "text": [
      "5050\n"
     ]
    }
   ],
   "source": [
    "x, i = 0, 1\n",
    "while i <= 100:\n",
    "    x += i\n",
    "    i += 1\n",
    "print(x)"
   ]
  },
  {
   "cell_type": "markdown",
   "metadata": {},
   "source": [
    "### 打印9 * 9乘法口诀表"
   ]
  },
  {
   "cell_type": "code",
   "execution_count": 16,
   "metadata": {},
   "outputs": [
    {
     "name": "stdout",
     "output_type": "stream",
     "text": [
      "1*1=1  \n",
      "2*1=2  2*2=4  \n",
      "3*1=3  3*2=6  3*3=9  \n",
      "4*1=4  4*2=8  4*3=12 4*4=16 \n",
      "5*1=5  5*2=10 5*3=15 5*4=20 5*5=25 \n",
      "6*1=6  6*2=12 6*3=18 6*4=24 6*5=30 6*6=36 \n",
      "7*1=7  7*2=14 7*3=21 7*4=28 7*5=35 7*6=42 7*7=49 \n",
      "8*1=8  8*2=16 8*3=24 8*4=32 8*5=40 8*6=48 8*7=56 8*8=64 \n",
      "9*1=9  9*2=18 9*3=27 9*4=36 9*5=45 9*6=54 9*7=63 9*8=72 9*9=81 \n"
     ]
    }
   ],
   "source": [
    "row = 1\n",
    "while row <= 9:\n",
    "    col = 1\n",
    "    while col <= row:\n",
    "        print(\"{}*{}={:<2}\".format(row, col, row*col), end = \" \")\n",
    "        col += 1\n",
    "    print(\"\\n\", end = \"\")\n",
    "    row += 1"
   ]
  },
  {
   "cell_type": "markdown",
   "metadata": {},
   "source": [
    "### break和continue语句"
   ]
  },
  {
   "cell_type": "code",
   "execution_count": 17,
   "metadata": {},
   "outputs": [
    {
     "name": "stdout",
     "output_type": "stream",
     "text": [
      "input your name: John\n",
      "your name is John\n",
      "input your name: \n",
      "1*1=1  \n",
      "2*1=2  2*2=4  \n",
      "3*1=3  3*2=6  3*3=9  \n",
      "4*1=4  4*2=8  4*3=12 4*4=16 \n",
      "5*1=5  5*2=10 5*3=15 5*4=20 5*5=25 \n",
      "6*1=6  6*2=12 6*3=18 6*4=24 6*5=30 \n",
      "7*1=7  7*2=14 7*3=21 7*4=28 7*5=35 \n",
      "8*1=8  8*2=16 8*3=24 8*4=32 8*5=40 \n",
      "9*1=9  9*2=18 9*3=27 9*4=36 9*5=45 \n"
     ]
    }
   ],
   "source": [
    "while True:\n",
    "    name = input(\"input your name: \")\n",
    "    if not name:\n",
    "        break # 当输入name后跳出循环\n",
    "    print(\"your name is\", name)\n",
    "\n",
    "row = 1\n",
    "while row <= 9:\n",
    "    col = 1\n",
    "    while col <= row:\n",
    "        if col > 5: break\n",
    "        print(\"{}*{}={:<2}\".format(row, col, row*col), end = \" \")\n",
    "        col += 1\n",
    "    print(\"\\n\", end = \"\")\n",
    "    row += 1"
   ]
  },
  {
   "cell_type": "markdown",
   "metadata": {},
   "source": [
    "### else子句"
   ]
  },
  {
   "cell_type": "code",
   "execution_count": 6,
   "metadata": {},
   "outputs": [
    {
     "name": "stdout",
     "output_type": "stream",
     "text": [
      "number is: 50\n",
      "break while循环\n"
     ]
    }
   ],
   "source": [
    "number = int(input(\"number is: \"))\n",
    "x, i = 0, 1\n",
    "while i <= number:\n",
    "    x += i\n",
    "    i += 1\n",
    "    if x > 500:\n",
    "        print(\"break while循环\")\n",
    "        break\n",
    "else:\n",
    "    print(x)\n",
    "    print(\"while循环结束！\")"
   ]
  },
  {
   "cell_type": "markdown",
   "metadata": {},
   "source": [
    "### for语句"
   ]
  },
  {
   "cell_type": "code",
   "execution_count": 18,
   "metadata": {},
   "outputs": [
    {
     "name": "stdout",
     "output_type": "stream",
     "text": [
      "0 1 2 3 4 5 6 \n",
      "2 3 4 5 6 7 8 9 \n",
      "0 1 2 3 4 5 6 7 8 9 \n"
     ]
    }
   ],
   "source": [
    "numbers = [0, 1, 2, 3, 4, 5, 6]\n",
    "for number in numbers:\n",
    "    print(number, end = \" \")\n",
    "print(\"\\n\", end = \"\")\n",
    "\n",
    "# range()创建范围的内置函数\n",
    "for number in range(2, 10):\n",
    "    print(number, end = \" \")\n",
    "print(\"\\n\", end = \"\")\n",
    "\n",
    "for number in range(10):\n",
    "    print(number, end = \" \")\n",
    "print(\"\\n\", end = \"\")"
   ]
  },
  {
   "cell_type": "markdown",
   "metadata": {},
   "source": [
    "### break、continue和else"
   ]
  },
  {
   "cell_type": "code",
   "execution_count": 19,
   "metadata": {},
   "outputs": [
    {
     "name": "stdout",
     "output_type": "stream",
     "text": [
      "1*1=1  \n",
      "2*1=2  2*2=4  \n",
      "3*1=3  3*2=6  3*3=9  \n",
      "4*1=4  4*2=8  4*3=12 4*4=16 \n",
      "5*1=5  5*2=10 5*3=15 5*4=20 5*5=25 \n",
      "6*1=6  6*2=12 6*3=18 6*4=24 6*5=30 6*6=36 \n",
      "7*1=7  7*2=14 7*3=21 7*4=28 7*5=35 7*6=42 7*7=49 \n",
      "8*1=8  8*2=16 8*3=24 8*4=32 8*5=40 8*6=48 8*7=56 8*8=64 \n",
      "9*1=9  9*2=18 9*3=27 9*4=36 9*5=45 9*6=54 9*7=63 9*8=72 9*9=81 \n",
      "for循环结束\n"
     ]
    }
   ],
   "source": [
    "for i in range(1,10):\n",
    "    for j in range(1,10):\n",
    "        if j <= i:\n",
    "            print(\"{}*{}={:<2}\".format(i,j,i*j), end = \" \")\n",
    "    print(\"\\n\", end = \"\")\n",
    "else:\n",
    "    print(\"for循环结束\")"
   ]
  },
  {
   "cell_type": "code",
   "execution_count": null,
   "metadata": {},
   "outputs": [],
   "source": [
    "import time\n",
    "start_time = time.perf_counter()\n",
    "for i in range(1,10000):\n",
    "    for j in range(1,10000):\n",
    "        if j > 5: break\n",
    "        if j <= i:\n",
    "            print(\"{}*{}={:<2}\".format(i,j,i*j), end = \" \")\n",
    "    print(\"\\n\", end = \"\")\n",
    "else:\n",
    "    print(\"for循环结束\")\n",
    "during_time = time.perf_counter() - start_time\n",
    "print(during_time)"
   ]
  },
  {
   "cell_type": "code",
   "execution_count": null,
   "metadata": {},
   "outputs": [],
   "source": [
    "import time\n",
    "start_time = time.perf_counter()\n",
    "for i in range(1,10000):\n",
    "    for j in range(1,10000):\n",
    "        if j <= i:\n",
    "            if j > 5: continue\n",
    "            print(\"{}*{}={:<2}\".format(i,j,i*j), end = \" \")\n",
    "    print(\"\\n\", end = \"\")\n",
    "else:\n",
    "    print(\"for循环结束\")\n",
    "during_time = time.perf_counter() - start_time\n",
    "print(during_time)"
   ]
  },
  {
   "cell_type": "markdown",
   "metadata": {},
   "source": [
    "### 打印出10以内的前三个偶数"
   ]
  },
  {
   "cell_type": "code",
   "execution_count": 41,
   "metadata": {},
   "outputs": [
    {
     "name": "stdout",
     "output_type": "stream",
     "text": [
      "0 2 4 "
     ]
    }
   ],
   "source": [
    "i = 1\n",
    "for number in range(10):\n",
    "    if i > 3: \n",
    "        break\n",
    "    elif number%2 == 0:\n",
    "        print(number, end = \" \")\n",
    "        i += 1"
   ]
  },
  {
   "cell_type": "markdown",
   "metadata": {},
   "source": [
    "### 打印出10以内除了2的偶数"
   ]
  },
  {
   "cell_type": "code",
   "execution_count": 68,
   "metadata": {},
   "outputs": [
    {
     "name": "stdout",
     "output_type": "stream",
     "text": [
      "0 4 6 8 "
     ]
    }
   ],
   "source": [
    "for number in range(10):\n",
    "    if number%2 != 0 or number == 2: \n",
    "        continue\n",
    "    print(number, end = \" \")"
   ]
  },
  {
   "cell_type": "markdown",
   "metadata": {},
   "source": [
    "### 打印出2到20内的斐波那契数列 F(1) = 1, F(2) = 1, F(n) = F(n-1) + F(n-2)（n>=2，n∈N*）"
   ]
  },
  {
   "cell_type": "code",
   "execution_count": 22,
   "metadata": {},
   "outputs": [
    {
     "name": "stdout",
     "output_type": "stream",
     "text": [
      "[1, 1, 2, 3, 5, 8, 13]\n"
     ]
    }
   ],
   "source": [
    "list1 = [1, 1]\n",
    "i = len(list1)\n",
    "for number in range(2, 20):\n",
    "    if number == list1[i-1] + list1[i-2]:\n",
    "        list1.append(number)\n",
    "        i += 1\n",
    "print(list1)"
   ]
  },
  {
   "cell_type": "markdown",
   "metadata": {},
   "source": [
    "### 利用莱布尼茨公式计算$\\pi$\n",
    "<font size = 5> $\\frac{\\pi}{4} = 1- \\frac{1}{3} + \\frac{1}{5} - \\frac{1}{7} + \\frac{1}{9}... = \\sum_{n=0}^\\infty \\frac{(-1)^n}{2n+1} $</font>"
   ]
  },
  {
   "cell_type": "code",
   "execution_count": 51,
   "metadata": {},
   "outputs": [
    {
     "name": "stdout",
     "output_type": "stream",
     "text": [
      "3.1415916535897743\n"
     ]
    }
   ],
   "source": [
    "i = 0\n",
    "for n in range(10**6):\n",
    "    i += (-1)**n/(2*n+1)\n",
    "print(4*i)"
   ]
  },
  {
   "cell_type": "code",
   "execution_count": 52,
   "metadata": {},
   "outputs": [
    {
     "name": "stdout",
     "output_type": "stream",
     "text": [
      "3.1415936535887745\n"
     ]
    }
   ],
   "source": [
    "i = 0\n",
    "n = 0\n",
    "while True:\n",
    "    i += (-1)**n/(2*n+1)\n",
    "    n += 1\n",
    "    if n > 10**6: break\n",
    "print(4*i)"
   ]
  },
  {
   "cell_type": "markdown",
   "metadata": {},
   "source": [
    "### 迭代字典"
   ]
  },
  {
   "cell_type": "code",
   "execution_count": 13,
   "metadata": {},
   "outputs": [
    {
     "name": "stdout",
     "output_type": "stream",
     "text": [
      "a corresponds to 1\n",
      "c corresponds to 3\n",
      "b corresponds to 2\n",
      "a corresponds to 1\n",
      "c corresponds to 3\n",
      "b corresponds to 2\n",
      "a corresponds to 1\n",
      "b corresponds to 2\n",
      "c corresponds to 3\n"
     ]
    }
   ],
   "source": [
    "dt = {\"a\":1, \"c\":3, \"b\":2}\n",
    "for key in dt:\n",
    "    print(key, \"corresponds to\", dt[key])\n",
    "for key in dt.keys():\n",
    "    print(key, \"corresponds to\", dt[key])\n",
    "\n",
    "keyslist = list(dt.keys())\n",
    "keyslist.sort()\n",
    "for key in keyslist:\n",
    "    print(key, \"corresponds to\", dt[key])"
   ]
  },
  {
   "cell_type": "markdown",
   "metadata": {},
   "source": [
    "### 对字典进行排序"
   ]
  },
  {
   "cell_type": "code",
   "execution_count": 38,
   "metadata": {},
   "outputs": [
    {
     "name": "stdout",
     "output_type": "stream",
     "text": [
      "{'a': 1, 'b': 2, 'c': 3}\n",
      "{'a': 1, 'd': 1, 'b': 2, 'c': 3}\n"
     ]
    }
   ],
   "source": [
    "dt1 = {\"a\":1, \"c\":3, \"b\":2}\n",
    "dt2 = {}\n",
    "keyslist = list(dt1.keys())\n",
    "keyslist.sort()\n",
    "for key in keyslist:\n",
    "    dt2[key] = dt1[key]\n",
    "print(dt2)\n",
    "\n",
    "dt3 = {\"a\":1, \"c\":3, \"b\":2, \"d\":1}\n",
    "dt4 = {}\n",
    "valueslist = list(dt3.values())\n",
    "valueslist.sort()\n",
    "for value in valueslist:\n",
    "    for key in dt3:\n",
    "        if dt3[key] == value:\n",
    "            dt4[key] = value\n",
    "            break\n",
    "    del dt3[key]\n",
    "print(dt4)"
   ]
  },
  {
   "cell_type": "markdown",
   "metadata": {},
   "source": [
    "### sorted函数-排序"
   ]
  },
  {
   "cell_type": "code",
   "execution_count": 43,
   "metadata": {},
   "outputs": [
    {
     "name": "stdout",
     "output_type": "stream",
     "text": [
      "[1, 2, 3, 4, 5] None\n",
      "[1, 3, 2, 5, 4] [1, 2, 3, 4, 5]\n",
      "{'a': 1, 'c': 3, 'b': 2, 'd': 1} ['a', 'b', 'c', 'd']\n"
     ]
    }
   ],
   "source": [
    "# sort方法原地修改\n",
    "list1 = [1, 3, 2, 5, 4]\n",
    "Slist1 = list1.sort()\n",
    "print(list1, Slist1)\n",
    "\n",
    "#sorted函数返回修改的列表\n",
    "list2 = [1, 3, 2, 5, 4]\n",
    "Slist2 = sorted(list2)\n",
    "print(list2, Slist2)\n",
    "\n",
    "#sorted用于字典对象\n",
    "dt1 = {\"a\":1, \"c\":3, \"b\":2, \"d\":1}\n",
    "dt2 = sorted(dt1)\n",
    "print(dt1, dt2)"
   ]
  },
  {
   "cell_type": "code",
   "execution_count": 55,
   "metadata": {},
   "outputs": [
    {
     "name": "stdout",
     "output_type": "stream",
     "text": [
      "[5, -4, 3, 2, -1]\n",
      "[('a', 1), ('b', 2), ('c', 3), ('d', 1)]\n",
      "[('a', 1), ('d', 1), ('b', 2), ('c', 3)]\n"
     ]
    }
   ],
   "source": [
    "list3 = [-1, 3, -4, 5, 2]\n",
    "#按list3中元素的绝对值降序排列\n",
    "print(sorted(list3, key = lambda x:abs(x), reverse = True))\n",
    "\n",
    "#按dt1中的键排序\n",
    "print(sorted(dt1.items(),key = lambda x:x[0]))\n",
    "#按dt1中的值排序\n",
    "print(sorted(dt1.items(),key = lambda x:x[1]))"
   ]
  },
  {
   "cell_type": "markdown",
   "metadata": {},
   "source": [
    "### zip函数-并行迭代"
   ]
  },
  {
   "cell_type": "code",
   "execution_count": 81,
   "metadata": {},
   "outputs": [
    {
     "name": "stdout",
     "output_type": "stream",
     "text": [
      "[(1, 5), (2, 6), (3, 7), (4, 8)]\n",
      "[(1, 5, 0), (2, 6, 1), (3, 7, 2), (4, 8, 3)]\n",
      "[6, 8, 10, 12]\n",
      "{1: 5, 2: 6, 3: 7, 4: 8}\n"
     ]
    }
   ],
   "source": [
    "list1 = [1, 2, 3, 4]\n",
    "list2 = [5, 6, 7, 8]\n",
    "print(list(zip(list1, list2)))\n",
    "\n",
    "list3 = range(10)\n",
    "print(list(zip(list1, list2, list3)))\n",
    "\n",
    "list4 = []\n",
    "for x, y in zip(list1, list2):\n",
    "    list4.append(x+y)\n",
    "print(list4)\n",
    "\n",
    "#创建字典\n",
    "print(dict(zip(list1, list2)))"
   ]
  },
  {
   "cell_type": "markdown",
   "metadata": {},
   "source": [
    "### enumerate函数"
   ]
  },
  {
   "cell_type": "code",
   "execution_count": 86,
   "metadata": {},
   "outputs": [
    {
     "name": "stdout",
     "output_type": "stream",
     "text": [
      "<enumerate object at 0x0000000005C25280>\n",
      "['title1', 'titleB', 'title3', 'title4']\n",
      "[(3, 'title4'), (2, 'title3'), (1, 'titleB'), (0, 'title1')]\n"
     ]
    }
   ],
   "source": [
    "list1 = [\"title1\", \"title2\", \"title3\", \"title4\"]\n",
    "print(enumerate(list1))\n",
    "for x, y in enumerate(list1):\n",
    "    if \"2\" in y:\n",
    "        list1[x] = \"titleB\"\n",
    "print(list1)\n",
    "\n",
    "#for y in list1:\n",
    "#    if \"2\" in y:\n",
    "#        list1[list1.index(y)] = \"titleB\"\n",
    "#print(list1)\n",
    "\n",
    "print(sorted(enumerate(list1), key = lambda x:x[0]*(-1)))"
   ]
  },
  {
   "cell_type": "markdown",
   "metadata": {},
   "source": [
    "### 列表推导"
   ]
  },
  {
   "cell_type": "code",
   "execution_count": 99,
   "metadata": {},
   "outputs": [
    {
     "name": "stdout",
     "output_type": "stream",
     "text": [
      "[0, 1, 2, 3, 4, 5, 6, 7, 8, 9]\n",
      "[0, 1, 4, 9, 16, 25, 36, 49, 64, 81]\n",
      "[0, 9, 36, 81]\n",
      "[(0, 0), (0, 1), (0, 2), (1, 0), (1, 1), (1, 2), (2, 0), (2, 1), (2, 2)]\n",
      "[0, 3, 6, 0, 4, 8]\n"
     ]
    }
   ],
   "source": [
    "list1 = [i for i in range(10)]\n",
    "print(list1)\n",
    "\n",
    "list2 = [i**2 for i in range(10)]\n",
    "print(list2)\n",
    "\n",
    "list3 = [i**2 for i in range(10) if i%3 == 0]\n",
    "print(list3)\n",
    "\n",
    "list4 = [(i, j) for i in range(3) for j in range(3)]\n",
    "print(list4)\n",
    "\n",
    "list5 = [x*y for x in range(5) if x > 2 for y in range(4) if y < 3]\n",
    "print(list5)"
   ]
  },
  {
   "cell_type": "markdown",
   "metadata": {},
   "source": [
    "### 字典推导"
   ]
  },
  {
   "cell_type": "code",
   "execution_count": 102,
   "metadata": {},
   "outputs": [
    {
     "name": "stdout",
     "output_type": "stream",
     "text": [
      "5 suqared is 25\n",
      "{1: 46, 2: 44, 3: 22, 4: 80}\n"
     ]
    }
   ],
   "source": [
    "squares = {i:\"{} suqared is {}\".format(i, i**2) for i in range(10)}\n",
    "print(squares[5])\n",
    "\n",
    "import random\n",
    "randomdict = {i:random.randint(10, 100) for i in range(1, 5)}\n",
    "print(randomdict)"
   ]
  },
  {
   "cell_type": "markdown",
   "metadata": {},
   "source": [
    "### os模块"
   ]
  },
  {
   "cell_type": "code",
   "execution_count": null,
   "metadata": {
    "scrolled": true
   },
   "outputs": [],
   "source": [
    "import os\n",
    "#系统操作\n",
    "print(os.name) #获取操作系统名\n",
    "print(os.sep) #获取当前操作系统的路径分隔符\n",
    "print(os.getenv(\"PATH\")) #获取环境变量名的值\n",
    "CurrentDir = os.getcwd() #获取当前工作目录\n",
    "print(CurrentDir)"
   ]
  },
  {
   "cell_type": "code",
   "execution_count": null,
   "metadata": {},
   "outputs": [],
   "source": [
    "#目录操作\n",
    "print(os.listdir(os.getcwd())) #返回指定目录下的所有文件和目录名\n",
    "os.mkdir(\"test\") #创建一个目录(指定目录名字符串)\n",
    "os.rmdir(\"test\") #删除一个空目录(指定目录名字符串)\n",
    "os.makedirs(r\"test\\01\") #创建一个多层递归目录(指定目录绝对或相对路径)\n",
    "#os.removedirs(r\"test\\01\") #删除一个多层递归的空目录(指定目录绝对或相对路径)\n",
    "os.chdir(r\"test\") #改变当前工作目录到指定目录中\n",
    "print(os.getcwd()) \n",
    "os.rename(\"01\", \"02\") #重命名目录名或者文件名\n",
    "os.chdir(CurrentDir)\n",
    "list(os.walk(CurrentDir)) #遍历指定目录下的所有文件夹和文件\n",
    "os.removedirs(r\"test\\02\")"
   ]
  },
  {
   "cell_type": "markdown",
   "metadata": {},
   "source": [
    "### os.path模块"
   ]
  },
  {
   "cell_type": "code",
   "execution_count": null,
   "metadata": {},
   "outputs": [],
   "source": [
    "#os.makedirs(r\"test\\01\")\n",
    "print(os.path.exists(r\"test\\01\")) #判断文件或者目录是否存在\n",
    "print(os.path.isfile(r\"test\\01\")) #判断是否为文件\n",
    "print(os.path.isdir(r\"test\\01\")) #判断是否为目录\n",
    "print(os.path.abspath(r\"test\\01\")) #返回绝对路径\n",
    "print(os.path.basename(r\"test\\01\")) #返回文件或目录名\n",
    "print(os.path.dirname(r\"test\\01\")) #返回文件或目录所在的目录路径\n",
    "print(os.path.split(r\"test\\01\")) #拆分为dirname和basename\n",
    "print(os.path.join(\"test\", \"01\")) #将dirname和basename合成为路径"
   ]
  },
  {
   "cell_type": "markdown",
   "metadata": {},
   "source": [
    "### 创建和删除文件"
   ]
  },
  {
   "cell_type": "code",
   "execution_count": 46,
   "metadata": {},
   "outputs": [],
   "source": [
    "# os.mknod(\"test.txt\") # linux环境可用\n",
    "file = open(\"test.txt\", \"w\")\n",
    "file.close() #关闭文件\n",
    "os.remove(\"test.txt\") #删除文件"
   ]
  },
  {
   "cell_type": "markdown",
   "metadata": {},
   "source": [
    "### 在当前工作目录下创建含有\"a01\", \"b02\", \"c03\", \"d04\", \"e05\", \"f06\"子目录的\"calculation目录\"，并在每个子目录下创建名字为POSCAR的文件"
   ]
  },
  {
   "cell_type": "code",
   "execution_count": 2,
   "metadata": {},
   "outputs": [],
   "source": [
    "import os\n",
    "CurrentDir1 = os.getcwd()\n",
    "# 创建calculation目录\n",
    "os.mkdir(\"calculation\")\n",
    "os.chdir(\"calculation\")\n",
    "CurrentDir2 = os.getcwd()\n",
    "# 创建子目录\n",
    "stringname = [chr(i) for i in range(97, 103)]\n",
    "numbername = [i for i in range(1,7)]\n",
    "for i in range(6):\n",
    "    os.mkdir(stringname[i]+\"0\"+str(numbername[i]))\n",
    "    os.chdir(stringname[i]+\"0\"+str(numbername[i]))\n",
    "    file = open(\"POSCAR\", \"w\")\n",
    "    file.close()\n",
    "    os.chdir(CurrentDir2)\n",
    "os.chdir(CurrentDir1)"
   ]
  },
  {
   "cell_type": "markdown",
   "metadata": {},
   "source": [
    "### 修改文件"
   ]
  },
  {
   "cell_type": "code",
   "execution_count": 6,
   "metadata": {},
   "outputs": [],
   "source": [
    "# 创建文件a.txt\n",
    "file_a = open(\"a.txt\", \"w\")\n",
    "\n",
    "\n",
    "# 在文件a.txt中写入文本\n",
    "file_a.write(\"10 0 0\")\n",
    "file_a.write(\"\\n\")\n",
    "file_a.write(\"0 10 0\")\n",
    "file_a.write(\"\\n\")\n",
    "print(\"0 0 10\", file = file_a)\n",
    "print(\"坐标为：\", file = file_a)\n",
    "print(\"0 0 0\", file = file_a)\n",
    "print(\"0.5 0.5 0.5\", file = file_a)\n",
    "\n",
    "# 关闭文件a.txt\n",
    "file_a.close()"
   ]
  },
  {
   "cell_type": "code",
   "execution_count": 17,
   "metadata": {},
   "outputs": [],
   "source": [
    "# 创建文件b.txt\n",
    "file_b = open(\"b.txt\", \"w\")\n",
    "\n",
    "# 利用文件a.txt中的内容编写b.txt\n",
    "file_a = open(\"a.txt\")\n",
    "Cellvector = []\n",
    "for i in range(3):\n",
    "    stringline = file_a.readline().strip()\n",
    "    print(stringline, file = file_b)\n",
    "    Cellvector.append(stringline.strip().split(\" \"))\n",
    "#print(Cellvector)\n",
    "stringline = file_a.readline().strip()\n",
    "print(stringline, file = file_b)\n",
    "for i in range(2):\n",
    "    stringline = file_a.readline().strip().split(\" \")\n",
    "    Convertline = [0]*3\n",
    "    for j in range(3):\n",
    "        for k in range(3):\n",
    "            Convertline[j] += float(Cellvector[j][k]) * float(stringline[k])\n",
    "        Convertline[j] = str(Convertline[j])\n",
    "    print(\" \".join(Convertline), file = file_b)\n",
    "\n",
    "# 关闭文件a.txt和b.txt\n",
    "file_a.close()\n",
    "file_b.close()"
   ]
  },
  {
   "cell_type": "markdown",
   "metadata": {},
   "source": [
    "### 课后作业"
   ]
  },
  {
   "cell_type": "markdown",
   "metadata": {},
   "source": [
    "### 判断某一年是否会闰年（四年一闰，百年不闰，四百年再闰）\n",
    "### 符合条件之一为闰年：1能被4整除而不能被100整除，2能被400整除"
   ]
  },
  {
   "cell_type": "code",
   "execution_count": 4,
   "metadata": {},
   "outputs": [
    {
     "name": "stdout",
     "output_type": "stream",
     "text": [
      "2020是闰年\n"
     ]
    }
   ],
   "source": [
    "year = int(input(\"输入一个年份: \"))\n",
    "if year % 4 == 0 and year % 100 != 0 or year % 400 == 0:\n",
    "    print(\"{0}是闰年\".format(year))\n",
    "else:\n",
    "    print(\"{0}不是闰年\".format(year))\n"
   ]
  },
  {
   "cell_type": "markdown",
   "metadata": {},
   "source": [
    "### 求1000以内最大的20个质数的和"
   ]
  },
  {
   "cell_type": "code",
   "execution_count": 2,
   "metadata": {},
   "outputs": [
    {
     "name": "stdout",
     "output_type": "stream",
     "text": [
      "18580\n"
     ]
    }
   ],
   "source": [
    "def primeJudge(n):\n",
    "    if n <= 1:\n",
    "        return False\n",
    "    for i in range(2, int(n**0.5)+1):\n",
    "        if n%i == 0:\n",
    "            return False\n",
    "    return True\n",
    "\n",
    "primes = []\n",
    "num = 1000\n",
    "while len(primes) < 20 and num >= 1:\n",
    "    if primeJudge(num):\n",
    "        primes.append(num)\n",
    "    num -= 1\n",
    "    \n",
    "print(sum(primes))"
   ]
  },
  {
   "cell_type": "markdown",
   "metadata": {},
   "source": [
    "### 求自然对数e的近似值\n",
    "<font size = 5> $e = \\sum_{n=0}^\\infty \\frac{1}{n!} $</font>"
   ]
  },
  {
   "cell_type": "code",
   "execution_count": 7,
   "metadata": {},
   "outputs": [
    {
     "name": "stdout",
     "output_type": "stream",
     "text": [
      "2.7182818284590455\n"
     ]
    }
   ],
   "source": [
    "e = 1\n",
    "factNum = 1\n",
    "for n in range(1,10**5):\n",
    "    factNum = factNum * n\n",
    "    e += 1/factNum\n",
    "print(e)"
   ]
  }
 ],
 "metadata": {
  "kernelspec": {
   "display_name": "Python 3",
   "language": "python",
   "name": "python3"
  },
  "language_info": {
   "codemirror_mode": {
    "name": "ipython",
    "version": 3
   },
   "file_extension": ".py",
   "mimetype": "text/x-python",
   "name": "python",
   "nbconvert_exporter": "python",
   "pygments_lexer": "ipython3",
   "version": "3.11.5"
  }
 },
 "nbformat": 4,
 "nbformat_minor": 4
}
