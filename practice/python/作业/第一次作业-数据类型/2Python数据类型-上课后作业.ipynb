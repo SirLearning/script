{
 "cells": [
  {
   "cell_type": "code",
   "execution_count": 4,
   "metadata": {},
   "outputs": [
    {
     "name": "stdout",
     "output_type": "stream",
     "text": [
      "圆周率的值是： 3.142669677734375\n",
      "运行时间是： 0.6107156999933068 s\n"
     ]
    }
   ],
   "source": [
    "import random ,math,time\n",
    "DARTS = int(2**20)\n",
    "hits = 0;\n",
    "start_time = time.perf_counter()\n",
    "for i in range(1,DARTS):\n",
    "    x,y = random.random(),random.random()\n",
    "    dist = math.sqrt(x**2 + y**2)\n",
    "    if dist <= 1.0:\n",
    "        hits = hits + 1\n",
    "pi = 4 * (hits/DARTS)\n",
    "print(\"圆周率的值是：\",pi)\n",
    "during_time = time.perf_counter() - start_time\n",
    "print(\"运行时间是：\",during_time,\"s\")"
   ]
  },
  {
   "cell_type": "markdown",
   "metadata": {},
   "source": [
    "### 课后作业1 格式化打印价格列表，请补全如下代码"
   ]
  },
  {
   "cell_type": "code",
   "execution_count": 6,
   "metadata": {},
   "outputs": [
    {
     "name": "stdout",
     "output_type": "stream",
     "text": [
      "==================================================\n",
      "Item                                         Price\n",
      "--------------------------------------------------\n",
      "Apple                                         4.00\n",
      "Watermelon                                    2.00\n",
      "Peach                                         5.00\n",
      "==================================================\n"
     ]
    }
   ],
   "source": [
    "#定义各输出字段的宽度\n",
    "width = input(\"请输入价格表总字符宽度：\")\n",
    "price_width = 10\n",
    "############补充代码#############\n",
    "width = int(width)\n",
    "#################################\n",
    "item_width = width - price_width\n",
    "\n",
    "############补充代码#############\n",
    "#定义格式化方式\n",
    "head = \"{{:<{}}}\".format(item_width) + \"{{:>{}}}\".format(price_width)\n",
    "body = \"{{:<{}}}\".format(item_width) + \"{{:>{}.2f}}\".format(price_width)\n",
    "#################################\n",
    "\n",
    "#打印价格列表\n",
    "print(\"=\"*width)\n",
    "print(head.format(\"Item\",\"Price\"))\n",
    "print(\"-\"*width)\n",
    "print(body.format(\"Apple\",4.0))\n",
    "print(body.format(\"Watermelon\",2.0))\n",
    "print(body.format(\"Peach\",5.0))\n",
    "print(\"=\"*width)"
   ]
  },
  {
   "cell_type": "markdown",
   "metadata": {},
   "source": [
    "### 课后作业2 打印格式化动态进度条"
   ]
  },
  {
   "cell_type": "code",
   "execution_count": 1,
   "metadata": {},
   "outputs": [
    {
     "name": "stdout",
     "output_type": "stream",
     "text": [
      "\n",
      "                       开始计算                       \n"
     ]
    }
   ],
   "source": [
    "import random\n",
    "import math\n",
    "import time\n",
    "DARTS = int(2**10)\n",
    "hits = 0\n",
    "\n",
    "############补充代码#############\n",
    "print(\"\\n{:^50}\".format(\"开始计算\"))\n",
    "#################################\n",
    "\n",
    "start_time = time.perf_counter()\n",
    "for i in range(1,DARTS):\n",
    "    x, y = random.random(), random.random()\n",
    "    dist = math.sqrt(x**2 + y**2)\n",
    "    if dist <= 1.0:\n",
    "        hits = hits + 1\n",
    "    #进度百分比\n",
    "    percentage = round(i/DARTS*100)\n",
    "    star = \"*\"*round(i/DARTS*50)\n",
    "    dot = \".\"*(50-round(i/DARTS*50))\n",
    "    during_time = time.perf_counter() - start_time\n",
    "    ############补充代码#############\n",
    "    print(\"\\r{:3}%[{}{}-> {:.2f}s]\".format(percentage, star, dot, during_time), end=\"\")\n",
    "    #################################\n",
    "\n",
    "############补充代码#############\n",
    "print(\"\\n{:^50}\".format(\"计算结束\"))\n",
    "#################################\n",
    "\n",
    "pi = 4 * (hits/DARTS)\n",
    "print(\"Pi的值是\", pi)\n",
    "during_time = time.perf_counter() - start_time\n",
    "print(\"程序运行时间是\", during_time)"
   ]
  }
 ],
 "metadata": {
  "kernelspec": {
   "display_name": "Python 3",
   "language": "python",
   "name": "python3"
  },
  "language_info": {
   "codemirror_mode": {
    "name": "ipython",
    "version": 3
   },
   "file_extension": ".py",
   "mimetype": "text/x-python",
   "name": "python",
   "nbconvert_exporter": "python",
   "pygments_lexer": "ipython3",
   "version": "3.11.5"
  }
 },
 "nbformat": 4,
 "nbformat_minor": 4
}
