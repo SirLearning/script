{
 "cells": [
  {
   "cell_type": "markdown",
   "metadata": {},
   "source": [
    "## 《Python程序设计》2023秋季\n",
    "**<font size=4>5 Python函数</font>**\n",
    "\n",
    "**机械科学与工程学院  刘潇**\n",
    "\n",
    "本节要点包括：\n",
    "- 掌握函数的定义和使用方法\n",
    "- 掌握Python函数参数动态性的特点\n",
    "- 理解命名空间和作用域\n",
    "- 理解参数传递规则和匹配模式"
   ]
  },
  {
   "cell_type": "markdown",
   "metadata": {},
   "source": [
    "### 学生数据库"
   ]
  },
  {
   "cell_type": "code",
   "execution_count": 1,
   "metadata": {
    "scrolled": true,
    "ExecuteTime": {
     "end_time": "2024-01-21T14:42:01.161913Z",
     "start_time": "2024-01-21T14:42:01.158203Z"
    }
   },
   "outputs": [
    {
     "name": "stdout",
     "output_type": "stream",
     "text": [
      "[['zhang3', 'U202011054'], ['li4', 'U202011055'], ['wang5', 'U202011056']]\n",
      "[['zhang3', 'U202011054'], ['li4', 'U202011055'], ['wang5', 'U202011056'], ['ma6', 'U202011057']]\n"
     ]
    }
   ],
   "source": [
    "a = [\"zhang3\", \"U202011054\"]\n",
    "b = [\"li4\", \"U202011055\"]\n",
    "c = [\"wang5\",\"U202011056\"]\n",
    "student = [a, b, c]\n",
    "print(student)\n",
    "\n",
    "# 增加新同学ma6的信息\n",
    "d = [\"ma6\", \"U202011057\"]\n",
    "student.append(d)\n",
    "print(student)"
   ]
  },
  {
   "cell_type": "code",
   "execution_count": null,
   "metadata": {},
   "outputs": [],
   "source": [
    "a = [\"zhang3\", \"U202011054\"]\n",
    "b = [\"li4\", \"U202011055\"]\n",
    "c = [\"wang5\",\"U202011056\"]\n",
    "student = [a, b, c]\n",
    "print(student)\n",
    "\n",
    "# 增加新同学的信息\n",
    "def addnewstudent(name, ID):\n",
    "    newstudent = [name, ID]\n",
    "    student.append(newstudent)\n",
    "    return student\n",
    "\n",
    "print(addnewstudent(\"ma6\",\"U202011057\"))\n",
    "print(addnewstudent(\"xiaoming\", \"U202011058\"))"
   ]
  },
  {
   "cell_type": "markdown",
   "metadata": {},
   "source": [
    "### 打印出2到20内的斐波那契数列 F(1) = 1, F(2) = 1, F(n) = F(n-1) + F(n-2)（n>=2，n∈N*）"
   ]
  },
  {
   "cell_type": "code",
   "execution_count": null,
   "metadata": {},
   "outputs": [],
   "source": [
    "list1 = [1, 1]\n",
    "i = len(list1)\n",
    "for number in range(2, 20):\n",
    "    if number == list1[i-1] + list1[i-2]:\n",
    "        list1.append(number)\n",
    "        i += 1\n",
    "print(list1)"
   ]
  },
  {
   "cell_type": "code",
   "execution_count": null,
   "metadata": {},
   "outputs": [],
   "source": [
    "def fib_list(n):\n",
    "    list1 = [1, 1]\n",
    "    i = len(list1)\n",
    "    for number in range(2, n):\n",
    "        if number == list1[i-1] + list1[i-2]:\n",
    "            list1.append(number)\n",
    "            i += 1\n",
    "    return list1\n",
    "\n",
    "print(fib_list(20))\n",
    "print(fib_list(200))"
   ]
  },
  {
   "cell_type": "markdown",
   "metadata": {},
   "source": [
    "### f(x)=x*x函数定义"
   ]
  },
  {
   "cell_type": "code",
   "execution_count": 2,
   "metadata": {
    "ExecuteTime": {
     "end_time": "2024-01-21T14:50:18.756372Z",
     "start_time": "2024-01-21T14:50:18.719941Z"
    }
   },
   "outputs": [
    {
     "name": "stdout",
     "output_type": "stream",
     "text": [
      "4\n",
      "Help on function square in module __main__:\n",
      "\n",
      "square(x)\n",
      "    计算x的平方\n",
      "\n",
      "计算x的平方\n"
     ]
    }
   ],
   "source": [
    "def square(x):\n",
    "    \"计算x的平方\"\n",
    "    y = x*x\n",
    "    return y\n",
    "\n",
    "print(square(2))\n",
    "\n",
    "# 查看注释\n",
    "help(square)\n",
    "print(square.__doc__)"
   ]
  },
  {
   "cell_type": "code",
   "execution_count": null,
   "metadata": {},
   "outputs": [],
   "source": [
    "def square(x):\n",
    "    \"计算x的平方\"\n",
    "    y = x*x\n",
    "    return y,x\n",
    "\n",
    "square(2)"
   ]
  },
  {
   "cell_type": "markdown",
   "metadata": {},
   "source": [
    "### 参数的动态性"
   ]
  },
  {
   "cell_type": "code",
   "execution_count": 3,
   "metadata": {
    "ExecuteTime": {
     "end_time": "2024-01-21T14:51:20.461107Z",
     "start_time": "2024-01-21T14:51:20.417242Z"
    }
   },
   "outputs": [
    {
     "data": {
      "text/plain": "8"
     },
     "execution_count": 3,
     "metadata": {},
     "output_type": "execute_result"
    }
   ],
   "source": [
    "def times(x,y):\n",
    "    return x*y\n",
    "\n",
    "times(2,4)"
   ]
  },
  {
   "cell_type": "code",
   "execution_count": 4,
   "metadata": {
    "ExecuteTime": {
     "end_time": "2024-01-21T14:51:28.529112Z",
     "start_time": "2024-01-21T14:51:28.494808Z"
    }
   },
   "outputs": [
    {
     "data": {
      "text/plain": "'hellohellohellohello'"
     },
     "execution_count": 4,
     "metadata": {},
     "output_type": "execute_result"
    }
   ],
   "source": [
    "times(\"hello\",4)"
   ]
  },
  {
   "cell_type": "code",
   "execution_count": 6,
   "metadata": {
    "ExecuteTime": {
     "end_time": "2024-01-21T14:51:34.240275Z",
     "start_time": "2024-01-21T14:51:34.201457Z"
    }
   },
   "outputs": [
    {
     "data": {
      "text/plain": "[1, 2]"
     },
     "execution_count": 6,
     "metadata": {},
     "output_type": "execute_result"
    }
   ],
   "source": [
    "def intersect(seq1, seq2):\n",
    "    list1 = []\n",
    "    for x in seq1:\n",
    "        if x in seq2:\n",
    "            list1.append(x)\n",
    "    return list1\n",
    "\n",
    "intersect([1,2,3,4], (1,2))"
   ]
  },
  {
   "cell_type": "markdown",
   "metadata": {},
   "source": [
    "### 函数调用"
   ]
  },
  {
   "cell_type": "code",
   "execution_count": null,
   "metadata": {},
   "outputs": [],
   "source": [
    "times(2,4)\n",
    "\n",
    "def times(x,y):\n",
    "    return x*y"
   ]
  },
  {
   "cell_type": "code",
   "execution_count": null,
   "metadata": {},
   "outputs": [],
   "source": [
    "print(dir())"
   ]
  },
  {
   "cell_type": "code",
   "execution_count": null,
   "metadata": {},
   "outputs": [],
   "source": [
    "def times(x,y):\n",
    "    return x*y\n",
    "print(dir())"
   ]
  },
  {
   "cell_type": "markdown",
   "metadata": {},
   "source": [
    "### 命名空间"
   ]
  },
  {
   "cell_type": "code",
   "execution_count": 7,
   "metadata": {
    "ExecuteTime": {
     "end_time": "2024-01-21T14:52:56.223663Z",
     "start_time": "2024-01-21T14:52:56.200990Z"
    }
   },
   "outputs": [
    {
     "name": "stdout",
     "output_type": "stream",
     "text": [
      "['ArithmeticError', 'AssertionError', 'AttributeError', 'BaseException', 'BaseExceptionGroup', 'BlockingIOError', 'BrokenPipeError', 'BufferError', 'BytesWarning', 'ChildProcessError', 'ConnectionAbortedError', 'ConnectionError', 'ConnectionRefusedError', 'ConnectionResetError', 'DeprecationWarning', 'EOFError', 'Ellipsis', 'EncodingWarning', 'EnvironmentError', 'Exception', 'ExceptionGroup', 'False', 'FileExistsError', 'FileNotFoundError', 'FloatingPointError', 'FutureWarning', 'GeneratorExit', 'IOError', 'ImportError', 'ImportWarning', 'IndentationError', 'IndexError', 'InterruptedError', 'IsADirectoryError', 'KeyError', 'KeyboardInterrupt', 'LookupError', 'MemoryError', 'ModuleNotFoundError', 'NameError', 'None', 'NotADirectoryError', 'NotImplemented', 'NotImplementedError', 'OSError', 'OverflowError', 'PendingDeprecationWarning', 'PermissionError', 'ProcessLookupError', 'RecursionError', 'ReferenceError', 'ResourceWarning', 'RuntimeError', 'RuntimeWarning', 'StopAsyncIteration', 'StopIteration', 'SyntaxError', 'SyntaxWarning', 'SystemError', 'SystemExit', 'TabError', 'TimeoutError', 'True', 'TypeError', 'UnboundLocalError', 'UnicodeDecodeError', 'UnicodeEncodeError', 'UnicodeError', 'UnicodeTranslateError', 'UnicodeWarning', 'UserWarning', 'ValueError', 'Warning', 'ZeroDivisionError', '__IPYTHON__', '__build_class__', '__debug__', '__doc__', '__import__', '__loader__', '__name__', '__package__', '__spec__', 'abs', 'aiter', 'all', 'anext', 'any', 'ascii', 'bin', 'bool', 'breakpoint', 'bytearray', 'bytes', 'callable', 'chr', 'classmethod', 'compile', 'complex', 'copyright', 'credits', 'delattr', 'dict', 'dir', 'display', 'divmod', 'enumerate', 'eval', 'exec', 'execfile', 'filter', 'float', 'format', 'frozenset', 'get_ipython', 'getattr', 'globals', 'hasattr', 'hash', 'help', 'hex', 'id', 'input', 'int', 'isinstance', 'issubclass', 'iter', 'len', 'license', 'list', 'locals', 'map', 'max', 'memoryview', 'min', 'next', 'object', 'oct', 'open', 'ord', 'pow', 'print', 'property', 'range', 'repr', 'reversed', 'round', 'runfile', 'set', 'setattr', 'slice', 'sorted', 'staticmethod', 'str', 'sum', 'super', 'tuple', 'type', 'vars', 'zip']\n"
     ]
    }
   ],
   "source": [
    "print(dir(__builtin__))"
   ]
  },
  {
   "cell_type": "code",
   "execution_count": 8,
   "metadata": {
    "ExecuteTime": {
     "end_time": "2024-01-21T14:54:48.790397Z",
     "start_time": "2024-01-21T14:54:48.745207Z"
    }
   },
   "outputs": [
    {
     "name": "stdout",
     "output_type": "stream",
     "text": [
      "{'__name__': 'builtins', '__doc__': \"Built-in functions, types, exceptions, and other objects.\\n\\nThis module provides direct access to all 'built-in'\\nidentifiers of Python; for example, builtins.len is\\nthe full name for the built-in function len().\\n\\nThis module is not normally accessed explicitly by most\\napplications, but can be useful in modules that provide\\nobjects with the same name as a built-in value, but in\\nwhich the built-in of that name is also needed.\", '__package__': '', '__loader__': <class '_frozen_importlib.BuiltinImporter'>, '__spec__': ModuleSpec(name='builtins', loader=<class '_frozen_importlib.BuiltinImporter'>, origin='built-in'), '__build_class__': <built-in function __build_class__>, '__import__': <built-in function __import__>, 'abs': <built-in function abs>, 'all': <built-in function all>, 'any': <built-in function any>, 'ascii': <built-in function ascii>, 'bin': <built-in function bin>, 'breakpoint': <built-in function breakpoint>, 'callable': <built-in function callable>, 'chr': <built-in function chr>, 'compile': <built-in function compile>, 'delattr': <built-in function delattr>, 'dir': <built-in function dir>, 'divmod': <built-in function divmod>, 'eval': <built-in function eval>, 'exec': <built-in function exec>, 'format': <built-in function format>, 'getattr': <built-in function getattr>, 'globals': <built-in function globals>, 'hasattr': <built-in function hasattr>, 'hash': <built-in function hash>, 'hex': <built-in function hex>, 'id': <built-in function id>, 'input': <bound method Kernel.raw_input of <ipykernel.ipkernel.IPythonKernel object at 0x104545650>>, 'isinstance': <built-in function isinstance>, 'issubclass': <built-in function issubclass>, 'iter': <built-in function iter>, 'aiter': <built-in function aiter>, 'len': <built-in function len>, 'locals': <built-in function locals>, 'max': <built-in function max>, 'min': <built-in function min>, 'next': <built-in function next>, 'anext': <built-in function anext>, 'oct': <built-in function oct>, 'ord': <built-in function ord>, 'pow': <built-in function pow>, 'print': <built-in function print>, 'repr': <built-in function repr>, 'round': <built-in function round>, 'setattr': <built-in function setattr>, 'sorted': <built-in function sorted>, 'sum': <built-in function sum>, 'vars': <built-in function vars>, 'None': None, 'Ellipsis': Ellipsis, 'NotImplemented': NotImplemented, 'False': False, 'True': True, 'bool': <class 'bool'>, 'memoryview': <class 'memoryview'>, 'bytearray': <class 'bytearray'>, 'bytes': <class 'bytes'>, 'classmethod': <class 'classmethod'>, 'complex': <class 'complex'>, 'dict': <class 'dict'>, 'enumerate': <class 'enumerate'>, 'filter': <class 'filter'>, 'float': <class 'float'>, 'frozenset': <class 'frozenset'>, 'property': <class 'property'>, 'int': <class 'int'>, 'list': <class 'list'>, 'map': <class 'map'>, 'object': <class 'object'>, 'range': <class 'range'>, 'reversed': <class 'reversed'>, 'set': <class 'set'>, 'slice': <class 'slice'>, 'staticmethod': <class 'staticmethod'>, 'str': <class 'str'>, 'super': <class 'super'>, 'tuple': <class 'tuple'>, 'type': <class 'type'>, 'zip': <class 'zip'>, '__debug__': True, 'BaseException': <class 'BaseException'>, 'BaseExceptionGroup': <class 'BaseExceptionGroup'>, 'Exception': <class 'Exception'>, 'GeneratorExit': <class 'GeneratorExit'>, 'KeyboardInterrupt': <class 'KeyboardInterrupt'>, 'SystemExit': <class 'SystemExit'>, 'ArithmeticError': <class 'ArithmeticError'>, 'AssertionError': <class 'AssertionError'>, 'AttributeError': <class 'AttributeError'>, 'BufferError': <class 'BufferError'>, 'EOFError': <class 'EOFError'>, 'ImportError': <class 'ImportError'>, 'LookupError': <class 'LookupError'>, 'MemoryError': <class 'MemoryError'>, 'NameError': <class 'NameError'>, 'OSError': <class 'OSError'>, 'ReferenceError': <class 'ReferenceError'>, 'RuntimeError': <class 'RuntimeError'>, 'StopAsyncIteration': <class 'StopAsyncIteration'>, 'StopIteration': <class 'StopIteration'>, 'SyntaxError': <class 'SyntaxError'>, 'SystemError': <class 'SystemError'>, 'TypeError': <class 'TypeError'>, 'ValueError': <class 'ValueError'>, 'Warning': <class 'Warning'>, 'FloatingPointError': <class 'FloatingPointError'>, 'OverflowError': <class 'OverflowError'>, 'ZeroDivisionError': <class 'ZeroDivisionError'>, 'BytesWarning': <class 'BytesWarning'>, 'DeprecationWarning': <class 'DeprecationWarning'>, 'EncodingWarning': <class 'EncodingWarning'>, 'FutureWarning': <class 'FutureWarning'>, 'ImportWarning': <class 'ImportWarning'>, 'PendingDeprecationWarning': <class 'PendingDeprecationWarning'>, 'ResourceWarning': <class 'ResourceWarning'>, 'RuntimeWarning': <class 'RuntimeWarning'>, 'SyntaxWarning': <class 'SyntaxWarning'>, 'UnicodeWarning': <class 'UnicodeWarning'>, 'UserWarning': <class 'UserWarning'>, 'BlockingIOError': <class 'BlockingIOError'>, 'ChildProcessError': <class 'ChildProcessError'>, 'ConnectionError': <class 'ConnectionError'>, 'FileExistsError': <class 'FileExistsError'>, 'FileNotFoundError': <class 'FileNotFoundError'>, 'InterruptedError': <class 'InterruptedError'>, 'IsADirectoryError': <class 'IsADirectoryError'>, 'NotADirectoryError': <class 'NotADirectoryError'>, 'PermissionError': <class 'PermissionError'>, 'ProcessLookupError': <class 'ProcessLookupError'>, 'TimeoutError': <class 'TimeoutError'>, 'IndentationError': <class 'IndentationError'>, 'IndexError': <class 'IndexError'>, 'KeyError': <class 'KeyError'>, 'ModuleNotFoundError': <class 'ModuleNotFoundError'>, 'NotImplementedError': <class 'NotImplementedError'>, 'RecursionError': <class 'RecursionError'>, 'UnboundLocalError': <class 'UnboundLocalError'>, 'UnicodeError': <class 'UnicodeError'>, 'BrokenPipeError': <class 'BrokenPipeError'>, 'ConnectionAbortedError': <class 'ConnectionAbortedError'>, 'ConnectionRefusedError': <class 'ConnectionRefusedError'>, 'ConnectionResetError': <class 'ConnectionResetError'>, 'TabError': <class 'TabError'>, 'UnicodeDecodeError': <class 'UnicodeDecodeError'>, 'UnicodeEncodeError': <class 'UnicodeEncodeError'>, 'UnicodeTranslateError': <class 'UnicodeTranslateError'>, 'ExceptionGroup': <class 'ExceptionGroup'>, 'EnvironmentError': <class 'OSError'>, 'IOError': <class 'OSError'>, 'open': <built-in function open>, 'copyright': Copyright (c) 2001-2023 Python Software Foundation.\n",
      "All Rights Reserved.\n",
      "\n",
      "Copyright (c) 2000 BeOpen.com.\n",
      "All Rights Reserved.\n",
      "\n",
      "Copyright (c) 1995-2001 Corporation for National Research Initiatives.\n",
      "All Rights Reserved.\n",
      "\n",
      "Copyright (c) 1991-1995 Stichting Mathematisch Centrum, Amsterdam.\n",
      "All Rights Reserved., 'credits':     Thanks to CWI, CNRI, BeOpen.com, Zope Corporation and a cast of thousands\n",
      "    for supporting Python development.  See www.python.org for more information., 'license': Type license() to see the full license text, 'help': Type help() for interactive help, or help(object) for help about object., 'execfile': <function execfile at 0x104086840>, 'runfile': <function runfile at 0x10417a5c0>, '__IPYTHON__': True, 'display': <function display at 0x102f393a0>, 'get_ipython': <bound method InteractiveShell.get_ipython of <ipykernel.zmqshell.ZMQInteractiveShell object at 0x104546d90>>}\n"
     ]
    }
   ],
   "source": [
    "print(vars(__builtin__))"
   ]
  },
  {
   "cell_type": "code",
   "execution_count": 14,
   "metadata": {},
   "outputs": [
    {
     "name": "stdout",
     "output_type": "stream",
     "text": [
      "local 3\n",
      "enclosing function locals 2\n",
      "enclosing function locals 2\n",
      "global 1\n"
     ]
    },
    {
     "ename": "NameError",
     "evalue": "name 'var3' is not defined",
     "output_type": "error",
     "traceback": [
      "\u001B[1;31m---------------------------------------------------------------------------\u001B[0m",
      "\u001B[1;31mNameError\u001B[0m                                 Traceback (most recent call last)",
      "\u001B[1;32m<ipython-input-14-b5fb33048505>\u001B[0m in \u001B[0;36m<module>\u001B[1;34m\u001B[0m\n\u001B[0;32m     12\u001B[0m \u001B[0mfunc\u001B[0m\u001B[1;33m(\u001B[0m\u001B[1;33m)\u001B[0m\u001B[1;33m\u001B[0m\u001B[1;33m\u001B[0m\u001B[0m\n\u001B[0;32m     13\u001B[0m \u001B[0mprint\u001B[0m\u001B[1;33m(\u001B[0m\u001B[1;34m\"global\"\u001B[0m\u001B[1;33m,\u001B[0m \u001B[0mvar1\u001B[0m\u001B[1;33m)\u001B[0m\u001B[1;33m\u001B[0m\u001B[1;33m\u001B[0m\u001B[0m\n\u001B[1;32m---> 14\u001B[1;33m \u001B[0mprint\u001B[0m\u001B[1;33m(\u001B[0m\u001B[1;34m\"local\"\u001B[0m\u001B[1;33m,\u001B[0m \u001B[0mvar3\u001B[0m\u001B[1;33m)\u001B[0m\u001B[1;33m\u001B[0m\u001B[1;33m\u001B[0m\u001B[0m\n\u001B[0m",
      "\u001B[1;31mNameError\u001B[0m: name 'var3' is not defined"
     ]
    }
   ],
   "source": [
    "var1 = 1 \n",
    "\n",
    "def func():\n",
    "    var2 = 2 \n",
    "    def innerfunc():\n",
    "        var3 = 3 \n",
    "        print(\"local\", var3)\n",
    "        print(\"enclosing function locals\", var2)\n",
    "    innerfunc()\n",
    "    print(\"enclosing function locals\", var2)\n",
    "\n",
    "func()\n",
    "print(\"global\", var1)\n",
    "print(\"local\", var3)"
   ]
  },
  {
   "cell_type": "code",
   "execution_count": 17,
   "metadata": {},
   "outputs": [
    {
     "name": "stdout",
     "output_type": "stream",
     "text": [
      "local 3\n",
      "{'var3': 3}\n",
      "enclosing function locals 2\n",
      "{'var2': 2, 'innerfunc': <function func.<locals>.innerfunc at 0x0000000005BF0C10>}\n",
      "global 1\n"
     ]
    }
   ],
   "source": [
    "var1 = 1 \n",
    "\n",
    "def func():\n",
    "    var2 = 2 \n",
    "    def innerfunc():\n",
    "        var3 = 3 \n",
    "        print(\"local\", var3)\n",
    "        # print(\"enclosing function locals\", var2)\n",
    "        print(vars())\n",
    "    innerfunc()\n",
    "    print(\"enclosing function locals\", var2)\n",
    "    print(vars())\n",
    "    # print(\"enclosing function locals\", var3)\n",
    "    \n",
    "func()\n",
    "print(\"global\", var1)"
   ]
  },
  {
   "cell_type": "markdown",
   "metadata": {},
   "source": [
    "### LEGB规则"
   ]
  },
  {
   "cell_type": "code",
   "execution_count": null,
   "metadata": {},
   "outputs": [],
   "source": [
    "a = 1\n",
    "\n",
    "def f():\n",
    "    a = 2\n",
    "    print(a)\n",
    "\n",
    "def g():\n",
    "    pass\n",
    "\n",
    "def func():\n",
    "    name = 1\n",
    "    def inner_func():\n",
    "        print(a)\n",
    "    inner_func()\n",
    "\n",
    "func()"
   ]
  },
  {
   "cell_type": "code",
   "execution_count": 18,
   "metadata": {},
   "outputs": [
    {
     "name": "stdout",
     "output_type": "stream",
     "text": [
      "local 3\n",
      "enclosing 2\n",
      "global 1\n"
     ]
    }
   ],
   "source": [
    "x = 1\n",
    "\n",
    "def func():\n",
    "    x = 2\n",
    "    def innerfunc():\n",
    "        x = 3\n",
    "        print(\"local\", x)\n",
    "    innerfunc()\n",
    "    print(\"enclosing\", x)\n",
    "\n",
    "func()\n",
    "print(\"global\", x)"
   ]
  },
  {
   "cell_type": "code",
   "execution_count": 19,
   "metadata": {},
   "outputs": [
    {
     "name": "stdout",
     "output_type": "stream",
     "text": [
      "local 2\n",
      "enclosing 2\n",
      "global 1\n"
     ]
    }
   ],
   "source": [
    "x = 1\n",
    "\n",
    "def func():\n",
    "    x = 2\n",
    "    def innerfunc():\n",
    "        # x = 3\n",
    "        print(\"local\", x)\n",
    "    innerfunc()\n",
    "    print(\"enclosing\", x)\n",
    "\n",
    "func()\n",
    "print(\"global\", x)"
   ]
  },
  {
   "cell_type": "markdown",
   "metadata": {},
   "source": [
    "### 作用域"
   ]
  },
  {
   "cell_type": "code",
   "execution_count": 21,
   "metadata": {},
   "outputs": [
    {
     "name": "stdout",
     "output_type": "stream",
     "text": [
      "1\n",
      "enclosing 2\n",
      "global 1\n"
     ]
    }
   ],
   "source": [
    "x = 1 # 全局变量\n",
    "\n",
    "def func():\n",
    "    x = 2 # 局部变量\n",
    "    def innerfunc():\n",
    "        global x # 全局变量\n",
    "        print(x)\n",
    "    innerfunc()\n",
    "    print(\"enclosing\", x)\n",
    "\n",
    "func()\n",
    "print(\"global\", x)"
   ]
  },
  {
   "cell_type": "code",
   "execution_count": 22,
   "metadata": {},
   "outputs": [
    {
     "name": "stdout",
     "output_type": "stream",
     "text": [
      "3\n",
      "enclosing 2\n",
      "global 3\n"
     ]
    }
   ],
   "source": [
    "x = 1 # 全局变量\n",
    "\n",
    "def func():\n",
    "    x = 2 # 局部变量\n",
    "    def innerfunc():\n",
    "        global x # 全局变量\n",
    "        x = 3\n",
    "        print(x)\n",
    "    innerfunc()\n",
    "    print(\"enclosing\", x)\n",
    "\n",
    "func()\n",
    "print(\"global\", x)"
   ]
  },
  {
   "cell_type": "markdown",
   "metadata": {},
   "source": [
    "### globals()和locals()函数"
   ]
  },
  {
   "cell_type": "code",
   "execution_count": 7,
   "metadata": {},
   "outputs": [
    {
     "name": "stdout",
     "output_type": "stream",
     "text": [
      "True False\n",
      "True\n",
      "True True\n",
      "False False\n"
     ]
    }
   ],
   "source": [
    "a = 1 # 全局变量\n",
    "\n",
    "def func():\n",
    "    b = 2 # 局部变量\n",
    "    def innerfunc():\n",
    "        global c # 全局变量\n",
    "        c = 3\n",
    "        print(\"c\" in globals(), \"c\" in locals())       \n",
    "    innerfunc()\n",
    "    print(\"b\" in locals())\n",
    "    \n",
    "func()\n",
    "print(\"a\" in globals(), \"c\" in globals())\n",
    "print(\"b\" in globals(), \"b\" in locals())"
   ]
  },
  {
   "cell_type": "markdown",
   "metadata": {},
   "source": [
    "### 同名全局和局部变量引用"
   ]
  },
  {
   "cell_type": "code",
   "execution_count": 24,
   "metadata": {},
   "outputs": [
    {
     "name": "stdout",
     "output_type": "stream",
     "text": [
      "True True\n",
      "2 1\n"
     ]
    }
   ],
   "source": [
    "a = 1 # 全局变量\n",
    "\n",
    "def func():\n",
    "    a = 2 # 相同名字的局部变量\n",
    "    print(\"a\" in globals(), \"a\" in locals())\n",
    "    print(a, globals()[\"a\"])\n",
    "    \n",
    "func()"
   ]
  },
  {
   "cell_type": "code",
   "execution_count": 25,
   "metadata": {},
   "outputs": [
    {
     "name": "stdout",
     "output_type": "stream",
     "text": [
      "True True\n",
      "2 1\n",
      "3 1\n"
     ]
    }
   ],
   "source": [
    "a = 1 # 全局变量\n",
    "\n",
    "def func():\n",
    "    a = 2 # 相同名字的局部变量\n",
    "    print(\"a\" in globals(), \"a\" in locals())\n",
    "    print(a, globals()[\"a\"])\n",
    "    def innerfunc():\n",
    "        nonlocal a\n",
    "        a = 3 # 相同名字的局部变量\n",
    "    innerfunc()\n",
    "    print(a, globals()[\"a\"])\n",
    "    \n",
    "func()"
   ]
  },
  {
   "cell_type": "markdown",
   "metadata": {},
   "source": [
    "### 局部变量静态检测"
   ]
  },
  {
   "cell_type": "code",
   "execution_count": 9,
   "metadata": {
    "ExecuteTime": {
     "end_time": "2024-01-21T15:09:29.985910Z",
     "start_time": "2024-01-21T15:09:29.864173Z"
    }
   },
   "outputs": [
    {
     "ename": "UnboundLocalError",
     "evalue": "cannot access local variable 'a' where it is not associated with a value",
     "output_type": "error",
     "traceback": [
      "\u001B[0;31m---------------------------------------------------------------------------\u001B[0m",
      "\u001B[0;31mUnboundLocalError\u001B[0m                         Traceback (most recent call last)",
      "Cell \u001B[0;32mIn[9], line 7\u001B[0m\n\u001B[1;32m      4\u001B[0m     \u001B[38;5;28mprint\u001B[39m(a)\n\u001B[1;32m      5\u001B[0m     a \u001B[38;5;241m=\u001B[39m \u001B[38;5;241m2\u001B[39m\n\u001B[0;32m----> 7\u001B[0m \u001B[43mfunc\u001B[49m\u001B[43m(\u001B[49m\u001B[43m)\u001B[49m\n",
      "Cell \u001B[0;32mIn[9], line 4\u001B[0m, in \u001B[0;36mfunc\u001B[0;34m()\u001B[0m\n\u001B[1;32m      3\u001B[0m \u001B[38;5;28;01mdef\u001B[39;00m \u001B[38;5;21mfunc\u001B[39m():\n\u001B[0;32m----> 4\u001B[0m     \u001B[38;5;28mprint\u001B[39m(\u001B[43ma\u001B[49m)\n\u001B[1;32m      5\u001B[0m     a \u001B[38;5;241m=\u001B[39m \u001B[38;5;241m2\u001B[39m\n",
      "\u001B[0;31mUnboundLocalError\u001B[0m: cannot access local variable 'a' where it is not associated with a value"
     ]
    }
   ],
   "source": [
    "a = 1 # 全局变量\n",
    "\n",
    "def func():\n",
    "    print(a)\n",
    "    a = 2\n",
    "    \n",
    "func()"
   ]
  },
  {
   "cell_type": "code",
   "execution_count": 1,
   "metadata": {},
   "outputs": [
    {
     "ename": "UnboundLocalError",
     "evalue": "local variable 'a' referenced before assignment",
     "output_type": "error",
     "traceback": [
      "\u001B[1;31m---------------------------------------------------------------------------\u001B[0m",
      "\u001B[1;31mUnboundLocalError\u001B[0m                         Traceback (most recent call last)",
      "\u001B[1;32m<ipython-input-1-0cbd633de724>\u001B[0m in \u001B[0;36m<module>\u001B[1;34m\u001B[0m\n\u001B[0;32m      5\u001B[0m     \u001B[0mprint\u001B[0m\u001B[1;33m(\u001B[0m\u001B[0ma\u001B[0m\u001B[1;33m)\u001B[0m\u001B[1;33m\u001B[0m\u001B[1;33m\u001B[0m\u001B[0m\n\u001B[0;32m      6\u001B[0m \u001B[1;33m\u001B[0m\u001B[0m\n\u001B[1;32m----> 7\u001B[1;33m \u001B[0mfunc\u001B[0m\u001B[1;33m(\u001B[0m\u001B[1;33m)\u001B[0m\u001B[1;33m\u001B[0m\u001B[1;33m\u001B[0m\u001B[0m\n\u001B[0m",
      "\u001B[1;32m<ipython-input-1-0cbd633de724>\u001B[0m in \u001B[0;36mfunc\u001B[1;34m()\u001B[0m\n\u001B[0;32m      2\u001B[0m \u001B[1;33m\u001B[0m\u001B[0m\n\u001B[0;32m      3\u001B[0m \u001B[1;32mdef\u001B[0m \u001B[0mfunc\u001B[0m\u001B[1;33m(\u001B[0m\u001B[1;33m)\u001B[0m\u001B[1;33m:\u001B[0m\u001B[1;33m\u001B[0m\u001B[1;33m\u001B[0m\u001B[0m\n\u001B[1;32m----> 4\u001B[1;33m     \u001B[0ma\u001B[0m \u001B[1;33m=\u001B[0m \u001B[0ma\u001B[0m \u001B[1;33m+\u001B[0m \u001B[1;36m1\u001B[0m\u001B[1;33m\u001B[0m\u001B[1;33m\u001B[0m\u001B[0m\n\u001B[0m\u001B[0;32m      5\u001B[0m     \u001B[0mprint\u001B[0m\u001B[1;33m(\u001B[0m\u001B[0ma\u001B[0m\u001B[1;33m)\u001B[0m\u001B[1;33m\u001B[0m\u001B[1;33m\u001B[0m\u001B[0m\n\u001B[0;32m      6\u001B[0m \u001B[1;33m\u001B[0m\u001B[0m\n",
      "\u001B[1;31mUnboundLocalError\u001B[0m: local variable 'a' referenced before assignment"
     ]
    }
   ],
   "source": [
    "a = 1 # 全局变量\n",
    "\n",
    "def func():\n",
    "    a = a + 1\n",
    "    print(a)\n",
    "\n",
    "func()"
   ]
  },
  {
   "cell_type": "markdown",
   "metadata": {},
   "source": [
    "### 函数返回函数（闭包）"
   ]
  },
  {
   "cell_type": "code",
   "execution_count": 29,
   "metadata": {},
   "outputs": [
    {
     "name": "stdout",
     "output_type": "stream",
     "text": [
      "func1's list1 = [1]\n",
      "func1's list1 = [1, 2]\n",
      "func1's list1 = [1, 2, 3]\n",
      "func2's list1 = [1]\n",
      "func2's list1 = [1, 2]\n",
      "func1's list1 = [1, 2, 3, 4]\n"
     ]
    }
   ],
   "source": [
    "def func():\n",
    "    list1 = []\n",
    "    def innerfunc(funcname):\n",
    "        list1.append(len(list1)+1)\n",
    "        print(\"{}\\'s list1 = {}\".format(funcname, list1))\n",
    "    return innerfunc\n",
    "\n",
    "func1 = func()\n",
    "func1(\"func1\")\n",
    "func1(\"func1\")\n",
    "func1(\"func1\")\n",
    "func2 = func()\n",
    "func2(\"func2\")\n",
    "func2(\"func2\")\n",
    "func1(\"func1\")"
   ]
  },
  {
   "cell_type": "code",
   "execution_count": 3,
   "metadata": {},
   "outputs": [
    {
     "name": "stdout",
     "output_type": "stream",
     "text": [
      "4\n",
      "4\n",
      "4\n"
     ]
    }
   ],
   "source": [
    "def func():\n",
    "    func_list1 = []\n",
    "    for i in range(3):\n",
    "        def innerfunc(x): # 未传入i的默认值\n",
    "            return x*i\n",
    "        func_list1.append(innerfunc)\n",
    "    return func_list1\n",
    "\n",
    "func1 = func()\n",
    "print(func1[0](2))\n",
    "print(func1[1](2))\n",
    "print(func1[2](2))    "
   ]
  },
  {
   "cell_type": "code",
   "execution_count": 4,
   "metadata": {},
   "outputs": [
    {
     "name": "stdout",
     "output_type": "stream",
     "text": [
      "0\n",
      "2\n",
      "4\n"
     ]
    }
   ],
   "source": [
    "def func():\n",
    "    func_list1 = []\n",
    "    for i in range(3):\n",
    "        def innerfunc(x, j=i): # 传入j的默认值\n",
    "            return x*j\n",
    "        func_list1.append(innerfunc)\n",
    "    return func_list1\n",
    "\n",
    "func1 = func()\n",
    "print(func1[0](2))\n",
    "print(func1[1](2))\n",
    "print(func1[2](2))    "
   ]
  },
  {
   "cell_type": "code",
   "execution_count": 47,
   "metadata": {},
   "outputs": [
    {
     "name": "stdout",
     "output_type": "stream",
     "text": [
      "0\n",
      "2\n",
      "4\n"
     ]
    }
   ],
   "source": [
    "func_list1 = []\n",
    "for i in range(3):\n",
    "    def func():\n",
    "        y = i # y是自由变量\n",
    "        def innerfunc(x):\n",
    "            return x*y \n",
    "        return innerfunc\n",
    "    func_list1.append(func())\n",
    "\n",
    "print(func_list1[0](2))\n",
    "print(func_list1[1](2))\n",
    "print(func_list1[2](2))    "
   ]
  },
  {
   "cell_type": "code",
   "execution_count": 1,
   "metadata": {},
   "outputs": [
    {
     "name": "stdout",
     "output_type": "stream",
     "text": [
      "[10, 0]\n",
      "[15, 10]\n",
      "[10, 10]\n",
      "[15, 15]\n",
      "[5, 10]\n"
     ]
    }
   ],
   "source": [
    "# 棋盘游戏\n",
    "\n",
    "def createpoint(startposition): # 落子\n",
    "    pos = startposition\n",
    "    def go(direction, step): # 走子\n",
    "        new_x = pos[0] + direction[0]*step\n",
    "        new_y = pos[1] + direction[1]*step\n",
    "        pos[0] = new_x\n",
    "        pos[1] = new_y\n",
    "        return pos\n",
    "    return go\n",
    "\n",
    "point1 = createpoint([0,0]) # 落第一个棋子\n",
    "print(point1([10,0], 1))\n",
    "point2 = createpoint([10,10]) # 落第二个棋子\n",
    "print(point2([5, 0], 1))\n",
    "print(point1([0,10], 1))\n",
    "print(point2([0, 5], 1))\n",
    "print(point1([-1,0], 5))"
   ]
  },
  {
   "cell_type": "markdown",
   "metadata": {},
   "source": [
    "### 参数传递规则"
   ]
  },
  {
   "cell_type": "code",
   "execution_count": 1,
   "metadata": {},
   "outputs": [
    {
     "name": "stdout",
     "output_type": "stream",
     "text": [
      "1 2\n",
      "2 1\n",
      "1 2\n"
     ]
    }
   ],
   "source": [
    "def func(a, b):\n",
    "    c = a\n",
    "    a = b\n",
    "    b = c\n",
    "    print(a, b)\n",
    "\n",
    "a = 1\n",
    "b = 2\n",
    "print(a, b)\n",
    "func(a, b)\n",
    "print(a, b)"
   ]
  },
  {
   "cell_type": "code",
   "execution_count": 5,
   "metadata": {},
   "outputs": [
    {
     "name": "stdout",
     "output_type": "stream",
     "text": [
      "[1] [2]\n",
      "[2] [1]\n",
      "[2] [1]\n"
     ]
    }
   ],
   "source": [
    "def func(a, b):\n",
    "    c = a[0]\n",
    "    a[0] = b[0]\n",
    "    b[0] = c\n",
    "    print(a, b)\n",
    "\n",
    "a = [1]\n",
    "b = [2]\n",
    "print(a, b)\n",
    "func(a, b)\n",
    "print(a, b)"
   ]
  },
  {
   "cell_type": "code",
   "execution_count": 11,
   "metadata": {},
   "outputs": [
    {
     "name": "stdout",
     "output_type": "stream",
     "text": [
      "1 2 8791702648608 8791702648640\n",
      "2 1 8791702648640 8791702648608\n",
      "1 2 8791702648608 8791702648640\n"
     ]
    }
   ],
   "source": [
    "def func(a, b):\n",
    "    c = a\n",
    "    a = b\n",
    "    b = c\n",
    "    print(a, b, id(a), id(b))\n",
    "\n",
    "a = 1\n",
    "b = 2\n",
    "print(a, b, id(a), id(b))\n",
    "func(a, b)\n",
    "print(a, b, id(a), id(b))"
   ]
  },
  {
   "cell_type": "code",
   "execution_count": 12,
   "metadata": {},
   "outputs": [
    {
     "name": "stdout",
     "output_type": "stream",
     "text": [
      "[1] [2] 95650304 95622720\n",
      "[2] [1] 95650304 95622720\n",
      "[2] [1] 95650304 95622720\n"
     ]
    }
   ],
   "source": [
    "def func(a, b):\n",
    "    c = a[0]\n",
    "    a[0] = b[0]\n",
    "    b[0] = c\n",
    "    print(a, b, id(a), id(b))\n",
    "\n",
    "a = [1]\n",
    "b = [2]\n",
    "print(a, b, id(a), id(b))\n",
    "func(a, b)\n",
    "print(a, b, id(a), id(b))"
   ]
  },
  {
   "cell_type": "code",
   "execution_count": 16,
   "metadata": {},
   "outputs": [
    {
     "name": "stdout",
     "output_type": "stream",
     "text": [
      "8791702648608\n",
      "8791702648608\n",
      "8791702648896\n"
     ]
    }
   ],
   "source": [
    "def func(a):\n",
    "    print(id(a))\n",
    "    a = 10\n",
    "    print(id(a))\n",
    "\n",
    "a = 1\n",
    "print(id(a))\n",
    "func(a)"
   ]
  },
  {
   "cell_type": "code",
   "execution_count": 17,
   "metadata": {},
   "outputs": [
    {
     "ename": "TypeError",
     "evalue": "'tuple' object does not support item assignment",
     "output_type": "error",
     "traceback": [
      "\u001B[1;31m---------------------------------------------------------------------------\u001B[0m",
      "\u001B[1;31mTypeError\u001B[0m                                 Traceback (most recent call last)",
      "\u001B[1;32m<ipython-input-17-4af4d7f61b3f>\u001B[0m in \u001B[0;36m<module>\u001B[1;34m\u001B[0m\n\u001B[0;32m      3\u001B[0m \u001B[1;33m\u001B[0m\u001B[0m\n\u001B[0;32m      4\u001B[0m \u001B[0ma\u001B[0m \u001B[1;33m=\u001B[0m \u001B[1;33m(\u001B[0m\u001B[1;36m1\u001B[0m\u001B[1;33m,\u001B[0m \u001B[1;36m2\u001B[0m\u001B[1;33m,\u001B[0m \u001B[1;36m3\u001B[0m\u001B[1;33m)\u001B[0m\u001B[1;33m\u001B[0m\u001B[1;33m\u001B[0m\u001B[0m\n\u001B[1;32m----> 5\u001B[1;33m \u001B[0mfunc\u001B[0m\u001B[1;33m(\u001B[0m\u001B[0ma\u001B[0m\u001B[1;33m)\u001B[0m\u001B[1;33m\u001B[0m\u001B[1;33m\u001B[0m\u001B[0m\n\u001B[0m",
      "\u001B[1;32m<ipython-input-17-4af4d7f61b3f>\u001B[0m in \u001B[0;36mfunc\u001B[1;34m(a)\u001B[0m\n\u001B[0;32m      1\u001B[0m \u001B[1;32mdef\u001B[0m \u001B[0mfunc\u001B[0m\u001B[1;33m(\u001B[0m\u001B[0ma\u001B[0m\u001B[1;33m)\u001B[0m\u001B[1;33m:\u001B[0m\u001B[1;33m\u001B[0m\u001B[1;33m\u001B[0m\u001B[0m\n\u001B[1;32m----> 2\u001B[1;33m     \u001B[0ma\u001B[0m\u001B[1;33m[\u001B[0m\u001B[1;36m2\u001B[0m\u001B[1;33m]\u001B[0m \u001B[1;33m=\u001B[0m \u001B[1;36m4\u001B[0m\u001B[1;33m\u001B[0m\u001B[1;33m\u001B[0m\u001B[0m\n\u001B[0m\u001B[0;32m      3\u001B[0m \u001B[1;33m\u001B[0m\u001B[0m\n\u001B[0;32m      4\u001B[0m \u001B[0ma\u001B[0m \u001B[1;33m=\u001B[0m \u001B[1;33m(\u001B[0m\u001B[1;36m1\u001B[0m\u001B[1;33m,\u001B[0m \u001B[1;36m2\u001B[0m\u001B[1;33m,\u001B[0m \u001B[1;36m3\u001B[0m\u001B[1;33m)\u001B[0m\u001B[1;33m\u001B[0m\u001B[1;33m\u001B[0m\u001B[0m\n\u001B[0;32m      5\u001B[0m \u001B[0mfunc\u001B[0m\u001B[1;33m(\u001B[0m\u001B[0ma\u001B[0m\u001B[1;33m)\u001B[0m\u001B[1;33m\u001B[0m\u001B[1;33m\u001B[0m\u001B[0m\n",
      "\u001B[1;31mTypeError\u001B[0m: 'tuple' object does not support item assignment"
     ]
    }
   ],
   "source": [
    "def func(a):\n",
    "    a[2] = 4\n",
    "\n",
    "a = (1, 2, 3)\n",
    "func(a)"
   ]
  },
  {
   "cell_type": "code",
   "execution_count": 26,
   "metadata": {},
   "outputs": [
    {
     "name": "stdout",
     "output_type": "stream",
     "text": [
      "[1, 2, 3] 95599872\n",
      "[1, 2, 3] 95599872\n",
      "[1, 2, 3, 4] 95599872\n",
      "[1, 2, 3, 4] 95599872\n"
     ]
    }
   ],
   "source": [
    "def func(a):\n",
    "    print(a, id(a))\n",
    "    a.append(4)\n",
    "    print(a, id(a))\n",
    "\n",
    "a = [1, 2, 3]\n",
    "print(a, id(a))\n",
    "func(a)\n",
    "print(a, id(a))"
   ]
  },
  {
   "cell_type": "code",
   "execution_count": 27,
   "metadata": {},
   "outputs": [
    {
     "name": "stdout",
     "output_type": "stream",
     "text": [
      "{'x': 1, 'y': 2} 96542592\n",
      "{'x': 1, 'y': 2} 96542592\n",
      "{'x': 2, 'y': 2} 96542592\n",
      "{'x': 2, 'y': 2} 96542592\n"
     ]
    }
   ],
   "source": [
    "def func(a):\n",
    "    print(a, id(a))\n",
    "    a[\"x\"] = 2\n",
    "    print(a, id(a))\n",
    "\n",
    "a = {\"x\": 1, \"y\": 2}\n",
    "print(a, id(a))\n",
    "func(a)\n",
    "print(a, id(a))"
   ]
  },
  {
   "cell_type": "code",
   "execution_count": 25,
   "metadata": {},
   "outputs": [
    {
     "name": "stdout",
     "output_type": "stream",
     "text": [
      "[1, 2, 3] 95626048\n",
      "[1, 2, 3] 95626048\n",
      "[1, 2, 3, 4] 95580800\n",
      "[1, 2, 3] 95626048\n"
     ]
    }
   ],
   "source": [
    "def func(a):\n",
    "    print(a, id(a))\n",
    "    a = [1, 2, 3, 4]\n",
    "    print(a, id(a))\n",
    "\n",
    "a = [1, 2, 3]\n",
    "print(a, id(a))\n",
    "func(a)\n",
    "print(a, id(a))"
   ]
  },
  {
   "cell_type": "code",
   "execution_count": 31,
   "metadata": {
    "scrolled": true
   },
   "outputs": [
    {
     "name": "stdout",
     "output_type": "stream",
     "text": [
      "[1, 2] (1, 2, [1, 2]) 95622144 95842368\n",
      "[1, 2] (1, 2, [1, 2]) 95622144 95842368\n",
      "[1, 2, 3] (1, 2, [1, 2, 3]) 95622144 95842368\n",
      "[1, 2, 3] (1, 2, [1, 2, 3]) 95622144 95842368\n"
     ]
    }
   ],
   "source": [
    "def func(a):\n",
    "    print(a, b, id(a), id(b))\n",
    "    a.append(3)\n",
    "    print(a, b, id(a), id(b))\n",
    "\n",
    "a = [1, 2]\n",
    "b = (1, 2, a)\n",
    "print(a, b, id(a), id(b))\n",
    "func(a)\n",
    "print(a, b, id(a), id(b))"
   ]
  },
  {
   "cell_type": "code",
   "execution_count": 32,
   "metadata": {},
   "outputs": [
    {
     "name": "stdout",
     "output_type": "stream",
     "text": [
      "[1, 2, 3] 95377344\n",
      "[1, 2, 3] 96498624\n",
      "[1, 2, 3, 4] 96498624\n",
      "[1, 2, 3] 95377344\n"
     ]
    }
   ],
   "source": [
    "def func(a):\n",
    "    print(a, id(a))\n",
    "    a.append(4)\n",
    "    print(a, id(a))\n",
    "\n",
    "a = [1, 2, 3]\n",
    "print(a, id(a))\n",
    "func(a[:])\n",
    "print(a, id(a))"
   ]
  },
  {
   "cell_type": "markdown",
   "metadata": {},
   "source": [
    "### 参数匹配"
   ]
  },
  {
   "cell_type": "code",
   "execution_count": 10,
   "metadata": {
    "ExecuteTime": {
     "end_time": "2024-01-21T15:13:22.862188Z",
     "start_time": "2024-01-21T15:13:22.821907Z"
    }
   },
   "outputs": [
    {
     "data": {
      "text/plain": "6"
     },
     "execution_count": 10,
     "metadata": {},
     "output_type": "execute_result"
    }
   ],
   "source": [
    "def func(a, b, c):\n",
    "    return a + b + c\n",
    "    \n",
    "func(1, 2, 3) # 位置参数匹配"
   ]
  },
  {
   "cell_type": "code",
   "execution_count": 39,
   "metadata": {},
   "outputs": [
    {
     "data": {
      "text/plain": [
       "6"
      ]
     },
     "execution_count": 39,
     "metadata": {},
     "output_type": "execute_result"
    }
   ],
   "source": [
    "func(1, 2, c = 3) # 关键字参数匹配"
   ]
  },
  {
   "cell_type": "code",
   "execution_count": 11,
   "metadata": {
    "ExecuteTime": {
     "end_time": "2024-01-21T15:14:23.855580Z",
     "start_time": "2024-01-21T15:14:23.812027Z"
    }
   },
   "outputs": [
    {
     "data": {
      "text/plain": "3"
     },
     "execution_count": 11,
     "metadata": {},
     "output_type": "execute_result"
    }
   ],
   "source": [
    "def func(a, b, c):\n",
    "    return a + b\n",
    "\n",
    "func(1, c = 3, b = 2)"
   ]
  },
  {
   "cell_type": "code",
   "execution_count": 45,
   "metadata": {},
   "outputs": [
    {
     "ename": "SyntaxError",
     "evalue": "positional argument follows keyword argument (<ipython-input-45-3410fa8c6f5f>, line 1)",
     "output_type": "error",
     "traceback": [
      "\u001B[1;36m  File \u001B[1;32m\"<ipython-input-45-3410fa8c6f5f>\"\u001B[1;36m, line \u001B[1;32m1\u001B[0m\n\u001B[1;33m    func(c = 3, b = 2, 1)\u001B[0m\n\u001B[1;37m                       ^\u001B[0m\n\u001B[1;31mSyntaxError\u001B[0m\u001B[1;31m:\u001B[0m positional argument follows keyword argument\n"
     ]
    }
   ],
   "source": [
    "func(c = 3, b = 2, 1)"
   ]
  },
  {
   "cell_type": "code",
   "execution_count": 46,
   "metadata": {},
   "outputs": [
    {
     "ename": "TypeError",
     "evalue": "func() missing 1 required positional argument: 'c'",
     "output_type": "error",
     "traceback": [
      "\u001B[1;31m---------------------------------------------------------------------------\u001B[0m",
      "\u001B[1;31mTypeError\u001B[0m                                 Traceback (most recent call last)",
      "\u001B[1;32m<ipython-input-46-926cddb2ffb8>\u001B[0m in \u001B[0;36m<module>\u001B[1;34m\u001B[0m\n\u001B[1;32m----> 1\u001B[1;33m \u001B[0mfunc\u001B[0m\u001B[1;33m(\u001B[0m\u001B[1;36m1\u001B[0m\u001B[1;33m,\u001B[0m \u001B[0mb\u001B[0m \u001B[1;33m=\u001B[0m \u001B[1;36m2\u001B[0m\u001B[1;33m)\u001B[0m\u001B[1;33m\u001B[0m\u001B[1;33m\u001B[0m\u001B[0m\n\u001B[0m",
      "\u001B[1;31mTypeError\u001B[0m: func() missing 1 required positional argument: 'c'"
     ]
    }
   ],
   "source": [
    "func(1, b = 2)"
   ]
  },
  {
   "cell_type": "code",
   "execution_count": 33,
   "metadata": {},
   "outputs": [
    {
     "name": "stdout",
     "output_type": "stream",
     "text": [
      "Help on built-in function print in module builtins:\n",
      "\n",
      "print(...)\n",
      "    print(value, ..., sep=' ', end='\\n', file=sys.stdout, flush=False)\n",
      "    \n",
      "    Prints the values to a stream, or to sys.stdout by default.\n",
      "    Optional keyword arguments:\n",
      "    file:  a file-like object (stream); defaults to the current sys.stdout.\n",
      "    sep:   string inserted between values, default a space.\n",
      "    end:   string appended after the last value, default a newline.\n",
      "    flush: whether to forcibly flush the stream.\n"
     ]
    }
   ],
   "source": [
    "help(print)"
   ]
  },
  {
   "cell_type": "code",
   "execution_count": 86,
   "metadata": {},
   "outputs": [
    {
     "data": {
      "text/plain": [
       "6"
      ]
     },
     "execution_count": 86,
     "metadata": {},
     "output_type": "execute_result"
    }
   ],
   "source": [
    "def func(a, b, c = 3):\n",
    "    return a + b + c\n",
    "\n",
    "func(1, b = 2)"
   ]
  },
  {
   "cell_type": "code",
   "execution_count": 87,
   "metadata": {},
   "outputs": [
    {
     "data": {
      "text/plain": [
       "7"
      ]
     },
     "execution_count": 87,
     "metadata": {},
     "output_type": "execute_result"
    }
   ],
   "source": [
    "func(1, b = 2, c = 4)"
   ]
  },
  {
   "cell_type": "code",
   "execution_count": 88,
   "metadata": {},
   "outputs": [
    {
     "data": {
      "text/plain": [
       "7"
      ]
     },
     "execution_count": 88,
     "metadata": {},
     "output_type": "execute_result"
    }
   ],
   "source": [
    "func(1, c = 4, b = 2)"
   ]
  },
  {
   "cell_type": "code",
   "execution_count": 51,
   "metadata": {},
   "outputs": [
    {
     "ename": "SyntaxError",
     "evalue": "non-default argument follows default argument (<ipython-input-51-5920de32dfc2>, line 1)",
     "output_type": "error",
     "traceback": [
      "\u001B[1;36m  File \u001B[1;32m\"<ipython-input-51-5920de32dfc2>\"\u001B[1;36m, line \u001B[1;32m1\u001B[0m\n\u001B[1;33m    def func(a, c = 3, b):\u001B[0m\n\u001B[1;37m             ^\u001B[0m\n\u001B[1;31mSyntaxError\u001B[0m\u001B[1;31m:\u001B[0m non-default argument follows default argument\n"
     ]
    }
   ],
   "source": [
    "def func(a, c = 3, b):\n",
    "    return a + b + c\n",
    "\n",
    "func(1, b = 2)"
   ]
  },
  {
   "cell_type": "markdown",
   "metadata": {},
   "source": [
    "### 元组可变参数"
   ]
  },
  {
   "cell_type": "code",
   "execution_count": 59,
   "metadata": {},
   "outputs": [
    {
     "name": "stdout",
     "output_type": "stream",
     "text": [
      "1 2 (3,)\n",
      "1 2 (3, 4, 5, 6)\n"
     ]
    }
   ],
   "source": [
    "def func(a, b, *c):\n",
    "    print(a, b, c)\n",
    "\n",
    "func(1, 2, 3)\n",
    "func(1, 2, 3, 4, 5, 6)"
   ]
  },
  {
   "cell_type": "code",
   "execution_count": 60,
   "metadata": {},
   "outputs": [
    {
     "name": "stdout",
     "output_type": "stream",
     "text": [
      "1 2 (0, 1, 2, 3, 4)\n"
     ]
    }
   ],
   "source": [
    "func(1, 2, *tuple(range(5)))"
   ]
  },
  {
   "cell_type": "code",
   "execution_count": 61,
   "metadata": {},
   "outputs": [
    {
     "name": "stdout",
     "output_type": "stream",
     "text": [
      "1 2 ((0, 1, 2, 3, 4),)\n"
     ]
    }
   ],
   "source": [
    "func(1, 2, tuple(range(5)))"
   ]
  },
  {
   "cell_type": "code",
   "execution_count": 57,
   "metadata": {},
   "outputs": [
    {
     "ename": "TypeError",
     "evalue": "func() takes 3 positional arguments but 7 were given",
     "output_type": "error",
     "traceback": [
      "\u001B[1;31m---------------------------------------------------------------------------\u001B[0m",
      "\u001B[1;31mTypeError\u001B[0m                                 Traceback (most recent call last)",
      "\u001B[1;32m<ipython-input-57-ae46cc8e9211>\u001B[0m in \u001B[0;36m<module>\u001B[1;34m\u001B[0m\n\u001B[0;32m      1\u001B[0m \u001B[1;32mdef\u001B[0m \u001B[0mfunc\u001B[0m\u001B[1;33m(\u001B[0m\u001B[0ma\u001B[0m\u001B[1;33m,\u001B[0m \u001B[0mb\u001B[0m\u001B[1;33m,\u001B[0m \u001B[0mc\u001B[0m\u001B[1;33m)\u001B[0m\u001B[1;33m:\u001B[0m\u001B[1;33m\u001B[0m\u001B[1;33m\u001B[0m\u001B[0m\n\u001B[0;32m      2\u001B[0m     \u001B[0mprint\u001B[0m\u001B[1;33m(\u001B[0m\u001B[0ma\u001B[0m\u001B[1;33m,\u001B[0m \u001B[0mb\u001B[0m\u001B[1;33m,\u001B[0m \u001B[0mc\u001B[0m\u001B[1;33m)\u001B[0m\u001B[1;33m\u001B[0m\u001B[1;33m\u001B[0m\u001B[0m\n\u001B[1;32m----> 3\u001B[1;33m \u001B[0mfunc\u001B[0m\u001B[1;33m(\u001B[0m\u001B[1;36m1\u001B[0m\u001B[1;33m,\u001B[0m \u001B[1;36m2\u001B[0m\u001B[1;33m,\u001B[0m \u001B[1;33m*\u001B[0m\u001B[0mtuple\u001B[0m\u001B[1;33m(\u001B[0m\u001B[0mrange\u001B[0m\u001B[1;33m(\u001B[0m\u001B[1;36m5\u001B[0m\u001B[1;33m)\u001B[0m\u001B[1;33m)\u001B[0m\u001B[1;33m)\u001B[0m\u001B[1;33m\u001B[0m\u001B[1;33m\u001B[0m\u001B[0m\n\u001B[0m",
      "\u001B[1;31mTypeError\u001B[0m: func() takes 3 positional arguments but 7 were given"
     ]
    }
   ],
   "source": [
    "def func(a, b, c):\n",
    "    print(a, b, c)\n",
    "func(1, 2, *tuple(range(5)))"
   ]
  },
  {
   "cell_type": "markdown",
   "metadata": {},
   "source": [
    "### 字典可变参数"
   ]
  },
  {
   "cell_type": "code",
   "execution_count": 62,
   "metadata": {},
   "outputs": [
    {
     "name": "stdout",
     "output_type": "stream",
     "text": [
      "1 2 {'x': 3}\n",
      "1 2 {'x': 3, 'y': 4, 'z': 5}\n"
     ]
    }
   ],
   "source": [
    "def func(a, b, **c):\n",
    "    print(a, b, c)\n",
    "\n",
    "func(1, 2, x=3)\n",
    "func(1, 2, x=3, y=4, z=5)"
   ]
  },
  {
   "cell_type": "code",
   "execution_count": 63,
   "metadata": {},
   "outputs": [
    {
     "ename": "TypeError",
     "evalue": "func() takes 2 positional arguments but 3 were given",
     "output_type": "error",
     "traceback": [
      "\u001B[1;31m---------------------------------------------------------------------------\u001B[0m",
      "\u001B[1;31mTypeError\u001B[0m                                 Traceback (most recent call last)",
      "\u001B[1;32m<ipython-input-63-0b0e6d51b54e>\u001B[0m in \u001B[0;36m<module>\u001B[1;34m\u001B[0m\n\u001B[1;32m----> 1\u001B[1;33m \u001B[0mfunc\u001B[0m\u001B[1;33m(\u001B[0m\u001B[1;36m1\u001B[0m\u001B[1;33m,\u001B[0m \u001B[1;36m2\u001B[0m\u001B[1;33m,\u001B[0m \u001B[1;36m3\u001B[0m\u001B[1;33m)\u001B[0m\u001B[1;33m\u001B[0m\u001B[1;33m\u001B[0m\u001B[0m\n\u001B[0m",
      "\u001B[1;31mTypeError\u001B[0m: func() takes 2 positional arguments but 3 were given"
     ]
    }
   ],
   "source": [
    "func(1, 2, 3)"
   ]
  },
  {
   "cell_type": "code",
   "execution_count": 64,
   "metadata": {},
   "outputs": [
    {
     "ename": "TypeError",
     "evalue": "func() got multiple values for argument 'a'",
     "output_type": "error",
     "traceback": [
      "\u001B[1;31m---------------------------------------------------------------------------\u001B[0m",
      "\u001B[1;31mTypeError\u001B[0m                                 Traceback (most recent call last)",
      "\u001B[1;32m<ipython-input-64-4c421753fde9>\u001B[0m in \u001B[0;36m<module>\u001B[1;34m\u001B[0m\n\u001B[1;32m----> 1\u001B[1;33m \u001B[0mfunc\u001B[0m\u001B[1;33m(\u001B[0m\u001B[1;36m1\u001B[0m\u001B[1;33m,\u001B[0m \u001B[1;36m2\u001B[0m\u001B[1;33m,\u001B[0m \u001B[0ma\u001B[0m \u001B[1;33m=\u001B[0m \u001B[1;36m3\u001B[0m\u001B[1;33m)\u001B[0m\u001B[1;33m\u001B[0m\u001B[1;33m\u001B[0m\u001B[0m\n\u001B[0m",
      "\u001B[1;31mTypeError\u001B[0m: func() got multiple values for argument 'a'"
     ]
    }
   ],
   "source": [
    "func(1, 2, a = 3)"
   ]
  },
  {
   "cell_type": "code",
   "execution_count": 65,
   "metadata": {},
   "outputs": [
    {
     "name": "stdout",
     "output_type": "stream",
     "text": [
      "1 2 {'x': 3, 'y': 4}\n"
     ]
    }
   ],
   "source": [
    "def func(a, b, **c):\n",
    "    print(a, b, c)\n",
    "\n",
    "func(1, 2, **{\"x\":3, \"y\":4})"
   ]
  },
  {
   "cell_type": "code",
   "execution_count": 66,
   "metadata": {},
   "outputs": [
    {
     "ename": "TypeError",
     "evalue": "func() takes 2 positional arguments but 3 were given",
     "output_type": "error",
     "traceback": [
      "\u001B[1;31m---------------------------------------------------------------------------\u001B[0m",
      "\u001B[1;31mTypeError\u001B[0m                                 Traceback (most recent call last)",
      "\u001B[1;32m<ipython-input-66-13e3ff6d22a7>\u001B[0m in \u001B[0;36m<module>\u001B[1;34m\u001B[0m\n\u001B[1;32m----> 1\u001B[1;33m \u001B[0mfunc\u001B[0m\u001B[1;33m(\u001B[0m\u001B[1;36m1\u001B[0m\u001B[1;33m,\u001B[0m \u001B[1;36m2\u001B[0m\u001B[1;33m,\u001B[0m \u001B[1;33m{\u001B[0m\u001B[1;34m\"x\"\u001B[0m\u001B[1;33m:\u001B[0m\u001B[1;36m3\u001B[0m\u001B[1;33m,\u001B[0m \u001B[1;34m\"y\"\u001B[0m\u001B[1;33m:\u001B[0m\u001B[1;36m4\u001B[0m\u001B[1;33m}\u001B[0m\u001B[1;33m)\u001B[0m\u001B[1;33m\u001B[0m\u001B[1;33m\u001B[0m\u001B[0m\n\u001B[0m",
      "\u001B[1;31mTypeError\u001B[0m: func() takes 2 positional arguments but 3 were given"
     ]
    }
   ],
   "source": [
    "func(1, 2, {\"x\":3, \"y\":4})"
   ]
  },
  {
   "cell_type": "code",
   "execution_count": 73,
   "metadata": {},
   "outputs": [
    {
     "name": "stdout",
     "output_type": "stream",
     "text": [
      "1 2 (3, 4) {'x': 5, 'y': 6}\n"
     ]
    }
   ],
   "source": [
    "def func(a, b, *c, **d):\n",
    "    print(a, b, c, d)\n",
    "\n",
    "func(1, 2, 3, 4, x=5, y=6)"
   ]
  },
  {
   "cell_type": "code",
   "execution_count": 74,
   "metadata": {},
   "outputs": [
    {
     "name": "stdout",
     "output_type": "stream",
     "text": [
      "1 2 (3, 4) {}\n"
     ]
    }
   ],
   "source": [
    "func(1, 2, 3, 4)"
   ]
  },
  {
   "cell_type": "code",
   "execution_count": 75,
   "metadata": {},
   "outputs": [
    {
     "name": "stdout",
     "output_type": "stream",
     "text": [
      "1 2 () {}\n"
     ]
    }
   ],
   "source": [
    "func(1, 2)"
   ]
  },
  {
   "cell_type": "code",
   "execution_count": 80,
   "metadata": {},
   "outputs": [
    {
     "name": "stdout",
     "output_type": "stream",
     "text": [
      "1 2 () {'x': 5, 'y': 6}\n"
     ]
    }
   ],
   "source": [
    "func(1, 2, x=5, y=6)"
   ]
  },
  {
   "cell_type": "code",
   "execution_count": 76,
   "metadata": {},
   "outputs": [
    {
     "name": "stdout",
     "output_type": "stream",
     "text": [
      "1 2 (0, 1, 2) {'x': 5, 'y': 6}\n"
     ]
    }
   ],
   "source": [
    "func(1, 2, *tuple(range(3)), **{\"x\":5, \"y\":6})"
   ]
  },
  {
   "cell_type": "code",
   "execution_count": 81,
   "metadata": {},
   "outputs": [
    {
     "ename": "SyntaxError",
     "evalue": "positional argument follows keyword argument (<ipython-input-81-24ae03297f43>, line 1)",
     "output_type": "error",
     "traceback": [
      "\u001B[1;36m  File \u001B[1;32m\"<ipython-input-81-24ae03297f43>\"\u001B[1;36m, line \u001B[1;32m1\u001B[0m\n\u001B[1;33m    func(1, 2, 3, x=5, y=6, 4)\u001B[0m\n\u001B[1;37m                            ^\u001B[0m\n\u001B[1;31mSyntaxError\u001B[0m\u001B[1;31m:\u001B[0m positional argument follows keyword argument\n"
     ]
    }
   ],
   "source": [
    "func(1, 2, 3, x=5, y=6, 4)"
   ]
  },
  {
   "cell_type": "code",
   "execution_count": 82,
   "metadata": {},
   "outputs": [
    {
     "ename": "SyntaxError",
     "evalue": "invalid syntax (<ipython-input-82-1c7fb3fe8746>, line 1)",
     "output_type": "error",
     "traceback": [
      "\u001B[1;36m  File \u001B[1;32m\"<ipython-input-82-1c7fb3fe8746>\"\u001B[1;36m, line \u001B[1;32m1\u001B[0m\n\u001B[1;33m    def func(a, b, **c, *d):\u001B[0m\n\u001B[1;37m                        ^\u001B[0m\n\u001B[1;31mSyntaxError\u001B[0m\u001B[1;31m:\u001B[0m invalid syntax\n"
     ]
    }
   ],
   "source": [
    "def func(a, b, **c, *d):\n",
    "    print(a, b, c, d)\n",
    "\n",
    "func(1, 2, 3, 4, x=5, y=6)"
   ]
  },
  {
   "cell_type": "markdown",
   "metadata": {},
   "source": [
    "### 可变参数和缺省参数"
   ]
  },
  {
   "cell_type": "code",
   "execution_count": 94,
   "metadata": {},
   "outputs": [
    {
     "ename": "SyntaxError",
     "evalue": "invalid syntax (<ipython-input-94-275a057df3de>, line 1)",
     "output_type": "error",
     "traceback": [
      "\u001B[1;36m  File \u001B[1;32m\"<ipython-input-94-275a057df3de>\"\u001B[1;36m, line \u001B[1;32m1\u001B[0m\n\u001B[1;33m    def func(a, b, *c, **d, e = 7):\u001B[0m\n\u001B[1;37m                            ^\u001B[0m\n\u001B[1;31mSyntaxError\u001B[0m\u001B[1;31m:\u001B[0m invalid syntax\n"
     ]
    }
   ],
   "source": [
    "def func(a, b, *c, **d, e = 7):\n",
    "    print(a, b, c, d, e)\n",
    "\n",
    "func(1, 2, 3, 4, x=5, y=6)"
   ]
  },
  {
   "cell_type": "code",
   "execution_count": 90,
   "metadata": {},
   "outputs": [
    {
     "name": "stdout",
     "output_type": "stream",
     "text": [
      "1 2 (4,) {'x': 5, 'y': 6} 3\n"
     ]
    }
   ],
   "source": [
    "def func(a, b, e = 7, *c, **d):\n",
    "    print(a, b, c, d, e)\n",
    "\n",
    "func(1, 2, 3, 4, x=5, y=6)"
   ]
  },
  {
   "cell_type": "code",
   "execution_count": 91,
   "metadata": {},
   "outputs": [
    {
     "ename": "TypeError",
     "evalue": "func() got multiple values for argument 'e'",
     "output_type": "error",
     "traceback": [
      "\u001B[1;31m---------------------------------------------------------------------------\u001B[0m",
      "\u001B[1;31mTypeError\u001B[0m                                 Traceback (most recent call last)",
      "\u001B[1;32m<ipython-input-91-73e4d4f88f2e>\u001B[0m in \u001B[0;36m<module>\u001B[1;34m\u001B[0m\n\u001B[1;32m----> 1\u001B[1;33m \u001B[0mfunc\u001B[0m\u001B[1;33m(\u001B[0m\u001B[1;36m1\u001B[0m\u001B[1;33m,\u001B[0m \u001B[1;36m2\u001B[0m\u001B[1;33m,\u001B[0m \u001B[1;36m3\u001B[0m\u001B[1;33m,\u001B[0m \u001B[1;36m4\u001B[0m\u001B[1;33m,\u001B[0m \u001B[0mx\u001B[0m\u001B[1;33m=\u001B[0m\u001B[1;36m5\u001B[0m\u001B[1;33m,\u001B[0m \u001B[0my\u001B[0m\u001B[1;33m=\u001B[0m\u001B[1;36m6\u001B[0m\u001B[1;33m,\u001B[0m \u001B[0me\u001B[0m\u001B[1;33m=\u001B[0m\u001B[1;36m9\u001B[0m\u001B[1;33m)\u001B[0m\u001B[1;33m\u001B[0m\u001B[1;33m\u001B[0m\u001B[0m\n\u001B[0m",
      "\u001B[1;31mTypeError\u001B[0m: func() got multiple values for argument 'e'"
     ]
    }
   ],
   "source": [
    "func(1, 2, 3, 4, x=5, y=6, e=9)"
   ]
  },
  {
   "cell_type": "code",
   "execution_count": 93,
   "metadata": {},
   "outputs": [
    {
     "ename": "SyntaxError",
     "evalue": "positional argument follows keyword argument (<ipython-input-93-fce8c7c7ae43>, line 1)",
     "output_type": "error",
     "traceback": [
      "\u001B[1;36m  File \u001B[1;32m\"<ipython-input-93-fce8c7c7ae43>\"\u001B[1;36m, line \u001B[1;32m1\u001B[0m\n\u001B[1;33m    func(1, e=9, 2, 3, 4, x=5, y=6)\u001B[0m\n\u001B[1;37m                 ^\u001B[0m\n\u001B[1;31mSyntaxError\u001B[0m\u001B[1;31m:\u001B[0m positional argument follows keyword argument\n"
     ]
    }
   ],
   "source": [
    "func(1, e=9, 2, 3, 4, x=5, y=6)"
   ]
  },
  {
   "cell_type": "markdown",
   "metadata": {},
   "source": [
    "### 函数应用实例"
   ]
  },
  {
   "cell_type": "markdown",
   "metadata": {},
   "source": [
    "### 求100~200里面所有的素数"
   ]
  },
  {
   "cell_type": "code",
   "execution_count": null,
   "metadata": {},
   "outputs": [],
   "source": [
    "# 定义判断是否为素数的函数\n",
    "\n",
    "def isPrime(num):\n",
    "    if num == 1:\n",
    "        return True\n",
    "    for i in range(2, num):\n",
    "        if num%i == 0:\n",
    "            return False\n",
    "    else:\n",
    "        return True\n",
    "\n",
    "for i in range(100, 200):\n",
    "    if isPrime(i):\n",
    "        print(i, end = \",\")\n",
    "            \n",
    "    "
   ]
  },
  {
   "cell_type": "markdown",
   "metadata": {},
   "source": [
    "### 定义函数calculate，可以接收任意多个数，返回一个元组，元组第一个值为所有参数的平均值，第二个值是大于平均值的所有数"
   ]
  },
  {
   "cell_type": "code",
   "execution_count": 1,
   "metadata": {},
   "outputs": [
    {
     "name": "stdout",
     "output_type": "stream",
     "text": [
      "请输入一个数：10\n",
      "请输入一个数：11\n",
      "请输入一个数：12\n",
      "请输入一个数：0\n",
      "(11.0, [12.0])\n"
     ]
    }
   ],
   "source": [
    "def calculate(*num):\n",
    "    li = []\n",
    "    avg = sum(num)/len(num)\n",
    "    for i in num:\n",
    "        if i > avg:\n",
    "            li.append(i)\n",
    "    return avg, li\n",
    "\n",
    "b = []\n",
    "while True:\n",
    "    a = float(input(\"请输入一个数：\"))\n",
    "    if a == 0:\n",
    "        break\n",
    "    else:\n",
    "        b.append(a)\n",
    "\n",
    "count = calculate(*tuple(b))\n",
    "print(count)"
   ]
  },
  {
   "cell_type": "markdown",
   "metadata": {},
   "source": [
    "### 编写函数，接收一个列表(包含10个整形数)和一个整形数k，返回一个新列表（将列表下标k之前对应(不包含k)的元素逆序，将下标k及之后的元素逆序）"
   ]
  },
  {
   "cell_type": "code",
   "execution_count": 3,
   "metadata": {},
   "outputs": [
    {
     "name": "stdout",
     "output_type": "stream",
     "text": [
      "[38, 12, 15, 7, 12, 39, 46, 22, 16, 34]\n",
      "[7, 15, 12, 38, 34, 16, 22, 46, 39, 12]\n"
     ]
    }
   ],
   "source": [
    "import random\n",
    "\n",
    "def fun(alist, k):\n",
    "    if k < 0 or k > len(alist):\n",
    "        return \"k值超出范围\"\n",
    "    newL1 = alist[:k]\n",
    "    newL2 = newL1[::-1]\n",
    "    newL3 = alist[k:]\n",
    "    newL4 = newL3[::-1]\n",
    "    return newL2 + newL4\n",
    "\n",
    "list = []\n",
    "for i in range(10):\n",
    "    num = random.randint(1, 50)\n",
    "    list.append(num)\n",
    "print(list)\n",
    "a = fun(list, 4)\n",
    "print(a)"
   ]
  },
  {
   "cell_type": "code",
   "execution_count": null,
   "metadata": {},
   "outputs": [],
   "source": []
  }
 ],
 "metadata": {
  "kernelspec": {
   "display_name": "Python 3",
   "language": "python",
   "name": "python3"
  },
  "language_info": {
   "codemirror_mode": {
    "name": "ipython",
    "version": 3
   },
   "file_extension": ".py",
   "mimetype": "text/x-python",
   "name": "python",
   "nbconvert_exporter": "python",
   "pygments_lexer": "ipython3",
   "version": "3.8.3"
  }
 },
 "nbformat": 4,
 "nbformat_minor": 4
}
