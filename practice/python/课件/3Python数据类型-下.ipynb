{
 "cells": [
  {
   "cell_type": "markdown",
   "metadata": {},
   "source": [
    "## 《Python程序设计》2023秋季\n",
    "**<font size=4>3 Python数据类型-下</font>**\n",
    "\n",
    "**机械科学与工程学院  刘潇**\n",
    "\n",
    "本节要点包括：\n",
    "- 掌握列表、元组、字典的常用操作和方法\n",
    "- 深入理解列表、元组、字典的可变或不可变类型的差异\n",
    "- 理解Python中的变量与对象间的共享引用和内存管理"
   ]
  },
  {
   "cell_type": "markdown",
   "metadata": {},
   "source": [
    "### 列表"
   ]
  },
  {
   "cell_type": "code",
   "execution_count": 1,
   "metadata": {
    "scrolled": true
   },
   "outputs": [
    {
     "name": "stdout",
     "output_type": "stream",
     "text": [
      "[['zhang3', 'U202011054'], ['li4', 'U202011055'], ['wang5', 'U202011056']]\n"
     ]
    }
   ],
   "source": [
    "a = [\"zhang3\", \"U202011054\"]\n",
    "b = [\"li4\", \"U202011055\"]\n",
    "c = [\"wang5\", \"U202011056\"]\n",
    "student = [a, b, c]\n",
    "print(student)"
   ]
  },
  {
   "cell_type": "markdown",
   "metadata": {},
   "source": [
    "### 列表内置函数"
   ]
  },
  {
   "cell_type": "code",
   "execution_count": 34,
   "metadata": {},
   "outputs": [
    {
     "name": "stdout",
     "output_type": "stream",
     "text": [
      "10\n",
      "1\n",
      "10\n"
     ]
    }
   ],
   "source": [
    "numbers = [1, 2, 3, 4, 5, 6, 7, 8, 9, 10]\n",
    "print(len(numbers))\n",
    "print(min(numbers))\n",
    "print(max(numbers))"
   ]
  },
  {
   "cell_type": "markdown",
   "metadata": {},
   "source": [
    "### 列表切片操作"
   ]
  },
  {
   "cell_type": "code",
   "execution_count": 24,
   "metadata": {},
   "outputs": [
    {
     "name": "stdout",
     "output_type": "stream",
     "text": [
      "[4, 5, 6]\n",
      "[1, 2]\n",
      "[6, 7, 8, 9, 10]\n",
      "[1, 2, 3, 4, 5, 6, 7, 8, 9, 10]\n",
      "[6, 7, 8]\n",
      "[]\n",
      "[1, 3, 5, 7, 9]\n",
      "[10, 8, 6, 4, 2]\n",
      "[1, 5, 9]\n"
     ]
    }
   ],
   "source": [
    "numbers = [1, 2, 3, 4, 5, 6, 7, 8, 9, 10]\n",
    "print(numbers[3:6])\n",
    "print(numbers[:2])\n",
    "print(numbers[5:])\n",
    "print(numbers[:])\n",
    "print(numbers[5:-2])\n",
    "print(numbers[8:-4])\n",
    "print(numbers[0:10:2])\n",
    "print(numbers[10:0:-2])\n",
    "print(numbers[::4])"
   ]
  },
  {
   "cell_type": "markdown",
   "metadata": {},
   "source": [
    "### 列表相加操作"
   ]
  },
  {
   "cell_type": "code",
   "execution_count": 25,
   "metadata": {
    "scrolled": true
   },
   "outputs": [
    {
     "name": "stdout",
     "output_type": "stream",
     "text": [
      "[1, 2, 3, 4, 5, 6]\n",
      "[1, 2, 3, 'hello world!']\n"
     ]
    },
    {
     "ename": "TypeError",
     "evalue": "can only concatenate list (not \"str\") to list",
     "output_type": "error",
     "traceback": [
      "\u001B[1;31m---------------------------------------------------------------------------\u001B[0m",
      "\u001B[1;31mTypeError\u001B[0m                                 Traceback (most recent call last)",
      "\u001B[1;32m<ipython-input-25-3a70906d19f4>\u001B[0m in \u001B[0;36m<module>\u001B[1;34m\u001B[0m\n\u001B[0;32m      5\u001B[0m \u001B[0mprint\u001B[0m\u001B[1;33m(\u001B[0m\u001B[0ma\u001B[0m \u001B[1;33m+\u001B[0m \u001B[0mb\u001B[0m\u001B[1;33m)\u001B[0m\u001B[1;33m\u001B[0m\u001B[1;33m\u001B[0m\u001B[0m\n\u001B[0;32m      6\u001B[0m \u001B[0mprint\u001B[0m\u001B[1;33m(\u001B[0m\u001B[0ma\u001B[0m \u001B[1;33m+\u001B[0m \u001B[0mc\u001B[0m\u001B[1;33m)\u001B[0m\u001B[1;33m\u001B[0m\u001B[1;33m\u001B[0m\u001B[0m\n\u001B[1;32m----> 7\u001B[1;33m \u001B[0mprint\u001B[0m\u001B[1;33m(\u001B[0m\u001B[0ma\u001B[0m \u001B[1;33m+\u001B[0m \u001B[0md\u001B[0m\u001B[1;33m)\u001B[0m\u001B[1;33m\u001B[0m\u001B[1;33m\u001B[0m\u001B[0m\n\u001B[0m",
      "\u001B[1;31mTypeError\u001B[0m: can only concatenate list (not \"str\") to list"
     ]
    }
   ],
   "source": [
    "a = [1, 2, 3]\n",
    "b = [4, 5, 6]\n",
    "c = [\"hello world!\"]\n",
    "d = \"hello world!\"\n",
    "print(a + b)\n",
    "print(a + c)\n",
    "print(a + d)"
   ]
  },
  {
   "cell_type": "markdown",
   "metadata": {},
   "source": [
    "### 列表相乘操作"
   ]
  },
  {
   "cell_type": "code",
   "execution_count": 31,
   "metadata": {},
   "outputs": [
    {
     "name": "stdout",
     "output_type": "stream",
     "text": [
      "[1, 2, 3, 1, 2, 3, 1, 2, 3]\n",
      "[None, None, None, None, None, None, None, None, None, None]\n",
      "<class 'NoneType'>\n"
     ]
    }
   ],
   "source": [
    "a = [1, 2, 3]\n",
    "print(a * 3)\n",
    "\n",
    "#创建空列表\n",
    "b = [None]\n",
    "c = b * 10\n",
    "print(c)\n",
    "print(type(c[1]))"
   ]
  },
  {
   "cell_type": "markdown",
   "metadata": {},
   "source": [
    "### 打印指定年月日的日期"
   ]
  },
  {
   "cell_type": "code",
   "execution_count": 42,
   "metadata": {},
   "outputs": [
    {
     "name": "stdout",
     "output_type": "stream",
     "text": [
      "Year: 2020\n",
      "Month(1-12): 8\n",
      "Day(1-31): 30\n",
      "August 30th 2020\n"
     ]
    }
   ],
   "source": [
    "months = [\"January\", \"February\", \"March\", \"April\", \\\n",
    "         \"May\", \"June\", \"July\", \"August\", \\\n",
    "          \"September\", \"October\", \"November\", \"December\"]\n",
    "day_endings = [\"st\", \"nd\", \"rd\"] + [\"th\"]*17 + [\"st\", \"nd\", \"rd\"] + [\"th\"]*7 + [\"st\"]\n",
    "\n",
    "Year = input(\"Year: \")\n",
    "Month = int(input(\"Month(1-12): \"))\n",
    "Day = int(input(\"Day(1-31): \"))\n",
    "\n",
    "#打印日期\n",
    "month_name = months[Month - 1]\n",
    "day_name = str(Day) + day_endings[Day - 1]\n",
    "print(month_name, day_name, Year)"
   ]
  },
  {
   "cell_type": "markdown",
   "metadata": {},
   "source": [
    "### 成员资格检查"
   ]
  },
  {
   "cell_type": "code",
   "execution_count": 39,
   "metadata": {},
   "outputs": [
    {
     "name": "stdout",
     "output_type": "stream",
     "text": [
      "Student ID:U202011054\n",
      "Student age:19\n",
      "OK!\n"
     ]
    }
   ],
   "source": [
    "a = [\"U202011054\", 19]\n",
    "b = [\"U202011055\", 20]\n",
    "c = [\"U202011056\", 21]\n",
    "student = [a, b, c]\n",
    "\n",
    "ID = input(\"Student ID:\")\n",
    "age = int(input(\"Student age:\"))\n",
    "if [ID, age] in student: \n",
    "    print(\"OK!\")\n",
    "else:\n",
    "    print(\"ERROR!\")\n",
    "    "
   ]
  },
  {
   "cell_type": "markdown",
   "metadata": {},
   "source": [
    "### 列表与字符串转换"
   ]
  },
  {
   "cell_type": "code",
   "execution_count": 11,
   "metadata": {},
   "outputs": [
    {
     "name": "stdout",
     "output_type": "stream",
     "text": [
      "['h', 'e', 'l', 'l', 'o']\n",
      "hello\n",
      "['h', 'e', 'l', 'l', 'o']\n",
      "['h', 'e', 'l', 'l', 'o', '1']\n"
     ]
    },
    {
     "ename": "TypeError",
     "evalue": "sequence item 5: expected str instance, int found",
     "output_type": "error",
     "traceback": [
      "\u001B[1;31m---------------------------------------------------------------------------\u001B[0m",
      "\u001B[1;31mTypeError\u001B[0m                                 Traceback (most recent call last)",
      "\u001B[1;32m<ipython-input-11-ffb540ef8b56>\u001B[0m in \u001B[0;36m<module>\u001B[1;34m\u001B[0m\n\u001B[0;32m      5\u001B[0m \u001B[1;31m#元素是字符类型\u001B[0m\u001B[1;33m\u001B[0m\u001B[1;33m\u001B[0m\u001B[1;33m\u001B[0m\u001B[0m\n\u001B[0;32m      6\u001B[0m \u001B[0mprint\u001B[0m\u001B[1;33m(\u001B[0m\u001B[0mlist\u001B[0m\u001B[1;33m(\u001B[0m\u001B[1;34m\"hello1\"\u001B[0m\u001B[1;33m)\u001B[0m\u001B[1;33m)\u001B[0m\u001B[1;33m\u001B[0m\u001B[1;33m\u001B[0m\u001B[0m\n\u001B[1;32m----> 7\u001B[1;33m \u001B[0mprint\u001B[0m\u001B[1;33m(\u001B[0m\u001B[1;34m\"\"\u001B[0m\u001B[1;33m.\u001B[0m\u001B[0mjoin\u001B[0m\u001B[1;33m(\u001B[0m\u001B[1;33m[\u001B[0m\u001B[1;34m'h'\u001B[0m\u001B[1;33m,\u001B[0m \u001B[1;34m'e'\u001B[0m\u001B[1;33m,\u001B[0m \u001B[1;34m'l'\u001B[0m\u001B[1;33m,\u001B[0m \u001B[1;34m'l'\u001B[0m\u001B[1;33m,\u001B[0m \u001B[1;34m'o'\u001B[0m\u001B[1;33m,\u001B[0m \u001B[1;36m1\u001B[0m\u001B[1;33m]\u001B[0m\u001B[1;33m)\u001B[0m\u001B[1;33m)\u001B[0m\u001B[1;33m\u001B[0m\u001B[1;33m\u001B[0m\u001B[0m\n\u001B[0m",
      "\u001B[1;31mTypeError\u001B[0m: sequence item 5: expected str instance, int found"
     ]
    }
   ],
   "source": [
    "print(list(\"hello\"))\n",
    "print(\"\".join(['h', 'e', 'l', 'l', 'o']))\n",
    "print(list(['h', 'e', 'l', 'l', 'o']))\n",
    "\n",
    "#元素是字符类型\n",
    "print(list(\"hello1\"))\n",
    "print(\"\".join(['h', 'e', 'l', 'l', 'o', 1]))"
   ]
  },
  {
   "cell_type": "markdown",
   "metadata": {},
   "source": [
    "### 列表元素赋值"
   ]
  },
  {
   "cell_type": "code",
   "execution_count": 3,
   "metadata": {},
   "outputs": [
    {
     "name": "stdout",
     "output_type": "stream",
     "text": [
      "97865664\n",
      "[1, 3, 3] 97865664\n",
      "[1, [1, 2], 3] 97865664\n",
      "[1, [1, 2], 3] 97865664 97865664\n"
     ]
    }
   ],
   "source": [
    "a = [1, 2, 3]\n",
    "print(id(a))\n",
    "a[1] = 3\n",
    "print(a, id(a))\n",
    "a[1] = [1, 2]\n",
    "print(a, id(a))\n",
    "\n",
    "b = a\n",
    "print(b, id(b), id(a))"
   ]
  },
  {
   "cell_type": "markdown",
   "metadata": {},
   "source": [
    "### 浅拷贝"
   ]
  },
  {
   "cell_type": "code",
   "execution_count": 17,
   "metadata": {},
   "outputs": [
    {
     "name": "stdout",
     "output_type": "stream",
     "text": [
      "[1, 2, 3] 96542400 96542400\n",
      "[1, 1, 3] [1, 1, 3] 96542400 96542400\n"
     ]
    }
   ],
   "source": [
    "a = [1, 2, 3]\n",
    "b = a\n",
    "print(b, id(b), id(a))\n",
    "\n",
    "#给a中的元素重新赋值\n",
    "a[1] = 1\n",
    "print(a, b, id(a), id(b))"
   ]
  },
  {
   "cell_type": "markdown",
   "metadata": {},
   "source": [
    "### 字符串引用（或者数字引用）"
   ]
  },
  {
   "cell_type": "code",
   "execution_count": 18,
   "metadata": {},
   "outputs": [
    {
     "name": "stdout",
     "output_type": "stream",
     "text": [
      "123 96550320 96550320\n",
      "456 123 96550256 96550320\n"
     ]
    }
   ],
   "source": [
    "a = \"123\"\n",
    "b = a\n",
    "print(b, id(b), id(a))\n",
    "\n",
    "#给a中的元素重新赋值\n",
    "a = \"456\"\n",
    "print(a, b, id(a), id(b))"
   ]
  },
  {
   "cell_type": "markdown",
   "metadata": {},
   "source": [
    "### 深拷贝"
   ]
  },
  {
   "cell_type": "code",
   "execution_count": 22,
   "metadata": {},
   "outputs": [
    {
     "name": "stdout",
     "output_type": "stream",
     "text": [
      "95626240 95626496\n",
      "[1, 1, 3] [1, 2, 3] 95626240 95626496\n",
      "[1, 1, 1] [1, 1, 3] 95626240 95631360\n"
     ]
    }
   ],
   "source": [
    "a = [1, 2, 3]\n",
    "b = [1, 2, 3]\n",
    "print(id(a), id(b))\n",
    "\n",
    "#给a中的元素重新赋值\n",
    "a[1] = 1\n",
    "print(a, b, id(a), id(b))\n",
    "\n",
    "#深拷贝\n",
    "b = a[:]\n",
    "a[2] = 1\n",
    "print(a, b, id(a), id(b))"
   ]
  },
  {
   "cell_type": "markdown",
   "metadata": {},
   "source": [
    "### 切片赋值&删除元素"
   ]
  },
  {
   "cell_type": "code",
   "execution_count": 28,
   "metadata": {},
   "outputs": [
    {
     "name": "stdout",
     "output_type": "stream",
     "text": [
      "python\n",
      "[1, 2, 3, 4, 5]\n",
      "[1, 5]\n",
      "[1]\n"
     ]
    }
   ],
   "source": [
    "name = list(\"perl\")\n",
    "name[1:] = list(\"ython\")\n",
    "print(\"\".join(name))\n",
    "\n",
    "#插入新元素\n",
    "numbers = [1,5]\n",
    "numbers[1:1] = [2, 3, 4]\n",
    "print(numbers)\n",
    "\n",
    "#删除元素\n",
    "numbers[1:4] = []\n",
    "print(numbers)\n",
    "\n",
    "del numbers[1]\n",
    "print(numbers)"
   ]
  },
  {
   "cell_type": "markdown",
   "metadata": {},
   "source": [
    "### 列表方法"
   ]
  },
  {
   "cell_type": "code",
   "execution_count": 46,
   "metadata": {},
   "outputs": [
    {
     "name": "stdout",
     "output_type": "stream",
     "text": [
      "[1, 2, 3, 4]\n",
      "[1, 'hello world!', 2, 3, 4]\n",
      "[1, 2]\n"
     ]
    }
   ],
   "source": [
    "a = [1, 2, 3]\n",
    "a.append(4)\n",
    "print(a)\n",
    "a.insert(1, \"hello world!\")\n",
    "print(a)\n",
    "a.count(1)\n",
    "c = [[1,2], 3, 4]\n",
    "\n",
    "d = [1, 2, 3]\n",
    "d.pop()\n",
    "print(d)"
   ]
  },
  {
   "cell_type": "markdown",
   "metadata": {},
   "source": [
    "### 计算列表[2,4,6,9,13]中数字的标准差S\n",
    "$S = \\sqrt \\frac {\\sum(\\overline x - x_i)^2}{n - 1}$"
   ]
  },
  {
   "cell_type": "code",
   "execution_count": 5,
   "metadata": {},
   "outputs": [
    {
     "name": "stdout",
     "output_type": "stream",
     "text": [
      "4.324349662087931\n"
     ]
    }
   ],
   "source": [
    "import math\n",
    "numbers = [2, 4, 6, 9, 13]\n",
    "total = 0\n",
    "# 计算平均值\n",
    "for number in numbers:\n",
    "    total += number\n",
    "average = total/len(numbers)\n",
    "\n",
    "# 计算标准差\n",
    "total = 0\n",
    "for number in numbers:\n",
    "    total += (number-average)**2\n",
    "S = math.sqrt(total/(len(numbers)-1))\n",
    "print(S)"
   ]
  },
  {
   "cell_type": "markdown",
   "metadata": {},
   "source": [
    "### 为什么列表中还有2？"
   ]
  },
  {
   "cell_type": "code",
   "execution_count": 9,
   "metadata": {},
   "outputs": [
    {
     "name": "stdout",
     "output_type": "stream",
     "text": [
      "[5, 2, 2, 5, 0, 99, 2, 2, 2]\n",
      "[5, 2, 5, 0, 99, 2, 2, 2]\n",
      "[5, 5, 0, 99, 2, 2, 2]\n",
      "[5, 5, 0, 99, 2, 2]\n",
      "[5, 2, 2, 5, 0, 99, 2, 2, 2]\n",
      "[5, 2, 5, 0, 99, 2, 2, 2]\n",
      "[5, 5, 0, 99, 2, 2, 2]\n",
      "[5, 5, 0, 99, 2, 2]\n",
      "[5, 5, 0, 99, 2]\n",
      "[5, 5, 0, 99]\n"
     ]
    }
   ],
   "source": [
    "numbers = [2, 5, 2, 2, 5, 0, 99, 2, 2, 2]\n",
    "for number in numbers:\n",
    "    if number == 2:\n",
    "        numbers.remove(2)\n",
    "        print(numbers)\n",
    "        \n",
    "numbers1 = [2, 5, 2, 2, 5, 0, 99, 2, 2, 2]\n",
    "for number in range(numbers1.count(2)):\n",
    "        numbers1.remove(2)\n",
    "        print(numbers1)"
   ]
  },
  {
   "cell_type": "code",
   "execution_count": 10,
   "metadata": {},
   "outputs": [
    {
     "name": "stdout",
     "output_type": "stream",
     "text": [
      "[5, 2, 2, 5, 0, 99, 2, 2, 2]\n",
      "[5, 2, 5, 0, 99, 2, 2, 2]\n",
      "[5, 5, 0, 99, 2, 2, 2]\n",
      "[5, 5, 0, 99, 2, 2]\n",
      "[5, 5, 0, 99, 2]\n",
      "[5, 5, 0, 99]\n"
     ]
    }
   ],
   "source": [
    "numbers2 = [2, 5, 2, 2, 5, 0, 99, 2, 2, 2]\n",
    "numbers3 = numbers2[:]\n",
    "for number in numbers3:\n",
    "    if number == 2:\n",
    "        numbers2.remove(2)\n",
    "        print(numbers2)"
   ]
  },
  {
   "cell_type": "markdown",
   "metadata": {},
   "source": [
    "### 找出不超过20的所有素数"
   ]
  },
  {
   "cell_type": "code",
   "execution_count": 1,
   "metadata": {
    "ExecuteTime": {
     "end_time": "2024-01-20T12:27:43.376765Z",
     "start_time": "2024-01-20T12:27:43.374285Z"
    }
   },
   "outputs": [
    {
     "name": "stdout",
     "output_type": "stream",
     "text": [
      "[2, 3, 5, 7, 11, 13, 17, 19]\n"
     ]
    }
   ],
   "source": [
    "# 创建2到20的数字列表\n",
    "numbers = list(range(2,21))\n",
    "prime_numbers = []\n",
    "\n",
    "while numbers: # 重复以下步骤\n",
    "  # 删除列表中的第一个数，声明为素数\n",
    "  prime_numbers.append(numbers[0])\n",
    "  del(numbers[0])\n",
    "\n",
    "  # 删除该数字的倍数\n",
    "  for number in numbers:\n",
    "     if number%prime_numbers[-1] == 0:\n",
    "        numbers.remove(number)\n",
    "\n",
    "print(prime_numbers)"
   ]
  },
  {
   "cell_type": "markdown",
   "metadata": {},
   "source": [
    "### 元组"
   ]
  },
  {
   "cell_type": "code",
   "execution_count": 72,
   "metadata": {},
   "outputs": [
    {
     "name": "stdout",
     "output_type": "stream",
     "text": [
      "(0, (1+2j), 'hello world!', ['abc', 20.5], 0)\n",
      "(0, (1+2j), 'hello world!', ['abc', 20.5], 0)\n",
      "(12,) <class 'tuple'>\n",
      "12 <class 'int'>\n",
      "() <class 'tuple'>\n"
     ]
    }
   ],
   "source": [
    "#定义元组\n",
    "tuple1 = (0, 1 + 2j, \"hello world!\", [\"abc\", 20.5], 0)\n",
    "print(tuple1)\n",
    "tuple2 = 0, 1 + 2j, \"hello world!\", [\"abc\", 20.5], 0\n",
    "print(tuple2)\n",
    "\n",
    "tuple3 = 12,\n",
    "print(tuple3, type(tuple3))\n",
    "\n",
    "number = (12)\n",
    "print(number, type(number))\n",
    "\n",
    "#空元组\n",
    "tuple4 = ()\n",
    "print(tuple4, type(tuple4))"
   ]
  },
  {
   "cell_type": "markdown",
   "metadata": {},
   "source": [
    "### 修改元组中的元素"
   ]
  },
  {
   "cell_type": "code",
   "execution_count": 73,
   "metadata": {},
   "outputs": [
    {
     "ename": "TypeError",
     "evalue": "'tuple' object does not support item assignment",
     "output_type": "error",
     "traceback": [
      "\u001B[1;31m---------------------------------------------------------------------------\u001B[0m",
      "\u001B[1;31mTypeError\u001B[0m                                 Traceback (most recent call last)",
      "\u001B[1;32m<ipython-input-73-20f69565a395>\u001B[0m in \u001B[0;36m<module>\u001B[1;34m\u001B[0m\n\u001B[0;32m      1\u001B[0m \u001B[1;31m#修改元组中的元素\u001B[0m\u001B[1;33m\u001B[0m\u001B[1;33m\u001B[0m\u001B[1;33m\u001B[0m\u001B[0m\n\u001B[0;32m      2\u001B[0m \u001B[0mtuple1\u001B[0m \u001B[1;33m=\u001B[0m \u001B[1;33m(\u001B[0m\u001B[1;36m0\u001B[0m\u001B[1;33m,\u001B[0m \u001B[1;36m1\u001B[0m \u001B[1;33m+\u001B[0m \u001B[1;36m2j\u001B[0m\u001B[1;33m,\u001B[0m \u001B[1;34m\"hello world!\"\u001B[0m\u001B[1;33m,\u001B[0m \u001B[1;33m[\u001B[0m\u001B[1;34m\"abc\"\u001B[0m\u001B[1;33m,\u001B[0m \u001B[1;36m20.5\u001B[0m\u001B[1;33m]\u001B[0m\u001B[1;33m,\u001B[0m \u001B[1;36m0\u001B[0m\u001B[1;33m)\u001B[0m\u001B[1;33m\u001B[0m\u001B[1;33m\u001B[0m\u001B[0m\n\u001B[1;32m----> 3\u001B[1;33m \u001B[0mtuple1\u001B[0m\u001B[1;33m[\u001B[0m\u001B[1;36m0\u001B[0m\u001B[1;33m]\u001B[0m \u001B[1;33m=\u001B[0m \u001B[1;36m1\u001B[0m\u001B[1;33m\u001B[0m\u001B[1;33m\u001B[0m\u001B[0m\n\u001B[0m",
      "\u001B[1;31mTypeError\u001B[0m: 'tuple' object does not support item assignment"
     ]
    }
   ],
   "source": [
    "#修改元组中的元素\n",
    "tuple1 = (0, 1 + 2j, \"hello world!\", [\"abc\", 20.5], 0)\n",
    "tuple1[0] = 1"
   ]
  },
  {
   "cell_type": "markdown",
   "metadata": {},
   "source": [
    "### 修改元组中的元素"
   ]
  },
  {
   "cell_type": "code",
   "execution_count": 6,
   "metadata": {
    "ExecuteTime": {
     "end_time": "2024-01-21T12:47:10.814315Z",
     "start_time": "2024-01-21T12:47:10.790284Z"
    }
   },
   "outputs": [
    {
     "name": "stdout",
     "output_type": "stream",
     "text": [
      "4396851872\n",
      "(1.1, (1+2j), 'hello world!', [2, 50.5], 0) 4396851872\n"
     ]
    }
   ],
   "source": [
    "tuple1 = (1.1, 1 + 2j, \"hello world!\", [\"abc\", 20.5], 0)\n",
    "print(id(tuple1))\n",
    "tuple1[3][1] = 50.5\n",
    "tuple1[3][0] = 2\n",
    "print(tuple1, id(tuple1))"
   ]
  },
  {
   "cell_type": "markdown",
   "metadata": {},
   "source": [
    "### 修改列表中的元组"
   ]
  },
  {
   "cell_type": "code",
   "execution_count": 7,
   "metadata": {
    "ExecuteTime": {
     "end_time": "2024-01-21T12:49:40.067700Z",
     "start_time": "2024-01-21T12:49:40.041807Z"
    }
   },
   "outputs": [
    {
     "ename": "TypeError",
     "evalue": "'tuple' object does not support item assignment",
     "output_type": "error",
     "traceback": [
      "\u001B[0;31m---------------------------------------------------------------------------\u001B[0m",
      "\u001B[0;31mTypeError\u001B[0m                                 Traceback (most recent call last)",
      "Cell \u001B[0;32mIn[7], line 2\u001B[0m\n\u001B[1;32m      1\u001B[0m list1 \u001B[38;5;241m=\u001B[39m [(\u001B[38;5;241m1\u001B[39m, \u001B[38;5;241m2\u001B[39m, \u001B[38;5;241m3\u001B[39m), (\u001B[38;5;241m4\u001B[39m, \u001B[38;5;241m5\u001B[39m, \u001B[38;5;241m6\u001B[39m), (\u001B[38;5;241m7\u001B[39m, \u001B[38;5;241m8\u001B[39m, \u001B[38;5;241m9\u001B[39m)]\n\u001B[0;32m----> 2\u001B[0m \u001B[43mlist1\u001B[49m\u001B[43m[\u001B[49m\u001B[38;5;241;43m1\u001B[39;49m\u001B[43m]\u001B[49m\u001B[43m[\u001B[49m\u001B[38;5;241;43m1\u001B[39;49m\u001B[43m]\u001B[49m \u001B[38;5;241m=\u001B[39m \u001B[38;5;241m10\u001B[39m\n\u001B[1;32m      3\u001B[0m \u001B[38;5;28mprint\u001B[39m(list1)\n",
      "\u001B[0;31mTypeError\u001B[0m: 'tuple' object does not support item assignment"
     ]
    }
   ],
   "source": [
    "list1 = [(1, 2, 3), (4, 5, 6), (7, 8, 9)]\n",
    "list1[1][1] = 10\n",
    "print(list1)"
   ]
  },
  {
   "cell_type": "markdown",
   "metadata": {},
   "source": [
    "### 变量与对象"
   ]
  },
  {
   "cell_type": "code",
   "execution_count": 24,
   "metadata": {},
   "outputs": [
    {
     "name": "stdout",
     "output_type": "stream",
     "text": [
      "8791159027776 8791159027776\n",
      "8791159027776 8791159027776 8791159027776\n",
      "98675376 98675152\n"
     ]
    }
   ],
   "source": [
    "# 数字和短字符串\n",
    "number = 10\n",
    "print(id(number), id(10))\n",
    "b = 10\n",
    "print(id(b), id(number), id(10))\n",
    "\n",
    "# 长字符串、列表等\n",
    "string = \"hello world \"*5\n",
    "c = \"hello world \"*5\n",
    "print(id(c), id(string))"
   ]
  },
  {
   "cell_type": "code",
   "execution_count": 26,
   "metadata": {},
   "outputs": [
    {
     "name": "stdout",
     "output_type": "stream",
     "text": [
      "8791159027808 8791159027808 8791159027776\n"
     ]
    },
    {
     "ename": "TypeError",
     "evalue": "'str' object does not support item assignment",
     "output_type": "error",
     "traceback": [
      "\u001B[1;31m---------------------------------------------------------------------------\u001B[0m",
      "\u001B[1;31mTypeError\u001B[0m                                 Traceback (most recent call last)",
      "\u001B[1;32m<ipython-input-26-b4545e69e4db>\u001B[0m in \u001B[0;36m<module>\u001B[1;34m\u001B[0m\n\u001B[0;32m      4\u001B[0m \u001B[1;33m\u001B[0m\u001B[0m\n\u001B[0;32m      5\u001B[0m \u001B[1;31m# 不可变对象不能修改\u001B[0m\u001B[1;33m\u001B[0m\u001B[1;33m\u001B[0m\u001B[1;33m\u001B[0m\u001B[0m\n\u001B[1;32m----> 6\u001B[1;33m \u001B[0mstring\u001B[0m\u001B[1;33m[\u001B[0m\u001B[1;36m1\u001B[0m\u001B[1;33m]\u001B[0m \u001B[1;33m=\u001B[0m \u001B[1;34m\"s\"\u001B[0m\u001B[1;33m\u001B[0m\u001B[1;33m\u001B[0m\u001B[0m\n\u001B[0m",
      "\u001B[1;31mTypeError\u001B[0m: 'str' object does not support item assignment"
     ]
    }
   ],
   "source": [
    "# 重新赋值\n",
    "number = 11\n",
    "print(id(number), id(11), id(10))\n",
    "\n",
    "# 不可变对象不能修改\n",
    "string[1] = \"s\""
   ]
  },
  {
   "cell_type": "code",
   "execution_count": 12,
   "metadata": {},
   "outputs": [
    {
     "name": "stdout",
     "output_type": "stream",
     "text": [
      "['abc', 20.5] (10, 'hello world', ['abc', 20.5]) (['abc', 20.5], 'hello world')\n",
      "['abc', 50.5] (10, 'hello world', ['abc', 50.5]) (['abc', 50.5], 'hello world')\n"
     ]
    }
   ],
   "source": [
    "number = 10\n",
    "string = \"hello world\"\n",
    "list1 = [\"abc\", 20.5]\n",
    "tuple1 = (number, string, list1)\n",
    "tuple2 = (list1, string)\n",
    "print(list1, tuple1, tuple2)\n",
    "tuple1[2][1] = 50.5\n",
    "print(list1, tuple1, tuple2)"
   ]
  },
  {
   "cell_type": "markdown",
   "metadata": {},
   "source": [
    "### 元组常用函数"
   ]
  },
  {
   "cell_type": "code",
   "execution_count": 87,
   "metadata": {},
   "outputs": [
    {
     "name": "stdout",
     "output_type": "stream",
     "text": [
      "10\n",
      "99\n",
      "0\n",
      "('h', 'e', 'l', 'l', 'o')\n",
      "('h', 'e', 'l', 'l', 'o')\n"
     ]
    }
   ],
   "source": [
    "tuple1 = (2, 5, 2, 2, 5, 0, 99, 2, 2, 2)\n",
    "# 元组长度\n",
    "print(len(tuple1))\n",
    "\n",
    "# 最大值\n",
    "print(max(tuple1))\n",
    "\n",
    "# 最小值\n",
    "print(min(tuple1))\n",
    "\n",
    "# 序列转换为元组\n",
    "list1 = [\"h\", \"e\", \"l\", \"l\", \"o\"]\n",
    "strings1 = \"hello\"\n",
    "print(tuple(list1))\n",
    "print(tuple(strings1))"
   ]
  },
  {
   "cell_type": "markdown",
   "metadata": {},
   "source": [
    "### 元组方法"
   ]
  },
  {
   "cell_type": "code",
   "execution_count": 10,
   "metadata": {},
   "outputs": [
    {
     "ename": "AttributeError",
     "evalue": "'tuple' object has no attribute 'append'",
     "output_type": "error",
     "traceback": [
      "\u001B[1;31m---------------------------------------------------------------------------\u001B[0m",
      "\u001B[1;31mAttributeError\u001B[0m                            Traceback (most recent call last)",
      "\u001B[1;32m<ipython-input-10-27ccc6204b61>\u001B[0m in \u001B[0;36m<module>\u001B[1;34m\u001B[0m\n\u001B[0;32m      1\u001B[0m \u001B[0mtuple1\u001B[0m \u001B[1;33m=\u001B[0m \u001B[1;33m(\u001B[0m\u001B[1;36m2\u001B[0m\u001B[1;33m,\u001B[0m \u001B[1;36m5\u001B[0m\u001B[1;33m,\u001B[0m \u001B[1;36m2\u001B[0m\u001B[1;33m,\u001B[0m \u001B[1;36m2\u001B[0m\u001B[1;33m,\u001B[0m \u001B[1;36m5\u001B[0m\u001B[1;33m,\u001B[0m \u001B[1;36m0\u001B[0m\u001B[1;33m,\u001B[0m \u001B[1;36m99\u001B[0m\u001B[1;33m,\u001B[0m \u001B[1;36m2\u001B[0m\u001B[1;33m,\u001B[0m \u001B[1;36m2\u001B[0m\u001B[1;33m,\u001B[0m \u001B[1;36m2\u001B[0m\u001B[1;33m)\u001B[0m\u001B[1;33m\u001B[0m\u001B[1;33m\u001B[0m\u001B[0m\n\u001B[1;32m----> 2\u001B[1;33m \u001B[0mtuple1\u001B[0m\u001B[1;33m.\u001B[0m\u001B[0mappend\u001B[0m\u001B[1;33m(\u001B[0m\u001B[1;36m2\u001B[0m\u001B[1;33m)\u001B[0m\u001B[1;33m\u001B[0m\u001B[1;33m\u001B[0m\u001B[0m\n\u001B[0m",
      "\u001B[1;31mAttributeError\u001B[0m: 'tuple' object has no attribute 'append'"
     ]
    }
   ],
   "source": [
    "tuple1 = (2, 5, 2, 2, 5, 0, 99, 2, 2, 2)\n",
    "tuple1.append(2)"
   ]
  },
  {
   "cell_type": "markdown",
   "metadata": {},
   "source": [
    "### 创建字典"
   ]
  },
  {
   "cell_type": "code",
   "execution_count": 93,
   "metadata": {},
   "outputs": [
    {
     "name": "stdout",
     "output_type": "stream",
     "text": [
      "1002\n",
      "1002\n"
     ]
    }
   ],
   "source": [
    "names = [\"zhang3\", \"li4\", \"wang5\"]\n",
    "numbers = [1001, 1002, 1003]\n",
    "\n",
    "#li4的编号是\n",
    "print(numbers[names.index(\"li4\")])\n",
    "\n",
    "#创建字典staffbook\n",
    "staffbook = {\"zhang3\":1001, \"li4\":1002, \"wang5\":1003}\n",
    "print(staffbook[\"li4\"])"
   ]
  },
  {
   "cell_type": "markdown",
   "metadata": {},
   "source": [
    "### 利用函数dict创建字典"
   ]
  },
  {
   "cell_type": "code",
   "execution_count": 104,
   "metadata": {
    "scrolled": true
   },
   "outputs": [
    {
     "name": "stdout",
     "output_type": "stream",
     "text": [
      "{'zhang3': 1001, 'li4': 1002, 'wang5': 1003}\n",
      "{'zhang3': 1001, 'li4': 1002, 'wang5': 1003} {'zhang3': 1001, 'li4': 1002, 'wang5': 1003}\n",
      "99064128 99062784 99062784\n",
      "{'zhang3': 1001, 'li4': 1002, 'wang5': 1003}\n",
      "{'zhang3': 1001, 'li4': 1002, 'wang5': 1003}\n",
      "{'zhang3': 1001, 'li4': 1002, 'wang5': 1003}\n"
     ]
    }
   ],
   "source": [
    "staffbook1 = {\"zhang3\":1001, \"li4\":1002, \"wang5\":1003}\n",
    "print(staffbook1)\n",
    "\n",
    "#从字典创建字典\n",
    "staffbook2 = dict(staffbook1)\n",
    "staffbook3 = staffbook1\n",
    "print(staffbook2, staffbook3)\n",
    "print(id(staffbook2), id(staffbook3), id(staffbook1))\n",
    "\n",
    "#从键-值对序列创建字典\n",
    "staffbook4 = dict([(\"zhang3\",1001), (\"li4\",1002), (\"wang5\",1003)])\n",
    "print(staffbook4)\n",
    "staffbook5 = dict(([\"zhang3\",1001], [\"li4\",1002], [\"wang5\",1003]))\n",
    "print(staffbook5)\n",
    "\n",
    "#利用关键字实参创建字典\n",
    "staffbook6 = dict(zhang3=1001, li4=1002, wang5=1003)\n",
    "print(staffbook6)"
   ]
  },
  {
   "cell_type": "markdown",
   "metadata": {},
   "source": [
    "### 字典中的键-值对"
   ]
  },
  {
   "cell_type": "code",
   "execution_count": 108,
   "metadata": {
    "scrolled": true
   },
   "outputs": [
    {
     "name": "stdout",
     "output_type": "stream",
     "text": [
      "{'zhang3': 1002, 'wang5': 1003}\n",
      "{'zhang3': 1001, 'li4': 1001, 'wang5': 1003}\n"
     ]
    },
    {
     "ename": "TypeError",
     "evalue": "unhashable type: 'list'",
     "output_type": "error",
     "traceback": [
      "\u001B[1;31m---------------------------------------------------------------------------\u001B[0m",
      "\u001B[1;31mTypeError\u001B[0m                                 Traceback (most recent call last)",
      "\u001B[1;32m<ipython-input-108-a99c23e844c3>\u001B[0m in \u001B[0;36m<module>\u001B[1;34m\u001B[0m\n\u001B[0;32m      5\u001B[0m \u001B[0mprint\u001B[0m\u001B[1;33m(\u001B[0m\u001B[0mstaffbook1\u001B[0m\u001B[1;33m)\u001B[0m\u001B[1;33m\u001B[0m\u001B[1;33m\u001B[0m\u001B[0m\n\u001B[0;32m      6\u001B[0m \u001B[1;33m\u001B[0m\u001B[0m\n\u001B[1;32m----> 7\u001B[1;33m \u001B[0mstaffbook2\u001B[0m \u001B[1;33m=\u001B[0m \u001B[1;33m{\u001B[0m\u001B[1;34m\"zhang3\"\u001B[0m\u001B[1;33m:\u001B[0m\u001B[1;36m1001\u001B[0m\u001B[1;33m,\u001B[0m \u001B[1;33m[\u001B[0m\u001B[1;34m\"zhang3\"\u001B[0m\u001B[1;33m]\u001B[0m\u001B[1;33m:\u001B[0m\u001B[1;36m1002\u001B[0m\u001B[1;33m,\u001B[0m \u001B[1;34m\"wang5\"\u001B[0m\u001B[1;33m:\u001B[0m\u001B[1;36m1003\u001B[0m\u001B[1;33m}\u001B[0m\u001B[1;33m\u001B[0m\u001B[1;33m\u001B[0m\u001B[0m\n\u001B[0m\u001B[0;32m      8\u001B[0m \u001B[0mprint\u001B[0m\u001B[1;33m(\u001B[0m\u001B[0mstaffbook2\u001B[0m\u001B[1;33m)\u001B[0m\u001B[1;33m\u001B[0m\u001B[1;33m\u001B[0m\u001B[0m\n",
      "\u001B[1;31mTypeError\u001B[0m: unhashable type: 'list'"
     ]
    }
   ],
   "source": [
    "staffbook1 = {\"zhang3\":1001, \"zhang3\":1002, \"wang5\":1003}\n",
    "print(staffbook1)\n",
    "\n",
    "staffbook1 = {\"zhang3\":1001, \"li4\":1001, \"wang5\":1003}\n",
    "print(staffbook1)\n",
    "\n",
    "staffbook2 = {\"zhang3\":1001, [\"zhang3\"]:1002, \"wang5\":1003}\n",
    "print(staffbook2)"
   ]
  },
  {
   "cell_type": "markdown",
   "metadata": {},
   "source": [
    "### 字典操作"
   ]
  },
  {
   "cell_type": "code",
   "execution_count": 116,
   "metadata": {},
   "outputs": [
    {
     "name": "stdout",
     "output_type": "stream",
     "text": [
      "3\n",
      "1001\n",
      "{'zhang3': 1005, 'li4': 1002, 'wang5': 1003}\n",
      "{'li4': 1002, 'wang5': 1003}\n",
      "False\n"
     ]
    }
   ],
   "source": [
    "staffbook1 = {\"zhang3\":1001, \"li4\":1002, \"wang5\":1003}\n",
    "print(len(staffbook1))\n",
    "\n",
    "print(staffbook1[\"zhang3\"])\n",
    "\n",
    "staffbook1[\"zhang3\"] = 1005\n",
    "print(staffbook1)\n",
    "\n",
    "del(staffbook1[\"zhang3\"])\n",
    "print(staffbook1)\n",
    "\n",
    "print(\"zhang3\" in staffbook1)"
   ]
  },
  {
   "cell_type": "markdown",
   "metadata": {},
   "source": [
    "### 字典中创建新项"
   ]
  },
  {
   "cell_type": "code",
   "execution_count": 8,
   "metadata": {
    "scrolled": true,
    "ExecuteTime": {
     "end_time": "2024-01-21T13:41:09.860686Z",
     "start_time": "2024-01-21T13:41:09.847455Z"
    }
   },
   "outputs": [
    {
     "name": "stdout",
     "output_type": "stream",
     "text": [
      "{'zhang3': 1001, 'li4': 1002, 'wang5': 1003, 'ma6': 1004}\n"
     ]
    }
   ],
   "source": [
    "staffbook1 = {\"zhang3\":1001, \"li4\":1002, \"wang5\":1003}\n",
    "#创建新项\n",
    "staffbook1[\"ma6\"] = 1004\n",
    "print(staffbook1)\n",
    "\n",
    "list1 = [(\"zhang3\",1001), (\"li4\",1002), (\"wang5\",1003)]\n",
    "list1[2] = (\"ma6\", 1003)"
   ]
  },
  {
   "cell_type": "markdown",
   "metadata": {},
   "source": [
    "### 数据库字典示例"
   ]
  },
  {
   "cell_type": "code",
   "execution_count": 128,
   "metadata": {},
   "outputs": [
    {
     "name": "stdout",
     "output_type": "stream",
     "text": [
      "Name: zhang3\n",
      "Staff_number (S) or Address (A): S\n",
      "zhang3's staff_number is 1001\n"
     ]
    }
   ],
   "source": [
    "#人员数据库\n",
    "people = {\n",
    "    \"zhang3\":{\n",
    "        \"staff_number\":1001,\n",
    "        \"address\":\"Road001\"\n",
    "    },\n",
    "    \"li4\":{\n",
    "        \"staff_number\":1002,\n",
    "        \"address\":\"Road002\"\n",
    "    },\n",
    "    \"wang5\":{\n",
    "        \"staff_number\":1003,\n",
    "        \"address\":\"Road003\"\n",
    "    }\n",
    "}\n",
    "\n",
    "#查询数据库\n",
    "name = input(\"Name: \")\n",
    "request = input(\"Staff_number (S) or Address (A): \")\n",
    "\n",
    "if name in people:\n",
    "    if request == \"A\":\n",
    "        print(\"{}'s {} is {}\".format(name, \"address\", people[name][\"address\"]))\n",
    "    if request == \"S\":\n",
    "        print(\"{}'s {} is {}\".format(name, \"staff_number\", people[name][\"staff_number\"]))\n",
    "    "
   ]
  },
  {
   "cell_type": "markdown",
   "metadata": {},
   "source": [
    "### 字符串格式设置用于字典format_map"
   ]
  },
  {
   "cell_type": "code",
   "execution_count": 27,
   "metadata": {},
   "outputs": [
    {
     "name": "stdout",
     "output_type": "stream",
     "text": [
      "<html>\n",
      "<head><title>My home page</title></head>\n",
      "<body>\n",
      "<h1>My home page</h1>\n",
      "<p>Welcome to my home page!</p>\n",
      "</body>\n",
      "</html>\n",
      "\n",
      "<html>\n",
      "<head><title>My home page</title></head>\n",
      "<body>\n",
      "<h1>My home page</h1>\n",
      "<p>Welcome to my home page!</p>\n",
      "</body>\n",
      "</html>\n"
     ]
    }
   ],
   "source": [
    "web_template = '''<html>\n",
    "<head><title>{title}</title></head>\n",
    "<body>\n",
    "<h1>{title}</h1>\n",
    "<p>{text}</p>\n",
    "</body>\n",
    "</html>\n",
    "'''\n",
    "data = {\"title\":\"My home page\", \"text\":\"Welcome to my home page!\"}\n",
    "print(web_template.format_map(data))\n",
    "\n",
    "#print(web_template.format(title = \"My home page\", text = \"Welcome to my home page!\"))"
   ]
  },
  {
   "cell_type": "markdown",
   "metadata": {},
   "source": [
    "### 字典方法keys, values, items"
   ]
  },
  {
   "cell_type": "code",
   "execution_count": 6,
   "metadata": {},
   "outputs": [
    {
     "name": "stdout",
     "output_type": "stream",
     "text": [
      "dict_keys(['zhang3', 'li4', 'wang5'])\n",
      "dict_values([1001, 1002, 1003])\n",
      "dict_items([('zhang3', 1001), ('li4', 1002), ('wang5', 1003)])\n",
      "['zhang3', 'li4', 'wang5']\n",
      "[1001, 1002, 1003]\n",
      "[('zhang3', 1001), ('li4', 1002), ('wang5', 1003)]\n"
     ]
    }
   ],
   "source": [
    "staffbook1 = {\"zhang3\":1001, \"li4\":1002, \"wang5\":1003}\n",
    "#返回键或值或项的字典视图\n",
    "print(staffbook1.keys())\n",
    "print(staffbook1.values())\n",
    "print(staffbook1.items())\n",
    "\n",
    "#返回键或值或项的列表\n",
    "print(list(staffbook1.keys()))\n",
    "print(list(staffbook1.values()))\n",
    "print(list(staffbook1.items()))"
   ]
  },
  {
   "cell_type": "markdown",
   "metadata": {},
   "source": [
    "### 字典方法get"
   ]
  },
  {
   "cell_type": "code",
   "execution_count": 9,
   "metadata": {},
   "outputs": [
    {
     "name": "stdout",
     "output_type": "stream",
     "text": [
      "None\n",
      "ma6不在字典中\n"
     ]
    },
    {
     "ename": "KeyError",
     "evalue": "'ma6'",
     "output_type": "error",
     "traceback": [
      "\u001B[1;31m---------------------------------------------------------------------------\u001B[0m",
      "\u001B[1;31mKeyError\u001B[0m                                  Traceback (most recent call last)",
      "\u001B[1;32m<ipython-input-9-f91104fa4e07>\u001B[0m in \u001B[0;36m<module>\u001B[1;34m\u001B[0m\n\u001B[0;32m      2\u001B[0m \u001B[0mprint\u001B[0m\u001B[1;33m(\u001B[0m\u001B[0mstaffbook1\u001B[0m\u001B[1;33m.\u001B[0m\u001B[0mget\u001B[0m\u001B[1;33m(\u001B[0m\u001B[1;34m\"ma6\"\u001B[0m\u001B[1;33m)\u001B[0m\u001B[1;33m)\u001B[0m\u001B[1;33m\u001B[0m\u001B[1;33m\u001B[0m\u001B[0m\n\u001B[0;32m      3\u001B[0m \u001B[0mprint\u001B[0m\u001B[1;33m(\u001B[0m\u001B[0mstaffbook1\u001B[0m\u001B[1;33m.\u001B[0m\u001B[0mget\u001B[0m\u001B[1;33m(\u001B[0m\u001B[1;34m\"ma6\"\u001B[0m\u001B[1;33m,\u001B[0m \u001B[1;34m\"ma6不在字典中\"\u001B[0m\u001B[1;33m)\u001B[0m\u001B[1;33m)\u001B[0m\u001B[1;33m\u001B[0m\u001B[1;33m\u001B[0m\u001B[0m\n\u001B[1;32m----> 4\u001B[1;33m \u001B[0mprint\u001B[0m\u001B[1;33m(\u001B[0m\u001B[0mstaffbook1\u001B[0m\u001B[1;33m[\u001B[0m\u001B[1;34m\"ma6\"\u001B[0m\u001B[1;33m]\u001B[0m\u001B[1;33m)\u001B[0m\u001B[1;33m\u001B[0m\u001B[1;33m\u001B[0m\u001B[0m\n\u001B[0m",
      "\u001B[1;31mKeyError\u001B[0m: 'ma6'"
     ]
    }
   ],
   "source": [
    "staffbook1 = {\"zhang3\":1001, \"li4\":1002, \"wang5\":1003}\n",
    "print(staffbook1.get(\"ma6\"))\n",
    "print(staffbook1.get(\"ma6\", \"ma6不在字典中\"))\n",
    "print(staffbook1[\"ma6\"])"
   ]
  },
  {
   "cell_type": "code",
   "execution_count": null,
   "metadata": {},
   "outputs": [],
   "source": []
  }
 ],
 "metadata": {
  "kernelspec": {
   "display_name": "Python 3",
   "language": "python",
   "name": "python3"
  },
  "language_info": {
   "codemirror_mode": {
    "name": "ipython",
    "version": 3
   },
   "file_extension": ".py",
   "mimetype": "text/x-python",
   "name": "python",
   "nbconvert_exporter": "python",
   "pygments_lexer": "ipython3",
   "version": "3.8.3"
  }
 },
 "nbformat": 4,
 "nbformat_minor": 4
}
