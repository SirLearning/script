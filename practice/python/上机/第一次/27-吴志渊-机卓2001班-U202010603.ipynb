{
 "cells": [
  {
   "cell_type": "markdown",
   "metadata": {},
   "source": [
    "## 《Python程序设计》2023秋季\n",
    "**<font size=4>上机（2023-10-23）</font>**\n",
    "\n",
    "**刘潇  机械科学与工程学院**\n",
    "\n",
    "**要点：**\n",
    "- 利用anaconda搭建python环境，练习python基本语法\n",
    "- 根据下列markdown中的提示，完成相关代码\n",
    "- 练习数字和字符串相关方法和模块的使用\n",
    "- 练习列表、元组、字典相关方法的使用\n",
    "- 练习Python中可变和不可变变量的内存管理\n",
    "\n",
    "**完成1~6代码，下课前提交代码到1176651931@qq.com邮箱，根据代码的功能性和可读性进行评分，计入平时成绩**\n",
    "### <center><font color=#A52A2A size=5 >注意：邮件主题按照“学生序号-姓名-班级-学号”的格式填写（学生序号见QQ群excel文件）</font></center>"
   ]
  },
  {
   "cell_type": "markdown",
   "metadata": {},
   "source": [
    "# 1 请依次打印学生序号、姓名、学号和日期（逗号分隔）"
   ]
  },
  {
   "cell_type": "code",
   "execution_count": 3,
   "metadata": {},
   "outputs": [
    {
     "name": "stdout",
     "output_type": "stream",
     "text": [
      "27,吴志渊,U202010603,2023.10.23\n"
     ]
    }
   ],
   "source": [
    "student_id = 27\n",
    "name = \"吴志渊\"\n",
    "student_number = \"U202010603\"\n",
    "date = \"2023.10.23\"\n",
    "\n",
    "print(\"{},{},{},{}\".format(student_id, name, student_number, date))"
   ]
  },
  {
   "cell_type": "markdown",
   "metadata": {},
   "source": [
    "## 2 数字"
   ]
  },
  {
   "cell_type": "markdown",
   "metadata": {},
   "source": [
    "### 2.1 任意输入两个整数x和y，求a = x<sup>y</sup>"
   ]
  },
  {
   "cell_type": "code",
   "execution_count": 4,
   "metadata": {},
   "outputs": [
    {
     "name": "stdout",
     "output_type": "stream",
     "text": [
      "20的2次方为：400\n"
     ]
    }
   ],
   "source": [
    "x = int(input(\"请输入x的值：\"))\n",
    "y = int(input(\"请输入y的值：\"))\n",
    "\n",
    "result = x ** y\n",
    "\n",
    "print(\"{}的{}次方为：{}\".format(x, y, result))"
   ]
  },
  {
   "cell_type": "markdown",
   "metadata": {},
   "source": [
    "### 2.2 求x和y的最大公约数b（math.gcd）"
   ]
  },
  {
   "cell_type": "code",
   "execution_count": 5,
   "metadata": {},
   "outputs": [
    {
     "name": "stdout",
     "output_type": "stream",
     "text": [
      "24和36的最大公约数为：12\n"
     ]
    }
   ],
   "source": [
    "import math\n",
    "\n",
    "# x = int(input(\"请输入x的值：\"))\n",
    "# y = int(input(\"请输入y的值：\"))\n",
    "x = 24\n",
    "y = 36\n",
    "\n",
    "b = math.gcd(x, y)\n",
    "\n",
    "print(\"{}和{}的最大公约数为：{}\".format(x, y, b))"
   ]
  },
  {
   "cell_type": "markdown",
   "metadata": {},
   "source": [
    "### 2.3 求x的阶乘c（math.factorial）"
   ]
  },
  {
   "cell_type": "code",
   "execution_count": 9,
   "metadata": {},
   "outputs": [
    {
     "name": "stdout",
     "output_type": "stream",
     "text": [
      "4的阶乘为：24\n"
     ]
    }
   ],
   "source": [
    "import math\n",
    "\n",
    "# x = int(input(\"请输入x的值：\"))\n",
    "x = 4\n",
    "\n",
    "y = math.factorial(x)\n",
    "print(\"{}的阶乘为：{}\".format(x,y))"
   ]
  },
  {
   "cell_type": "markdown",
   "metadata": {},
   "source": [
    "### 2.4 打印出a,b,c中的最大值（max）"
   ]
  },
  {
   "cell_type": "code",
   "execution_count": 13,
   "metadata": {},
   "outputs": [
    {
     "name": "stdout",
     "output_type": "stream",
     "text": [
      "三个数中最大的数为： 500\n"
     ]
    }
   ],
   "source": [
    "a = 30\n",
    "b = 23\n",
    "c = 500\n",
    "print(\"三个数中最大的数为：\",max(a, b, c))"
   ]
  },
  {
   "cell_type": "markdown",
   "metadata": {},
   "source": [
    "### 2.5 在区间[-1,1]产生一个随机数（random.uniform）"
   ]
  },
  {
   "cell_type": "code",
   "execution_count": 12,
   "metadata": {},
   "outputs": [
    {
     "name": "stdout",
     "output_type": "stream",
     "text": [
      "随机数为： 74\n"
     ]
    }
   ],
   "source": [
    "import random\n",
    "a = random.randint(1, 100)\n",
    "print(\"随机数为：\",a)"
   ]
  },
  {
   "cell_type": "markdown",
   "metadata": {},
   "source": [
    "## 3 字符串"
   ]
  },
  {
   "cell_type": "markdown",
   "metadata": {},
   "source": [
    "### 3.1 使用input从屏幕接受一个字符串输入，使得word=“abcdefg”；"
   ]
  },
  {
   "cell_type": "code",
   "execution_count": 14,
   "metadata": {
    "scrolled": true
   },
   "outputs": [
    {
     "name": "stdout",
     "output_type": "stream",
     "text": [
      "输入的字符串为： abcdefg\n"
     ]
    }
   ],
   "source": [
    "word = input(\"请输入字符串：\")\n",
    "print(\"输入的字符串为：\", word)"
   ]
  },
  {
   "cell_type": "markdown",
   "metadata": {},
   "source": [
    "### 3.2 用print输出字符串word的长度（len）;"
   ]
  },
  {
   "cell_type": "code",
   "execution_count": 15,
   "metadata": {},
   "outputs": [
    {
     "name": "stdout",
     "output_type": "stream",
     "text": [
      "输入的字符串长度为： 7\n"
     ]
    }
   ],
   "source": [
    "word = input(\"请输入字符串：\")\n",
    "print(\"输入的字符串长度为：\", word.__len__())"
   ]
  },
  {
   "cell_type": "markdown",
   "metadata": {},
   "source": [
    " ### 3.3 使用print分别打印出word第一个字符、第二和倒数第三个字符；"
   ]
  },
  {
   "cell_type": "code",
   "execution_count": 16,
   "metadata": {},
   "outputs": [
    {
     "name": "stdout",
     "output_type": "stream",
     "text": [
      "字符串的第一个字符为： a\n",
      "字符串的第二个字符为： b\n",
      "字符串的倒数第三个字符为： e\n"
     ]
    }
   ],
   "source": [
    "word = \"abcdefg\"\n",
    "print(\"字符串的第一个字符为：\", word[0])\n",
    "print(\"字符串的第二个字符为：\", word[1])\n",
    "print(\"字符串的倒数第三个字符为：\", word[-3])\n"
   ]
  },
  {
   "cell_type": "markdown",
   "metadata": {},
   "source": [
    "### 3.4 输出word的后三个字符；"
   ]
  },
  {
   "cell_type": "code",
   "execution_count": 17,
   "metadata": {},
   "outputs": [
    {
     "name": "stdout",
     "output_type": "stream",
     "text": [
      "efg\n"
     ]
    }
   ],
   "source": [
    "word = \"abcdefg\"\n",
    "print(\"后三个字符为\",word[-3:])"
   ]
  },
  {
   "cell_type": "markdown",
   "metadata": {},
   "source": [
    "### 3.5 判断字符串“cd”是否是word的子串（in）；"
   ]
  },
  {
   "cell_type": "code",
   "execution_count": 21,
   "metadata": {},
   "outputs": [
    {
     "name": "stdout",
     "output_type": "stream",
     "text": [
      "acd不是abcdefg的子串\n"
     ]
    }
   ],
   "source": [
    "word = \"abcdefg\"\n",
    "sub = \"cd\"\n",
    "# sub = \"acd\"\n",
    "\n",
    "if sub in word:\n",
    "    print(\"{}是{}的子串\".format(sub,word))\n",
    "else:\n",
    "    print(\"{}不是{}的子串\".format(sub,word))"
   ]
  },
  {
   "cell_type": "markdown",
   "metadata": {},
   "source": [
    "### 3.6 将字符”a”转换为字符“b”(replace)；"
   ]
  },
  {
   "cell_type": "code",
   "execution_count": 22,
   "metadata": {},
   "outputs": [
    {
     "name": "stdout",
     "output_type": "stream",
     "text": [
      "bbcdefg\n"
     ]
    }
   ],
   "source": [
    "word = \"abcdefg\"\n",
    "word = word.replace(\"a\", \"b\")\n",
    "print(word)"
   ]
  },
  {
   "cell_type": "markdown",
   "metadata": {},
   "source": [
    "### 3.7 将word字符串转换为列表wordlist（list）；"
   ]
  },
  {
   "cell_type": "code",
   "execution_count": 23,
   "metadata": {},
   "outputs": [
    {
     "name": "stdout",
     "output_type": "stream",
     "text": [
      "['a', 'b', 'c', 'd', 'e', 'f', 'g']\n"
     ]
    }
   ],
   "source": [
    "word = \"abcdefg\"\n",
    "wordlist = list(word)\n",
    "print(wordlist)"
   ]
  },
  {
   "cell_type": "markdown",
   "metadata": {},
   "source": [
    "### 3.8 将wordlist转为以空格分隔的字符串“a b c d e f g”（join）；"
   ]
  },
  {
   "cell_type": "code",
   "execution_count": 24,
   "metadata": {},
   "outputs": [
    {
     "name": "stdout",
     "output_type": "stream",
     "text": [
      "a b c d e f g\n"
     ]
    }
   ],
   "source": [
    "wordlist = ['a', 'b', 'c', 'd', 'e', 'f', 'g']\n",
    "wordlist_p = \" \".join(wordlist)\n",
    "print(wordlist_p)"
   ]
  },
  {
   "cell_type": "markdown",
   "metadata": {},
   "source": [
    "### 3.9 将以空格分隔的字符串转换回列表（split）；"
   ]
  },
  {
   "cell_type": "code",
   "execution_count": 25,
   "metadata": {},
   "outputs": [
    {
     "name": "stdout",
     "output_type": "stream",
     "text": [
      "['a', 'b', 'c', 'd', 'e', 'f', 'g']\n"
     ]
    }
   ],
   "source": [
    "wordlist = wordlist_p.split()\n",
    "print(wordlist)"
   ]
  },
  {
   "cell_type": "markdown",
   "metadata": {},
   "source": [
    "### 3.10 将word字符串在大小字母转换（upper,lower）；"
   ]
  },
  {
   "cell_type": "code",
   "execution_count": 26,
   "metadata": {},
   "outputs": [
    {
     "name": "stdout",
     "output_type": "stream",
     "text": [
      "原字符串： abcdefg\n",
      "转换后的大写字符串： ABCDEFG\n",
      "转换后的小写字符串： abcdefg\n"
     ]
    }
   ],
   "source": [
    "word = \"abcdefg\"\n",
    "word_upper = word.upper()  # 将字符串中的所有字母转换为大写字母\n",
    "word_lower = word.lower()  # 将字符串中的所有字母转换为小写字母\n",
    "print(\"原字符串：\", word)\n",
    "print(\"转换后的大写字符串：\", word_upper)\n",
    "print(\"转换后的小写字符串：\", word_lower)"
   ]
  },
  {
   "cell_type": "markdown",
   "metadata": {},
   "source": [
    "### 3.11 将word字符串的前两个字符和剩下的字符分两行打印（\\n）"
   ]
  },
  {
   "cell_type": "code",
   "execution_count": 28,
   "metadata": {},
   "outputs": [
    {
     "name": "stdout",
     "output_type": "stream",
     "text": [
      "ab\n",
      "cdefg\n"
     ]
    }
   ],
   "source": [
    "word = \"abcdefg\"\n",
    "print(word[:2]+\"\\n\"+word[2:])"
   ]
  },
  {
   "cell_type": "markdown",
   "metadata": {},
   "source": [
    "### 3.12 利用windows资源管理器在anaconda安装目录中搜索numpydoc.py，并打印其绝对路径（r\"\"）"
   ]
  },
  {
   "cell_type": "code",
   "execution_count": 29,
   "metadata": {},
   "outputs": [
    {
     "name": "stdout",
     "output_type": "stream",
     "text": [
      "D:\\software\\Anaconda3\\Lib\\site-packages\\numpydoc\\numpydoc.py\n"
     ]
    }
   ],
   "source": [
    "import os\n",
    "\n",
    "# Anaconda安装目录\n",
    "anaconda_path = r\"D:\\software\\Anaconda3\"\n",
    "\n",
    "# 遍历Anaconda安装目录下的所有文件和文件夹\n",
    "for root, dirs, files in os.walk(anaconda_path):\n",
    "    # 在当前目录下查找numpydoc.py文件\n",
    "    if \"numpydoc.py\" in files:\n",
    "        # 打印numpydoc.py文件的绝对路径\n",
    "        print(os.path.join(root, \"numpydoc.py\"))\n",
    "        break"
   ]
  },
  {
   "cell_type": "markdown",
   "metadata": {},
   "source": [
    "### 3.13 分别用utf-8和gbk对strings字符串进行编码和解码（encode(\"utf-8\")，decode(\"utf-8\")）"
   ]
  },
  {
   "cell_type": "code",
   "execution_count": 30,
   "metadata": {},
   "outputs": [
    {
     "name": "stdout",
     "output_type": "stream",
     "text": [
      "原字符串： Hello,世界\n",
      "utf-8编码后的字符串： b'Hello,\\xe4\\xb8\\x96\\xe7\\x95\\x8c'\n",
      "utf-8解码后的字符串： Hello,世界\n",
      "gbk编码后的字符串： b'Hello,\\xca\\xc0\\xbd\\xe7'\n",
      "gbk解码后的字符串： Hello,世界\n"
     ]
    }
   ],
   "source": [
    "strings = \"Hello,世界\"\n",
    "\n",
    "# utf-8编码\n",
    "strings_utf8 = strings.encode(\"utf-8\")\n",
    "# utf-8解码\n",
    "strings_decode_utf8 = strings_utf8.decode(\"utf-8\")\n",
    "# gbk编码\n",
    "strings_gbk = strings.encode(\"gbk\")\n",
    "# gbk解码\n",
    "strings_decode_gbk = strings_gbk.decode(\"gbk\")\n",
    "\n",
    "print(\"原字符串：\", strings)\n",
    "print(\"utf-8编码后的字符串：\", strings_utf8)\n",
    "print(\"utf-8解码后的字符串：\", strings_decode_utf8)\n",
    "print(\"gbk编码后的字符串：\", strings_gbk)\n",
    "print(\"gbk解码后的字符串：\", strings_decode_gbk)"
   ]
  },
  {
   "cell_type": "markdown",
   "metadata": {},
   "source": [
    "### 3.14 提取times字符串中的年月日（re.search）"
   ]
  },
  {
   "cell_type": "code",
   "execution_count": 32,
   "metadata": {},
   "outputs": [
    {
     "name": "stdout",
     "output_type": "stream",
     "text": [
      "年：2023，月：10，日：23\n"
     ]
    }
   ],
   "source": [
    "import re\n",
    "times = \"2023-10-23 19:15:56\"\n",
    "result = re.search(r\"(\\d{4})-(\\d{2})-(\\d{2})\", times)\n",
    "year = result.group(1)\n",
    "month = result.group(2)\n",
    "day = result.group(3)\n",
    "print(\"年：{}，月：{}，日：{}\".format(year, month, day))\n"
   ]
  },
  {
   "cell_type": "markdown",
   "metadata": {},
   "source": [
    "### 3.15 输入圆的半径，求圆的面积，并格式化输出“半径为r的圆面积为S”，面积保留10位小数（math.pi，format）"
   ]
  },
  {
   "cell_type": "code",
   "execution_count": 36,
   "metadata": {},
   "outputs": [
    {
     "name": "stdout",
     "output_type": "stream",
     "text": [
      "半径为5.0的圆的面积为78.5398163397\n"
     ]
    }
   ],
   "source": [
    "import math\n",
    "r = float(input(\"请输入圆的半径：\"))\n",
    "s = math.pi * r * r;\n",
    "print(\"半径为{}的圆的面积为{:.10f}\".format(r, s))"
   ]
  },
  {
   "cell_type": "markdown",
   "metadata": {},
   "source": [
    "## 4 列表和元组"
   ]
  },
  {
   "cell_type": "markdown",
   "metadata": {},
   "source": [
    "### 4.1 打印输出列表shoplist=['apple','mango','carrot','banana']长度"
   ]
  },
  {
   "cell_type": "code",
   "execution_count": 37,
   "metadata": {},
   "outputs": [
    {
     "name": "stdout",
     "output_type": "stream",
     "text": [
      "长度为： 4\n"
     ]
    }
   ],
   "source": [
    "shoplist = ['apple', 'mango', 'carrot', 'banana']\n",
    "print(\"长度为：\", len(shoplist))"
   ]
  },
  {
   "cell_type": "markdown",
   "metadata": {},
   "source": [
    "### 4.2 打印shoplist中的第2个和第3个元素"
   ]
  },
  {
   "cell_type": "code",
   "execution_count": 38,
   "metadata": {},
   "outputs": [
    {
     "name": "stdout",
     "output_type": "stream",
     "text": [
      "mango carrot\n"
     ]
    }
   ],
   "source": [
    "print(shoplist[1], shoplist[2])"
   ]
  },
  {
   "cell_type": "markdown",
   "metadata": {},
   "source": [
    "### 4.3 查看shoplist的引用（id）"
   ]
  },
  {
   "cell_type": "code",
   "execution_count": 39,
   "metadata": {},
   "outputs": [
    {
     "name": "stdout",
     "output_type": "stream",
     "text": [
      "shoplist的引用为： 2519131052032\n"
     ]
    }
   ],
   "source": [
    "print(\"shoplist的引用为：\", id(shoplist))"
   ]
  },
  {
   "cell_type": "markdown",
   "metadata": {},
   "source": [
    "### 4.4 在shoplist结尾使用append追加一项‘rice’，查看id否改变"
   ]
  },
  {
   "cell_type": "code",
   "execution_count": 40,
   "metadata": {},
   "outputs": [
    {
     "name": "stdout",
     "output_type": "stream",
     "text": [
      "添加前的id为： 2519131052032\n",
      "添加后的id为： 2519131052032\n"
     ]
    }
   ],
   "source": [
    "print(\"添加前的id为：\", id(shoplist))\n",
    "shoplist.append(\"rice\")\n",
    "print(\"添加后的id为：\", id(shoplist))"
   ]
  },
  {
   "cell_type": "markdown",
   "metadata": {},
   "source": [
    "### 4.5 对shoplist重新排序（sort），查看id否改变"
   ]
  },
  {
   "cell_type": "code",
   "execution_count": 41,
   "metadata": {},
   "outputs": [
    {
     "name": "stdout",
     "output_type": "stream",
     "text": [
      "重排前的id为： 2519131052032\n",
      "重排后的id为： 2519131052032\n"
     ]
    }
   ],
   "source": [
    "print(\"重排前的id为：\", id(shoplist))\n",
    "shoplist.sort()\n",
    "print(\"重排后的id为：\", id(shoplist))"
   ]
  },
  {
   "cell_type": "markdown",
   "metadata": {},
   "source": [
    "### 4.6 在列表的第二项前插入一个’egg’字符串（insert）"
   ]
  },
  {
   "cell_type": "code",
   "execution_count": 42,
   "metadata": {},
   "outputs": [
    {
     "name": "stdout",
     "output_type": "stream",
     "text": [
      "['apple', 'egg', 'mango', 'carrot', 'banana', 'rice']\n"
     ]
    }
   ],
   "source": [
    "shoplist = ['apple', 'mango', 'carrot', 'banana']\n",
    "shoplist.append(\"rice\")\n",
    "shoplist.insert(1, 'egg')\n",
    "print(shoplist)"
   ]
  },
  {
   "cell_type": "markdown",
   "metadata": {},
   "source": [
    "### 4.7 删除列表第一项（del）"
   ]
  },
  {
   "cell_type": "code",
   "execution_count": 43,
   "metadata": {},
   "outputs": [
    {
     "name": "stdout",
     "output_type": "stream",
     "text": [
      "['egg', 'mango', 'carrot', 'banana', 'rice']\n"
     ]
    }
   ],
   "source": [
    "del(shoplist[0])\n",
    "print(shoplist)"
   ]
  },
  {
   "cell_type": "markdown",
   "metadata": {},
   "source": [
    "### 4.8 查询’egg’在列表中的位置（index）"
   ]
  },
  {
   "cell_type": "code",
   "execution_count": 44,
   "metadata": {},
   "outputs": [
    {
     "name": "stdout",
     "output_type": "stream",
     "text": [
      "'egg'在列表shoplist中的位置为： 0\n"
     ]
    }
   ],
   "source": [
    "print(\"'egg'在列表shoplist中的位置为：\", shoplist.index('egg'))"
   ]
  },
  {
   "cell_type": "markdown",
   "metadata": {},
   "source": [
    "### 4.9 将列表转换为元组shoptuple（tuple）"
   ]
  },
  {
   "cell_type": "code",
   "execution_count": 45,
   "metadata": {},
   "outputs": [
    {
     "name": "stdout",
     "output_type": "stream",
     "text": [
      "('egg', 'mango', 'carrot', 'banana', 'rice')\n"
     ]
    }
   ],
   "source": [
    "shoptuple = tuple(shoplist)\n",
    "print(shoptuple)"
   ]
  },
  {
   "cell_type": "markdown",
   "metadata": {},
   "source": [
    "### 4.10 将列表转换为字符串shopstr（str）"
   ]
  },
  {
   "cell_type": "code",
   "execution_count": 46,
   "metadata": {},
   "outputs": [
    {
     "name": "stdout",
     "output_type": "stream",
     "text": [
      "['egg', 'mango', 'carrot', 'banana', 'rice']\n"
     ]
    }
   ],
   "source": [
    "shopstr = str(shoplist)\n",
    "print(shopstr)"
   ]
  },
  {
   "cell_type": "markdown",
   "metadata": {},
   "source": [
    "## 5 字典"
   ]
  },
  {
   "cell_type": "markdown",
   "metadata": {},
   "source": [
    "### 5.1 使用dict函数构造字典dt={‘a’：‘aaa’，‘b’：‘bbb’，‘c’：12}"
   ]
  },
  {
   "cell_type": "code",
   "execution_count": 47,
   "metadata": {},
   "outputs": [
    {
     "name": "stdout",
     "output_type": "stream",
     "text": [
      "{'a': 'aaa', 'b': 'bbb', 'c': 12}\n"
     ]
    }
   ],
   "source": [
    "dt = {'a': 'aaa', 'b': 'bbb', 'c': 12}\n",
    "print(dt)"
   ]
  },
  {
   "cell_type": "markdown",
   "metadata": {},
   "source": [
    "### 5.2 查看dt的引用（id）"
   ]
  },
  {
   "cell_type": "code",
   "execution_count": 49,
   "metadata": {},
   "outputs": [
    {
     "name": "stdout",
     "output_type": "stream",
     "text": [
      "字典的id为： 2519131106112\n"
     ]
    }
   ],
   "source": [
    "dt_id = id(dt)\n",
    "print(\"字典的id为：\",dt_id)"
   ]
  },
  {
   "cell_type": "markdown",
   "metadata": {},
   "source": [
    "### 5.3 增加一项’d’:100, 查看id是否改变"
   ]
  },
  {
   "cell_type": "code",
   "execution_count": 50,
   "metadata": {},
   "outputs": [
    {
     "name": "stdout",
     "output_type": "stream",
     "text": [
      "字典dt的引用为： 2519131106112\n",
      "添加元素后的引用为： 2519131106112\n"
     ]
    }
   ],
   "source": [
    "print(\"字典dt的引用为：\", id(dt))\n",
    "dt['d'] = 100\n",
    "print(\"添加元素后的引用为：\", id(dt))"
   ]
  },
  {
   "cell_type": "markdown",
   "metadata": {},
   "source": [
    "### 5.4 将’d’的值改为200"
   ]
  },
  {
   "cell_type": "code",
   "execution_count": 51,
   "metadata": {},
   "outputs": [
    {
     "name": "stdout",
     "output_type": "stream",
     "text": [
      "{'a': 'aaa', 'b': 'bbb', 'c': 12, 'd': 200}\n"
     ]
    }
   ],
   "source": [
    "dt['d'] = 200\n",
    "print(dt)"
   ]
  },
  {
   "cell_type": "markdown",
   "metadata": {},
   "source": [
    "### 5.5 输出dt的键列表和值列表（keys,values,items）"
   ]
  },
  {
   "cell_type": "code",
   "execution_count": 53,
   "metadata": {},
   "outputs": [
    {
     "name": "stdout",
     "output_type": "stream",
     "text": [
      "keys: ['a', 'b', 'c', 'd']\n",
      "Values: ['aaa', 'bbb', 12, 200]\n",
      "items: [('a', 'aaa'), ('b', 'bbb'), ('c', 12), ('d', 200)]\n"
     ]
    }
   ],
   "source": [
    "keys = list(dt.keys())\n",
    "values = list(dt.values())\n",
    "items = list(dt.items())\n",
    "print(\"keys:\", keys)\n",
    "print(\"Values:\", values)\n",
    "print(\"items:\", items)"
   ]
  },
  {
   "cell_type": "markdown",
   "metadata": {},
   "source": [
    "### 5.6 使用for循环输出dt键和对应的值"
   ]
  },
  {
   "cell_type": "code",
   "execution_count": 54,
   "metadata": {},
   "outputs": [
    {
     "name": "stdout",
     "output_type": "stream",
     "text": [
      "键：a，值：aaa\n",
      "键：b，值：bbb\n",
      "键：c，值：12\n",
      "键：d，值：200\n"
     ]
    }
   ],
   "source": [
    "for key in dt:\n",
    "    value = dt[key]\n",
    "    print(\"键：{}，值：{}\".format(key, value))"
   ]
  },
  {
   "cell_type": "markdown",
   "metadata": {},
   "source": [
    "### 5.7 将dt转换为元组"
   ]
  },
  {
   "cell_type": "code",
   "execution_count": 55,
   "metadata": {},
   "outputs": [
    {
     "name": "stdout",
     "output_type": "stream",
     "text": [
      "(('a', 'aaa'), ('b', 'bbb'), ('c', 12), ('d', 200))\n"
     ]
    }
   ],
   "source": [
    "dt_tuple = tuple(dt.items())\n",
    "print(dt_tuple)"
   ]
  },
  {
   "cell_type": "markdown",
   "metadata": {},
   "source": [
    "### 5.8 使用get加缺省参数获取键’d’和’e’的值；"
   ]
  },
  {
   "cell_type": "code",
   "execution_count": 56,
   "metadata": {},
   "outputs": [
    {
     "name": "stdout",
     "output_type": "stream",
     "text": [
      "键'd'值为： 200\n",
      "键'e'值为： null\n"
     ]
    }
   ],
   "source": [
    "d_value = dt.get('d', 'null')\n",
    "e_value = dt.get('e', 'null')\n",
    "print(\"键'd'值为：\", d_value)\n",
    "print(\"键'e'值为：\", e_value)"
   ]
  },
  {
   "cell_type": "markdown",
   "metadata": {},
   "source": [
    "## 6 可变和不可变对象"
   ]
  },
  {
   "cell_type": "markdown",
   "metadata": {},
   "source": [
    "### 6.1 把shoplist及shoptuple分别赋值给shoplist2和shoptuple2变量，验证列表与元组的可变性（id）"
   ]
  },
  {
   "cell_type": "code",
   "execution_count": 59,
   "metadata": {},
   "outputs": [
    {
     "name": "stdout",
     "output_type": "stream",
     "text": [
      "shoplist的引用为： 2519131506560\n",
      "shoplist2的引用为： 2519144350784\n",
      "shoptuple的引用为： 2519130903136\n",
      "shoptuple2的引用为： 2519130903136\n"
     ]
    }
   ],
   "source": [
    "shoplist2 = shoplist.copy()\n",
    "shoptuple2 = shoptuple\n",
    "print(\"shoplist的引用为：\", id(shoplist))\n",
    "print(\"shoplist2的引用为：\", id(shoplist2))\n",
    "print(\"shoptuple的引用为：\", id(shoptuple))\n",
    "print(\"shoptuple2的引用为：\", id(shoptuple2))"
   ]
  },
  {
   "cell_type": "markdown",
   "metadata": {},
   "source": [
    "### 6.2 设计试验证明数字是不可变对象"
   ]
  },
  {
   "cell_type": "code",
   "execution_count": 63,
   "metadata": {},
   "outputs": [
    {
     "name": "stdout",
     "output_type": "stream",
     "text": [
      "原始数字a的引用为： 140729340564552\n",
      "修改后数字a的引用为： 140729340564584\n"
     ]
    }
   ],
   "source": [
    "a = 10\n",
    "print(\"原始数字a的引用为：\", id(a))\n",
    "a = a + 1\n",
    "print(\"修改后数字a的引用为：\", id(a))\n",
    "# 原始数字和修改后的数字的引用不同，说明它们是不同的对象。\n",
    "# 说明数字是不可变对象，即数字的值一旦确定，就不能再被修改。"
   ]
  },
  {
   "cell_type": "markdown",
   "metadata": {},
   "source": [
    "### 6.3 设计试验证明字典是可变对象"
   ]
  },
  {
   "cell_type": "code",
   "execution_count": 65,
   "metadata": {},
   "outputs": [
    {
     "name": "stdout",
     "output_type": "stream",
     "text": [
      "{'a': 'aaa', 'b': 'bbb', 'c': 12, 'd': 200}\n",
      "原始字典dt的引用为： 2519131106112\n",
      "修改后字典dt为： {'a': 'aaa', 'b': 'bbb', 'c': 12, 'd': 200, 'wzy': 2023}\n",
      "修改后字典dt的引用为： 2519131106112\n"
     ]
    }
   ],
   "source": [
    "print(dt)\n",
    "print(\"原始字典dt的引用为：\", id(dt))\n",
    "dt['wzy'] = 2023\n",
    "print(\"修改后字典dt为：\", dt)\n",
    "print(\"修改后字典dt的引用为：\", id(dt))\n",
    "# 原始字典与修改后的字典引用相同，说明它们是同一个对象。\n",
    "# 说明字典的值是可以修改的，即字典是可变对象"
   ]
  },
  {
   "cell_type": "markdown",
   "metadata": {},
   "source": [
    "### 6.4 设计试验验证列表和字典的浅拷贝和深拷贝"
   ]
  },
  {
   "cell_type": "code",
   "execution_count": 70,
   "metadata": {},
   "outputs": [
    {
     "name": "stdout",
     "output_type": "stream",
     "text": [
      "list1的值为： [1, 2, [3, 4]]\n",
      "list1的引用为： 2519144183168\n",
      "listCopy的引用为： 2519144176704\n",
      "listDeepCopy的引用为： 2519131211648\n",
      "修改后list1的值为： [1, 2, [5, 4]]\n",
      "修改后listCopy的值为： [1, 2, [5, 4]]\n",
      "修改后listDeepCopy的值为： [1, 2, [3, 4]]\n",
      "\n",
      "dict1的值为： {'a': [1, 2], 'b': {'c': 3}}\n",
      "dict1的引用为： 2519144153536\n",
      "dictCopy的引用为： 2519143444416\n",
      "dictDeepCopy的引用为： 2519131219392\n",
      "修改后dict1的值为： {'a': [5, 2], 'b': {'c': 6}}\n",
      "修改后dictCopy的值为： {'a': [5, 2], 'b': {'c': 6}}\n",
      "修改后dictDeepCopy的值为： {'a': [1, 2], 'b': {'c': 3}}\n"
     ]
    }
   ],
   "source": [
    "import copy\n",
    "\n",
    "# =========================== list ===========================\n",
    "# 列表的浅拷贝和深拷贝\n",
    "list1 = [1, 2, [3, 4]]\n",
    "listCopy = list1.copy()\n",
    "listDeepCopy = copy.deepcopy(list1)\n",
    "\n",
    "print(\"list1的值为：\", list1)\n",
    "print(\"list1的引用为：\", id(list1))\n",
    "print(\"listCopy的引用为：\", id(listCopy))\n",
    "print(\"listDeepCopy的引用为：\", id(listDeepCopy))\n",
    "\n",
    "list1[2][0] = 5\n",
    "print(\"修改后list1的值为：\", list1)\n",
    "print(\"修改后listCopy的值为：\", listCopy)\n",
    "print(\"修改后listDeepCopy的值为：\", listDeepCopy)\n",
    "\n",
    "# =========================== directory ===========================\n",
    "# 字典的浅拷贝和深拷贝\n",
    "dict1 = {'a': [1, 2], 'b': {'c': 3}}\n",
    "dictCopy = dict1.copy()\n",
    "dictDeepCopy = copy.deepcopy(dict1)\n",
    "\n",
    "print(\"\\ndict1的值为：\", dict1)\n",
    "print(\"dict1的引用为：\", id(dict1))\n",
    "print(\"dictCopy的引用为：\", id(dictCopy))\n",
    "print(\"dictDeepCopy的引用为：\", id(dictDeepCopy))\n",
    "\n",
    "dict1['a'][0] = 5\n",
    "dict1['b']['c'] = 6\n",
    "print(\"修改后dict1的值为：\", dict1)\n",
    "print(\"修改后dictCopy的值为：\", dictCopy)\n",
    "print(\"修改后dictDeepCopy的值为：\", dictDeepCopy)\n",
    "\n",
    "# ===========================  ==========================="
   ]
  },
  {
   "cell_type": "markdown",
   "metadata": {},
   "source": [
    "可以看到，浅拷贝和深拷贝后，字典与列表的id都发生了变化，说明拷贝后都是不同的对象\n",
    "修改原始列表和字典的第一个元素和键值对后，\n",
    "浅拷贝列表和字典的值也随之**发生了改变**\n",
    "深拷贝后的列表和字典的值**没有发生改变**，\n",
    "说明它们的拷贝方式不同。"
   ]
  }
 ],
 "metadata": {
  "kernelspec": {
   "display_name": "Python 3",
   "language": "python",
   "name": "python3"
  },
  "language_info": {
   "codemirror_mode": {
    "name": "ipython",
    "version": 3
   },
   "file_extension": ".py",
   "mimetype": "text/x-python",
   "name": "python",
   "nbconvert_exporter": "python",
   "pygments_lexer": "ipython3",
   "version": "3.11.5"
  }
 },
 "nbformat": 4,
 "nbformat_minor": 4
}
