{
 "cells": [
  {
   "cell_type": "markdown",
   "metadata": {},
   "source": [
    "# Interactive eigenvectors"
   ]
  },
  {
   "cell_type": "code",
   "execution_count": 2,
   "metadata": {},
   "outputs": [
    {
     "ename": "SyntaxError",
     "evalue": "invalid syntax (1218870955.py, line 1)",
     "output_type": "error",
     "traceback": [
      "\u001B[0;36m  Cell \u001B[0;32mIn[2], line 1\u001B[0;36m\u001B[0m\n\u001B[0;31m    using Plots, Interact\u001B[0m\n\u001B[0m          ^\u001B[0m\n\u001B[0;31mSyntaxError\u001B[0m\u001B[0;31m:\u001B[0m invalid syntax\n"
     ]
    }
   ],
   "source": [
    "using Plots, Interact"
   ]
  },
  {
   "cell_type": "code",
   "execution_count": 1,
   "metadata": {},
   "outputs": [
    {
     "ename": "SyntaxError",
     "evalue": "invalid syntax (2318335344.py, line 1)",
     "output_type": "error",
     "traceback": [
      "\u001B[0;36m  Cell \u001B[0;32mIn[1], line 1\u001B[0;36m\u001B[0m\n\u001B[0;31m    function plot_image(M, x, tol=0.05)\u001B[0m\n\u001B[0m             ^\u001B[0m\n\u001B[0;31mSyntaxError\u001B[0m\u001B[0;31m:\u001B[0m invalid syntax\n"
     ]
    }
   ],
   "source": [
    "function plot_image(M, x, tol=0.05)\n",
    "    \n",
    "    new_x = M * x\n",
    "    \n",
    "    unit_circle = [(cos(θ), sin(θ)) for θ in 0:0.01:2π]\n",
    "    ellipse = [M*[cos(θ), sin(θ)] for θ in 0:0.01:2π];\n",
    "\n",
    "    \n",
    "    plot([(0, 0), (x[1], x[2])], aspect_ratio=1, lw=2, leg=false, c=:green, arrow=0.4)\n",
    "    plot!([(0, 0), (new_x[1], new_x[2])], lw=3, c=:blue, arrow=0.4)\n",
    "\n",
    "    plot!(unit_circle, ls=:dash, c=:green)\n",
    "    plot!(first.(ellipse), last.(ellipse), ls=:dash, c=:blue)\n",
    "\n",
    "\n",
    "    # highlight when an eigenvector by changing color:\n",
    "    \n",
    "    ang1 = atan(x[2], x[1])\n",
    "    ang2 = atan(new_x[2], new_x[1])\n",
    "    \n",
    "    if abs(ang1 - ang2) < tol || abs(ang1 - ang2 + π) < tol || abs(ang1 - ang2 - π) < tol\n",
    "        plot!([(0, 0), (new_x[1], new_x[2])], lw=4, c=:magenta)\n",
    "        plot!([(0, 0), (x[1], x[2])], lw=4, c=:magenta)\n",
    "    end\n",
    "    \n",
    "    scatter!([0], [0])\n",
    "\n",
    "    xlims!(-2, 2)\n",
    "    ylims!(-2, 2)\n",
    "end"
   ]
  },
  {
   "cell_type": "code",
   "execution_count": 4,
   "metadata": {},
   "outputs": [
    {
     "data": {
      "application/vnd.webio.node+json": {
       "children": [
        {
         "children": [
          {
           "children": [
            {
             "children": [
              {
               "children": [
                {
                 "children": [
                  {
                   "children": [
                    "a"
                   ],
                   "instanceArgs": {
                    "namespace": "html",
                    "tag": "label"
                   },
                   "nodeType": "DOM",
                   "props": {
                    "className": "interact ",
                    "style": {
                     "padding": "5px 10px 0px 10px"
                    }
                   },
                   "type": "node"
                  }
                 ],
                 "instanceArgs": {
                  "namespace": "html",
                  "tag": "div"
                 },
                 "nodeType": "DOM",
                 "props": {
                  "className": "interact-flex-row-left"
                 },
                 "type": "node"
                },
                {
                 "children": [
                  {
                   "children": [],
                   "instanceArgs": {
                    "namespace": "html",
                    "tag": "input"
                   },
                   "nodeType": "DOM",
                   "props": {
                    "attributes": {
                     "data-bind": "numericValue: index, valueUpdate: 'input', event: {change: function (){this.changes(this.changes()+1)}}",
                     "orient": "horizontal",
                     "type": "range"
                    },
                    "className": "slider slider is-fullwidth",
                    "max": 41,
                    "min": 1,
                    "step": 1,
                    "style": {}
                   },
                   "type": "node"
                  }
                 ],
                 "instanceArgs": {
                  "namespace": "html",
                  "tag": "div"
                 },
                 "nodeType": "DOM",
                 "props": {
                  "className": "interact-flex-row-center"
                 },
                 "type": "node"
                },
                {
                 "children": [
                  {
                   "children": [],
                   "instanceArgs": {
                    "namespace": "html",
                    "tag": "p"
                   },
                   "nodeType": "DOM",
                   "props": {
                    "attributes": {
                     "data-bind": "text: formatted_val"
                    }
                   },
                   "type": "node"
                  }
                 ],
                 "instanceArgs": {
                  "namespace": "html",
                  "tag": "div"
                 },
                 "nodeType": "DOM",
                 "props": {
                  "className": "interact-flex-row-right"
                 },
                 "type": "node"
                }
               ],
               "instanceArgs": {
                "namespace": "html",
                "tag": "div"
               },
               "nodeType": "DOM",
               "props": {
                "className": "interact-flex-row interact-widget"
               },
               "type": "node"
              }
             ],
             "instanceArgs": {
              "handlers": {
               "changes": [
                "(function (val){return (val!=this.model[\"changes\"]()) ? (this.valueFromJulia[\"changes\"]=true, this.model[\"changes\"](val)) : undefined})"
               ],
               "index": [
                "(function (val){return (val!=this.model[\"index\"]()) ? (this.valueFromJulia[\"index\"]=true, this.model[\"index\"](val)) : undefined})"
               ]
              },
              "id": "knockout-component-24c8dad5-b400-4069-baab-4e449bc928ec",
              "imports": {
               "data": [
                {
                 "name": "knockout",
                 "type": "js",
                 "url": "/assetserver/f07383ad7ba5d9e293900fdc7e5e611110d6ff32-knockout.js"
                },
                {
                 "name": "knockout_punches",
                 "type": "js",
                 "url": "/assetserver/306cc87ce82e45c3e5eb81524cb970ae2bab3932-knockout_punches.js"
                },
                {
                 "name": null,
                 "type": "js",
                 "url": "/assetserver/69078235d89420aa60ec07ae908cfcc65b6ecf85-all.js"
                },
                {
                 "name": null,
                 "type": "css",
                 "url": "/assetserver/98bc206151bf33944d9780fd349511e9eae784a0-style.css"
                },
                {
                 "name": null,
                 "type": "css",
                 "url": "/assetserver/13615fa9690b1c4388c3fe14db802e442333ebc4-bulma_confined.min.css"
                }
               ],
               "type": "async_block"
              },
              "mount_callbacks": [
               "function () {\n    var handler = (function (ko, koPunches) {\n    ko.punches.enableAll();\n    ko.bindingHandlers.numericValue = {\n        init : function(element, valueAccessor, allBindings, data, context) {\n            var stringified = ko.observable(ko.unwrap(valueAccessor()));\n            stringified.subscribe(function(value) {\n                var val = parseFloat(value);\n                if (!isNaN(val)) {\n                    valueAccessor()(val);\n                }\n            })\n            valueAccessor().subscribe(function(value) {\n                var str = JSON.stringify(value);\n                if ((str == \"0\") && ([\"-0\", \"-0.\"].indexOf(stringified()) >= 0))\n                     return;\n                 if ([\"null\", \"\"].indexOf(str) >= 0)\n                     return;\n                stringified(str);\n            })\n            ko.applyBindingsToNode(element, { value: stringified, valueUpdate: allBindings.get('valueUpdate')}, context);\n        }\n    };\n    var json_data = {\"formatted_vals\":[\"-2.0\",\"-1.9\",\"-1.8\",\"-1.7\",\"-1.6\",\"-1.5\",\"-1.4\",\"-1.3\",\"-1.2\",\"-1.1\",\"-1.0\",\"-0.9\",\"-0.8\",\"-0.7\",\"-0.6\",\"-0.5\",\"-0.4\",\"-0.3\",\"-0.2\",\"-0.1\",\"0.0\",\"0.1\",\"0.2\",\"0.3\",\"0.4\",\"0.5\",\"0.6\",\"0.7\",\"0.8\",\"0.9\",\"1.0\",\"1.1\",\"1.2\",\"1.3\",\"1.4\",\"1.5\",\"1.6\",\"1.7\",\"1.8\",\"1.9\",\"2.0\"],\"changes\":WebIO.getval({\"name\":\"changes\",\"scope\":\"knockout-component-24c8dad5-b400-4069-baab-4e449bc928ec\",\"id\":\"ob_03\",\"type\":\"observable\"}),\"index\":WebIO.getval({\"name\":\"index\",\"scope\":\"knockout-component-24c8dad5-b400-4069-baab-4e449bc928ec\",\"id\":\"ob_02\",\"type\":\"observable\"})};\n    var self = this;\n    function AppViewModel() {\n        for (var key in json_data) {\n            var el = json_data[key];\n            this[key] = Array.isArray(el) ? ko.observableArray(el) : ko.observable(el);\n        }\n        \n        [this[\"formatted_val\"]=ko.computed(    function(){\n        return this.formatted_vals()[parseInt(this.index())-1];\n    }\n,this)]\n        [this[\"changes\"].subscribe((function (val){!(this.valueFromJulia[\"changes\"]) ? (WebIO.setval({\"name\":\"changes\",\"scope\":\"knockout-component-24c8dad5-b400-4069-baab-4e449bc928ec\",\"id\":\"ob_03\",\"type\":\"observable\"},val)) : undefined; return this.valueFromJulia[\"changes\"]=false}),self),this[\"index\"].subscribe((function (val){!(this.valueFromJulia[\"index\"]) ? (WebIO.setval({\"name\":\"index\",\"scope\":\"knockout-component-24c8dad5-b400-4069-baab-4e449bc928ec\",\"id\":\"ob_02\",\"type\":\"observable\"},val)) : undefined; return this.valueFromJulia[\"index\"]=false}),self)]\n        \n    }\n    self.model = new AppViewModel();\n    self.valueFromJulia = {};\n    for (var key in json_data) {\n        self.valueFromJulia[key] = false;\n    }\n    ko.applyBindings(self.model, self.dom);\n}\n);\n    (WebIO.importBlock({\"data\":[{\"name\":\"knockout\",\"type\":\"js\",\"url\":\"/assetserver/f07383ad7ba5d9e293900fdc7e5e611110d6ff32-knockout.js\"},{\"name\":\"knockout_punches\",\"type\":\"js\",\"url\":\"/assetserver/306cc87ce82e45c3e5eb81524cb970ae2bab3932-knockout_punches.js\"}],\"type\":\"async_block\"})).then((imports) => handler.apply(this, imports));\n}\n"
              ],
              "observables": {
               "changes": {
                "id": "ob_03",
                "sync": false,
                "value": 0
               },
               "index": {
                "id": "ob_02",
                "sync": true,
                "value": 21
               }
              },
              "systemjs_options": null
             },
             "nodeType": "Scope",
             "props": {},
             "type": "node"
            }
           ],
           "instanceArgs": {
            "namespace": "html",
            "tag": "div"
           },
           "nodeType": "DOM",
           "props": {
            "className": "field interact-widget"
           },
           "type": "node"
          },
          {
           "children": [
            {
             "children": [
              {
               "children": [
                {
                 "children": [
                  {
                   "children": [
                    "b"
                   ],
                   "instanceArgs": {
                    "namespace": "html",
                    "tag": "label"
                   },
                   "nodeType": "DOM",
                   "props": {
                    "className": "interact ",
                    "style": {
                     "padding": "5px 10px 0px 10px"
                    }
                   },
                   "type": "node"
                  }
                 ],
                 "instanceArgs": {
                  "namespace": "html",
                  "tag": "div"
                 },
                 "nodeType": "DOM",
                 "props": {
                  "className": "interact-flex-row-left"
                 },
                 "type": "node"
                },
                {
                 "children": [
                  {
                   "children": [],
                   "instanceArgs": {
                    "namespace": "html",
                    "tag": "input"
                   },
                   "nodeType": "DOM",
                   "props": {
                    "attributes": {
                     "data-bind": "numericValue: index, valueUpdate: 'input', event: {change: function (){this.changes(this.changes()+1)}}",
                     "orient": "horizontal",
                     "type": "range"
                    },
                    "className": "slider slider is-fullwidth",
                    "max": 41,
                    "min": 1,
                    "step": 1,
                    "style": {}
                   },
                   "type": "node"
                  }
                 ],
                 "instanceArgs": {
                  "namespace": "html",
                  "tag": "div"
                 },
                 "nodeType": "DOM",
                 "props": {
                  "className": "interact-flex-row-center"
                 },
                 "type": "node"
                },
                {
                 "children": [
                  {
                   "children": [],
                   "instanceArgs": {
                    "namespace": "html",
                    "tag": "p"
                   },
                   "nodeType": "DOM",
                   "props": {
                    "attributes": {
                     "data-bind": "text: formatted_val"
                    }
                   },
                   "type": "node"
                  }
                 ],
                 "instanceArgs": {
                  "namespace": "html",
                  "tag": "div"
                 },
                 "nodeType": "DOM",
                 "props": {
                  "className": "interact-flex-row-right"
                 },
                 "type": "node"
                }
               ],
               "instanceArgs": {
                "namespace": "html",
                "tag": "div"
               },
               "nodeType": "DOM",
               "props": {
                "className": "interact-flex-row interact-widget"
               },
               "type": "node"
              }
             ],
             "instanceArgs": {
              "handlers": {
               "changes": [
                "(function (val){return (val!=this.model[\"changes\"]()) ? (this.valueFromJulia[\"changes\"]=true, this.model[\"changes\"](val)) : undefined})"
               ],
               "index": [
                "(function (val){return (val!=this.model[\"index\"]()) ? (this.valueFromJulia[\"index\"]=true, this.model[\"index\"](val)) : undefined})"
               ]
              },
              "id": "knockout-component-45a7001d-ed44-47d9-80ee-8165b2973f6b",
              "imports": {
               "data": [
                {
                 "name": "knockout",
                 "type": "js",
                 "url": "/assetserver/f07383ad7ba5d9e293900fdc7e5e611110d6ff32-knockout.js"
                },
                {
                 "name": "knockout_punches",
                 "type": "js",
                 "url": "/assetserver/306cc87ce82e45c3e5eb81524cb970ae2bab3932-knockout_punches.js"
                },
                {
                 "name": null,
                 "type": "js",
                 "url": "/assetserver/69078235d89420aa60ec07ae908cfcc65b6ecf85-all.js"
                },
                {
                 "name": null,
                 "type": "css",
                 "url": "/assetserver/98bc206151bf33944d9780fd349511e9eae784a0-style.css"
                },
                {
                 "name": null,
                 "type": "css",
                 "url": "/assetserver/13615fa9690b1c4388c3fe14db802e442333ebc4-bulma_confined.min.css"
                }
               ],
               "type": "async_block"
              },
              "mount_callbacks": [
               "function () {\n    var handler = (function (ko, koPunches) {\n    ko.punches.enableAll();\n    ko.bindingHandlers.numericValue = {\n        init : function(element, valueAccessor, allBindings, data, context) {\n            var stringified = ko.observable(ko.unwrap(valueAccessor()));\n            stringified.subscribe(function(value) {\n                var val = parseFloat(value);\n                if (!isNaN(val)) {\n                    valueAccessor()(val);\n                }\n            })\n            valueAccessor().subscribe(function(value) {\n                var str = JSON.stringify(value);\n                if ((str == \"0\") && ([\"-0\", \"-0.\"].indexOf(stringified()) >= 0))\n                     return;\n                 if ([\"null\", \"\"].indexOf(str) >= 0)\n                     return;\n                stringified(str);\n            })\n            ko.applyBindingsToNode(element, { value: stringified, valueUpdate: allBindings.get('valueUpdate')}, context);\n        }\n    };\n    var json_data = {\"formatted_vals\":[\"-2.0\",\"-1.9\",\"-1.8\",\"-1.7\",\"-1.6\",\"-1.5\",\"-1.4\",\"-1.3\",\"-1.2\",\"-1.1\",\"-1.0\",\"-0.9\",\"-0.8\",\"-0.7\",\"-0.6\",\"-0.5\",\"-0.4\",\"-0.3\",\"-0.2\",\"-0.1\",\"0.0\",\"0.1\",\"0.2\",\"0.3\",\"0.4\",\"0.5\",\"0.6\",\"0.7\",\"0.8\",\"0.9\",\"1.0\",\"1.1\",\"1.2\",\"1.3\",\"1.4\",\"1.5\",\"1.6\",\"1.7\",\"1.8\",\"1.9\",\"2.0\"],\"changes\":WebIO.getval({\"name\":\"changes\",\"scope\":\"knockout-component-45a7001d-ed44-47d9-80ee-8165b2973f6b\",\"id\":\"ob_06\",\"type\":\"observable\"}),\"index\":WebIO.getval({\"name\":\"index\",\"scope\":\"knockout-component-45a7001d-ed44-47d9-80ee-8165b2973f6b\",\"id\":\"ob_05\",\"type\":\"observable\"})};\n    var self = this;\n    function AppViewModel() {\n        for (var key in json_data) {\n            var el = json_data[key];\n            this[key] = Array.isArray(el) ? ko.observableArray(el) : ko.observable(el);\n        }\n        \n        [this[\"formatted_val\"]=ko.computed(    function(){\n        return this.formatted_vals()[parseInt(this.index())-1];\n    }\n,this)]\n        [this[\"changes\"].subscribe((function (val){!(this.valueFromJulia[\"changes\"]) ? (WebIO.setval({\"name\":\"changes\",\"scope\":\"knockout-component-45a7001d-ed44-47d9-80ee-8165b2973f6b\",\"id\":\"ob_06\",\"type\":\"observable\"},val)) : undefined; return this.valueFromJulia[\"changes\"]=false}),self),this[\"index\"].subscribe((function (val){!(this.valueFromJulia[\"index\"]) ? (WebIO.setval({\"name\":\"index\",\"scope\":\"knockout-component-45a7001d-ed44-47d9-80ee-8165b2973f6b\",\"id\":\"ob_05\",\"type\":\"observable\"},val)) : undefined; return this.valueFromJulia[\"index\"]=false}),self)]\n        \n    }\n    self.model = new AppViewModel();\n    self.valueFromJulia = {};\n    for (var key in json_data) {\n        self.valueFromJulia[key] = false;\n    }\n    ko.applyBindings(self.model, self.dom);\n}\n);\n    (WebIO.importBlock({\"data\":[{\"name\":\"knockout\",\"type\":\"js\",\"url\":\"/assetserver/f07383ad7ba5d9e293900fdc7e5e611110d6ff32-knockout.js\"},{\"name\":\"knockout_punches\",\"type\":\"js\",\"url\":\"/assetserver/306cc87ce82e45c3e5eb81524cb970ae2bab3932-knockout_punches.js\"}],\"type\":\"async_block\"})).then((imports) => handler.apply(this, imports));\n}\n"
              ],
              "observables": {
               "changes": {
                "id": "ob_06",
                "sync": false,
                "value": 0
               },
               "index": {
                "id": "ob_05",
                "sync": true,
                "value": 21
               }
              },
              "systemjs_options": null
             },
             "nodeType": "Scope",
             "props": {},
             "type": "node"
            }
           ],
           "instanceArgs": {
            "namespace": "html",
            "tag": "div"
           },
           "nodeType": "DOM",
           "props": {
            "className": "field interact-widget"
           },
           "type": "node"
          }
         ],
         "instanceArgs": {
          "namespace": "html",
          "tag": "div"
         },
         "nodeType": "DOM",
         "props": {
          "style": {
           "display": "flex",
           "flex-direction": "row"
          }
         },
         "type": "node"
        },
        {
         "children": [
          {
           "children": [
            {
             "children": [
              {
               "children": [
                {
                 "children": [
                  {
                   "children": [
                    "c"
                   ],
                   "instanceArgs": {
                    "namespace": "html",
                    "tag": "label"
                   },
                   "nodeType": "DOM",
                   "props": {
                    "className": "interact ",
                    "style": {
                     "padding": "5px 10px 0px 10px"
                    }
                   },
                   "type": "node"
                  }
                 ],
                 "instanceArgs": {
                  "namespace": "html",
                  "tag": "div"
                 },
                 "nodeType": "DOM",
                 "props": {
                  "className": "interact-flex-row-left"
                 },
                 "type": "node"
                },
                {
                 "children": [
                  {
                   "children": [],
                   "instanceArgs": {
                    "namespace": "html",
                    "tag": "input"
                   },
                   "nodeType": "DOM",
                   "props": {
                    "attributes": {
                     "data-bind": "numericValue: index, valueUpdate: 'input', event: {change: function (){this.changes(this.changes()+1)}}",
                     "orient": "horizontal",
                     "type": "range"
                    },
                    "className": "slider slider is-fullwidth",
                    "max": 41,
                    "min": 1,
                    "step": 1,
                    "style": {}
                   },
                   "type": "node"
                  }
                 ],
                 "instanceArgs": {
                  "namespace": "html",
                  "tag": "div"
                 },
                 "nodeType": "DOM",
                 "props": {
                  "className": "interact-flex-row-center"
                 },
                 "type": "node"
                },
                {
                 "children": [
                  {
                   "children": [],
                   "instanceArgs": {
                    "namespace": "html",
                    "tag": "p"
                   },
                   "nodeType": "DOM",
                   "props": {
                    "attributes": {
                     "data-bind": "text: formatted_val"
                    }
                   },
                   "type": "node"
                  }
                 ],
                 "instanceArgs": {
                  "namespace": "html",
                  "tag": "div"
                 },
                 "nodeType": "DOM",
                 "props": {
                  "className": "interact-flex-row-right"
                 },
                 "type": "node"
                }
               ],
               "instanceArgs": {
                "namespace": "html",
                "tag": "div"
               },
               "nodeType": "DOM",
               "props": {
                "className": "interact-flex-row interact-widget"
               },
               "type": "node"
              }
             ],
             "instanceArgs": {
              "handlers": {
               "changes": [
                "(function (val){return (val!=this.model[\"changes\"]()) ? (this.valueFromJulia[\"changes\"]=true, this.model[\"changes\"](val)) : undefined})"
               ],
               "index": [
                "(function (val){return (val!=this.model[\"index\"]()) ? (this.valueFromJulia[\"index\"]=true, this.model[\"index\"](val)) : undefined})"
               ]
              },
              "id": "knockout-component-d8a2120e-98ec-42f3-8ca1-493755ea1c82",
              "imports": {
               "data": [
                {
                 "name": "knockout",
                 "type": "js",
                 "url": "/assetserver/f07383ad7ba5d9e293900fdc7e5e611110d6ff32-knockout.js"
                },
                {
                 "name": "knockout_punches",
                 "type": "js",
                 "url": "/assetserver/306cc87ce82e45c3e5eb81524cb970ae2bab3932-knockout_punches.js"
                },
                {
                 "name": null,
                 "type": "js",
                 "url": "/assetserver/69078235d89420aa60ec07ae908cfcc65b6ecf85-all.js"
                },
                {
                 "name": null,
                 "type": "css",
                 "url": "/assetserver/98bc206151bf33944d9780fd349511e9eae784a0-style.css"
                },
                {
                 "name": null,
                 "type": "css",
                 "url": "/assetserver/13615fa9690b1c4388c3fe14db802e442333ebc4-bulma_confined.min.css"
                }
               ],
               "type": "async_block"
              },
              "mount_callbacks": [
               "function () {\n    var handler = (function (ko, koPunches) {\n    ko.punches.enableAll();\n    ko.bindingHandlers.numericValue = {\n        init : function(element, valueAccessor, allBindings, data, context) {\n            var stringified = ko.observable(ko.unwrap(valueAccessor()));\n            stringified.subscribe(function(value) {\n                var val = parseFloat(value);\n                if (!isNaN(val)) {\n                    valueAccessor()(val);\n                }\n            })\n            valueAccessor().subscribe(function(value) {\n                var str = JSON.stringify(value);\n                if ((str == \"0\") && ([\"-0\", \"-0.\"].indexOf(stringified()) >= 0))\n                     return;\n                 if ([\"null\", \"\"].indexOf(str) >= 0)\n                     return;\n                stringified(str);\n            })\n            ko.applyBindingsToNode(element, { value: stringified, valueUpdate: allBindings.get('valueUpdate')}, context);\n        }\n    };\n    var json_data = {\"formatted_vals\":[\"-2.0\",\"-1.9\",\"-1.8\",\"-1.7\",\"-1.6\",\"-1.5\",\"-1.4\",\"-1.3\",\"-1.2\",\"-1.1\",\"-1.0\",\"-0.9\",\"-0.8\",\"-0.7\",\"-0.6\",\"-0.5\",\"-0.4\",\"-0.3\",\"-0.2\",\"-0.1\",\"0.0\",\"0.1\",\"0.2\",\"0.3\",\"0.4\",\"0.5\",\"0.6\",\"0.7\",\"0.8\",\"0.9\",\"1.0\",\"1.1\",\"1.2\",\"1.3\",\"1.4\",\"1.5\",\"1.6\",\"1.7\",\"1.8\",\"1.9\",\"2.0\"],\"changes\":WebIO.getval({\"name\":\"changes\",\"scope\":\"knockout-component-d8a2120e-98ec-42f3-8ca1-493755ea1c82\",\"id\":\"ob_09\",\"type\":\"observable\"}),\"index\":WebIO.getval({\"name\":\"index\",\"scope\":\"knockout-component-d8a2120e-98ec-42f3-8ca1-493755ea1c82\",\"id\":\"ob_08\",\"type\":\"observable\"})};\n    var self = this;\n    function AppViewModel() {\n        for (var key in json_data) {\n            var el = json_data[key];\n            this[key] = Array.isArray(el) ? ko.observableArray(el) : ko.observable(el);\n        }\n        \n        [this[\"formatted_val\"]=ko.computed(    function(){\n        return this.formatted_vals()[parseInt(this.index())-1];\n    }\n,this)]\n        [this[\"changes\"].subscribe((function (val){!(this.valueFromJulia[\"changes\"]) ? (WebIO.setval({\"name\":\"changes\",\"scope\":\"knockout-component-d8a2120e-98ec-42f3-8ca1-493755ea1c82\",\"id\":\"ob_09\",\"type\":\"observable\"},val)) : undefined; return this.valueFromJulia[\"changes\"]=false}),self),this[\"index\"].subscribe((function (val){!(this.valueFromJulia[\"index\"]) ? (WebIO.setval({\"name\":\"index\",\"scope\":\"knockout-component-d8a2120e-98ec-42f3-8ca1-493755ea1c82\",\"id\":\"ob_08\",\"type\":\"observable\"},val)) : undefined; return this.valueFromJulia[\"index\"]=false}),self)]\n        \n    }\n    self.model = new AppViewModel();\n    self.valueFromJulia = {};\n    for (var key in json_data) {\n        self.valueFromJulia[key] = false;\n    }\n    ko.applyBindings(self.model, self.dom);\n}\n);\n    (WebIO.importBlock({\"data\":[{\"name\":\"knockout\",\"type\":\"js\",\"url\":\"/assetserver/f07383ad7ba5d9e293900fdc7e5e611110d6ff32-knockout.js\"},{\"name\":\"knockout_punches\",\"type\":\"js\",\"url\":\"/assetserver/306cc87ce82e45c3e5eb81524cb970ae2bab3932-knockout_punches.js\"}],\"type\":\"async_block\"})).then((imports) => handler.apply(this, imports));\n}\n"
              ],
              "observables": {
               "changes": {
                "id": "ob_09",
                "sync": false,
                "value": 0
               },
               "index": {
                "id": "ob_08",
                "sync": true,
                "value": 21
               }
              },
              "systemjs_options": null
             },
             "nodeType": "Scope",
             "props": {},
             "type": "node"
            }
           ],
           "instanceArgs": {
            "namespace": "html",
            "tag": "div"
           },
           "nodeType": "DOM",
           "props": {
            "className": "field interact-widget"
           },
           "type": "node"
          },
          {
           "children": [
            {
             "children": [
              {
               "children": [
                {
                 "children": [
                  {
                   "children": [
                    "d"
                   ],
                   "instanceArgs": {
                    "namespace": "html",
                    "tag": "label"
                   },
                   "nodeType": "DOM",
                   "props": {
                    "className": "interact ",
                    "style": {
                     "padding": "5px 10px 0px 10px"
                    }
                   },
                   "type": "node"
                  }
                 ],
                 "instanceArgs": {
                  "namespace": "html",
                  "tag": "div"
                 },
                 "nodeType": "DOM",
                 "props": {
                  "className": "interact-flex-row-left"
                 },
                 "type": "node"
                },
                {
                 "children": [
                  {
                   "children": [],
                   "instanceArgs": {
                    "namespace": "html",
                    "tag": "input"
                   },
                   "nodeType": "DOM",
                   "props": {
                    "attributes": {
                     "data-bind": "numericValue: index, valueUpdate: 'input', event: {change: function (){this.changes(this.changes()+1)}}",
                     "orient": "horizontal",
                     "type": "range"
                    },
                    "className": "slider slider is-fullwidth",
                    "max": 41,
                    "min": 1,
                    "step": 1,
                    "style": {}
                   },
                   "type": "node"
                  }
                 ],
                 "instanceArgs": {
                  "namespace": "html",
                  "tag": "div"
                 },
                 "nodeType": "DOM",
                 "props": {
                  "className": "interact-flex-row-center"
                 },
                 "type": "node"
                },
                {
                 "children": [
                  {
                   "children": [],
                   "instanceArgs": {
                    "namespace": "html",
                    "tag": "p"
                   },
                   "nodeType": "DOM",
                   "props": {
                    "attributes": {
                     "data-bind": "text: formatted_val"
                    }
                   },
                   "type": "node"
                  }
                 ],
                 "instanceArgs": {
                  "namespace": "html",
                  "tag": "div"
                 },
                 "nodeType": "DOM",
                 "props": {
                  "className": "interact-flex-row-right"
                 },
                 "type": "node"
                }
               ],
               "instanceArgs": {
                "namespace": "html",
                "tag": "div"
               },
               "nodeType": "DOM",
               "props": {
                "className": "interact-flex-row interact-widget"
               },
               "type": "node"
              }
             ],
             "instanceArgs": {
              "handlers": {
               "changes": [
                "(function (val){return (val!=this.model[\"changes\"]()) ? (this.valueFromJulia[\"changes\"]=true, this.model[\"changes\"](val)) : undefined})"
               ],
               "index": [
                "(function (val){return (val!=this.model[\"index\"]()) ? (this.valueFromJulia[\"index\"]=true, this.model[\"index\"](val)) : undefined})"
               ]
              },
              "id": "knockout-component-f75f6c73-384f-4cde-b984-890bfef3429c",
              "imports": {
               "data": [
                {
                 "name": "knockout",
                 "type": "js",
                 "url": "/assetserver/f07383ad7ba5d9e293900fdc7e5e611110d6ff32-knockout.js"
                },
                {
                 "name": "knockout_punches",
                 "type": "js",
                 "url": "/assetserver/306cc87ce82e45c3e5eb81524cb970ae2bab3932-knockout_punches.js"
                },
                {
                 "name": null,
                 "type": "js",
                 "url": "/assetserver/69078235d89420aa60ec07ae908cfcc65b6ecf85-all.js"
                },
                {
                 "name": null,
                 "type": "css",
                 "url": "/assetserver/98bc206151bf33944d9780fd349511e9eae784a0-style.css"
                },
                {
                 "name": null,
                 "type": "css",
                 "url": "/assetserver/13615fa9690b1c4388c3fe14db802e442333ebc4-bulma_confined.min.css"
                }
               ],
               "type": "async_block"
              },
              "mount_callbacks": [
               "function () {\n    var handler = (function (ko, koPunches) {\n    ko.punches.enableAll();\n    ko.bindingHandlers.numericValue = {\n        init : function(element, valueAccessor, allBindings, data, context) {\n            var stringified = ko.observable(ko.unwrap(valueAccessor()));\n            stringified.subscribe(function(value) {\n                var val = parseFloat(value);\n                if (!isNaN(val)) {\n                    valueAccessor()(val);\n                }\n            })\n            valueAccessor().subscribe(function(value) {\n                var str = JSON.stringify(value);\n                if ((str == \"0\") && ([\"-0\", \"-0.\"].indexOf(stringified()) >= 0))\n                     return;\n                 if ([\"null\", \"\"].indexOf(str) >= 0)\n                     return;\n                stringified(str);\n            })\n            ko.applyBindingsToNode(element, { value: stringified, valueUpdate: allBindings.get('valueUpdate')}, context);\n        }\n    };\n    var json_data = {\"formatted_vals\":[\"-2.0\",\"-1.9\",\"-1.8\",\"-1.7\",\"-1.6\",\"-1.5\",\"-1.4\",\"-1.3\",\"-1.2\",\"-1.1\",\"-1.0\",\"-0.9\",\"-0.8\",\"-0.7\",\"-0.6\",\"-0.5\",\"-0.4\",\"-0.3\",\"-0.2\",\"-0.1\",\"0.0\",\"0.1\",\"0.2\",\"0.3\",\"0.4\",\"0.5\",\"0.6\",\"0.7\",\"0.8\",\"0.9\",\"1.0\",\"1.1\",\"1.2\",\"1.3\",\"1.4\",\"1.5\",\"1.6\",\"1.7\",\"1.8\",\"1.9\",\"2.0\"],\"changes\":WebIO.getval({\"name\":\"changes\",\"scope\":\"knockout-component-f75f6c73-384f-4cde-b984-890bfef3429c\",\"id\":\"ob_12\",\"type\":\"observable\"}),\"index\":WebIO.getval({\"name\":\"index\",\"scope\":\"knockout-component-f75f6c73-384f-4cde-b984-890bfef3429c\",\"id\":\"ob_11\",\"type\":\"observable\"})};\n    var self = this;\n    function AppViewModel() {\n        for (var key in json_data) {\n            var el = json_data[key];\n            this[key] = Array.isArray(el) ? ko.observableArray(el) : ko.observable(el);\n        }\n        \n        [this[\"formatted_val\"]=ko.computed(    function(){\n        return this.formatted_vals()[parseInt(this.index())-1];\n    }\n,this)]\n        [this[\"changes\"].subscribe((function (val){!(this.valueFromJulia[\"changes\"]) ? (WebIO.setval({\"name\":\"changes\",\"scope\":\"knockout-component-f75f6c73-384f-4cde-b984-890bfef3429c\",\"id\":\"ob_12\",\"type\":\"observable\"},val)) : undefined; return this.valueFromJulia[\"changes\"]=false}),self),this[\"index\"].subscribe((function (val){!(this.valueFromJulia[\"index\"]) ? (WebIO.setval({\"name\":\"index\",\"scope\":\"knockout-component-f75f6c73-384f-4cde-b984-890bfef3429c\",\"id\":\"ob_11\",\"type\":\"observable\"},val)) : undefined; return this.valueFromJulia[\"index\"]=false}),self)]\n        \n    }\n    self.model = new AppViewModel();\n    self.valueFromJulia = {};\n    for (var key in json_data) {\n        self.valueFromJulia[key] = false;\n    }\n    ko.applyBindings(self.model, self.dom);\n}\n);\n    (WebIO.importBlock({\"data\":[{\"name\":\"knockout\",\"type\":\"js\",\"url\":\"/assetserver/f07383ad7ba5d9e293900fdc7e5e611110d6ff32-knockout.js\"},{\"name\":\"knockout_punches\",\"type\":\"js\",\"url\":\"/assetserver/306cc87ce82e45c3e5eb81524cb970ae2bab3932-knockout_punches.js\"}],\"type\":\"async_block\"})).then((imports) => handler.apply(this, imports));\n}\n"
              ],
              "observables": {
               "changes": {
                "id": "ob_12",
                "sync": false,
                "value": 0
               },
               "index": {
                "id": "ob_11",
                "sync": true,
                "value": 21
               }
              },
              "systemjs_options": null
             },
             "nodeType": "Scope",
             "props": {},
             "type": "node"
            }
           ],
           "instanceArgs": {
            "namespace": "html",
            "tag": "div"
           },
           "nodeType": "DOM",
           "props": {
            "className": "field interact-widget"
           },
           "type": "node"
          }
         ],
         "instanceArgs": {
          "namespace": "html",
          "tag": "div"
         },
         "nodeType": "DOM",
         "props": {
          "style": {
           "display": "flex",
           "flex-direction": "row"
          }
         },
         "type": "node"
        }
       ],
       "instanceArgs": {
        "namespace": "html",
        "tag": "div"
       },
       "nodeType": "DOM",
       "props": {
        "style": {
         "display": "flex",
         "flex-direction": "column"
        }
       },
       "type": "node"
      },
      "text/html": [
       "<div\n",
       "    class=\"webio-mountpoint\"\n",
       "    data-webio-mountpoint=\"13504387864273198495\"\n",
       ">\n",
       "    <script>\n",
       "    if (window.require && require.defined && require.defined(\"nbextensions/webio/main\")) {\n",
       "        console.log(\"Jupyter WebIO extension detected, not mounting.\");\n",
       "    } else if (window.WebIO) {\n",
       "        WebIO.mount(\n",
       "            document.querySelector('[data-webio-mountpoint=\"13504387864273198495\"]'),\n",
       "            {\"props\":{\"style\":{\"display\":\"flex\",\"flex-direction\":\"column\"}},\"nodeType\":\"DOM\",\"type\":\"node\",\"instanceArgs\":{\"namespace\":\"html\",\"tag\":\"div\"},\"children\":[{\"props\":{\"style\":{\"display\":\"flex\",\"flex-direction\":\"row\"}},\"nodeType\":\"DOM\",\"type\":\"node\",\"instanceArgs\":{\"namespace\":\"html\",\"tag\":\"div\"},\"children\":[{\"props\":{\"className\":\"field interact-widget\"},\"nodeType\":\"DOM\",\"type\":\"node\",\"instanceArgs\":{\"namespace\":\"html\",\"tag\":\"div\"},\"children\":[{\"props\":{},\"nodeType\":\"Scope\",\"type\":\"node\",\"instanceArgs\":{\"imports\":{\"data\":[{\"name\":\"knockout\",\"type\":\"js\",\"url\":\"\\/assetserver\\/f07383ad7ba5d9e293900fdc7e5e611110d6ff32-knockout.js\"},{\"name\":\"knockout_punches\",\"type\":\"js\",\"url\":\"\\/assetserver\\/306cc87ce82e45c3e5eb81524cb970ae2bab3932-knockout_punches.js\"},{\"name\":null,\"type\":\"js\",\"url\":\"\\/assetserver\\/69078235d89420aa60ec07ae908cfcc65b6ecf85-all.js\"},{\"name\":null,\"type\":\"css\",\"url\":\"\\/assetserver\\/98bc206151bf33944d9780fd349511e9eae784a0-style.css\"},{\"name\":null,\"type\":\"css\",\"url\":\"\\/assetserver\\/13615fa9690b1c4388c3fe14db802e442333ebc4-bulma_confined.min.css\"}],\"type\":\"async_block\"},\"id\":\"knockout-component-24c8dad5-b400-4069-baab-4e449bc928ec\",\"handlers\":{\"changes\":[\"(function (val){return (val!=this.model[\\\"changes\\\"]()) ? (this.valueFromJulia[\\\"changes\\\"]=true, this.model[\\\"changes\\\"](val)) : undefined})\"],\"index\":[\"(function (val){return (val!=this.model[\\\"index\\\"]()) ? (this.valueFromJulia[\\\"index\\\"]=true, this.model[\\\"index\\\"](val)) : undefined})\"]},\"systemjs_options\":null,\"mount_callbacks\":[\"function () {\\n    var handler = (function (ko, koPunches) {\\n    ko.punches.enableAll();\\n    ko.bindingHandlers.numericValue = {\\n        init : function(element, valueAccessor, allBindings, data, context) {\\n            var stringified = ko.observable(ko.unwrap(valueAccessor()));\\n            stringified.subscribe(function(value) {\\n                var val = parseFloat(value);\\n                if (!isNaN(val)) {\\n                    valueAccessor()(val);\\n                }\\n            })\\n            valueAccessor().subscribe(function(value) {\\n                var str = JSON.stringify(value);\\n                if ((str == \\\"0\\\") && ([\\\"-0\\\", \\\"-0.\\\"].indexOf(stringified()) >= 0))\\n                     return;\\n                 if ([\\\"null\\\", \\\"\\\"].indexOf(str) >= 0)\\n                     return;\\n                stringified(str);\\n            })\\n            ko.applyBindingsToNode(element, { value: stringified, valueUpdate: allBindings.get('valueUpdate')}, context);\\n        }\\n    };\\n    var json_data = {\\\"formatted_vals\\\":[\\\"-2.0\\\",\\\"-1.9\\\",\\\"-1.8\\\",\\\"-1.7\\\",\\\"-1.6\\\",\\\"-1.5\\\",\\\"-1.4\\\",\\\"-1.3\\\",\\\"-1.2\\\",\\\"-1.1\\\",\\\"-1.0\\\",\\\"-0.9\\\",\\\"-0.8\\\",\\\"-0.7\\\",\\\"-0.6\\\",\\\"-0.5\\\",\\\"-0.4\\\",\\\"-0.3\\\",\\\"-0.2\\\",\\\"-0.1\\\",\\\"0.0\\\",\\\"0.1\\\",\\\"0.2\\\",\\\"0.3\\\",\\\"0.4\\\",\\\"0.5\\\",\\\"0.6\\\",\\\"0.7\\\",\\\"0.8\\\",\\\"0.9\\\",\\\"1.0\\\",\\\"1.1\\\",\\\"1.2\\\",\\\"1.3\\\",\\\"1.4\\\",\\\"1.5\\\",\\\"1.6\\\",\\\"1.7\\\",\\\"1.8\\\",\\\"1.9\\\",\\\"2.0\\\"],\\\"changes\\\":WebIO.getval({\\\"name\\\":\\\"changes\\\",\\\"scope\\\":\\\"knockout-component-24c8dad5-b400-4069-baab-4e449bc928ec\\\",\\\"id\\\":\\\"ob_03\\\",\\\"type\\\":\\\"observable\\\"}),\\\"index\\\":WebIO.getval({\\\"name\\\":\\\"index\\\",\\\"scope\\\":\\\"knockout-component-24c8dad5-b400-4069-baab-4e449bc928ec\\\",\\\"id\\\":\\\"ob_02\\\",\\\"type\\\":\\\"observable\\\"})};\\n    var self = this;\\n    function AppViewModel() {\\n        for (var key in json_data) {\\n            var el = json_data[key];\\n            this[key] = Array.isArray(el) ? ko.observableArray(el) : ko.observable(el);\\n        }\\n        \\n        [this[\\\"formatted_val\\\"]=ko.computed(    function(){\\n        return this.formatted_vals()[parseInt(this.index())-1];\\n    }\\n,this)]\\n        [this[\\\"changes\\\"].subscribe((function (val){!(this.valueFromJulia[\\\"changes\\\"]) ? (WebIO.setval({\\\"name\\\":\\\"changes\\\",\\\"scope\\\":\\\"knockout-component-24c8dad5-b400-4069-baab-4e449bc928ec\\\",\\\"id\\\":\\\"ob_03\\\",\\\"type\\\":\\\"observable\\\"},val)) : undefined; return this.valueFromJulia[\\\"changes\\\"]=false}),self),this[\\\"index\\\"].subscribe((function (val){!(this.valueFromJulia[\\\"index\\\"]) ? (WebIO.setval({\\\"name\\\":\\\"index\\\",\\\"scope\\\":\\\"knockout-component-24c8dad5-b400-4069-baab-4e449bc928ec\\\",\\\"id\\\":\\\"ob_02\\\",\\\"type\\\":\\\"observable\\\"},val)) : undefined; return this.valueFromJulia[\\\"index\\\"]=false}),self)]\\n        \\n    }\\n    self.model = new AppViewModel();\\n    self.valueFromJulia = {};\\n    for (var key in json_data) {\\n        self.valueFromJulia[key] = false;\\n    }\\n    ko.applyBindings(self.model, self.dom);\\n}\\n);\\n    (WebIO.importBlock({\\\"data\\\":[{\\\"name\\\":\\\"knockout\\\",\\\"type\\\":\\\"js\\\",\\\"url\\\":\\\"\\/assetserver\\/f07383ad7ba5d9e293900fdc7e5e611110d6ff32-knockout.js\\\"},{\\\"name\\\":\\\"knockout_punches\\\",\\\"type\\\":\\\"js\\\",\\\"url\\\":\\\"\\/assetserver\\/306cc87ce82e45c3e5eb81524cb970ae2bab3932-knockout_punches.js\\\"}],\\\"type\\\":\\\"async_block\\\"})).then((imports) => handler.apply(this, imports));\\n}\\n\"],\"observables\":{\"changes\":{\"sync\":false,\"id\":\"ob_03\",\"value\":0},\"index\":{\"sync\":true,\"id\":\"ob_02\",\"value\":21}}},\"children\":[{\"props\":{\"className\":\"interact-flex-row interact-widget\"},\"nodeType\":\"DOM\",\"type\":\"node\",\"instanceArgs\":{\"namespace\":\"html\",\"tag\":\"div\"},\"children\":[{\"props\":{\"className\":\"interact-flex-row-left\"},\"nodeType\":\"DOM\",\"type\":\"node\",\"instanceArgs\":{\"namespace\":\"html\",\"tag\":\"div\"},\"children\":[{\"props\":{\"className\":\"interact \",\"style\":{\"padding\":\"5px 10px 0px 10px\"}},\"nodeType\":\"DOM\",\"type\":\"node\",\"instanceArgs\":{\"namespace\":\"html\",\"tag\":\"label\"},\"children\":[\"a\"]}]},{\"props\":{\"className\":\"interact-flex-row-center\"},\"nodeType\":\"DOM\",\"type\":\"node\",\"instanceArgs\":{\"namespace\":\"html\",\"tag\":\"div\"},\"children\":[{\"props\":{\"max\":41,\"min\":1,\"attributes\":{\"type\":\"range\",\"data-bind\":\"numericValue: index, valueUpdate: 'input', event: {change: function (){this.changes(this.changes()+1)}}\",\"orient\":\"horizontal\"},\"step\":1,\"className\":\"slider slider is-fullwidth\",\"style\":{}},\"nodeType\":\"DOM\",\"type\":\"node\",\"instanceArgs\":{\"namespace\":\"html\",\"tag\":\"input\"},\"children\":[]}]},{\"props\":{\"className\":\"interact-flex-row-right\"},\"nodeType\":\"DOM\",\"type\":\"node\",\"instanceArgs\":{\"namespace\":\"html\",\"tag\":\"div\"},\"children\":[{\"props\":{\"attributes\":{\"data-bind\":\"text: formatted_val\"}},\"nodeType\":\"DOM\",\"type\":\"node\",\"instanceArgs\":{\"namespace\":\"html\",\"tag\":\"p\"},\"children\":[]}]}]}]}]},{\"props\":{\"className\":\"field interact-widget\"},\"nodeType\":\"DOM\",\"type\":\"node\",\"instanceArgs\":{\"namespace\":\"html\",\"tag\":\"div\"},\"children\":[{\"props\":{},\"nodeType\":\"Scope\",\"type\":\"node\",\"instanceArgs\":{\"imports\":{\"data\":[{\"name\":\"knockout\",\"type\":\"js\",\"url\":\"\\/assetserver\\/f07383ad7ba5d9e293900fdc7e5e611110d6ff32-knockout.js\"},{\"name\":\"knockout_punches\",\"type\":\"js\",\"url\":\"\\/assetserver\\/306cc87ce82e45c3e5eb81524cb970ae2bab3932-knockout_punches.js\"},{\"name\":null,\"type\":\"js\",\"url\":\"\\/assetserver\\/69078235d89420aa60ec07ae908cfcc65b6ecf85-all.js\"},{\"name\":null,\"type\":\"css\",\"url\":\"\\/assetserver\\/98bc206151bf33944d9780fd349511e9eae784a0-style.css\"},{\"name\":null,\"type\":\"css\",\"url\":\"\\/assetserver\\/13615fa9690b1c4388c3fe14db802e442333ebc4-bulma_confined.min.css\"}],\"type\":\"async_block\"},\"id\":\"knockout-component-45a7001d-ed44-47d9-80ee-8165b2973f6b\",\"handlers\":{\"changes\":[\"(function (val){return (val!=this.model[\\\"changes\\\"]()) ? (this.valueFromJulia[\\\"changes\\\"]=true, this.model[\\\"changes\\\"](val)) : undefined})\"],\"index\":[\"(function (val){return (val!=this.model[\\\"index\\\"]()) ? (this.valueFromJulia[\\\"index\\\"]=true, this.model[\\\"index\\\"](val)) : undefined})\"]},\"systemjs_options\":null,\"mount_callbacks\":[\"function () {\\n    var handler = (function (ko, koPunches) {\\n    ko.punches.enableAll();\\n    ko.bindingHandlers.numericValue = {\\n        init : function(element, valueAccessor, allBindings, data, context) {\\n            var stringified = ko.observable(ko.unwrap(valueAccessor()));\\n            stringified.subscribe(function(value) {\\n                var val = parseFloat(value);\\n                if (!isNaN(val)) {\\n                    valueAccessor()(val);\\n                }\\n            })\\n            valueAccessor().subscribe(function(value) {\\n                var str = JSON.stringify(value);\\n                if ((str == \\\"0\\\") && ([\\\"-0\\\", \\\"-0.\\\"].indexOf(stringified()) >= 0))\\n                     return;\\n                 if ([\\\"null\\\", \\\"\\\"].indexOf(str) >= 0)\\n                     return;\\n                stringified(str);\\n            })\\n            ko.applyBindingsToNode(element, { value: stringified, valueUpdate: allBindings.get('valueUpdate')}, context);\\n        }\\n    };\\n    var json_data = {\\\"formatted_vals\\\":[\\\"-2.0\\\",\\\"-1.9\\\",\\\"-1.8\\\",\\\"-1.7\\\",\\\"-1.6\\\",\\\"-1.5\\\",\\\"-1.4\\\",\\\"-1.3\\\",\\\"-1.2\\\",\\\"-1.1\\\",\\\"-1.0\\\",\\\"-0.9\\\",\\\"-0.8\\\",\\\"-0.7\\\",\\\"-0.6\\\",\\\"-0.5\\\",\\\"-0.4\\\",\\\"-0.3\\\",\\\"-0.2\\\",\\\"-0.1\\\",\\\"0.0\\\",\\\"0.1\\\",\\\"0.2\\\",\\\"0.3\\\",\\\"0.4\\\",\\\"0.5\\\",\\\"0.6\\\",\\\"0.7\\\",\\\"0.8\\\",\\\"0.9\\\",\\\"1.0\\\",\\\"1.1\\\",\\\"1.2\\\",\\\"1.3\\\",\\\"1.4\\\",\\\"1.5\\\",\\\"1.6\\\",\\\"1.7\\\",\\\"1.8\\\",\\\"1.9\\\",\\\"2.0\\\"],\\\"changes\\\":WebIO.getval({\\\"name\\\":\\\"changes\\\",\\\"scope\\\":\\\"knockout-component-45a7001d-ed44-47d9-80ee-8165b2973f6b\\\",\\\"id\\\":\\\"ob_06\\\",\\\"type\\\":\\\"observable\\\"}),\\\"index\\\":WebIO.getval({\\\"name\\\":\\\"index\\\",\\\"scope\\\":\\\"knockout-component-45a7001d-ed44-47d9-80ee-8165b2973f6b\\\",\\\"id\\\":\\\"ob_05\\\",\\\"type\\\":\\\"observable\\\"})};\\n    var self = this;\\n    function AppViewModel() {\\n        for (var key in json_data) {\\n            var el = json_data[key];\\n            this[key] = Array.isArray(el) ? ko.observableArray(el) : ko.observable(el);\\n        }\\n        \\n        [this[\\\"formatted_val\\\"]=ko.computed(    function(){\\n        return this.formatted_vals()[parseInt(this.index())-1];\\n    }\\n,this)]\\n        [this[\\\"changes\\\"].subscribe((function (val){!(this.valueFromJulia[\\\"changes\\\"]) ? (WebIO.setval({\\\"name\\\":\\\"changes\\\",\\\"scope\\\":\\\"knockout-component-45a7001d-ed44-47d9-80ee-8165b2973f6b\\\",\\\"id\\\":\\\"ob_06\\\",\\\"type\\\":\\\"observable\\\"},val)) : undefined; return this.valueFromJulia[\\\"changes\\\"]=false}),self),this[\\\"index\\\"].subscribe((function (val){!(this.valueFromJulia[\\\"index\\\"]) ? (WebIO.setval({\\\"name\\\":\\\"index\\\",\\\"scope\\\":\\\"knockout-component-45a7001d-ed44-47d9-80ee-8165b2973f6b\\\",\\\"id\\\":\\\"ob_05\\\",\\\"type\\\":\\\"observable\\\"},val)) : undefined; return this.valueFromJulia[\\\"index\\\"]=false}),self)]\\n        \\n    }\\n    self.model = new AppViewModel();\\n    self.valueFromJulia = {};\\n    for (var key in json_data) {\\n        self.valueFromJulia[key] = false;\\n    }\\n    ko.applyBindings(self.model, self.dom);\\n}\\n);\\n    (WebIO.importBlock({\\\"data\\\":[{\\\"name\\\":\\\"knockout\\\",\\\"type\\\":\\\"js\\\",\\\"url\\\":\\\"\\/assetserver\\/f07383ad7ba5d9e293900fdc7e5e611110d6ff32-knockout.js\\\"},{\\\"name\\\":\\\"knockout_punches\\\",\\\"type\\\":\\\"js\\\",\\\"url\\\":\\\"\\/assetserver\\/306cc87ce82e45c3e5eb81524cb970ae2bab3932-knockout_punches.js\\\"}],\\\"type\\\":\\\"async_block\\\"})).then((imports) => handler.apply(this, imports));\\n}\\n\"],\"observables\":{\"changes\":{\"sync\":false,\"id\":\"ob_06\",\"value\":0},\"index\":{\"sync\":true,\"id\":\"ob_05\",\"value\":21}}},\"children\":[{\"props\":{\"className\":\"interact-flex-row interact-widget\"},\"nodeType\":\"DOM\",\"type\":\"node\",\"instanceArgs\":{\"namespace\":\"html\",\"tag\":\"div\"},\"children\":[{\"props\":{\"className\":\"interact-flex-row-left\"},\"nodeType\":\"DOM\",\"type\":\"node\",\"instanceArgs\":{\"namespace\":\"html\",\"tag\":\"div\"},\"children\":[{\"props\":{\"className\":\"interact \",\"style\":{\"padding\":\"5px 10px 0px 10px\"}},\"nodeType\":\"DOM\",\"type\":\"node\",\"instanceArgs\":{\"namespace\":\"html\",\"tag\":\"label\"},\"children\":[\"b\"]}]},{\"props\":{\"className\":\"interact-flex-row-center\"},\"nodeType\":\"DOM\",\"type\":\"node\",\"instanceArgs\":{\"namespace\":\"html\",\"tag\":\"div\"},\"children\":[{\"props\":{\"max\":41,\"min\":1,\"attributes\":{\"type\":\"range\",\"data-bind\":\"numericValue: index, valueUpdate: 'input', event: {change: function (){this.changes(this.changes()+1)}}\",\"orient\":\"horizontal\"},\"step\":1,\"className\":\"slider slider is-fullwidth\",\"style\":{}},\"nodeType\":\"DOM\",\"type\":\"node\",\"instanceArgs\":{\"namespace\":\"html\",\"tag\":\"input\"},\"children\":[]}]},{\"props\":{\"className\":\"interact-flex-row-right\"},\"nodeType\":\"DOM\",\"type\":\"node\",\"instanceArgs\":{\"namespace\":\"html\",\"tag\":\"div\"},\"children\":[{\"props\":{\"attributes\":{\"data-bind\":\"text: formatted_val\"}},\"nodeType\":\"DOM\",\"type\":\"node\",\"instanceArgs\":{\"namespace\":\"html\",\"tag\":\"p\"},\"children\":[]}]}]}]}]}]},{\"props\":{\"style\":{\"display\":\"flex\",\"flex-direction\":\"row\"}},\"nodeType\":\"DOM\",\"type\":\"node\",\"instanceArgs\":{\"namespace\":\"html\",\"tag\":\"div\"},\"children\":[{\"props\":{\"className\":\"field interact-widget\"},\"nodeType\":\"DOM\",\"type\":\"node\",\"instanceArgs\":{\"namespace\":\"html\",\"tag\":\"div\"},\"children\":[{\"props\":{},\"nodeType\":\"Scope\",\"type\":\"node\",\"instanceArgs\":{\"imports\":{\"data\":[{\"name\":\"knockout\",\"type\":\"js\",\"url\":\"\\/assetserver\\/f07383ad7ba5d9e293900fdc7e5e611110d6ff32-knockout.js\"},{\"name\":\"knockout_punches\",\"type\":\"js\",\"url\":\"\\/assetserver\\/306cc87ce82e45c3e5eb81524cb970ae2bab3932-knockout_punches.js\"},{\"name\":null,\"type\":\"js\",\"url\":\"\\/assetserver\\/69078235d89420aa60ec07ae908cfcc65b6ecf85-all.js\"},{\"name\":null,\"type\":\"css\",\"url\":\"\\/assetserver\\/98bc206151bf33944d9780fd349511e9eae784a0-style.css\"},{\"name\":null,\"type\":\"css\",\"url\":\"\\/assetserver\\/13615fa9690b1c4388c3fe14db802e442333ebc4-bulma_confined.min.css\"}],\"type\":\"async_block\"},\"id\":\"knockout-component-d8a2120e-98ec-42f3-8ca1-493755ea1c82\",\"handlers\":{\"changes\":[\"(function (val){return (val!=this.model[\\\"changes\\\"]()) ? (this.valueFromJulia[\\\"changes\\\"]=true, this.model[\\\"changes\\\"](val)) : undefined})\"],\"index\":[\"(function (val){return (val!=this.model[\\\"index\\\"]()) ? (this.valueFromJulia[\\\"index\\\"]=true, this.model[\\\"index\\\"](val)) : undefined})\"]},\"systemjs_options\":null,\"mount_callbacks\":[\"function () {\\n    var handler = (function (ko, koPunches) {\\n    ko.punches.enableAll();\\n    ko.bindingHandlers.numericValue = {\\n        init : function(element, valueAccessor, allBindings, data, context) {\\n            var stringified = ko.observable(ko.unwrap(valueAccessor()));\\n            stringified.subscribe(function(value) {\\n                var val = parseFloat(value);\\n                if (!isNaN(val)) {\\n                    valueAccessor()(val);\\n                }\\n            })\\n            valueAccessor().subscribe(function(value) {\\n                var str = JSON.stringify(value);\\n                if ((str == \\\"0\\\") && ([\\\"-0\\\", \\\"-0.\\\"].indexOf(stringified()) >= 0))\\n                     return;\\n                 if ([\\\"null\\\", \\\"\\\"].indexOf(str) >= 0)\\n                     return;\\n                stringified(str);\\n            })\\n            ko.applyBindingsToNode(element, { value: stringified, valueUpdate: allBindings.get('valueUpdate')}, context);\\n        }\\n    };\\n    var json_data = {\\\"formatted_vals\\\":[\\\"-2.0\\\",\\\"-1.9\\\",\\\"-1.8\\\",\\\"-1.7\\\",\\\"-1.6\\\",\\\"-1.5\\\",\\\"-1.4\\\",\\\"-1.3\\\",\\\"-1.2\\\",\\\"-1.1\\\",\\\"-1.0\\\",\\\"-0.9\\\",\\\"-0.8\\\",\\\"-0.7\\\",\\\"-0.6\\\",\\\"-0.5\\\",\\\"-0.4\\\",\\\"-0.3\\\",\\\"-0.2\\\",\\\"-0.1\\\",\\\"0.0\\\",\\\"0.1\\\",\\\"0.2\\\",\\\"0.3\\\",\\\"0.4\\\",\\\"0.5\\\",\\\"0.6\\\",\\\"0.7\\\",\\\"0.8\\\",\\\"0.9\\\",\\\"1.0\\\",\\\"1.1\\\",\\\"1.2\\\",\\\"1.3\\\",\\\"1.4\\\",\\\"1.5\\\",\\\"1.6\\\",\\\"1.7\\\",\\\"1.8\\\",\\\"1.9\\\",\\\"2.0\\\"],\\\"changes\\\":WebIO.getval({\\\"name\\\":\\\"changes\\\",\\\"scope\\\":\\\"knockout-component-d8a2120e-98ec-42f3-8ca1-493755ea1c82\\\",\\\"id\\\":\\\"ob_09\\\",\\\"type\\\":\\\"observable\\\"}),\\\"index\\\":WebIO.getval({\\\"name\\\":\\\"index\\\",\\\"scope\\\":\\\"knockout-component-d8a2120e-98ec-42f3-8ca1-493755ea1c82\\\",\\\"id\\\":\\\"ob_08\\\",\\\"type\\\":\\\"observable\\\"})};\\n    var self = this;\\n    function AppViewModel() {\\n        for (var key in json_data) {\\n            var el = json_data[key];\\n            this[key] = Array.isArray(el) ? ko.observableArray(el) : ko.observable(el);\\n        }\\n        \\n        [this[\\\"formatted_val\\\"]=ko.computed(    function(){\\n        return this.formatted_vals()[parseInt(this.index())-1];\\n    }\\n,this)]\\n        [this[\\\"changes\\\"].subscribe((function (val){!(this.valueFromJulia[\\\"changes\\\"]) ? (WebIO.setval({\\\"name\\\":\\\"changes\\\",\\\"scope\\\":\\\"knockout-component-d8a2120e-98ec-42f3-8ca1-493755ea1c82\\\",\\\"id\\\":\\\"ob_09\\\",\\\"type\\\":\\\"observable\\\"},val)) : undefined; return this.valueFromJulia[\\\"changes\\\"]=false}),self),this[\\\"index\\\"].subscribe((function (val){!(this.valueFromJulia[\\\"index\\\"]) ? (WebIO.setval({\\\"name\\\":\\\"index\\\",\\\"scope\\\":\\\"knockout-component-d8a2120e-98ec-42f3-8ca1-493755ea1c82\\\",\\\"id\\\":\\\"ob_08\\\",\\\"type\\\":\\\"observable\\\"},val)) : undefined; return this.valueFromJulia[\\\"index\\\"]=false}),self)]\\n        \\n    }\\n    self.model = new AppViewModel();\\n    self.valueFromJulia = {};\\n    for (var key in json_data) {\\n        self.valueFromJulia[key] = false;\\n    }\\n    ko.applyBindings(self.model, self.dom);\\n}\\n);\\n    (WebIO.importBlock({\\\"data\\\":[{\\\"name\\\":\\\"knockout\\\",\\\"type\\\":\\\"js\\\",\\\"url\\\":\\\"\\/assetserver\\/f07383ad7ba5d9e293900fdc7e5e611110d6ff32-knockout.js\\\"},{\\\"name\\\":\\\"knockout_punches\\\",\\\"type\\\":\\\"js\\\",\\\"url\\\":\\\"\\/assetserver\\/306cc87ce82e45c3e5eb81524cb970ae2bab3932-knockout_punches.js\\\"}],\\\"type\\\":\\\"async_block\\\"})).then((imports) => handler.apply(this, imports));\\n}\\n\"],\"observables\":{\"changes\":{\"sync\":false,\"id\":\"ob_09\",\"value\":0},\"index\":{\"sync\":true,\"id\":\"ob_08\",\"value\":21}}},\"children\":[{\"props\":{\"className\":\"interact-flex-row interact-widget\"},\"nodeType\":\"DOM\",\"type\":\"node\",\"instanceArgs\":{\"namespace\":\"html\",\"tag\":\"div\"},\"children\":[{\"props\":{\"className\":\"interact-flex-row-left\"},\"nodeType\":\"DOM\",\"type\":\"node\",\"instanceArgs\":{\"namespace\":\"html\",\"tag\":\"div\"},\"children\":[{\"props\":{\"className\":\"interact \",\"style\":{\"padding\":\"5px 10px 0px 10px\"}},\"nodeType\":\"DOM\",\"type\":\"node\",\"instanceArgs\":{\"namespace\":\"html\",\"tag\":\"label\"},\"children\":[\"c\"]}]},{\"props\":{\"className\":\"interact-flex-row-center\"},\"nodeType\":\"DOM\",\"type\":\"node\",\"instanceArgs\":{\"namespace\":\"html\",\"tag\":\"div\"},\"children\":[{\"props\":{\"max\":41,\"min\":1,\"attributes\":{\"type\":\"range\",\"data-bind\":\"numericValue: index, valueUpdate: 'input', event: {change: function (){this.changes(this.changes()+1)}}\",\"orient\":\"horizontal\"},\"step\":1,\"className\":\"slider slider is-fullwidth\",\"style\":{}},\"nodeType\":\"DOM\",\"type\":\"node\",\"instanceArgs\":{\"namespace\":\"html\",\"tag\":\"input\"},\"children\":[]}]},{\"props\":{\"className\":\"interact-flex-row-right\"},\"nodeType\":\"DOM\",\"type\":\"node\",\"instanceArgs\":{\"namespace\":\"html\",\"tag\":\"div\"},\"children\":[{\"props\":{\"attributes\":{\"data-bind\":\"text: formatted_val\"}},\"nodeType\":\"DOM\",\"type\":\"node\",\"instanceArgs\":{\"namespace\":\"html\",\"tag\":\"p\"},\"children\":[]}]}]}]}]},{\"props\":{\"className\":\"field interact-widget\"},\"nodeType\":\"DOM\",\"type\":\"node\",\"instanceArgs\":{\"namespace\":\"html\",\"tag\":\"div\"},\"children\":[{\"props\":{},\"nodeType\":\"Scope\",\"type\":\"node\",\"instanceArgs\":{\"imports\":{\"data\":[{\"name\":\"knockout\",\"type\":\"js\",\"url\":\"\\/assetserver\\/f07383ad7ba5d9e293900fdc7e5e611110d6ff32-knockout.js\"},{\"name\":\"knockout_punches\",\"type\":\"js\",\"url\":\"\\/assetserver\\/306cc87ce82e45c3e5eb81524cb970ae2bab3932-knockout_punches.js\"},{\"name\":null,\"type\":\"js\",\"url\":\"\\/assetserver\\/69078235d89420aa60ec07ae908cfcc65b6ecf85-all.js\"},{\"name\":null,\"type\":\"css\",\"url\":\"\\/assetserver\\/98bc206151bf33944d9780fd349511e9eae784a0-style.css\"},{\"name\":null,\"type\":\"css\",\"url\":\"\\/assetserver\\/13615fa9690b1c4388c3fe14db802e442333ebc4-bulma_confined.min.css\"}],\"type\":\"async_block\"},\"id\":\"knockout-component-f75f6c73-384f-4cde-b984-890bfef3429c\",\"handlers\":{\"changes\":[\"(function (val){return (val!=this.model[\\\"changes\\\"]()) ? (this.valueFromJulia[\\\"changes\\\"]=true, this.model[\\\"changes\\\"](val)) : undefined})\"],\"index\":[\"(function (val){return (val!=this.model[\\\"index\\\"]()) ? (this.valueFromJulia[\\\"index\\\"]=true, this.model[\\\"index\\\"](val)) : undefined})\"]},\"systemjs_options\":null,\"mount_callbacks\":[\"function () {\\n    var handler = (function (ko, koPunches) {\\n    ko.punches.enableAll();\\n    ko.bindingHandlers.numericValue = {\\n        init : function(element, valueAccessor, allBindings, data, context) {\\n            var stringified = ko.observable(ko.unwrap(valueAccessor()));\\n            stringified.subscribe(function(value) {\\n                var val = parseFloat(value);\\n                if (!isNaN(val)) {\\n                    valueAccessor()(val);\\n                }\\n            })\\n            valueAccessor().subscribe(function(value) {\\n                var str = JSON.stringify(value);\\n                if ((str == \\\"0\\\") && ([\\\"-0\\\", \\\"-0.\\\"].indexOf(stringified()) >= 0))\\n                     return;\\n                 if ([\\\"null\\\", \\\"\\\"].indexOf(str) >= 0)\\n                     return;\\n                stringified(str);\\n            })\\n            ko.applyBindingsToNode(element, { value: stringified, valueUpdate: allBindings.get('valueUpdate')}, context);\\n        }\\n    };\\n    var json_data = {\\\"formatted_vals\\\":[\\\"-2.0\\\",\\\"-1.9\\\",\\\"-1.8\\\",\\\"-1.7\\\",\\\"-1.6\\\",\\\"-1.5\\\",\\\"-1.4\\\",\\\"-1.3\\\",\\\"-1.2\\\",\\\"-1.1\\\",\\\"-1.0\\\",\\\"-0.9\\\",\\\"-0.8\\\",\\\"-0.7\\\",\\\"-0.6\\\",\\\"-0.5\\\",\\\"-0.4\\\",\\\"-0.3\\\",\\\"-0.2\\\",\\\"-0.1\\\",\\\"0.0\\\",\\\"0.1\\\",\\\"0.2\\\",\\\"0.3\\\",\\\"0.4\\\",\\\"0.5\\\",\\\"0.6\\\",\\\"0.7\\\",\\\"0.8\\\",\\\"0.9\\\",\\\"1.0\\\",\\\"1.1\\\",\\\"1.2\\\",\\\"1.3\\\",\\\"1.4\\\",\\\"1.5\\\",\\\"1.6\\\",\\\"1.7\\\",\\\"1.8\\\",\\\"1.9\\\",\\\"2.0\\\"],\\\"changes\\\":WebIO.getval({\\\"name\\\":\\\"changes\\\",\\\"scope\\\":\\\"knockout-component-f75f6c73-384f-4cde-b984-890bfef3429c\\\",\\\"id\\\":\\\"ob_12\\\",\\\"type\\\":\\\"observable\\\"}),\\\"index\\\":WebIO.getval({\\\"name\\\":\\\"index\\\",\\\"scope\\\":\\\"knockout-component-f75f6c73-384f-4cde-b984-890bfef3429c\\\",\\\"id\\\":\\\"ob_11\\\",\\\"type\\\":\\\"observable\\\"})};\\n    var self = this;\\n    function AppViewModel() {\\n        for (var key in json_data) {\\n            var el = json_data[key];\\n            this[key] = Array.isArray(el) ? ko.observableArray(el) : ko.observable(el);\\n        }\\n        \\n        [this[\\\"formatted_val\\\"]=ko.computed(    function(){\\n        return this.formatted_vals()[parseInt(this.index())-1];\\n    }\\n,this)]\\n        [this[\\\"changes\\\"].subscribe((function (val){!(this.valueFromJulia[\\\"changes\\\"]) ? (WebIO.setval({\\\"name\\\":\\\"changes\\\",\\\"scope\\\":\\\"knockout-component-f75f6c73-384f-4cde-b984-890bfef3429c\\\",\\\"id\\\":\\\"ob_12\\\",\\\"type\\\":\\\"observable\\\"},val)) : undefined; return this.valueFromJulia[\\\"changes\\\"]=false}),self),this[\\\"index\\\"].subscribe((function (val){!(this.valueFromJulia[\\\"index\\\"]) ? (WebIO.setval({\\\"name\\\":\\\"index\\\",\\\"scope\\\":\\\"knockout-component-f75f6c73-384f-4cde-b984-890bfef3429c\\\",\\\"id\\\":\\\"ob_11\\\",\\\"type\\\":\\\"observable\\\"},val)) : undefined; return this.valueFromJulia[\\\"index\\\"]=false}),self)]\\n        \\n    }\\n    self.model = new AppViewModel();\\n    self.valueFromJulia = {};\\n    for (var key in json_data) {\\n        self.valueFromJulia[key] = false;\\n    }\\n    ko.applyBindings(self.model, self.dom);\\n}\\n);\\n    (WebIO.importBlock({\\\"data\\\":[{\\\"name\\\":\\\"knockout\\\",\\\"type\\\":\\\"js\\\",\\\"url\\\":\\\"\\/assetserver\\/f07383ad7ba5d9e293900fdc7e5e611110d6ff32-knockout.js\\\"},{\\\"name\\\":\\\"knockout_punches\\\",\\\"type\\\":\\\"js\\\",\\\"url\\\":\\\"\\/assetserver\\/306cc87ce82e45c3e5eb81524cb970ae2bab3932-knockout_punches.js\\\"}],\\\"type\\\":\\\"async_block\\\"})).then((imports) => handler.apply(this, imports));\\n}\\n\"],\"observables\":{\"changes\":{\"sync\":false,\"id\":\"ob_12\",\"value\":0},\"index\":{\"sync\":true,\"id\":\"ob_11\",\"value\":21}}},\"children\":[{\"props\":{\"className\":\"interact-flex-row interact-widget\"},\"nodeType\":\"DOM\",\"type\":\"node\",\"instanceArgs\":{\"namespace\":\"html\",\"tag\":\"div\"},\"children\":[{\"props\":{\"className\":\"interact-flex-row-left\"},\"nodeType\":\"DOM\",\"type\":\"node\",\"instanceArgs\":{\"namespace\":\"html\",\"tag\":\"div\"},\"children\":[{\"props\":{\"className\":\"interact \",\"style\":{\"padding\":\"5px 10px 0px 10px\"}},\"nodeType\":\"DOM\",\"type\":\"node\",\"instanceArgs\":{\"namespace\":\"html\",\"tag\":\"label\"},\"children\":[\"d\"]}]},{\"props\":{\"className\":\"interact-flex-row-center\"},\"nodeType\":\"DOM\",\"type\":\"node\",\"instanceArgs\":{\"namespace\":\"html\",\"tag\":\"div\"},\"children\":[{\"props\":{\"max\":41,\"min\":1,\"attributes\":{\"type\":\"range\",\"data-bind\":\"numericValue: index, valueUpdate: 'input', event: {change: function (){this.changes(this.changes()+1)}}\",\"orient\":\"horizontal\"},\"step\":1,\"className\":\"slider slider is-fullwidth\",\"style\":{}},\"nodeType\":\"DOM\",\"type\":\"node\",\"instanceArgs\":{\"namespace\":\"html\",\"tag\":\"input\"},\"children\":[]}]},{\"props\":{\"className\":\"interact-flex-row-right\"},\"nodeType\":\"DOM\",\"type\":\"node\",\"instanceArgs\":{\"namespace\":\"html\",\"tag\":\"div\"},\"children\":[{\"props\":{\"attributes\":{\"data-bind\":\"text: formatted_val\"}},\"nodeType\":\"DOM\",\"type\":\"node\",\"instanceArgs\":{\"namespace\":\"html\",\"tag\":\"p\"},\"children\":[]}]}]}]}]}]}]},\n",
       "            window,\n",
       "        );\n",
       "    } else {\n",
       "        document\n",
       "            .querySelector('[data-webio-mountpoint=\"13504387864273198495\"]')\n",
       "            .innerHTML = '<strong>WebIO not detected.</strong>';\n",
       "    }\n",
       "    </script>\n",
       "</div>\n"
      ],
      "text/plain": [
       "(div { style=Dict(\"display\"=>\"flex\",\"flex-direction\"=>\"column\") }\n",
       "  (div { style=Dict(\"display\"=>\"flex\",\"flex-direction\"=>\"row\") }\n",
       "    (div { className=\"field interact-widget\" }\n",
       "            (div { className=\"interact-flex-row interact-widget\" }\n",
       "        (div { className=\"interact-flex-row-left\" }\n",
       "          (label { className=\"interact \" style=Dict{Any,Any}(:padding=>\"5px 10px 0px 10px\") }\n",
       "            \"a\"))\n",
       "        (div { className=\"interact-flex-row-center\" }\n",
       "          (input { max=41 min=1 attributes=Dict{Any,Any}(:type=>\"range\",Symbol(\"data-bind\")=>\"numericValue: index, valueUpdate: 'input', event: {change: function (){this.changes(this.changes()+1)}}\",\"orient\"=>\"horizontal\") step=1 className=\"slider slider is-fullwidth\" style=Dict{Any,Any}() }))\n",
       "        (div { className=\"interact-flex-row-right\" }\n",
       "          (p { attributes=Dict(\"data-bind\"=>\"text: formatted_val\") }))))\n",
       "    (div { className=\"field interact-widget\" }\n",
       "            (div { className=\"interact-flex-row interact-widget\" }\n",
       "        (div { className=\"interact-flex-row-left\" }\n",
       "          (label { className=\"interact \" style=Dict{Any,Any}(:padding=>\"5px 10px 0px 10px\") }\n",
       "            \"b\"))\n",
       "        (div { className=\"interact-flex-row-center\" }\n",
       "          (input { max=41 min=1 attributes=Dict{Any,Any}(:type=>\"range\",Symbol(\"data-bind\")=>\"numericValue: index, valueUpdate: 'input', event: {change: function (){this.changes(this.changes()+1)}}\",\"orient\"=>\"horizontal\") step=1 className=\"slider slider is-fullwidth\" style=Dict{Any,Any}() }))\n",
       "        (div { className=\"interact-flex-row-right\" }\n",
       "          (p { attributes=Dict(\"data-bind\"=>\"text: formatted_val\") })))))\n",
       "  (div { style=Dict(\"display\"=>\"flex\",\"flex-direction\"=>\"row\") }\n",
       "    (div { className=\"field interact-widget\" }\n",
       "            (div { className=\"interact-flex-row interact-widget\" }\n",
       "        (div { className=\"interact-flex-row-left\" }\n",
       "          (label { className=\"interact \" style=Dict{Any,Any}(:padding=>\"5px 10px 0px 10px\") }\n",
       "            \"c\"))\n",
       "        (div { className=\"interact-flex-row-center\" }\n",
       "          (input { max=41 min=1 attributes=Dict{Any,Any}(:type=>\"range\",Symbol(\"data-bind\")=>\"numericValue: index, valueUpdate: 'input', event: {change: function (){this.changes(this.changes()+1)}}\",\"orient\"=>\"horizontal\") step=1 className=\"slider slider is-fullwidth\" style=Dict{Any,Any}() }))\n",
       "        (div { className=\"interact-flex-row-right\" }\n",
       "          (p { attributes=Dict(\"data-bind\"=>\"text: formatted_val\") }))))\n",
       "    (div { className=\"field interact-widget\" }\n",
       "            (div { className=\"interact-flex-row interact-widget\" }\n",
       "        (div { className=\"interact-flex-row-left\" }\n",
       "          (label { className=\"interact \" style=Dict{Any,Any}(:padding=>\"5px 10px 0px 10px\") }\n",
       "            \"d\"))\n",
       "        (div { className=\"interact-flex-row-center\" }\n",
       "          (input { max=41 min=1 attributes=Dict{Any,Any}(:type=>\"range\",Symbol(\"data-bind\")=>\"numericValue: index, valueUpdate: 'input', event: {change: function (){this.changes(this.changes()+1)}}\",\"orient\"=>\"horizontal\") step=1 className=\"slider slider is-fullwidth\" style=Dict{Any,Any}() }))\n",
       "        (div { className=\"interact-flex-row-right\" }\n",
       "          (p { attributes=Dict(\"data-bind\"=>\"text: formatted_val\") }))))))"
      ]
     },
     "execution_count": 4,
     "metadata": {
      "application/vnd.webio.node+json": {
       "kernelId": "b60d3081-e7dd-4d68-bb83-50e4fad3e468"
      }
     },
     "output_type": "execute_result"
    }
   ],
   "source": [
    "a = slider(-2:0.1:2, label=\"a\")\n",
    "b = slider(-2:0.1:2, label=\"b\")\n",
    "c = slider(-2:0.1:2, label=\"c\")\n",
    "d = slider(-2:0.1:2, label=\"d\")\n",
    "\n",
    "\n",
    "sliders = vbox( hbox(a, b),\n",
    "                hbox(c, d)\n",
    "            )"
   ]
  },
  {
   "cell_type": "code",
   "execution_count": 5,
   "metadata": {
    "scrolled": false
   },
   "outputs": [
    {
     "data": {
      "application/vnd.webio.node+json": {
       "children": [
        {
         "children": [],
         "instanceArgs": {
          "namespace": "html",
          "tag": "div"
         },
         "nodeType": "DOM",
         "props": {
          "className": "webio-observable",
          "setInnerHtml": "<?xml version=\"1.0\" encoding=\"utf-8\"?>\n<svg xmlns=\"http://www.w3.org/2000/svg\" xmlns:xlink=\"http://www.w3.org/1999/xlink\" width=\"2400\" height=\"1600\" viewBox=\"0 0 2400 1600\">\n<defs>\n  <clipPath id=\"clip00\">\n    <rect x=\"0\" y=\"0\" width=\"2400\" height=\"1600\"/>\n  </clipPath>\n</defs>\n<polygon clip-path=\"url(#clip00)\" points=\"\n0,1600 2400,1600 2400,0 0,0 \n  \" fill=\"#ffffff\" fill-opacity=\"1\"/>\n<defs>\n  <clipPath id=\"clip01\">\n    <rect x=\"480\" y=\"0\" width=\"1681\" height=\"1600\"/>\n  </clipPath>\n</defs>\n<polygon clip-path=\"url(#clip00)\" points=\"\n506.891,1503.25 1962.9,1503.25 1962.9,47.2441 506.891,47.2441 \n  \" fill=\"#ffffff\" fill-opacity=\"1\"/>\n<defs>\n  <clipPath id=\"clip02\">\n    <rect x=\"506\" y=\"47\" width=\"1457\" height=\"1457\"/>\n  </clipPath>\n</defs>\n<polyline clip-path=\"url(#clip02)\" style=\"stroke:#00002d; stroke-width:1.6; stroke-opacity:0.1; fill:none\" points=\"\n  506.891,1503.25 506.891,47.2441 \n  \"/>\n<polyline clip-path=\"url(#clip02)\" style=\"stroke:#00002d; stroke-width:1.6; stroke-opacity:0.1; fill:none\" points=\"\n  870.894,1503.25 870.894,47.2441 \n  \"/>\n<polyline clip-path=\"url(#clip02)\" style=\"stroke:#00002d; stroke-width:1.6; stroke-opacity:0.1; fill:none\" points=\"\n  1234.9,1503.25 1234.9,47.2441 \n  \"/>\n<polyline clip-path=\"url(#clip02)\" style=\"stroke:#00002d; stroke-width:1.6; stroke-opacity:0.1; fill:none\" points=\"\n  1598.9,1503.25 1598.9,47.2441 \n  \"/>\n<polyline clip-path=\"url(#clip02)\" style=\"stroke:#00002d; stroke-width:1.6; stroke-opacity:0.1; fill:none\" points=\"\n  1962.9,1503.25 1962.9,47.2441 \n  \"/>\n<polyline clip-path=\"url(#clip02)\" style=\"stroke:#00002d; stroke-width:1.6; stroke-opacity:0.1; fill:none\" points=\"\n  506.891,1503.25 1962.9,1503.25 \n  \"/>\n<polyline clip-path=\"url(#clip02)\" style=\"stroke:#00002d; stroke-width:1.6; stroke-opacity:0.1; fill:none\" points=\"\n  506.891,1139.25 1962.9,1139.25 \n  \"/>\n<polyline clip-path=\"url(#clip02)\" style=\"stroke:#00002d; stroke-width:1.6; stroke-opacity:0.1; fill:none\" points=\"\n  506.891,775.249 1962.9,775.249 \n  \"/>\n<polyline clip-path=\"url(#clip02)\" style=\"stroke:#00002d; stroke-width:1.6; stroke-opacity:0.1; fill:none\" points=\"\n  506.891,411.247 1962.9,411.247 \n  \"/>\n<polyline clip-path=\"url(#clip02)\" style=\"stroke:#00002d; stroke-width:1.6; stroke-opacity:0.1; fill:none\" points=\"\n  506.891,47.2441 1962.9,47.2441 \n  \"/>\n<polyline clip-path=\"url(#clip00)\" style=\"stroke:#00002d; stroke-width:3.2; stroke-opacity:1; fill:none\" points=\"\n  506.891,1503.25 1962.9,1503.25 \n  \"/>\n<polyline clip-path=\"url(#clip00)\" style=\"stroke:#00002d; stroke-width:3.2; stroke-opacity:1; fill:none\" points=\"\n  506.891,1503.25 506.891,47.2441 \n  \"/>\n<polyline clip-path=\"url(#clip00)\" style=\"stroke:#00002d; stroke-width:3.2; stroke-opacity:1; fill:none\" points=\"\n  506.891,1503.25 506.891,1481.41 \n  \"/>\n<polyline clip-path=\"url(#clip00)\" style=\"stroke:#00002d; stroke-width:3.2; stroke-opacity:1; fill:none\" points=\"\n  870.894,1503.25 870.894,1481.41 \n  \"/>\n<polyline clip-path=\"url(#clip00)\" style=\"stroke:#00002d; stroke-width:3.2; stroke-opacity:1; fill:none\" points=\"\n  1234.9,1503.25 1234.9,1481.41 \n  \"/>\n<polyline clip-path=\"url(#clip00)\" style=\"stroke:#00002d; stroke-width:3.2; stroke-opacity:1; fill:none\" points=\"\n  1598.9,1503.25 1598.9,1481.41 \n  \"/>\n<polyline clip-path=\"url(#clip00)\" style=\"stroke:#00002d; stroke-width:3.2; stroke-opacity:1; fill:none\" points=\"\n  1962.9,1503.25 1962.9,1481.41 \n  \"/>\n<polyline clip-path=\"url(#clip00)\" style=\"stroke:#00002d; stroke-width:3.2; stroke-opacity:1; fill:none\" points=\"\n  506.891,1503.25 528.732,1503.25 \n  \"/>\n<polyline clip-path=\"url(#clip00)\" style=\"stroke:#00002d; stroke-width:3.2; stroke-opacity:1; fill:none\" points=\"\n  506.891,1139.25 528.732,1139.25 \n  \"/>\n<polyline clip-path=\"url(#clip00)\" style=\"stroke:#00002d; stroke-width:3.2; stroke-opacity:1; fill:none\" points=\"\n  506.891,775.249 528.732,775.249 \n  \"/>\n<polyline clip-path=\"url(#clip00)\" style=\"stroke:#00002d; stroke-width:3.2; stroke-opacity:1; fill:none\" points=\"\n  506.891,411.247 528.732,411.247 \n  \"/>\n<polyline clip-path=\"url(#clip00)\" style=\"stroke:#00002d; stroke-width:3.2; stroke-opacity:1; fill:none\" points=\"\n  506.891,47.2441 528.732,47.2441 \n  \"/>\n<g clip-path=\"url(#clip00)\">\n<text style=\"fill:#00002d; fill-opacity:1; font-family:Arial,Helvetica Neue,Helvetica,sans-serif; font-size:48; text-anchor:middle;\" transform=\"rotate(0, 506.891, 1557.25)\" x=\"506.891\" y=\"1557.25\">-2</text>\n</g>\n<g clip-path=\"url(#clip00)\">\n<text style=\"fill:#00002d; fill-opacity:1; font-family:Arial,Helvetica Neue,Helvetica,sans-serif; font-size:48; text-anchor:middle;\" transform=\"rotate(0, 870.894, 1557.25)\" x=\"870.894\" y=\"1557.25\">-1</text>\n</g>\n<g clip-path=\"url(#clip00)\">\n<text style=\"fill:#00002d; fill-opacity:1; font-family:Arial,Helvetica Neue,Helvetica,sans-serif; font-size:48; text-anchor:middle;\" transform=\"rotate(0, 1234.9, 1557.25)\" x=\"1234.9\" y=\"1557.25\">0</text>\n</g>\n<g clip-path=\"url(#clip00)\">\n<text style=\"fill:#00002d; fill-opacity:1; font-family:Arial,Helvetica Neue,Helvetica,sans-serif; font-size:48; text-anchor:middle;\" transform=\"rotate(0, 1598.9, 1557.25)\" x=\"1598.9\" y=\"1557.25\">1</text>\n</g>\n<g clip-path=\"url(#clip00)\">\n<text style=\"fill:#00002d; fill-opacity:1; font-family:Arial,Helvetica Neue,Helvetica,sans-serif; font-size:48; text-anchor:middle;\" transform=\"rotate(0, 1962.9, 1557.25)\" x=\"1962.9\" y=\"1557.25\">2</text>\n</g>\n<g clip-path=\"url(#clip00)\">\n<text style=\"fill:#00002d; fill-opacity:1; font-family:Arial,Helvetica Neue,Helvetica,sans-serif; font-size:48; text-anchor:end;\" transform=\"rotate(0, 482.891, 1520.75)\" x=\"482.891\" y=\"1520.75\">-2</text>\n</g>\n<g clip-path=\"url(#clip00)\">\n<text style=\"fill:#00002d; fill-opacity:1; font-family:Arial,Helvetica Neue,Helvetica,sans-serif; font-size:48; text-anchor:end;\" transform=\"rotate(0, 482.891, 1156.75)\" x=\"482.891\" y=\"1156.75\">-1</text>\n</g>\n<g clip-path=\"url(#clip00)\">\n<text style=\"fill:#00002d; fill-opacity:1; font-family:Arial,Helvetica Neue,Helvetica,sans-serif; font-size:48; text-anchor:end;\" transform=\"rotate(0, 482.891, 792.749)\" x=\"482.891\" y=\"792.749\">0</text>\n</g>\n<g clip-path=\"url(#clip00)\">\n<text style=\"fill:#00002d; fill-opacity:1; font-family:Arial,Helvetica Neue,Helvetica,sans-serif; font-size:48; text-anchor:end;\" transform=\"rotate(0, 482.891, 428.747)\" x=\"482.891\" y=\"428.747\">1</text>\n</g>\n<g clip-path=\"url(#clip00)\">\n<text style=\"fill:#00002d; fill-opacity:1; font-family:Arial,Helvetica Neue,Helvetica,sans-serif; font-size:48; text-anchor:end;\" transform=\"rotate(0, 482.891, 64.7441)\" x=\"482.891\" y=\"64.7441\">2</text>\n</g>\n<polyline clip-path=\"url(#clip02)\" style=\"stroke:#008100; stroke-width:6.4; stroke-opacity:1; fill:none\" points=\"\n  1234.9,775.249 1598.87,779.832 \n  \"/>\n<polyline clip-path=\"url(#clip02)\" style=\"stroke:#008100; stroke-width:6.4; stroke-opacity:1; fill:none\" points=\"\n  1563.1,761.38 1598.87,779.832 1562.65,797.377 \n  \"/>\n<polyline clip-path=\"url(#clip02)\" style=\"stroke:#008100; stroke-width:6.4; stroke-opacity:1; fill:none\" points=\"\n  1598.87,779.832 1234.9,775.249 \n  \"/>\n<polyline clip-path=\"url(#clip02)\" style=\"stroke:#0000ff; stroke-width:9.6; stroke-opacity:1; fill:none\" points=\"\n  1234.9,775.249 1234.9,775.249 \n  \"/>\n<polyline clip-path=\"url(#clip02)\" style=\"stroke:#0000ff; stroke-width:9.6; stroke-opacity:1; fill:none\" points=\"\n  nan,nan nan,nan nan,nan \n  \"/>\n<polyline clip-path=\"url(#clip02)\" style=\"stroke:#0000ff; stroke-width:9.6; stroke-opacity:1; fill:none\" points=\"\n  nan,nan nan,nan \n  \"/>\n<polyline clip-path=\"url(#clip02)\" style=\"stroke:#008100; stroke-width:3.2; stroke-opacity:1; fill:none\" stroke-dasharray=\"13, 8\" points=\"\n  1598.9,775.249 1598.88,771.609 1598.83,767.969 1598.73,764.331 1598.61,760.693 1598.44,757.056 1598.24,753.422 1598.01,749.79 1597.73,746.16 1597.43,742.533 \n  1597.08,738.909 1596.7,735.289 1596.28,731.673 1595.83,728.062 1595.34,724.455 1594.81,720.853 1594.25,717.257 1593.65,713.666 1593.02,710.082 1592.35,706.504 \n  1591.64,702.933 1590.9,699.369 1590.13,695.813 1589.31,692.265 1588.47,688.725 1587.58,685.193 1586.66,681.671 1585.71,678.158 1584.72,674.655 1583.7,671.162 \n  1582.64,667.679 1581.55,664.207 1580.42,660.746 1579.26,657.296 1578.06,653.859 1576.83,650.433 1575.56,647.02 1574.27,643.62 1572.93,640.233 1571.57,636.859 \n  1570.16,633.5 1568.73,630.154 1567.26,626.823 1565.76,623.507 1564.23,620.206 1562.66,616.92 1561.06,613.651 1559.43,610.397 1557.76,607.16 1556.07,603.94 \n  1554.34,600.737 1552.58,597.551 1550.78,594.383 1548.96,591.234 1547.1,588.102 1545.22,584.99 1543.3,581.896 1541.35,578.822 1539.37,575.767 1537.36,572.732 \n  1535.32,569.718 1533.25,566.724 1531.15,563.751 1529.02,560.799 1526.86,557.868 1524.67,554.96 1522.46,552.073 1520.21,549.209 1517.93,546.367 1515.63,543.548 \n  1513.3,540.752 1510.94,537.98 1508.56,535.231 1506.14,532.507 1503.7,529.807 1501.23,527.131 1498.74,524.48 1496.22,521.854 1493.67,519.254 1491.1,516.679 \n  1488.5,514.13 1485.88,511.607 1483.23,509.11 1480.55,506.64 1477.85,504.197 1475.13,501.781 1472.39,499.392 1469.61,497.031 1466.82,494.698 1464,492.393 \n  1461.16,490.116 1458.3,487.868 1455.42,485.648 1452.51,483.457 1449.58,481.296 1446.63,479.164 1443.66,477.061 1440.67,474.989 1437.65,472.946 1434.62,470.933 \n  1431.57,468.951 1428.49,467 1425.4,465.08 1422.29,463.19 1419.16,461.332 1416.01,459.505 1412.85,457.709 1409.66,455.946 1406.46,454.214 1403.24,452.515 \n  1400.01,450.847 1396.75,449.212 1393.49,447.61 1390.2,446.041 1386.9,444.504 1383.59,443.001 1380.26,441.53 1376.91,440.093 1373.55,438.69 1370.18,437.32 \n  1366.8,435.984 1363.4,434.682 1359.98,433.415 1356.56,432.181 1353.12,430.981 1349.67,429.816 1346.21,428.686 1342.74,427.59 1339.26,426.529 1335.77,425.503 \n  1332.27,424.511 1328.75,423.555 1325.23,422.634 1321.7,421.749 1318.16,420.898 1314.62,420.083 1311.06,419.304 1307.5,418.56 1303.93,417.852 1300.35,417.179 \n  1296.76,416.543 1293.17,415.942 1289.58,415.377 1285.98,414.848 1282.37,414.356 1278.76,413.899 1275.14,413.478 1271.52,413.094 1267.9,412.746 1264.27,412.434 \n  1260.64,412.158 1257.01,411.919 1253.38,411.716 1249.74,411.549 1246.1,411.419 1242.47,411.325 1238.83,411.268 1235.19,411.247 1231.55,411.262 1227.91,411.314 \n  1224.27,411.402 1220.63,411.526 1216.99,411.687 1213.36,411.884 1209.73,412.118 1206.1,412.388 1202.47,412.694 1198.85,413.036 1195.22,413.415 1191.61,413.83 \n  1188,414.281 1184.39,414.768 1180.79,415.291 1177.19,415.85 1173.6,416.445 1170.01,417.076 1166.44,417.742 1162.86,418.445 1159.3,419.183 1155.74,419.957 \n  1152.19,420.766 1148.65,421.611 1145.12,422.491 1141.6,423.406 1138.08,424.357 1134.58,425.342 1131.09,426.363 1127.6,427.419 1124.13,428.509 1120.67,429.634 \n  1117.22,430.793 1113.78,431.987 1110.35,433.216 1106.94,434.478 1103.54,435.775 1100.15,437.105 1096.77,438.47 1093.41,439.868 1090.07,441.299 1086.74,442.764 \n  1083.42,444.262 1080.12,445.794 1076.83,447.358 1073.56,448.955 1070.3,450.585 1067.06,452.247 1063.84,453.941 1060.64,455.668 1057.45,457.426 1054.28,459.217 \n  1051.13,461.039 1048,462.892 1044.88,464.777 1041.79,466.692 1038.71,468.639 1035.66,470.616 1032.62,472.623 1029.6,474.661 1026.61,476.729 1023.63,478.827 \n  1020.68,480.954 1017.75,483.111 1014.84,485.297 1011.95,487.512 1009.08,489.756 1006.24,492.028 1003.42,494.329 1000.62,496.658 997.847,499.015 995.097,501.399 \n  992.37,503.81 989.668,506.249 986.99,508.715 984.337,511.207 981.709,513.726 979.107,516.271 976.53,518.842 973.979,521.438 971.454,524.06 968.955,526.707 \n  966.483,529.379 964.038,532.075 961.62,534.796 959.229,537.541 956.866,540.309 954.53,543.101 952.223,545.916 949.944,548.754 947.693,551.615 945.471,554.498 \n  943.278,557.404 941.114,560.331 938.98,563.279 936.875,566.249 934.8,569.24 932.755,572.251 930.74,575.282 928.755,578.334 926.802,581.405 924.879,584.496 \n  922.987,587.605 921.126,590.734 919.296,593.881 917.499,597.046 915.732,600.228 913.998,603.429 912.296,606.646 910.626,609.881 908.989,613.131 907.384,616.399 \n  905.812,619.682 904.273,622.98 902.766,626.294 901.294,629.623 899.854,632.966 898.448,636.323 897.076,639.695 895.737,643.08 894.432,646.478 893.162,649.889 \n  891.925,653.312 890.723,656.748 889.555,660.196 888.422,663.655 887.323,667.125 886.259,670.606 885.23,674.098 884.236,677.599 883.277,681.111 882.354,684.632 \n  881.465,688.162 880.612,691.7 879.794,695.247 879.012,698.802 878.265,702.365 877.554,705.935 876.879,709.511 876.24,713.095 875.636,716.684 875.068,720.28 \n  874.537,723.881 874.041,727.487 873.581,731.098 873.158,734.713 872.771,738.333 872.42,741.956 872.105,745.582 871.826,749.211 871.584,752.843 871.378,756.477 \n  871.209,760.113 871.075,763.751 870.979,767.39 870.918,771.029 870.894,774.669 870.907,778.309 870.955,781.949 871.041,785.588 871.162,789.226 871.32,792.862 \n  871.515,796.497 871.745,800.13 872.012,803.76 872.315,807.388 872.655,811.012 873.031,814.632 873.443,818.249 873.891,821.861 874.375,825.469 874.895,829.072 \n  875.451,832.669 876.043,836.26 876.671,839.846 877.335,843.425 878.035,846.997 878.77,850.562 879.541,854.119 880.348,857.669 881.19,861.21 882.067,864.743 \n  882.979,868.267 883.927,871.781 884.91,875.286 885.928,878.781 886.981,882.265 888.068,885.739 889.19,889.201 890.347,892.653 891.538,896.092 892.764,899.52 \n  894.024,902.935 895.318,906.337 896.645,909.726 898.007,913.102 899.402,916.464 900.831,919.812 902.294,923.145 903.789,926.464 905.318,929.767 906.88,933.055 \n  908.474,936.327 910.101,939.584 911.761,942.823 913.453,946.046 915.177,949.252 916.933,952.44 918.72,955.611 920.54,958.764 922.391,961.898 924.273,965.014 \n  926.186,968.111 928.13,971.188 930.104,974.246 932.11,977.284 934.145,980.301 936.211,983.299 938.306,986.275 940.431,989.23 942.586,992.164 944.769,995.076 \n  946.982,997.967 949.224,1000.83 951.494,1003.68 953.792,1006.5 956.119,1009.3 958.473,1012.08 960.855,1014.83 963.265,1017.56 965.701,1020.26 968.165,1022.94 \n  970.655,1025.6 973.172,1028.23 975.715,1030.83 978.283,1033.41 980.878,1035.96 983.498,1038.49 986.143,1040.99 988.812,1043.47 991.507,1045.91 994.226,1048.33 \n  996.968,1050.73 999.735,1053.09 1002.53,1055.43 1005.34,1057.74 1008.17,1060.02 1011.03,1062.27 1013.92,1064.5 1016.82,1066.69 1019.74,1068.86 1022.69,1071 \n  1025.66,1073.1 1028.65,1075.18 1031.66,1077.23 1034.69,1079.25 1037.74,1081.23 1040.81,1083.19 1043.9,1085.11 1047,1087.01 1050.13,1088.87 1053.28,1090.7 \n  1056.44,1092.5 1059.62,1094.27 1062.82,1096.01 1066.04,1097.71 1069.27,1099.39 1072.52,1101.03 1075.79,1102.63 1079.07,1104.21 1082.36,1105.75 1085.68,1107.26 \n  1089,1108.74 1092.35,1110.18 1095.7,1111.59 1099.07,1112.96 1102.46,1114.3 1105.85,1115.61 1109.26,1116.88 1112.69,1118.12 1116.12,1119.33 1119.57,1120.5 \n  1123.03,1121.63 1126.5,1122.74 1129.98,1123.8 1133.47,1124.83 1136.97,1125.83 1140.48,1126.79 1144,1127.72 1147.53,1128.61 1151.07,1129.47 1154.61,1130.29 \n  1158.17,1131.07 1161.73,1131.82 1165.3,1132.54 1168.87,1133.21 1172.46,1133.86 1176.05,1134.46 1179.64,1135.03 1183.24,1135.57 1186.85,1136.07 1190.46,1136.53 \n  1194.07,1136.95 1197.69,1137.35 1201.31,1137.7 1204.94,1138.02 1208.57,1138.3 1212.2,1138.54 1215.84,1138.75 1219.47,1138.92 1223.11,1139.06 1226.75,1139.16 \n  1230.39,1139.22 1234.03,1139.25 1237.67,1139.24 1241.31,1139.19 1244.95,1139.11 1248.58,1138.99 1252.22,1138.84 1255.86,1138.65 1259.49,1138.42 1263.12,1138.16 \n  1266.75,1137.86 1270.37,1137.52 1273.99,1137.15 1277.61,1136.74 1281.22,1136.29 1284.83,1135.81 1288.43,1135.29 1292.03,1134.74 1295.62,1134.15 1299.21,1133.53 \n  1302.79,1132.86 1306.36,1132.17 1309.93,1131.43 1313.48,1130.67 1317.03,1129.86 1320.58,1129.02 1324.11,1128.15 1327.63,1127.24 1331.15,1126.29 1334.65,1125.31 \n  1338.15,1124.3 1341.64,1123.25 1345.11,1122.16 1348.57,1121.05 1352.03,1119.89 1355.47,1118.7 1358.89,1117.48 1362.31,1116.22 1365.71,1114.93 1369.1,1113.61 \n  1372.48,1112.25 1375.84,1110.86 1379.19,1109.43 1382.53,1107.97 1385.85,1106.48 1389.15,1104.95 1392.44,1103.39 1395.71,1101.8 1398.97,1100.17 1402.21,1098.52 \n  1405.44,1096.83 1408.64,1095.11 1411.83,1093.35 1415.01,1091.57 1418.16,1089.75 1421.3,1087.9 1424.41,1086.02 1427.51,1084.11 1430.59,1082.17 1433.65,1080.2 \n  1436.69,1078.2 1439.71,1076.16 1442.71,1074.1 1445.69,1072.01 1448.64,1069.88 1451.58,1067.73 1454.49,1065.55 1457.38,1063.34 1460.25,1061.1 1463.1,1058.83 \n  1465.93,1056.54 1468.73,1054.21 1471.51,1051.86 1474.26,1049.48 1476.99,1047.07 1479.7,1044.64 1482.38,1042.18 1485.03,1039.69 1487.67,1037.17 1490.27,1034.63 \n  1492.85,1032.07 1495.41,1029.47 1497.94,1026.86 1500.44,1024.21 1502.92,1021.55 1505.37,1018.85 1507.79,1016.14 1510.18,1013.4 1512.55,1010.63 1514.89,1007.84 \n  1517.2,1005.03 1519.49,1002.2 1521.74,999.34 1523.97,996.46 1526.17,993.558 1528.34,990.635 1530.47,987.69 1532.58,984.723 1534.66,981.736 1536.71,978.728 \n  1538.73,975.7 1540.72,972.651 1542.68,969.583 1544.61,966.496 1546.51,963.389 1548.37,960.264 1550.21,957.12 1552.01,953.958 1553.78,950.778 1555.52,947.58 \n  1557.23,944.365 1558.9,941.134 1560.55,937.885 1562.16,934.621 1563.73,931.34 1565.28,928.044 1566.79,924.733 1568.27,921.406 1569.71,918.065 1571.12,914.71 \n  1572.5,911.341 1573.84,907.958 1575.15,904.562 1576.43,901.153 1577.67,897.732 1578.88,894.298 1580.05,890.852 1581.19,887.395 1582.3,883.926 1583.37,880.447 \n  1584.4,876.957 1585.4,873.457 1586.36,869.947 1587.29,866.428 1588.19,862.899 1589.05,859.362 1589.87,855.816 1590.66,852.262 1591.41,848.701 1592.13,845.132 \n  1592.81,841.557 1593.45,837.974 1594.06,834.386 1594.64,830.791 1595.17,827.191 1595.68,823.586 1596.14,819.975 1596.57,816.361 1596.96,812.742 1597.32,809.12 \n  1597.64,805.494 1597.92,801.865 1598.17,798.233 1598.38,794.599 1598.56,790.964 1598.7,787.326 1598.8,783.688 1598.87,780.048 1598.9,776.408 \n  \"/>\n<polyline clip-path=\"url(#clip02)\" style=\"stroke:#0000ff; stroke-width:3.2; stroke-opacity:1; fill:none\" stroke-dasharray=\"13, 8\" points=\"\n  1234.9,775.249 1234.9,775.249 \n  \n  \n  \n  \n  \n  \n  \n  \n  \n  \n  \n  \n  \n  \n  \n  \n  \n  \n  \n  \n  \n  \n  \n  \n  \n  \n  \n  \n  \n  \n  \n  \n  \n  \n  \n  \n  \n  \n  \n  \n  \n  \n  \n  \n  \n  \n  \n  \n  \n  \n  \n  \n  \n  \n  \n  \n  \n  \n  \n  \n  \n  \n  \"/>\n<polyline clip-path=\"url(#clip02)\" style=\"stroke:#ff00ff; stroke-width:12.8; stroke-opacity:1; fill:none\" points=\"\n  1234.9,775.249 1234.9,775.249 \n  \"/>\n<polyline clip-path=\"url(#clip02)\" style=\"stroke:#ff00ff; stroke-width:12.8; stroke-opacity:1; fill:none\" points=\"\n  1234.9,775.249 1598.87,779.832 \n  \"/>\n<circle clip-path=\"url(#clip02)\" style=\"fill:#00002d; stroke:none; fill-opacity:1\" cx=\"1234.9\" cy=\"775.249\" r=\"14\"/>\n<circle clip-path=\"url(#clip02)\" style=\"fill:#ff5d5d; stroke:none; fill-opacity:1\" cx=\"1234.9\" cy=\"775.249\" r=\"11\"/>\n</svg>\n"
         },
         "type": "node"
        }
       ],
       "instanceArgs": {
        "handlers": {
         "obs-output": [
          "function (value, scope) {\n    scope.setInnerHTML(value);\n}\n"
         ]
        },
        "id": "scope-5e7d58d9-1c92-48f5-9438-f5e62b79b8c1",
        "imports": {
         "data": [],
         "type": "async_block"
        },
        "mount_callbacks": [],
        "observables": {
         "obs-output": {
          "id": "ob_18",
          "sync": false,
          "value": "<?xml version=\"1.0\" encoding=\"utf-8\"?>\n<svg xmlns=\"http://www.w3.org/2000/svg\" xmlns:xlink=\"http://www.w3.org/1999/xlink\" width=\"2400\" height=\"1600\" viewBox=\"0 0 2400 1600\">\n<defs>\n  <clipPath id=\"clip00\">\n    <rect x=\"0\" y=\"0\" width=\"2400\" height=\"1600\"/>\n  </clipPath>\n</defs>\n<polygon clip-path=\"url(#clip00)\" points=\"\n0,1600 2400,1600 2400,0 0,0 \n  \" fill=\"#ffffff\" fill-opacity=\"1\"/>\n<defs>\n  <clipPath id=\"clip01\">\n    <rect x=\"480\" y=\"0\" width=\"1681\" height=\"1600\"/>\n  </clipPath>\n</defs>\n<polygon clip-path=\"url(#clip00)\" points=\"\n506.891,1503.25 1962.9,1503.25 1962.9,47.2441 506.891,47.2441 \n  \" fill=\"#ffffff\" fill-opacity=\"1\"/>\n<defs>\n  <clipPath id=\"clip02\">\n    <rect x=\"506\" y=\"47\" width=\"1457\" height=\"1457\"/>\n  </clipPath>\n</defs>\n<polyline clip-path=\"url(#clip02)\" style=\"stroke:#00002d; stroke-width:1.6; stroke-opacity:0.1; fill:none\" points=\"\n  506.891,1503.25 506.891,47.2441 \n  \"/>\n<polyline clip-path=\"url(#clip02)\" style=\"stroke:#00002d; stroke-width:1.6; stroke-opacity:0.1; fill:none\" points=\"\n  870.894,1503.25 870.894,47.2441 \n  \"/>\n<polyline clip-path=\"url(#clip02)\" style=\"stroke:#00002d; stroke-width:1.6; stroke-opacity:0.1; fill:none\" points=\"\n  1234.9,1503.25 1234.9,47.2441 \n  \"/>\n<polyline clip-path=\"url(#clip02)\" style=\"stroke:#00002d; stroke-width:1.6; stroke-opacity:0.1; fill:none\" points=\"\n  1598.9,1503.25 1598.9,47.2441 \n  \"/>\n<polyline clip-path=\"url(#clip02)\" style=\"stroke:#00002d; stroke-width:1.6; stroke-opacity:0.1; fill:none\" points=\"\n  1962.9,1503.25 1962.9,47.2441 \n  \"/>\n<polyline clip-path=\"url(#clip02)\" style=\"stroke:#00002d; stroke-width:1.6; stroke-opacity:0.1; fill:none\" points=\"\n  506.891,1503.25 1962.9,1503.25 \n  \"/>\n<polyline clip-path=\"url(#clip02)\" style=\"stroke:#00002d; stroke-width:1.6; stroke-opacity:0.1; fill:none\" points=\"\n  506.891,1139.25 1962.9,1139.25 \n  \"/>\n<polyline clip-path=\"url(#clip02)\" style=\"stroke:#00002d; stroke-width:1.6; stroke-opacity:0.1; fill:none\" points=\"\n  506.891,775.249 1962.9,775.249 \n  \"/>\n<polyline clip-path=\"url(#clip02)\" style=\"stroke:#00002d; stroke-width:1.6; stroke-opacity:0.1; fill:none\" points=\"\n  506.891,411.247 1962.9,411.247 \n  \"/>\n<polyline clip-path=\"url(#clip02)\" style=\"stroke:#00002d; stroke-width:1.6; stroke-opacity:0.1; fill:none\" points=\"\n  506.891,47.2441 1962.9,47.2441 \n  \"/>\n<polyline clip-path=\"url(#clip00)\" style=\"stroke:#00002d; stroke-width:3.2; stroke-opacity:1; fill:none\" points=\"\n  506.891,1503.25 1962.9,1503.25 \n  \"/>\n<polyline clip-path=\"url(#clip00)\" style=\"stroke:#00002d; stroke-width:3.2; stroke-opacity:1; fill:none\" points=\"\n  506.891,1503.25 506.891,47.2441 \n  \"/>\n<polyline clip-path=\"url(#clip00)\" style=\"stroke:#00002d; stroke-width:3.2; stroke-opacity:1; fill:none\" points=\"\n  506.891,1503.25 506.891,1481.41 \n  \"/>\n<polyline clip-path=\"url(#clip00)\" style=\"stroke:#00002d; stroke-width:3.2; stroke-opacity:1; fill:none\" points=\"\n  870.894,1503.25 870.894,1481.41 \n  \"/>\n<polyline clip-path=\"url(#clip00)\" style=\"stroke:#00002d; stroke-width:3.2; stroke-opacity:1; fill:none\" points=\"\n  1234.9,1503.25 1234.9,1481.41 \n  \"/>\n<polyline clip-path=\"url(#clip00)\" style=\"stroke:#00002d; stroke-width:3.2; stroke-opacity:1; fill:none\" points=\"\n  1598.9,1503.25 1598.9,1481.41 \n  \"/>\n<polyline clip-path=\"url(#clip00)\" style=\"stroke:#00002d; stroke-width:3.2; stroke-opacity:1; fill:none\" points=\"\n  1962.9,1503.25 1962.9,1481.41 \n  \"/>\n<polyline clip-path=\"url(#clip00)\" style=\"stroke:#00002d; stroke-width:3.2; stroke-opacity:1; fill:none\" points=\"\n  506.891,1503.25 528.732,1503.25 \n  \"/>\n<polyline clip-path=\"url(#clip00)\" style=\"stroke:#00002d; stroke-width:3.2; stroke-opacity:1; fill:none\" points=\"\n  506.891,1139.25 528.732,1139.25 \n  \"/>\n<polyline clip-path=\"url(#clip00)\" style=\"stroke:#00002d; stroke-width:3.2; stroke-opacity:1; fill:none\" points=\"\n  506.891,775.249 528.732,775.249 \n  \"/>\n<polyline clip-path=\"url(#clip00)\" style=\"stroke:#00002d; stroke-width:3.2; stroke-opacity:1; fill:none\" points=\"\n  506.891,411.247 528.732,411.247 \n  \"/>\n<polyline clip-path=\"url(#clip00)\" style=\"stroke:#00002d; stroke-width:3.2; stroke-opacity:1; fill:none\" points=\"\n  506.891,47.2441 528.732,47.2441 \n  \"/>\n<g clip-path=\"url(#clip00)\">\n<text style=\"fill:#00002d; fill-opacity:1; font-family:Arial,Helvetica Neue,Helvetica,sans-serif; font-size:48; text-anchor:middle;\" transform=\"rotate(0, 506.891, 1557.25)\" x=\"506.891\" y=\"1557.25\">-2</text>\n</g>\n<g clip-path=\"url(#clip00)\">\n<text style=\"fill:#00002d; fill-opacity:1; font-family:Arial,Helvetica Neue,Helvetica,sans-serif; font-size:48; text-anchor:middle;\" transform=\"rotate(0, 870.894, 1557.25)\" x=\"870.894\" y=\"1557.25\">-1</text>\n</g>\n<g clip-path=\"url(#clip00)\">\n<text style=\"fill:#00002d; fill-opacity:1; font-family:Arial,Helvetica Neue,Helvetica,sans-serif; font-size:48; text-anchor:middle;\" transform=\"rotate(0, 1234.9, 1557.25)\" x=\"1234.9\" y=\"1557.25\">0</text>\n</g>\n<g clip-path=\"url(#clip00)\">\n<text style=\"fill:#00002d; fill-opacity:1; font-family:Arial,Helvetica Neue,Helvetica,sans-serif; font-size:48; text-anchor:middle;\" transform=\"rotate(0, 1598.9, 1557.25)\" x=\"1598.9\" y=\"1557.25\">1</text>\n</g>\n<g clip-path=\"url(#clip00)\">\n<text style=\"fill:#00002d; fill-opacity:1; font-family:Arial,Helvetica Neue,Helvetica,sans-serif; font-size:48; text-anchor:middle;\" transform=\"rotate(0, 1962.9, 1557.25)\" x=\"1962.9\" y=\"1557.25\">2</text>\n</g>\n<g clip-path=\"url(#clip00)\">\n<text style=\"fill:#00002d; fill-opacity:1; font-family:Arial,Helvetica Neue,Helvetica,sans-serif; font-size:48; text-anchor:end;\" transform=\"rotate(0, 482.891, 1520.75)\" x=\"482.891\" y=\"1520.75\">-2</text>\n</g>\n<g clip-path=\"url(#clip00)\">\n<text style=\"fill:#00002d; fill-opacity:1; font-family:Arial,Helvetica Neue,Helvetica,sans-serif; font-size:48; text-anchor:end;\" transform=\"rotate(0, 482.891, 1156.75)\" x=\"482.891\" y=\"1156.75\">-1</text>\n</g>\n<g clip-path=\"url(#clip00)\">\n<text style=\"fill:#00002d; fill-opacity:1; font-family:Arial,Helvetica Neue,Helvetica,sans-serif; font-size:48; text-anchor:end;\" transform=\"rotate(0, 482.891, 792.749)\" x=\"482.891\" y=\"792.749\">0</text>\n</g>\n<g clip-path=\"url(#clip00)\">\n<text style=\"fill:#00002d; fill-opacity:1; font-family:Arial,Helvetica Neue,Helvetica,sans-serif; font-size:48; text-anchor:end;\" transform=\"rotate(0, 482.891, 428.747)\" x=\"482.891\" y=\"428.747\">1</text>\n</g>\n<g clip-path=\"url(#clip00)\">\n<text style=\"fill:#00002d; fill-opacity:1; font-family:Arial,Helvetica Neue,Helvetica,sans-serif; font-size:48; text-anchor:end;\" transform=\"rotate(0, 482.891, 64.7441)\" x=\"482.891\" y=\"64.7441\">2</text>\n</g>\n<polyline clip-path=\"url(#clip02)\" style=\"stroke:#008100; stroke-width:6.4; stroke-opacity:1; fill:none\" points=\"\n  1234.9,775.249 1598.87,779.832 \n  \"/>\n<polyline clip-path=\"url(#clip02)\" style=\"stroke:#008100; stroke-width:6.4; stroke-opacity:1; fill:none\" points=\"\n  1563.1,761.38 1598.87,779.832 1562.65,797.377 \n  \"/>\n<polyline clip-path=\"url(#clip02)\" style=\"stroke:#008100; stroke-width:6.4; stroke-opacity:1; fill:none\" points=\"\n  1598.87,779.832 1234.9,775.249 \n  \"/>\n<polyline clip-path=\"url(#clip02)\" style=\"stroke:#0000ff; stroke-width:9.6; stroke-opacity:1; fill:none\" points=\"\n  1234.9,775.249 1234.9,775.249 \n  \"/>\n<polyline clip-path=\"url(#clip02)\" style=\"stroke:#0000ff; stroke-width:9.6; stroke-opacity:1; fill:none\" points=\"\n  nan,nan nan,nan nan,nan \n  \"/>\n<polyline clip-path=\"url(#clip02)\" style=\"stroke:#0000ff; stroke-width:9.6; stroke-opacity:1; fill:none\" points=\"\n  nan,nan nan,nan \n  \"/>\n<polyline clip-path=\"url(#clip02)\" style=\"stroke:#008100; stroke-width:3.2; stroke-opacity:1; fill:none\" stroke-dasharray=\"13, 8\" points=\"\n  1598.9,775.249 1598.88,771.609 1598.83,767.969 1598.73,764.331 1598.61,760.693 1598.44,757.056 1598.24,753.422 1598.01,749.79 1597.73,746.16 1597.43,742.533 \n  1597.08,738.909 1596.7,735.289 1596.28,731.673 1595.83,728.062 1595.34,724.455 1594.81,720.853 1594.25,717.257 1593.65,713.666 1593.02,710.082 1592.35,706.504 \n  1591.64,702.933 1590.9,699.369 1590.13,695.813 1589.31,692.265 1588.47,688.725 1587.58,685.193 1586.66,681.671 1585.71,678.158 1584.72,674.655 1583.7,671.162 \n  1582.64,667.679 1581.55,664.207 1580.42,660.746 1579.26,657.296 1578.06,653.859 1576.83,650.433 1575.56,647.02 1574.27,643.62 1572.93,640.233 1571.57,636.859 \n  1570.16,633.5 1568.73,630.154 1567.26,626.823 1565.76,623.507 1564.23,620.206 1562.66,616.92 1561.06,613.651 1559.43,610.397 1557.76,607.16 1556.07,603.94 \n  1554.34,600.737 1552.58,597.551 1550.78,594.383 1548.96,591.234 1547.1,588.102 1545.22,584.99 1543.3,581.896 1541.35,578.822 1539.37,575.767 1537.36,572.732 \n  1535.32,569.718 1533.25,566.724 1531.15,563.751 1529.02,560.799 1526.86,557.868 1524.67,554.96 1522.46,552.073 1520.21,549.209 1517.93,546.367 1515.63,543.548 \n  1513.3,540.752 1510.94,537.98 1508.56,535.231 1506.14,532.507 1503.7,529.807 1501.23,527.131 1498.74,524.48 1496.22,521.854 1493.67,519.254 1491.1,516.679 \n  1488.5,514.13 1485.88,511.607 1483.23,509.11 1480.55,506.64 1477.85,504.197 1475.13,501.781 1472.39,499.392 1469.61,497.031 1466.82,494.698 1464,492.393 \n  1461.16,490.116 1458.3,487.868 1455.42,485.648 1452.51,483.457 1449.58,481.296 1446.63,479.164 1443.66,477.061 1440.67,474.989 1437.65,472.946 1434.62,470.933 \n  1431.57,468.951 1428.49,467 1425.4,465.08 1422.29,463.19 1419.16,461.332 1416.01,459.505 1412.85,457.709 1409.66,455.946 1406.46,454.214 1403.24,452.515 \n  1400.01,450.847 1396.75,449.212 1393.49,447.61 1390.2,446.041 1386.9,444.504 1383.59,443.001 1380.26,441.53 1376.91,440.093 1373.55,438.69 1370.18,437.32 \n  1366.8,435.984 1363.4,434.682 1359.98,433.415 1356.56,432.181 1353.12,430.981 1349.67,429.816 1346.21,428.686 1342.74,427.59 1339.26,426.529 1335.77,425.503 \n  1332.27,424.511 1328.75,423.555 1325.23,422.634 1321.7,421.749 1318.16,420.898 1314.62,420.083 1311.06,419.304 1307.5,418.56 1303.93,417.852 1300.35,417.179 \n  1296.76,416.543 1293.17,415.942 1289.58,415.377 1285.98,414.848 1282.37,414.356 1278.76,413.899 1275.14,413.478 1271.52,413.094 1267.9,412.746 1264.27,412.434 \n  1260.64,412.158 1257.01,411.919 1253.38,411.716 1249.74,411.549 1246.1,411.419 1242.47,411.325 1238.83,411.268 1235.19,411.247 1231.55,411.262 1227.91,411.314 \n  1224.27,411.402 1220.63,411.526 1216.99,411.687 1213.36,411.884 1209.73,412.118 1206.1,412.388 1202.47,412.694 1198.85,413.036 1195.22,413.415 1191.61,413.83 \n  1188,414.281 1184.39,414.768 1180.79,415.291 1177.19,415.85 1173.6,416.445 1170.01,417.076 1166.44,417.742 1162.86,418.445 1159.3,419.183 1155.74,419.957 \n  1152.19,420.766 1148.65,421.611 1145.12,422.491 1141.6,423.406 1138.08,424.357 1134.58,425.342 1131.09,426.363 1127.6,427.419 1124.13,428.509 1120.67,429.634 \n  1117.22,430.793 1113.78,431.987 1110.35,433.216 1106.94,434.478 1103.54,435.775 1100.15,437.105 1096.77,438.47 1093.41,439.868 1090.07,441.299 1086.74,442.764 \n  1083.42,444.262 1080.12,445.794 1076.83,447.358 1073.56,448.955 1070.3,450.585 1067.06,452.247 1063.84,453.941 1060.64,455.668 1057.45,457.426 1054.28,459.217 \n  1051.13,461.039 1048,462.892 1044.88,464.777 1041.79,466.692 1038.71,468.639 1035.66,470.616 1032.62,472.623 1029.6,474.661 1026.61,476.729 1023.63,478.827 \n  1020.68,480.954 1017.75,483.111 1014.84,485.297 1011.95,487.512 1009.08,489.756 1006.24,492.028 1003.42,494.329 1000.62,496.658 997.847,499.015 995.097,501.399 \n  992.37,503.81 989.668,506.249 986.99,508.715 984.337,511.207 981.709,513.726 979.107,516.271 976.53,518.842 973.979,521.438 971.454,524.06 968.955,526.707 \n  966.483,529.379 964.038,532.075 961.62,534.796 959.229,537.541 956.866,540.309 954.53,543.101 952.223,545.916 949.944,548.754 947.693,551.615 945.471,554.498 \n  943.278,557.404 941.114,560.331 938.98,563.279 936.875,566.249 934.8,569.24 932.755,572.251 930.74,575.282 928.755,578.334 926.802,581.405 924.879,584.496 \n  922.987,587.605 921.126,590.734 919.296,593.881 917.499,597.046 915.732,600.228 913.998,603.429 912.296,606.646 910.626,609.881 908.989,613.131 907.384,616.399 \n  905.812,619.682 904.273,622.98 902.766,626.294 901.294,629.623 899.854,632.966 898.448,636.323 897.076,639.695 895.737,643.08 894.432,646.478 893.162,649.889 \n  891.925,653.312 890.723,656.748 889.555,660.196 888.422,663.655 887.323,667.125 886.259,670.606 885.23,674.098 884.236,677.599 883.277,681.111 882.354,684.632 \n  881.465,688.162 880.612,691.7 879.794,695.247 879.012,698.802 878.265,702.365 877.554,705.935 876.879,709.511 876.24,713.095 875.636,716.684 875.068,720.28 \n  874.537,723.881 874.041,727.487 873.581,731.098 873.158,734.713 872.771,738.333 872.42,741.956 872.105,745.582 871.826,749.211 871.584,752.843 871.378,756.477 \n  871.209,760.113 871.075,763.751 870.979,767.39 870.918,771.029 870.894,774.669 870.907,778.309 870.955,781.949 871.041,785.588 871.162,789.226 871.32,792.862 \n  871.515,796.497 871.745,800.13 872.012,803.76 872.315,807.388 872.655,811.012 873.031,814.632 873.443,818.249 873.891,821.861 874.375,825.469 874.895,829.072 \n  875.451,832.669 876.043,836.26 876.671,839.846 877.335,843.425 878.035,846.997 878.77,850.562 879.541,854.119 880.348,857.669 881.19,861.21 882.067,864.743 \n  882.979,868.267 883.927,871.781 884.91,875.286 885.928,878.781 886.981,882.265 888.068,885.739 889.19,889.201 890.347,892.653 891.538,896.092 892.764,899.52 \n  894.024,902.935 895.318,906.337 896.645,909.726 898.007,913.102 899.402,916.464 900.831,919.812 902.294,923.145 903.789,926.464 905.318,929.767 906.88,933.055 \n  908.474,936.327 910.101,939.584 911.761,942.823 913.453,946.046 915.177,949.252 916.933,952.44 918.72,955.611 920.54,958.764 922.391,961.898 924.273,965.014 \n  926.186,968.111 928.13,971.188 930.104,974.246 932.11,977.284 934.145,980.301 936.211,983.299 938.306,986.275 940.431,989.23 942.586,992.164 944.769,995.076 \n  946.982,997.967 949.224,1000.83 951.494,1003.68 953.792,1006.5 956.119,1009.3 958.473,1012.08 960.855,1014.83 963.265,1017.56 965.701,1020.26 968.165,1022.94 \n  970.655,1025.6 973.172,1028.23 975.715,1030.83 978.283,1033.41 980.878,1035.96 983.498,1038.49 986.143,1040.99 988.812,1043.47 991.507,1045.91 994.226,1048.33 \n  996.968,1050.73 999.735,1053.09 1002.53,1055.43 1005.34,1057.74 1008.17,1060.02 1011.03,1062.27 1013.92,1064.5 1016.82,1066.69 1019.74,1068.86 1022.69,1071 \n  1025.66,1073.1 1028.65,1075.18 1031.66,1077.23 1034.69,1079.25 1037.74,1081.23 1040.81,1083.19 1043.9,1085.11 1047,1087.01 1050.13,1088.87 1053.28,1090.7 \n  1056.44,1092.5 1059.62,1094.27 1062.82,1096.01 1066.04,1097.71 1069.27,1099.39 1072.52,1101.03 1075.79,1102.63 1079.07,1104.21 1082.36,1105.75 1085.68,1107.26 \n  1089,1108.74 1092.35,1110.18 1095.7,1111.59 1099.07,1112.96 1102.46,1114.3 1105.85,1115.61 1109.26,1116.88 1112.69,1118.12 1116.12,1119.33 1119.57,1120.5 \n  1123.03,1121.63 1126.5,1122.74 1129.98,1123.8 1133.47,1124.83 1136.97,1125.83 1140.48,1126.79 1144,1127.72 1147.53,1128.61 1151.07,1129.47 1154.61,1130.29 \n  1158.17,1131.07 1161.73,1131.82 1165.3,1132.54 1168.87,1133.21 1172.46,1133.86 1176.05,1134.46 1179.64,1135.03 1183.24,1135.57 1186.85,1136.07 1190.46,1136.53 \n  1194.07,1136.95 1197.69,1137.35 1201.31,1137.7 1204.94,1138.02 1208.57,1138.3 1212.2,1138.54 1215.84,1138.75 1219.47,1138.92 1223.11,1139.06 1226.75,1139.16 \n  1230.39,1139.22 1234.03,1139.25 1237.67,1139.24 1241.31,1139.19 1244.95,1139.11 1248.58,1138.99 1252.22,1138.84 1255.86,1138.65 1259.49,1138.42 1263.12,1138.16 \n  1266.75,1137.86 1270.37,1137.52 1273.99,1137.15 1277.61,1136.74 1281.22,1136.29 1284.83,1135.81 1288.43,1135.29 1292.03,1134.74 1295.62,1134.15 1299.21,1133.53 \n  1302.79,1132.86 1306.36,1132.17 1309.93,1131.43 1313.48,1130.67 1317.03,1129.86 1320.58,1129.02 1324.11,1128.15 1327.63,1127.24 1331.15,1126.29 1334.65,1125.31 \n  1338.15,1124.3 1341.64,1123.25 1345.11,1122.16 1348.57,1121.05 1352.03,1119.89 1355.47,1118.7 1358.89,1117.48 1362.31,1116.22 1365.71,1114.93 1369.1,1113.61 \n  1372.48,1112.25 1375.84,1110.86 1379.19,1109.43 1382.53,1107.97 1385.85,1106.48 1389.15,1104.95 1392.44,1103.39 1395.71,1101.8 1398.97,1100.17 1402.21,1098.52 \n  1405.44,1096.83 1408.64,1095.11 1411.83,1093.35 1415.01,1091.57 1418.16,1089.75 1421.3,1087.9 1424.41,1086.02 1427.51,1084.11 1430.59,1082.17 1433.65,1080.2 \n  1436.69,1078.2 1439.71,1076.16 1442.71,1074.1 1445.69,1072.01 1448.64,1069.88 1451.58,1067.73 1454.49,1065.55 1457.38,1063.34 1460.25,1061.1 1463.1,1058.83 \n  1465.93,1056.54 1468.73,1054.21 1471.51,1051.86 1474.26,1049.48 1476.99,1047.07 1479.7,1044.64 1482.38,1042.18 1485.03,1039.69 1487.67,1037.17 1490.27,1034.63 \n  1492.85,1032.07 1495.41,1029.47 1497.94,1026.86 1500.44,1024.21 1502.92,1021.55 1505.37,1018.85 1507.79,1016.14 1510.18,1013.4 1512.55,1010.63 1514.89,1007.84 \n  1517.2,1005.03 1519.49,1002.2 1521.74,999.34 1523.97,996.46 1526.17,993.558 1528.34,990.635 1530.47,987.69 1532.58,984.723 1534.66,981.736 1536.71,978.728 \n  1538.73,975.7 1540.72,972.651 1542.68,969.583 1544.61,966.496 1546.51,963.389 1548.37,960.264 1550.21,957.12 1552.01,953.958 1553.78,950.778 1555.52,947.58 \n  1557.23,944.365 1558.9,941.134 1560.55,937.885 1562.16,934.621 1563.73,931.34 1565.28,928.044 1566.79,924.733 1568.27,921.406 1569.71,918.065 1571.12,914.71 \n  1572.5,911.341 1573.84,907.958 1575.15,904.562 1576.43,901.153 1577.67,897.732 1578.88,894.298 1580.05,890.852 1581.19,887.395 1582.3,883.926 1583.37,880.447 \n  1584.4,876.957 1585.4,873.457 1586.36,869.947 1587.29,866.428 1588.19,862.899 1589.05,859.362 1589.87,855.816 1590.66,852.262 1591.41,848.701 1592.13,845.132 \n  1592.81,841.557 1593.45,837.974 1594.06,834.386 1594.64,830.791 1595.17,827.191 1595.68,823.586 1596.14,819.975 1596.57,816.361 1596.96,812.742 1597.32,809.12 \n  1597.64,805.494 1597.92,801.865 1598.17,798.233 1598.38,794.599 1598.56,790.964 1598.7,787.326 1598.8,783.688 1598.87,780.048 1598.9,776.408 \n  \"/>\n<polyline clip-path=\"url(#clip02)\" style=\"stroke:#0000ff; stroke-width:3.2; stroke-opacity:1; fill:none\" stroke-dasharray=\"13, 8\" points=\"\n  1234.9,775.249 1234.9,775.249 \n  \n  \n  \n  \n  \n  \n  \n  \n  \n  \n  \n  \n  \n  \n  \n  \n  \n  \n  \n  \n  \n  \n  \n  \n  \n  \n  \n  \n  \n  \n  \n  \n  \n  \n  \n  \n  \n  \n  \n  \n  \n  \n  \n  \n  \n  \n  \n  \n  \n  \n  \n  \n  \n  \n  \n  \n  \n  \n  \n  \n  \n  \n  \"/>\n<polyline clip-path=\"url(#clip02)\" style=\"stroke:#ff00ff; stroke-width:12.8; stroke-opacity:1; fill:none\" points=\"\n  1234.9,775.249 1234.9,775.249 \n  \"/>\n<polyline clip-path=\"url(#clip02)\" style=\"stroke:#ff00ff; stroke-width:12.8; stroke-opacity:1; fill:none\" points=\"\n  1234.9,775.249 1598.87,779.832 \n  \"/>\n<circle clip-path=\"url(#clip02)\" style=\"fill:#00002d; stroke:none; fill-opacity:1\" cx=\"1234.9\" cy=\"775.249\" r=\"14\"/>\n<circle clip-path=\"url(#clip02)\" style=\"fill:#ff5d5d; stroke:none; fill-opacity:1\" cx=\"1234.9\" cy=\"775.249\" r=\"11\"/>\n</svg>\n"
         }
        },
        "systemjs_options": null
       },
       "nodeType": "Scope",
       "props": {},
       "type": "node"
      },
      "text/html": [
       "<div\n",
       "    class=\"webio-mountpoint\"\n",
       "    data-webio-mountpoint=\"13464725398146600755\"\n",
       ">\n",
       "    <script>\n",
       "    if (window.require && require.defined && require.defined(\"nbextensions/webio/main\")) {\n",
       "        console.log(\"Jupyter WebIO extension detected, not mounting.\");\n",
       "    } else if (window.WebIO) {\n",
       "        WebIO.mount(\n",
       "            document.querySelector('[data-webio-mountpoint=\"13464725398146600755\"]'),\n",
       "            {\"props\":{},\"nodeType\":\"Scope\",\"type\":\"node\",\"instanceArgs\":{\"imports\":{\"data\":[],\"type\":\"async_block\"},\"id\":\"scope-59417c4e-7132-48b5-a02c-a99502cb1646\",\"handlers\":{\"obs-output\":[\"function (value, scope) {\\n    scope.setInnerHTML(value);\\n}\\n\"]},\"systemjs_options\":null,\"mount_callbacks\":[],\"observables\":{\"obs-output\":{\"sync\":false,\"id\":\"ob_17\",\"value\":\"<?xml version=\\\"1.0\\\" encoding=\\\"utf-8\\\"?>\\n<svg xmlns=\\\"http:\\/\\/www.w3.org\\/2000\\/svg\\\" xmlns:xlink=\\\"http:\\/\\/www.w3.org\\/1999\\/xlink\\\" width=\\\"2400\\\" height=\\\"1600\\\" viewBox=\\\"0 0 2400 1600\\\">\\n<defs>\\n  <clipPath id=\\\"clip00\\\">\\n    <rect x=\\\"0\\\" y=\\\"0\\\" width=\\\"2400\\\" height=\\\"1600\\\"\\/>\\n  <\\/clipPath>\\n<\\/defs>\\n<polygon clip-path=\\\"url(#clip00)\\\" points=\\\"\\n0,1600 2400,1600 2400,0 0,0 \\n  \\\" fill=\\\"#ffffff\\\" fill-opacity=\\\"1\\\"\\/>\\n<defs>\\n  <clipPath id=\\\"clip01\\\">\\n    <rect x=\\\"480\\\" y=\\\"0\\\" width=\\\"1681\\\" height=\\\"1600\\\"\\/>\\n  <\\/clipPath>\\n<\\/defs>\\n<polygon clip-path=\\\"url(#clip00)\\\" points=\\\"\\n506.891,1503.25 1962.9,1503.25 1962.9,47.2441 506.891,47.2441 \\n  \\\" fill=\\\"#ffffff\\\" fill-opacity=\\\"1\\\"\\/>\\n<defs>\\n  <clipPath id=\\\"clip02\\\">\\n    <rect x=\\\"506\\\" y=\\\"47\\\" width=\\\"1457\\\" height=\\\"1457\\\"\\/>\\n  <\\/clipPath>\\n<\\/defs>\\n<polyline clip-path=\\\"url(#clip02)\\\" style=\\\"stroke:#00002d; stroke-width:1.6; stroke-opacity:0.1; fill:none\\\" points=\\\"\\n  506.891,1503.25 506.891,47.2441 \\n  \\\"\\/>\\n<polyline clip-path=\\\"url(#clip02)\\\" style=\\\"stroke:#00002d; stroke-width:1.6; stroke-opacity:0.1; fill:none\\\" points=\\\"\\n  870.894,1503.25 870.894,47.2441 \\n  \\\"\\/>\\n<polyline clip-path=\\\"url(#clip02)\\\" style=\\\"stroke:#00002d; stroke-width:1.6; stroke-opacity:0.1; fill:none\\\" points=\\\"\\n  1234.9,1503.25 1234.9,47.2441 \\n  \\\"\\/>\\n<polyline clip-path=\\\"url(#clip02)\\\" style=\\\"stroke:#00002d; stroke-width:1.6; stroke-opacity:0.1; fill:none\\\" points=\\\"\\n  1598.9,1503.25 1598.9,47.2441 \\n  \\\"\\/>\\n<polyline clip-path=\\\"url(#clip02)\\\" style=\\\"stroke:#00002d; stroke-width:1.6; stroke-opacity:0.1; fill:none\\\" points=\\\"\\n  1962.9,1503.25 1962.9,47.2441 \\n  \\\"\\/>\\n<polyline clip-path=\\\"url(#clip02)\\\" style=\\\"stroke:#00002d; stroke-width:1.6; stroke-opacity:0.1; fill:none\\\" points=\\\"\\n  506.891,1503.25 1962.9,1503.25 \\n  \\\"\\/>\\n<polyline clip-path=\\\"url(#clip02)\\\" style=\\\"stroke:#00002d; stroke-width:1.6; stroke-opacity:0.1; fill:none\\\" points=\\\"\\n  506.891,1139.25 1962.9,1139.25 \\n  \\\"\\/>\\n<polyline clip-path=\\\"url(#clip02)\\\" style=\\\"stroke:#00002d; stroke-width:1.6; stroke-opacity:0.1; fill:none\\\" points=\\\"\\n  506.891,775.249 1962.9,775.249 \\n  \\\"\\/>\\n<polyline clip-path=\\\"url(#clip02)\\\" style=\\\"stroke:#00002d; stroke-width:1.6; stroke-opacity:0.1; fill:none\\\" points=\\\"\\n  506.891,411.247 1962.9,411.247 \\n  \\\"\\/>\\n<polyline clip-path=\\\"url(#clip02)\\\" style=\\\"stroke:#00002d; stroke-width:1.6; stroke-opacity:0.1; fill:none\\\" points=\\\"\\n  506.891,47.2441 1962.9,47.2441 \\n  \\\"\\/>\\n<polyline clip-path=\\\"url(#clip00)\\\" style=\\\"stroke:#00002d; stroke-width:3.2; stroke-opacity:1; fill:none\\\" points=\\\"\\n  506.891,1503.25 1962.9,1503.25 \\n  \\\"\\/>\\n<polyline clip-path=\\\"url(#clip00)\\\" style=\\\"stroke:#00002d; stroke-width:3.2; stroke-opacity:1; fill:none\\\" points=\\\"\\n  506.891,1503.25 506.891,47.2441 \\n  \\\"\\/>\\n<polyline clip-path=\\\"url(#clip00)\\\" style=\\\"stroke:#00002d; stroke-width:3.2; stroke-opacity:1; fill:none\\\" points=\\\"\\n  506.891,1503.25 506.891,1481.41 \\n  \\\"\\/>\\n<polyline clip-path=\\\"url(#clip00)\\\" style=\\\"stroke:#00002d; stroke-width:3.2; stroke-opacity:1; fill:none\\\" points=\\\"\\n  870.894,1503.25 870.894,1481.41 \\n  \\\"\\/>\\n<polyline clip-path=\\\"url(#clip00)\\\" style=\\\"stroke:#00002d; stroke-width:3.2; stroke-opacity:1; fill:none\\\" points=\\\"\\n  1234.9,1503.25 1234.9,1481.41 \\n  \\\"\\/>\\n<polyline clip-path=\\\"url(#clip00)\\\" style=\\\"stroke:#00002d; stroke-width:3.2; stroke-opacity:1; fill:none\\\" points=\\\"\\n  1598.9,1503.25 1598.9,1481.41 \\n  \\\"\\/>\\n<polyline clip-path=\\\"url(#clip00)\\\" style=\\\"stroke:#00002d; stroke-width:3.2; stroke-opacity:1; fill:none\\\" points=\\\"\\n  1962.9,1503.25 1962.9,1481.41 \\n  \\\"\\/>\\n<polyline clip-path=\\\"url(#clip00)\\\" style=\\\"stroke:#00002d; stroke-width:3.2; stroke-opacity:1; fill:none\\\" points=\\\"\\n  506.891,1503.25 528.732,1503.25 \\n  \\\"\\/>\\n<polyline clip-path=\\\"url(#clip00)\\\" style=\\\"stroke:#00002d; stroke-width:3.2; stroke-opacity:1; fill:none\\\" points=\\\"\\n  506.891,1139.25 528.732,1139.25 \\n  \\\"\\/>\\n<polyline clip-path=\\\"url(#clip00)\\\" style=\\\"stroke:#00002d; stroke-width:3.2; stroke-opacity:1; fill:none\\\" points=\\\"\\n  506.891,775.249 528.732,775.249 \\n  \\\"\\/>\\n<polyline clip-path=\\\"url(#clip00)\\\" style=\\\"stroke:#00002d; stroke-width:3.2; stroke-opacity:1; fill:none\\\" points=\\\"\\n  506.891,411.247 528.732,411.247 \\n  \\\"\\/>\\n<polyline clip-path=\\\"url(#clip00)\\\" style=\\\"stroke:#00002d; stroke-width:3.2; stroke-opacity:1; fill:none\\\" points=\\\"\\n  506.891,47.2441 528.732,47.2441 \\n  \\\"\\/>\\n<g clip-path=\\\"url(#clip00)\\\">\\n<text style=\\\"fill:#00002d; fill-opacity:1; font-family:Arial,Helvetica Neue,Helvetica,sans-serif; font-size:48; text-anchor:middle;\\\" transform=\\\"rotate(0, 506.891, 1557.25)\\\" x=\\\"506.891\\\" y=\\\"1557.25\\\">-2<\\/text>\\n<\\/g>\\n<g clip-path=\\\"url(#clip00)\\\">\\n<text style=\\\"fill:#00002d; fill-opacity:1; font-family:Arial,Helvetica Neue,Helvetica,sans-serif; font-size:48; text-anchor:middle;\\\" transform=\\\"rotate(0, 870.894, 1557.25)\\\" x=\\\"870.894\\\" y=\\\"1557.25\\\">-1<\\/text>\\n<\\/g>\\n<g clip-path=\\\"url(#clip00)\\\">\\n<text style=\\\"fill:#00002d; fill-opacity:1; font-family:Arial,Helvetica Neue,Helvetica,sans-serif; font-size:48; text-anchor:middle;\\\" transform=\\\"rotate(0, 1234.9, 1557.25)\\\" x=\\\"1234.9\\\" y=\\\"1557.25\\\">0<\\/text>\\n<\\/g>\\n<g clip-path=\\\"url(#clip00)\\\">\\n<text style=\\\"fill:#00002d; fill-opacity:1; font-family:Arial,Helvetica Neue,Helvetica,sans-serif; font-size:48; text-anchor:middle;\\\" transform=\\\"rotate(0, 1598.9, 1557.25)\\\" x=\\\"1598.9\\\" y=\\\"1557.25\\\">1<\\/text>\\n<\\/g>\\n<g clip-path=\\\"url(#clip00)\\\">\\n<text style=\\\"fill:#00002d; fill-opacity:1; font-family:Arial,Helvetica Neue,Helvetica,sans-serif; font-size:48; text-anchor:middle;\\\" transform=\\\"rotate(0, 1962.9, 1557.25)\\\" x=\\\"1962.9\\\" y=\\\"1557.25\\\">2<\\/text>\\n<\\/g>\\n<g clip-path=\\\"url(#clip00)\\\">\\n<text style=\\\"fill:#00002d; fill-opacity:1; font-family:Arial,Helvetica Neue,Helvetica,sans-serif; font-size:48; text-anchor:end;\\\" transform=\\\"rotate(0, 482.891, 1520.75)\\\" x=\\\"482.891\\\" y=\\\"1520.75\\\">-2<\\/text>\\n<\\/g>\\n<g clip-path=\\\"url(#clip00)\\\">\\n<text style=\\\"fill:#00002d; fill-opacity:1; font-family:Arial,Helvetica Neue,Helvetica,sans-serif; font-size:48; text-anchor:end;\\\" transform=\\\"rotate(0, 482.891, 1156.75)\\\" x=\\\"482.891\\\" y=\\\"1156.75\\\">-1<\\/text>\\n<\\/g>\\n<g clip-path=\\\"url(#clip00)\\\">\\n<text style=\\\"fill:#00002d; fill-opacity:1; font-family:Arial,Helvetica Neue,Helvetica,sans-serif; font-size:48; text-anchor:end;\\\" transform=\\\"rotate(0, 482.891, 792.749)\\\" x=\\\"482.891\\\" y=\\\"792.749\\\">0<\\/text>\\n<\\/g>\\n<g clip-path=\\\"url(#clip00)\\\">\\n<text style=\\\"fill:#00002d; fill-opacity:1; font-family:Arial,Helvetica Neue,Helvetica,sans-serif; font-size:48; text-anchor:end;\\\" transform=\\\"rotate(0, 482.891, 428.747)\\\" x=\\\"482.891\\\" y=\\\"428.747\\\">1<\\/text>\\n<\\/g>\\n<g clip-path=\\\"url(#clip00)\\\">\\n<text style=\\\"fill:#00002d; fill-opacity:1; font-family:Arial,Helvetica Neue,Helvetica,sans-serif; font-size:48; text-anchor:end;\\\" transform=\\\"rotate(0, 482.891, 64.7441)\\\" x=\\\"482.891\\\" y=\\\"64.7441\\\">2<\\/text>\\n<\\/g>\\n<polyline clip-path=\\\"url(#clip02)\\\" style=\\\"stroke:#008100; stroke-width:6.4; stroke-opacity:1; fill:none\\\" points=\\\"\\n  1234.9,775.249 1598.87,779.832 \\n  \\\"\\/>\\n<polyline clip-path=\\\"url(#clip02)\\\" style=\\\"stroke:#008100; stroke-width:6.4; stroke-opacity:1; fill:none\\\" points=\\\"\\n  1563.1,761.38 1598.87,779.832 1562.65,797.377 \\n  \\\"\\/>\\n<polyline clip-path=\\\"url(#clip02)\\\" style=\\\"stroke:#008100; stroke-width:6.4; stroke-opacity:1; fill:none\\\" points=\\\"\\n  1598.87,779.832 1234.9,775.249 \\n  \\\"\\/>\\n<polyline clip-path=\\\"url(#clip02)\\\" style=\\\"stroke:#0000ff; stroke-width:9.6; stroke-opacity:1; fill:none\\\" points=\\\"\\n  1234.9,775.249 1234.9,775.249 \\n  \\\"\\/>\\n<polyline clip-path=\\\"url(#clip02)\\\" style=\\\"stroke:#0000ff; stroke-width:9.6; stroke-opacity:1; fill:none\\\" points=\\\"\\n  nan,nan nan,nan nan,nan \\n  \\\"\\/>\\n<polyline clip-path=\\\"url(#clip02)\\\" style=\\\"stroke:#0000ff; stroke-width:9.6; stroke-opacity:1; fill:none\\\" points=\\\"\\n  nan,nan nan,nan \\n  \\\"\\/>\\n<polyline clip-path=\\\"url(#clip02)\\\" style=\\\"stroke:#008100; stroke-width:3.2; stroke-opacity:1; fill:none\\\" stroke-dasharray=\\\"13, 8\\\" points=\\\"\\n  1598.9,775.249 1598.88,771.609 1598.83,767.969 1598.73,764.331 1598.61,760.693 1598.44,757.056 1598.24,753.422 1598.01,749.79 1597.73,746.16 1597.43,742.533 \\n  1597.08,738.909 1596.7,735.289 1596.28,731.673 1595.83,728.062 1595.34,724.455 1594.81,720.853 1594.25,717.257 1593.65,713.666 1593.02,710.082 1592.35,706.504 \\n  1591.64,702.933 1590.9,699.369 1590.13,695.813 1589.31,692.265 1588.47,688.725 1587.58,685.193 1586.66,681.671 1585.71,678.158 1584.72,674.655 1583.7,671.162 \\n  1582.64,667.679 1581.55,664.207 1580.42,660.746 1579.26,657.296 1578.06,653.859 1576.83,650.433 1575.56,647.02 1574.27,643.62 1572.93,640.233 1571.57,636.859 \\n  1570.16,633.5 1568.73,630.154 1567.26,626.823 1565.76,623.507 1564.23,620.206 1562.66,616.92 1561.06,613.651 1559.43,610.397 1557.76,607.16 1556.07,603.94 \\n  1554.34,600.737 1552.58,597.551 1550.78,594.383 1548.96,591.234 1547.1,588.102 1545.22,584.99 1543.3,581.896 1541.35,578.822 1539.37,575.767 1537.36,572.732 \\n  1535.32,569.718 1533.25,566.724 1531.15,563.751 1529.02,560.799 1526.86,557.868 1524.67,554.96 1522.46,552.073 1520.21,549.209 1517.93,546.367 1515.63,543.548 \\n  1513.3,540.752 1510.94,537.98 1508.56,535.231 1506.14,532.507 1503.7,529.807 1501.23,527.131 1498.74,524.48 1496.22,521.854 1493.67,519.254 1491.1,516.679 \\n  1488.5,514.13 1485.88,511.607 1483.23,509.11 1480.55,506.64 1477.85,504.197 1475.13,501.781 1472.39,499.392 1469.61,497.031 1466.82,494.698 1464,492.393 \\n  1461.16,490.116 1458.3,487.868 1455.42,485.648 1452.51,483.457 1449.58,481.296 1446.63,479.164 1443.66,477.061 1440.67,474.989 1437.65,472.946 1434.62,470.933 \\n  1431.57,468.951 1428.49,467 1425.4,465.08 1422.29,463.19 1419.16,461.332 1416.01,459.505 1412.85,457.709 1409.66,455.946 1406.46,454.214 1403.24,452.515 \\n  1400.01,450.847 1396.75,449.212 1393.49,447.61 1390.2,446.041 1386.9,444.504 1383.59,443.001 1380.26,441.53 1376.91,440.093 1373.55,438.69 1370.18,437.32 \\n  1366.8,435.984 1363.4,434.682 1359.98,433.415 1356.56,432.181 1353.12,430.981 1349.67,429.816 1346.21,428.686 1342.74,427.59 1339.26,426.529 1335.77,425.503 \\n  1332.27,424.511 1328.75,423.555 1325.23,422.634 1321.7,421.749 1318.16,420.898 1314.62,420.083 1311.06,419.304 1307.5,418.56 1303.93,417.852 1300.35,417.179 \\n  1296.76,416.543 1293.17,415.942 1289.58,415.377 1285.98,414.848 1282.37,414.356 1278.76,413.899 1275.14,413.478 1271.52,413.094 1267.9,412.746 1264.27,412.434 \\n  1260.64,412.158 1257.01,411.919 1253.38,411.716 1249.74,411.549 1246.1,411.419 1242.47,411.325 1238.83,411.268 1235.19,411.247 1231.55,411.262 1227.91,411.314 \\n  1224.27,411.402 1220.63,411.526 1216.99,411.687 1213.36,411.884 1209.73,412.118 1206.1,412.388 1202.47,412.694 1198.85,413.036 1195.22,413.415 1191.61,413.83 \\n  1188,414.281 1184.39,414.768 1180.79,415.291 1177.19,415.85 1173.6,416.445 1170.01,417.076 1166.44,417.742 1162.86,418.445 1159.3,419.183 1155.74,419.957 \\n  1152.19,420.766 1148.65,421.611 1145.12,422.491 1141.6,423.406 1138.08,424.357 1134.58,425.342 1131.09,426.363 1127.6,427.419 1124.13,428.509 1120.67,429.634 \\n  1117.22,430.793 1113.78,431.987 1110.35,433.216 1106.94,434.478 1103.54,435.775 1100.15,437.105 1096.77,438.47 1093.41,439.868 1090.07,441.299 1086.74,442.764 \\n  1083.42,444.262 1080.12,445.794 1076.83,447.358 1073.56,448.955 1070.3,450.585 1067.06,452.247 1063.84,453.941 1060.64,455.668 1057.45,457.426 1054.28,459.217 \\n  1051.13,461.039 1048,462.892 1044.88,464.777 1041.79,466.692 1038.71,468.639 1035.66,470.616 1032.62,472.623 1029.6,474.661 1026.61,476.729 1023.63,478.827 \\n  1020.68,480.954 1017.75,483.111 1014.84,485.297 1011.95,487.512 1009.08,489.756 1006.24,492.028 1003.42,494.329 1000.62,496.658 997.847,499.015 995.097,501.399 \\n  992.37,503.81 989.668,506.249 986.99,508.715 984.337,511.207 981.709,513.726 979.107,516.271 976.53,518.842 973.979,521.438 971.454,524.06 968.955,526.707 \\n  966.483,529.379 964.038,532.075 961.62,534.796 959.229,537.541 956.866,540.309 954.53,543.101 952.223,545.916 949.944,548.754 947.693,551.615 945.471,554.498 \\n  943.278,557.404 941.114,560.331 938.98,563.279 936.875,566.249 934.8,569.24 932.755,572.251 930.74,575.282 928.755,578.334 926.802,581.405 924.879,584.496 \\n  922.987,587.605 921.126,590.734 919.296,593.881 917.499,597.046 915.732,600.228 913.998,603.429 912.296,606.646 910.626,609.881 908.989,613.131 907.384,616.399 \\n  905.812,619.682 904.273,622.98 902.766,626.294 901.294,629.623 899.854,632.966 898.448,636.323 897.076,639.695 895.737,643.08 894.432,646.478 893.162,649.889 \\n  891.925,653.312 890.723,656.748 889.555,660.196 888.422,663.655 887.323,667.125 886.259,670.606 885.23,674.098 884.236,677.599 883.277,681.111 882.354,684.632 \\n  881.465,688.162 880.612,691.7 879.794,695.247 879.012,698.802 878.265,702.365 877.554,705.935 876.879,709.511 876.24,713.095 875.636,716.684 875.068,720.28 \\n  874.537,723.881 874.041,727.487 873.581,731.098 873.158,734.713 872.771,738.333 872.42,741.956 872.105,745.582 871.826,749.211 871.584,752.843 871.378,756.477 \\n  871.209,760.113 871.075,763.751 870.979,767.39 870.918,771.029 870.894,774.669 870.907,778.309 870.955,781.949 871.041,785.588 871.162,789.226 871.32,792.862 \\n  871.515,796.497 871.745,800.13 872.012,803.76 872.315,807.388 872.655,811.012 873.031,814.632 873.443,818.249 873.891,821.861 874.375,825.469 874.895,829.072 \\n  875.451,832.669 876.043,836.26 876.671,839.846 877.335,843.425 878.035,846.997 878.77,850.562 879.541,854.119 880.348,857.669 881.19,861.21 882.067,864.743 \\n  882.979,868.267 883.927,871.781 884.91,875.286 885.928,878.781 886.981,882.265 888.068,885.739 889.19,889.201 890.347,892.653 891.538,896.092 892.764,899.52 \\n  894.024,902.935 895.318,906.337 896.645,909.726 898.007,913.102 899.402,916.464 900.831,919.812 902.294,923.145 903.789,926.464 905.318,929.767 906.88,933.055 \\n  908.474,936.327 910.101,939.584 911.761,942.823 913.453,946.046 915.177,949.252 916.933,952.44 918.72,955.611 920.54,958.764 922.391,961.898 924.273,965.014 \\n  926.186,968.111 928.13,971.188 930.104,974.246 932.11,977.284 934.145,980.301 936.211,983.299 938.306,986.275 940.431,989.23 942.586,992.164 944.769,995.076 \\n  946.982,997.967 949.224,1000.83 951.494,1003.68 953.792,1006.5 956.119,1009.3 958.473,1012.08 960.855,1014.83 963.265,1017.56 965.701,1020.26 968.165,1022.94 \\n  970.655,1025.6 973.172,1028.23 975.715,1030.83 978.283,1033.41 980.878,1035.96 983.498,1038.49 986.143,1040.99 988.812,1043.47 991.507,1045.91 994.226,1048.33 \\n  996.968,1050.73 999.735,1053.09 1002.53,1055.43 1005.34,1057.74 1008.17,1060.02 1011.03,1062.27 1013.92,1064.5 1016.82,1066.69 1019.74,1068.86 1022.69,1071 \\n  1025.66,1073.1 1028.65,1075.18 1031.66,1077.23 1034.69,1079.25 1037.74,1081.23 1040.81,1083.19 1043.9,1085.11 1047,1087.01 1050.13,1088.87 1053.28,1090.7 \\n  1056.44,1092.5 1059.62,1094.27 1062.82,1096.01 1066.04,1097.71 1069.27,1099.39 1072.52,1101.03 1075.79,1102.63 1079.07,1104.21 1082.36,1105.75 1085.68,1107.26 \\n  1089,1108.74 1092.35,1110.18 1095.7,1111.59 1099.07,1112.96 1102.46,1114.3 1105.85,1115.61 1109.26,1116.88 1112.69,1118.12 1116.12,1119.33 1119.57,1120.5 \\n  1123.03,1121.63 1126.5,1122.74 1129.98,1123.8 1133.47,1124.83 1136.97,1125.83 1140.48,1126.79 1144,1127.72 1147.53,1128.61 1151.07,1129.47 1154.61,1130.29 \\n  1158.17,1131.07 1161.73,1131.82 1165.3,1132.54 1168.87,1133.21 1172.46,1133.86 1176.05,1134.46 1179.64,1135.03 1183.24,1135.57 1186.85,1136.07 1190.46,1136.53 \\n  1194.07,1136.95 1197.69,1137.35 1201.31,1137.7 1204.94,1138.02 1208.57,1138.3 1212.2,1138.54 1215.84,1138.75 1219.47,1138.92 1223.11,1139.06 1226.75,1139.16 \\n  1230.39,1139.22 1234.03,1139.25 1237.67,1139.24 1241.31,1139.19 1244.95,1139.11 1248.58,1138.99 1252.22,1138.84 1255.86,1138.65 1259.49,1138.42 1263.12,1138.16 \\n  1266.75,1137.86 1270.37,1137.52 1273.99,1137.15 1277.61,1136.74 1281.22,1136.29 1284.83,1135.81 1288.43,1135.29 1292.03,1134.74 1295.62,1134.15 1299.21,1133.53 \\n  1302.79,1132.86 1306.36,1132.17 1309.93,1131.43 1313.48,1130.67 1317.03,1129.86 1320.58,1129.02 1324.11,1128.15 1327.63,1127.24 1331.15,1126.29 1334.65,1125.31 \\n  1338.15,1124.3 1341.64,1123.25 1345.11,1122.16 1348.57,1121.05 1352.03,1119.89 1355.47,1118.7 1358.89,1117.48 1362.31,1116.22 1365.71,1114.93 1369.1,1113.61 \\n  1372.48,1112.25 1375.84,1110.86 1379.19,1109.43 1382.53,1107.97 1385.85,1106.48 1389.15,1104.95 1392.44,1103.39 1395.71,1101.8 1398.97,1100.17 1402.21,1098.52 \\n  1405.44,1096.83 1408.64,1095.11 1411.83,1093.35 1415.01,1091.57 1418.16,1089.75 1421.3,1087.9 1424.41,1086.02 1427.51,1084.11 1430.59,1082.17 1433.65,1080.2 \\n  1436.69,1078.2 1439.71,1076.16 1442.71,1074.1 1445.69,1072.01 1448.64,1069.88 1451.58,1067.73 1454.49,1065.55 1457.38,1063.34 1460.25,1061.1 1463.1,1058.83 \\n  1465.93,1056.54 1468.73,1054.21 1471.51,1051.86 1474.26,1049.48 1476.99,1047.07 1479.7,1044.64 1482.38,1042.18 1485.03,1039.69 1487.67,1037.17 1490.27,1034.63 \\n  1492.85,1032.07 1495.41,1029.47 1497.94,1026.86 1500.44,1024.21 1502.92,1021.55 1505.37,1018.85 1507.79,1016.14 1510.18,1013.4 1512.55,1010.63 1514.89,1007.84 \\n  1517.2,1005.03 1519.49,1002.2 1521.74,999.34 1523.97,996.46 1526.17,993.558 1528.34,990.635 1530.47,987.69 1532.58,984.723 1534.66,981.736 1536.71,978.728 \\n  1538.73,975.7 1540.72,972.651 1542.68,969.583 1544.61,966.496 1546.51,963.389 1548.37,960.264 1550.21,957.12 1552.01,953.958 1553.78,950.778 1555.52,947.58 \\n  1557.23,944.365 1558.9,941.134 1560.55,937.885 1562.16,934.621 1563.73,931.34 1565.28,928.044 1566.79,924.733 1568.27,921.406 1569.71,918.065 1571.12,914.71 \\n  1572.5,911.341 1573.84,907.958 1575.15,904.562 1576.43,901.153 1577.67,897.732 1578.88,894.298 1580.05,890.852 1581.19,887.395 1582.3,883.926 1583.37,880.447 \\n  1584.4,876.957 1585.4,873.457 1586.36,869.947 1587.29,866.428 1588.19,862.899 1589.05,859.362 1589.87,855.816 1590.66,852.262 1591.41,848.701 1592.13,845.132 \\n  1592.81,841.557 1593.45,837.974 1594.06,834.386 1594.64,830.791 1595.17,827.191 1595.68,823.586 1596.14,819.975 1596.57,816.361 1596.96,812.742 1597.32,809.12 \\n  1597.64,805.494 1597.92,801.865 1598.17,798.233 1598.38,794.599 1598.56,790.964 1598.7,787.326 1598.8,783.688 1598.87,780.048 1598.9,776.408 \\n  \\\"\\/>\\n<polyline clip-path=\\\"url(#clip02)\\\" style=\\\"stroke:#0000ff; stroke-width:3.2; stroke-opacity:1; fill:none\\\" stroke-dasharray=\\\"13, 8\\\" points=\\\"\\n  1234.9,775.249 1234.9,775.249 \\n  \\n  \\n  \\n  \\n  \\n  \\n  \\n  \\n  \\n  \\n  \\n  \\n  \\n  \\n  \\n  \\n  \\n  \\n  \\n  \\n  \\n  \\n  \\n  \\n  \\n  \\n  \\n  \\n  \\n  \\n  \\n  \\n  \\n  \\n  \\n  \\n  \\n  \\n  \\n  \\n  \\n  \\n  \\n  \\n  \\n  \\n  \\n  \\n  \\n  \\n  \\n  \\n  \\n  \\n  \\n  \\n  \\n  \\n  \\n  \\n  \\n  \\n  \\\"\\/>\\n<polyline clip-path=\\\"url(#clip02)\\\" style=\\\"stroke:#ff00ff; stroke-width:12.8; stroke-opacity:1; fill:none\\\" points=\\\"\\n  1234.9,775.249 1234.9,775.249 \\n  \\\"\\/>\\n<polyline clip-path=\\\"url(#clip02)\\\" style=\\\"stroke:#ff00ff; stroke-width:12.8; stroke-opacity:1; fill:none\\\" points=\\\"\\n  1234.9,775.249 1598.87,779.832 \\n  \\\"\\/>\\n<circle clip-path=\\\"url(#clip02)\\\" style=\\\"fill:#00002d; stroke:none; fill-opacity:1\\\" cx=\\\"1234.9\\\" cy=\\\"775.249\\\" r=\\\"14\\\"\\/>\\n<circle clip-path=\\\"url(#clip02)\\\" style=\\\"fill:#ff5d5d; stroke:none; fill-opacity:1\\\" cx=\\\"1234.9\\\" cy=\\\"775.249\\\" r=\\\"11\\\"\\/>\\n<\\/svg>\\n\"}}},\"children\":[{\"props\":{\"className\":\"webio-observable\",\"setInnerHtml\":\"<?xml version=\\\"1.0\\\" encoding=\\\"utf-8\\\"?>\\n<svg xmlns=\\\"http:\\/\\/www.w3.org\\/2000\\/svg\\\" xmlns:xlink=\\\"http:\\/\\/www.w3.org\\/1999\\/xlink\\\" width=\\\"2400\\\" height=\\\"1600\\\" viewBox=\\\"0 0 2400 1600\\\">\\n<defs>\\n  <clipPath id=\\\"clip00\\\">\\n    <rect x=\\\"0\\\" y=\\\"0\\\" width=\\\"2400\\\" height=\\\"1600\\\"\\/>\\n  <\\/clipPath>\\n<\\/defs>\\n<polygon clip-path=\\\"url(#clip00)\\\" points=\\\"\\n0,1600 2400,1600 2400,0 0,0 \\n  \\\" fill=\\\"#ffffff\\\" fill-opacity=\\\"1\\\"\\/>\\n<defs>\\n  <clipPath id=\\\"clip01\\\">\\n    <rect x=\\\"480\\\" y=\\\"0\\\" width=\\\"1681\\\" height=\\\"1600\\\"\\/>\\n  <\\/clipPath>\\n<\\/defs>\\n<polygon clip-path=\\\"url(#clip00)\\\" points=\\\"\\n506.891,1503.25 1962.9,1503.25 1962.9,47.2441 506.891,47.2441 \\n  \\\" fill=\\\"#ffffff\\\" fill-opacity=\\\"1\\\"\\/>\\n<defs>\\n  <clipPath id=\\\"clip02\\\">\\n    <rect x=\\\"506\\\" y=\\\"47\\\" width=\\\"1457\\\" height=\\\"1457\\\"\\/>\\n  <\\/clipPath>\\n<\\/defs>\\n<polyline clip-path=\\\"url(#clip02)\\\" style=\\\"stroke:#00002d; stroke-width:1.6; stroke-opacity:0.1; fill:none\\\" points=\\\"\\n  506.891,1503.25 506.891,47.2441 \\n  \\\"\\/>\\n<polyline clip-path=\\\"url(#clip02)\\\" style=\\\"stroke:#00002d; stroke-width:1.6; stroke-opacity:0.1; fill:none\\\" points=\\\"\\n  870.894,1503.25 870.894,47.2441 \\n  \\\"\\/>\\n<polyline clip-path=\\\"url(#clip02)\\\" style=\\\"stroke:#00002d; stroke-width:1.6; stroke-opacity:0.1; fill:none\\\" points=\\\"\\n  1234.9,1503.25 1234.9,47.2441 \\n  \\\"\\/>\\n<polyline clip-path=\\\"url(#clip02)\\\" style=\\\"stroke:#00002d; stroke-width:1.6; stroke-opacity:0.1; fill:none\\\" points=\\\"\\n  1598.9,1503.25 1598.9,47.2441 \\n  \\\"\\/>\\n<polyline clip-path=\\\"url(#clip02)\\\" style=\\\"stroke:#00002d; stroke-width:1.6; stroke-opacity:0.1; fill:none\\\" points=\\\"\\n  1962.9,1503.25 1962.9,47.2441 \\n  \\\"\\/>\\n<polyline clip-path=\\\"url(#clip02)\\\" style=\\\"stroke:#00002d; stroke-width:1.6; stroke-opacity:0.1; fill:none\\\" points=\\\"\\n  506.891,1503.25 1962.9,1503.25 \\n  \\\"\\/>\\n<polyline clip-path=\\\"url(#clip02)\\\" style=\\\"stroke:#00002d; stroke-width:1.6; stroke-opacity:0.1; fill:none\\\" points=\\\"\\n  506.891,1139.25 1962.9,1139.25 \\n  \\\"\\/>\\n<polyline clip-path=\\\"url(#clip02)\\\" style=\\\"stroke:#00002d; stroke-width:1.6; stroke-opacity:0.1; fill:none\\\" points=\\\"\\n  506.891,775.249 1962.9,775.249 \\n  \\\"\\/>\\n<polyline clip-path=\\\"url(#clip02)\\\" style=\\\"stroke:#00002d; stroke-width:1.6; stroke-opacity:0.1; fill:none\\\" points=\\\"\\n  506.891,411.247 1962.9,411.247 \\n  \\\"\\/>\\n<polyline clip-path=\\\"url(#clip02)\\\" style=\\\"stroke:#00002d; stroke-width:1.6; stroke-opacity:0.1; fill:none\\\" points=\\\"\\n  506.891,47.2441 1962.9,47.2441 \\n  \\\"\\/>\\n<polyline clip-path=\\\"url(#clip00)\\\" style=\\\"stroke:#00002d; stroke-width:3.2; stroke-opacity:1; fill:none\\\" points=\\\"\\n  506.891,1503.25 1962.9,1503.25 \\n  \\\"\\/>\\n<polyline clip-path=\\\"url(#clip00)\\\" style=\\\"stroke:#00002d; stroke-width:3.2; stroke-opacity:1; fill:none\\\" points=\\\"\\n  506.891,1503.25 506.891,47.2441 \\n  \\\"\\/>\\n<polyline clip-path=\\\"url(#clip00)\\\" style=\\\"stroke:#00002d; stroke-width:3.2; stroke-opacity:1; fill:none\\\" points=\\\"\\n  506.891,1503.25 506.891,1481.41 \\n  \\\"\\/>\\n<polyline clip-path=\\\"url(#clip00)\\\" style=\\\"stroke:#00002d; stroke-width:3.2; stroke-opacity:1; fill:none\\\" points=\\\"\\n  870.894,1503.25 870.894,1481.41 \\n  \\\"\\/>\\n<polyline clip-path=\\\"url(#clip00)\\\" style=\\\"stroke:#00002d; stroke-width:3.2; stroke-opacity:1; fill:none\\\" points=\\\"\\n  1234.9,1503.25 1234.9,1481.41 \\n  \\\"\\/>\\n<polyline clip-path=\\\"url(#clip00)\\\" style=\\\"stroke:#00002d; stroke-width:3.2; stroke-opacity:1; fill:none\\\" points=\\\"\\n  1598.9,1503.25 1598.9,1481.41 \\n  \\\"\\/>\\n<polyline clip-path=\\\"url(#clip00)\\\" style=\\\"stroke:#00002d; stroke-width:3.2; stroke-opacity:1; fill:none\\\" points=\\\"\\n  1962.9,1503.25 1962.9,1481.41 \\n  \\\"\\/>\\n<polyline clip-path=\\\"url(#clip00)\\\" style=\\\"stroke:#00002d; stroke-width:3.2; stroke-opacity:1; fill:none\\\" points=\\\"\\n  506.891,1503.25 528.732,1503.25 \\n  \\\"\\/>\\n<polyline clip-path=\\\"url(#clip00)\\\" style=\\\"stroke:#00002d; stroke-width:3.2; stroke-opacity:1; fill:none\\\" points=\\\"\\n  506.891,1139.25 528.732,1139.25 \\n  \\\"\\/>\\n<polyline clip-path=\\\"url(#clip00)\\\" style=\\\"stroke:#00002d; stroke-width:3.2; stroke-opacity:1; fill:none\\\" points=\\\"\\n  506.891,775.249 528.732,775.249 \\n  \\\"\\/>\\n<polyline clip-path=\\\"url(#clip00)\\\" style=\\\"stroke:#00002d; stroke-width:3.2; stroke-opacity:1; fill:none\\\" points=\\\"\\n  506.891,411.247 528.732,411.247 \\n  \\\"\\/>\\n<polyline clip-path=\\\"url(#clip00)\\\" style=\\\"stroke:#00002d; stroke-width:3.2; stroke-opacity:1; fill:none\\\" points=\\\"\\n  506.891,47.2441 528.732,47.2441 \\n  \\\"\\/>\\n<g clip-path=\\\"url(#clip00)\\\">\\n<text style=\\\"fill:#00002d; fill-opacity:1; font-family:Arial,Helvetica Neue,Helvetica,sans-serif; font-size:48; text-anchor:middle;\\\" transform=\\\"rotate(0, 506.891, 1557.25)\\\" x=\\\"506.891\\\" y=\\\"1557.25\\\">-2<\\/text>\\n<\\/g>\\n<g clip-path=\\\"url(#clip00)\\\">\\n<text style=\\\"fill:#00002d; fill-opacity:1; font-family:Arial,Helvetica Neue,Helvetica,sans-serif; font-size:48; text-anchor:middle;\\\" transform=\\\"rotate(0, 870.894, 1557.25)\\\" x=\\\"870.894\\\" y=\\\"1557.25\\\">-1<\\/text>\\n<\\/g>\\n<g clip-path=\\\"url(#clip00)\\\">\\n<text style=\\\"fill:#00002d; fill-opacity:1; font-family:Arial,Helvetica Neue,Helvetica,sans-serif; font-size:48; text-anchor:middle;\\\" transform=\\\"rotate(0, 1234.9, 1557.25)\\\" x=\\\"1234.9\\\" y=\\\"1557.25\\\">0<\\/text>\\n<\\/g>\\n<g clip-path=\\\"url(#clip00)\\\">\\n<text style=\\\"fill:#00002d; fill-opacity:1; font-family:Arial,Helvetica Neue,Helvetica,sans-serif; font-size:48; text-anchor:middle;\\\" transform=\\\"rotate(0, 1598.9, 1557.25)\\\" x=\\\"1598.9\\\" y=\\\"1557.25\\\">1<\\/text>\\n<\\/g>\\n<g clip-path=\\\"url(#clip00)\\\">\\n<text style=\\\"fill:#00002d; fill-opacity:1; font-family:Arial,Helvetica Neue,Helvetica,sans-serif; font-size:48; text-anchor:middle;\\\" transform=\\\"rotate(0, 1962.9, 1557.25)\\\" x=\\\"1962.9\\\" y=\\\"1557.25\\\">2<\\/text>\\n<\\/g>\\n<g clip-path=\\\"url(#clip00)\\\">\\n<text style=\\\"fill:#00002d; fill-opacity:1; font-family:Arial,Helvetica Neue,Helvetica,sans-serif; font-size:48; text-anchor:end;\\\" transform=\\\"rotate(0, 482.891, 1520.75)\\\" x=\\\"482.891\\\" y=\\\"1520.75\\\">-2<\\/text>\\n<\\/g>\\n<g clip-path=\\\"url(#clip00)\\\">\\n<text style=\\\"fill:#00002d; fill-opacity:1; font-family:Arial,Helvetica Neue,Helvetica,sans-serif; font-size:48; text-anchor:end;\\\" transform=\\\"rotate(0, 482.891, 1156.75)\\\" x=\\\"482.891\\\" y=\\\"1156.75\\\">-1<\\/text>\\n<\\/g>\\n<g clip-path=\\\"url(#clip00)\\\">\\n<text style=\\\"fill:#00002d; fill-opacity:1; font-family:Arial,Helvetica Neue,Helvetica,sans-serif; font-size:48; text-anchor:end;\\\" transform=\\\"rotate(0, 482.891, 792.749)\\\" x=\\\"482.891\\\" y=\\\"792.749\\\">0<\\/text>\\n<\\/g>\\n<g clip-path=\\\"url(#clip00)\\\">\\n<text style=\\\"fill:#00002d; fill-opacity:1; font-family:Arial,Helvetica Neue,Helvetica,sans-serif; font-size:48; text-anchor:end;\\\" transform=\\\"rotate(0, 482.891, 428.747)\\\" x=\\\"482.891\\\" y=\\\"428.747\\\">1<\\/text>\\n<\\/g>\\n<g clip-path=\\\"url(#clip00)\\\">\\n<text style=\\\"fill:#00002d; fill-opacity:1; font-family:Arial,Helvetica Neue,Helvetica,sans-serif; font-size:48; text-anchor:end;\\\" transform=\\\"rotate(0, 482.891, 64.7441)\\\" x=\\\"482.891\\\" y=\\\"64.7441\\\">2<\\/text>\\n<\\/g>\\n<polyline clip-path=\\\"url(#clip02)\\\" style=\\\"stroke:#008100; stroke-width:6.4; stroke-opacity:1; fill:none\\\" points=\\\"\\n  1234.9,775.249 1598.87,779.832 \\n  \\\"\\/>\\n<polyline clip-path=\\\"url(#clip02)\\\" style=\\\"stroke:#008100; stroke-width:6.4; stroke-opacity:1; fill:none\\\" points=\\\"\\n  1563.1,761.38 1598.87,779.832 1562.65,797.377 \\n  \\\"\\/>\\n<polyline clip-path=\\\"url(#clip02)\\\" style=\\\"stroke:#008100; stroke-width:6.4; stroke-opacity:1; fill:none\\\" points=\\\"\\n  1598.87,779.832 1234.9,775.249 \\n  \\\"\\/>\\n<polyline clip-path=\\\"url(#clip02)\\\" style=\\\"stroke:#0000ff; stroke-width:9.6; stroke-opacity:1; fill:none\\\" points=\\\"\\n  1234.9,775.249 1234.9,775.249 \\n  \\\"\\/>\\n<polyline clip-path=\\\"url(#clip02)\\\" style=\\\"stroke:#0000ff; stroke-width:9.6; stroke-opacity:1; fill:none\\\" points=\\\"\\n  nan,nan nan,nan nan,nan \\n  \\\"\\/>\\n<polyline clip-path=\\\"url(#clip02)\\\" style=\\\"stroke:#0000ff; stroke-width:9.6; stroke-opacity:1; fill:none\\\" points=\\\"\\n  nan,nan nan,nan \\n  \\\"\\/>\\n<polyline clip-path=\\\"url(#clip02)\\\" style=\\\"stroke:#008100; stroke-width:3.2; stroke-opacity:1; fill:none\\\" stroke-dasharray=\\\"13, 8\\\" points=\\\"\\n  1598.9,775.249 1598.88,771.609 1598.83,767.969 1598.73,764.331 1598.61,760.693 1598.44,757.056 1598.24,753.422 1598.01,749.79 1597.73,746.16 1597.43,742.533 \\n  1597.08,738.909 1596.7,735.289 1596.28,731.673 1595.83,728.062 1595.34,724.455 1594.81,720.853 1594.25,717.257 1593.65,713.666 1593.02,710.082 1592.35,706.504 \\n  1591.64,702.933 1590.9,699.369 1590.13,695.813 1589.31,692.265 1588.47,688.725 1587.58,685.193 1586.66,681.671 1585.71,678.158 1584.72,674.655 1583.7,671.162 \\n  1582.64,667.679 1581.55,664.207 1580.42,660.746 1579.26,657.296 1578.06,653.859 1576.83,650.433 1575.56,647.02 1574.27,643.62 1572.93,640.233 1571.57,636.859 \\n  1570.16,633.5 1568.73,630.154 1567.26,626.823 1565.76,623.507 1564.23,620.206 1562.66,616.92 1561.06,613.651 1559.43,610.397 1557.76,607.16 1556.07,603.94 \\n  1554.34,600.737 1552.58,597.551 1550.78,594.383 1548.96,591.234 1547.1,588.102 1545.22,584.99 1543.3,581.896 1541.35,578.822 1539.37,575.767 1537.36,572.732 \\n  1535.32,569.718 1533.25,566.724 1531.15,563.751 1529.02,560.799 1526.86,557.868 1524.67,554.96 1522.46,552.073 1520.21,549.209 1517.93,546.367 1515.63,543.548 \\n  1513.3,540.752 1510.94,537.98 1508.56,535.231 1506.14,532.507 1503.7,529.807 1501.23,527.131 1498.74,524.48 1496.22,521.854 1493.67,519.254 1491.1,516.679 \\n  1488.5,514.13 1485.88,511.607 1483.23,509.11 1480.55,506.64 1477.85,504.197 1475.13,501.781 1472.39,499.392 1469.61,497.031 1466.82,494.698 1464,492.393 \\n  1461.16,490.116 1458.3,487.868 1455.42,485.648 1452.51,483.457 1449.58,481.296 1446.63,479.164 1443.66,477.061 1440.67,474.989 1437.65,472.946 1434.62,470.933 \\n  1431.57,468.951 1428.49,467 1425.4,465.08 1422.29,463.19 1419.16,461.332 1416.01,459.505 1412.85,457.709 1409.66,455.946 1406.46,454.214 1403.24,452.515 \\n  1400.01,450.847 1396.75,449.212 1393.49,447.61 1390.2,446.041 1386.9,444.504 1383.59,443.001 1380.26,441.53 1376.91,440.093 1373.55,438.69 1370.18,437.32 \\n  1366.8,435.984 1363.4,434.682 1359.98,433.415 1356.56,432.181 1353.12,430.981 1349.67,429.816 1346.21,428.686 1342.74,427.59 1339.26,426.529 1335.77,425.503 \\n  1332.27,424.511 1328.75,423.555 1325.23,422.634 1321.7,421.749 1318.16,420.898 1314.62,420.083 1311.06,419.304 1307.5,418.56 1303.93,417.852 1300.35,417.179 \\n  1296.76,416.543 1293.17,415.942 1289.58,415.377 1285.98,414.848 1282.37,414.356 1278.76,413.899 1275.14,413.478 1271.52,413.094 1267.9,412.746 1264.27,412.434 \\n  1260.64,412.158 1257.01,411.919 1253.38,411.716 1249.74,411.549 1246.1,411.419 1242.47,411.325 1238.83,411.268 1235.19,411.247 1231.55,411.262 1227.91,411.314 \\n  1224.27,411.402 1220.63,411.526 1216.99,411.687 1213.36,411.884 1209.73,412.118 1206.1,412.388 1202.47,412.694 1198.85,413.036 1195.22,413.415 1191.61,413.83 \\n  1188,414.281 1184.39,414.768 1180.79,415.291 1177.19,415.85 1173.6,416.445 1170.01,417.076 1166.44,417.742 1162.86,418.445 1159.3,419.183 1155.74,419.957 \\n  1152.19,420.766 1148.65,421.611 1145.12,422.491 1141.6,423.406 1138.08,424.357 1134.58,425.342 1131.09,426.363 1127.6,427.419 1124.13,428.509 1120.67,429.634 \\n  1117.22,430.793 1113.78,431.987 1110.35,433.216 1106.94,434.478 1103.54,435.775 1100.15,437.105 1096.77,438.47 1093.41,439.868 1090.07,441.299 1086.74,442.764 \\n  1083.42,444.262 1080.12,445.794 1076.83,447.358 1073.56,448.955 1070.3,450.585 1067.06,452.247 1063.84,453.941 1060.64,455.668 1057.45,457.426 1054.28,459.217 \\n  1051.13,461.039 1048,462.892 1044.88,464.777 1041.79,466.692 1038.71,468.639 1035.66,470.616 1032.62,472.623 1029.6,474.661 1026.61,476.729 1023.63,478.827 \\n  1020.68,480.954 1017.75,483.111 1014.84,485.297 1011.95,487.512 1009.08,489.756 1006.24,492.028 1003.42,494.329 1000.62,496.658 997.847,499.015 995.097,501.399 \\n  992.37,503.81 989.668,506.249 986.99,508.715 984.337,511.207 981.709,513.726 979.107,516.271 976.53,518.842 973.979,521.438 971.454,524.06 968.955,526.707 \\n  966.483,529.379 964.038,532.075 961.62,534.796 959.229,537.541 956.866,540.309 954.53,543.101 952.223,545.916 949.944,548.754 947.693,551.615 945.471,554.498 \\n  943.278,557.404 941.114,560.331 938.98,563.279 936.875,566.249 934.8,569.24 932.755,572.251 930.74,575.282 928.755,578.334 926.802,581.405 924.879,584.496 \\n  922.987,587.605 921.126,590.734 919.296,593.881 917.499,597.046 915.732,600.228 913.998,603.429 912.296,606.646 910.626,609.881 908.989,613.131 907.384,616.399 \\n  905.812,619.682 904.273,622.98 902.766,626.294 901.294,629.623 899.854,632.966 898.448,636.323 897.076,639.695 895.737,643.08 894.432,646.478 893.162,649.889 \\n  891.925,653.312 890.723,656.748 889.555,660.196 888.422,663.655 887.323,667.125 886.259,670.606 885.23,674.098 884.236,677.599 883.277,681.111 882.354,684.632 \\n  881.465,688.162 880.612,691.7 879.794,695.247 879.012,698.802 878.265,702.365 877.554,705.935 876.879,709.511 876.24,713.095 875.636,716.684 875.068,720.28 \\n  874.537,723.881 874.041,727.487 873.581,731.098 873.158,734.713 872.771,738.333 872.42,741.956 872.105,745.582 871.826,749.211 871.584,752.843 871.378,756.477 \\n  871.209,760.113 871.075,763.751 870.979,767.39 870.918,771.029 870.894,774.669 870.907,778.309 870.955,781.949 871.041,785.588 871.162,789.226 871.32,792.862 \\n  871.515,796.497 871.745,800.13 872.012,803.76 872.315,807.388 872.655,811.012 873.031,814.632 873.443,818.249 873.891,821.861 874.375,825.469 874.895,829.072 \\n  875.451,832.669 876.043,836.26 876.671,839.846 877.335,843.425 878.035,846.997 878.77,850.562 879.541,854.119 880.348,857.669 881.19,861.21 882.067,864.743 \\n  882.979,868.267 883.927,871.781 884.91,875.286 885.928,878.781 886.981,882.265 888.068,885.739 889.19,889.201 890.347,892.653 891.538,896.092 892.764,899.52 \\n  894.024,902.935 895.318,906.337 896.645,909.726 898.007,913.102 899.402,916.464 900.831,919.812 902.294,923.145 903.789,926.464 905.318,929.767 906.88,933.055 \\n  908.474,936.327 910.101,939.584 911.761,942.823 913.453,946.046 915.177,949.252 916.933,952.44 918.72,955.611 920.54,958.764 922.391,961.898 924.273,965.014 \\n  926.186,968.111 928.13,971.188 930.104,974.246 932.11,977.284 934.145,980.301 936.211,983.299 938.306,986.275 940.431,989.23 942.586,992.164 944.769,995.076 \\n  946.982,997.967 949.224,1000.83 951.494,1003.68 953.792,1006.5 956.119,1009.3 958.473,1012.08 960.855,1014.83 963.265,1017.56 965.701,1020.26 968.165,1022.94 \\n  970.655,1025.6 973.172,1028.23 975.715,1030.83 978.283,1033.41 980.878,1035.96 983.498,1038.49 986.143,1040.99 988.812,1043.47 991.507,1045.91 994.226,1048.33 \\n  996.968,1050.73 999.735,1053.09 1002.53,1055.43 1005.34,1057.74 1008.17,1060.02 1011.03,1062.27 1013.92,1064.5 1016.82,1066.69 1019.74,1068.86 1022.69,1071 \\n  1025.66,1073.1 1028.65,1075.18 1031.66,1077.23 1034.69,1079.25 1037.74,1081.23 1040.81,1083.19 1043.9,1085.11 1047,1087.01 1050.13,1088.87 1053.28,1090.7 \\n  1056.44,1092.5 1059.62,1094.27 1062.82,1096.01 1066.04,1097.71 1069.27,1099.39 1072.52,1101.03 1075.79,1102.63 1079.07,1104.21 1082.36,1105.75 1085.68,1107.26 \\n  1089,1108.74 1092.35,1110.18 1095.7,1111.59 1099.07,1112.96 1102.46,1114.3 1105.85,1115.61 1109.26,1116.88 1112.69,1118.12 1116.12,1119.33 1119.57,1120.5 \\n  1123.03,1121.63 1126.5,1122.74 1129.98,1123.8 1133.47,1124.83 1136.97,1125.83 1140.48,1126.79 1144,1127.72 1147.53,1128.61 1151.07,1129.47 1154.61,1130.29 \\n  1158.17,1131.07 1161.73,1131.82 1165.3,1132.54 1168.87,1133.21 1172.46,1133.86 1176.05,1134.46 1179.64,1135.03 1183.24,1135.57 1186.85,1136.07 1190.46,1136.53 \\n  1194.07,1136.95 1197.69,1137.35 1201.31,1137.7 1204.94,1138.02 1208.57,1138.3 1212.2,1138.54 1215.84,1138.75 1219.47,1138.92 1223.11,1139.06 1226.75,1139.16 \\n  1230.39,1139.22 1234.03,1139.25 1237.67,1139.24 1241.31,1139.19 1244.95,1139.11 1248.58,1138.99 1252.22,1138.84 1255.86,1138.65 1259.49,1138.42 1263.12,1138.16 \\n  1266.75,1137.86 1270.37,1137.52 1273.99,1137.15 1277.61,1136.74 1281.22,1136.29 1284.83,1135.81 1288.43,1135.29 1292.03,1134.74 1295.62,1134.15 1299.21,1133.53 \\n  1302.79,1132.86 1306.36,1132.17 1309.93,1131.43 1313.48,1130.67 1317.03,1129.86 1320.58,1129.02 1324.11,1128.15 1327.63,1127.24 1331.15,1126.29 1334.65,1125.31 \\n  1338.15,1124.3 1341.64,1123.25 1345.11,1122.16 1348.57,1121.05 1352.03,1119.89 1355.47,1118.7 1358.89,1117.48 1362.31,1116.22 1365.71,1114.93 1369.1,1113.61 \\n  1372.48,1112.25 1375.84,1110.86 1379.19,1109.43 1382.53,1107.97 1385.85,1106.48 1389.15,1104.95 1392.44,1103.39 1395.71,1101.8 1398.97,1100.17 1402.21,1098.52 \\n  1405.44,1096.83 1408.64,1095.11 1411.83,1093.35 1415.01,1091.57 1418.16,1089.75 1421.3,1087.9 1424.41,1086.02 1427.51,1084.11 1430.59,1082.17 1433.65,1080.2 \\n  1436.69,1078.2 1439.71,1076.16 1442.71,1074.1 1445.69,1072.01 1448.64,1069.88 1451.58,1067.73 1454.49,1065.55 1457.38,1063.34 1460.25,1061.1 1463.1,1058.83 \\n  1465.93,1056.54 1468.73,1054.21 1471.51,1051.86 1474.26,1049.48 1476.99,1047.07 1479.7,1044.64 1482.38,1042.18 1485.03,1039.69 1487.67,1037.17 1490.27,1034.63 \\n  1492.85,1032.07 1495.41,1029.47 1497.94,1026.86 1500.44,1024.21 1502.92,1021.55 1505.37,1018.85 1507.79,1016.14 1510.18,1013.4 1512.55,1010.63 1514.89,1007.84 \\n  1517.2,1005.03 1519.49,1002.2 1521.74,999.34 1523.97,996.46 1526.17,993.558 1528.34,990.635 1530.47,987.69 1532.58,984.723 1534.66,981.736 1536.71,978.728 \\n  1538.73,975.7 1540.72,972.651 1542.68,969.583 1544.61,966.496 1546.51,963.389 1548.37,960.264 1550.21,957.12 1552.01,953.958 1553.78,950.778 1555.52,947.58 \\n  1557.23,944.365 1558.9,941.134 1560.55,937.885 1562.16,934.621 1563.73,931.34 1565.28,928.044 1566.79,924.733 1568.27,921.406 1569.71,918.065 1571.12,914.71 \\n  1572.5,911.341 1573.84,907.958 1575.15,904.562 1576.43,901.153 1577.67,897.732 1578.88,894.298 1580.05,890.852 1581.19,887.395 1582.3,883.926 1583.37,880.447 \\n  1584.4,876.957 1585.4,873.457 1586.36,869.947 1587.29,866.428 1588.19,862.899 1589.05,859.362 1589.87,855.816 1590.66,852.262 1591.41,848.701 1592.13,845.132 \\n  1592.81,841.557 1593.45,837.974 1594.06,834.386 1594.64,830.791 1595.17,827.191 1595.68,823.586 1596.14,819.975 1596.57,816.361 1596.96,812.742 1597.32,809.12 \\n  1597.64,805.494 1597.92,801.865 1598.17,798.233 1598.38,794.599 1598.56,790.964 1598.7,787.326 1598.8,783.688 1598.87,780.048 1598.9,776.408 \\n  \\\"\\/>\\n<polyline clip-path=\\\"url(#clip02)\\\" style=\\\"stroke:#0000ff; stroke-width:3.2; stroke-opacity:1; fill:none\\\" stroke-dasharray=\\\"13, 8\\\" points=\\\"\\n  1234.9,775.249 1234.9,775.249 \\n  \\n  \\n  \\n  \\n  \\n  \\n  \\n  \\n  \\n  \\n  \\n  \\n  \\n  \\n  \\n  \\n  \\n  \\n  \\n  \\n  \\n  \\n  \\n  \\n  \\n  \\n  \\n  \\n  \\n  \\n  \\n  \\n  \\n  \\n  \\n  \\n  \\n  \\n  \\n  \\n  \\n  \\n  \\n  \\n  \\n  \\n  \\n  \\n  \\n  \\n  \\n  \\n  \\n  \\n  \\n  \\n  \\n  \\n  \\n  \\n  \\n  \\n  \\\"\\/>\\n<polyline clip-path=\\\"url(#clip02)\\\" style=\\\"stroke:#ff00ff; stroke-width:12.8; stroke-opacity:1; fill:none\\\" points=\\\"\\n  1234.9,775.249 1234.9,775.249 \\n  \\\"\\/>\\n<polyline clip-path=\\\"url(#clip02)\\\" style=\\\"stroke:#ff00ff; stroke-width:12.8; stroke-opacity:1; fill:none\\\" points=\\\"\\n  1234.9,775.249 1598.87,779.832 \\n  \\\"\\/>\\n<circle clip-path=\\\"url(#clip02)\\\" style=\\\"fill:#00002d; stroke:none; fill-opacity:1\\\" cx=\\\"1234.9\\\" cy=\\\"775.249\\\" r=\\\"14\\\"\\/>\\n<circle clip-path=\\\"url(#clip02)\\\" style=\\\"fill:#ff5d5d; stroke:none; fill-opacity:1\\\" cx=\\\"1234.9\\\" cy=\\\"775.249\\\" r=\\\"11\\\"\\/>\\n<\\/svg>\\n\"},\"nodeType\":\"DOM\",\"type\":\"node\",\"instanceArgs\":{\"namespace\":\"html\",\"tag\":\"div\"},\"children\":[]}]},\n",
       "            window,\n",
       "        );\n",
       "    } else {\n",
       "        document\n",
       "            .querySelector('[data-webio-mountpoint=\"13464725398146600755\"]')\n",
       "            .innerHTML = '<strong>WebIO not detected.</strong>';\n",
       "    }\n",
       "    </script>\n",
       "</div>\n"
      ],
      "text/plain": [
       "Observable{Any} with 0 listeners. Value:\n",
       "Plot{Plots.GRBackend() n=7}"
      ]
     },
     "execution_count": 5,
     "metadata": {
      "application/vnd.webio.node+json": {
       "kernelId": "b60d3081-e7dd-4d68-bb83-50e4fad3e468"
      }
     },
     "output_type": "execute_result"
    }
   ],
   "source": [
    "r = -2:0.01:2\n",
    "\n",
    "θ_vals = range(-2π, 2π, length = 500)\n",
    "formatted_vals = map(t -> \"$(floor(t/π, digits=2))π\", θ_vals)\n",
    "\n",
    "#@manipulate for a in r, b in r, c in r, d in r, θ in \n",
    "\n",
    "θ = slider(θ_vals, formatted_vals, label=\"θ\")\n",
    "\n",
    "p = map(a, b, c, d, θ) do a, b, c, d, θ\n",
    "\n",
    "    M = [a b; c d]\n",
    "   \n",
    "    x = [cos(θ), sin(θ)]\n",
    "    \n",
    "    plot_image(M, x)\n",
    "\n",
    "end"
   ]
  },
  {
   "cell_type": "code",
   "execution_count": 9,
   "metadata": {},
   "outputs": [
    {
     "data": {
      "application/vnd.webio.node+json": {
       "children": [
        {
         "children": [
          {
           "children": [
            {
             "children": [
              {
               "children": [
                {
                 "children": [
                  {
                   "children": [
                    {
                     "children": [
                      "a"
                     ],
                     "instanceArgs": {
                      "namespace": "html",
                      "tag": "label"
                     },
                     "nodeType": "DOM",
                     "props": {
                      "className": "interact ",
                      "style": {
                       "padding": "5px 10px 0px 10px"
                      }
                     },
                     "type": "node"
                    }
                   ],
                   "instanceArgs": {
                    "namespace": "html",
                    "tag": "div"
                   },
                   "nodeType": "DOM",
                   "props": {
                    "className": "interact-flex-row-left"
                   },
                   "type": "node"
                  },
                  {
                   "children": [
                    {
                     "children": [],
                     "instanceArgs": {
                      "namespace": "html",
                      "tag": "input"
                     },
                     "nodeType": "DOM",
                     "props": {
                      "attributes": {
                       "data-bind": "numericValue: index, valueUpdate: 'input', event: {change: function (){this.changes(this.changes()+1)}}",
                       "orient": "horizontal",
                       "type": "range"
                      },
                      "className": "slider slider is-fullwidth",
                      "max": 41,
                      "min": 1,
                      "step": 1,
                      "style": {}
                     },
                     "type": "node"
                    }
                   ],
                   "instanceArgs": {
                    "namespace": "html",
                    "tag": "div"
                   },
                   "nodeType": "DOM",
                   "props": {
                    "className": "interact-flex-row-center"
                   },
                   "type": "node"
                  },
                  {
                   "children": [
                    {
                     "children": [],
                     "instanceArgs": {
                      "namespace": "html",
                      "tag": "p"
                     },
                     "nodeType": "DOM",
                     "props": {
                      "attributes": {
                       "data-bind": "text: formatted_val"
                      }
                     },
                     "type": "node"
                    }
                   ],
                   "instanceArgs": {
                    "namespace": "html",
                    "tag": "div"
                   },
                   "nodeType": "DOM",
                   "props": {
                    "className": "interact-flex-row-right"
                   },
                   "type": "node"
                  }
                 ],
                 "instanceArgs": {
                  "namespace": "html",
                  "tag": "div"
                 },
                 "nodeType": "DOM",
                 "props": {
                  "className": "interact-flex-row interact-widget"
                 },
                 "type": "node"
                }
               ],
               "instanceArgs": {
                "handlers": {
                 "changes": [
                  "(function (val){return (val!=this.model[\"changes\"]()) ? (this.valueFromJulia[\"changes\"]=true, this.model[\"changes\"](val)) : undefined})"
                 ],
                 "index": [
                  "(function (val){return (val!=this.model[\"index\"]()) ? (this.valueFromJulia[\"index\"]=true, this.model[\"index\"](val)) : undefined})"
                 ]
                },
                "id": "knockout-component-24c8dad5-b400-4069-baab-4e449bc928ec",
                "imports": {
                 "data": [
                  {
                   "name": "knockout",
                   "type": "js",
                   "url": "/assetserver/f07383ad7ba5d9e293900fdc7e5e611110d6ff32-knockout.js"
                  },
                  {
                   "name": "knockout_punches",
                   "type": "js",
                   "url": "/assetserver/306cc87ce82e45c3e5eb81524cb970ae2bab3932-knockout_punches.js"
                  },
                  {
                   "name": null,
                   "type": "js",
                   "url": "/assetserver/69078235d89420aa60ec07ae908cfcc65b6ecf85-all.js"
                  },
                  {
                   "name": null,
                   "type": "css",
                   "url": "/assetserver/98bc206151bf33944d9780fd349511e9eae784a0-style.css"
                  },
                  {
                   "name": null,
                   "type": "css",
                   "url": "/assetserver/13615fa9690b1c4388c3fe14db802e442333ebc4-bulma_confined.min.css"
                  }
                 ],
                 "type": "async_block"
                },
                "mount_callbacks": [
                 "function () {\n    var handler = (function (ko, koPunches) {\n    ko.punches.enableAll();\n    ko.bindingHandlers.numericValue = {\n        init : function(element, valueAccessor, allBindings, data, context) {\n            var stringified = ko.observable(ko.unwrap(valueAccessor()));\n            stringified.subscribe(function(value) {\n                var val = parseFloat(value);\n                if (!isNaN(val)) {\n                    valueAccessor()(val);\n                }\n            })\n            valueAccessor().subscribe(function(value) {\n                var str = JSON.stringify(value);\n                if ((str == \"0\") && ([\"-0\", \"-0.\"].indexOf(stringified()) >= 0))\n                     return;\n                 if ([\"null\", \"\"].indexOf(str) >= 0)\n                     return;\n                stringified(str);\n            })\n            ko.applyBindingsToNode(element, { value: stringified, valueUpdate: allBindings.get('valueUpdate')}, context);\n        }\n    };\n    var json_data = {\"formatted_vals\":[\"-2.0\",\"-1.9\",\"-1.8\",\"-1.7\",\"-1.6\",\"-1.5\",\"-1.4\",\"-1.3\",\"-1.2\",\"-1.1\",\"-1.0\",\"-0.9\",\"-0.8\",\"-0.7\",\"-0.6\",\"-0.5\",\"-0.4\",\"-0.3\",\"-0.2\",\"-0.1\",\"0.0\",\"0.1\",\"0.2\",\"0.3\",\"0.4\",\"0.5\",\"0.6\",\"0.7\",\"0.8\",\"0.9\",\"1.0\",\"1.1\",\"1.2\",\"1.3\",\"1.4\",\"1.5\",\"1.6\",\"1.7\",\"1.8\",\"1.9\",\"2.0\"],\"changes\":WebIO.getval({\"name\":\"changes\",\"scope\":\"knockout-component-24c8dad5-b400-4069-baab-4e449bc928ec\",\"id\":\"ob_03\",\"type\":\"observable\"}),\"index\":WebIO.getval({\"name\":\"index\",\"scope\":\"knockout-component-24c8dad5-b400-4069-baab-4e449bc928ec\",\"id\":\"ob_02\",\"type\":\"observable\"})};\n    var self = this;\n    function AppViewModel() {\n        for (var key in json_data) {\n            var el = json_data[key];\n            this[key] = Array.isArray(el) ? ko.observableArray(el) : ko.observable(el);\n        }\n        \n        [this[\"formatted_val\"]=ko.computed(    function(){\n        return this.formatted_vals()[parseInt(this.index())-1];\n    }\n,this)]\n        [this[\"changes\"].subscribe((function (val){!(this.valueFromJulia[\"changes\"]) ? (WebIO.setval({\"name\":\"changes\",\"scope\":\"knockout-component-24c8dad5-b400-4069-baab-4e449bc928ec\",\"id\":\"ob_03\",\"type\":\"observable\"},val)) : undefined; return this.valueFromJulia[\"changes\"]=false}),self),this[\"index\"].subscribe((function (val){!(this.valueFromJulia[\"index\"]) ? (WebIO.setval({\"name\":\"index\",\"scope\":\"knockout-component-24c8dad5-b400-4069-baab-4e449bc928ec\",\"id\":\"ob_02\",\"type\":\"observable\"},val)) : undefined; return this.valueFromJulia[\"index\"]=false}),self)]\n        \n    }\n    self.model = new AppViewModel();\n    self.valueFromJulia = {};\n    for (var key in json_data) {\n        self.valueFromJulia[key] = false;\n    }\n    ko.applyBindings(self.model, self.dom);\n}\n);\n    (WebIO.importBlock({\"data\":[{\"name\":\"knockout\",\"type\":\"js\",\"url\":\"/assetserver/f07383ad7ba5d9e293900fdc7e5e611110d6ff32-knockout.js\"},{\"name\":\"knockout_punches\",\"type\":\"js\",\"url\":\"/assetserver/306cc87ce82e45c3e5eb81524cb970ae2bab3932-knockout_punches.js\"}],\"type\":\"async_block\"})).then((imports) => handler.apply(this, imports));\n}\n"
                ],
                "observables": {
                 "changes": {
                  "id": "ob_03",
                  "sync": false,
                  "value": 0
                 },
                 "index": {
                  "id": "ob_02",
                  "sync": true,
                  "value": 21
                 }
                },
                "systemjs_options": null
               },
               "nodeType": "Scope",
               "props": {},
               "type": "node"
              }
             ],
             "instanceArgs": {
              "namespace": "html",
              "tag": "div"
             },
             "nodeType": "DOM",
             "props": {
              "className": "field interact-widget"
             },
             "type": "node"
            },
            {
             "children": [
              {
               "children": [
                {
                 "children": [
                  {
                   "children": [
                    {
                     "children": [
                      "b"
                     ],
                     "instanceArgs": {
                      "namespace": "html",
                      "tag": "label"
                     },
                     "nodeType": "DOM",
                     "props": {
                      "className": "interact ",
                      "style": {
                       "padding": "5px 10px 0px 10px"
                      }
                     },
                     "type": "node"
                    }
                   ],
                   "instanceArgs": {
                    "namespace": "html",
                    "tag": "div"
                   },
                   "nodeType": "DOM",
                   "props": {
                    "className": "interact-flex-row-left"
                   },
                   "type": "node"
                  },
                  {
                   "children": [
                    {
                     "children": [],
                     "instanceArgs": {
                      "namespace": "html",
                      "tag": "input"
                     },
                     "nodeType": "DOM",
                     "props": {
                      "attributes": {
                       "data-bind": "numericValue: index, valueUpdate: 'input', event: {change: function (){this.changes(this.changes()+1)}}",
                       "orient": "horizontal",
                       "type": "range"
                      },
                      "className": "slider slider is-fullwidth",
                      "max": 41,
                      "min": 1,
                      "step": 1,
                      "style": {}
                     },
                     "type": "node"
                    }
                   ],
                   "instanceArgs": {
                    "namespace": "html",
                    "tag": "div"
                   },
                   "nodeType": "DOM",
                   "props": {
                    "className": "interact-flex-row-center"
                   },
                   "type": "node"
                  },
                  {
                   "children": [
                    {
                     "children": [],
                     "instanceArgs": {
                      "namespace": "html",
                      "tag": "p"
                     },
                     "nodeType": "DOM",
                     "props": {
                      "attributes": {
                       "data-bind": "text: formatted_val"
                      }
                     },
                     "type": "node"
                    }
                   ],
                   "instanceArgs": {
                    "namespace": "html",
                    "tag": "div"
                   },
                   "nodeType": "DOM",
                   "props": {
                    "className": "interact-flex-row-right"
                   },
                   "type": "node"
                  }
                 ],
                 "instanceArgs": {
                  "namespace": "html",
                  "tag": "div"
                 },
                 "nodeType": "DOM",
                 "props": {
                  "className": "interact-flex-row interact-widget"
                 },
                 "type": "node"
                }
               ],
               "instanceArgs": {
                "handlers": {
                 "changes": [
                  "(function (val){return (val!=this.model[\"changes\"]()) ? (this.valueFromJulia[\"changes\"]=true, this.model[\"changes\"](val)) : undefined})"
                 ],
                 "index": [
                  "(function (val){return (val!=this.model[\"index\"]()) ? (this.valueFromJulia[\"index\"]=true, this.model[\"index\"](val)) : undefined})"
                 ]
                },
                "id": "knockout-component-45a7001d-ed44-47d9-80ee-8165b2973f6b",
                "imports": {
                 "data": [
                  {
                   "name": "knockout",
                   "type": "js",
                   "url": "/assetserver/f07383ad7ba5d9e293900fdc7e5e611110d6ff32-knockout.js"
                  },
                  {
                   "name": "knockout_punches",
                   "type": "js",
                   "url": "/assetserver/306cc87ce82e45c3e5eb81524cb970ae2bab3932-knockout_punches.js"
                  },
                  {
                   "name": null,
                   "type": "js",
                   "url": "/assetserver/69078235d89420aa60ec07ae908cfcc65b6ecf85-all.js"
                  },
                  {
                   "name": null,
                   "type": "css",
                   "url": "/assetserver/98bc206151bf33944d9780fd349511e9eae784a0-style.css"
                  },
                  {
                   "name": null,
                   "type": "css",
                   "url": "/assetserver/13615fa9690b1c4388c3fe14db802e442333ebc4-bulma_confined.min.css"
                  }
                 ],
                 "type": "async_block"
                },
                "mount_callbacks": [
                 "function () {\n    var handler = (function (ko, koPunches) {\n    ko.punches.enableAll();\n    ko.bindingHandlers.numericValue = {\n        init : function(element, valueAccessor, allBindings, data, context) {\n            var stringified = ko.observable(ko.unwrap(valueAccessor()));\n            stringified.subscribe(function(value) {\n                var val = parseFloat(value);\n                if (!isNaN(val)) {\n                    valueAccessor()(val);\n                }\n            })\n            valueAccessor().subscribe(function(value) {\n                var str = JSON.stringify(value);\n                if ((str == \"0\") && ([\"-0\", \"-0.\"].indexOf(stringified()) >= 0))\n                     return;\n                 if ([\"null\", \"\"].indexOf(str) >= 0)\n                     return;\n                stringified(str);\n            })\n            ko.applyBindingsToNode(element, { value: stringified, valueUpdate: allBindings.get('valueUpdate')}, context);\n        }\n    };\n    var json_data = {\"formatted_vals\":[\"-2.0\",\"-1.9\",\"-1.8\",\"-1.7\",\"-1.6\",\"-1.5\",\"-1.4\",\"-1.3\",\"-1.2\",\"-1.1\",\"-1.0\",\"-0.9\",\"-0.8\",\"-0.7\",\"-0.6\",\"-0.5\",\"-0.4\",\"-0.3\",\"-0.2\",\"-0.1\",\"0.0\",\"0.1\",\"0.2\",\"0.3\",\"0.4\",\"0.5\",\"0.6\",\"0.7\",\"0.8\",\"0.9\",\"1.0\",\"1.1\",\"1.2\",\"1.3\",\"1.4\",\"1.5\",\"1.6\",\"1.7\",\"1.8\",\"1.9\",\"2.0\"],\"changes\":WebIO.getval({\"name\":\"changes\",\"scope\":\"knockout-component-45a7001d-ed44-47d9-80ee-8165b2973f6b\",\"id\":\"ob_06\",\"type\":\"observable\"}),\"index\":WebIO.getval({\"name\":\"index\",\"scope\":\"knockout-component-45a7001d-ed44-47d9-80ee-8165b2973f6b\",\"id\":\"ob_05\",\"type\":\"observable\"})};\n    var self = this;\n    function AppViewModel() {\n        for (var key in json_data) {\n            var el = json_data[key];\n            this[key] = Array.isArray(el) ? ko.observableArray(el) : ko.observable(el);\n        }\n        \n        [this[\"formatted_val\"]=ko.computed(    function(){\n        return this.formatted_vals()[parseInt(this.index())-1];\n    }\n,this)]\n        [this[\"changes\"].subscribe((function (val){!(this.valueFromJulia[\"changes\"]) ? (WebIO.setval({\"name\":\"changes\",\"scope\":\"knockout-component-45a7001d-ed44-47d9-80ee-8165b2973f6b\",\"id\":\"ob_06\",\"type\":\"observable\"},val)) : undefined; return this.valueFromJulia[\"changes\"]=false}),self),this[\"index\"].subscribe((function (val){!(this.valueFromJulia[\"index\"]) ? (WebIO.setval({\"name\":\"index\",\"scope\":\"knockout-component-45a7001d-ed44-47d9-80ee-8165b2973f6b\",\"id\":\"ob_05\",\"type\":\"observable\"},val)) : undefined; return this.valueFromJulia[\"index\"]=false}),self)]\n        \n    }\n    self.model = new AppViewModel();\n    self.valueFromJulia = {};\n    for (var key in json_data) {\n        self.valueFromJulia[key] = false;\n    }\n    ko.applyBindings(self.model, self.dom);\n}\n);\n    (WebIO.importBlock({\"data\":[{\"name\":\"knockout\",\"type\":\"js\",\"url\":\"/assetserver/f07383ad7ba5d9e293900fdc7e5e611110d6ff32-knockout.js\"},{\"name\":\"knockout_punches\",\"type\":\"js\",\"url\":\"/assetserver/306cc87ce82e45c3e5eb81524cb970ae2bab3932-knockout_punches.js\"}],\"type\":\"async_block\"})).then((imports) => handler.apply(this, imports));\n}\n"
                ],
                "observables": {
                 "changes": {
                  "id": "ob_06",
                  "sync": false,
                  "value": 0
                 },
                 "index": {
                  "id": "ob_05",
                  "sync": true,
                  "value": 21
                 }
                },
                "systemjs_options": null
               },
               "nodeType": "Scope",
               "props": {},
               "type": "node"
              }
             ],
             "instanceArgs": {
              "namespace": "html",
              "tag": "div"
             },
             "nodeType": "DOM",
             "props": {
              "className": "field interact-widget"
             },
             "type": "node"
            }
           ],
           "instanceArgs": {
            "namespace": "html",
            "tag": "div"
           },
           "nodeType": "DOM",
           "props": {
            "style": {
             "display": "flex",
             "flex-direction": "row"
            }
           },
           "type": "node"
          },
          {
           "children": [
            {
             "children": [
              {
               "children": [
                {
                 "children": [
                  {
                   "children": [
                    {
                     "children": [
                      "c"
                     ],
                     "instanceArgs": {
                      "namespace": "html",
                      "tag": "label"
                     },
                     "nodeType": "DOM",
                     "props": {
                      "className": "interact ",
                      "style": {
                       "padding": "5px 10px 0px 10px"
                      }
                     },
                     "type": "node"
                    }
                   ],
                   "instanceArgs": {
                    "namespace": "html",
                    "tag": "div"
                   },
                   "nodeType": "DOM",
                   "props": {
                    "className": "interact-flex-row-left"
                   },
                   "type": "node"
                  },
                  {
                   "children": [
                    {
                     "children": [],
                     "instanceArgs": {
                      "namespace": "html",
                      "tag": "input"
                     },
                     "nodeType": "DOM",
                     "props": {
                      "attributes": {
                       "data-bind": "numericValue: index, valueUpdate: 'input', event: {change: function (){this.changes(this.changes()+1)}}",
                       "orient": "horizontal",
                       "type": "range"
                      },
                      "className": "slider slider is-fullwidth",
                      "max": 41,
                      "min": 1,
                      "step": 1,
                      "style": {}
                     },
                     "type": "node"
                    }
                   ],
                   "instanceArgs": {
                    "namespace": "html",
                    "tag": "div"
                   },
                   "nodeType": "DOM",
                   "props": {
                    "className": "interact-flex-row-center"
                   },
                   "type": "node"
                  },
                  {
                   "children": [
                    {
                     "children": [],
                     "instanceArgs": {
                      "namespace": "html",
                      "tag": "p"
                     },
                     "nodeType": "DOM",
                     "props": {
                      "attributes": {
                       "data-bind": "text: formatted_val"
                      }
                     },
                     "type": "node"
                    }
                   ],
                   "instanceArgs": {
                    "namespace": "html",
                    "tag": "div"
                   },
                   "nodeType": "DOM",
                   "props": {
                    "className": "interact-flex-row-right"
                   },
                   "type": "node"
                  }
                 ],
                 "instanceArgs": {
                  "namespace": "html",
                  "tag": "div"
                 },
                 "nodeType": "DOM",
                 "props": {
                  "className": "interact-flex-row interact-widget"
                 },
                 "type": "node"
                }
               ],
               "instanceArgs": {
                "handlers": {
                 "changes": [
                  "(function (val){return (val!=this.model[\"changes\"]()) ? (this.valueFromJulia[\"changes\"]=true, this.model[\"changes\"](val)) : undefined})"
                 ],
                 "index": [
                  "(function (val){return (val!=this.model[\"index\"]()) ? (this.valueFromJulia[\"index\"]=true, this.model[\"index\"](val)) : undefined})"
                 ]
                },
                "id": "knockout-component-d8a2120e-98ec-42f3-8ca1-493755ea1c82",
                "imports": {
                 "data": [
                  {
                   "name": "knockout",
                   "type": "js",
                   "url": "/assetserver/f07383ad7ba5d9e293900fdc7e5e611110d6ff32-knockout.js"
                  },
                  {
                   "name": "knockout_punches",
                   "type": "js",
                   "url": "/assetserver/306cc87ce82e45c3e5eb81524cb970ae2bab3932-knockout_punches.js"
                  },
                  {
                   "name": null,
                   "type": "js",
                   "url": "/assetserver/69078235d89420aa60ec07ae908cfcc65b6ecf85-all.js"
                  },
                  {
                   "name": null,
                   "type": "css",
                   "url": "/assetserver/98bc206151bf33944d9780fd349511e9eae784a0-style.css"
                  },
                  {
                   "name": null,
                   "type": "css",
                   "url": "/assetserver/13615fa9690b1c4388c3fe14db802e442333ebc4-bulma_confined.min.css"
                  }
                 ],
                 "type": "async_block"
                },
                "mount_callbacks": [
                 "function () {\n    var handler = (function (ko, koPunches) {\n    ko.punches.enableAll();\n    ko.bindingHandlers.numericValue = {\n        init : function(element, valueAccessor, allBindings, data, context) {\n            var stringified = ko.observable(ko.unwrap(valueAccessor()));\n            stringified.subscribe(function(value) {\n                var val = parseFloat(value);\n                if (!isNaN(val)) {\n                    valueAccessor()(val);\n                }\n            })\n            valueAccessor().subscribe(function(value) {\n                var str = JSON.stringify(value);\n                if ((str == \"0\") && ([\"-0\", \"-0.\"].indexOf(stringified()) >= 0))\n                     return;\n                 if ([\"null\", \"\"].indexOf(str) >= 0)\n                     return;\n                stringified(str);\n            })\n            ko.applyBindingsToNode(element, { value: stringified, valueUpdate: allBindings.get('valueUpdate')}, context);\n        }\n    };\n    var json_data = {\"formatted_vals\":[\"-2.0\",\"-1.9\",\"-1.8\",\"-1.7\",\"-1.6\",\"-1.5\",\"-1.4\",\"-1.3\",\"-1.2\",\"-1.1\",\"-1.0\",\"-0.9\",\"-0.8\",\"-0.7\",\"-0.6\",\"-0.5\",\"-0.4\",\"-0.3\",\"-0.2\",\"-0.1\",\"0.0\",\"0.1\",\"0.2\",\"0.3\",\"0.4\",\"0.5\",\"0.6\",\"0.7\",\"0.8\",\"0.9\",\"1.0\",\"1.1\",\"1.2\",\"1.3\",\"1.4\",\"1.5\",\"1.6\",\"1.7\",\"1.8\",\"1.9\",\"2.0\"],\"changes\":WebIO.getval({\"name\":\"changes\",\"scope\":\"knockout-component-d8a2120e-98ec-42f3-8ca1-493755ea1c82\",\"id\":\"ob_09\",\"type\":\"observable\"}),\"index\":WebIO.getval({\"name\":\"index\",\"scope\":\"knockout-component-d8a2120e-98ec-42f3-8ca1-493755ea1c82\",\"id\":\"ob_08\",\"type\":\"observable\"})};\n    var self = this;\n    function AppViewModel() {\n        for (var key in json_data) {\n            var el = json_data[key];\n            this[key] = Array.isArray(el) ? ko.observableArray(el) : ko.observable(el);\n        }\n        \n        [this[\"formatted_val\"]=ko.computed(    function(){\n        return this.formatted_vals()[parseInt(this.index())-1];\n    }\n,this)]\n        [this[\"changes\"].subscribe((function (val){!(this.valueFromJulia[\"changes\"]) ? (WebIO.setval({\"name\":\"changes\",\"scope\":\"knockout-component-d8a2120e-98ec-42f3-8ca1-493755ea1c82\",\"id\":\"ob_09\",\"type\":\"observable\"},val)) : undefined; return this.valueFromJulia[\"changes\"]=false}),self),this[\"index\"].subscribe((function (val){!(this.valueFromJulia[\"index\"]) ? (WebIO.setval({\"name\":\"index\",\"scope\":\"knockout-component-d8a2120e-98ec-42f3-8ca1-493755ea1c82\",\"id\":\"ob_08\",\"type\":\"observable\"},val)) : undefined; return this.valueFromJulia[\"index\"]=false}),self)]\n        \n    }\n    self.model = new AppViewModel();\n    self.valueFromJulia = {};\n    for (var key in json_data) {\n        self.valueFromJulia[key] = false;\n    }\n    ko.applyBindings(self.model, self.dom);\n}\n);\n    (WebIO.importBlock({\"data\":[{\"name\":\"knockout\",\"type\":\"js\",\"url\":\"/assetserver/f07383ad7ba5d9e293900fdc7e5e611110d6ff32-knockout.js\"},{\"name\":\"knockout_punches\",\"type\":\"js\",\"url\":\"/assetserver/306cc87ce82e45c3e5eb81524cb970ae2bab3932-knockout_punches.js\"}],\"type\":\"async_block\"})).then((imports) => handler.apply(this, imports));\n}\n"
                ],
                "observables": {
                 "changes": {
                  "id": "ob_09",
                  "sync": false,
                  "value": 0
                 },
                 "index": {
                  "id": "ob_08",
                  "sync": true,
                  "value": 21
                 }
                },
                "systemjs_options": null
               },
               "nodeType": "Scope",
               "props": {},
               "type": "node"
              }
             ],
             "instanceArgs": {
              "namespace": "html",
              "tag": "div"
             },
             "nodeType": "DOM",
             "props": {
              "className": "field interact-widget"
             },
             "type": "node"
            },
            {
             "children": [
              {
               "children": [
                {
                 "children": [
                  {
                   "children": [
                    {
                     "children": [
                      "d"
                     ],
                     "instanceArgs": {
                      "namespace": "html",
                      "tag": "label"
                     },
                     "nodeType": "DOM",
                     "props": {
                      "className": "interact ",
                      "style": {
                       "padding": "5px 10px 0px 10px"
                      }
                     },
                     "type": "node"
                    }
                   ],
                   "instanceArgs": {
                    "namespace": "html",
                    "tag": "div"
                   },
                   "nodeType": "DOM",
                   "props": {
                    "className": "interact-flex-row-left"
                   },
                   "type": "node"
                  },
                  {
                   "children": [
                    {
                     "children": [],
                     "instanceArgs": {
                      "namespace": "html",
                      "tag": "input"
                     },
                     "nodeType": "DOM",
                     "props": {
                      "attributes": {
                       "data-bind": "numericValue: index, valueUpdate: 'input', event: {change: function (){this.changes(this.changes()+1)}}",
                       "orient": "horizontal",
                       "type": "range"
                      },
                      "className": "slider slider is-fullwidth",
                      "max": 41,
                      "min": 1,
                      "step": 1,
                      "style": {}
                     },
                     "type": "node"
                    }
                   ],
                   "instanceArgs": {
                    "namespace": "html",
                    "tag": "div"
                   },
                   "nodeType": "DOM",
                   "props": {
                    "className": "interact-flex-row-center"
                   },
                   "type": "node"
                  },
                  {
                   "children": [
                    {
                     "children": [],
                     "instanceArgs": {
                      "namespace": "html",
                      "tag": "p"
                     },
                     "nodeType": "DOM",
                     "props": {
                      "attributes": {
                       "data-bind": "text: formatted_val"
                      }
                     },
                     "type": "node"
                    }
                   ],
                   "instanceArgs": {
                    "namespace": "html",
                    "tag": "div"
                   },
                   "nodeType": "DOM",
                   "props": {
                    "className": "interact-flex-row-right"
                   },
                   "type": "node"
                  }
                 ],
                 "instanceArgs": {
                  "namespace": "html",
                  "tag": "div"
                 },
                 "nodeType": "DOM",
                 "props": {
                  "className": "interact-flex-row interact-widget"
                 },
                 "type": "node"
                }
               ],
               "instanceArgs": {
                "handlers": {
                 "changes": [
                  "(function (val){return (val!=this.model[\"changes\"]()) ? (this.valueFromJulia[\"changes\"]=true, this.model[\"changes\"](val)) : undefined})"
                 ],
                 "index": [
                  "(function (val){return (val!=this.model[\"index\"]()) ? (this.valueFromJulia[\"index\"]=true, this.model[\"index\"](val)) : undefined})"
                 ]
                },
                "id": "knockout-component-f75f6c73-384f-4cde-b984-890bfef3429c",
                "imports": {
                 "data": [
                  {
                   "name": "knockout",
                   "type": "js",
                   "url": "/assetserver/f07383ad7ba5d9e293900fdc7e5e611110d6ff32-knockout.js"
                  },
                  {
                   "name": "knockout_punches",
                   "type": "js",
                   "url": "/assetserver/306cc87ce82e45c3e5eb81524cb970ae2bab3932-knockout_punches.js"
                  },
                  {
                   "name": null,
                   "type": "js",
                   "url": "/assetserver/69078235d89420aa60ec07ae908cfcc65b6ecf85-all.js"
                  },
                  {
                   "name": null,
                   "type": "css",
                   "url": "/assetserver/98bc206151bf33944d9780fd349511e9eae784a0-style.css"
                  },
                  {
                   "name": null,
                   "type": "css",
                   "url": "/assetserver/13615fa9690b1c4388c3fe14db802e442333ebc4-bulma_confined.min.css"
                  }
                 ],
                 "type": "async_block"
                },
                "mount_callbacks": [
                 "function () {\n    var handler = (function (ko, koPunches) {\n    ko.punches.enableAll();\n    ko.bindingHandlers.numericValue = {\n        init : function(element, valueAccessor, allBindings, data, context) {\n            var stringified = ko.observable(ko.unwrap(valueAccessor()));\n            stringified.subscribe(function(value) {\n                var val = parseFloat(value);\n                if (!isNaN(val)) {\n                    valueAccessor()(val);\n                }\n            })\n            valueAccessor().subscribe(function(value) {\n                var str = JSON.stringify(value);\n                if ((str == \"0\") && ([\"-0\", \"-0.\"].indexOf(stringified()) >= 0))\n                     return;\n                 if ([\"null\", \"\"].indexOf(str) >= 0)\n                     return;\n                stringified(str);\n            })\n            ko.applyBindingsToNode(element, { value: stringified, valueUpdate: allBindings.get('valueUpdate')}, context);\n        }\n    };\n    var json_data = {\"formatted_vals\":[\"-2.0\",\"-1.9\",\"-1.8\",\"-1.7\",\"-1.6\",\"-1.5\",\"-1.4\",\"-1.3\",\"-1.2\",\"-1.1\",\"-1.0\",\"-0.9\",\"-0.8\",\"-0.7\",\"-0.6\",\"-0.5\",\"-0.4\",\"-0.3\",\"-0.2\",\"-0.1\",\"0.0\",\"0.1\",\"0.2\",\"0.3\",\"0.4\",\"0.5\",\"0.6\",\"0.7\",\"0.8\",\"0.9\",\"1.0\",\"1.1\",\"1.2\",\"1.3\",\"1.4\",\"1.5\",\"1.6\",\"1.7\",\"1.8\",\"1.9\",\"2.0\"],\"changes\":WebIO.getval({\"name\":\"changes\",\"scope\":\"knockout-component-f75f6c73-384f-4cde-b984-890bfef3429c\",\"id\":\"ob_12\",\"type\":\"observable\"}),\"index\":WebIO.getval({\"name\":\"index\",\"scope\":\"knockout-component-f75f6c73-384f-4cde-b984-890bfef3429c\",\"id\":\"ob_11\",\"type\":\"observable\"})};\n    var self = this;\n    function AppViewModel() {\n        for (var key in json_data) {\n            var el = json_data[key];\n            this[key] = Array.isArray(el) ? ko.observableArray(el) : ko.observable(el);\n        }\n        \n        [this[\"formatted_val\"]=ko.computed(    function(){\n        return this.formatted_vals()[parseInt(this.index())-1];\n    }\n,this)]\n        [this[\"changes\"].subscribe((function (val){!(this.valueFromJulia[\"changes\"]) ? (WebIO.setval({\"name\":\"changes\",\"scope\":\"knockout-component-f75f6c73-384f-4cde-b984-890bfef3429c\",\"id\":\"ob_12\",\"type\":\"observable\"},val)) : undefined; return this.valueFromJulia[\"changes\"]=false}),self),this[\"index\"].subscribe((function (val){!(this.valueFromJulia[\"index\"]) ? (WebIO.setval({\"name\":\"index\",\"scope\":\"knockout-component-f75f6c73-384f-4cde-b984-890bfef3429c\",\"id\":\"ob_11\",\"type\":\"observable\"},val)) : undefined; return this.valueFromJulia[\"index\"]=false}),self)]\n        \n    }\n    self.model = new AppViewModel();\n    self.valueFromJulia = {};\n    for (var key in json_data) {\n        self.valueFromJulia[key] = false;\n    }\n    ko.applyBindings(self.model, self.dom);\n}\n);\n    (WebIO.importBlock({\"data\":[{\"name\":\"knockout\",\"type\":\"js\",\"url\":\"/assetserver/f07383ad7ba5d9e293900fdc7e5e611110d6ff32-knockout.js\"},{\"name\":\"knockout_punches\",\"type\":\"js\",\"url\":\"/assetserver/306cc87ce82e45c3e5eb81524cb970ae2bab3932-knockout_punches.js\"}],\"type\":\"async_block\"})).then((imports) => handler.apply(this, imports));\n}\n"
                ],
                "observables": {
                 "changes": {
                  "id": "ob_12",
                  "sync": false,
                  "value": 0
                 },
                 "index": {
                  "id": "ob_11",
                  "sync": true,
                  "value": 21
                 }
                },
                "systemjs_options": null
               },
               "nodeType": "Scope",
               "props": {},
               "type": "node"
              }
             ],
             "instanceArgs": {
              "namespace": "html",
              "tag": "div"
             },
             "nodeType": "DOM",
             "props": {
              "className": "field interact-widget"
             },
             "type": "node"
            }
           ],
           "instanceArgs": {
            "namespace": "html",
            "tag": "div"
           },
           "nodeType": "DOM",
           "props": {
            "style": {
             "display": "flex",
             "flex-direction": "row"
            }
           },
           "type": "node"
          }
         ],
         "instanceArgs": {
          "namespace": "html",
          "tag": "div"
         },
         "nodeType": "DOM",
         "props": {
          "style": {
           "display": "flex",
           "flex-direction": "column"
          }
         },
         "type": "node"
        },
        {
         "children": [
          {
           "children": [
            {
             "children": [
              {
               "children": [
                {
                 "children": [
                  "θ"
                 ],
                 "instanceArgs": {
                  "namespace": "html",
                  "tag": "label"
                 },
                 "nodeType": "DOM",
                 "props": {
                  "className": "interact ",
                  "style": {
                   "padding": "5px 10px 0px 10px"
                  }
                 },
                 "type": "node"
                }
               ],
               "instanceArgs": {
                "namespace": "html",
                "tag": "div"
               },
               "nodeType": "DOM",
               "props": {
                "className": "interact-flex-row-left"
               },
               "type": "node"
              },
              {
               "children": [
                {
                 "children": [],
                 "instanceArgs": {
                  "namespace": "html",
                  "tag": "input"
                 },
                 "nodeType": "DOM",
                 "props": {
                  "attributes": {
                   "data-bind": "numericValue: index, valueUpdate: 'input', event: {change: function (){this.changes(this.changes()+1)}}",
                   "orient": "horizontal",
                   "type": "range"
                  },
                  "className": "slider slider is-fullwidth",
                  "max": 629,
                  "min": 1,
                  "step": 1,
                  "style": {}
                 },
                 "type": "node"
                }
               ],
               "instanceArgs": {
                "namespace": "html",
                "tag": "div"
               },
               "nodeType": "DOM",
               "props": {
                "className": "interact-flex-row-center"
               },
               "type": "node"
              },
              {
               "children": [
                {
                 "children": [],
                 "instanceArgs": {
                  "namespace": "html",
                  "tag": "p"
                 },
                 "nodeType": "DOM",
                 "props": {
                  "attributes": {
                   "data-bind": "text: formatted_val"
                  }
                 },
                 "type": "node"
                }
               ],
               "instanceArgs": {
                "namespace": "html",
                "tag": "div"
               },
               "nodeType": "DOM",
               "props": {
                "className": "interact-flex-row-right"
               },
               "type": "node"
              }
             ],
             "instanceArgs": {
              "namespace": "html",
              "tag": "div"
             },
             "nodeType": "DOM",
             "props": {
              "className": "interact-flex-row interact-widget"
             },
             "type": "node"
            }
           ],
           "instanceArgs": {
            "handlers": {
             "changes": [
              "(function (val){return (val!=this.model[\"changes\"]()) ? (this.valueFromJulia[\"changes\"]=true, this.model[\"changes\"](val)) : undefined})"
             ],
             "index": [
              "(function (val){return (val!=this.model[\"index\"]()) ? (this.valueFromJulia[\"index\"]=true, this.model[\"index\"](val)) : undefined})"
             ]
            },
            "id": "knockout-component-30a7bef9-147e-4e26-a079-f1e1d7d1b8aa",
            "imports": {
             "data": [
              {
               "name": "knockout",
               "type": "js",
               "url": "/assetserver/f07383ad7ba5d9e293900fdc7e5e611110d6ff32-knockout.js"
              },
              {
               "name": "knockout_punches",
               "type": "js",
               "url": "/assetserver/306cc87ce82e45c3e5eb81524cb970ae2bab3932-knockout_punches.js"
              },
              {
               "name": null,
               "type": "js",
               "url": "/assetserver/69078235d89420aa60ec07ae908cfcc65b6ecf85-all.js"
              },
              {
               "name": null,
               "type": "css",
               "url": "/assetserver/98bc206151bf33944d9780fd349511e9eae784a0-style.css"
              },
              {
               "name": null,
               "type": "css",
               "url": "/assetserver/13615fa9690b1c4388c3fe14db802e442333ebc4-bulma_confined.min.css"
              }
             ],
             "type": "async_block"
            },
            "mount_callbacks": [
             "function () {\n    var handler = (function (ko, koPunches) {\n    ko.punches.enableAll();\n    ko.bindingHandlers.numericValue = {\n        init : function(element, valueAccessor, allBindings, data, context) {\n            var stringified = ko.observable(ko.unwrap(valueAccessor()));\n            stringified.subscribe(function(value) {\n                var val = parseFloat(value);\n                if (!isNaN(val)) {\n                    valueAccessor()(val);\n                }\n            })\n            valueAccessor().subscribe(function(value) {\n                var str = JSON.stringify(value);\n                if ((str == \"0\") && ([\"-0\", \"-0.\"].indexOf(stringified()) >= 0))\n                     return;\n                 if ([\"null\", \"\"].indexOf(str) >= 0)\n                     return;\n                stringified(str);\n            })\n            ko.applyBindingsToNode(element, { value: stringified, valueUpdate: allBindings.get('valueUpdate')}, context);\n        }\n    };\n    var json_data = {\"formatted_vals\":[\"0.0\",\"0.01\",\"0.02\",\"0.03\",\"0.04\",\"0.05\",\"0.06\",\"0.07\",\"0.08\",\"0.09\",\"0.1\",\"0.11\",\"0.12\",\"0.13\",\"0.14\",\"0.15\",\"0.16\",\"0.17\",\"0.18\",\"0.19\",\"0.2\",\"0.21\",\"0.22\",\"0.23\",\"0.24\",\"0.25\",\"0.26\",\"0.27\",\"0.28\",\"0.29\",\"0.3\",\"0.31\",\"0.32\",\"0.33\",\"0.34\",\"0.35\",\"0.36\",\"0.37\",\"0.38\",\"0.39\",\"0.4\",\"0.41\",\"0.42\",\"0.43\",\"0.44\",\"0.45\",\"0.46\",\"0.47\",\"0.48\",\"0.49\",\"0.5\",\"0.51\",\"0.52\",\"0.53\",\"0.54\",\"0.55\",\"0.56\",\"0.57\",\"0.58\",\"0.59\",\"0.6\",\"0.61\",\"0.62\",\"0.63\",\"0.64\",\"0.65\",\"0.66\",\"0.67\",\"0.68\",\"0.69\",\"0.7\",\"0.71\",\"0.72\",\"0.73\",\"0.74\",\"0.75\",\"0.76\",\"0.77\",\"0.78\",\"0.79\",\"0.8\",\"0.81\",\"0.82\",\"0.83\",\"0.84\",\"0.85\",\"0.86\",\"0.87\",\"0.88\",\"0.89\",\"0.9\",\"0.91\",\"0.92\",\"0.93\",\"0.94\",\"0.95\",\"0.96\",\"0.97\",\"0.98\",\"0.99\",\"1.0\",\"1.01\",\"1.02\",\"1.03\",\"1.04\",\"1.05\",\"1.06\",\"1.07\",\"1.08\",\"1.09\",\"1.1\",\"1.11\",\"1.12\",\"1.13\",\"1.14\",\"1.15\",\"1.16\",\"1.17\",\"1.18\",\"1.19\",\"1.2\",\"1.21\",\"1.22\",\"1.23\",\"1.24\",\"1.25\",\"1.26\",\"1.27\",\"1.28\",\"1.29\",\"1.3\",\"1.31\",\"1.32\",\"1.33\",\"1.34\",\"1.35\",\"1.36\",\"1.37\",\"1.38\",\"1.39\",\"1.4\",\"1.41\",\"1.42\",\"1.43\",\"1.44\",\"1.45\",\"1.46\",\"1.47\",\"1.48\",\"1.49\",\"1.5\",\"1.51\",\"1.52\",\"1.53\",\"1.54\",\"1.55\",\"1.56\",\"1.57\",\"1.58\",\"1.59\",\"1.6\",\"1.61\",\"1.62\",\"1.63\",\"1.64\",\"1.65\",\"1.66\",\"1.67\",\"1.68\",\"1.69\",\"1.7\",\"1.71\",\"1.72\",\"1.73\",\"1.74\",\"1.75\",\"1.76\",\"1.77\",\"1.78\",\"1.79\",\"1.8\",\"1.81\",\"1.82\",\"1.83\",\"1.84\",\"1.85\",\"1.86\",\"1.87\",\"1.88\",\"1.89\",\"1.9\",\"1.91\",\"1.92\",\"1.93\",\"1.94\",\"1.95\",\"1.96\",\"1.97\",\"1.98\",\"1.99\",\"2.0\",\"2.01\",\"2.02\",\"2.03\",\"2.04\",\"2.05\",\"2.06\",\"2.07\",\"2.08\",\"2.09\",\"2.1\",\"2.11\",\"2.12\",\"2.13\",\"2.14\",\"2.15\",\"2.16\",\"2.17\",\"2.18\",\"2.19\",\"2.2\",\"2.21\",\"2.22\",\"2.23\",\"2.24\",\"2.25\",\"2.26\",\"2.27\",\"2.28\",\"2.29\",\"2.3\",\"2.31\",\"2.32\",\"2.33\",\"2.34\",\"2.35\",\"2.36\",\"2.37\",\"2.38\",\"2.39\",\"2.4\",\"2.41\",\"2.42\",\"2.43\",\"2.44\",\"2.45\",\"2.46\",\"2.47\",\"2.48\",\"2.49\",\"2.5\",\"2.51\",\"2.52\",\"2.53\",\"2.54\",\"2.55\",\"2.56\",\"2.57\",\"2.58\",\"2.59\",\"2.6\",\"2.61\",\"2.62\",\"2.63\",\"2.64\",\"2.65\",\"2.66\",\"2.67\",\"2.68\",\"2.69\",\"2.7\",\"2.71\",\"2.72\",\"2.73\",\"2.74\",\"2.75\",\"2.76\",\"2.77\",\"2.78\",\"2.79\",\"2.8\",\"2.81\",\"2.82\",\"2.83\",\"2.84\",\"2.85\",\"2.86\",\"2.87\",\"2.88\",\"2.89\",\"2.9\",\"2.91\",\"2.92\",\"2.93\",\"2.94\",\"2.95\",\"2.96\",\"2.97\",\"2.98\",\"2.99\",\"3.0\",\"3.01\",\"3.02\",\"3.03\",\"3.04\",\"3.05\",\"3.06\",\"3.07\",\"3.08\",\"3.09\",\"3.1\",\"3.11\",\"3.12\",\"3.13\",\"3.14\",\"3.15\",\"3.16\",\"3.17\",\"3.18\",\"3.19\",\"3.2\",\"3.21\",\"3.22\",\"3.23\",\"3.24\",\"3.25\",\"3.26\",\"3.27\",\"3.28\",\"3.29\",\"3.3\",\"3.31\",\"3.32\",\"3.33\",\"3.34\",\"3.35\",\"3.36\",\"3.37\",\"3.38\",\"3.39\",\"3.4\",\"3.41\",\"3.42\",\"3.43\",\"3.44\",\"3.45\",\"3.46\",\"3.47\",\"3.48\",\"3.49\",\"3.5\",\"3.51\",\"3.52\",\"3.53\",\"3.54\",\"3.55\",\"3.56\",\"3.57\",\"3.58\",\"3.59\",\"3.6\",\"3.61\",\"3.62\",\"3.63\",\"3.64\",\"3.65\",\"3.66\",\"3.67\",\"3.68\",\"3.69\",\"3.7\",\"3.71\",\"3.72\",\"3.73\",\"3.74\",\"3.75\",\"3.76\",\"3.77\",\"3.78\",\"3.79\",\"3.8\",\"3.81\",\"3.82\",\"3.83\",\"3.84\",\"3.85\",\"3.86\",\"3.87\",\"3.88\",\"3.89\",\"3.9\",\"3.91\",\"3.92\",\"3.93\",\"3.94\",\"3.95\",\"3.96\",\"3.97\",\"3.98\",\"3.99\",\"4.0\",\"4.01\",\"4.02\",\"4.03\",\"4.04\",\"4.05\",\"4.06\",\"4.07\",\"4.08\",\"4.09\",\"4.1\",\"4.11\",\"4.12\",\"4.13\",\"4.14\",\"4.15\",\"4.16\",\"4.17\",\"4.18\",\"4.19\",\"4.2\",\"4.21\",\"4.22\",\"4.23\",\"4.24\",\"4.25\",\"4.26\",\"4.27\",\"4.28\",\"4.29\",\"4.3\",\"4.31\",\"4.32\",\"4.33\",\"4.34\",\"4.35\",\"4.36\",\"4.37\",\"4.38\",\"4.39\",\"4.4\",\"4.41\",\"4.42\",\"4.43\",\"4.44\",\"4.45\",\"4.46\",\"4.47\",\"4.48\",\"4.49\",\"4.5\",\"4.51\",\"4.52\",\"4.53\",\"4.54\",\"4.55\",\"4.56\",\"4.57\",\"4.58\",\"4.59\",\"4.6\",\"4.61\",\"4.62\",\"4.63\",\"4.64\",\"4.65\",\"4.66\",\"4.67\",\"4.68\",\"4.69\",\"4.7\",\"4.71\",\"4.72\",\"4.73\",\"4.74\",\"4.75\",\"4.76\",\"4.77\",\"4.78\",\"4.79\",\"4.8\",\"4.81\",\"4.82\",\"4.83\",\"4.84\",\"4.85\",\"4.86\",\"4.87\",\"4.88\",\"4.89\",\"4.9\",\"4.91\",\"4.92\",\"4.93\",\"4.94\",\"4.95\",\"4.96\",\"4.97\",\"4.98\",\"4.99\",\"5.0\",\"5.01\",\"5.02\",\"5.03\",\"5.04\",\"5.05\",\"5.06\",\"5.07\",\"5.08\",\"5.09\",\"5.1\",\"5.11\",\"5.12\",\"5.13\",\"5.14\",\"5.15\",\"5.16\",\"5.17\",\"5.18\",\"5.19\",\"5.2\",\"5.21\",\"5.22\",\"5.23\",\"5.24\",\"5.25\",\"5.26\",\"5.27\",\"5.28\",\"5.29\",\"5.3\",\"5.31\",\"5.32\",\"5.33\",\"5.34\",\"5.35\",\"5.36\",\"5.37\",\"5.38\",\"5.39\",\"5.4\",\"5.41\",\"5.42\",\"5.43\",\"5.44\",\"5.45\",\"5.46\",\"5.47\",\"5.48\",\"5.49\",\"5.5\",\"5.51\",\"5.52\",\"5.53\",\"5.54\",\"5.55\",\"5.56\",\"5.57\",\"5.58\",\"5.59\",\"5.6\",\"5.61\",\"5.62\",\"5.63\",\"5.64\",\"5.65\",\"5.66\",\"5.67\",\"5.68\",\"5.69\",\"5.7\",\"5.71\",\"5.72\",\"5.73\",\"5.74\",\"5.75\",\"5.76\",\"5.77\",\"5.78\",\"5.79\",\"5.8\",\"5.81\",\"5.82\",\"5.83\",\"5.84\",\"5.85\",\"5.86\",\"5.87\",\"5.88\",\"5.89\",\"5.9\",\"5.91\",\"5.92\",\"5.93\",\"5.94\",\"5.95\",\"5.96\",\"5.97\",\"5.98\",\"5.99\",\"6.0\",\"6.01\",\"6.02\",\"6.03\",\"6.04\",\"6.05\",\"6.06\",\"6.07\",\"6.08\",\"6.09\",\"6.1\",\"6.11\",\"6.12\",\"6.13\",\"6.14\",\"6.15\",\"6.16\",\"6.17\",\"6.18\",\"6.19\",\"6.2\",\"6.21\",\"6.22\",\"6.23\",\"6.24\",\"6.25\",\"6.26\",\"6.27\",\"6.28\"],\"changes\":WebIO.getval({\"name\":\"changes\",\"scope\":\"knockout-component-30a7bef9-147e-4e26-a079-f1e1d7d1b8aa\",\"id\":\"ob_28\",\"type\":\"observable\"}),\"index\":WebIO.getval({\"name\":\"index\",\"scope\":\"knockout-component-30a7bef9-147e-4e26-a079-f1e1d7d1b8aa\",\"id\":\"ob_27\",\"type\":\"observable\"})};\n    var self = this;\n    function AppViewModel() {\n        for (var key in json_data) {\n            var el = json_data[key];\n            this[key] = Array.isArray(el) ? ko.observableArray(el) : ko.observable(el);\n        }\n        \n        [this[\"formatted_val\"]=ko.computed(    function(){\n        return this.formatted_vals()[parseInt(this.index())-1];\n    }\n,this)]\n        [this[\"changes\"].subscribe((function (val){!(this.valueFromJulia[\"changes\"]) ? (WebIO.setval({\"name\":\"changes\",\"scope\":\"knockout-component-30a7bef9-147e-4e26-a079-f1e1d7d1b8aa\",\"id\":\"ob_28\",\"type\":\"observable\"},val)) : undefined; return this.valueFromJulia[\"changes\"]=false}),self),this[\"index\"].subscribe((function (val){!(this.valueFromJulia[\"index\"]) ? (WebIO.setval({\"name\":\"index\",\"scope\":\"knockout-component-30a7bef9-147e-4e26-a079-f1e1d7d1b8aa\",\"id\":\"ob_27\",\"type\":\"observable\"},val)) : undefined; return this.valueFromJulia[\"index\"]=false}),self)]\n        \n    }\n    self.model = new AppViewModel();\n    self.valueFromJulia = {};\n    for (var key in json_data) {\n        self.valueFromJulia[key] = false;\n    }\n    ko.applyBindings(self.model, self.dom);\n}\n);\n    (WebIO.importBlock({\"data\":[{\"name\":\"knockout\",\"type\":\"js\",\"url\":\"/assetserver/f07383ad7ba5d9e293900fdc7e5e611110d6ff32-knockout.js\"},{\"name\":\"knockout_punches\",\"type\":\"js\",\"url\":\"/assetserver/306cc87ce82e45c3e5eb81524cb970ae2bab3932-knockout_punches.js\"}],\"type\":\"async_block\"})).then((imports) => handler.apply(this, imports));\n}\n"
            ],
            "observables": {
             "changes": {
              "id": "ob_28",
              "sync": false,
              "value": 0
             },
             "index": {
              "id": "ob_27",
              "sync": true,
              "value": 315
             }
            },
            "systemjs_options": null
           },
           "nodeType": "Scope",
           "props": {},
           "type": "node"
          }
         ],
         "instanceArgs": {
          "namespace": "html",
          "tag": "div"
         },
         "nodeType": "DOM",
         "props": {
          "className": "field interact-widget"
         },
         "type": "node"
        },
        {
         "children": [
          {
           "children": [],
           "instanceArgs": {
            "namespace": "html",
            "tag": "div"
           },
           "nodeType": "DOM",
           "props": {
            "className": "webio-observable",
            "setInnerHtml": "<?xml version=\"1.0\" encoding=\"utf-8\"?>\n<svg xmlns=\"http://www.w3.org/2000/svg\" xmlns:xlink=\"http://www.w3.org/1999/xlink\" width=\"2400\" height=\"1600\" viewBox=\"0 0 2400 1600\">\n<defs>\n  <clipPath id=\"clip00\">\n    <rect x=\"0\" y=\"0\" width=\"2400\" height=\"1600\"/>\n  </clipPath>\n</defs>\n<polygon clip-path=\"url(#clip00)\" points=\"\n0,1600 2400,1600 2400,0 0,0 \n  \" fill=\"#ffffff\" fill-opacity=\"1\"/>\n<defs>\n  <clipPath id=\"clip01\">\n    <rect x=\"480\" y=\"0\" width=\"1681\" height=\"1600\"/>\n  </clipPath>\n</defs>\n<polygon clip-path=\"url(#clip00)\" points=\"\n506.891,1503.25 1962.9,1503.25 1962.9,47.2441 506.891,47.2441 \n  \" fill=\"#ffffff\" fill-opacity=\"1\"/>\n<defs>\n  <clipPath id=\"clip02\">\n    <rect x=\"506\" y=\"47\" width=\"1457\" height=\"1457\"/>\n  </clipPath>\n</defs>\n<polyline clip-path=\"url(#clip02)\" style=\"stroke:#00002d; stroke-width:1.6; stroke-opacity:0.1; fill:none\" points=\"\n  506.891,1503.25 506.891,47.2441 \n  \"/>\n<polyline clip-path=\"url(#clip02)\" style=\"stroke:#00002d; stroke-width:1.6; stroke-opacity:0.1; fill:none\" points=\"\n  870.894,1503.25 870.894,47.2441 \n  \"/>\n<polyline clip-path=\"url(#clip02)\" style=\"stroke:#00002d; stroke-width:1.6; stroke-opacity:0.1; fill:none\" points=\"\n  1234.9,1503.25 1234.9,47.2441 \n  \"/>\n<polyline clip-path=\"url(#clip02)\" style=\"stroke:#00002d; stroke-width:1.6; stroke-opacity:0.1; fill:none\" points=\"\n  1598.9,1503.25 1598.9,47.2441 \n  \"/>\n<polyline clip-path=\"url(#clip02)\" style=\"stroke:#00002d; stroke-width:1.6; stroke-opacity:0.1; fill:none\" points=\"\n  1962.9,1503.25 1962.9,47.2441 \n  \"/>\n<polyline clip-path=\"url(#clip02)\" style=\"stroke:#00002d; stroke-width:1.6; stroke-opacity:0.1; fill:none\" points=\"\n  506.891,1503.25 1962.9,1503.25 \n  \"/>\n<polyline clip-path=\"url(#clip02)\" style=\"stroke:#00002d; stroke-width:1.6; stroke-opacity:0.1; fill:none\" points=\"\n  506.891,1139.25 1962.9,1139.25 \n  \"/>\n<polyline clip-path=\"url(#clip02)\" style=\"stroke:#00002d; stroke-width:1.6; stroke-opacity:0.1; fill:none\" points=\"\n  506.891,775.249 1962.9,775.249 \n  \"/>\n<polyline clip-path=\"url(#clip02)\" style=\"stroke:#00002d; stroke-width:1.6; stroke-opacity:0.1; fill:none\" points=\"\n  506.891,411.247 1962.9,411.247 \n  \"/>\n<polyline clip-path=\"url(#clip02)\" style=\"stroke:#00002d; stroke-width:1.6; stroke-opacity:0.1; fill:none\" points=\"\n  506.891,47.2441 1962.9,47.2441 \n  \"/>\n<polyline clip-path=\"url(#clip00)\" style=\"stroke:#00002d; stroke-width:3.2; stroke-opacity:1; fill:none\" points=\"\n  506.891,1503.25 1962.9,1503.25 \n  \"/>\n<polyline clip-path=\"url(#clip00)\" style=\"stroke:#00002d; stroke-width:3.2; stroke-opacity:1; fill:none\" points=\"\n  506.891,1503.25 506.891,47.2441 \n  \"/>\n<polyline clip-path=\"url(#clip00)\" style=\"stroke:#00002d; stroke-width:3.2; stroke-opacity:1; fill:none\" points=\"\n  506.891,1503.25 506.891,1481.41 \n  \"/>\n<polyline clip-path=\"url(#clip00)\" style=\"stroke:#00002d; stroke-width:3.2; stroke-opacity:1; fill:none\" points=\"\n  870.894,1503.25 870.894,1481.41 \n  \"/>\n<polyline clip-path=\"url(#clip00)\" style=\"stroke:#00002d; stroke-width:3.2; stroke-opacity:1; fill:none\" points=\"\n  1234.9,1503.25 1234.9,1481.41 \n  \"/>\n<polyline clip-path=\"url(#clip00)\" style=\"stroke:#00002d; stroke-width:3.2; stroke-opacity:1; fill:none\" points=\"\n  1598.9,1503.25 1598.9,1481.41 \n  \"/>\n<polyline clip-path=\"url(#clip00)\" style=\"stroke:#00002d; stroke-width:3.2; stroke-opacity:1; fill:none\" points=\"\n  1962.9,1503.25 1962.9,1481.41 \n  \"/>\n<polyline clip-path=\"url(#clip00)\" style=\"stroke:#00002d; stroke-width:3.2; stroke-opacity:1; fill:none\" points=\"\n  506.891,1503.25 528.732,1503.25 \n  \"/>\n<polyline clip-path=\"url(#clip00)\" style=\"stroke:#00002d; stroke-width:3.2; stroke-opacity:1; fill:none\" points=\"\n  506.891,1139.25 528.732,1139.25 \n  \"/>\n<polyline clip-path=\"url(#clip00)\" style=\"stroke:#00002d; stroke-width:3.2; stroke-opacity:1; fill:none\" points=\"\n  506.891,775.249 528.732,775.249 \n  \"/>\n<polyline clip-path=\"url(#clip00)\" style=\"stroke:#00002d; stroke-width:3.2; stroke-opacity:1; fill:none\" points=\"\n  506.891,411.247 528.732,411.247 \n  \"/>\n<polyline clip-path=\"url(#clip00)\" style=\"stroke:#00002d; stroke-width:3.2; stroke-opacity:1; fill:none\" points=\"\n  506.891,47.2441 528.732,47.2441 \n  \"/>\n<g clip-path=\"url(#clip00)\">\n<text style=\"fill:#00002d; fill-opacity:1; font-family:Arial,Helvetica Neue,Helvetica,sans-serif; font-size:48; text-anchor:middle;\" transform=\"rotate(0, 506.891, 1557.25)\" x=\"506.891\" y=\"1557.25\">-2</text>\n</g>\n<g clip-path=\"url(#clip00)\">\n<text style=\"fill:#00002d; fill-opacity:1; font-family:Arial,Helvetica Neue,Helvetica,sans-serif; font-size:48; text-anchor:middle;\" transform=\"rotate(0, 870.894, 1557.25)\" x=\"870.894\" y=\"1557.25\">-1</text>\n</g>\n<g clip-path=\"url(#clip00)\">\n<text style=\"fill:#00002d; fill-opacity:1; font-family:Arial,Helvetica Neue,Helvetica,sans-serif; font-size:48; text-anchor:middle;\" transform=\"rotate(0, 1234.9, 1557.25)\" x=\"1234.9\" y=\"1557.25\">0</text>\n</g>\n<g clip-path=\"url(#clip00)\">\n<text style=\"fill:#00002d; fill-opacity:1; font-family:Arial,Helvetica Neue,Helvetica,sans-serif; font-size:48; text-anchor:middle;\" transform=\"rotate(0, 1598.9, 1557.25)\" x=\"1598.9\" y=\"1557.25\">1</text>\n</g>\n<g clip-path=\"url(#clip00)\">\n<text style=\"fill:#00002d; fill-opacity:1; font-family:Arial,Helvetica Neue,Helvetica,sans-serif; font-size:48; text-anchor:middle;\" transform=\"rotate(0, 1962.9, 1557.25)\" x=\"1962.9\" y=\"1557.25\">2</text>\n</g>\n<g clip-path=\"url(#clip00)\">\n<text style=\"fill:#00002d; fill-opacity:1; font-family:Arial,Helvetica Neue,Helvetica,sans-serif; font-size:48; text-anchor:end;\" transform=\"rotate(0, 482.891, 1520.75)\" x=\"482.891\" y=\"1520.75\">-2</text>\n</g>\n<g clip-path=\"url(#clip00)\">\n<text style=\"fill:#00002d; fill-opacity:1; font-family:Arial,Helvetica Neue,Helvetica,sans-serif; font-size:48; text-anchor:end;\" transform=\"rotate(0, 482.891, 1156.75)\" x=\"482.891\" y=\"1156.75\">-1</text>\n</g>\n<g clip-path=\"url(#clip00)\">\n<text style=\"fill:#00002d; fill-opacity:1; font-family:Arial,Helvetica Neue,Helvetica,sans-serif; font-size:48; text-anchor:end;\" transform=\"rotate(0, 482.891, 792.749)\" x=\"482.891\" y=\"792.749\">0</text>\n</g>\n<g clip-path=\"url(#clip00)\">\n<text style=\"fill:#00002d; fill-opacity:1; font-family:Arial,Helvetica Neue,Helvetica,sans-serif; font-size:48; text-anchor:end;\" transform=\"rotate(0, 482.891, 428.747)\" x=\"482.891\" y=\"428.747\">1</text>\n</g>\n<g clip-path=\"url(#clip00)\">\n<text style=\"fill:#00002d; fill-opacity:1; font-family:Arial,Helvetica Neue,Helvetica,sans-serif; font-size:48; text-anchor:end;\" transform=\"rotate(0, 482.891, 64.7441)\" x=\"482.891\" y=\"64.7441\">2</text>\n</g>\n<polyline clip-path=\"url(#clip02)\" style=\"stroke:#008100; stroke-width:6.4; stroke-opacity:1; fill:none\" points=\"\n  1234.9,775.249 1598.87,779.832 \n  \"/>\n<polyline clip-path=\"url(#clip02)\" style=\"stroke:#008100; stroke-width:6.4; stroke-opacity:1; fill:none\" points=\"\n  1563.1,761.38 1598.87,779.832 1562.65,797.377 \n  \"/>\n<polyline clip-path=\"url(#clip02)\" style=\"stroke:#008100; stroke-width:6.4; stroke-opacity:1; fill:none\" points=\"\n  1598.87,779.832 1234.9,775.249 \n  \"/>\n<polyline clip-path=\"url(#clip02)\" style=\"stroke:#0000ff; stroke-width:9.6; stroke-opacity:1; fill:none\" points=\"\n  1234.9,775.249 1234.9,775.249 \n  \"/>\n<polyline clip-path=\"url(#clip02)\" style=\"stroke:#0000ff; stroke-width:9.6; stroke-opacity:1; fill:none\" points=\"\n  nan,nan nan,nan nan,nan \n  \"/>\n<polyline clip-path=\"url(#clip02)\" style=\"stroke:#0000ff; stroke-width:9.6; stroke-opacity:1; fill:none\" points=\"\n  nan,nan nan,nan \n  \"/>\n<polyline clip-path=\"url(#clip02)\" style=\"stroke:#008100; stroke-width:3.2; stroke-opacity:1; fill:none\" stroke-dasharray=\"13, 8\" points=\"\n  1598.9,775.249 1598.88,771.609 1598.83,767.969 1598.73,764.331 1598.61,760.693 1598.44,757.056 1598.24,753.422 1598.01,749.79 1597.73,746.16 1597.43,742.533 \n  1597.08,738.909 1596.7,735.289 1596.28,731.673 1595.83,728.062 1595.34,724.455 1594.81,720.853 1594.25,717.257 1593.65,713.666 1593.02,710.082 1592.35,706.504 \n  1591.64,702.933 1590.9,699.369 1590.13,695.813 1589.31,692.265 1588.47,688.725 1587.58,685.193 1586.66,681.671 1585.71,678.158 1584.72,674.655 1583.7,671.162 \n  1582.64,667.679 1581.55,664.207 1580.42,660.746 1579.26,657.296 1578.06,653.859 1576.83,650.433 1575.56,647.02 1574.27,643.62 1572.93,640.233 1571.57,636.859 \n  1570.16,633.5 1568.73,630.154 1567.26,626.823 1565.76,623.507 1564.23,620.206 1562.66,616.92 1561.06,613.651 1559.43,610.397 1557.76,607.16 1556.07,603.94 \n  1554.34,600.737 1552.58,597.551 1550.78,594.383 1548.96,591.234 1547.1,588.102 1545.22,584.99 1543.3,581.896 1541.35,578.822 1539.37,575.767 1537.36,572.732 \n  1535.32,569.718 1533.25,566.724 1531.15,563.751 1529.02,560.799 1526.86,557.868 1524.67,554.96 1522.46,552.073 1520.21,549.209 1517.93,546.367 1515.63,543.548 \n  1513.3,540.752 1510.94,537.98 1508.56,535.231 1506.14,532.507 1503.7,529.807 1501.23,527.131 1498.74,524.48 1496.22,521.854 1493.67,519.254 1491.1,516.679 \n  1488.5,514.13 1485.88,511.607 1483.23,509.11 1480.55,506.64 1477.85,504.197 1475.13,501.781 1472.39,499.392 1469.61,497.031 1466.82,494.698 1464,492.393 \n  1461.16,490.116 1458.3,487.868 1455.42,485.648 1452.51,483.457 1449.58,481.296 1446.63,479.164 1443.66,477.061 1440.67,474.989 1437.65,472.946 1434.62,470.933 \n  1431.57,468.951 1428.49,467 1425.4,465.08 1422.29,463.19 1419.16,461.332 1416.01,459.505 1412.85,457.709 1409.66,455.946 1406.46,454.214 1403.24,452.515 \n  1400.01,450.847 1396.75,449.212 1393.49,447.61 1390.2,446.041 1386.9,444.504 1383.59,443.001 1380.26,441.53 1376.91,440.093 1373.55,438.69 1370.18,437.32 \n  1366.8,435.984 1363.4,434.682 1359.98,433.415 1356.56,432.181 1353.12,430.981 1349.67,429.816 1346.21,428.686 1342.74,427.59 1339.26,426.529 1335.77,425.503 \n  1332.27,424.511 1328.75,423.555 1325.23,422.634 1321.7,421.749 1318.16,420.898 1314.62,420.083 1311.06,419.304 1307.5,418.56 1303.93,417.852 1300.35,417.179 \n  1296.76,416.543 1293.17,415.942 1289.58,415.377 1285.98,414.848 1282.37,414.356 1278.76,413.899 1275.14,413.478 1271.52,413.094 1267.9,412.746 1264.27,412.434 \n  1260.64,412.158 1257.01,411.919 1253.38,411.716 1249.74,411.549 1246.1,411.419 1242.47,411.325 1238.83,411.268 1235.19,411.247 1231.55,411.262 1227.91,411.314 \n  1224.27,411.402 1220.63,411.526 1216.99,411.687 1213.36,411.884 1209.73,412.118 1206.1,412.388 1202.47,412.694 1198.85,413.036 1195.22,413.415 1191.61,413.83 \n  1188,414.281 1184.39,414.768 1180.79,415.291 1177.19,415.85 1173.6,416.445 1170.01,417.076 1166.44,417.742 1162.86,418.445 1159.3,419.183 1155.74,419.957 \n  1152.19,420.766 1148.65,421.611 1145.12,422.491 1141.6,423.406 1138.08,424.357 1134.58,425.342 1131.09,426.363 1127.6,427.419 1124.13,428.509 1120.67,429.634 \n  1117.22,430.793 1113.78,431.987 1110.35,433.216 1106.94,434.478 1103.54,435.775 1100.15,437.105 1096.77,438.47 1093.41,439.868 1090.07,441.299 1086.74,442.764 \n  1083.42,444.262 1080.12,445.794 1076.83,447.358 1073.56,448.955 1070.3,450.585 1067.06,452.247 1063.84,453.941 1060.64,455.668 1057.45,457.426 1054.28,459.217 \n  1051.13,461.039 1048,462.892 1044.88,464.777 1041.79,466.692 1038.71,468.639 1035.66,470.616 1032.62,472.623 1029.6,474.661 1026.61,476.729 1023.63,478.827 \n  1020.68,480.954 1017.75,483.111 1014.84,485.297 1011.95,487.512 1009.08,489.756 1006.24,492.028 1003.42,494.329 1000.62,496.658 997.847,499.015 995.097,501.399 \n  992.37,503.81 989.668,506.249 986.99,508.715 984.337,511.207 981.709,513.726 979.107,516.271 976.53,518.842 973.979,521.438 971.454,524.06 968.955,526.707 \n  966.483,529.379 964.038,532.075 961.62,534.796 959.229,537.541 956.866,540.309 954.53,543.101 952.223,545.916 949.944,548.754 947.693,551.615 945.471,554.498 \n  943.278,557.404 941.114,560.331 938.98,563.279 936.875,566.249 934.8,569.24 932.755,572.251 930.74,575.282 928.755,578.334 926.802,581.405 924.879,584.496 \n  922.987,587.605 921.126,590.734 919.296,593.881 917.499,597.046 915.732,600.228 913.998,603.429 912.296,606.646 910.626,609.881 908.989,613.131 907.384,616.399 \n  905.812,619.682 904.273,622.98 902.766,626.294 901.294,629.623 899.854,632.966 898.448,636.323 897.076,639.695 895.737,643.08 894.432,646.478 893.162,649.889 \n  891.925,653.312 890.723,656.748 889.555,660.196 888.422,663.655 887.323,667.125 886.259,670.606 885.23,674.098 884.236,677.599 883.277,681.111 882.354,684.632 \n  881.465,688.162 880.612,691.7 879.794,695.247 879.012,698.802 878.265,702.365 877.554,705.935 876.879,709.511 876.24,713.095 875.636,716.684 875.068,720.28 \n  874.537,723.881 874.041,727.487 873.581,731.098 873.158,734.713 872.771,738.333 872.42,741.956 872.105,745.582 871.826,749.211 871.584,752.843 871.378,756.477 \n  871.209,760.113 871.075,763.751 870.979,767.39 870.918,771.029 870.894,774.669 870.907,778.309 870.955,781.949 871.041,785.588 871.162,789.226 871.32,792.862 \n  871.515,796.497 871.745,800.13 872.012,803.76 872.315,807.388 872.655,811.012 873.031,814.632 873.443,818.249 873.891,821.861 874.375,825.469 874.895,829.072 \n  875.451,832.669 876.043,836.26 876.671,839.846 877.335,843.425 878.035,846.997 878.77,850.562 879.541,854.119 880.348,857.669 881.19,861.21 882.067,864.743 \n  882.979,868.267 883.927,871.781 884.91,875.286 885.928,878.781 886.981,882.265 888.068,885.739 889.19,889.201 890.347,892.653 891.538,896.092 892.764,899.52 \n  894.024,902.935 895.318,906.337 896.645,909.726 898.007,913.102 899.402,916.464 900.831,919.812 902.294,923.145 903.789,926.464 905.318,929.767 906.88,933.055 \n  908.474,936.327 910.101,939.584 911.761,942.823 913.453,946.046 915.177,949.252 916.933,952.44 918.72,955.611 920.54,958.764 922.391,961.898 924.273,965.014 \n  926.186,968.111 928.13,971.188 930.104,974.246 932.11,977.284 934.145,980.301 936.211,983.299 938.306,986.275 940.431,989.23 942.586,992.164 944.769,995.076 \n  946.982,997.967 949.224,1000.83 951.494,1003.68 953.792,1006.5 956.119,1009.3 958.473,1012.08 960.855,1014.83 963.265,1017.56 965.701,1020.26 968.165,1022.94 \n  970.655,1025.6 973.172,1028.23 975.715,1030.83 978.283,1033.41 980.878,1035.96 983.498,1038.49 986.143,1040.99 988.812,1043.47 991.507,1045.91 994.226,1048.33 \n  996.968,1050.73 999.735,1053.09 1002.53,1055.43 1005.34,1057.74 1008.17,1060.02 1011.03,1062.27 1013.92,1064.5 1016.82,1066.69 1019.74,1068.86 1022.69,1071 \n  1025.66,1073.1 1028.65,1075.18 1031.66,1077.23 1034.69,1079.25 1037.74,1081.23 1040.81,1083.19 1043.9,1085.11 1047,1087.01 1050.13,1088.87 1053.28,1090.7 \n  1056.44,1092.5 1059.62,1094.27 1062.82,1096.01 1066.04,1097.71 1069.27,1099.39 1072.52,1101.03 1075.79,1102.63 1079.07,1104.21 1082.36,1105.75 1085.68,1107.26 \n  1089,1108.74 1092.35,1110.18 1095.7,1111.59 1099.07,1112.96 1102.46,1114.3 1105.85,1115.61 1109.26,1116.88 1112.69,1118.12 1116.12,1119.33 1119.57,1120.5 \n  1123.03,1121.63 1126.5,1122.74 1129.98,1123.8 1133.47,1124.83 1136.97,1125.83 1140.48,1126.79 1144,1127.72 1147.53,1128.61 1151.07,1129.47 1154.61,1130.29 \n  1158.17,1131.07 1161.73,1131.82 1165.3,1132.54 1168.87,1133.21 1172.46,1133.86 1176.05,1134.46 1179.64,1135.03 1183.24,1135.57 1186.85,1136.07 1190.46,1136.53 \n  1194.07,1136.95 1197.69,1137.35 1201.31,1137.7 1204.94,1138.02 1208.57,1138.3 1212.2,1138.54 1215.84,1138.75 1219.47,1138.92 1223.11,1139.06 1226.75,1139.16 \n  1230.39,1139.22 1234.03,1139.25 1237.67,1139.24 1241.31,1139.19 1244.95,1139.11 1248.58,1138.99 1252.22,1138.84 1255.86,1138.65 1259.49,1138.42 1263.12,1138.16 \n  1266.75,1137.86 1270.37,1137.52 1273.99,1137.15 1277.61,1136.74 1281.22,1136.29 1284.83,1135.81 1288.43,1135.29 1292.03,1134.74 1295.62,1134.15 1299.21,1133.53 \n  1302.79,1132.86 1306.36,1132.17 1309.93,1131.43 1313.48,1130.67 1317.03,1129.86 1320.58,1129.02 1324.11,1128.15 1327.63,1127.24 1331.15,1126.29 1334.65,1125.31 \n  1338.15,1124.3 1341.64,1123.25 1345.11,1122.16 1348.57,1121.05 1352.03,1119.89 1355.47,1118.7 1358.89,1117.48 1362.31,1116.22 1365.71,1114.93 1369.1,1113.61 \n  1372.48,1112.25 1375.84,1110.86 1379.19,1109.43 1382.53,1107.97 1385.85,1106.48 1389.15,1104.95 1392.44,1103.39 1395.71,1101.8 1398.97,1100.17 1402.21,1098.52 \n  1405.44,1096.83 1408.64,1095.11 1411.83,1093.35 1415.01,1091.57 1418.16,1089.75 1421.3,1087.9 1424.41,1086.02 1427.51,1084.11 1430.59,1082.17 1433.65,1080.2 \n  1436.69,1078.2 1439.71,1076.16 1442.71,1074.1 1445.69,1072.01 1448.64,1069.88 1451.58,1067.73 1454.49,1065.55 1457.38,1063.34 1460.25,1061.1 1463.1,1058.83 \n  1465.93,1056.54 1468.73,1054.21 1471.51,1051.86 1474.26,1049.48 1476.99,1047.07 1479.7,1044.64 1482.38,1042.18 1485.03,1039.69 1487.67,1037.17 1490.27,1034.63 \n  1492.85,1032.07 1495.41,1029.47 1497.94,1026.86 1500.44,1024.21 1502.92,1021.55 1505.37,1018.85 1507.79,1016.14 1510.18,1013.4 1512.55,1010.63 1514.89,1007.84 \n  1517.2,1005.03 1519.49,1002.2 1521.74,999.34 1523.97,996.46 1526.17,993.558 1528.34,990.635 1530.47,987.69 1532.58,984.723 1534.66,981.736 1536.71,978.728 \n  1538.73,975.7 1540.72,972.651 1542.68,969.583 1544.61,966.496 1546.51,963.389 1548.37,960.264 1550.21,957.12 1552.01,953.958 1553.78,950.778 1555.52,947.58 \n  1557.23,944.365 1558.9,941.134 1560.55,937.885 1562.16,934.621 1563.73,931.34 1565.28,928.044 1566.79,924.733 1568.27,921.406 1569.71,918.065 1571.12,914.71 \n  1572.5,911.341 1573.84,907.958 1575.15,904.562 1576.43,901.153 1577.67,897.732 1578.88,894.298 1580.05,890.852 1581.19,887.395 1582.3,883.926 1583.37,880.447 \n  1584.4,876.957 1585.4,873.457 1586.36,869.947 1587.29,866.428 1588.19,862.899 1589.05,859.362 1589.87,855.816 1590.66,852.262 1591.41,848.701 1592.13,845.132 \n  1592.81,841.557 1593.45,837.974 1594.06,834.386 1594.64,830.791 1595.17,827.191 1595.68,823.586 1596.14,819.975 1596.57,816.361 1596.96,812.742 1597.32,809.12 \n  1597.64,805.494 1597.92,801.865 1598.17,798.233 1598.38,794.599 1598.56,790.964 1598.7,787.326 1598.8,783.688 1598.87,780.048 1598.9,776.408 \n  \"/>\n<polyline clip-path=\"url(#clip02)\" style=\"stroke:#0000ff; stroke-width:3.2; stroke-opacity:1; fill:none\" stroke-dasharray=\"13, 8\" points=\"\n  1234.9,775.249 1234.9,775.249 \n  \n  \n  \n  \n  \n  \n  \n  \n  \n  \n  \n  \n  \n  \n  \n  \n  \n  \n  \n  \n  \n  \n  \n  \n  \n  \n  \n  \n  \n  \n  \n  \n  \n  \n  \n  \n  \n  \n  \n  \n  \n  \n  \n  \n  \n  \n  \n  \n  \n  \n  \n  \n  \n  \n  \n  \n  \n  \n  \n  \n  \n  \n  \"/>\n<polyline clip-path=\"url(#clip02)\" style=\"stroke:#ff00ff; stroke-width:12.8; stroke-opacity:1; fill:none\" points=\"\n  1234.9,775.249 1234.9,775.249 \n  \"/>\n<polyline clip-path=\"url(#clip02)\" style=\"stroke:#ff00ff; stroke-width:12.8; stroke-opacity:1; fill:none\" points=\"\n  1234.9,775.249 1598.87,779.832 \n  \"/>\n<circle clip-path=\"url(#clip02)\" style=\"fill:#00002d; stroke:none; fill-opacity:1\" cx=\"1234.9\" cy=\"775.249\" r=\"14\"/>\n<circle clip-path=\"url(#clip02)\" style=\"fill:#ff5d5d; stroke:none; fill-opacity:1\" cx=\"1234.9\" cy=\"775.249\" r=\"11\"/>\n</svg>\n"
           },
           "type": "node"
          }
         ],
         "instanceArgs": {
          "handlers": {
           "obs-output": [
            "function (value, scope) {\n    scope.setInnerHTML(value);\n}\n"
           ]
          },
          "id": "scope-7d13a59b-691d-40da-b65c-93f2587aad81",
          "imports": {
           "data": [],
           "type": "async_block"
          },
          "mount_callbacks": [],
          "observables": {
           "obs-output": {
            "id": "ob_41",
            "sync": false,
            "value": "<?xml version=\"1.0\" encoding=\"utf-8\"?>\n<svg xmlns=\"http://www.w3.org/2000/svg\" xmlns:xlink=\"http://www.w3.org/1999/xlink\" width=\"2400\" height=\"1600\" viewBox=\"0 0 2400 1600\">\n<defs>\n  <clipPath id=\"clip00\">\n    <rect x=\"0\" y=\"0\" width=\"2400\" height=\"1600\"/>\n  </clipPath>\n</defs>\n<polygon clip-path=\"url(#clip00)\" points=\"\n0,1600 2400,1600 2400,0 0,0 \n  \" fill=\"#ffffff\" fill-opacity=\"1\"/>\n<defs>\n  <clipPath id=\"clip01\">\n    <rect x=\"480\" y=\"0\" width=\"1681\" height=\"1600\"/>\n  </clipPath>\n</defs>\n<polygon clip-path=\"url(#clip00)\" points=\"\n506.891,1503.25 1962.9,1503.25 1962.9,47.2441 506.891,47.2441 \n  \" fill=\"#ffffff\" fill-opacity=\"1\"/>\n<defs>\n  <clipPath id=\"clip02\">\n    <rect x=\"506\" y=\"47\" width=\"1457\" height=\"1457\"/>\n  </clipPath>\n</defs>\n<polyline clip-path=\"url(#clip02)\" style=\"stroke:#00002d; stroke-width:1.6; stroke-opacity:0.1; fill:none\" points=\"\n  506.891,1503.25 506.891,47.2441 \n  \"/>\n<polyline clip-path=\"url(#clip02)\" style=\"stroke:#00002d; stroke-width:1.6; stroke-opacity:0.1; fill:none\" points=\"\n  870.894,1503.25 870.894,47.2441 \n  \"/>\n<polyline clip-path=\"url(#clip02)\" style=\"stroke:#00002d; stroke-width:1.6; stroke-opacity:0.1; fill:none\" points=\"\n  1234.9,1503.25 1234.9,47.2441 \n  \"/>\n<polyline clip-path=\"url(#clip02)\" style=\"stroke:#00002d; stroke-width:1.6; stroke-opacity:0.1; fill:none\" points=\"\n  1598.9,1503.25 1598.9,47.2441 \n  \"/>\n<polyline clip-path=\"url(#clip02)\" style=\"stroke:#00002d; stroke-width:1.6; stroke-opacity:0.1; fill:none\" points=\"\n  1962.9,1503.25 1962.9,47.2441 \n  \"/>\n<polyline clip-path=\"url(#clip02)\" style=\"stroke:#00002d; stroke-width:1.6; stroke-opacity:0.1; fill:none\" points=\"\n  506.891,1503.25 1962.9,1503.25 \n  \"/>\n<polyline clip-path=\"url(#clip02)\" style=\"stroke:#00002d; stroke-width:1.6; stroke-opacity:0.1; fill:none\" points=\"\n  506.891,1139.25 1962.9,1139.25 \n  \"/>\n<polyline clip-path=\"url(#clip02)\" style=\"stroke:#00002d; stroke-width:1.6; stroke-opacity:0.1; fill:none\" points=\"\n  506.891,775.249 1962.9,775.249 \n  \"/>\n<polyline clip-path=\"url(#clip02)\" style=\"stroke:#00002d; stroke-width:1.6; stroke-opacity:0.1; fill:none\" points=\"\n  506.891,411.247 1962.9,411.247 \n  \"/>\n<polyline clip-path=\"url(#clip02)\" style=\"stroke:#00002d; stroke-width:1.6; stroke-opacity:0.1; fill:none\" points=\"\n  506.891,47.2441 1962.9,47.2441 \n  \"/>\n<polyline clip-path=\"url(#clip00)\" style=\"stroke:#00002d; stroke-width:3.2; stroke-opacity:1; fill:none\" points=\"\n  506.891,1503.25 1962.9,1503.25 \n  \"/>\n<polyline clip-path=\"url(#clip00)\" style=\"stroke:#00002d; stroke-width:3.2; stroke-opacity:1; fill:none\" points=\"\n  506.891,1503.25 506.891,47.2441 \n  \"/>\n<polyline clip-path=\"url(#clip00)\" style=\"stroke:#00002d; stroke-width:3.2; stroke-opacity:1; fill:none\" points=\"\n  506.891,1503.25 506.891,1481.41 \n  \"/>\n<polyline clip-path=\"url(#clip00)\" style=\"stroke:#00002d; stroke-width:3.2; stroke-opacity:1; fill:none\" points=\"\n  870.894,1503.25 870.894,1481.41 \n  \"/>\n<polyline clip-path=\"url(#clip00)\" style=\"stroke:#00002d; stroke-width:3.2; stroke-opacity:1; fill:none\" points=\"\n  1234.9,1503.25 1234.9,1481.41 \n  \"/>\n<polyline clip-path=\"url(#clip00)\" style=\"stroke:#00002d; stroke-width:3.2; stroke-opacity:1; fill:none\" points=\"\n  1598.9,1503.25 1598.9,1481.41 \n  \"/>\n<polyline clip-path=\"url(#clip00)\" style=\"stroke:#00002d; stroke-width:3.2; stroke-opacity:1; fill:none\" points=\"\n  1962.9,1503.25 1962.9,1481.41 \n  \"/>\n<polyline clip-path=\"url(#clip00)\" style=\"stroke:#00002d; stroke-width:3.2; stroke-opacity:1; fill:none\" points=\"\n  506.891,1503.25 528.732,1503.25 \n  \"/>\n<polyline clip-path=\"url(#clip00)\" style=\"stroke:#00002d; stroke-width:3.2; stroke-opacity:1; fill:none\" points=\"\n  506.891,1139.25 528.732,1139.25 \n  \"/>\n<polyline clip-path=\"url(#clip00)\" style=\"stroke:#00002d; stroke-width:3.2; stroke-opacity:1; fill:none\" points=\"\n  506.891,775.249 528.732,775.249 \n  \"/>\n<polyline clip-path=\"url(#clip00)\" style=\"stroke:#00002d; stroke-width:3.2; stroke-opacity:1; fill:none\" points=\"\n  506.891,411.247 528.732,411.247 \n  \"/>\n<polyline clip-path=\"url(#clip00)\" style=\"stroke:#00002d; stroke-width:3.2; stroke-opacity:1; fill:none\" points=\"\n  506.891,47.2441 528.732,47.2441 \n  \"/>\n<g clip-path=\"url(#clip00)\">\n<text style=\"fill:#00002d; fill-opacity:1; font-family:Arial,Helvetica Neue,Helvetica,sans-serif; font-size:48; text-anchor:middle;\" transform=\"rotate(0, 506.891, 1557.25)\" x=\"506.891\" y=\"1557.25\">-2</text>\n</g>\n<g clip-path=\"url(#clip00)\">\n<text style=\"fill:#00002d; fill-opacity:1; font-family:Arial,Helvetica Neue,Helvetica,sans-serif; font-size:48; text-anchor:middle;\" transform=\"rotate(0, 870.894, 1557.25)\" x=\"870.894\" y=\"1557.25\">-1</text>\n</g>\n<g clip-path=\"url(#clip00)\">\n<text style=\"fill:#00002d; fill-opacity:1; font-family:Arial,Helvetica Neue,Helvetica,sans-serif; font-size:48; text-anchor:middle;\" transform=\"rotate(0, 1234.9, 1557.25)\" x=\"1234.9\" y=\"1557.25\">0</text>\n</g>\n<g clip-path=\"url(#clip00)\">\n<text style=\"fill:#00002d; fill-opacity:1; font-family:Arial,Helvetica Neue,Helvetica,sans-serif; font-size:48; text-anchor:middle;\" transform=\"rotate(0, 1598.9, 1557.25)\" x=\"1598.9\" y=\"1557.25\">1</text>\n</g>\n<g clip-path=\"url(#clip00)\">\n<text style=\"fill:#00002d; fill-opacity:1; font-family:Arial,Helvetica Neue,Helvetica,sans-serif; font-size:48; text-anchor:middle;\" transform=\"rotate(0, 1962.9, 1557.25)\" x=\"1962.9\" y=\"1557.25\">2</text>\n</g>\n<g clip-path=\"url(#clip00)\">\n<text style=\"fill:#00002d; fill-opacity:1; font-family:Arial,Helvetica Neue,Helvetica,sans-serif; font-size:48; text-anchor:end;\" transform=\"rotate(0, 482.891, 1520.75)\" x=\"482.891\" y=\"1520.75\">-2</text>\n</g>\n<g clip-path=\"url(#clip00)\">\n<text style=\"fill:#00002d; fill-opacity:1; font-family:Arial,Helvetica Neue,Helvetica,sans-serif; font-size:48; text-anchor:end;\" transform=\"rotate(0, 482.891, 1156.75)\" x=\"482.891\" y=\"1156.75\">-1</text>\n</g>\n<g clip-path=\"url(#clip00)\">\n<text style=\"fill:#00002d; fill-opacity:1; font-family:Arial,Helvetica Neue,Helvetica,sans-serif; font-size:48; text-anchor:end;\" transform=\"rotate(0, 482.891, 792.749)\" x=\"482.891\" y=\"792.749\">0</text>\n</g>\n<g clip-path=\"url(#clip00)\">\n<text style=\"fill:#00002d; fill-opacity:1; font-family:Arial,Helvetica Neue,Helvetica,sans-serif; font-size:48; text-anchor:end;\" transform=\"rotate(0, 482.891, 428.747)\" x=\"482.891\" y=\"428.747\">1</text>\n</g>\n<g clip-path=\"url(#clip00)\">\n<text style=\"fill:#00002d; fill-opacity:1; font-family:Arial,Helvetica Neue,Helvetica,sans-serif; font-size:48; text-anchor:end;\" transform=\"rotate(0, 482.891, 64.7441)\" x=\"482.891\" y=\"64.7441\">2</text>\n</g>\n<polyline clip-path=\"url(#clip02)\" style=\"stroke:#008100; stroke-width:6.4; stroke-opacity:1; fill:none\" points=\"\n  1234.9,775.249 1598.87,779.832 \n  \"/>\n<polyline clip-path=\"url(#clip02)\" style=\"stroke:#008100; stroke-width:6.4; stroke-opacity:1; fill:none\" points=\"\n  1563.1,761.38 1598.87,779.832 1562.65,797.377 \n  \"/>\n<polyline clip-path=\"url(#clip02)\" style=\"stroke:#008100; stroke-width:6.4; stroke-opacity:1; fill:none\" points=\"\n  1598.87,779.832 1234.9,775.249 \n  \"/>\n<polyline clip-path=\"url(#clip02)\" style=\"stroke:#0000ff; stroke-width:9.6; stroke-opacity:1; fill:none\" points=\"\n  1234.9,775.249 1234.9,775.249 \n  \"/>\n<polyline clip-path=\"url(#clip02)\" style=\"stroke:#0000ff; stroke-width:9.6; stroke-opacity:1; fill:none\" points=\"\n  nan,nan nan,nan nan,nan \n  \"/>\n<polyline clip-path=\"url(#clip02)\" style=\"stroke:#0000ff; stroke-width:9.6; stroke-opacity:1; fill:none\" points=\"\n  nan,nan nan,nan \n  \"/>\n<polyline clip-path=\"url(#clip02)\" style=\"stroke:#008100; stroke-width:3.2; stroke-opacity:1; fill:none\" stroke-dasharray=\"13, 8\" points=\"\n  1598.9,775.249 1598.88,771.609 1598.83,767.969 1598.73,764.331 1598.61,760.693 1598.44,757.056 1598.24,753.422 1598.01,749.79 1597.73,746.16 1597.43,742.533 \n  1597.08,738.909 1596.7,735.289 1596.28,731.673 1595.83,728.062 1595.34,724.455 1594.81,720.853 1594.25,717.257 1593.65,713.666 1593.02,710.082 1592.35,706.504 \n  1591.64,702.933 1590.9,699.369 1590.13,695.813 1589.31,692.265 1588.47,688.725 1587.58,685.193 1586.66,681.671 1585.71,678.158 1584.72,674.655 1583.7,671.162 \n  1582.64,667.679 1581.55,664.207 1580.42,660.746 1579.26,657.296 1578.06,653.859 1576.83,650.433 1575.56,647.02 1574.27,643.62 1572.93,640.233 1571.57,636.859 \n  1570.16,633.5 1568.73,630.154 1567.26,626.823 1565.76,623.507 1564.23,620.206 1562.66,616.92 1561.06,613.651 1559.43,610.397 1557.76,607.16 1556.07,603.94 \n  1554.34,600.737 1552.58,597.551 1550.78,594.383 1548.96,591.234 1547.1,588.102 1545.22,584.99 1543.3,581.896 1541.35,578.822 1539.37,575.767 1537.36,572.732 \n  1535.32,569.718 1533.25,566.724 1531.15,563.751 1529.02,560.799 1526.86,557.868 1524.67,554.96 1522.46,552.073 1520.21,549.209 1517.93,546.367 1515.63,543.548 \n  1513.3,540.752 1510.94,537.98 1508.56,535.231 1506.14,532.507 1503.7,529.807 1501.23,527.131 1498.74,524.48 1496.22,521.854 1493.67,519.254 1491.1,516.679 \n  1488.5,514.13 1485.88,511.607 1483.23,509.11 1480.55,506.64 1477.85,504.197 1475.13,501.781 1472.39,499.392 1469.61,497.031 1466.82,494.698 1464,492.393 \n  1461.16,490.116 1458.3,487.868 1455.42,485.648 1452.51,483.457 1449.58,481.296 1446.63,479.164 1443.66,477.061 1440.67,474.989 1437.65,472.946 1434.62,470.933 \n  1431.57,468.951 1428.49,467 1425.4,465.08 1422.29,463.19 1419.16,461.332 1416.01,459.505 1412.85,457.709 1409.66,455.946 1406.46,454.214 1403.24,452.515 \n  1400.01,450.847 1396.75,449.212 1393.49,447.61 1390.2,446.041 1386.9,444.504 1383.59,443.001 1380.26,441.53 1376.91,440.093 1373.55,438.69 1370.18,437.32 \n  1366.8,435.984 1363.4,434.682 1359.98,433.415 1356.56,432.181 1353.12,430.981 1349.67,429.816 1346.21,428.686 1342.74,427.59 1339.26,426.529 1335.77,425.503 \n  1332.27,424.511 1328.75,423.555 1325.23,422.634 1321.7,421.749 1318.16,420.898 1314.62,420.083 1311.06,419.304 1307.5,418.56 1303.93,417.852 1300.35,417.179 \n  1296.76,416.543 1293.17,415.942 1289.58,415.377 1285.98,414.848 1282.37,414.356 1278.76,413.899 1275.14,413.478 1271.52,413.094 1267.9,412.746 1264.27,412.434 \n  1260.64,412.158 1257.01,411.919 1253.38,411.716 1249.74,411.549 1246.1,411.419 1242.47,411.325 1238.83,411.268 1235.19,411.247 1231.55,411.262 1227.91,411.314 \n  1224.27,411.402 1220.63,411.526 1216.99,411.687 1213.36,411.884 1209.73,412.118 1206.1,412.388 1202.47,412.694 1198.85,413.036 1195.22,413.415 1191.61,413.83 \n  1188,414.281 1184.39,414.768 1180.79,415.291 1177.19,415.85 1173.6,416.445 1170.01,417.076 1166.44,417.742 1162.86,418.445 1159.3,419.183 1155.74,419.957 \n  1152.19,420.766 1148.65,421.611 1145.12,422.491 1141.6,423.406 1138.08,424.357 1134.58,425.342 1131.09,426.363 1127.6,427.419 1124.13,428.509 1120.67,429.634 \n  1117.22,430.793 1113.78,431.987 1110.35,433.216 1106.94,434.478 1103.54,435.775 1100.15,437.105 1096.77,438.47 1093.41,439.868 1090.07,441.299 1086.74,442.764 \n  1083.42,444.262 1080.12,445.794 1076.83,447.358 1073.56,448.955 1070.3,450.585 1067.06,452.247 1063.84,453.941 1060.64,455.668 1057.45,457.426 1054.28,459.217 \n  1051.13,461.039 1048,462.892 1044.88,464.777 1041.79,466.692 1038.71,468.639 1035.66,470.616 1032.62,472.623 1029.6,474.661 1026.61,476.729 1023.63,478.827 \n  1020.68,480.954 1017.75,483.111 1014.84,485.297 1011.95,487.512 1009.08,489.756 1006.24,492.028 1003.42,494.329 1000.62,496.658 997.847,499.015 995.097,501.399 \n  992.37,503.81 989.668,506.249 986.99,508.715 984.337,511.207 981.709,513.726 979.107,516.271 976.53,518.842 973.979,521.438 971.454,524.06 968.955,526.707 \n  966.483,529.379 964.038,532.075 961.62,534.796 959.229,537.541 956.866,540.309 954.53,543.101 952.223,545.916 949.944,548.754 947.693,551.615 945.471,554.498 \n  943.278,557.404 941.114,560.331 938.98,563.279 936.875,566.249 934.8,569.24 932.755,572.251 930.74,575.282 928.755,578.334 926.802,581.405 924.879,584.496 \n  922.987,587.605 921.126,590.734 919.296,593.881 917.499,597.046 915.732,600.228 913.998,603.429 912.296,606.646 910.626,609.881 908.989,613.131 907.384,616.399 \n  905.812,619.682 904.273,622.98 902.766,626.294 901.294,629.623 899.854,632.966 898.448,636.323 897.076,639.695 895.737,643.08 894.432,646.478 893.162,649.889 \n  891.925,653.312 890.723,656.748 889.555,660.196 888.422,663.655 887.323,667.125 886.259,670.606 885.23,674.098 884.236,677.599 883.277,681.111 882.354,684.632 \n  881.465,688.162 880.612,691.7 879.794,695.247 879.012,698.802 878.265,702.365 877.554,705.935 876.879,709.511 876.24,713.095 875.636,716.684 875.068,720.28 \n  874.537,723.881 874.041,727.487 873.581,731.098 873.158,734.713 872.771,738.333 872.42,741.956 872.105,745.582 871.826,749.211 871.584,752.843 871.378,756.477 \n  871.209,760.113 871.075,763.751 870.979,767.39 870.918,771.029 870.894,774.669 870.907,778.309 870.955,781.949 871.041,785.588 871.162,789.226 871.32,792.862 \n  871.515,796.497 871.745,800.13 872.012,803.76 872.315,807.388 872.655,811.012 873.031,814.632 873.443,818.249 873.891,821.861 874.375,825.469 874.895,829.072 \n  875.451,832.669 876.043,836.26 876.671,839.846 877.335,843.425 878.035,846.997 878.77,850.562 879.541,854.119 880.348,857.669 881.19,861.21 882.067,864.743 \n  882.979,868.267 883.927,871.781 884.91,875.286 885.928,878.781 886.981,882.265 888.068,885.739 889.19,889.201 890.347,892.653 891.538,896.092 892.764,899.52 \n  894.024,902.935 895.318,906.337 896.645,909.726 898.007,913.102 899.402,916.464 900.831,919.812 902.294,923.145 903.789,926.464 905.318,929.767 906.88,933.055 \n  908.474,936.327 910.101,939.584 911.761,942.823 913.453,946.046 915.177,949.252 916.933,952.44 918.72,955.611 920.54,958.764 922.391,961.898 924.273,965.014 \n  926.186,968.111 928.13,971.188 930.104,974.246 932.11,977.284 934.145,980.301 936.211,983.299 938.306,986.275 940.431,989.23 942.586,992.164 944.769,995.076 \n  946.982,997.967 949.224,1000.83 951.494,1003.68 953.792,1006.5 956.119,1009.3 958.473,1012.08 960.855,1014.83 963.265,1017.56 965.701,1020.26 968.165,1022.94 \n  970.655,1025.6 973.172,1028.23 975.715,1030.83 978.283,1033.41 980.878,1035.96 983.498,1038.49 986.143,1040.99 988.812,1043.47 991.507,1045.91 994.226,1048.33 \n  996.968,1050.73 999.735,1053.09 1002.53,1055.43 1005.34,1057.74 1008.17,1060.02 1011.03,1062.27 1013.92,1064.5 1016.82,1066.69 1019.74,1068.86 1022.69,1071 \n  1025.66,1073.1 1028.65,1075.18 1031.66,1077.23 1034.69,1079.25 1037.74,1081.23 1040.81,1083.19 1043.9,1085.11 1047,1087.01 1050.13,1088.87 1053.28,1090.7 \n  1056.44,1092.5 1059.62,1094.27 1062.82,1096.01 1066.04,1097.71 1069.27,1099.39 1072.52,1101.03 1075.79,1102.63 1079.07,1104.21 1082.36,1105.75 1085.68,1107.26 \n  1089,1108.74 1092.35,1110.18 1095.7,1111.59 1099.07,1112.96 1102.46,1114.3 1105.85,1115.61 1109.26,1116.88 1112.69,1118.12 1116.12,1119.33 1119.57,1120.5 \n  1123.03,1121.63 1126.5,1122.74 1129.98,1123.8 1133.47,1124.83 1136.97,1125.83 1140.48,1126.79 1144,1127.72 1147.53,1128.61 1151.07,1129.47 1154.61,1130.29 \n  1158.17,1131.07 1161.73,1131.82 1165.3,1132.54 1168.87,1133.21 1172.46,1133.86 1176.05,1134.46 1179.64,1135.03 1183.24,1135.57 1186.85,1136.07 1190.46,1136.53 \n  1194.07,1136.95 1197.69,1137.35 1201.31,1137.7 1204.94,1138.02 1208.57,1138.3 1212.2,1138.54 1215.84,1138.75 1219.47,1138.92 1223.11,1139.06 1226.75,1139.16 \n  1230.39,1139.22 1234.03,1139.25 1237.67,1139.24 1241.31,1139.19 1244.95,1139.11 1248.58,1138.99 1252.22,1138.84 1255.86,1138.65 1259.49,1138.42 1263.12,1138.16 \n  1266.75,1137.86 1270.37,1137.52 1273.99,1137.15 1277.61,1136.74 1281.22,1136.29 1284.83,1135.81 1288.43,1135.29 1292.03,1134.74 1295.62,1134.15 1299.21,1133.53 \n  1302.79,1132.86 1306.36,1132.17 1309.93,1131.43 1313.48,1130.67 1317.03,1129.86 1320.58,1129.02 1324.11,1128.15 1327.63,1127.24 1331.15,1126.29 1334.65,1125.31 \n  1338.15,1124.3 1341.64,1123.25 1345.11,1122.16 1348.57,1121.05 1352.03,1119.89 1355.47,1118.7 1358.89,1117.48 1362.31,1116.22 1365.71,1114.93 1369.1,1113.61 \n  1372.48,1112.25 1375.84,1110.86 1379.19,1109.43 1382.53,1107.97 1385.85,1106.48 1389.15,1104.95 1392.44,1103.39 1395.71,1101.8 1398.97,1100.17 1402.21,1098.52 \n  1405.44,1096.83 1408.64,1095.11 1411.83,1093.35 1415.01,1091.57 1418.16,1089.75 1421.3,1087.9 1424.41,1086.02 1427.51,1084.11 1430.59,1082.17 1433.65,1080.2 \n  1436.69,1078.2 1439.71,1076.16 1442.71,1074.1 1445.69,1072.01 1448.64,1069.88 1451.58,1067.73 1454.49,1065.55 1457.38,1063.34 1460.25,1061.1 1463.1,1058.83 \n  1465.93,1056.54 1468.73,1054.21 1471.51,1051.86 1474.26,1049.48 1476.99,1047.07 1479.7,1044.64 1482.38,1042.18 1485.03,1039.69 1487.67,1037.17 1490.27,1034.63 \n  1492.85,1032.07 1495.41,1029.47 1497.94,1026.86 1500.44,1024.21 1502.92,1021.55 1505.37,1018.85 1507.79,1016.14 1510.18,1013.4 1512.55,1010.63 1514.89,1007.84 \n  1517.2,1005.03 1519.49,1002.2 1521.74,999.34 1523.97,996.46 1526.17,993.558 1528.34,990.635 1530.47,987.69 1532.58,984.723 1534.66,981.736 1536.71,978.728 \n  1538.73,975.7 1540.72,972.651 1542.68,969.583 1544.61,966.496 1546.51,963.389 1548.37,960.264 1550.21,957.12 1552.01,953.958 1553.78,950.778 1555.52,947.58 \n  1557.23,944.365 1558.9,941.134 1560.55,937.885 1562.16,934.621 1563.73,931.34 1565.28,928.044 1566.79,924.733 1568.27,921.406 1569.71,918.065 1571.12,914.71 \n  1572.5,911.341 1573.84,907.958 1575.15,904.562 1576.43,901.153 1577.67,897.732 1578.88,894.298 1580.05,890.852 1581.19,887.395 1582.3,883.926 1583.37,880.447 \n  1584.4,876.957 1585.4,873.457 1586.36,869.947 1587.29,866.428 1588.19,862.899 1589.05,859.362 1589.87,855.816 1590.66,852.262 1591.41,848.701 1592.13,845.132 \n  1592.81,841.557 1593.45,837.974 1594.06,834.386 1594.64,830.791 1595.17,827.191 1595.68,823.586 1596.14,819.975 1596.57,816.361 1596.96,812.742 1597.32,809.12 \n  1597.64,805.494 1597.92,801.865 1598.17,798.233 1598.38,794.599 1598.56,790.964 1598.7,787.326 1598.8,783.688 1598.87,780.048 1598.9,776.408 \n  \"/>\n<polyline clip-path=\"url(#clip02)\" style=\"stroke:#0000ff; stroke-width:3.2; stroke-opacity:1; fill:none\" stroke-dasharray=\"13, 8\" points=\"\n  1234.9,775.249 1234.9,775.249 \n  \n  \n  \n  \n  \n  \n  \n  \n  \n  \n  \n  \n  \n  \n  \n  \n  \n  \n  \n  \n  \n  \n  \n  \n  \n  \n  \n  \n  \n  \n  \n  \n  \n  \n  \n  \n  \n  \n  \n  \n  \n  \n  \n  \n  \n  \n  \n  \n  \n  \n  \n  \n  \n  \n  \n  \n  \n  \n  \n  \n  \n  \n  \"/>\n<polyline clip-path=\"url(#clip02)\" style=\"stroke:#ff00ff; stroke-width:12.8; stroke-opacity:1; fill:none\" points=\"\n  1234.9,775.249 1234.9,775.249 \n  \"/>\n<polyline clip-path=\"url(#clip02)\" style=\"stroke:#ff00ff; stroke-width:12.8; stroke-opacity:1; fill:none\" points=\"\n  1234.9,775.249 1598.87,779.832 \n  \"/>\n<circle clip-path=\"url(#clip02)\" style=\"fill:#00002d; stroke:none; fill-opacity:1\" cx=\"1234.9\" cy=\"775.249\" r=\"14\"/>\n<circle clip-path=\"url(#clip02)\" style=\"fill:#ff5d5d; stroke:none; fill-opacity:1\" cx=\"1234.9\" cy=\"775.249\" r=\"11\"/>\n</svg>\n"
           }
          },
          "systemjs_options": null
         },
         "nodeType": "Scope",
         "props": {},
         "type": "node"
        }
       ],
       "instanceArgs": {
        "namespace": "html",
        "tag": "div"
       },
       "nodeType": "DOM",
       "props": {
        "style": {
         "display": "flex",
         "flex-direction": "column"
        }
       },
       "type": "node"
      },
      "text/html": [
       "<div\n",
       "    class=\"webio-mountpoint\"\n",
       "    data-webio-mountpoint=\"15520425507962868918\"\n",
       ">\n",
       "    <script>\n",
       "    if (window.require && require.defined && require.defined(\"nbextensions/webio/main\")) {\n",
       "        console.log(\"Jupyter WebIO extension detected, not mounting.\");\n",
       "    } else if (window.WebIO) {\n",
       "        WebIO.mount(\n",
       "            document.querySelector('[data-webio-mountpoint=\"15520425507962868918\"]'),\n",
       "            {\"props\":{\"style\":{\"display\":\"flex\",\"flex-direction\":\"column\"}},\"nodeType\":\"DOM\",\"type\":\"node\",\"instanceArgs\":{\"namespace\":\"html\",\"tag\":\"div\"},\"children\":[{\"props\":{\"style\":{\"display\":\"flex\",\"flex-direction\":\"column\"}},\"nodeType\":\"DOM\",\"type\":\"node\",\"instanceArgs\":{\"namespace\":\"html\",\"tag\":\"div\"},\"children\":[{\"props\":{\"style\":{\"display\":\"flex\",\"flex-direction\":\"row\"}},\"nodeType\":\"DOM\",\"type\":\"node\",\"instanceArgs\":{\"namespace\":\"html\",\"tag\":\"div\"},\"children\":[{\"props\":{\"className\":\"field interact-widget\"},\"nodeType\":\"DOM\",\"type\":\"node\",\"instanceArgs\":{\"namespace\":\"html\",\"tag\":\"div\"},\"children\":[{\"props\":{},\"nodeType\":\"Scope\",\"type\":\"node\",\"instanceArgs\":{\"imports\":{\"data\":[{\"name\":\"knockout\",\"type\":\"js\",\"url\":\"\\/assetserver\\/f07383ad7ba5d9e293900fdc7e5e611110d6ff32-knockout.js\"},{\"name\":\"knockout_punches\",\"type\":\"js\",\"url\":\"\\/assetserver\\/306cc87ce82e45c3e5eb81524cb970ae2bab3932-knockout_punches.js\"},{\"name\":null,\"type\":\"js\",\"url\":\"\\/assetserver\\/69078235d89420aa60ec07ae908cfcc65b6ecf85-all.js\"},{\"name\":null,\"type\":\"css\",\"url\":\"\\/assetserver\\/98bc206151bf33944d9780fd349511e9eae784a0-style.css\"},{\"name\":null,\"type\":\"css\",\"url\":\"\\/assetserver\\/13615fa9690b1c4388c3fe14db802e442333ebc4-bulma_confined.min.css\"}],\"type\":\"async_block\"},\"id\":\"knockout-component-24c8dad5-b400-4069-baab-4e449bc928ec\",\"handlers\":{\"changes\":[\"(function (val){return (val!=this.model[\\\"changes\\\"]()) ? (this.valueFromJulia[\\\"changes\\\"]=true, this.model[\\\"changes\\\"](val)) : undefined})\"],\"index\":[\"(function (val){return (val!=this.model[\\\"index\\\"]()) ? (this.valueFromJulia[\\\"index\\\"]=true, this.model[\\\"index\\\"](val)) : undefined})\"]},\"systemjs_options\":null,\"mount_callbacks\":[\"function () {\\n    var handler = (function (ko, koPunches) {\\n    ko.punches.enableAll();\\n    ko.bindingHandlers.numericValue = {\\n        init : function(element, valueAccessor, allBindings, data, context) {\\n            var stringified = ko.observable(ko.unwrap(valueAccessor()));\\n            stringified.subscribe(function(value) {\\n                var val = parseFloat(value);\\n                if (!isNaN(val)) {\\n                    valueAccessor()(val);\\n                }\\n            })\\n            valueAccessor().subscribe(function(value) {\\n                var str = JSON.stringify(value);\\n                if ((str == \\\"0\\\") && ([\\\"-0\\\", \\\"-0.\\\"].indexOf(stringified()) >= 0))\\n                     return;\\n                 if ([\\\"null\\\", \\\"\\\"].indexOf(str) >= 0)\\n                     return;\\n                stringified(str);\\n            })\\n            ko.applyBindingsToNode(element, { value: stringified, valueUpdate: allBindings.get('valueUpdate')}, context);\\n        }\\n    };\\n    var json_data = {\\\"formatted_vals\\\":[\\\"-2.0\\\",\\\"-1.9\\\",\\\"-1.8\\\",\\\"-1.7\\\",\\\"-1.6\\\",\\\"-1.5\\\",\\\"-1.4\\\",\\\"-1.3\\\",\\\"-1.2\\\",\\\"-1.1\\\",\\\"-1.0\\\",\\\"-0.9\\\",\\\"-0.8\\\",\\\"-0.7\\\",\\\"-0.6\\\",\\\"-0.5\\\",\\\"-0.4\\\",\\\"-0.3\\\",\\\"-0.2\\\",\\\"-0.1\\\",\\\"0.0\\\",\\\"0.1\\\",\\\"0.2\\\",\\\"0.3\\\",\\\"0.4\\\",\\\"0.5\\\",\\\"0.6\\\",\\\"0.7\\\",\\\"0.8\\\",\\\"0.9\\\",\\\"1.0\\\",\\\"1.1\\\",\\\"1.2\\\",\\\"1.3\\\",\\\"1.4\\\",\\\"1.5\\\",\\\"1.6\\\",\\\"1.7\\\",\\\"1.8\\\",\\\"1.9\\\",\\\"2.0\\\"],\\\"changes\\\":WebIO.getval({\\\"name\\\":\\\"changes\\\",\\\"scope\\\":\\\"knockout-component-24c8dad5-b400-4069-baab-4e449bc928ec\\\",\\\"id\\\":\\\"ob_03\\\",\\\"type\\\":\\\"observable\\\"}),\\\"index\\\":WebIO.getval({\\\"name\\\":\\\"index\\\",\\\"scope\\\":\\\"knockout-component-24c8dad5-b400-4069-baab-4e449bc928ec\\\",\\\"id\\\":\\\"ob_02\\\",\\\"type\\\":\\\"observable\\\"})};\\n    var self = this;\\n    function AppViewModel() {\\n        for (var key in json_data) {\\n            var el = json_data[key];\\n            this[key] = Array.isArray(el) ? ko.observableArray(el) : ko.observable(el);\\n        }\\n        \\n        [this[\\\"formatted_val\\\"]=ko.computed(    function(){\\n        return this.formatted_vals()[parseInt(this.index())-1];\\n    }\\n,this)]\\n        [this[\\\"changes\\\"].subscribe((function (val){!(this.valueFromJulia[\\\"changes\\\"]) ? (WebIO.setval({\\\"name\\\":\\\"changes\\\",\\\"scope\\\":\\\"knockout-component-24c8dad5-b400-4069-baab-4e449bc928ec\\\",\\\"id\\\":\\\"ob_03\\\",\\\"type\\\":\\\"observable\\\"},val)) : undefined; return this.valueFromJulia[\\\"changes\\\"]=false}),self),this[\\\"index\\\"].subscribe((function (val){!(this.valueFromJulia[\\\"index\\\"]) ? (WebIO.setval({\\\"name\\\":\\\"index\\\",\\\"scope\\\":\\\"knockout-component-24c8dad5-b400-4069-baab-4e449bc928ec\\\",\\\"id\\\":\\\"ob_02\\\",\\\"type\\\":\\\"observable\\\"},val)) : undefined; return this.valueFromJulia[\\\"index\\\"]=false}),self)]\\n        \\n    }\\n    self.model = new AppViewModel();\\n    self.valueFromJulia = {};\\n    for (var key in json_data) {\\n        self.valueFromJulia[key] = false;\\n    }\\n    ko.applyBindings(self.model, self.dom);\\n}\\n);\\n    (WebIO.importBlock({\\\"data\\\":[{\\\"name\\\":\\\"knockout\\\",\\\"type\\\":\\\"js\\\",\\\"url\\\":\\\"\\/assetserver\\/f07383ad7ba5d9e293900fdc7e5e611110d6ff32-knockout.js\\\"},{\\\"name\\\":\\\"knockout_punches\\\",\\\"type\\\":\\\"js\\\",\\\"url\\\":\\\"\\/assetserver\\/306cc87ce82e45c3e5eb81524cb970ae2bab3932-knockout_punches.js\\\"}],\\\"type\\\":\\\"async_block\\\"})).then((imports) => handler.apply(this, imports));\\n}\\n\"],\"observables\":{\"changes\":{\"sync\":false,\"id\":\"ob_03\",\"value\":0},\"index\":{\"sync\":true,\"id\":\"ob_02\",\"value\":21}}},\"children\":[{\"props\":{\"className\":\"interact-flex-row interact-widget\"},\"nodeType\":\"DOM\",\"type\":\"node\",\"instanceArgs\":{\"namespace\":\"html\",\"tag\":\"div\"},\"children\":[{\"props\":{\"className\":\"interact-flex-row-left\"},\"nodeType\":\"DOM\",\"type\":\"node\",\"instanceArgs\":{\"namespace\":\"html\",\"tag\":\"div\"},\"children\":[{\"props\":{\"className\":\"interact \",\"style\":{\"padding\":\"5px 10px 0px 10px\"}},\"nodeType\":\"DOM\",\"type\":\"node\",\"instanceArgs\":{\"namespace\":\"html\",\"tag\":\"label\"},\"children\":[\"a\"]}]},{\"props\":{\"className\":\"interact-flex-row-center\"},\"nodeType\":\"DOM\",\"type\":\"node\",\"instanceArgs\":{\"namespace\":\"html\",\"tag\":\"div\"},\"children\":[{\"props\":{\"max\":41,\"min\":1,\"attributes\":{\"type\":\"range\",\"data-bind\":\"numericValue: index, valueUpdate: 'input', event: {change: function (){this.changes(this.changes()+1)}}\",\"orient\":\"horizontal\"},\"step\":1,\"className\":\"slider slider is-fullwidth\",\"style\":{}},\"nodeType\":\"DOM\",\"type\":\"node\",\"instanceArgs\":{\"namespace\":\"html\",\"tag\":\"input\"},\"children\":[]}]},{\"props\":{\"className\":\"interact-flex-row-right\"},\"nodeType\":\"DOM\",\"type\":\"node\",\"instanceArgs\":{\"namespace\":\"html\",\"tag\":\"div\"},\"children\":[{\"props\":{\"attributes\":{\"data-bind\":\"text: formatted_val\"}},\"nodeType\":\"DOM\",\"type\":\"node\",\"instanceArgs\":{\"namespace\":\"html\",\"tag\":\"p\"},\"children\":[]}]}]}]}]},{\"props\":{\"className\":\"field interact-widget\"},\"nodeType\":\"DOM\",\"type\":\"node\",\"instanceArgs\":{\"namespace\":\"html\",\"tag\":\"div\"},\"children\":[{\"props\":{},\"nodeType\":\"Scope\",\"type\":\"node\",\"instanceArgs\":{\"imports\":{\"data\":[{\"name\":\"knockout\",\"type\":\"js\",\"url\":\"\\/assetserver\\/f07383ad7ba5d9e293900fdc7e5e611110d6ff32-knockout.js\"},{\"name\":\"knockout_punches\",\"type\":\"js\",\"url\":\"\\/assetserver\\/306cc87ce82e45c3e5eb81524cb970ae2bab3932-knockout_punches.js\"},{\"name\":null,\"type\":\"js\",\"url\":\"\\/assetserver\\/69078235d89420aa60ec07ae908cfcc65b6ecf85-all.js\"},{\"name\":null,\"type\":\"css\",\"url\":\"\\/assetserver\\/98bc206151bf33944d9780fd349511e9eae784a0-style.css\"},{\"name\":null,\"type\":\"css\",\"url\":\"\\/assetserver\\/13615fa9690b1c4388c3fe14db802e442333ebc4-bulma_confined.min.css\"}],\"type\":\"async_block\"},\"id\":\"knockout-component-45a7001d-ed44-47d9-80ee-8165b2973f6b\",\"handlers\":{\"changes\":[\"(function (val){return (val!=this.model[\\\"changes\\\"]()) ? (this.valueFromJulia[\\\"changes\\\"]=true, this.model[\\\"changes\\\"](val)) : undefined})\"],\"index\":[\"(function (val){return (val!=this.model[\\\"index\\\"]()) ? (this.valueFromJulia[\\\"index\\\"]=true, this.model[\\\"index\\\"](val)) : undefined})\"]},\"systemjs_options\":null,\"mount_callbacks\":[\"function () {\\n    var handler = (function (ko, koPunches) {\\n    ko.punches.enableAll();\\n    ko.bindingHandlers.numericValue = {\\n        init : function(element, valueAccessor, allBindings, data, context) {\\n            var stringified = ko.observable(ko.unwrap(valueAccessor()));\\n            stringified.subscribe(function(value) {\\n                var val = parseFloat(value);\\n                if (!isNaN(val)) {\\n                    valueAccessor()(val);\\n                }\\n            })\\n            valueAccessor().subscribe(function(value) {\\n                var str = JSON.stringify(value);\\n                if ((str == \\\"0\\\") && ([\\\"-0\\\", \\\"-0.\\\"].indexOf(stringified()) >= 0))\\n                     return;\\n                 if ([\\\"null\\\", \\\"\\\"].indexOf(str) >= 0)\\n                     return;\\n                stringified(str);\\n            })\\n            ko.applyBindingsToNode(element, { value: stringified, valueUpdate: allBindings.get('valueUpdate')}, context);\\n        }\\n    };\\n    var json_data = {\\\"formatted_vals\\\":[\\\"-2.0\\\",\\\"-1.9\\\",\\\"-1.8\\\",\\\"-1.7\\\",\\\"-1.6\\\",\\\"-1.5\\\",\\\"-1.4\\\",\\\"-1.3\\\",\\\"-1.2\\\",\\\"-1.1\\\",\\\"-1.0\\\",\\\"-0.9\\\",\\\"-0.8\\\",\\\"-0.7\\\",\\\"-0.6\\\",\\\"-0.5\\\",\\\"-0.4\\\",\\\"-0.3\\\",\\\"-0.2\\\",\\\"-0.1\\\",\\\"0.0\\\",\\\"0.1\\\",\\\"0.2\\\",\\\"0.3\\\",\\\"0.4\\\",\\\"0.5\\\",\\\"0.6\\\",\\\"0.7\\\",\\\"0.8\\\",\\\"0.9\\\",\\\"1.0\\\",\\\"1.1\\\",\\\"1.2\\\",\\\"1.3\\\",\\\"1.4\\\",\\\"1.5\\\",\\\"1.6\\\",\\\"1.7\\\",\\\"1.8\\\",\\\"1.9\\\",\\\"2.0\\\"],\\\"changes\\\":WebIO.getval({\\\"name\\\":\\\"changes\\\",\\\"scope\\\":\\\"knockout-component-45a7001d-ed44-47d9-80ee-8165b2973f6b\\\",\\\"id\\\":\\\"ob_06\\\",\\\"type\\\":\\\"observable\\\"}),\\\"index\\\":WebIO.getval({\\\"name\\\":\\\"index\\\",\\\"scope\\\":\\\"knockout-component-45a7001d-ed44-47d9-80ee-8165b2973f6b\\\",\\\"id\\\":\\\"ob_05\\\",\\\"type\\\":\\\"observable\\\"})};\\n    var self = this;\\n    function AppViewModel() {\\n        for (var key in json_data) {\\n            var el = json_data[key];\\n            this[key] = Array.isArray(el) ? ko.observableArray(el) : ko.observable(el);\\n        }\\n        \\n        [this[\\\"formatted_val\\\"]=ko.computed(    function(){\\n        return this.formatted_vals()[parseInt(this.index())-1];\\n    }\\n,this)]\\n        [this[\\\"changes\\\"].subscribe((function (val){!(this.valueFromJulia[\\\"changes\\\"]) ? (WebIO.setval({\\\"name\\\":\\\"changes\\\",\\\"scope\\\":\\\"knockout-component-45a7001d-ed44-47d9-80ee-8165b2973f6b\\\",\\\"id\\\":\\\"ob_06\\\",\\\"type\\\":\\\"observable\\\"},val)) : undefined; return this.valueFromJulia[\\\"changes\\\"]=false}),self),this[\\\"index\\\"].subscribe((function (val){!(this.valueFromJulia[\\\"index\\\"]) ? (WebIO.setval({\\\"name\\\":\\\"index\\\",\\\"scope\\\":\\\"knockout-component-45a7001d-ed44-47d9-80ee-8165b2973f6b\\\",\\\"id\\\":\\\"ob_05\\\",\\\"type\\\":\\\"observable\\\"},val)) : undefined; return this.valueFromJulia[\\\"index\\\"]=false}),self)]\\n        \\n    }\\n    self.model = new AppViewModel();\\n    self.valueFromJulia = {};\\n    for (var key in json_data) {\\n        self.valueFromJulia[key] = false;\\n    }\\n    ko.applyBindings(self.model, self.dom);\\n}\\n);\\n    (WebIO.importBlock({\\\"data\\\":[{\\\"name\\\":\\\"knockout\\\",\\\"type\\\":\\\"js\\\",\\\"url\\\":\\\"\\/assetserver\\/f07383ad7ba5d9e293900fdc7e5e611110d6ff32-knockout.js\\\"},{\\\"name\\\":\\\"knockout_punches\\\",\\\"type\\\":\\\"js\\\",\\\"url\\\":\\\"\\/assetserver\\/306cc87ce82e45c3e5eb81524cb970ae2bab3932-knockout_punches.js\\\"}],\\\"type\\\":\\\"async_block\\\"})).then((imports) => handler.apply(this, imports));\\n}\\n\"],\"observables\":{\"changes\":{\"sync\":false,\"id\":\"ob_06\",\"value\":0},\"index\":{\"sync\":true,\"id\":\"ob_05\",\"value\":21}}},\"children\":[{\"props\":{\"className\":\"interact-flex-row interact-widget\"},\"nodeType\":\"DOM\",\"type\":\"node\",\"instanceArgs\":{\"namespace\":\"html\",\"tag\":\"div\"},\"children\":[{\"props\":{\"className\":\"interact-flex-row-left\"},\"nodeType\":\"DOM\",\"type\":\"node\",\"instanceArgs\":{\"namespace\":\"html\",\"tag\":\"div\"},\"children\":[{\"props\":{\"className\":\"interact \",\"style\":{\"padding\":\"5px 10px 0px 10px\"}},\"nodeType\":\"DOM\",\"type\":\"node\",\"instanceArgs\":{\"namespace\":\"html\",\"tag\":\"label\"},\"children\":[\"b\"]}]},{\"props\":{\"className\":\"interact-flex-row-center\"},\"nodeType\":\"DOM\",\"type\":\"node\",\"instanceArgs\":{\"namespace\":\"html\",\"tag\":\"div\"},\"children\":[{\"props\":{\"max\":41,\"min\":1,\"attributes\":{\"type\":\"range\",\"data-bind\":\"numericValue: index, valueUpdate: 'input', event: {change: function (){this.changes(this.changes()+1)}}\",\"orient\":\"horizontal\"},\"step\":1,\"className\":\"slider slider is-fullwidth\",\"style\":{}},\"nodeType\":\"DOM\",\"type\":\"node\",\"instanceArgs\":{\"namespace\":\"html\",\"tag\":\"input\"},\"children\":[]}]},{\"props\":{\"className\":\"interact-flex-row-right\"},\"nodeType\":\"DOM\",\"type\":\"node\",\"instanceArgs\":{\"namespace\":\"html\",\"tag\":\"div\"},\"children\":[{\"props\":{\"attributes\":{\"data-bind\":\"text: formatted_val\"}},\"nodeType\":\"DOM\",\"type\":\"node\",\"instanceArgs\":{\"namespace\":\"html\",\"tag\":\"p\"},\"children\":[]}]}]}]}]}]},{\"props\":{\"style\":{\"display\":\"flex\",\"flex-direction\":\"row\"}},\"nodeType\":\"DOM\",\"type\":\"node\",\"instanceArgs\":{\"namespace\":\"html\",\"tag\":\"div\"},\"children\":[{\"props\":{\"className\":\"field interact-widget\"},\"nodeType\":\"DOM\",\"type\":\"node\",\"instanceArgs\":{\"namespace\":\"html\",\"tag\":\"div\"},\"children\":[{\"props\":{},\"nodeType\":\"Scope\",\"type\":\"node\",\"instanceArgs\":{\"imports\":{\"data\":[{\"name\":\"knockout\",\"type\":\"js\",\"url\":\"\\/assetserver\\/f07383ad7ba5d9e293900fdc7e5e611110d6ff32-knockout.js\"},{\"name\":\"knockout_punches\",\"type\":\"js\",\"url\":\"\\/assetserver\\/306cc87ce82e45c3e5eb81524cb970ae2bab3932-knockout_punches.js\"},{\"name\":null,\"type\":\"js\",\"url\":\"\\/assetserver\\/69078235d89420aa60ec07ae908cfcc65b6ecf85-all.js\"},{\"name\":null,\"type\":\"css\",\"url\":\"\\/assetserver\\/98bc206151bf33944d9780fd349511e9eae784a0-style.css\"},{\"name\":null,\"type\":\"css\",\"url\":\"\\/assetserver\\/13615fa9690b1c4388c3fe14db802e442333ebc4-bulma_confined.min.css\"}],\"type\":\"async_block\"},\"id\":\"knockout-component-d8a2120e-98ec-42f3-8ca1-493755ea1c82\",\"handlers\":{\"changes\":[\"(function (val){return (val!=this.model[\\\"changes\\\"]()) ? (this.valueFromJulia[\\\"changes\\\"]=true, this.model[\\\"changes\\\"](val)) : undefined})\"],\"index\":[\"(function (val){return (val!=this.model[\\\"index\\\"]()) ? (this.valueFromJulia[\\\"index\\\"]=true, this.model[\\\"index\\\"](val)) : undefined})\"]},\"systemjs_options\":null,\"mount_callbacks\":[\"function () {\\n    var handler = (function (ko, koPunches) {\\n    ko.punches.enableAll();\\n    ko.bindingHandlers.numericValue = {\\n        init : function(element, valueAccessor, allBindings, data, context) {\\n            var stringified = ko.observable(ko.unwrap(valueAccessor()));\\n            stringified.subscribe(function(value) {\\n                var val = parseFloat(value);\\n                if (!isNaN(val)) {\\n                    valueAccessor()(val);\\n                }\\n            })\\n            valueAccessor().subscribe(function(value) {\\n                var str = JSON.stringify(value);\\n                if ((str == \\\"0\\\") && ([\\\"-0\\\", \\\"-0.\\\"].indexOf(stringified()) >= 0))\\n                     return;\\n                 if ([\\\"null\\\", \\\"\\\"].indexOf(str) >= 0)\\n                     return;\\n                stringified(str);\\n            })\\n            ko.applyBindingsToNode(element, { value: stringified, valueUpdate: allBindings.get('valueUpdate')}, context);\\n        }\\n    };\\n    var json_data = {\\\"formatted_vals\\\":[\\\"-2.0\\\",\\\"-1.9\\\",\\\"-1.8\\\",\\\"-1.7\\\",\\\"-1.6\\\",\\\"-1.5\\\",\\\"-1.4\\\",\\\"-1.3\\\",\\\"-1.2\\\",\\\"-1.1\\\",\\\"-1.0\\\",\\\"-0.9\\\",\\\"-0.8\\\",\\\"-0.7\\\",\\\"-0.6\\\",\\\"-0.5\\\",\\\"-0.4\\\",\\\"-0.3\\\",\\\"-0.2\\\",\\\"-0.1\\\",\\\"0.0\\\",\\\"0.1\\\",\\\"0.2\\\",\\\"0.3\\\",\\\"0.4\\\",\\\"0.5\\\",\\\"0.6\\\",\\\"0.7\\\",\\\"0.8\\\",\\\"0.9\\\",\\\"1.0\\\",\\\"1.1\\\",\\\"1.2\\\",\\\"1.3\\\",\\\"1.4\\\",\\\"1.5\\\",\\\"1.6\\\",\\\"1.7\\\",\\\"1.8\\\",\\\"1.9\\\",\\\"2.0\\\"],\\\"changes\\\":WebIO.getval({\\\"name\\\":\\\"changes\\\",\\\"scope\\\":\\\"knockout-component-d8a2120e-98ec-42f3-8ca1-493755ea1c82\\\",\\\"id\\\":\\\"ob_09\\\",\\\"type\\\":\\\"observable\\\"}),\\\"index\\\":WebIO.getval({\\\"name\\\":\\\"index\\\",\\\"scope\\\":\\\"knockout-component-d8a2120e-98ec-42f3-8ca1-493755ea1c82\\\",\\\"id\\\":\\\"ob_08\\\",\\\"type\\\":\\\"observable\\\"})};\\n    var self = this;\\n    function AppViewModel() {\\n        for (var key in json_data) {\\n            var el = json_data[key];\\n            this[key] = Array.isArray(el) ? ko.observableArray(el) : ko.observable(el);\\n        }\\n        \\n        [this[\\\"formatted_val\\\"]=ko.computed(    function(){\\n        return this.formatted_vals()[parseInt(this.index())-1];\\n    }\\n,this)]\\n        [this[\\\"changes\\\"].subscribe((function (val){!(this.valueFromJulia[\\\"changes\\\"]) ? (WebIO.setval({\\\"name\\\":\\\"changes\\\",\\\"scope\\\":\\\"knockout-component-d8a2120e-98ec-42f3-8ca1-493755ea1c82\\\",\\\"id\\\":\\\"ob_09\\\",\\\"type\\\":\\\"observable\\\"},val)) : undefined; return this.valueFromJulia[\\\"changes\\\"]=false}),self),this[\\\"index\\\"].subscribe((function (val){!(this.valueFromJulia[\\\"index\\\"]) ? (WebIO.setval({\\\"name\\\":\\\"index\\\",\\\"scope\\\":\\\"knockout-component-d8a2120e-98ec-42f3-8ca1-493755ea1c82\\\",\\\"id\\\":\\\"ob_08\\\",\\\"type\\\":\\\"observable\\\"},val)) : undefined; return this.valueFromJulia[\\\"index\\\"]=false}),self)]\\n        \\n    }\\n    self.model = new AppViewModel();\\n    self.valueFromJulia = {};\\n    for (var key in json_data) {\\n        self.valueFromJulia[key] = false;\\n    }\\n    ko.applyBindings(self.model, self.dom);\\n}\\n);\\n    (WebIO.importBlock({\\\"data\\\":[{\\\"name\\\":\\\"knockout\\\",\\\"type\\\":\\\"js\\\",\\\"url\\\":\\\"\\/assetserver\\/f07383ad7ba5d9e293900fdc7e5e611110d6ff32-knockout.js\\\"},{\\\"name\\\":\\\"knockout_punches\\\",\\\"type\\\":\\\"js\\\",\\\"url\\\":\\\"\\/assetserver\\/306cc87ce82e45c3e5eb81524cb970ae2bab3932-knockout_punches.js\\\"}],\\\"type\\\":\\\"async_block\\\"})).then((imports) => handler.apply(this, imports));\\n}\\n\"],\"observables\":{\"changes\":{\"sync\":false,\"id\":\"ob_09\",\"value\":0},\"index\":{\"sync\":true,\"id\":\"ob_08\",\"value\":21}}},\"children\":[{\"props\":{\"className\":\"interact-flex-row interact-widget\"},\"nodeType\":\"DOM\",\"type\":\"node\",\"instanceArgs\":{\"namespace\":\"html\",\"tag\":\"div\"},\"children\":[{\"props\":{\"className\":\"interact-flex-row-left\"},\"nodeType\":\"DOM\",\"type\":\"node\",\"instanceArgs\":{\"namespace\":\"html\",\"tag\":\"div\"},\"children\":[{\"props\":{\"className\":\"interact \",\"style\":{\"padding\":\"5px 10px 0px 10px\"}},\"nodeType\":\"DOM\",\"type\":\"node\",\"instanceArgs\":{\"namespace\":\"html\",\"tag\":\"label\"},\"children\":[\"c\"]}]},{\"props\":{\"className\":\"interact-flex-row-center\"},\"nodeType\":\"DOM\",\"type\":\"node\",\"instanceArgs\":{\"namespace\":\"html\",\"tag\":\"div\"},\"children\":[{\"props\":{\"max\":41,\"min\":1,\"attributes\":{\"type\":\"range\",\"data-bind\":\"numericValue: index, valueUpdate: 'input', event: {change: function (){this.changes(this.changes()+1)}}\",\"orient\":\"horizontal\"},\"step\":1,\"className\":\"slider slider is-fullwidth\",\"style\":{}},\"nodeType\":\"DOM\",\"type\":\"node\",\"instanceArgs\":{\"namespace\":\"html\",\"tag\":\"input\"},\"children\":[]}]},{\"props\":{\"className\":\"interact-flex-row-right\"},\"nodeType\":\"DOM\",\"type\":\"node\",\"instanceArgs\":{\"namespace\":\"html\",\"tag\":\"div\"},\"children\":[{\"props\":{\"attributes\":{\"data-bind\":\"text: formatted_val\"}},\"nodeType\":\"DOM\",\"type\":\"node\",\"instanceArgs\":{\"namespace\":\"html\",\"tag\":\"p\"},\"children\":[]}]}]}]}]},{\"props\":{\"className\":\"field interact-widget\"},\"nodeType\":\"DOM\",\"type\":\"node\",\"instanceArgs\":{\"namespace\":\"html\",\"tag\":\"div\"},\"children\":[{\"props\":{},\"nodeType\":\"Scope\",\"type\":\"node\",\"instanceArgs\":{\"imports\":{\"data\":[{\"name\":\"knockout\",\"type\":\"js\",\"url\":\"\\/assetserver\\/f07383ad7ba5d9e293900fdc7e5e611110d6ff32-knockout.js\"},{\"name\":\"knockout_punches\",\"type\":\"js\",\"url\":\"\\/assetserver\\/306cc87ce82e45c3e5eb81524cb970ae2bab3932-knockout_punches.js\"},{\"name\":null,\"type\":\"js\",\"url\":\"\\/assetserver\\/69078235d89420aa60ec07ae908cfcc65b6ecf85-all.js\"},{\"name\":null,\"type\":\"css\",\"url\":\"\\/assetserver\\/98bc206151bf33944d9780fd349511e9eae784a0-style.css\"},{\"name\":null,\"type\":\"css\",\"url\":\"\\/assetserver\\/13615fa9690b1c4388c3fe14db802e442333ebc4-bulma_confined.min.css\"}],\"type\":\"async_block\"},\"id\":\"knockout-component-f75f6c73-384f-4cde-b984-890bfef3429c\",\"handlers\":{\"changes\":[\"(function (val){return (val!=this.model[\\\"changes\\\"]()) ? (this.valueFromJulia[\\\"changes\\\"]=true, this.model[\\\"changes\\\"](val)) : undefined})\"],\"index\":[\"(function (val){return (val!=this.model[\\\"index\\\"]()) ? (this.valueFromJulia[\\\"index\\\"]=true, this.model[\\\"index\\\"](val)) : undefined})\"]},\"systemjs_options\":null,\"mount_callbacks\":[\"function () {\\n    var handler = (function (ko, koPunches) {\\n    ko.punches.enableAll();\\n    ko.bindingHandlers.numericValue = {\\n        init : function(element, valueAccessor, allBindings, data, context) {\\n            var stringified = ko.observable(ko.unwrap(valueAccessor()));\\n            stringified.subscribe(function(value) {\\n                var val = parseFloat(value);\\n                if (!isNaN(val)) {\\n                    valueAccessor()(val);\\n                }\\n            })\\n            valueAccessor().subscribe(function(value) {\\n                var str = JSON.stringify(value);\\n                if ((str == \\\"0\\\") && ([\\\"-0\\\", \\\"-0.\\\"].indexOf(stringified()) >= 0))\\n                     return;\\n                 if ([\\\"null\\\", \\\"\\\"].indexOf(str) >= 0)\\n                     return;\\n                stringified(str);\\n            })\\n            ko.applyBindingsToNode(element, { value: stringified, valueUpdate: allBindings.get('valueUpdate')}, context);\\n        }\\n    };\\n    var json_data = {\\\"formatted_vals\\\":[\\\"-2.0\\\",\\\"-1.9\\\",\\\"-1.8\\\",\\\"-1.7\\\",\\\"-1.6\\\",\\\"-1.5\\\",\\\"-1.4\\\",\\\"-1.3\\\",\\\"-1.2\\\",\\\"-1.1\\\",\\\"-1.0\\\",\\\"-0.9\\\",\\\"-0.8\\\",\\\"-0.7\\\",\\\"-0.6\\\",\\\"-0.5\\\",\\\"-0.4\\\",\\\"-0.3\\\",\\\"-0.2\\\",\\\"-0.1\\\",\\\"0.0\\\",\\\"0.1\\\",\\\"0.2\\\",\\\"0.3\\\",\\\"0.4\\\",\\\"0.5\\\",\\\"0.6\\\",\\\"0.7\\\",\\\"0.8\\\",\\\"0.9\\\",\\\"1.0\\\",\\\"1.1\\\",\\\"1.2\\\",\\\"1.3\\\",\\\"1.4\\\",\\\"1.5\\\",\\\"1.6\\\",\\\"1.7\\\",\\\"1.8\\\",\\\"1.9\\\",\\\"2.0\\\"],\\\"changes\\\":WebIO.getval({\\\"name\\\":\\\"changes\\\",\\\"scope\\\":\\\"knockout-component-f75f6c73-384f-4cde-b984-890bfef3429c\\\",\\\"id\\\":\\\"ob_12\\\",\\\"type\\\":\\\"observable\\\"}),\\\"index\\\":WebIO.getval({\\\"name\\\":\\\"index\\\",\\\"scope\\\":\\\"knockout-component-f75f6c73-384f-4cde-b984-890bfef3429c\\\",\\\"id\\\":\\\"ob_11\\\",\\\"type\\\":\\\"observable\\\"})};\\n    var self = this;\\n    function AppViewModel() {\\n        for (var key in json_data) {\\n            var el = json_data[key];\\n            this[key] = Array.isArray(el) ? ko.observableArray(el) : ko.observable(el);\\n        }\\n        \\n        [this[\\\"formatted_val\\\"]=ko.computed(    function(){\\n        return this.formatted_vals()[parseInt(this.index())-1];\\n    }\\n,this)]\\n        [this[\\\"changes\\\"].subscribe((function (val){!(this.valueFromJulia[\\\"changes\\\"]) ? (WebIO.setval({\\\"name\\\":\\\"changes\\\",\\\"scope\\\":\\\"knockout-component-f75f6c73-384f-4cde-b984-890bfef3429c\\\",\\\"id\\\":\\\"ob_12\\\",\\\"type\\\":\\\"observable\\\"},val)) : undefined; return this.valueFromJulia[\\\"changes\\\"]=false}),self),this[\\\"index\\\"].subscribe((function (val){!(this.valueFromJulia[\\\"index\\\"]) ? (WebIO.setval({\\\"name\\\":\\\"index\\\",\\\"scope\\\":\\\"knockout-component-f75f6c73-384f-4cde-b984-890bfef3429c\\\",\\\"id\\\":\\\"ob_11\\\",\\\"type\\\":\\\"observable\\\"},val)) : undefined; return this.valueFromJulia[\\\"index\\\"]=false}),self)]\\n        \\n    }\\n    self.model = new AppViewModel();\\n    self.valueFromJulia = {};\\n    for (var key in json_data) {\\n        self.valueFromJulia[key] = false;\\n    }\\n    ko.applyBindings(self.model, self.dom);\\n}\\n);\\n    (WebIO.importBlock({\\\"data\\\":[{\\\"name\\\":\\\"knockout\\\",\\\"type\\\":\\\"js\\\",\\\"url\\\":\\\"\\/assetserver\\/f07383ad7ba5d9e293900fdc7e5e611110d6ff32-knockout.js\\\"},{\\\"name\\\":\\\"knockout_punches\\\",\\\"type\\\":\\\"js\\\",\\\"url\\\":\\\"\\/assetserver\\/306cc87ce82e45c3e5eb81524cb970ae2bab3932-knockout_punches.js\\\"}],\\\"type\\\":\\\"async_block\\\"})).then((imports) => handler.apply(this, imports));\\n}\\n\"],\"observables\":{\"changes\":{\"sync\":false,\"id\":\"ob_12\",\"value\":0},\"index\":{\"sync\":true,\"id\":\"ob_11\",\"value\":21}}},\"children\":[{\"props\":{\"className\":\"interact-flex-row interact-widget\"},\"nodeType\":\"DOM\",\"type\":\"node\",\"instanceArgs\":{\"namespace\":\"html\",\"tag\":\"div\"},\"children\":[{\"props\":{\"className\":\"interact-flex-row-left\"},\"nodeType\":\"DOM\",\"type\":\"node\",\"instanceArgs\":{\"namespace\":\"html\",\"tag\":\"div\"},\"children\":[{\"props\":{\"className\":\"interact \",\"style\":{\"padding\":\"5px 10px 0px 10px\"}},\"nodeType\":\"DOM\",\"type\":\"node\",\"instanceArgs\":{\"namespace\":\"html\",\"tag\":\"label\"},\"children\":[\"d\"]}]},{\"props\":{\"className\":\"interact-flex-row-center\"},\"nodeType\":\"DOM\",\"type\":\"node\",\"instanceArgs\":{\"namespace\":\"html\",\"tag\":\"div\"},\"children\":[{\"props\":{\"max\":41,\"min\":1,\"attributes\":{\"type\":\"range\",\"data-bind\":\"numericValue: index, valueUpdate: 'input', event: {change: function (){this.changes(this.changes()+1)}}\",\"orient\":\"horizontal\"},\"step\":1,\"className\":\"slider slider is-fullwidth\",\"style\":{}},\"nodeType\":\"DOM\",\"type\":\"node\",\"instanceArgs\":{\"namespace\":\"html\",\"tag\":\"input\"},\"children\":[]}]},{\"props\":{\"className\":\"interact-flex-row-right\"},\"nodeType\":\"DOM\",\"type\":\"node\",\"instanceArgs\":{\"namespace\":\"html\",\"tag\":\"div\"},\"children\":[{\"props\":{\"attributes\":{\"data-bind\":\"text: formatted_val\"}},\"nodeType\":\"DOM\",\"type\":\"node\",\"instanceArgs\":{\"namespace\":\"html\",\"tag\":\"p\"},\"children\":[]}]}]}]}]}]}]},{\"props\":{\"className\":\"field interact-widget\"},\"nodeType\":\"DOM\",\"type\":\"node\",\"instanceArgs\":{\"namespace\":\"html\",\"tag\":\"div\"},\"children\":[{\"props\":{},\"nodeType\":\"Scope\",\"type\":\"node\",\"instanceArgs\":{\"imports\":{\"data\":[{\"name\":\"knockout\",\"type\":\"js\",\"url\":\"\\/assetserver\\/f07383ad7ba5d9e293900fdc7e5e611110d6ff32-knockout.js\"},{\"name\":\"knockout_punches\",\"type\":\"js\",\"url\":\"\\/assetserver\\/306cc87ce82e45c3e5eb81524cb970ae2bab3932-knockout_punches.js\"},{\"name\":null,\"type\":\"js\",\"url\":\"\\/assetserver\\/69078235d89420aa60ec07ae908cfcc65b6ecf85-all.js\"},{\"name\":null,\"type\":\"css\",\"url\":\"\\/assetserver\\/98bc206151bf33944d9780fd349511e9eae784a0-style.css\"},{\"name\":null,\"type\":\"css\",\"url\":\"\\/assetserver\\/13615fa9690b1c4388c3fe14db802e442333ebc4-bulma_confined.min.css\"}],\"type\":\"async_block\"},\"id\":\"knockout-component-30a7bef9-147e-4e26-a079-f1e1d7d1b8aa\",\"handlers\":{\"changes\":[\"(function (val){return (val!=this.model[\\\"changes\\\"]()) ? (this.valueFromJulia[\\\"changes\\\"]=true, this.model[\\\"changes\\\"](val)) : undefined})\"],\"index\":[\"(function (val){return (val!=this.model[\\\"index\\\"]()) ? (this.valueFromJulia[\\\"index\\\"]=true, this.model[\\\"index\\\"](val)) : undefined})\"]},\"systemjs_options\":null,\"mount_callbacks\":[\"function () {\\n    var handler = (function (ko, koPunches) {\\n    ko.punches.enableAll();\\n    ko.bindingHandlers.numericValue = {\\n        init : function(element, valueAccessor, allBindings, data, context) {\\n            var stringified = ko.observable(ko.unwrap(valueAccessor()));\\n            stringified.subscribe(function(value) {\\n                var val = parseFloat(value);\\n                if (!isNaN(val)) {\\n                    valueAccessor()(val);\\n                }\\n            })\\n            valueAccessor().subscribe(function(value) {\\n                var str = JSON.stringify(value);\\n                if ((str == \\\"0\\\") && ([\\\"-0\\\", \\\"-0.\\\"].indexOf(stringified()) >= 0))\\n                     return;\\n                 if ([\\\"null\\\", \\\"\\\"].indexOf(str) >= 0)\\n                     return;\\n                stringified(str);\\n            })\\n            ko.applyBindingsToNode(element, { value: stringified, valueUpdate: allBindings.get('valueUpdate')}, context);\\n        }\\n    };\\n    var json_data = {\\\"formatted_vals\\\":[\\\"0.0\\\",\\\"0.01\\\",\\\"0.02\\\",\\\"0.03\\\",\\\"0.04\\\",\\\"0.05\\\",\\\"0.06\\\",\\\"0.07\\\",\\\"0.08\\\",\\\"0.09\\\",\\\"0.1\\\",\\\"0.11\\\",\\\"0.12\\\",\\\"0.13\\\",\\\"0.14\\\",\\\"0.15\\\",\\\"0.16\\\",\\\"0.17\\\",\\\"0.18\\\",\\\"0.19\\\",\\\"0.2\\\",\\\"0.21\\\",\\\"0.22\\\",\\\"0.23\\\",\\\"0.24\\\",\\\"0.25\\\",\\\"0.26\\\",\\\"0.27\\\",\\\"0.28\\\",\\\"0.29\\\",\\\"0.3\\\",\\\"0.31\\\",\\\"0.32\\\",\\\"0.33\\\",\\\"0.34\\\",\\\"0.35\\\",\\\"0.36\\\",\\\"0.37\\\",\\\"0.38\\\",\\\"0.39\\\",\\\"0.4\\\",\\\"0.41\\\",\\\"0.42\\\",\\\"0.43\\\",\\\"0.44\\\",\\\"0.45\\\",\\\"0.46\\\",\\\"0.47\\\",\\\"0.48\\\",\\\"0.49\\\",\\\"0.5\\\",\\\"0.51\\\",\\\"0.52\\\",\\\"0.53\\\",\\\"0.54\\\",\\\"0.55\\\",\\\"0.56\\\",\\\"0.57\\\",\\\"0.58\\\",\\\"0.59\\\",\\\"0.6\\\",\\\"0.61\\\",\\\"0.62\\\",\\\"0.63\\\",\\\"0.64\\\",\\\"0.65\\\",\\\"0.66\\\",\\\"0.67\\\",\\\"0.68\\\",\\\"0.69\\\",\\\"0.7\\\",\\\"0.71\\\",\\\"0.72\\\",\\\"0.73\\\",\\\"0.74\\\",\\\"0.75\\\",\\\"0.76\\\",\\\"0.77\\\",\\\"0.78\\\",\\\"0.79\\\",\\\"0.8\\\",\\\"0.81\\\",\\\"0.82\\\",\\\"0.83\\\",\\\"0.84\\\",\\\"0.85\\\",\\\"0.86\\\",\\\"0.87\\\",\\\"0.88\\\",\\\"0.89\\\",\\\"0.9\\\",\\\"0.91\\\",\\\"0.92\\\",\\\"0.93\\\",\\\"0.94\\\",\\\"0.95\\\",\\\"0.96\\\",\\\"0.97\\\",\\\"0.98\\\",\\\"0.99\\\",\\\"1.0\\\",\\\"1.01\\\",\\\"1.02\\\",\\\"1.03\\\",\\\"1.04\\\",\\\"1.05\\\",\\\"1.06\\\",\\\"1.07\\\",\\\"1.08\\\",\\\"1.09\\\",\\\"1.1\\\",\\\"1.11\\\",\\\"1.12\\\",\\\"1.13\\\",\\\"1.14\\\",\\\"1.15\\\",\\\"1.16\\\",\\\"1.17\\\",\\\"1.18\\\",\\\"1.19\\\",\\\"1.2\\\",\\\"1.21\\\",\\\"1.22\\\",\\\"1.23\\\",\\\"1.24\\\",\\\"1.25\\\",\\\"1.26\\\",\\\"1.27\\\",\\\"1.28\\\",\\\"1.29\\\",\\\"1.3\\\",\\\"1.31\\\",\\\"1.32\\\",\\\"1.33\\\",\\\"1.34\\\",\\\"1.35\\\",\\\"1.36\\\",\\\"1.37\\\",\\\"1.38\\\",\\\"1.39\\\",\\\"1.4\\\",\\\"1.41\\\",\\\"1.42\\\",\\\"1.43\\\",\\\"1.44\\\",\\\"1.45\\\",\\\"1.46\\\",\\\"1.47\\\",\\\"1.48\\\",\\\"1.49\\\",\\\"1.5\\\",\\\"1.51\\\",\\\"1.52\\\",\\\"1.53\\\",\\\"1.54\\\",\\\"1.55\\\",\\\"1.56\\\",\\\"1.57\\\",\\\"1.58\\\",\\\"1.59\\\",\\\"1.6\\\",\\\"1.61\\\",\\\"1.62\\\",\\\"1.63\\\",\\\"1.64\\\",\\\"1.65\\\",\\\"1.66\\\",\\\"1.67\\\",\\\"1.68\\\",\\\"1.69\\\",\\\"1.7\\\",\\\"1.71\\\",\\\"1.72\\\",\\\"1.73\\\",\\\"1.74\\\",\\\"1.75\\\",\\\"1.76\\\",\\\"1.77\\\",\\\"1.78\\\",\\\"1.79\\\",\\\"1.8\\\",\\\"1.81\\\",\\\"1.82\\\",\\\"1.83\\\",\\\"1.84\\\",\\\"1.85\\\",\\\"1.86\\\",\\\"1.87\\\",\\\"1.88\\\",\\\"1.89\\\",\\\"1.9\\\",\\\"1.91\\\",\\\"1.92\\\",\\\"1.93\\\",\\\"1.94\\\",\\\"1.95\\\",\\\"1.96\\\",\\\"1.97\\\",\\\"1.98\\\",\\\"1.99\\\",\\\"2.0\\\",\\\"2.01\\\",\\\"2.02\\\",\\\"2.03\\\",\\\"2.04\\\",\\\"2.05\\\",\\\"2.06\\\",\\\"2.07\\\",\\\"2.08\\\",\\\"2.09\\\",\\\"2.1\\\",\\\"2.11\\\",\\\"2.12\\\",\\\"2.13\\\",\\\"2.14\\\",\\\"2.15\\\",\\\"2.16\\\",\\\"2.17\\\",\\\"2.18\\\",\\\"2.19\\\",\\\"2.2\\\",\\\"2.21\\\",\\\"2.22\\\",\\\"2.23\\\",\\\"2.24\\\",\\\"2.25\\\",\\\"2.26\\\",\\\"2.27\\\",\\\"2.28\\\",\\\"2.29\\\",\\\"2.3\\\",\\\"2.31\\\",\\\"2.32\\\",\\\"2.33\\\",\\\"2.34\\\",\\\"2.35\\\",\\\"2.36\\\",\\\"2.37\\\",\\\"2.38\\\",\\\"2.39\\\",\\\"2.4\\\",\\\"2.41\\\",\\\"2.42\\\",\\\"2.43\\\",\\\"2.44\\\",\\\"2.45\\\",\\\"2.46\\\",\\\"2.47\\\",\\\"2.48\\\",\\\"2.49\\\",\\\"2.5\\\",\\\"2.51\\\",\\\"2.52\\\",\\\"2.53\\\",\\\"2.54\\\",\\\"2.55\\\",\\\"2.56\\\",\\\"2.57\\\",\\\"2.58\\\",\\\"2.59\\\",\\\"2.6\\\",\\\"2.61\\\",\\\"2.62\\\",\\\"2.63\\\",\\\"2.64\\\",\\\"2.65\\\",\\\"2.66\\\",\\\"2.67\\\",\\\"2.68\\\",\\\"2.69\\\",\\\"2.7\\\",\\\"2.71\\\",\\\"2.72\\\",\\\"2.73\\\",\\\"2.74\\\",\\\"2.75\\\",\\\"2.76\\\",\\\"2.77\\\",\\\"2.78\\\",\\\"2.79\\\",\\\"2.8\\\",\\\"2.81\\\",\\\"2.82\\\",\\\"2.83\\\",\\\"2.84\\\",\\\"2.85\\\",\\\"2.86\\\",\\\"2.87\\\",\\\"2.88\\\",\\\"2.89\\\",\\\"2.9\\\",\\\"2.91\\\",\\\"2.92\\\",\\\"2.93\\\",\\\"2.94\\\",\\\"2.95\\\",\\\"2.96\\\",\\\"2.97\\\",\\\"2.98\\\",\\\"2.99\\\",\\\"3.0\\\",\\\"3.01\\\",\\\"3.02\\\",\\\"3.03\\\",\\\"3.04\\\",\\\"3.05\\\",\\\"3.06\\\",\\\"3.07\\\",\\\"3.08\\\",\\\"3.09\\\",\\\"3.1\\\",\\\"3.11\\\",\\\"3.12\\\",\\\"3.13\\\",\\\"3.14\\\",\\\"3.15\\\",\\\"3.16\\\",\\\"3.17\\\",\\\"3.18\\\",\\\"3.19\\\",\\\"3.2\\\",\\\"3.21\\\",\\\"3.22\\\",\\\"3.23\\\",\\\"3.24\\\",\\\"3.25\\\",\\\"3.26\\\",\\\"3.27\\\",\\\"3.28\\\",\\\"3.29\\\",\\\"3.3\\\",\\\"3.31\\\",\\\"3.32\\\",\\\"3.33\\\",\\\"3.34\\\",\\\"3.35\\\",\\\"3.36\\\",\\\"3.37\\\",\\\"3.38\\\",\\\"3.39\\\",\\\"3.4\\\",\\\"3.41\\\",\\\"3.42\\\",\\\"3.43\\\",\\\"3.44\\\",\\\"3.45\\\",\\\"3.46\\\",\\\"3.47\\\",\\\"3.48\\\",\\\"3.49\\\",\\\"3.5\\\",\\\"3.51\\\",\\\"3.52\\\",\\\"3.53\\\",\\\"3.54\\\",\\\"3.55\\\",\\\"3.56\\\",\\\"3.57\\\",\\\"3.58\\\",\\\"3.59\\\",\\\"3.6\\\",\\\"3.61\\\",\\\"3.62\\\",\\\"3.63\\\",\\\"3.64\\\",\\\"3.65\\\",\\\"3.66\\\",\\\"3.67\\\",\\\"3.68\\\",\\\"3.69\\\",\\\"3.7\\\",\\\"3.71\\\",\\\"3.72\\\",\\\"3.73\\\",\\\"3.74\\\",\\\"3.75\\\",\\\"3.76\\\",\\\"3.77\\\",\\\"3.78\\\",\\\"3.79\\\",\\\"3.8\\\",\\\"3.81\\\",\\\"3.82\\\",\\\"3.83\\\",\\\"3.84\\\",\\\"3.85\\\",\\\"3.86\\\",\\\"3.87\\\",\\\"3.88\\\",\\\"3.89\\\",\\\"3.9\\\",\\\"3.91\\\",\\\"3.92\\\",\\\"3.93\\\",\\\"3.94\\\",\\\"3.95\\\",\\\"3.96\\\",\\\"3.97\\\",\\\"3.98\\\",\\\"3.99\\\",\\\"4.0\\\",\\\"4.01\\\",\\\"4.02\\\",\\\"4.03\\\",\\\"4.04\\\",\\\"4.05\\\",\\\"4.06\\\",\\\"4.07\\\",\\\"4.08\\\",\\\"4.09\\\",\\\"4.1\\\",\\\"4.11\\\",\\\"4.12\\\",\\\"4.13\\\",\\\"4.14\\\",\\\"4.15\\\",\\\"4.16\\\",\\\"4.17\\\",\\\"4.18\\\",\\\"4.19\\\",\\\"4.2\\\",\\\"4.21\\\",\\\"4.22\\\",\\\"4.23\\\",\\\"4.24\\\",\\\"4.25\\\",\\\"4.26\\\",\\\"4.27\\\",\\\"4.28\\\",\\\"4.29\\\",\\\"4.3\\\",\\\"4.31\\\",\\\"4.32\\\",\\\"4.33\\\",\\\"4.34\\\",\\\"4.35\\\",\\\"4.36\\\",\\\"4.37\\\",\\\"4.38\\\",\\\"4.39\\\",\\\"4.4\\\",\\\"4.41\\\",\\\"4.42\\\",\\\"4.43\\\",\\\"4.44\\\",\\\"4.45\\\",\\\"4.46\\\",\\\"4.47\\\",\\\"4.48\\\",\\\"4.49\\\",\\\"4.5\\\",\\\"4.51\\\",\\\"4.52\\\",\\\"4.53\\\",\\\"4.54\\\",\\\"4.55\\\",\\\"4.56\\\",\\\"4.57\\\",\\\"4.58\\\",\\\"4.59\\\",\\\"4.6\\\",\\\"4.61\\\",\\\"4.62\\\",\\\"4.63\\\",\\\"4.64\\\",\\\"4.65\\\",\\\"4.66\\\",\\\"4.67\\\",\\\"4.68\\\",\\\"4.69\\\",\\\"4.7\\\",\\\"4.71\\\",\\\"4.72\\\",\\\"4.73\\\",\\\"4.74\\\",\\\"4.75\\\",\\\"4.76\\\",\\\"4.77\\\",\\\"4.78\\\",\\\"4.79\\\",\\\"4.8\\\",\\\"4.81\\\",\\\"4.82\\\",\\\"4.83\\\",\\\"4.84\\\",\\\"4.85\\\",\\\"4.86\\\",\\\"4.87\\\",\\\"4.88\\\",\\\"4.89\\\",\\\"4.9\\\",\\\"4.91\\\",\\\"4.92\\\",\\\"4.93\\\",\\\"4.94\\\",\\\"4.95\\\",\\\"4.96\\\",\\\"4.97\\\",\\\"4.98\\\",\\\"4.99\\\",\\\"5.0\\\",\\\"5.01\\\",\\\"5.02\\\",\\\"5.03\\\",\\\"5.04\\\",\\\"5.05\\\",\\\"5.06\\\",\\\"5.07\\\",\\\"5.08\\\",\\\"5.09\\\",\\\"5.1\\\",\\\"5.11\\\",\\\"5.12\\\",\\\"5.13\\\",\\\"5.14\\\",\\\"5.15\\\",\\\"5.16\\\",\\\"5.17\\\",\\\"5.18\\\",\\\"5.19\\\",\\\"5.2\\\",\\\"5.21\\\",\\\"5.22\\\",\\\"5.23\\\",\\\"5.24\\\",\\\"5.25\\\",\\\"5.26\\\",\\\"5.27\\\",\\\"5.28\\\",\\\"5.29\\\",\\\"5.3\\\",\\\"5.31\\\",\\\"5.32\\\",\\\"5.33\\\",\\\"5.34\\\",\\\"5.35\\\",\\\"5.36\\\",\\\"5.37\\\",\\\"5.38\\\",\\\"5.39\\\",\\\"5.4\\\",\\\"5.41\\\",\\\"5.42\\\",\\\"5.43\\\",\\\"5.44\\\",\\\"5.45\\\",\\\"5.46\\\",\\\"5.47\\\",\\\"5.48\\\",\\\"5.49\\\",\\\"5.5\\\",\\\"5.51\\\",\\\"5.52\\\",\\\"5.53\\\",\\\"5.54\\\",\\\"5.55\\\",\\\"5.56\\\",\\\"5.57\\\",\\\"5.58\\\",\\\"5.59\\\",\\\"5.6\\\",\\\"5.61\\\",\\\"5.62\\\",\\\"5.63\\\",\\\"5.64\\\",\\\"5.65\\\",\\\"5.66\\\",\\\"5.67\\\",\\\"5.68\\\",\\\"5.69\\\",\\\"5.7\\\",\\\"5.71\\\",\\\"5.72\\\",\\\"5.73\\\",\\\"5.74\\\",\\\"5.75\\\",\\\"5.76\\\",\\\"5.77\\\",\\\"5.78\\\",\\\"5.79\\\",\\\"5.8\\\",\\\"5.81\\\",\\\"5.82\\\",\\\"5.83\\\",\\\"5.84\\\",\\\"5.85\\\",\\\"5.86\\\",\\\"5.87\\\",\\\"5.88\\\",\\\"5.89\\\",\\\"5.9\\\",\\\"5.91\\\",\\\"5.92\\\",\\\"5.93\\\",\\\"5.94\\\",\\\"5.95\\\",\\\"5.96\\\",\\\"5.97\\\",\\\"5.98\\\",\\\"5.99\\\",\\\"6.0\\\",\\\"6.01\\\",\\\"6.02\\\",\\\"6.03\\\",\\\"6.04\\\",\\\"6.05\\\",\\\"6.06\\\",\\\"6.07\\\",\\\"6.08\\\",\\\"6.09\\\",\\\"6.1\\\",\\\"6.11\\\",\\\"6.12\\\",\\\"6.13\\\",\\\"6.14\\\",\\\"6.15\\\",\\\"6.16\\\",\\\"6.17\\\",\\\"6.18\\\",\\\"6.19\\\",\\\"6.2\\\",\\\"6.21\\\",\\\"6.22\\\",\\\"6.23\\\",\\\"6.24\\\",\\\"6.25\\\",\\\"6.26\\\",\\\"6.27\\\",\\\"6.28\\\"],\\\"changes\\\":WebIO.getval({\\\"name\\\":\\\"changes\\\",\\\"scope\\\":\\\"knockout-component-30a7bef9-147e-4e26-a079-f1e1d7d1b8aa\\\",\\\"id\\\":\\\"ob_28\\\",\\\"type\\\":\\\"observable\\\"}),\\\"index\\\":WebIO.getval({\\\"name\\\":\\\"index\\\",\\\"scope\\\":\\\"knockout-component-30a7bef9-147e-4e26-a079-f1e1d7d1b8aa\\\",\\\"id\\\":\\\"ob_27\\\",\\\"type\\\":\\\"observable\\\"})};\\n    var self = this;\\n    function AppViewModel() {\\n        for (var key in json_data) {\\n            var el = json_data[key];\\n            this[key] = Array.isArray(el) ? ko.observableArray(el) : ko.observable(el);\\n        }\\n        \\n        [this[\\\"formatted_val\\\"]=ko.computed(    function(){\\n        return this.formatted_vals()[parseInt(this.index())-1];\\n    }\\n,this)]\\n        [this[\\\"changes\\\"].subscribe((function (val){!(this.valueFromJulia[\\\"changes\\\"]) ? (WebIO.setval({\\\"name\\\":\\\"changes\\\",\\\"scope\\\":\\\"knockout-component-30a7bef9-147e-4e26-a079-f1e1d7d1b8aa\\\",\\\"id\\\":\\\"ob_28\\\",\\\"type\\\":\\\"observable\\\"},val)) : undefined; return this.valueFromJulia[\\\"changes\\\"]=false}),self),this[\\\"index\\\"].subscribe((function (val){!(this.valueFromJulia[\\\"index\\\"]) ? (WebIO.setval({\\\"name\\\":\\\"index\\\",\\\"scope\\\":\\\"knockout-component-30a7bef9-147e-4e26-a079-f1e1d7d1b8aa\\\",\\\"id\\\":\\\"ob_27\\\",\\\"type\\\":\\\"observable\\\"},val)) : undefined; return this.valueFromJulia[\\\"index\\\"]=false}),self)]\\n        \\n    }\\n    self.model = new AppViewModel();\\n    self.valueFromJulia = {};\\n    for (var key in json_data) {\\n        self.valueFromJulia[key] = false;\\n    }\\n    ko.applyBindings(self.model, self.dom);\\n}\\n);\\n    (WebIO.importBlock({\\\"data\\\":[{\\\"name\\\":\\\"knockout\\\",\\\"type\\\":\\\"js\\\",\\\"url\\\":\\\"\\/assetserver\\/f07383ad7ba5d9e293900fdc7e5e611110d6ff32-knockout.js\\\"},{\\\"name\\\":\\\"knockout_punches\\\",\\\"type\\\":\\\"js\\\",\\\"url\\\":\\\"\\/assetserver\\/306cc87ce82e45c3e5eb81524cb970ae2bab3932-knockout_punches.js\\\"}],\\\"type\\\":\\\"async_block\\\"})).then((imports) => handler.apply(this, imports));\\n}\\n\"],\"observables\":{\"changes\":{\"sync\":false,\"id\":\"ob_28\",\"value\":0},\"index\":{\"sync\":true,\"id\":\"ob_27\",\"value\":315}}},\"children\":[{\"props\":{\"className\":\"interact-flex-row interact-widget\"},\"nodeType\":\"DOM\",\"type\":\"node\",\"instanceArgs\":{\"namespace\":\"html\",\"tag\":\"div\"},\"children\":[{\"props\":{\"className\":\"interact-flex-row-left\"},\"nodeType\":\"DOM\",\"type\":\"node\",\"instanceArgs\":{\"namespace\":\"html\",\"tag\":\"div\"},\"children\":[{\"props\":{\"className\":\"interact \",\"style\":{\"padding\":\"5px 10px 0px 10px\"}},\"nodeType\":\"DOM\",\"type\":\"node\",\"instanceArgs\":{\"namespace\":\"html\",\"tag\":\"label\"},\"children\":[\"θ\"]}]},{\"props\":{\"className\":\"interact-flex-row-center\"},\"nodeType\":\"DOM\",\"type\":\"node\",\"instanceArgs\":{\"namespace\":\"html\",\"tag\":\"div\"},\"children\":[{\"props\":{\"max\":629,\"min\":1,\"attributes\":{\"type\":\"range\",\"data-bind\":\"numericValue: index, valueUpdate: 'input', event: {change: function (){this.changes(this.changes()+1)}}\",\"orient\":\"horizontal\"},\"step\":1,\"className\":\"slider slider is-fullwidth\",\"style\":{}},\"nodeType\":\"DOM\",\"type\":\"node\",\"instanceArgs\":{\"namespace\":\"html\",\"tag\":\"input\"},\"children\":[]}]},{\"props\":{\"className\":\"interact-flex-row-right\"},\"nodeType\":\"DOM\",\"type\":\"node\",\"instanceArgs\":{\"namespace\":\"html\",\"tag\":\"div\"},\"children\":[{\"props\":{\"attributes\":{\"data-bind\":\"text: formatted_val\"}},\"nodeType\":\"DOM\",\"type\":\"node\",\"instanceArgs\":{\"namespace\":\"html\",\"tag\":\"p\"},\"children\":[]}]}]}]}]},{\"props\":{},\"nodeType\":\"Scope\",\"type\":\"node\",\"instanceArgs\":{\"imports\":{\"data\":[],\"type\":\"async_block\"},\"id\":\"scope-7d13a59b-691d-40da-b65c-93f2587aad81\",\"handlers\":{\"obs-output\":[\"function (value, scope) {\\n    scope.setInnerHTML(value);\\n}\\n\"]},\"systemjs_options\":null,\"mount_callbacks\":[],\"observables\":{\"obs-output\":{\"sync\":false,\"id\":\"ob_41\",\"value\":\"<?xml version=\\\"1.0\\\" encoding=\\\"utf-8\\\"?>\\n<svg xmlns=\\\"http:\\/\\/www.w3.org\\/2000\\/svg\\\" xmlns:xlink=\\\"http:\\/\\/www.w3.org\\/1999\\/xlink\\\" width=\\\"2400\\\" height=\\\"1600\\\" viewBox=\\\"0 0 2400 1600\\\">\\n<defs>\\n  <clipPath id=\\\"clip00\\\">\\n    <rect x=\\\"0\\\" y=\\\"0\\\" width=\\\"2400\\\" height=\\\"1600\\\"\\/>\\n  <\\/clipPath>\\n<\\/defs>\\n<polygon clip-path=\\\"url(#clip00)\\\" points=\\\"\\n0,1600 2400,1600 2400,0 0,0 \\n  \\\" fill=\\\"#ffffff\\\" fill-opacity=\\\"1\\\"\\/>\\n<defs>\\n  <clipPath id=\\\"clip01\\\">\\n    <rect x=\\\"480\\\" y=\\\"0\\\" width=\\\"1681\\\" height=\\\"1600\\\"\\/>\\n  <\\/clipPath>\\n<\\/defs>\\n<polygon clip-path=\\\"url(#clip00)\\\" points=\\\"\\n506.891,1503.25 1962.9,1503.25 1962.9,47.2441 506.891,47.2441 \\n  \\\" fill=\\\"#ffffff\\\" fill-opacity=\\\"1\\\"\\/>\\n<defs>\\n  <clipPath id=\\\"clip02\\\">\\n    <rect x=\\\"506\\\" y=\\\"47\\\" width=\\\"1457\\\" height=\\\"1457\\\"\\/>\\n  <\\/clipPath>\\n<\\/defs>\\n<polyline clip-path=\\\"url(#clip02)\\\" style=\\\"stroke:#00002d; stroke-width:1.6; stroke-opacity:0.1; fill:none\\\" points=\\\"\\n  506.891,1503.25 506.891,47.2441 \\n  \\\"\\/>\\n<polyline clip-path=\\\"url(#clip02)\\\" style=\\\"stroke:#00002d; stroke-width:1.6; stroke-opacity:0.1; fill:none\\\" points=\\\"\\n  870.894,1503.25 870.894,47.2441 \\n  \\\"\\/>\\n<polyline clip-path=\\\"url(#clip02)\\\" style=\\\"stroke:#00002d; stroke-width:1.6; stroke-opacity:0.1; fill:none\\\" points=\\\"\\n  1234.9,1503.25 1234.9,47.2441 \\n  \\\"\\/>\\n<polyline clip-path=\\\"url(#clip02)\\\" style=\\\"stroke:#00002d; stroke-width:1.6; stroke-opacity:0.1; fill:none\\\" points=\\\"\\n  1598.9,1503.25 1598.9,47.2441 \\n  \\\"\\/>\\n<polyline clip-path=\\\"url(#clip02)\\\" style=\\\"stroke:#00002d; stroke-width:1.6; stroke-opacity:0.1; fill:none\\\" points=\\\"\\n  1962.9,1503.25 1962.9,47.2441 \\n  \\\"\\/>\\n<polyline clip-path=\\\"url(#clip02)\\\" style=\\\"stroke:#00002d; stroke-width:1.6; stroke-opacity:0.1; fill:none\\\" points=\\\"\\n  506.891,1503.25 1962.9,1503.25 \\n  \\\"\\/>\\n<polyline clip-path=\\\"url(#clip02)\\\" style=\\\"stroke:#00002d; stroke-width:1.6; stroke-opacity:0.1; fill:none\\\" points=\\\"\\n  506.891,1139.25 1962.9,1139.25 \\n  \\\"\\/>\\n<polyline clip-path=\\\"url(#clip02)\\\" style=\\\"stroke:#00002d; stroke-width:1.6; stroke-opacity:0.1; fill:none\\\" points=\\\"\\n  506.891,775.249 1962.9,775.249 \\n  \\\"\\/>\\n<polyline clip-path=\\\"url(#clip02)\\\" style=\\\"stroke:#00002d; stroke-width:1.6; stroke-opacity:0.1; fill:none\\\" points=\\\"\\n  506.891,411.247 1962.9,411.247 \\n  \\\"\\/>\\n<polyline clip-path=\\\"url(#clip02)\\\" style=\\\"stroke:#00002d; stroke-width:1.6; stroke-opacity:0.1; fill:none\\\" points=\\\"\\n  506.891,47.2441 1962.9,47.2441 \\n  \\\"\\/>\\n<polyline clip-path=\\\"url(#clip00)\\\" style=\\\"stroke:#00002d; stroke-width:3.2; stroke-opacity:1; fill:none\\\" points=\\\"\\n  506.891,1503.25 1962.9,1503.25 \\n  \\\"\\/>\\n<polyline clip-path=\\\"url(#clip00)\\\" style=\\\"stroke:#00002d; stroke-width:3.2; stroke-opacity:1; fill:none\\\" points=\\\"\\n  506.891,1503.25 506.891,47.2441 \\n  \\\"\\/>\\n<polyline clip-path=\\\"url(#clip00)\\\" style=\\\"stroke:#00002d; stroke-width:3.2; stroke-opacity:1; fill:none\\\" points=\\\"\\n  506.891,1503.25 506.891,1481.41 \\n  \\\"\\/>\\n<polyline clip-path=\\\"url(#clip00)\\\" style=\\\"stroke:#00002d; stroke-width:3.2; stroke-opacity:1; fill:none\\\" points=\\\"\\n  870.894,1503.25 870.894,1481.41 \\n  \\\"\\/>\\n<polyline clip-path=\\\"url(#clip00)\\\" style=\\\"stroke:#00002d; stroke-width:3.2; stroke-opacity:1; fill:none\\\" points=\\\"\\n  1234.9,1503.25 1234.9,1481.41 \\n  \\\"\\/>\\n<polyline clip-path=\\\"url(#clip00)\\\" style=\\\"stroke:#00002d; stroke-width:3.2; stroke-opacity:1; fill:none\\\" points=\\\"\\n  1598.9,1503.25 1598.9,1481.41 \\n  \\\"\\/>\\n<polyline clip-path=\\\"url(#clip00)\\\" style=\\\"stroke:#00002d; stroke-width:3.2; stroke-opacity:1; fill:none\\\" points=\\\"\\n  1962.9,1503.25 1962.9,1481.41 \\n  \\\"\\/>\\n<polyline clip-path=\\\"url(#clip00)\\\" style=\\\"stroke:#00002d; stroke-width:3.2; stroke-opacity:1; fill:none\\\" points=\\\"\\n  506.891,1503.25 528.732,1503.25 \\n  \\\"\\/>\\n<polyline clip-path=\\\"url(#clip00)\\\" style=\\\"stroke:#00002d; stroke-width:3.2; stroke-opacity:1; fill:none\\\" points=\\\"\\n  506.891,1139.25 528.732,1139.25 \\n  \\\"\\/>\\n<polyline clip-path=\\\"url(#clip00)\\\" style=\\\"stroke:#00002d; stroke-width:3.2; stroke-opacity:1; fill:none\\\" points=\\\"\\n  506.891,775.249 528.732,775.249 \\n  \\\"\\/>\\n<polyline clip-path=\\\"url(#clip00)\\\" style=\\\"stroke:#00002d; stroke-width:3.2; stroke-opacity:1; fill:none\\\" points=\\\"\\n  506.891,411.247 528.732,411.247 \\n  \\\"\\/>\\n<polyline clip-path=\\\"url(#clip00)\\\" style=\\\"stroke:#00002d; stroke-width:3.2; stroke-opacity:1; fill:none\\\" points=\\\"\\n  506.891,47.2441 528.732,47.2441 \\n  \\\"\\/>\\n<g clip-path=\\\"url(#clip00)\\\">\\n<text style=\\\"fill:#00002d; fill-opacity:1; font-family:Arial,Helvetica Neue,Helvetica,sans-serif; font-size:48; text-anchor:middle;\\\" transform=\\\"rotate(0, 506.891, 1557.25)\\\" x=\\\"506.891\\\" y=\\\"1557.25\\\">-2<\\/text>\\n<\\/g>\\n<g clip-path=\\\"url(#clip00)\\\">\\n<text style=\\\"fill:#00002d; fill-opacity:1; font-family:Arial,Helvetica Neue,Helvetica,sans-serif; font-size:48; text-anchor:middle;\\\" transform=\\\"rotate(0, 870.894, 1557.25)\\\" x=\\\"870.894\\\" y=\\\"1557.25\\\">-1<\\/text>\\n<\\/g>\\n<g clip-path=\\\"url(#clip00)\\\">\\n<text style=\\\"fill:#00002d; fill-opacity:1; font-family:Arial,Helvetica Neue,Helvetica,sans-serif; font-size:48; text-anchor:middle;\\\" transform=\\\"rotate(0, 1234.9, 1557.25)\\\" x=\\\"1234.9\\\" y=\\\"1557.25\\\">0<\\/text>\\n<\\/g>\\n<g clip-path=\\\"url(#clip00)\\\">\\n<text style=\\\"fill:#00002d; fill-opacity:1; font-family:Arial,Helvetica Neue,Helvetica,sans-serif; font-size:48; text-anchor:middle;\\\" transform=\\\"rotate(0, 1598.9, 1557.25)\\\" x=\\\"1598.9\\\" y=\\\"1557.25\\\">1<\\/text>\\n<\\/g>\\n<g clip-path=\\\"url(#clip00)\\\">\\n<text style=\\\"fill:#00002d; fill-opacity:1; font-family:Arial,Helvetica Neue,Helvetica,sans-serif; font-size:48; text-anchor:middle;\\\" transform=\\\"rotate(0, 1962.9, 1557.25)\\\" x=\\\"1962.9\\\" y=\\\"1557.25\\\">2<\\/text>\\n<\\/g>\\n<g clip-path=\\\"url(#clip00)\\\">\\n<text style=\\\"fill:#00002d; fill-opacity:1; font-family:Arial,Helvetica Neue,Helvetica,sans-serif; font-size:48; text-anchor:end;\\\" transform=\\\"rotate(0, 482.891, 1520.75)\\\" x=\\\"482.891\\\" y=\\\"1520.75\\\">-2<\\/text>\\n<\\/g>\\n<g clip-path=\\\"url(#clip00)\\\">\\n<text style=\\\"fill:#00002d; fill-opacity:1; font-family:Arial,Helvetica Neue,Helvetica,sans-serif; font-size:48; text-anchor:end;\\\" transform=\\\"rotate(0, 482.891, 1156.75)\\\" x=\\\"482.891\\\" y=\\\"1156.75\\\">-1<\\/text>\\n<\\/g>\\n<g clip-path=\\\"url(#clip00)\\\">\\n<text style=\\\"fill:#00002d; fill-opacity:1; font-family:Arial,Helvetica Neue,Helvetica,sans-serif; font-size:48; text-anchor:end;\\\" transform=\\\"rotate(0, 482.891, 792.749)\\\" x=\\\"482.891\\\" y=\\\"792.749\\\">0<\\/text>\\n<\\/g>\\n<g clip-path=\\\"url(#clip00)\\\">\\n<text style=\\\"fill:#00002d; fill-opacity:1; font-family:Arial,Helvetica Neue,Helvetica,sans-serif; font-size:48; text-anchor:end;\\\" transform=\\\"rotate(0, 482.891, 428.747)\\\" x=\\\"482.891\\\" y=\\\"428.747\\\">1<\\/text>\\n<\\/g>\\n<g clip-path=\\\"url(#clip00)\\\">\\n<text style=\\\"fill:#00002d; fill-opacity:1; font-family:Arial,Helvetica Neue,Helvetica,sans-serif; font-size:48; text-anchor:end;\\\" transform=\\\"rotate(0, 482.891, 64.7441)\\\" x=\\\"482.891\\\" y=\\\"64.7441\\\">2<\\/text>\\n<\\/g>\\n<polyline clip-path=\\\"url(#clip02)\\\" style=\\\"stroke:#008100; stroke-width:6.4; stroke-opacity:1; fill:none\\\" points=\\\"\\n  1234.9,775.249 1598.87,779.832 \\n  \\\"\\/>\\n<polyline clip-path=\\\"url(#clip02)\\\" style=\\\"stroke:#008100; stroke-width:6.4; stroke-opacity:1; fill:none\\\" points=\\\"\\n  1563.1,761.38 1598.87,779.832 1562.65,797.377 \\n  \\\"\\/>\\n<polyline clip-path=\\\"url(#clip02)\\\" style=\\\"stroke:#008100; stroke-width:6.4; stroke-opacity:1; fill:none\\\" points=\\\"\\n  1598.87,779.832 1234.9,775.249 \\n  \\\"\\/>\\n<polyline clip-path=\\\"url(#clip02)\\\" style=\\\"stroke:#0000ff; stroke-width:9.6; stroke-opacity:1; fill:none\\\" points=\\\"\\n  1234.9,775.249 1234.9,775.249 \\n  \\\"\\/>\\n<polyline clip-path=\\\"url(#clip02)\\\" style=\\\"stroke:#0000ff; stroke-width:9.6; stroke-opacity:1; fill:none\\\" points=\\\"\\n  nan,nan nan,nan nan,nan \\n  \\\"\\/>\\n<polyline clip-path=\\\"url(#clip02)\\\" style=\\\"stroke:#0000ff; stroke-width:9.6; stroke-opacity:1; fill:none\\\" points=\\\"\\n  nan,nan nan,nan \\n  \\\"\\/>\\n<polyline clip-path=\\\"url(#clip02)\\\" style=\\\"stroke:#008100; stroke-width:3.2; stroke-opacity:1; fill:none\\\" stroke-dasharray=\\\"13, 8\\\" points=\\\"\\n  1598.9,775.249 1598.88,771.609 1598.83,767.969 1598.73,764.331 1598.61,760.693 1598.44,757.056 1598.24,753.422 1598.01,749.79 1597.73,746.16 1597.43,742.533 \\n  1597.08,738.909 1596.7,735.289 1596.28,731.673 1595.83,728.062 1595.34,724.455 1594.81,720.853 1594.25,717.257 1593.65,713.666 1593.02,710.082 1592.35,706.504 \\n  1591.64,702.933 1590.9,699.369 1590.13,695.813 1589.31,692.265 1588.47,688.725 1587.58,685.193 1586.66,681.671 1585.71,678.158 1584.72,674.655 1583.7,671.162 \\n  1582.64,667.679 1581.55,664.207 1580.42,660.746 1579.26,657.296 1578.06,653.859 1576.83,650.433 1575.56,647.02 1574.27,643.62 1572.93,640.233 1571.57,636.859 \\n  1570.16,633.5 1568.73,630.154 1567.26,626.823 1565.76,623.507 1564.23,620.206 1562.66,616.92 1561.06,613.651 1559.43,610.397 1557.76,607.16 1556.07,603.94 \\n  1554.34,600.737 1552.58,597.551 1550.78,594.383 1548.96,591.234 1547.1,588.102 1545.22,584.99 1543.3,581.896 1541.35,578.822 1539.37,575.767 1537.36,572.732 \\n  1535.32,569.718 1533.25,566.724 1531.15,563.751 1529.02,560.799 1526.86,557.868 1524.67,554.96 1522.46,552.073 1520.21,549.209 1517.93,546.367 1515.63,543.548 \\n  1513.3,540.752 1510.94,537.98 1508.56,535.231 1506.14,532.507 1503.7,529.807 1501.23,527.131 1498.74,524.48 1496.22,521.854 1493.67,519.254 1491.1,516.679 \\n  1488.5,514.13 1485.88,511.607 1483.23,509.11 1480.55,506.64 1477.85,504.197 1475.13,501.781 1472.39,499.392 1469.61,497.031 1466.82,494.698 1464,492.393 \\n  1461.16,490.116 1458.3,487.868 1455.42,485.648 1452.51,483.457 1449.58,481.296 1446.63,479.164 1443.66,477.061 1440.67,474.989 1437.65,472.946 1434.62,470.933 \\n  1431.57,468.951 1428.49,467 1425.4,465.08 1422.29,463.19 1419.16,461.332 1416.01,459.505 1412.85,457.709 1409.66,455.946 1406.46,454.214 1403.24,452.515 \\n  1400.01,450.847 1396.75,449.212 1393.49,447.61 1390.2,446.041 1386.9,444.504 1383.59,443.001 1380.26,441.53 1376.91,440.093 1373.55,438.69 1370.18,437.32 \\n  1366.8,435.984 1363.4,434.682 1359.98,433.415 1356.56,432.181 1353.12,430.981 1349.67,429.816 1346.21,428.686 1342.74,427.59 1339.26,426.529 1335.77,425.503 \\n  1332.27,424.511 1328.75,423.555 1325.23,422.634 1321.7,421.749 1318.16,420.898 1314.62,420.083 1311.06,419.304 1307.5,418.56 1303.93,417.852 1300.35,417.179 \\n  1296.76,416.543 1293.17,415.942 1289.58,415.377 1285.98,414.848 1282.37,414.356 1278.76,413.899 1275.14,413.478 1271.52,413.094 1267.9,412.746 1264.27,412.434 \\n  1260.64,412.158 1257.01,411.919 1253.38,411.716 1249.74,411.549 1246.1,411.419 1242.47,411.325 1238.83,411.268 1235.19,411.247 1231.55,411.262 1227.91,411.314 \\n  1224.27,411.402 1220.63,411.526 1216.99,411.687 1213.36,411.884 1209.73,412.118 1206.1,412.388 1202.47,412.694 1198.85,413.036 1195.22,413.415 1191.61,413.83 \\n  1188,414.281 1184.39,414.768 1180.79,415.291 1177.19,415.85 1173.6,416.445 1170.01,417.076 1166.44,417.742 1162.86,418.445 1159.3,419.183 1155.74,419.957 \\n  1152.19,420.766 1148.65,421.611 1145.12,422.491 1141.6,423.406 1138.08,424.357 1134.58,425.342 1131.09,426.363 1127.6,427.419 1124.13,428.509 1120.67,429.634 \\n  1117.22,430.793 1113.78,431.987 1110.35,433.216 1106.94,434.478 1103.54,435.775 1100.15,437.105 1096.77,438.47 1093.41,439.868 1090.07,441.299 1086.74,442.764 \\n  1083.42,444.262 1080.12,445.794 1076.83,447.358 1073.56,448.955 1070.3,450.585 1067.06,452.247 1063.84,453.941 1060.64,455.668 1057.45,457.426 1054.28,459.217 \\n  1051.13,461.039 1048,462.892 1044.88,464.777 1041.79,466.692 1038.71,468.639 1035.66,470.616 1032.62,472.623 1029.6,474.661 1026.61,476.729 1023.63,478.827 \\n  1020.68,480.954 1017.75,483.111 1014.84,485.297 1011.95,487.512 1009.08,489.756 1006.24,492.028 1003.42,494.329 1000.62,496.658 997.847,499.015 995.097,501.399 \\n  992.37,503.81 989.668,506.249 986.99,508.715 984.337,511.207 981.709,513.726 979.107,516.271 976.53,518.842 973.979,521.438 971.454,524.06 968.955,526.707 \\n  966.483,529.379 964.038,532.075 961.62,534.796 959.229,537.541 956.866,540.309 954.53,543.101 952.223,545.916 949.944,548.754 947.693,551.615 945.471,554.498 \\n  943.278,557.404 941.114,560.331 938.98,563.279 936.875,566.249 934.8,569.24 932.755,572.251 930.74,575.282 928.755,578.334 926.802,581.405 924.879,584.496 \\n  922.987,587.605 921.126,590.734 919.296,593.881 917.499,597.046 915.732,600.228 913.998,603.429 912.296,606.646 910.626,609.881 908.989,613.131 907.384,616.399 \\n  905.812,619.682 904.273,622.98 902.766,626.294 901.294,629.623 899.854,632.966 898.448,636.323 897.076,639.695 895.737,643.08 894.432,646.478 893.162,649.889 \\n  891.925,653.312 890.723,656.748 889.555,660.196 888.422,663.655 887.323,667.125 886.259,670.606 885.23,674.098 884.236,677.599 883.277,681.111 882.354,684.632 \\n  881.465,688.162 880.612,691.7 879.794,695.247 879.012,698.802 878.265,702.365 877.554,705.935 876.879,709.511 876.24,713.095 875.636,716.684 875.068,720.28 \\n  874.537,723.881 874.041,727.487 873.581,731.098 873.158,734.713 872.771,738.333 872.42,741.956 872.105,745.582 871.826,749.211 871.584,752.843 871.378,756.477 \\n  871.209,760.113 871.075,763.751 870.979,767.39 870.918,771.029 870.894,774.669 870.907,778.309 870.955,781.949 871.041,785.588 871.162,789.226 871.32,792.862 \\n  871.515,796.497 871.745,800.13 872.012,803.76 872.315,807.388 872.655,811.012 873.031,814.632 873.443,818.249 873.891,821.861 874.375,825.469 874.895,829.072 \\n  875.451,832.669 876.043,836.26 876.671,839.846 877.335,843.425 878.035,846.997 878.77,850.562 879.541,854.119 880.348,857.669 881.19,861.21 882.067,864.743 \\n  882.979,868.267 883.927,871.781 884.91,875.286 885.928,878.781 886.981,882.265 888.068,885.739 889.19,889.201 890.347,892.653 891.538,896.092 892.764,899.52 \\n  894.024,902.935 895.318,906.337 896.645,909.726 898.007,913.102 899.402,916.464 900.831,919.812 902.294,923.145 903.789,926.464 905.318,929.767 906.88,933.055 \\n  908.474,936.327 910.101,939.584 911.761,942.823 913.453,946.046 915.177,949.252 916.933,952.44 918.72,955.611 920.54,958.764 922.391,961.898 924.273,965.014 \\n  926.186,968.111 928.13,971.188 930.104,974.246 932.11,977.284 934.145,980.301 936.211,983.299 938.306,986.275 940.431,989.23 942.586,992.164 944.769,995.076 \\n  946.982,997.967 949.224,1000.83 951.494,1003.68 953.792,1006.5 956.119,1009.3 958.473,1012.08 960.855,1014.83 963.265,1017.56 965.701,1020.26 968.165,1022.94 \\n  970.655,1025.6 973.172,1028.23 975.715,1030.83 978.283,1033.41 980.878,1035.96 983.498,1038.49 986.143,1040.99 988.812,1043.47 991.507,1045.91 994.226,1048.33 \\n  996.968,1050.73 999.735,1053.09 1002.53,1055.43 1005.34,1057.74 1008.17,1060.02 1011.03,1062.27 1013.92,1064.5 1016.82,1066.69 1019.74,1068.86 1022.69,1071 \\n  1025.66,1073.1 1028.65,1075.18 1031.66,1077.23 1034.69,1079.25 1037.74,1081.23 1040.81,1083.19 1043.9,1085.11 1047,1087.01 1050.13,1088.87 1053.28,1090.7 \\n  1056.44,1092.5 1059.62,1094.27 1062.82,1096.01 1066.04,1097.71 1069.27,1099.39 1072.52,1101.03 1075.79,1102.63 1079.07,1104.21 1082.36,1105.75 1085.68,1107.26 \\n  1089,1108.74 1092.35,1110.18 1095.7,1111.59 1099.07,1112.96 1102.46,1114.3 1105.85,1115.61 1109.26,1116.88 1112.69,1118.12 1116.12,1119.33 1119.57,1120.5 \\n  1123.03,1121.63 1126.5,1122.74 1129.98,1123.8 1133.47,1124.83 1136.97,1125.83 1140.48,1126.79 1144,1127.72 1147.53,1128.61 1151.07,1129.47 1154.61,1130.29 \\n  1158.17,1131.07 1161.73,1131.82 1165.3,1132.54 1168.87,1133.21 1172.46,1133.86 1176.05,1134.46 1179.64,1135.03 1183.24,1135.57 1186.85,1136.07 1190.46,1136.53 \\n  1194.07,1136.95 1197.69,1137.35 1201.31,1137.7 1204.94,1138.02 1208.57,1138.3 1212.2,1138.54 1215.84,1138.75 1219.47,1138.92 1223.11,1139.06 1226.75,1139.16 \\n  1230.39,1139.22 1234.03,1139.25 1237.67,1139.24 1241.31,1139.19 1244.95,1139.11 1248.58,1138.99 1252.22,1138.84 1255.86,1138.65 1259.49,1138.42 1263.12,1138.16 \\n  1266.75,1137.86 1270.37,1137.52 1273.99,1137.15 1277.61,1136.74 1281.22,1136.29 1284.83,1135.81 1288.43,1135.29 1292.03,1134.74 1295.62,1134.15 1299.21,1133.53 \\n  1302.79,1132.86 1306.36,1132.17 1309.93,1131.43 1313.48,1130.67 1317.03,1129.86 1320.58,1129.02 1324.11,1128.15 1327.63,1127.24 1331.15,1126.29 1334.65,1125.31 \\n  1338.15,1124.3 1341.64,1123.25 1345.11,1122.16 1348.57,1121.05 1352.03,1119.89 1355.47,1118.7 1358.89,1117.48 1362.31,1116.22 1365.71,1114.93 1369.1,1113.61 \\n  1372.48,1112.25 1375.84,1110.86 1379.19,1109.43 1382.53,1107.97 1385.85,1106.48 1389.15,1104.95 1392.44,1103.39 1395.71,1101.8 1398.97,1100.17 1402.21,1098.52 \\n  1405.44,1096.83 1408.64,1095.11 1411.83,1093.35 1415.01,1091.57 1418.16,1089.75 1421.3,1087.9 1424.41,1086.02 1427.51,1084.11 1430.59,1082.17 1433.65,1080.2 \\n  1436.69,1078.2 1439.71,1076.16 1442.71,1074.1 1445.69,1072.01 1448.64,1069.88 1451.58,1067.73 1454.49,1065.55 1457.38,1063.34 1460.25,1061.1 1463.1,1058.83 \\n  1465.93,1056.54 1468.73,1054.21 1471.51,1051.86 1474.26,1049.48 1476.99,1047.07 1479.7,1044.64 1482.38,1042.18 1485.03,1039.69 1487.67,1037.17 1490.27,1034.63 \\n  1492.85,1032.07 1495.41,1029.47 1497.94,1026.86 1500.44,1024.21 1502.92,1021.55 1505.37,1018.85 1507.79,1016.14 1510.18,1013.4 1512.55,1010.63 1514.89,1007.84 \\n  1517.2,1005.03 1519.49,1002.2 1521.74,999.34 1523.97,996.46 1526.17,993.558 1528.34,990.635 1530.47,987.69 1532.58,984.723 1534.66,981.736 1536.71,978.728 \\n  1538.73,975.7 1540.72,972.651 1542.68,969.583 1544.61,966.496 1546.51,963.389 1548.37,960.264 1550.21,957.12 1552.01,953.958 1553.78,950.778 1555.52,947.58 \\n  1557.23,944.365 1558.9,941.134 1560.55,937.885 1562.16,934.621 1563.73,931.34 1565.28,928.044 1566.79,924.733 1568.27,921.406 1569.71,918.065 1571.12,914.71 \\n  1572.5,911.341 1573.84,907.958 1575.15,904.562 1576.43,901.153 1577.67,897.732 1578.88,894.298 1580.05,890.852 1581.19,887.395 1582.3,883.926 1583.37,880.447 \\n  1584.4,876.957 1585.4,873.457 1586.36,869.947 1587.29,866.428 1588.19,862.899 1589.05,859.362 1589.87,855.816 1590.66,852.262 1591.41,848.701 1592.13,845.132 \\n  1592.81,841.557 1593.45,837.974 1594.06,834.386 1594.64,830.791 1595.17,827.191 1595.68,823.586 1596.14,819.975 1596.57,816.361 1596.96,812.742 1597.32,809.12 \\n  1597.64,805.494 1597.92,801.865 1598.17,798.233 1598.38,794.599 1598.56,790.964 1598.7,787.326 1598.8,783.688 1598.87,780.048 1598.9,776.408 \\n  \\\"\\/>\\n<polyline clip-path=\\\"url(#clip02)\\\" style=\\\"stroke:#0000ff; stroke-width:3.2; stroke-opacity:1; fill:none\\\" stroke-dasharray=\\\"13, 8\\\" points=\\\"\\n  1234.9,775.249 1234.9,775.249 \\n  \\n  \\n  \\n  \\n  \\n  \\n  \\n  \\n  \\n  \\n  \\n  \\n  \\n  \\n  \\n  \\n  \\n  \\n  \\n  \\n  \\n  \\n  \\n  \\n  \\n  \\n  \\n  \\n  \\n  \\n  \\n  \\n  \\n  \\n  \\n  \\n  \\n  \\n  \\n  \\n  \\n  \\n  \\n  \\n  \\n  \\n  \\n  \\n  \\n  \\n  \\n  \\n  \\n  \\n  \\n  \\n  \\n  \\n  \\n  \\n  \\n  \\n  \\\"\\/>\\n<polyline clip-path=\\\"url(#clip02)\\\" style=\\\"stroke:#ff00ff; stroke-width:12.8; stroke-opacity:1; fill:none\\\" points=\\\"\\n  1234.9,775.249 1234.9,775.249 \\n  \\\"\\/>\\n<polyline clip-path=\\\"url(#clip02)\\\" style=\\\"stroke:#ff00ff; stroke-width:12.8; stroke-opacity:1; fill:none\\\" points=\\\"\\n  1234.9,775.249 1598.87,779.832 \\n  \\\"\\/>\\n<circle clip-path=\\\"url(#clip02)\\\" style=\\\"fill:#00002d; stroke:none; fill-opacity:1\\\" cx=\\\"1234.9\\\" cy=\\\"775.249\\\" r=\\\"14\\\"\\/>\\n<circle clip-path=\\\"url(#clip02)\\\" style=\\\"fill:#ff5d5d; stroke:none; fill-opacity:1\\\" cx=\\\"1234.9\\\" cy=\\\"775.249\\\" r=\\\"11\\\"\\/>\\n<\\/svg>\\n\"}}},\"children\":[{\"props\":{\"className\":\"webio-observable\",\"setInnerHtml\":\"<?xml version=\\\"1.0\\\" encoding=\\\"utf-8\\\"?>\\n<svg xmlns=\\\"http:\\/\\/www.w3.org\\/2000\\/svg\\\" xmlns:xlink=\\\"http:\\/\\/www.w3.org\\/1999\\/xlink\\\" width=\\\"2400\\\" height=\\\"1600\\\" viewBox=\\\"0 0 2400 1600\\\">\\n<defs>\\n  <clipPath id=\\\"clip00\\\">\\n    <rect x=\\\"0\\\" y=\\\"0\\\" width=\\\"2400\\\" height=\\\"1600\\\"\\/>\\n  <\\/clipPath>\\n<\\/defs>\\n<polygon clip-path=\\\"url(#clip00)\\\" points=\\\"\\n0,1600 2400,1600 2400,0 0,0 \\n  \\\" fill=\\\"#ffffff\\\" fill-opacity=\\\"1\\\"\\/>\\n<defs>\\n  <clipPath id=\\\"clip01\\\">\\n    <rect x=\\\"480\\\" y=\\\"0\\\" width=\\\"1681\\\" height=\\\"1600\\\"\\/>\\n  <\\/clipPath>\\n<\\/defs>\\n<polygon clip-path=\\\"url(#clip00)\\\" points=\\\"\\n506.891,1503.25 1962.9,1503.25 1962.9,47.2441 506.891,47.2441 \\n  \\\" fill=\\\"#ffffff\\\" fill-opacity=\\\"1\\\"\\/>\\n<defs>\\n  <clipPath id=\\\"clip02\\\">\\n    <rect x=\\\"506\\\" y=\\\"47\\\" width=\\\"1457\\\" height=\\\"1457\\\"\\/>\\n  <\\/clipPath>\\n<\\/defs>\\n<polyline clip-path=\\\"url(#clip02)\\\" style=\\\"stroke:#00002d; stroke-width:1.6; stroke-opacity:0.1; fill:none\\\" points=\\\"\\n  506.891,1503.25 506.891,47.2441 \\n  \\\"\\/>\\n<polyline clip-path=\\\"url(#clip02)\\\" style=\\\"stroke:#00002d; stroke-width:1.6; stroke-opacity:0.1; fill:none\\\" points=\\\"\\n  870.894,1503.25 870.894,47.2441 \\n  \\\"\\/>\\n<polyline clip-path=\\\"url(#clip02)\\\" style=\\\"stroke:#00002d; stroke-width:1.6; stroke-opacity:0.1; fill:none\\\" points=\\\"\\n  1234.9,1503.25 1234.9,47.2441 \\n  \\\"\\/>\\n<polyline clip-path=\\\"url(#clip02)\\\" style=\\\"stroke:#00002d; stroke-width:1.6; stroke-opacity:0.1; fill:none\\\" points=\\\"\\n  1598.9,1503.25 1598.9,47.2441 \\n  \\\"\\/>\\n<polyline clip-path=\\\"url(#clip02)\\\" style=\\\"stroke:#00002d; stroke-width:1.6; stroke-opacity:0.1; fill:none\\\" points=\\\"\\n  1962.9,1503.25 1962.9,47.2441 \\n  \\\"\\/>\\n<polyline clip-path=\\\"url(#clip02)\\\" style=\\\"stroke:#00002d; stroke-width:1.6; stroke-opacity:0.1; fill:none\\\" points=\\\"\\n  506.891,1503.25 1962.9,1503.25 \\n  \\\"\\/>\\n<polyline clip-path=\\\"url(#clip02)\\\" style=\\\"stroke:#00002d; stroke-width:1.6; stroke-opacity:0.1; fill:none\\\" points=\\\"\\n  506.891,1139.25 1962.9,1139.25 \\n  \\\"\\/>\\n<polyline clip-path=\\\"url(#clip02)\\\" style=\\\"stroke:#00002d; stroke-width:1.6; stroke-opacity:0.1; fill:none\\\" points=\\\"\\n  506.891,775.249 1962.9,775.249 \\n  \\\"\\/>\\n<polyline clip-path=\\\"url(#clip02)\\\" style=\\\"stroke:#00002d; stroke-width:1.6; stroke-opacity:0.1; fill:none\\\" points=\\\"\\n  506.891,411.247 1962.9,411.247 \\n  \\\"\\/>\\n<polyline clip-path=\\\"url(#clip02)\\\" style=\\\"stroke:#00002d; stroke-width:1.6; stroke-opacity:0.1; fill:none\\\" points=\\\"\\n  506.891,47.2441 1962.9,47.2441 \\n  \\\"\\/>\\n<polyline clip-path=\\\"url(#clip00)\\\" style=\\\"stroke:#00002d; stroke-width:3.2; stroke-opacity:1; fill:none\\\" points=\\\"\\n  506.891,1503.25 1962.9,1503.25 \\n  \\\"\\/>\\n<polyline clip-path=\\\"url(#clip00)\\\" style=\\\"stroke:#00002d; stroke-width:3.2; stroke-opacity:1; fill:none\\\" points=\\\"\\n  506.891,1503.25 506.891,47.2441 \\n  \\\"\\/>\\n<polyline clip-path=\\\"url(#clip00)\\\" style=\\\"stroke:#00002d; stroke-width:3.2; stroke-opacity:1; fill:none\\\" points=\\\"\\n  506.891,1503.25 506.891,1481.41 \\n  \\\"\\/>\\n<polyline clip-path=\\\"url(#clip00)\\\" style=\\\"stroke:#00002d; stroke-width:3.2; stroke-opacity:1; fill:none\\\" points=\\\"\\n  870.894,1503.25 870.894,1481.41 \\n  \\\"\\/>\\n<polyline clip-path=\\\"url(#clip00)\\\" style=\\\"stroke:#00002d; stroke-width:3.2; stroke-opacity:1; fill:none\\\" points=\\\"\\n  1234.9,1503.25 1234.9,1481.41 \\n  \\\"\\/>\\n<polyline clip-path=\\\"url(#clip00)\\\" style=\\\"stroke:#00002d; stroke-width:3.2; stroke-opacity:1; fill:none\\\" points=\\\"\\n  1598.9,1503.25 1598.9,1481.41 \\n  \\\"\\/>\\n<polyline clip-path=\\\"url(#clip00)\\\" style=\\\"stroke:#00002d; stroke-width:3.2; stroke-opacity:1; fill:none\\\" points=\\\"\\n  1962.9,1503.25 1962.9,1481.41 \\n  \\\"\\/>\\n<polyline clip-path=\\\"url(#clip00)\\\" style=\\\"stroke:#00002d; stroke-width:3.2; stroke-opacity:1; fill:none\\\" points=\\\"\\n  506.891,1503.25 528.732,1503.25 \\n  \\\"\\/>\\n<polyline clip-path=\\\"url(#clip00)\\\" style=\\\"stroke:#00002d; stroke-width:3.2; stroke-opacity:1; fill:none\\\" points=\\\"\\n  506.891,1139.25 528.732,1139.25 \\n  \\\"\\/>\\n<polyline clip-path=\\\"url(#clip00)\\\" style=\\\"stroke:#00002d; stroke-width:3.2; stroke-opacity:1; fill:none\\\" points=\\\"\\n  506.891,775.249 528.732,775.249 \\n  \\\"\\/>\\n<polyline clip-path=\\\"url(#clip00)\\\" style=\\\"stroke:#00002d; stroke-width:3.2; stroke-opacity:1; fill:none\\\" points=\\\"\\n  506.891,411.247 528.732,411.247 \\n  \\\"\\/>\\n<polyline clip-path=\\\"url(#clip00)\\\" style=\\\"stroke:#00002d; stroke-width:3.2; stroke-opacity:1; fill:none\\\" points=\\\"\\n  506.891,47.2441 528.732,47.2441 \\n  \\\"\\/>\\n<g clip-path=\\\"url(#clip00)\\\">\\n<text style=\\\"fill:#00002d; fill-opacity:1; font-family:Arial,Helvetica Neue,Helvetica,sans-serif; font-size:48; text-anchor:middle;\\\" transform=\\\"rotate(0, 506.891, 1557.25)\\\" x=\\\"506.891\\\" y=\\\"1557.25\\\">-2<\\/text>\\n<\\/g>\\n<g clip-path=\\\"url(#clip00)\\\">\\n<text style=\\\"fill:#00002d; fill-opacity:1; font-family:Arial,Helvetica Neue,Helvetica,sans-serif; font-size:48; text-anchor:middle;\\\" transform=\\\"rotate(0, 870.894, 1557.25)\\\" x=\\\"870.894\\\" y=\\\"1557.25\\\">-1<\\/text>\\n<\\/g>\\n<g clip-path=\\\"url(#clip00)\\\">\\n<text style=\\\"fill:#00002d; fill-opacity:1; font-family:Arial,Helvetica Neue,Helvetica,sans-serif; font-size:48; text-anchor:middle;\\\" transform=\\\"rotate(0, 1234.9, 1557.25)\\\" x=\\\"1234.9\\\" y=\\\"1557.25\\\">0<\\/text>\\n<\\/g>\\n<g clip-path=\\\"url(#clip00)\\\">\\n<text style=\\\"fill:#00002d; fill-opacity:1; font-family:Arial,Helvetica Neue,Helvetica,sans-serif; font-size:48; text-anchor:middle;\\\" transform=\\\"rotate(0, 1598.9, 1557.25)\\\" x=\\\"1598.9\\\" y=\\\"1557.25\\\">1<\\/text>\\n<\\/g>\\n<g clip-path=\\\"url(#clip00)\\\">\\n<text style=\\\"fill:#00002d; fill-opacity:1; font-family:Arial,Helvetica Neue,Helvetica,sans-serif; font-size:48; text-anchor:middle;\\\" transform=\\\"rotate(0, 1962.9, 1557.25)\\\" x=\\\"1962.9\\\" y=\\\"1557.25\\\">2<\\/text>\\n<\\/g>\\n<g clip-path=\\\"url(#clip00)\\\">\\n<text style=\\\"fill:#00002d; fill-opacity:1; font-family:Arial,Helvetica Neue,Helvetica,sans-serif; font-size:48; text-anchor:end;\\\" transform=\\\"rotate(0, 482.891, 1520.75)\\\" x=\\\"482.891\\\" y=\\\"1520.75\\\">-2<\\/text>\\n<\\/g>\\n<g clip-path=\\\"url(#clip00)\\\">\\n<text style=\\\"fill:#00002d; fill-opacity:1; font-family:Arial,Helvetica Neue,Helvetica,sans-serif; font-size:48; text-anchor:end;\\\" transform=\\\"rotate(0, 482.891, 1156.75)\\\" x=\\\"482.891\\\" y=\\\"1156.75\\\">-1<\\/text>\\n<\\/g>\\n<g clip-path=\\\"url(#clip00)\\\">\\n<text style=\\\"fill:#00002d; fill-opacity:1; font-family:Arial,Helvetica Neue,Helvetica,sans-serif; font-size:48; text-anchor:end;\\\" transform=\\\"rotate(0, 482.891, 792.749)\\\" x=\\\"482.891\\\" y=\\\"792.749\\\">0<\\/text>\\n<\\/g>\\n<g clip-path=\\\"url(#clip00)\\\">\\n<text style=\\\"fill:#00002d; fill-opacity:1; font-family:Arial,Helvetica Neue,Helvetica,sans-serif; font-size:48; text-anchor:end;\\\" transform=\\\"rotate(0, 482.891, 428.747)\\\" x=\\\"482.891\\\" y=\\\"428.747\\\">1<\\/text>\\n<\\/g>\\n<g clip-path=\\\"url(#clip00)\\\">\\n<text style=\\\"fill:#00002d; fill-opacity:1; font-family:Arial,Helvetica Neue,Helvetica,sans-serif; font-size:48; text-anchor:end;\\\" transform=\\\"rotate(0, 482.891, 64.7441)\\\" x=\\\"482.891\\\" y=\\\"64.7441\\\">2<\\/text>\\n<\\/g>\\n<polyline clip-path=\\\"url(#clip02)\\\" style=\\\"stroke:#008100; stroke-width:6.4; stroke-opacity:1; fill:none\\\" points=\\\"\\n  1234.9,775.249 1598.87,779.832 \\n  \\\"\\/>\\n<polyline clip-path=\\\"url(#clip02)\\\" style=\\\"stroke:#008100; stroke-width:6.4; stroke-opacity:1; fill:none\\\" points=\\\"\\n  1563.1,761.38 1598.87,779.832 1562.65,797.377 \\n  \\\"\\/>\\n<polyline clip-path=\\\"url(#clip02)\\\" style=\\\"stroke:#008100; stroke-width:6.4; stroke-opacity:1; fill:none\\\" points=\\\"\\n  1598.87,779.832 1234.9,775.249 \\n  \\\"\\/>\\n<polyline clip-path=\\\"url(#clip02)\\\" style=\\\"stroke:#0000ff; stroke-width:9.6; stroke-opacity:1; fill:none\\\" points=\\\"\\n  1234.9,775.249 1234.9,775.249 \\n  \\\"\\/>\\n<polyline clip-path=\\\"url(#clip02)\\\" style=\\\"stroke:#0000ff; stroke-width:9.6; stroke-opacity:1; fill:none\\\" points=\\\"\\n  nan,nan nan,nan nan,nan \\n  \\\"\\/>\\n<polyline clip-path=\\\"url(#clip02)\\\" style=\\\"stroke:#0000ff; stroke-width:9.6; stroke-opacity:1; fill:none\\\" points=\\\"\\n  nan,nan nan,nan \\n  \\\"\\/>\\n<polyline clip-path=\\\"url(#clip02)\\\" style=\\\"stroke:#008100; stroke-width:3.2; stroke-opacity:1; fill:none\\\" stroke-dasharray=\\\"13, 8\\\" points=\\\"\\n  1598.9,775.249 1598.88,771.609 1598.83,767.969 1598.73,764.331 1598.61,760.693 1598.44,757.056 1598.24,753.422 1598.01,749.79 1597.73,746.16 1597.43,742.533 \\n  1597.08,738.909 1596.7,735.289 1596.28,731.673 1595.83,728.062 1595.34,724.455 1594.81,720.853 1594.25,717.257 1593.65,713.666 1593.02,710.082 1592.35,706.504 \\n  1591.64,702.933 1590.9,699.369 1590.13,695.813 1589.31,692.265 1588.47,688.725 1587.58,685.193 1586.66,681.671 1585.71,678.158 1584.72,674.655 1583.7,671.162 \\n  1582.64,667.679 1581.55,664.207 1580.42,660.746 1579.26,657.296 1578.06,653.859 1576.83,650.433 1575.56,647.02 1574.27,643.62 1572.93,640.233 1571.57,636.859 \\n  1570.16,633.5 1568.73,630.154 1567.26,626.823 1565.76,623.507 1564.23,620.206 1562.66,616.92 1561.06,613.651 1559.43,610.397 1557.76,607.16 1556.07,603.94 \\n  1554.34,600.737 1552.58,597.551 1550.78,594.383 1548.96,591.234 1547.1,588.102 1545.22,584.99 1543.3,581.896 1541.35,578.822 1539.37,575.767 1537.36,572.732 \\n  1535.32,569.718 1533.25,566.724 1531.15,563.751 1529.02,560.799 1526.86,557.868 1524.67,554.96 1522.46,552.073 1520.21,549.209 1517.93,546.367 1515.63,543.548 \\n  1513.3,540.752 1510.94,537.98 1508.56,535.231 1506.14,532.507 1503.7,529.807 1501.23,527.131 1498.74,524.48 1496.22,521.854 1493.67,519.254 1491.1,516.679 \\n  1488.5,514.13 1485.88,511.607 1483.23,509.11 1480.55,506.64 1477.85,504.197 1475.13,501.781 1472.39,499.392 1469.61,497.031 1466.82,494.698 1464,492.393 \\n  1461.16,490.116 1458.3,487.868 1455.42,485.648 1452.51,483.457 1449.58,481.296 1446.63,479.164 1443.66,477.061 1440.67,474.989 1437.65,472.946 1434.62,470.933 \\n  1431.57,468.951 1428.49,467 1425.4,465.08 1422.29,463.19 1419.16,461.332 1416.01,459.505 1412.85,457.709 1409.66,455.946 1406.46,454.214 1403.24,452.515 \\n  1400.01,450.847 1396.75,449.212 1393.49,447.61 1390.2,446.041 1386.9,444.504 1383.59,443.001 1380.26,441.53 1376.91,440.093 1373.55,438.69 1370.18,437.32 \\n  1366.8,435.984 1363.4,434.682 1359.98,433.415 1356.56,432.181 1353.12,430.981 1349.67,429.816 1346.21,428.686 1342.74,427.59 1339.26,426.529 1335.77,425.503 \\n  1332.27,424.511 1328.75,423.555 1325.23,422.634 1321.7,421.749 1318.16,420.898 1314.62,420.083 1311.06,419.304 1307.5,418.56 1303.93,417.852 1300.35,417.179 \\n  1296.76,416.543 1293.17,415.942 1289.58,415.377 1285.98,414.848 1282.37,414.356 1278.76,413.899 1275.14,413.478 1271.52,413.094 1267.9,412.746 1264.27,412.434 \\n  1260.64,412.158 1257.01,411.919 1253.38,411.716 1249.74,411.549 1246.1,411.419 1242.47,411.325 1238.83,411.268 1235.19,411.247 1231.55,411.262 1227.91,411.314 \\n  1224.27,411.402 1220.63,411.526 1216.99,411.687 1213.36,411.884 1209.73,412.118 1206.1,412.388 1202.47,412.694 1198.85,413.036 1195.22,413.415 1191.61,413.83 \\n  1188,414.281 1184.39,414.768 1180.79,415.291 1177.19,415.85 1173.6,416.445 1170.01,417.076 1166.44,417.742 1162.86,418.445 1159.3,419.183 1155.74,419.957 \\n  1152.19,420.766 1148.65,421.611 1145.12,422.491 1141.6,423.406 1138.08,424.357 1134.58,425.342 1131.09,426.363 1127.6,427.419 1124.13,428.509 1120.67,429.634 \\n  1117.22,430.793 1113.78,431.987 1110.35,433.216 1106.94,434.478 1103.54,435.775 1100.15,437.105 1096.77,438.47 1093.41,439.868 1090.07,441.299 1086.74,442.764 \\n  1083.42,444.262 1080.12,445.794 1076.83,447.358 1073.56,448.955 1070.3,450.585 1067.06,452.247 1063.84,453.941 1060.64,455.668 1057.45,457.426 1054.28,459.217 \\n  1051.13,461.039 1048,462.892 1044.88,464.777 1041.79,466.692 1038.71,468.639 1035.66,470.616 1032.62,472.623 1029.6,474.661 1026.61,476.729 1023.63,478.827 \\n  1020.68,480.954 1017.75,483.111 1014.84,485.297 1011.95,487.512 1009.08,489.756 1006.24,492.028 1003.42,494.329 1000.62,496.658 997.847,499.015 995.097,501.399 \\n  992.37,503.81 989.668,506.249 986.99,508.715 984.337,511.207 981.709,513.726 979.107,516.271 976.53,518.842 973.979,521.438 971.454,524.06 968.955,526.707 \\n  966.483,529.379 964.038,532.075 961.62,534.796 959.229,537.541 956.866,540.309 954.53,543.101 952.223,545.916 949.944,548.754 947.693,551.615 945.471,554.498 \\n  943.278,557.404 941.114,560.331 938.98,563.279 936.875,566.249 934.8,569.24 932.755,572.251 930.74,575.282 928.755,578.334 926.802,581.405 924.879,584.496 \\n  922.987,587.605 921.126,590.734 919.296,593.881 917.499,597.046 915.732,600.228 913.998,603.429 912.296,606.646 910.626,609.881 908.989,613.131 907.384,616.399 \\n  905.812,619.682 904.273,622.98 902.766,626.294 901.294,629.623 899.854,632.966 898.448,636.323 897.076,639.695 895.737,643.08 894.432,646.478 893.162,649.889 \\n  891.925,653.312 890.723,656.748 889.555,660.196 888.422,663.655 887.323,667.125 886.259,670.606 885.23,674.098 884.236,677.599 883.277,681.111 882.354,684.632 \\n  881.465,688.162 880.612,691.7 879.794,695.247 879.012,698.802 878.265,702.365 877.554,705.935 876.879,709.511 876.24,713.095 875.636,716.684 875.068,720.28 \\n  874.537,723.881 874.041,727.487 873.581,731.098 873.158,734.713 872.771,738.333 872.42,741.956 872.105,745.582 871.826,749.211 871.584,752.843 871.378,756.477 \\n  871.209,760.113 871.075,763.751 870.979,767.39 870.918,771.029 870.894,774.669 870.907,778.309 870.955,781.949 871.041,785.588 871.162,789.226 871.32,792.862 \\n  871.515,796.497 871.745,800.13 872.012,803.76 872.315,807.388 872.655,811.012 873.031,814.632 873.443,818.249 873.891,821.861 874.375,825.469 874.895,829.072 \\n  875.451,832.669 876.043,836.26 876.671,839.846 877.335,843.425 878.035,846.997 878.77,850.562 879.541,854.119 880.348,857.669 881.19,861.21 882.067,864.743 \\n  882.979,868.267 883.927,871.781 884.91,875.286 885.928,878.781 886.981,882.265 888.068,885.739 889.19,889.201 890.347,892.653 891.538,896.092 892.764,899.52 \\n  894.024,902.935 895.318,906.337 896.645,909.726 898.007,913.102 899.402,916.464 900.831,919.812 902.294,923.145 903.789,926.464 905.318,929.767 906.88,933.055 \\n  908.474,936.327 910.101,939.584 911.761,942.823 913.453,946.046 915.177,949.252 916.933,952.44 918.72,955.611 920.54,958.764 922.391,961.898 924.273,965.014 \\n  926.186,968.111 928.13,971.188 930.104,974.246 932.11,977.284 934.145,980.301 936.211,983.299 938.306,986.275 940.431,989.23 942.586,992.164 944.769,995.076 \\n  946.982,997.967 949.224,1000.83 951.494,1003.68 953.792,1006.5 956.119,1009.3 958.473,1012.08 960.855,1014.83 963.265,1017.56 965.701,1020.26 968.165,1022.94 \\n  970.655,1025.6 973.172,1028.23 975.715,1030.83 978.283,1033.41 980.878,1035.96 983.498,1038.49 986.143,1040.99 988.812,1043.47 991.507,1045.91 994.226,1048.33 \\n  996.968,1050.73 999.735,1053.09 1002.53,1055.43 1005.34,1057.74 1008.17,1060.02 1011.03,1062.27 1013.92,1064.5 1016.82,1066.69 1019.74,1068.86 1022.69,1071 \\n  1025.66,1073.1 1028.65,1075.18 1031.66,1077.23 1034.69,1079.25 1037.74,1081.23 1040.81,1083.19 1043.9,1085.11 1047,1087.01 1050.13,1088.87 1053.28,1090.7 \\n  1056.44,1092.5 1059.62,1094.27 1062.82,1096.01 1066.04,1097.71 1069.27,1099.39 1072.52,1101.03 1075.79,1102.63 1079.07,1104.21 1082.36,1105.75 1085.68,1107.26 \\n  1089,1108.74 1092.35,1110.18 1095.7,1111.59 1099.07,1112.96 1102.46,1114.3 1105.85,1115.61 1109.26,1116.88 1112.69,1118.12 1116.12,1119.33 1119.57,1120.5 \\n  1123.03,1121.63 1126.5,1122.74 1129.98,1123.8 1133.47,1124.83 1136.97,1125.83 1140.48,1126.79 1144,1127.72 1147.53,1128.61 1151.07,1129.47 1154.61,1130.29 \\n  1158.17,1131.07 1161.73,1131.82 1165.3,1132.54 1168.87,1133.21 1172.46,1133.86 1176.05,1134.46 1179.64,1135.03 1183.24,1135.57 1186.85,1136.07 1190.46,1136.53 \\n  1194.07,1136.95 1197.69,1137.35 1201.31,1137.7 1204.94,1138.02 1208.57,1138.3 1212.2,1138.54 1215.84,1138.75 1219.47,1138.92 1223.11,1139.06 1226.75,1139.16 \\n  1230.39,1139.22 1234.03,1139.25 1237.67,1139.24 1241.31,1139.19 1244.95,1139.11 1248.58,1138.99 1252.22,1138.84 1255.86,1138.65 1259.49,1138.42 1263.12,1138.16 \\n  1266.75,1137.86 1270.37,1137.52 1273.99,1137.15 1277.61,1136.74 1281.22,1136.29 1284.83,1135.81 1288.43,1135.29 1292.03,1134.74 1295.62,1134.15 1299.21,1133.53 \\n  1302.79,1132.86 1306.36,1132.17 1309.93,1131.43 1313.48,1130.67 1317.03,1129.86 1320.58,1129.02 1324.11,1128.15 1327.63,1127.24 1331.15,1126.29 1334.65,1125.31 \\n  1338.15,1124.3 1341.64,1123.25 1345.11,1122.16 1348.57,1121.05 1352.03,1119.89 1355.47,1118.7 1358.89,1117.48 1362.31,1116.22 1365.71,1114.93 1369.1,1113.61 \\n  1372.48,1112.25 1375.84,1110.86 1379.19,1109.43 1382.53,1107.97 1385.85,1106.48 1389.15,1104.95 1392.44,1103.39 1395.71,1101.8 1398.97,1100.17 1402.21,1098.52 \\n  1405.44,1096.83 1408.64,1095.11 1411.83,1093.35 1415.01,1091.57 1418.16,1089.75 1421.3,1087.9 1424.41,1086.02 1427.51,1084.11 1430.59,1082.17 1433.65,1080.2 \\n  1436.69,1078.2 1439.71,1076.16 1442.71,1074.1 1445.69,1072.01 1448.64,1069.88 1451.58,1067.73 1454.49,1065.55 1457.38,1063.34 1460.25,1061.1 1463.1,1058.83 \\n  1465.93,1056.54 1468.73,1054.21 1471.51,1051.86 1474.26,1049.48 1476.99,1047.07 1479.7,1044.64 1482.38,1042.18 1485.03,1039.69 1487.67,1037.17 1490.27,1034.63 \\n  1492.85,1032.07 1495.41,1029.47 1497.94,1026.86 1500.44,1024.21 1502.92,1021.55 1505.37,1018.85 1507.79,1016.14 1510.18,1013.4 1512.55,1010.63 1514.89,1007.84 \\n  1517.2,1005.03 1519.49,1002.2 1521.74,999.34 1523.97,996.46 1526.17,993.558 1528.34,990.635 1530.47,987.69 1532.58,984.723 1534.66,981.736 1536.71,978.728 \\n  1538.73,975.7 1540.72,972.651 1542.68,969.583 1544.61,966.496 1546.51,963.389 1548.37,960.264 1550.21,957.12 1552.01,953.958 1553.78,950.778 1555.52,947.58 \\n  1557.23,944.365 1558.9,941.134 1560.55,937.885 1562.16,934.621 1563.73,931.34 1565.28,928.044 1566.79,924.733 1568.27,921.406 1569.71,918.065 1571.12,914.71 \\n  1572.5,911.341 1573.84,907.958 1575.15,904.562 1576.43,901.153 1577.67,897.732 1578.88,894.298 1580.05,890.852 1581.19,887.395 1582.3,883.926 1583.37,880.447 \\n  1584.4,876.957 1585.4,873.457 1586.36,869.947 1587.29,866.428 1588.19,862.899 1589.05,859.362 1589.87,855.816 1590.66,852.262 1591.41,848.701 1592.13,845.132 \\n  1592.81,841.557 1593.45,837.974 1594.06,834.386 1594.64,830.791 1595.17,827.191 1595.68,823.586 1596.14,819.975 1596.57,816.361 1596.96,812.742 1597.32,809.12 \\n  1597.64,805.494 1597.92,801.865 1598.17,798.233 1598.38,794.599 1598.56,790.964 1598.7,787.326 1598.8,783.688 1598.87,780.048 1598.9,776.408 \\n  \\\"\\/>\\n<polyline clip-path=\\\"url(#clip02)\\\" style=\\\"stroke:#0000ff; stroke-width:3.2; stroke-opacity:1; fill:none\\\" stroke-dasharray=\\\"13, 8\\\" points=\\\"\\n  1234.9,775.249 1234.9,775.249 \\n  \\n  \\n  \\n  \\n  \\n  \\n  \\n  \\n  \\n  \\n  \\n  \\n  \\n  \\n  \\n  \\n  \\n  \\n  \\n  \\n  \\n  \\n  \\n  \\n  \\n  \\n  \\n  \\n  \\n  \\n  \\n  \\n  \\n  \\n  \\n  \\n  \\n  \\n  \\n  \\n  \\n  \\n  \\n  \\n  \\n  \\n  \\n  \\n  \\n  \\n  \\n  \\n  \\n  \\n  \\n  \\n  \\n  \\n  \\n  \\n  \\n  \\n  \\\"\\/>\\n<polyline clip-path=\\\"url(#clip02)\\\" style=\\\"stroke:#ff00ff; stroke-width:12.8; stroke-opacity:1; fill:none\\\" points=\\\"\\n  1234.9,775.249 1234.9,775.249 \\n  \\\"\\/>\\n<polyline clip-path=\\\"url(#clip02)\\\" style=\\\"stroke:#ff00ff; stroke-width:12.8; stroke-opacity:1; fill:none\\\" points=\\\"\\n  1234.9,775.249 1598.87,779.832 \\n  \\\"\\/>\\n<circle clip-path=\\\"url(#clip02)\\\" style=\\\"fill:#00002d; stroke:none; fill-opacity:1\\\" cx=\\\"1234.9\\\" cy=\\\"775.249\\\" r=\\\"14\\\"\\/>\\n<circle clip-path=\\\"url(#clip02)\\\" style=\\\"fill:#ff5d5d; stroke:none; fill-opacity:1\\\" cx=\\\"1234.9\\\" cy=\\\"775.249\\\" r=\\\"11\\\"\\/>\\n<\\/svg>\\n\"},\"nodeType\":\"DOM\",\"type\":\"node\",\"instanceArgs\":{\"namespace\":\"html\",\"tag\":\"div\"},\"children\":[]}]}]},\n",
       "            window,\n",
       "        );\n",
       "    } else {\n",
       "        document\n",
       "            .querySelector('[data-webio-mountpoint=\"15520425507962868918\"]')\n",
       "            .innerHTML = '<strong>WebIO not detected.</strong>';\n",
       "    }\n",
       "    </script>\n",
       "</div>\n"
      ],
      "text/plain": [
       "(div { style=Dict(\"display\"=>\"flex\",\"flex-direction\"=>\"column\") }\n",
       "  (div { style=Dict(\"display\"=>\"flex\",\"flex-direction\"=>\"column\") }\n",
       "    (div { style=Dict(\"display\"=>\"flex\",\"flex-direction\"=>\"row\") }\n",
       "      (div { className=\"field interact-widget\" }\n",
       "                (div { className=\"interact-flex-row interact-widget\" }\n",
       "          (div { className=\"interact-flex-row-left\" }\n",
       "            (label { className=\"interact \" style=Dict{Any,Any}(:padding=>\"5px 10px 0px 10px\") }\n",
       "              \"a\"))\n",
       "          (div { className=\"interact-flex-row-center\" }\n",
       "            (input { max=41 min=1 attributes=Dict{Any,Any}(:type=>\"range\",Symbol(\"data-bind\")=>\"numericValue: index, valueUpdate: 'input', event: {change: function (){this.changes(this.changes()+1)}}\",\"orient\"=>\"horizontal\") step=1 className=\"slider slider is-fullwidth\" style=Dict{Any,Any}() }))\n",
       "          (div { className=\"interact-flex-row-right\" }\n",
       "            (p { attributes=Dict(\"data-bind\"=>\"text: formatted_val\") }))))\n",
       "      (div { className=\"field interact-widget\" }\n",
       "                (div { className=\"interact-flex-row interact-widget\" }\n",
       "          (div { className=\"interact-flex-row-left\" }\n",
       "            (label { className=\"interact \" style=Dict{Any,Any}(:padding=>\"5px 10px 0px 10px\") }\n",
       "              \"b\"))\n",
       "          (div { className=\"interact-flex-row-center\" }\n",
       "            (input { max=41 min=1 attributes=Dict{Any,Any}(:type=>\"range\",Symbol(\"data-bind\")=>\"numericValue: index, valueUpdate: 'input', event: {change: function (){this.changes(this.changes()+1)}}\",\"orient\"=>\"horizontal\") step=1 className=\"slider slider is-fullwidth\" style=Dict{Any,Any}() }))\n",
       "          (div { className=\"interact-flex-row-right\" }\n",
       "            (p { attributes=Dict(\"data-bind\"=>\"text: formatted_val\") })))))\n",
       "    (div { style=Dict(\"display\"=>\"flex\",\"flex-direction\"=>\"row\") }\n",
       "      (div { className=\"field interact-widget\" }\n",
       "                (div { className=\"interact-flex-row interact-widget\" }\n",
       "          (div { className=\"interact-flex-row-left\" }\n",
       "            (label { className=\"interact \" style=Dict{Any,Any}(:padding=>\"5px 10px 0px 10px\") }\n",
       "              \"c\"))\n",
       "          (div { className=\"interact-flex-row-center\" }\n",
       "            (input { max=41 min=1 attributes=Dict{Any,Any}(:type=>\"range\",Symbol(\"data-bind\")=>\"numericValue: index, valueUpdate: 'input', event: {change: function (){this.changes(this.changes()+1)}}\",\"orient\"=>\"horizontal\") step=1 className=\"slider slider is-fullwidth\" style=Dict{Any,Any}() }))\n",
       "          (div { className=\"interact-flex-row-right\" }\n",
       "            (p { attributes=Dict(\"data-bind\"=>\"text: formatted_val\") }))))\n",
       "      (div { className=\"field interact-widget\" }\n",
       "                (div { className=\"interact-flex-row interact-widget\" }\n",
       "          (div { className=\"interact-flex-row-left\" }\n",
       "            (label { className=\"interact \" style=Dict{Any,Any}(:padding=>\"5px 10px 0px 10px\") }\n",
       "              \"d\"))\n",
       "          (div { className=\"interact-flex-row-center\" }\n",
       "            (input { max=41 min=1 attributes=Dict{Any,Any}(:type=>\"range\",Symbol(\"data-bind\")=>\"numericValue: index, valueUpdate: 'input', event: {change: function (){this.changes(this.changes()+1)}}\",\"orient\"=>\"horizontal\") step=1 className=\"slider slider is-fullwidth\" style=Dict{Any,Any}() }))\n",
       "          (div { className=\"interact-flex-row-right\" }\n",
       "            (p { attributes=Dict(\"data-bind\"=>\"text: formatted_val\") }))))))\n",
       "  (div { className=\"field interact-widget\" }\n",
       "        (div { className=\"interact-flex-row interact-widget\" }\n",
       "      (div { className=\"interact-flex-row-left\" }\n",
       "        (label { className=\"interact \" style=Dict{Any,Any}(:padding=>\"5px 10px 0px 10px\") }\n",
       "          \"θ\"))\n",
       "      (div { className=\"interact-flex-row-center\" }\n",
       "        (input { max=629 min=1 attributes=Dict{Any,Any}(:type=>\"range\",Symbol(\"data-bind\")=>\"numericValue: index, valueUpdate: 'input', event: {change: function (){this.changes(this.changes()+1)}}\",\"orient\"=>\"horizontal\") step=1 className=\"slider slider is-fullwidth\" style=Dict{Any,Any}() }))\n",
       "      (div { className=\"interact-flex-row-right\" }\n",
       "        (p { attributes=Dict(\"data-bind\"=>\"text: formatted_val\") }))))\n",
       "  (Scope(\"scope-7d13a59b-691d-40da-b65c-93f2587aad81\", Node{WebIO.DOM}(WebIO.DOM(:html, :div), Any[], Dict{Symbol,Any}(:className=>\"webio-observable\",:setInnerHtml=>\"<?xml version=\\\"1.0\\\" encoding=\\\"utf-8\\\"?>\\n<svg xmlns=\\\"http://www.w3.org/2000/svg\\\" xmlns:xlink=\\\"http://www.w3.org/1999/xlink\\\" width=\\\"2400\\\" height=\\\"1600\\\" viewBox=\\\"0 0 2400 1600\\\">\\n<defs>\\n  <clipPath id=\\\"clip00\\\">\\n    <rect x=\\\"0\\\" y=\\\"0\\\" width=\\\"2400\\\" height=\\\"1600\\\"/>\\n  </clipPath>\\n</defs>\\n<polygon clip-path=\\\"url(#clip00)\\\" points=\\\"\\n0,1600 2400,1600 2400,0 0,0 \\n  \\\" fill=\\\"#ffffff\\\" fill-opacity=\\\"1\\\"/>\\n<defs>\\n  <clipPath id=\\\"clip01\\\">\\n    <rect x=\\\"480\\\" y=\\\"0\\\" width=\\\"1681\\\" height=\\\"1600\\\"/>\\n  </clipPath>\\n</defs>\\n<polygon clip-path=\\\"url(#clip00)\\\" points=\\\"\\n506.891,1503.25 1962.9,1503.25 1962.9,47.2441 506.891,47.2441 \\n  \\\" fill=\\\"#ffffff\\\" fill-opacity=\\\"1\\\"/>\\n<defs>\\n  <clipPath id=\\\"clip02\\\">\\n    <rect x=\\\"506\\\" y=\\\"47\\\" width=\\\"1457\\\" height=\\\"1457\\\"/>\\n  </clipPath>\\n</defs>\\n<polyline clip-path=\\\"url(#clip02)\\\" style=\\\"stroke:#00002d; stroke-width:1.6; stroke-opacity:0.1; fill:none\\\" points=\\\"\\n  506.891,1503.25 506.891,47.2441 \\n  \\\"/>\\n<polyline clip-path=\\\"url(#clip02)\\\" style=\\\"stroke:#00002d; stroke-width:1.6; stroke-opacity:0.1; fill:none\\\" points=\\\"\\n  870.894,1503.25 870.894,47.2441 \\n  \\\"/>\\n<polyline clip-path=\\\"url(#clip02)\\\" style=\\\"stroke:#00002d; stroke-width:1.6; stroke-opacity:0.1; fill:none\\\" points=\\\"\\n  1234.9,1503.25 1234.9,47.2441 \\n  \\\"/>\\n<polyline clip-path=\\\"url(#clip02)\\\" style=\\\"stroke:#00002d; stroke-width:1.6; stroke-opacity:0.1; fill:none\\\" points=\\\"\\n  1598.9,1503.25 1598.9,47.2441 \\n  \\\"/>\\n<polyline clip-path=\\\"url(#clip02)\\\" style=\\\"stroke:#00002d; stroke-width:1.6; stroke-opacity:0.1; fill:none\\\" points=\\\"\\n  1962.9,1503.25 1962.9,47.2441 \\n  \\\"/>\\n<polyline clip-path=\\\"url(#clip02)\\\" style=\\\"stroke:#00002d; stroke-width:1.6; stroke-opacity:0.1; fill:none\\\" points=\\\"\\n  506.891,1503.25 1962.9,1503.25 \\n  \\\"/>\\n<polyline clip-path=\\\"url(#clip02)\\\" style=\\\"stroke:#00002d; stroke-width:1.6; stroke-opacity:0.1; fill:none\\\" points=\\\"\\n  506.891,1139.25 1962.9,1139.25 \\n  \\\"/>\\n<polyline clip-path=\\\"url(#clip02)\\\" style=\\\"stroke:#00002d; stroke-width:1.6; stroke-opacity:0.1; fill:none\\\" points=\\\"\\n  506.891,775.249 1962.9,775.249 \\n  \\\"/>\\n<polyline clip-path=\\\"url(#clip02)\\\" style=\\\"stroke:#00002d; stroke-width:1.6; stroke-opacity:0.1; fill:none\\\" points=\\\"\\n  506.891,411.247 1962.9,411.247 \\n  \\\"/>\\n<polyline clip-path=\\\"url(#clip02)\\\" style=\\\"stroke:#00002d; stroke-width:1.6; stroke-opacity:0.1; fill:none\\\" points=\\\"\\n  506.891,47.2441 1962.9,47.2441 \\n  \\\"/>\\n<polyline clip-path=\\\"url(#clip00)\\\" style=\\\"stroke:#00002d; stroke-width:3.2; stroke-opacity:1; fill:none\\\" points=\\\"\\n  506.891,1503.25 1962.9,1503.25 \\n  \\\"/>\\n<polyline clip-path=\\\"url(#clip00)\\\" style=\\\"stroke:#00002d; stroke-width:3.2; stroke-opacity:1; fill:none\\\" points=\\\"\\n  506.891,1503.25 506.891,47.2441 \\n  \\\"/>\\n<polyline clip-path=\\\"url(#clip00)\\\" style=\\\"stroke:#00002d; stroke-width:3.2; stroke-opacity:1; fill:none\\\" points=\\\"\\n  506.891,1503.25 506.891,1481.41 \\n  \\\"/>\\n<polyline clip-path=\\\"url(#clip00)\\\" style=\\\"stroke:#00002d; stroke-width:3.2; stroke-opacity:1; fill:none\\\" points=\\\"\\n  870.894,1503.25 870.894,1481.41 \\n  \\\"/>\\n<polyline clip-path=\\\"url(#clip00)\\\" style=\\\"stroke:#00002d; stroke-width:3.2; stroke-opacity:1; fill:none\\\" points=\\\"\\n  1234.9,1503.25 1234.9,1481.41 \\n  \\\"/>\\n<polyline clip-path=\\\"url(#clip00)\\\" style=\\\"stroke:#00002d; stroke-width:3.2; stroke-opacity:1; fill:none\\\" points=\\\"\\n  1598.9,1503.25 1598.9,1481.41 \\n  \\\"/>\\n<polyline clip-path=\\\"url(#clip00)\\\" style=\\\"stroke:#00002d; stroke-width:3.2; stroke-opacity:1; fill:none\\\" points=\\\"\\n  1962.9,1503.25 1962.9,1481.41 \\n  \\\"/>\\n<polyline clip-path=\\\"url(#clip00)\\\" style=\\\"stroke:#00002d; stroke-width:3.2; stroke-opacity:1; fill:none\\\" points=\\\"\\n  506.891,1503.25 528.732,1503.25 \\n  \\\"/>\\n<polyline clip-path=\\\"url(#clip00)\\\" style=\\\"stroke:#00002d; stroke-width:3.2; stroke-opacity:1; fill:none\\\" points=\\\"\\n  506.891,1139.25 528.732,1139.25 \\n  \\\"/>\\n<polyline clip-path=\\\"url(#clip00)\\\" style=\\\"stroke:#00002d; stroke-width:3.2; stroke-opacity:1; fill:none\\\" points=\\\"\\n  506.891,775.249 528.732,775.249 \\n  \\\"/>\\n<polyline clip-path=\\\"url(#clip00)\\\" style=\\\"stroke:#00002d; stroke-width:3.2; stroke-opacity:1; fill:none\\\" points=\\\"\\n  506.891,411.247 528.732,411.247 \\n  \\\"/>\\n<polyline clip-path=\\\"url(#clip00)\\\" style=\\\"stroke:#00002d; stroke-width:3.2; stroke-opacity:1; fill:none\\\" points=\\\"\\n  506.891,47.2441 528.732,47.2441 \\n  \\\"/>\\n<g clip-path=\\\"url(#clip00)\\\">\\n<text style=\\\"fill:#00002d; fill-opacity:1; font-family:Arial,Helvetica Neue,Helvetica,sans-serif; font-size:48; text-anchor:middle;\\\" transform=\\\"rotate(0, 506.891, 1557.25)\\\" x=\\\"506.891\\\" y=\\\"1557.25\\\">-2</text>\\n</g>\\n<g clip-path=\\\"url(#clip00)\\\">\\n<text style=\\\"fill:#00002d; fill-opacity:1; font-family:Arial,Helvetica Neue,Helvetica,sans-serif; font-size:48; text-anchor:middle;\\\" transform=\\\"rotate(0, 870.894, 1557.25)\\\" x=\\\"870.894\\\" y=\\\"1557.25\\\">-1</text>\\n</g>\\n<g clip-path=\\\"url(#clip00)\\\">\\n<text style=\\\"fill:#00002d; fill-opacity:1; font-family:Arial,Helvetica Neue,Helvetica,sans-serif; font-size:48; text-anchor:middle;\\\" transform=\\\"rotate(0, 1234.9, 1557.25)\\\" x=\\\"1234.9\\\" y=\\\"1557.25\\\">0</text>\\n</g>\\n<g clip-path=\\\"url(#clip00)\\\">\\n<text style=\\\"fill:#00002d; fill-opacity:1; font-family:Arial,Helvetica Neue,Helvetica,sans-serif; font-size:48; text-anchor:middle;\\\" transform=\\\"rotate(0, 1598.9, 1557.25)\\\" x=\\\"1598.9\\\" y=\\\"1557.25\\\">1</text>\\n</g>\\n<g clip-path=\\\"url(#clip00)\\\">\\n<text style=\\\"fill:#00002d; fill-opacity:1; font-family:Arial,Helvetica Neue,Helvetica,sans-serif; font-size:48; text-anchor:middle;\\\" transform=\\\"rotate(0, 1962.9, 1557.25)\\\" x=\\\"1962.9\\\" y=\\\"1557.25\\\">2</text>\\n</g>\\n<g clip-path=\\\"url(#clip00)\\\">\\n<text style=\\\"fill:#00002d; fill-opacity:1; font-family:Arial,Helvetica Neue,Helvetica,sans-serif; font-size:48; text-anchor:end;\\\" transform=\\\"rotate(0, 482.891, 1520.75)\\\" x=\\\"482.891\\\" y=\\\"1520.75\\\">-2</text>\\n</g>\\n<g clip-path=\\\"url(#clip00)\\\">\\n<text style=\\\"fill:#00002d; fill-opacity:1; font-family:Arial,Helvetica Neue,Helvetica,sans-serif; font-size:48; text-anchor:end;\\\" transform=\\\"rotate(0, 482.891, 1156.75)\\\" x=\\\"482.891\\\" y=\\\"1156.75\\\">-1</text>\\n</g>\\n<g clip-path=\\\"url(#clip00)\\\">\\n<text style=\\\"fill:#00002d; fill-opacity:1; font-family:Arial,Helvetica Neue,Helvetica,sans-serif; font-size:48; text-anchor:end;\\\" transform=\\\"rotate(0, 482.891, 792.749)\\\" x=\\\"482.891\\\" y=\\\"792.749\\\">0</text>\\n</g>\\n<g clip-path=\\\"url(#clip00)\\\">\\n<text style=\\\"fill:#00002d; fill-opacity:1; font-family:Arial,Helvetica Neue,Helvetica,sans-serif; font-size:48; text-anchor:end;\\\" transform=\\\"rotate(0, 482.891, 428.747)\\\" x=\\\"482.891\\\" y=\\\"428.747\\\">1</text>\\n</g>\\n<g clip-path=\\\"url(#clip00)\\\">\\n<text style=\\\"fill:#00002d; fill-opacity:1; font-family:Arial,Helvetica Neue,Helvetica,sans-serif; font-size:48; text-anchor:end;\\\" transform=\\\"rotate(0, 482.891, 64.7441)\\\" x=\\\"482.891\\\" y=\\\"64.7441\\\">2</text>\\n</g>\\n<polyline clip-path=\\\"url(#clip02)\\\" style=\\\"stroke:#008100; stroke-width:6.4; stroke-opacity:1; fill:none\\\" points=\\\"\\n  1234.9,775.249 1598.87,779.832 \\n  \\\"/>\\n<polyline clip-path=\\\"url(#clip02)\\\" style=\\\"stroke:#008100; stroke-width:6.4; stroke-opacity:1; fill:none\\\" points=\\\"\\n  1563.1,761.38 1598.87,779.832 1562.65,797.377 \\n  \\\"/>\\n<polyline clip-path=\\\"url(#clip02)\\\" style=\\\"stroke:#008100; stroke-width:6.4; stroke-opacity:1; fill:none\\\" points=\\\"\\n  1598.87,779.832 1234.9,775.249 \\n  \\\"/>\\n<polyline clip-path=\\\"url(#clip02)\\\" style=\\\"stroke:#0000ff; stroke-width:9.6; stroke-opacity:1; fill:none\\\" points=\\\"\\n  1234.9,775.249 1234.9,775.249 \\n  \\\"/>\\n<polyline clip-path=\\\"url(#clip02)\\\" style=\\\"stroke:#0000ff; stroke-width:9.6; stroke-opacity:1; fill:none\\\" points=\\\"\\n  nan,nan nan,nan nan,nan \\n  \\\"/>\\n<polyline clip-path=\\\"url(#clip02)\\\" style=\\\"stroke:#0000ff; stroke-width:9.6; stroke-opacity:1; fill:none\\\" points=\\\"\\n  nan,nan nan,nan \\n  \\\"/>\\n<polyline clip-path=\\\"url(#clip02)\\\" style=\\\"stroke:#008100; stroke-width:3.2; stroke-opacity:1; fill:none\\\" stroke-dasharray=\\\"13, 8\\\" points=\\\"\\n  1598.9,775.249 1598.88,771.609 1598.83,767.969 1598.73,764.331 1598.61,760.693 1598.44,757.056 1598.24,753.422 1598.01,749.79 1597.73,746.16 1597.43,742.533 \\n  1597.08,738.909 1596.7,735.289 1596.28,731.673 1595.83,728.062 1595.34,724.455 1594.81,720.853 1594.25,717.257 1593.65,713.666 1593.02,710.082 1592.35,706.504 \\n  1591.64,702.933 1590.9,699.369 1590.13,695.813 1589.31,692.265 1588.47,688.725 1587.58,685.193 1586.66,681.671 1585.71,678.158 1584.72,674.655 1583.7,671.162 \\n  1582.64,667.679 1581.55,664.207 1580.42,660.746 1579.26,657.296 1578.06,653.859 1576.83,650.433 1575.56,647.02 1574.27,643.62 1572.93,640.233 1571.57,636.859 \\n  1570.16,633.5 1568.73,630.154 1567.26,626.823 1565.76,623.507 1564.23,620.206 1562.66,616.92 1561.06,613.651 1559.43,610.397 1557.76,607.16 1556.07,603.94 \\n  1554.34,600.737 1552.58,597.551 1550.78,594.383 1548.96,591.234 1547.1,588.102 1545.22,584.99 1543.3,581.896 1541.35,578.822 1539.37,575.767 1537.36,572.732 \\n  1535.32,569.718 1533.25,566.724 1531.15,563.751 1529.02,560.799 1526.86,557.868 1524.67,554.96 1522.46,552.073 1520.21,549.209 1517.93,546.367 1515.63,543.548 \\n  1513.3,540.752 1510.94,537.98 1508.56,535.231 1506.14,532.507 1503.7,529.807 1501.23,527.131 1498.74,524.48 1496.22,521.854 1493.67,519.254 1491.1,516.679 \\n  1488.5,514.13 1485.88,511.607 1483.23,509.11 1480.55,506.64 1477.85,504.197 1475.13,501.781 1472.39,499.392 1469.61,497.031 1466.82,494.698 1464,492.393 \\n  1461.16,490.116 1458.3,487.868 1455.42,485.648 1452.51,483.457 1449.58,481.296 1446.63,479.164 1443.66,477.061 1440.67,474.989 1437.65,472.946 1434.62,470.933 \\n  1431.57,468.951 1428.49,467 1425.4,465.08 1422.29,463.19 1419.16,461.332 1416.01,459.505 1412.85,457.709 1409.66,455.946 1406.46,454.214 1403.24,452.515 \\n  1400.01,450.847 1396.75,449.212 1393.49,447.61 1390.2,446.041 1386.9,444.504 1383.59,443.001 1380.26,441.53 1376.91,440.093 1373.55,438.69 1370.18,437.32 \\n  1366.8,435.984 1363.4,434.682 1359.98,433.415 1356.56,432.181 1353.12,430.981 1349.67,429.816 1346.21,428.686 1342.74,427.59 1339.26,426.529 1335.77,425.503 \\n  1332.27,424.511 1328.75,423.555 1325.23,422.634 1321.7,421.749 1318.16,420.898 1314.62,420.083 1311.06,419.304 1307.5,418.56 1303.93,417.852 1300.35,417.179 \\n  1296.76,416.543 1293.17,415.942 1289.58,415.377 1285.98,414.848 1282.37,414.356 1278.76,413.899 1275.14,413.478 1271.52,413.094 1267.9,412.746 1264.27,412.434 \\n  1260.64,412.158 1257.01,411.919 1253.38,411.716 1249.74,411.549 1246.1,411.419 1242.47,411.325 1238.83,411.268 1235.19,411.247 1231.55,411.262 1227.91,411.314 \\n  1224.27,411.402 1220.63,411.526 1216.99,411.687 1213.36,411.884 1209.73,412.118 1206.1,412.388 1202.47,412.694 1198.85,413.036 1195.22,413.415 1191.61,413.83 \\n  1188,414.281 1184.39,414.768 1180.79,415.291 1177.19,415.85 1173.6,416.445 1170.01,417.076 1166.44,417.742 1162.86,418.445 1159.3,419.183 1155.74,419.957 \\n  1152.19,420.766 1148.65,421.611 1145.12,422.491 1141.6,423.406 1138.08,424.357 1134.58,425.342 1131.09,426.363 1127.6,427.419 1124.13,428.509 1120.67,429.634 \\n  1117.22,430.793 1113.78,431.987 1110.35,433.216 1106.94,434.478 1103.54,435.775 1100.15,437.105 1096.77,438.47 1093.41,439.868 1090.07,441.299 1086.74,442.764 \\n  1083.42,444.262 1080.12,445.794 1076.83,447.358 1073.56,448.955 1070.3,450.585 1067.06,452.247 1063.84,453.941 1060.64,455.668 1057.45,457.426 1054.28,459.217 \\n  1051.13,461.039 1048,462.892 1044.88,464.777 1041.79,466.692 1038.71,468.639 1035.66,470.616 1032.62,472.623 1029.6,474.661 1026.61,476.729 1023.63,478.827 \\n  1020.68,480.954 1017.75,483.111 1014.84,485.297 1011.95,487.512 1009.08,489.756 1006.24,492.028 1003.42,494.329 1000.62,496.658 997.847,499.015 995.097,501.399 \\n  992.37,503.81 989.668,506.249 986.99,508.715 984.337,511.207 981.709,513.726 979.107,516.271 976.53,518.842 973.979,521.438 971.454,524.06 968.955,526.707 \\n  966.483,529.379 964.038,532.075 961.62,534.796 959.229,537.541 956.866,540.309 954.53,543.101 952.223,545.916 949.944,548.754 947.693,551.615 945.471,554.498 \\n  943.278,557.404 941.114,560.331 938.98,563.279 936.875,566.249 934.8,569.24 932.755,572.251 930.74,575.282 928.755,578.334 926.802,581.405 924.879,584.496 \\n  922.987,587.605 921.126,590.734 919.296,593.881 917.499,597.046 915.732,600.228 913.998,603.429 912.296,606.646 910.626,609.881 908.989,613.131 907.384,616.399 \\n  905.812,619.682 904.273,622.98 902.766,626.294 901.294,629.623 899.854,632.966 898.448,636.323 897.076,639.695 895.737,643.08 894.432,646.478 893.162,649.889 \\n  891.925,653.312 890.723,656.748 889.555,660.196 888.422,663.655 887.323,667.125 886.259,670.606 885.23,674.098 884.236,677.599 883.277,681.111 882.354,684.632 \\n  881.465,688.162 880.612,691.7 879.794,695.247 879.012,698.802 878.265,702.365 877.554,705.935 876.879,709.511 876.24,713.095 875.636,716.684 875.068,720.28 \\n  874.537,723.881 874.041,727.487 873.581,731.098 873.158,734.713 872.771,738.333 872.42,741.956 872.105,745.582 871.826,749.211 871.584,752.843 871.378,756.477 \\n  871.209,760.113 871.075,763.751 870.979,767.39 870.918,771.029 870.894,774.669 870.907,778.309 870.955,781.949 871.041,785.588 871.162,789.226 871.32,792.862 \\n  871.515,796.497 871.745,800.13 872.012,803.76 872.315,807.388 872.655,811.012 873.031,814.632 873.443,818.249 873.891,821.861 874.375,825.469 874.895,829.072 \\n  875.451,832.669 876.043,836.26 876.671,839.846 877.335,843.425 878.035,846.997 878.77,850.562 879.541,854.119 880.348,857.669 881.19,861.21 882.067,864.743 \\n  882.979,868.267 883.927,871.781 884.91,875.286 885.928,878.781 886.981,882.265 888.068,885.739 889.19,889.201 890.347,892.653 891.538,896.092 892.764,899.52 \\n  894.024,902.935 895.318,906.337 896.645,909.726 898.007,913.102 899.402,916.464 900.831,919.812 902.294,923.145 903.789,926.464 905.318,929.767 906.88,933.055 \\n  908.474,936.327 910.101,939.584 911.761,942.823 913.453,946.046 915.177,949.252 916.933,952.44 918.72,955.611 920.54,958.764 922.391,961.898 924.273,965.014 \\n  926.186,968.111 928.13,971.188 930.104,974.246 932.11,977.284 934.145,980.301 936.211,983.299 938.306,986.275 940.431,989.23 942.586,992.164 944.769,995.076 \\n  946.982,997.967 949.224,1000.83 951.494,1003.68 953.792,1006.5 956.119,1009.3 958.473,1012.08 960.855,1014.83 963.265,1017.56 965.701,1020.26 968.165,1022.94 \\n  970.655,1025.6 973.172,1028.23 975.715,1030.83 978.283,1033.41 980.878,1035.96 983.498,1038.49 986.143,1040.99 988.812,1043.47 991.507,1045.91 994.226,1048.33 \\n  996.968,1050.73 999.735,1053.09 1002.53,1055.43 1005.34,1057.74 1008.17,1060.02 1011.03,1062.27 1013.92,1064.5 1016.82,1066.69 1019.74,1068.86 1022.69,1071 \\n  1025.66,1073.1 1028.65,1075.18 1031.66,1077.23 1034.69,1079.25 1037.74,1081.23 1040.81,1083.19 1043.9,1085.11 1047,1087.01 1050.13,1088.87 1053.28,1090.7 \\n  1056.44,1092.5 1059.62,1094.27 1062.82,1096.01 1066.04,1097.71 1069.27,1099.39 1072.52,1101.03 1075.79,1102.63 1079.07,1104.21 1082.36,1105.75 1085.68,1107.26 \\n  1089,1108.74 1092.35,1110.18 1095.7,1111.59 1099.07,1112.96 1102.46,1114.3 1105.85,1115.61 1109.26,1116.88 1112.69,1118.12 1116.12,1119.33 1119.57,1120.5 \\n  1123.03,1121.63 1126.5,1122.74 1129.98,1123.8 1133.47,1124.83 1136.97,1125.83 1140.48,1126.79 1144,1127.72 1147.53,1128.61 1151.07,1129.47 1154.61,1130.29 \\n  1158.17,1131.07 1161.73,1131.82 1165.3,1132.54 1168.87,1133.21 1172.46,1133.86 1176.05,1134.46 1179.64,1135.03 1183.24,1135.57 1186.85,1136.07 1190.46,1136.53 \\n  1194.07,1136.95 1197.69,1137.35 1201.31,1137.7 1204.94,1138.02 1208.57,1138.3 1212.2,1138.54 1215.84,1138.75 1219.47,1138.92 1223.11,1139.06 1226.75,1139.16 \\n  1230.39,1139.22 1234.03,1139.25 1237.67,1139.24 1241.31,1139.19 1244.95,1139.11 1248.58,1138.99 1252.22,1138.84 1255.86,1138.65 1259.49,1138.42 1263.12,1138.16 \\n  1266.75,1137.86 1270.37,1137.52 1273.99,1137.15 1277.61,1136.74 1281.22,1136.29 1284.83,1135.81 1288.43,1135.29 1292.03,1134.74 1295.62,1134.15 1299.21,1133.53 \\n  1302.79,1132.86 1306.36,1132.17 1309.93,1131.43 1313.48,1130.67 1317.03,1129.86 1320.58,1129.02 1324.11,1128.15 1327.63,1127.24 1331.15,1126.29 1334.65,1125.31 \\n  1338.15,1124.3 1341.64,1123.25 1345.11,1122.16 1348.57,1121.05 1352.03,1119.89 1355.47,1118.7 1358.89,1117.48 1362.31,1116.22 1365.71,1114.93 1369.1,1113.61 \\n  1372.48,1112.25 1375.84,1110.86 1379.19,1109.43 1382.53,1107.97 1385.85,1106.48 1389.15,1104.95 1392.44,1103.39 1395.71,1101.8 1398.97,1100.17 1402.21,1098.52 \\n  1405.44,1096.83 1408.64,1095.11 1411.83,1093.35 1415.01,1091.57 1418.16,1089.75 1421.3,1087.9 1424.41,1086.02 1427.51,1084.11 1430.59,1082.17 1433.65,1080.2 \\n  1436.69,1078.2 1439.71,1076.16 1442.71,1074.1 1445.69,1072.01 1448.64,1069.88 1451.58,1067.73 1454.49,1065.55 1457.38,1063.34 1460.25,1061.1 1463.1,1058.83 \\n  1465.93,1056.54 1468.73,1054.21 1471.51,1051.86 1474.26,1049.48 1476.99,1047.07 1479.7,1044.64 1482.38,1042.18 1485.03,1039.69 1487.67,1037.17 1490.27,1034.63 \\n  1492.85,1032.07 1495.41,1029.47 1497.94,1026.86 1500.44,1024.21 1502.92,1021.55 1505.37,1018.85 1507.79,1016.14 1510.18,1013.4 1512.55,1010.63 1514.89,1007.84 \\n  1517.2,1005.03 1519.49,1002.2 1521.74,999.34 1523.97,996.46 1526.17,993.558 1528.34,990.635 1530.47,987.69 1532.58,984.723 1534.66,981.736 1536.71,978.728 \\n  1538.73,975.7 1540.72,972.651 1542.68,969.583 1544.61,966.496 1546.51,963.389 1548.37,960.264 1550.21,957.12 1552.01,953.958 1553.78,950.778 1555.52,947.58 \\n  1557.23,944.365 1558.9,941.134 1560.55,937.885 1562.16,934.621 1563.73,931.34 1565.28,928.044 1566.79,924.733 1568.27,921.406 1569.71,918.065 1571.12,914.71 \\n  1572.5,911.341 1573.84,907.958 1575.15,904.562 1576.43,901.153 1577.67,897.732 1578.88,894.298 1580.05,890.852 1581.19,887.395 1582.3,883.926 1583.37,880.447 \\n  1584.4,876.957 1585.4,873.457 1586.36,869.947 1587.29,866.428 1588.19,862.899 1589.05,859.362 1589.87,855.816 1590.66,852.262 1591.41,848.701 1592.13,845.132 \\n  1592.81,841.557 1593.45,837.974 1594.06,834.386 1594.64,830.791 1595.17,827.191 1595.68,823.586 1596.14,819.975 1596.57,816.361 1596.96,812.742 1597.32,809.12 \\n  1597.64,805.494 1597.92,801.865 1598.17,798.233 1598.38,794.599 1598.56,790.964 1598.7,787.326 1598.8,783.688 1598.87,780.048 1598.9,776.408 \\n  \\\"/>\\n<polyline clip-path=\\\"url(#clip02)\\\" style=\\\"stroke:#0000ff; stroke-width:3.2; stroke-opacity:1; fill:none\\\" stroke-dasharray=\\\"13, 8\\\" points=\\\"\\n  1234.9,775.249 1234.9,775.249 \\n  \\n  \\n  \\n  \\n  \\n  \\n  \\n  \\n  \\n  \\n  \\n  \\n  \\n  \\n  \\n  \\n  \\n  \\n  \\n  \\n  \\n  \\n  \\n  \\n  \\n  \\n  \\n  \\n  \\n  \\n  \\n  \\n  \\n  \\n  \\n  \\n  \\n  \\n  \\n  \\n  \\n  \\n  \\n  \\n  \\n  \\n  \\n  \\n  \\n  \\n  \\n  \\n  \\n  \\n  \\n  \\n  \\n  \\n  \\n  \\n  \\n  \\n  \\\"/>\\n<polyline clip-path=\\\"url(#clip02)\\\" style=\\\"stroke:#ff00ff; stroke-width:12.8; stroke-opacity:1; fill:none\\\" points=\\\"\\n  1234.9,775.249 1234.9,775.249 \\n  \\\"/>\\n<polyline clip-path=\\\"url(#clip02)\\\" style=\\\"stroke:#ff00ff; stroke-width:12.8; stroke-opacity:1; fill:none\\\" points=\\\"\\n  1234.9,775.249 1598.87,779.832 \\n  \\\"/>\\n<circle clip-path=\\\"url(#clip02)\\\" style=\\\"fill:#00002d; stroke:none; fill-opacity:1\\\" cx=\\\"1234.9\\\" cy=\\\"775.249\\\" r=\\\"14\\\"/>\\n<circle clip-path=\\\"url(#clip02)\\\" style=\\\"fill:#ff5d5d; stroke:none; fill-opacity:1\\\" cx=\\\"1234.9\\\" cy=\\\"775.249\\\" r=\\\"11\\\"/>\\n</svg>\\n\"), 0), Dict{String,Tuple{Observables.AbstractObservable,Union{Nothing, Bool}}}(\"obs-output\"=>(Observable{AbstractString} with 1 listeners. Value:\n",
       "\"<?xml version=\\\"1.0\\\" encoding=\\\"utf-8\\\"?>\\n<svg xmlns=\\\"http://www.w3.org/2000/svg\\\" xmlns:xlink=\\\"http://www.w3.org/1999/xlink\\\" width=\\\"2400\\\" height=\\\"1600\\\" viewBox=\\\"0 0 2400 1600\\\">\\n<defs>\\n  <clipPath id=\\\"clip00\\\">\\n    <rect x=\\\"0\\\" y=\\\"0\\\" width=\\\"2400\\\" height=\\\"1600\\\"/>\\n  </clipPath>\\n</defs>\\n<polygon clip-path=\\\"url(#clip00)\\\" points=\\\"\\n0,1600 2400,1600 2400,0 0,0 \\n  \\\" fill=\\\"#ffffff\\\" fill-opacity=\\\"1\\\"/>\\n<defs>\\n  <clipPath id=\\\"clip01\\\">\\n    <rect x=\\\"480\\\" y=\\\"0\\\" width=\\\"1681\\\" height=\\\"1600\\\"/>\\n  </clipPath>\\n</defs>\\n<polygon clip-path=\\\"url(#clip00)\\\" points=\\\"\\n506.891,1503.25 1962.9,1503.25 1962.9,47.2441 506.891,47.2441 \\n  \\\" fill=\\\"#ffffff\\\" fill-opacity=\\\"1\\\"/>\\n<defs>\\n  <clipPath id=\\\"clip02\\\">\\n    <rect x=\\\"506\\\" y=\\\"47\\\" width=\\\"1457\\\" height=\\\"1457\\\"/>\\n  </clipPath>\\n</defs>\\n<polyline clip-path=\\\"url(#clip02)\\\" style=\\\"stroke:#00002d; stroke-width:1.6; stroke-opacity:0.1; fill:none\\\" points=\\\"\\n  506.891,1503.25 506.891,47.2441 \\n  \\\"/>\\n<polyline clip-path=\\\"url(#clip02)\\\" style=\\\"stroke:#00002d; stroke-width:1.6; stroke-opacity:0.1; fill:none\\\" points=\\\"\\n  870.894,1503.25 870.894,47.2441 \\n  \\\"/>\\n<polyline clip-path=\\\"url(#clip02)\\\" style=\\\"stroke:#00002d; stroke-width:1.6; stroke-opacity:0.1; fill:none\\\" points=\\\"\\n  1234.9,1503.25 1234.9,47.2441 \\n  \\\"/>\\n<polyline clip-path=\\\"url(#clip02)\\\" style=\\\"stroke:#00002d; stroke-width:1.6; stroke-opacity:0.1; fill:none\\\" points=\\\"\\n  1598.9,1503.25 1598.9,47.2441 \\n  \\\"/>\\n<polyline clip-path=\\\"url(#clip02)\\\" style=\\\"stroke:#00002d; stroke-width:1.6; stroke-opacity:0.1; fill:none\\\" points=\\\"\\n  1962.9,1503.25 1962.9,47.2441 \\n  \\\"/>\\n<polyline clip-path=\\\"url(#clip02)\\\" style=\\\"stroke:#00002d; stroke-width:1.6; stroke-opacity:0.1; fill:none\\\" points=\\\"\\n  506.891,1503.25 1962.9,1503.25 \\n  \\\"/>\\n<polyline clip-path=\\\"url(#clip02)\\\" style=\\\"stroke:#00002d; stroke-width:1.6; stroke-opacity:0.1; fill:none\\\" points=\\\"\\n  506.891,1139.25 1962.9,1139.25 \\n  \\\"/>\\n<polyline clip-path=\\\"url(#clip02)\\\" style=\\\"stroke:#00002d; stroke-width:1.6; stroke-opacity:0.1; fill:none\\\" points=\\\"\\n  506.891,775.249 1962.9,775.249 \\n  \\\"/>\\n<polyline clip-path=\\\"url(#clip02)\\\" style=\\\"stroke:#00002d; stroke-width:1.6; stroke-opacity:0.1; fill:none\\\" points=\\\"\\n  506.891,411.247 1962.9,411.247 \\n  \\\"/>\\n<polyline clip-path=\\\"url(#clip02)\\\" style=\\\"stroke:#00002d; stroke-width:1.6; stroke-opacity:0.1; fill:none\\\" points=\\\"\\n  506.891,47.2441 1962.9,47.2441 \\n  \\\"/>\\n<polyline clip-path=\\\"url(#clip00)\\\" style=\\\"stroke:#00002d; stroke-width:3.2; stroke-opacity:1; fill:none\\\" points=\\\"\\n  506.891,1503.25 1962.9,1503.25 \\n  \\\"/>\\n<polyline clip-path=\\\"url(#clip00)\\\" style=\\\"stroke:#00002d; stroke-width:3.2; stroke-opacity:1; fill:none\\\" points=\\\"\\n  506.891,1503.25 506.891,47.2441 \\n  \\\"/>\\n<polyline clip-path=\\\"url(#clip00)\\\" style=\\\"stroke:#00002d; stroke-width:3.2; stroke-opacity:1; fill:none\\\" points=\\\"\\n  506.891,1503.25 506.891,1481.41 \\n  \\\"/>\\n<polyline clip-path=\\\"url(#clip00)\\\" style=\\\"stroke:#00002d; stroke-width:3.2; stroke-opacity:1; fill:none\\\" points=\\\"\\n  870.894,1503.25 870.894,1481.41 \\n  \\\"/>\\n<polyline clip-path=\\\"url(#clip00)\\\" style=\\\"stroke:#00002d; stroke-width:3.2; stroke-opacity:1; fill:none\\\" points=\\\"\\n  1234.9,1503.25 1234.9,1481.41 \\n  \\\"/>\\n<polyline clip-path=\\\"url(#clip00)\\\" style=\\\"stroke:#00002d; stroke-width:3.2; stroke-opacity:1; fill:none\\\" points=\\\"\\n  1598.9,1503.25 1598.9,1481.41 \\n  \\\"/>\\n<polyline clip-path=\\\"url(#clip00)\\\" style=\\\"stroke:#00002d; stroke-width:3.2; stroke-opacity:1; fill:none\\\" points=\\\"\\n  1962.9,1503.25 1962.9,1481.41 \\n  \\\"/>\\n<polyline clip-path=\\\"url(#clip00)\\\" style=\\\"stroke:#00002d; stroke-width:3.2; stroke-opacity:1; fill:none\\\" points=\\\"\\n  506.891,1503.25 528.732,1503.25 \\n  \\\"/>\\n<polyline clip-path=\\\"url(#clip00)\\\" style=\\\"stroke:#00002d; stroke-width:3.2; stroke-opacity:1; fill:none\\\" points=\\\"\\n  506.891,1139.25 528.732,1139.25 \\n  \\\"/>\\n<polyline clip-path=\\\"url(#clip00)\\\" style=\\\"stroke:#00002d; stroke-width:3.2; stroke-opacity:1; fill:none\\\" points=\\\"\\n  506.891,775.249 528.732,775.249 \\n  \\\"/>\\n<polyline clip-path=\\\"url(#clip00)\\\" style=\\\"stroke:#00002d; stroke-width:3.2; stroke-opacity:1; fill:none\\\" points=\\\"\\n  506.891,411.247 528.732,411.247 \\n  \\\"/>\\n<polyline clip-path=\\\"url(#clip00)\\\" style=\\\"stroke:#00002d; stroke-width:3.2; stroke-opacity:1; fill:none\\\" points=\\\"\\n  506.891,47.2441 528.732,47.2441 \\n  \\\"/>\\n<g clip-path=\\\"url(#clip00)\\\">\\n<text style=\\\"fill:#00002d; fill-opacity:1; font-family:Arial,Helvetica Neue,Helvetica,sans-serif; font-size:48; text-anchor:middle;\\\" transform=\\\"rotate(0, 506.891, 1557.25)\\\" x=\\\"506.891\\\" y=\\\"1557.25\\\">-2</text>\\n</g>\\n<g clip-path=\\\"url(#clip00)\\\">\\n<text style=\\\"fill:#00002d; fill-opacity:1; font-family:Arial,Helvetica Neue,Helvetica,sans-serif; font-size:48; text-anchor:middle;\\\" transform=\\\"rotate(0, 870.894, 1557.25)\\\" x=\\\"870.894\\\" y=\\\"1557.25\\\">-1</text>\\n</g>\\n<g clip-path=\\\"url(#clip00)\\\">\\n<text style=\\\"fill:#00002d; fill-opacity:1; font-family:Arial,Helvetica Neue,Helvetica,sans-serif; font-size:48; text-anchor:middle;\\\" transform=\\\"rotate(0, 1234.9, 1557.25)\\\" x=\\\"1234.9\\\" y=\\\"1557.25\\\">0</text>\\n</g>\\n<g clip-path=\\\"url(#clip00)\\\">\\n<text style=\\\"fill:#00002d; fill-opacity:1; font-family:Arial,Helvetica Neue,Helvetica,sans-serif; font-size:48; text-anchor:middle;\\\" transform=\\\"rotate(0, 1598.9, 1557.25)\\\" x=\\\"1598.9\\\" y=\\\"1557.25\\\">1</text>\\n</g>\\n<g clip-path=\\\"url(#clip00)\\\">\\n<text style=\\\"fill:#00002d; fill-opacity:1; font-family:Arial,Helvetica Neue,Helvetica,sans-serif; font-size:48; text-anchor:middle;\\\" transform=\\\"rotate(0, 1962.9, 1557.25)\\\" x=\\\"1962.9\\\" y=\\\"1557.25\\\">2</text>\\n</g>\\n<g clip-path=\\\"url(#clip00)\\\">\\n<text style=\\\"fill:#00002d; fill-opacity:1; font-family:Arial,Helvetica Neue,Helvetica,sans-serif; font-size:48; text-anchor:end;\\\" transform=\\\"rotate(0, 482.891, 1520.75)\\\" x=\\\"482.891\\\" y=\\\"1520.75\\\">-2</text>\\n</g>\\n<g clip-path=\\\"url(#clip00)\\\">\\n<text style=\\\"fill:#00002d; fill-opacity:1; font-family:Arial,Helvetica Neue,Helvetica,sans-serif; font-size:48; text-anchor:end;\\\" transform=\\\"rotate(0, 482.891, 1156.75)\\\" x=\\\"482.891\\\" y=\\\"1156.75\\\">-1</text>\\n</g>\\n<g clip-path=\\\"url(#clip00)\\\">\\n<text style=\\\"fill:#00002d; fill-opacity:1; font-family:Arial,Helvetica Neue,Helvetica,sans-serif; font-size:48; text-anchor:end;\\\" transform=\\\"rotate(0, 482.891, 792.749)\\\" x=\\\"482.891\\\" y=\\\"792.749\\\">0</text>\\n</g>\\n<g clip-path=\\\"url(#clip00)\\\">\\n<text style=\\\"fill:#00002d; fill-opacity:1; font-family:Arial,Helvetica Neue,Helvetica,sans-serif; font-size:48; text-anchor:end;\\\" transform=\\\"rotate(0, 482.891, 428.747)\\\" x=\\\"482.891\\\" y=\\\"428.747\\\">1</text>\\n</g>\\n<g clip-path=\\\"url(#clip00)\\\">\\n<text style=\\\"fill:#00002d; fill-opacity:1; font-family:Arial,Helvetica Neue,Helvetica,sans-serif; font-size:48; text-anchor:end;\\\" transform=\\\"rotate(0, 482.891, 64.7441)\\\" x=\\\"482.891\\\" y=\\\"64.7441\\\">2</text>\\n</g>\\n<polyline clip-path=\\\"url(#clip02)\\\" style=\\\"stroke:#008100; stroke-width:6.4; stroke-opacity:1; fill:none\\\" points=\\\"\\n  1234.9,775.249 1598.87,779.832 \\n  \\\"/>\\n<polyline clip-path=\\\"url(#clip02)\\\" style=\\\"stroke:#008100; stroke-width:6.4; stroke-opacity:1; fill:none\\\" points=\\\"\\n  1563.1,761.38 1598.87,779.832 1562.65,797.377 \\n  \\\"/>\\n<polyline clip-path=\\\"url(#clip02)\\\" style=\\\"stroke:#008100; stroke-width:6.4; stroke-opacity:1; fill:none\\\" points=\\\"\\n  1598.87,779.832 1234.9,775.249 \\n  \\\"/>\\n<polyline clip-path=\\\"url(#clip02)\\\" style=\\\"stroke:#0000ff; stroke-width:9.6; stroke-opacity:1; fill:none\\\" points=\\\"\\n  1234.9,775.249 1234.9,775.249 \\n  \\\"/>\\n<polyline clip-path=\\\"url(#clip02)\\\" style=\\\"stroke:#0000ff; stroke-width:9.6; stroke-opacity:1; fill:none\\\" points=\\\"\\n  nan,nan nan,nan nan,nan \\n  \\\"/>\\n<polyline clip-path=\\\"url(#clip02)\\\" style=\\\"stroke:#0000ff; stroke-width:9.6; stroke-opacity:1; fill:none\\\" points=\\\"\\n  nan,nan nan,nan \\n  \\\"/>\\n<polyline clip-path=\\\"url(#clip02)\\\" style=\\\"stroke:#008100; stroke-width:3.2; stroke-opacity:1; fill:none\\\" stroke-dasharray=\\\"13, 8\\\" points=\\\"\\n  1598.9,775.249 1598.88,771.609 1598.83,767.969 1598.73,764.331 1598.61,760.693 1598.44,757.056 1598.24,753.422 1598.01,749.79 1597.73,746.16 1597.43,742.533 \\n  1597.08,738.909 1596.7,735.289 1596.28,731.673 1595.83,728.062 1595.34,724.455 1594.81,720.853 1594.25,717.257 1593.65,713.666 1593.02,710.082 1592.35,706.504 \\n  1591.64,702.933 1590.9,699.369 1590.13,695.813 1589.31,692.265 1588.47,688.725 1587.58,685.193 1586.66,681.671 1585.71,678.158 1584.72,674.655 1583.7,671.162 \\n  1582.64,667.679 1581.55,664.207 1580.42,660.746 1579.26,657.296 1578.06,653.859 1576.83,650.433 1575.56,647.02 1574.27,643.62 1572.93,640.233 1571.57,636.859 \\n  1570.16,633.5 1568.73,630.154 1567.26,626.823 1565.76,623.507 1564.23,620.206 1562.66,616.92 1561.06,613.651 1559.43,610.397 1557.76,607.16 1556.07,603.94 \\n  1554.34,600.737 1552.58,597.551 1550.78,594.383 1548.96,591.234 1547.1,588.102 1545.22,584.99 1543.3,581.896 1541.35,578.822 1539.37,575.767 1537.36,572.732 \\n  1535.32,569.718 1533.25,566.724 1531.15,563.751 1529.02,560.799 1526.86,557.868 1524.67,554.96 1522.46,552.073 1520.21,549.209 1517.93,546.367 1515.63,543.548 \\n  1513.3,540.752 1510.94,537.98 1508.56,535.231 1506.14,532.507 1503.7,529.807 1501.23,527.131 1498.74,524.48 1496.22,521.854 1493.67,519.254 1491.1,516.679 \\n  1488.5,514.13 1485.88,511.607 1483.23,509.11 1480.55,506.64 1477.85,504.197 1475.13,501.781 1472.39,499.392 1469.61,497.031 1466.82,494.698 1464,492.393 \\n  1461.16,490.116 1458.3,487.868 1455.42,485.648 1452.51,483.457 1449.58,481.296 1446.63,479.164 1443.66,477.061 1440.67,474.989 1437.65,472.946 1434.62,470.933 \\n  1431.57,468.951 1428.49,467 1425.4,465.08 1422.29,463.19 1419.16,461.332 1416.01,459.505 1412.85,457.709 1409.66,455.946 1406.46,454.214 1403.24,452.515 \\n  1400.01,450.847 1396.75,449.212 1393.49,447.61 1390.2,446.041 1386.9,444.504 1383.59,443.001 1380.26,441.53 1376.91,440.093 1373.55,438.69 1370.18,437.32 \\n  1366.8,435.984 1363.4,434.682 1359.98,433.415 1356.56,432.181 1353.12,430.981 1349.67,429.816 1346.21,428.686 1342.74,427.59 1339.26,426.529 1335.77,425.503 \\n  1332.27,424.511 1328.75,423.555 1325.23,422.634 1321.7,421.749 1318.16,420.898 1314.62,420.083 1311.06,419.304 1307.5,418.56 1303.93,417.852 1300.35,417.179 \\n  1296.76,416.543 1293.17,415.942 1289.58,415.377 1285.98,414.848 1282.37,414.356 1278.76,413.899 1275.14,413.478 1271.52,413.094 1267.9,412.746 1264.27,412.434 \\n  1260.64,412.158 1257.01,411.919 1253.38,411.716 1249.74,411.549 1246.1,411.419 1242.47,411.325 1238.83,411.268 1235.19,411.247 1231.55,411.262 1227.91,411.314 \\n  1224.27,411.402 1220.63,411.526 1216.99,411.687 1213.36,411.884 1209.73,412.118 1206.1,412.388 1202.47,412.694 1198.85,413.036 1195.22,413.415 1191.61,413.83 \\n  1188,414.281 1184.39,414.768 1180.79,415.291 1177.19,415.85 1173.6,416.445 1170.01,417.076 1166.44,417.742 1162.86,418.445 1159.3,419.183 1155.74,419.957 \\n  1152.19,420.766 1148.65,421.611 1145.12,422.491 1141.6,423.406 1138.08,424.357 1134.58,425.342 1131.09,426.363 1127.6,427.419 1124.13,428.509 1120.67,429.634 \\n  1117.22,430.793 1113.78,431.987 1110.35,433.216 1106.94,434.478 1103.54,435.775 1100.15,437.105 1096.77,438.47 1093.41,439.868 1090.07,441.299 1086.74,442.764 \\n  1083.42,444.262 1080.12,445.794 1076.83,447.358 1073.56,448.955 1070.3,450.585 1067.06,452.247 1063.84,453.941 1060.64,455.668 1057.45,457.426 1054.28,459.217 \\n  1051.13,461.039 1048,462.892 1044.88,464.777 1041.79,466.692 1038.71,468.639 1035.66,470.616 1032.62,472.623 1029.6,474.661 1026.61,476.729 1023.63,478.827 \\n  1020.68,480.954 1017.75,483.111 1014.84,485.297 1011.95,487.512 1009.08,489.756 1006.24,492.028 1003.42,494.329 1000.62,496.658 997.847,499.015 995.097,501.399 \\n  992.37,503.81 989.668,506.249 986.99,508.715 984.337,511.207 981.709,513.726 979.107,516.271 976.53,518.842 973.979,521.438 971.454,524.06 968.955,526.707 \\n  966.483,529.379 964.038,532.075 961.62,534.796 959.229,537.541 956.866,540.309 954.53,543.101 952.223,545.916 949.944,548.754 947.693,551.615 945.471,554.498 \\n  943.278,557.404 941.114,560.331 938.98,563.279 936.875,566.249 934.8,569.24 932.755,572.251 930.74,575.282 928.755,578.334 926.802,581.405 924.879,584.496 \\n  922.987,587.605 921.126,590.734 919.296,593.881 917.499,597.046 915.732,600.228 913.998,603.429 912.296,606.646 910.626,609.881 908.989,613.131 907.384,616.399 \\n  905.812,619.682 904.273,622.98 902.766,626.294 901.294,629.623 899.854,632.966 898.448,636.323 897.076,639.695 895.737,643.08 894.432,646.478 893.162,649.889 \\n  891.925,653.312 890.723,656.748 889.555,660.196 888.422,663.655 887.323,667.125 886.259,670.606 885.23,674.098 884.236,677.599 883.277,681.111 882.354,684.632 \\n  881.465,688.162 880.612,691.7 879.794,695.247 879.012,698.802 878.265,702.365 877.554,705.935 876.879,709.511 876.24,713.095 875.636,716.684 875.068,720.28 \\n  874.537,723.881 874.041,727.487 873.581,731.098 873.158,734.713 872.771,738.333 872.42,741.956 872.105,745.582 871.826,749.211 871.584,752.843 871.378,756.477 \\n  871.209,760.113 871.075,763.751 870.979,767.39 870.918,771.029 870.894,774.669 870.907,778.309 870.955,781.949 871.041,785.588 871.162,789.226 871.32,792.862 \\n  871.515,796.497 871.745,800.13 872.012,803.76 872.315,807.388 872.655,811.012 873.031,814.632 873.443,818.249 873.891,821.861 874.375,825.469 874.895,829.072 \\n  875.451,832.669 876.043,836.26 876.671,839.846 877.335,843.425 878.035,846.997 878.77,850.562 879.541,854.119 880.348,857.669 881.19,861.21 882.067,864.743 \\n  882.979,868.267 883.927,871.781 884.91,875.286 885.928,878.781 886.981,882.265 888.068,885.739 889.19,889.201 890.347,892.653 891.538,896.092 892.764,899.52 \\n  894.024,902.935 895.318,906.337 896.645,909.726 898.007,913.102 899.402,916.464 900.831,919.812 902.294,923.145 903.789,926.464 905.318,929.767 906.88,933.055 \\n  908.474,936.327 910.101,939.584 911.761,942.823 913.453,946.046 915.177,949.252 916.933,952.44 918.72,955.611 920.54,958.764 922.391,961.898 924.273,965.014 \\n  926.186,968.111 928.13,971.188 930.104,974.246 932.11,977.284 934.145,980.301 936.211,983.299 938.306,986.275 940.431,989.23 942.586,992.164 944.769,995.076 \\n  946.982,997.967 949.224,1000.83 951.494,1003.68 953.792,1006.5 956.119,1009.3 958.473,1012.08 960.855,1014.83 963.265,1017.56 965.701,1020.26 968.165,1022.94 \\n  970.655,1025.6 973.172,1028.23 975.715,1030.83 978.283,1033.41 980.878,1035.96 983.498,1038.49 986.143,1040.99 988.812,1043.47 991.507,1045.91 994.226,1048.33 \\n  996.968,1050.73 999.735,1053.09 1002.53,1055.43 1005.34,1057.74 1008.17,1060.02 1011.03,1062.27 1013.92,1064.5 1016.82,1066.69 1019.74,1068.86 1022.69,1071 \\n  1025.66,1073.1 1028.65,1075.18 1031.66,1077.23 1034.69,1079.25 1037.74,1081.23 1040.81,1083.19 1043.9,1085.11 1047,1087.01 1050.13,1088.87 1053.28,1090.7 \\n  1056.44,1092.5 1059.62,1094.27 1062.82,1096.01 1066.04,1097.71 1069.27,1099.39 1072.52,1101.03 1075.79,1102.63 1079.07,1104.21 1082.36,1105.75 1085.68,1107.26 \\n  1089,1108.74 1092.35,1110.18 1095.7,1111.59 1099.07,1112.96 1102.46,1114.3 1105.85,1115.61 1109.26,1116.88 1112.69,1118.12 1116.12,1119.33 1119.57,1120.5 \\n  1123.03,1121.63 1126.5,1122.74 1129.98,1123.8 1133.47,1124.83 1136.97,1125.83 1140.48,1126.79 1144,1127.72 1147.53,1128.61 1151.07,1129.47 1154.61,1130.29 \\n  1158.17,1131.07 1161.73,1131.82 1165.3,1132.54 1168.87,1133.21 1172.46,1133.86 1176.05,1134.46 1179.64,1135.03 1183.24,1135.57 1186.85,1136.07 1190.46,1136.53 \\n  1194.07,1136.95 1197.69,1137.35 1201.31,1137.7 1204.94,1138.02 1208.57,1138.3 1212.2,1138.54 1215.84,1138.75 1219.47,1138.92 1223.11,1139.06 1226.75,1139.16 \\n  1230.39,1139.22 1234.03,1139.25 1237.67,1139.24 1241.31,1139.19 1244.95,1139.11 1248.58,1138.99 1252.22,1138.84 1255.86,1138.65 1259.49,1138.42 1263.12,1138.16 \\n  1266.75,1137.86 1270.37,1137.52 1273.99,1137.15 1277.61,1136.74 1281.22,1136.29 1284.83,1135.81 1288.43,1135.29 1292.03,1134.74 1295.62,1134.15 1299.21,1133.53 \\n  1302.79,1132.86 1306.36,1132.17 1309.93,1131.43 1313.48,1130.67 1317.03,1129.86 1320.58,1129.02 1324.11,1128.15 1327.63,1127.24 1331.15,1126.29 1334.65,1125.31 \\n  1338.15,1124.3 1341.64,1123.25 1345.11,1122.16 1348.57,1121.05 1352.03,1119.89 1355.47,1118.7 1358.89,1117.48 1362.31,1116.22 1365.71,1114.93 1369.1,1113.61 \\n  1372.48,1112.25 1375.84,1110.86 1379.19,1109.43 1382.53,1107.97 1385.85,1106.48 1389.15,1104.95 1392.44,1103.39 1395.71,1101.8 1398.97,1100.17 1402.21,1098.52 \\n  1405.44,1096.83 1408.64,1095.11 1411.83,1093.35 1415.01,1091.57 1418.16,1089.75 1421.3,1087.9 1424.41,1086.02 1427.51,1084.11 1430.59,1082.17 1433.65,1080.2 \\n  1436.69,1078.2 1439.71,1076.16 1442.71,1074.1 1445.69,1072.01 1448.64,1069.88 1451.58,1067.73 1454.49,1065.55 1457.38,1063.34 1460.25,1061.1 1463.1,1058.83 \\n  1465.93,1056.54 1468.73,1054.21 1471.51,1051.86 1474.26,1049.48 1476.99,1047.07 1479.7,1044.64 1482.38,1042.18 1485.03,1039.69 1487.67,1037.17 1490.27,1034.63 \\n  1492.85,1032.07 1495.41,1029.47 1497.94,1026.86 1500.44,1024.21 1502.92,1021.55 1505.37,1018.85 1507.79,1016.14 1510.18,1013.4 1512.55,1010.63 1514.89,1007.84 \\n  1517.2,1005.03 1519.49,1002.2 1521.74,999.34 1523.97,996.46 1526.17,993.558 1528.34,990.635 1530.47,987.69 1532.58,984.723 1534.66,981.736 1536.71,978.728 \\n  1538.73,975.7 1540.72,972.651 1542.68,969.583 1544.61,966.496 1546.51,963.389 1548.37,960.264 1550.21,957.12 1552.01,953.958 1553.78,950.778 1555.52,947.58 \\n  1557.23,944.365 1558.9,941.134 1560.55,937.885 1562.16,934.621 1563.73,931.34 1565.28,928.044 1566.79,924.733 1568.27,921.406 1569.71,918.065 1571.12,914.71 \\n  1572.5,911.341 1573.84,907.958 1575.15,904.562 1576.43,901.153 1577.67,897.732 1578.88,894.298 1580.05,890.852 1581.19,887.395 1582.3,883.926 1583.37,880.447 \\n  1584.4,876.957 1585.4,873.457 1586.36,869.947 1587.29,866.428 1588.19,862.899 1589.05,859.362 1589.87,855.816 1590.66,852.262 1591.41,848.701 1592.13,845.132 \\n  1592.81,841.557 1593.45,837.974 1594.06,834.386 1594.64,830.791 1595.17,827.191 1595.68,823.586 1596.14,819.975 1596.57,816.361 1596.96,812.742 1597.32,809.12 \\n  1597.64,805.494 1597.92,801.865 1598.17,798.233 1598.38,794.599 1598.56,790.964 1598.7,787.326 1598.8,783.688 1598.87,780.048 1598.9,776.408 \\n  \\\"/>\\n<polyline clip-path=\\\"url(#clip02)\\\" style=\\\"stroke:#0000ff; stroke-width:3.2; stroke-opacity:1; fill:none\\\" stroke-dasharray=\\\"13, 8\\\" points=\\\"\\n  1234.9,775.249 1234.9,775.249 \\n  \\n  \\n  \\n  \\n  \\n  \\n  \\n  \\n  \\n  \\n  \\n  \\n  \\n  \\n  \\n  \\n  \\n  \\n  \\n  \\n  \\n  \\n  \\n  \\n  \\n  \\n  \\n  \\n  \\n  \\n  \\n  \\n  \\n  \\n  \\n  \\n  \\n  \\n  \\n  \\n  \\n  \\n  \\n  \\n  \\n  \\n  \\n  \\n  \\n  \\n  \\n  \\n  \\n  \\n  \\n  \\n  \\n  \\n  \\n  \\n  \\n  \\n  \\\"/>\\n<polyline clip-path=\\\"url(#clip02)\\\" style=\\\"stroke:#ff00ff; stroke-width:12.8; stroke-opacity:1; fill:none\\\" points=\\\"\\n  1234.9,775.249 1234.9,775.249 \\n  \\\"/>\\n<polyline clip-path=\\\"url(#clip02)\\\" style=\\\"stroke:#ff00ff; stroke-width:12.8; stroke-opacity:1; fill:none\\\" points=\\\"\\n  1234.9,775.249 1598.87,779.832 \\n  \\\"/>\\n<circle clip-path=\\\"url(#clip02)\\\" style=\\\"fill:#00002d; stroke:none; fill-opacity:1\\\" cx=\\\"1234.9\\\" cy=\\\"775.249\\\" r=\\\"14\\\"/>\\n<circle clip-path=\\\"url(#clip02)\\\" style=\\\"fill:#ff5d5d; stroke:none; fill-opacity:1\\\" cx=\\\"1234.9\\\" cy=\\\"775.249\\\" r=\\\"11\\\"/>\\n</svg>\\n\", nothing)), Set(String[]), nothing, Any[], Dict{Any,Any}(\"obs-output\"=>Any[JSString(\"function (value, scope) {\\n    scope.setInnerHTML(value);\\n}\\n\")]), WebIO.ConnectionPool(Channel{Any}(sz_max:9223372036854775807,sz_curr:0), Set(AbstractConnection[]), Channel{AbstractConnection}(sz_max:32,sz_curr:0)), WebIO.JSString[]):\n",
       "    (div { className=\"webio-observable\" setInnerHtml=\"<?xml version=\\\"1.0\\\" encoding=\\\"utf-8\\\"?>\\n<svg xmlns=\\\"http://www.w3.org/2000/svg\\\" xmlns:xlink=\\\"http://www.w3.org/1999/xlink\\\" width=\\\"2400\\\" height=\\\"1600\\\" viewBox=\\\"0 0 2400 1600\\\">\\n<defs>\\n  <clipPath id=\\\"clip00\\\">\\n    <rect x=\\\"0\\\" y=\\\"0\\\" width=\\\"2400\\\" height=\\\"1600\\\"/>\\n  </clipPath>\\n</defs>\\n<polygon clip-path=\\\"url(#clip00)\\\" points=\\\"\\n0,1600 2400,1600 2400,0 0,0 \\n  \\\" fill=\\\"#ffffff\\\" fill-opacity=\\\"1\\\"/>\\n<defs>\\n  <clipPath id=\\\"clip01\\\">\\n    <rect x=\\\"480\\\" y=\\\"0\\\" width=\\\"1681\\\" height=\\\"1600\\\"/>\\n  </clipPath>\\n</defs>\\n<polygon clip-path=\\\"url(#clip00)\\\" points=\\\"\\n506.891,1503.25 1962.9,1503.25 1962.9,47.2441 506.891,47.2441 \\n  \\\" fill=\\\"#ffffff\\\" fill-opacity=\\\"1\\\"/>\\n<defs>\\n  <clipPath id=\\\"clip02\\\">\\n    <rect x=\\\"506\\\" y=\\\"47\\\" width=\\\"1457\\\" height=\\\"1457\\\"/>\\n  </clipPath>\\n</defs>\\n<polyline clip-path=\\\"url(#clip02)\\\" style=\\\"stroke:#00002d; stroke-width:1.6; stroke-opacity:0.1; fill:none\\\" points=\\\"\\n  506.891,1503.25 506.891,47.2441 \\n  \\\"/>\\n<polyline clip-path=\\\"url(#clip02)\\\" style=\\\"stroke:#00002d; stroke-width:1.6; stroke-opacity:0.1; fill:none\\\" points=\\\"\\n  870.894,1503.25 870.894,47.2441 \\n  \\\"/>\\n<polyline clip-path=\\\"url(#clip02)\\\" style=\\\"stroke:#00002d; stroke-width:1.6; stroke-opacity:0.1; fill:none\\\" points=\\\"\\n  1234.9,1503.25 1234.9,47.2441 \\n  \\\"/>\\n<polyline clip-path=\\\"url(#clip02)\\\" style=\\\"stroke:#00002d; stroke-width:1.6; stroke-opacity:0.1; fill:none\\\" points=\\\"\\n  1598.9,1503.25 1598.9,47.2441 \\n  \\\"/>\\n<polyline clip-path=\\\"url(#clip02)\\\" style=\\\"stroke:#00002d; stroke-width:1.6; stroke-opacity:0.1; fill:none\\\" points=\\\"\\n  1962.9,1503.25 1962.9,47.2441 \\n  \\\"/>\\n<polyline clip-path=\\\"url(#clip02)\\\" style=\\\"stroke:#00002d; stroke-width:1.6; stroke-opacity:0.1; fill:none\\\" points=\\\"\\n  506.891,1503.25 1962.9,1503.25 \\n  \\\"/>\\n<polyline clip-path=\\\"url(#clip02)\\\" style=\\\"stroke:#00002d; stroke-width:1.6; stroke-opacity:0.1; fill:none\\\" points=\\\"\\n  506.891,1139.25 1962.9,1139.25 \\n  \\\"/>\\n<polyline clip-path=\\\"url(#clip02)\\\" style=\\\"stroke:#00002d; stroke-width:1.6; stroke-opacity:0.1; fill:none\\\" points=\\\"\\n  506.891,775.249 1962.9,775.249 \\n  \\\"/>\\n<polyline clip-path=\\\"url(#clip02)\\\" style=\\\"stroke:#00002d; stroke-width:1.6; stroke-opacity:0.1; fill:none\\\" points=\\\"\\n  506.891,411.247 1962.9,411.247 \\n  \\\"/>\\n<polyline clip-path=\\\"url(#clip02)\\\" style=\\\"stroke:#00002d; stroke-width:1.6; stroke-opacity:0.1; fill:none\\\" points=\\\"\\n  506.891,47.2441 1962.9,47.2441 \\n  \\\"/>\\n<polyline clip-path=\\\"url(#clip00)\\\" style=\\\"stroke:#00002d; stroke-width:3.2; stroke-opacity:1; fill:none\\\" points=\\\"\\n  506.891,1503.25 1962.9,1503.25 \\n  \\\"/>\\n<polyline clip-path=\\\"url(#clip00)\\\" style=\\\"stroke:#00002d; stroke-width:3.2; stroke-opacity:1; fill:none\\\" points=\\\"\\n  506.891,1503.25 506.891,47.2441 \\n  \\\"/>\\n<polyline clip-path=\\\"url(#clip00)\\\" style=\\\"stroke:#00002d; stroke-width:3.2; stroke-opacity:1; fill:none\\\" points=\\\"\\n  506.891,1503.25 506.891,1481.41 \\n  \\\"/>\\n<polyline clip-path=\\\"url(#clip00)\\\" style=\\\"stroke:#00002d; stroke-width:3.2; stroke-opacity:1; fill:none\\\" points=\\\"\\n  870.894,1503.25 870.894,1481.41 \\n  \\\"/>\\n<polyline clip-path=\\\"url(#clip00)\\\" style=\\\"stroke:#00002d; stroke-width:3.2; stroke-opacity:1; fill:none\\\" points=\\\"\\n  1234.9,1503.25 1234.9,1481.41 \\n  \\\"/>\\n<polyline clip-path=\\\"url(#clip00)\\\" style=\\\"stroke:#00002d; stroke-width:3.2; stroke-opacity:1; fill:none\\\" points=\\\"\\n  1598.9,1503.25 1598.9,1481.41 \\n  \\\"/>\\n<polyline clip-path=\\\"url(#clip00)\\\" style=\\\"stroke:#00002d; stroke-width:3.2; stroke-opacity:1; fill:none\\\" points=\\\"\\n  1962.9,1503.25 1962.9,1481.41 \\n  \\\"/>\\n<polyline clip-path=\\\"url(#clip00)\\\" style=\\\"stroke:#00002d; stroke-width:3.2; stroke-opacity:1; fill:none\\\" points=\\\"\\n  506.891,1503.25 528.732,1503.25 \\n  \\\"/>\\n<polyline clip-path=\\\"url(#clip00)\\\" style=\\\"stroke:#00002d; stroke-width:3.2; stroke-opacity:1; fill:none\\\" points=\\\"\\n  506.891,1139.25 528.732,1139.25 \\n  \\\"/>\\n<polyline clip-path=\\\"url(#clip00)\\\" style=\\\"stroke:#00002d; stroke-width:3.2; stroke-opacity:1; fill:none\\\" points=\\\"\\n  506.891,775.249 528.732,775.249 \\n  \\\"/>\\n<polyline clip-path=\\\"url(#clip00)\\\" style=\\\"stroke:#00002d; stroke-width:3.2; stroke-opacity:1; fill:none\\\" points=\\\"\\n  506.891,411.247 528.732,411.247 \\n  \\\"/>\\n<polyline clip-path=\\\"url(#clip00)\\\" style=\\\"stroke:#00002d; stroke-width:3.2; stroke-opacity:1; fill:none\\\" points=\\\"\\n  506.891,47.2441 528.732,47.2441 \\n  \\\"/>\\n<g clip-path=\\\"url(#clip00)\\\">\\n<text style=\\\"fill:#00002d; fill-opacity:1; font-family:Arial,Helvetica Neue,Helvetica,sans-serif; font-size:48; text-anchor:middle;\\\" transform=\\\"rotate(0, 506.891, 1557.25)\\\" x=\\\"506.891\\\" y=\\\"1557.25\\\">-2</text>\\n</g>\\n<g clip-path=\\\"url(#clip00)\\\">\\n<text style=\\\"fill:#00002d; fill-opacity:1; font-family:Arial,Helvetica Neue,Helvetica,sans-serif; font-size:48; text-anchor:middle;\\\" transform=\\\"rotate(0, 870.894, 1557.25)\\\" x=\\\"870.894\\\" y=\\\"1557.25\\\">-1</text>\\n</g>\\n<g clip-path=\\\"url(#clip00)\\\">\\n<text style=\\\"fill:#00002d; fill-opacity:1; font-family:Arial,Helvetica Neue,Helvetica,sans-serif; font-size:48; text-anchor:middle;\\\" transform=\\\"rotate(0, 1234.9, 1557.25)\\\" x=\\\"1234.9\\\" y=\\\"1557.25\\\">0</text>\\n</g>\\n<g clip-path=\\\"url(#clip00)\\\">\\n<text style=\\\"fill:#00002d; fill-opacity:1; font-family:Arial,Helvetica Neue,Helvetica,sans-serif; font-size:48; text-anchor:middle;\\\" transform=\\\"rotate(0, 1598.9, 1557.25)\\\" x=\\\"1598.9\\\" y=\\\"1557.25\\\">1</text>\\n</g>\\n<g clip-path=\\\"url(#clip00)\\\">\\n<text style=\\\"fill:#00002d; fill-opacity:1; font-family:Arial,Helvetica Neue,Helvetica,sans-serif; font-size:48; text-anchor:middle;\\\" transform=\\\"rotate(0, 1962.9, 1557.25)\\\" x=\\\"1962.9\\\" y=\\\"1557.25\\\">2</text>\\n</g>\\n<g clip-path=\\\"url(#clip00)\\\">\\n<text style=\\\"fill:#00002d; fill-opacity:1; font-family:Arial,Helvetica Neue,Helvetica,sans-serif; font-size:48; text-anchor:end;\\\" transform=\\\"rotate(0, 482.891, 1520.75)\\\" x=\\\"482.891\\\" y=\\\"1520.75\\\">-2</text>\\n</g>\\n<g clip-path=\\\"url(#clip00)\\\">\\n<text style=\\\"fill:#00002d; fill-opacity:1; font-family:Arial,Helvetica Neue,Helvetica,sans-serif; font-size:48; text-anchor:end;\\\" transform=\\\"rotate(0, 482.891, 1156.75)\\\" x=\\\"482.891\\\" y=\\\"1156.75\\\">-1</text>\\n</g>\\n<g clip-path=\\\"url(#clip00)\\\">\\n<text style=\\\"fill:#00002d; fill-opacity:1; font-family:Arial,Helvetica Neue,Helvetica,sans-serif; font-size:48; text-anchor:end;\\\" transform=\\\"rotate(0, 482.891, 792.749)\\\" x=\\\"482.891\\\" y=\\\"792.749\\\">0</text>\\n</g>\\n<g clip-path=\\\"url(#clip00)\\\">\\n<text style=\\\"fill:#00002d; fill-opacity:1; font-family:Arial,Helvetica Neue,Helvetica,sans-serif; font-size:48; text-anchor:end;\\\" transform=\\\"rotate(0, 482.891, 428.747)\\\" x=\\\"482.891\\\" y=\\\"428.747\\\">1</text>\\n</g>\\n<g clip-path=\\\"url(#clip00)\\\">\\n<text style=\\\"fill:#00002d; fill-opacity:1; font-family:Arial,Helvetica Neue,Helvetica,sans-serif; font-size:48; text-anchor:end;\\\" transform=\\\"rotate(0, 482.891, 64.7441)\\\" x=\\\"482.891\\\" y=\\\"64.7441\\\">2</text>\\n</g>\\n<polyline clip-path=\\\"url(#clip02)\\\" style=\\\"stroke:#008100; stroke-width:6.4; stroke-opacity:1; fill:none\\\" points=\\\"\\n  1234.9,775.249 1598.87,779.832 \\n  \\\"/>\\n<polyline clip-path=\\\"url(#clip02)\\\" style=\\\"stroke:#008100; stroke-width:6.4; stroke-opacity:1; fill:none\\\" points=\\\"\\n  1563.1,761.38 1598.87,779.832 1562.65,797.377 \\n  \\\"/>\\n<polyline clip-path=\\\"url(#clip02)\\\" style=\\\"stroke:#008100; stroke-width:6.4; stroke-opacity:1; fill:none\\\" points=\\\"\\n  1598.87,779.832 1234.9,775.249 \\n  \\\"/>\\n<polyline clip-path=\\\"url(#clip02)\\\" style=\\\"stroke:#0000ff; stroke-width:9.6; stroke-opacity:1; fill:none\\\" points=\\\"\\n  1234.9,775.249 1234.9,775.249 \\n  \\\"/>\\n<polyline clip-path=\\\"url(#clip02)\\\" style=\\\"stroke:#0000ff; stroke-width:9.6; stroke-opacity:1; fill:none\\\" points=\\\"\\n  nan,nan nan,nan nan,nan \\n  \\\"/>\\n<polyline clip-path=\\\"url(#clip02)\\\" style=\\\"stroke:#0000ff; stroke-width:9.6; stroke-opacity:1; fill:none\\\" points=\\\"\\n  nan,nan nan,nan \\n  \\\"/>\\n<polyline clip-path=\\\"url(#clip02)\\\" style=\\\"stroke:#008100; stroke-width:3.2; stroke-opacity:1; fill:none\\\" stroke-dasharray=\\\"13, 8\\\" points=\\\"\\n  1598.9,775.249 1598.88,771.609 1598.83,767.969 1598.73,764.331 1598.61,760.693 1598.44,757.056 1598.24,753.422 1598.01,749.79 1597.73,746.16 1597.43,742.533 \\n  1597.08,738.909 1596.7,735.289 1596.28,731.673 1595.83,728.062 1595.34,724.455 1594.81,720.853 1594.25,717.257 1593.65,713.666 1593.02,710.082 1592.35,706.504 \\n  1591.64,702.933 1590.9,699.369 1590.13,695.813 1589.31,692.265 1588.47,688.725 1587.58,685.193 1586.66,681.671 1585.71,678.158 1584.72,674.655 1583.7,671.162 \\n  1582.64,667.679 1581.55,664.207 1580.42,660.746 1579.26,657.296 1578.06,653.859 1576.83,650.433 1575.56,647.02 1574.27,643.62 1572.93,640.233 1571.57,636.859 \\n  1570.16,633.5 1568.73,630.154 1567.26,626.823 1565.76,623.507 1564.23,620.206 1562.66,616.92 1561.06,613.651 1559.43,610.397 1557.76,607.16 1556.07,603.94 \\n  1554.34,600.737 1552.58,597.551 1550.78,594.383 1548.96,591.234 1547.1,588.102 1545.22,584.99 1543.3,581.896 1541.35,578.822 1539.37,575.767 1537.36,572.732 \\n  1535.32,569.718 1533.25,566.724 1531.15,563.751 1529.02,560.799 1526.86,557.868 1524.67,554.96 1522.46,552.073 1520.21,549.209 1517.93,546.367 1515.63,543.548 \\n  1513.3,540.752 1510.94,537.98 1508.56,535.231 1506.14,532.507 1503.7,529.807 1501.23,527.131 1498.74,524.48 1496.22,521.854 1493.67,519.254 1491.1,516.679 \\n  1488.5,514.13 1485.88,511.607 1483.23,509.11 1480.55,506.64 1477.85,504.197 1475.13,501.781 1472.39,499.392 1469.61,497.031 1466.82,494.698 1464,492.393 \\n  1461.16,490.116 1458.3,487.868 1455.42,485.648 1452.51,483.457 1449.58,481.296 1446.63,479.164 1443.66,477.061 1440.67,474.989 1437.65,472.946 1434.62,470.933 \\n  1431.57,468.951 1428.49,467 1425.4,465.08 1422.29,463.19 1419.16,461.332 1416.01,459.505 1412.85,457.709 1409.66,455.946 1406.46,454.214 1403.24,452.515 \\n  1400.01,450.847 1396.75,449.212 1393.49,447.61 1390.2,446.041 1386.9,444.504 1383.59,443.001 1380.26,441.53 1376.91,440.093 1373.55,438.69 1370.18,437.32 \\n  1366.8,435.984 1363.4,434.682 1359.98,433.415 1356.56,432.181 1353.12,430.981 1349.67,429.816 1346.21,428.686 1342.74,427.59 1339.26,426.529 1335.77,425.503 \\n  1332.27,424.511 1328.75,423.555 1325.23,422.634 1321.7,421.749 1318.16,420.898 1314.62,420.083 1311.06,419.304 1307.5,418.56 1303.93,417.852 1300.35,417.179 \\n  1296.76,416.543 1293.17,415.942 1289.58,415.377 1285.98,414.848 1282.37,414.356 1278.76,413.899 1275.14,413.478 1271.52,413.094 1267.9,412.746 1264.27,412.434 \\n  1260.64,412.158 1257.01,411.919 1253.38,411.716 1249.74,411.549 1246.1,411.419 1242.47,411.325 1238.83,411.268 1235.19,411.247 1231.55,411.262 1227.91,411.314 \\n  1224.27,411.402 1220.63,411.526 1216.99,411.687 1213.36,411.884 1209.73,412.118 1206.1,412.388 1202.47,412.694 1198.85,413.036 1195.22,413.415 1191.61,413.83 \\n  1188,414.281 1184.39,414.768 1180.79,415.291 1177.19,415.85 1173.6,416.445 1170.01,417.076 1166.44,417.742 1162.86,418.445 1159.3,419.183 1155.74,419.957 \\n  1152.19,420.766 1148.65,421.611 1145.12,422.491 1141.6,423.406 1138.08,424.357 1134.58,425.342 1131.09,426.363 1127.6,427.419 1124.13,428.509 1120.67,429.634 \\n  1117.22,430.793 1113.78,431.987 1110.35,433.216 1106.94,434.478 1103.54,435.775 1100.15,437.105 1096.77,438.47 1093.41,439.868 1090.07,441.299 1086.74,442.764 \\n  1083.42,444.262 1080.12,445.794 1076.83,447.358 1073.56,448.955 1070.3,450.585 1067.06,452.247 1063.84,453.941 1060.64,455.668 1057.45,457.426 1054.28,459.217 \\n  1051.13,461.039 1048,462.892 1044.88,464.777 1041.79,466.692 1038.71,468.639 1035.66,470.616 1032.62,472.623 1029.6,474.661 1026.61,476.729 1023.63,478.827 \\n  1020.68,480.954 1017.75,483.111 1014.84,485.297 1011.95,487.512 1009.08,489.756 1006.24,492.028 1003.42,494.329 1000.62,496.658 997.847,499.015 995.097,501.399 \\n  992.37,503.81 989.668,506.249 986.99,508.715 984.337,511.207 981.709,513.726 979.107,516.271 976.53,518.842 973.979,521.438 971.454,524.06 968.955,526.707 \\n  966.483,529.379 964.038,532.075 961.62,534.796 959.229,537.541 956.866,540.309 954.53,543.101 952.223,545.916 949.944,548.754 947.693,551.615 945.471,554.498 \\n  943.278,557.404 941.114,560.331 938.98,563.279 936.875,566.249 934.8,569.24 932.755,572.251 930.74,575.282 928.755,578.334 926.802,581.405 924.879,584.496 \\n  922.987,587.605 921.126,590.734 919.296,593.881 917.499,597.046 915.732,600.228 913.998,603.429 912.296,606.646 910.626,609.881 908.989,613.131 907.384,616.399 \\n  905.812,619.682 904.273,622.98 902.766,626.294 901.294,629.623 899.854,632.966 898.448,636.323 897.076,639.695 895.737,643.08 894.432,646.478 893.162,649.889 \\n  891.925,653.312 890.723,656.748 889.555,660.196 888.422,663.655 887.323,667.125 886.259,670.606 885.23,674.098 884.236,677.599 883.277,681.111 882.354,684.632 \\n  881.465,688.162 880.612,691.7 879.794,695.247 879.012,698.802 878.265,702.365 877.554,705.935 876.879,709.511 876.24,713.095 875.636,716.684 875.068,720.28 \\n  874.537,723.881 874.041,727.487 873.581,731.098 873.158,734.713 872.771,738.333 872.42,741.956 872.105,745.582 871.826,749.211 871.584,752.843 871.378,756.477 \\n  871.209,760.113 871.075,763.751 870.979,767.39 870.918,771.029 870.894,774.669 870.907,778.309 870.955,781.949 871.041,785.588 871.162,789.226 871.32,792.862 \\n  871.515,796.497 871.745,800.13 872.012,803.76 872.315,807.388 872.655,811.012 873.031,814.632 873.443,818.249 873.891,821.861 874.375,825.469 874.895,829.072 \\n  875.451,832.669 876.043,836.26 876.671,839.846 877.335,843.425 878.035,846.997 878.77,850.562 879.541,854.119 880.348,857.669 881.19,861.21 882.067,864.743 \\n  882.979,868.267 883.927,871.781 884.91,875.286 885.928,878.781 886.981,882.265 888.068,885.739 889.19,889.201 890.347,892.653 891.538,896.092 892.764,899.52 \\n  894.024,902.935 895.318,906.337 896.645,909.726 898.007,913.102 899.402,916.464 900.831,919.812 902.294,923.145 903.789,926.464 905.318,929.767 906.88,933.055 \\n  908.474,936.327 910.101,939.584 911.761,942.823 913.453,946.046 915.177,949.252 916.933,952.44 918.72,955.611 920.54,958.764 922.391,961.898 924.273,965.014 \\n  926.186,968.111 928.13,971.188 930.104,974.246 932.11,977.284 934.145,980.301 936.211,983.299 938.306,986.275 940.431,989.23 942.586,992.164 944.769,995.076 \\n  946.982,997.967 949.224,1000.83 951.494,1003.68 953.792,1006.5 956.119,1009.3 958.473,1012.08 960.855,1014.83 963.265,1017.56 965.701,1020.26 968.165,1022.94 \\n  970.655,1025.6 973.172,1028.23 975.715,1030.83 978.283,1033.41 980.878,1035.96 983.498,1038.49 986.143,1040.99 988.812,1043.47 991.507,1045.91 994.226,1048.33 \\n  996.968,1050.73 999.735,1053.09 1002.53,1055.43 1005.34,1057.74 1008.17,1060.02 1011.03,1062.27 1013.92,1064.5 1016.82,1066.69 1019.74,1068.86 1022.69,1071 \\n  1025.66,1073.1 1028.65,1075.18 1031.66,1077.23 1034.69,1079.25 1037.74,1081.23 1040.81,1083.19 1043.9,1085.11 1047,1087.01 1050.13,1088.87 1053.28,1090.7 \\n  1056.44,1092.5 1059.62,1094.27 1062.82,1096.01 1066.04,1097.71 1069.27,1099.39 1072.52,1101.03 1075.79,1102.63 1079.07,1104.21 1082.36,1105.75 1085.68,1107.26 \\n  1089,1108.74 1092.35,1110.18 1095.7,1111.59 1099.07,1112.96 1102.46,1114.3 1105.85,1115.61 1109.26,1116.88 1112.69,1118.12 1116.12,1119.33 1119.57,1120.5 \\n  1123.03,1121.63 1126.5,1122.74 1129.98,1123.8 1133.47,1124.83 1136.97,1125.83 1140.48,1126.79 1144,1127.72 1147.53,1128.61 1151.07,1129.47 1154.61,1130.29 \\n  1158.17,1131.07 1161.73,1131.82 1165.3,1132.54 1168.87,1133.21 1172.46,1133.86 1176.05,1134.46 1179.64,1135.03 1183.24,1135.57 1186.85,1136.07 1190.46,1136.53 \\n  1194.07,1136.95 1197.69,1137.35 1201.31,1137.7 1204.94,1138.02 1208.57,1138.3 1212.2,1138.54 1215.84,1138.75 1219.47,1138.92 1223.11,1139.06 1226.75,1139.16 \\n  1230.39,1139.22 1234.03,1139.25 1237.67,1139.24 1241.31,1139.19 1244.95,1139.11 1248.58,1138.99 1252.22,1138.84 1255.86,1138.65 1259.49,1138.42 1263.12,1138.16 \\n  1266.75,1137.86 1270.37,1137.52 1273.99,1137.15 1277.61,1136.74 1281.22,1136.29 1284.83,1135.81 1288.43,1135.29 1292.03,1134.74 1295.62,1134.15 1299.21,1133.53 \\n  1302.79,1132.86 1306.36,1132.17 1309.93,1131.43 1313.48,1130.67 1317.03,1129.86 1320.58,1129.02 1324.11,1128.15 1327.63,1127.24 1331.15,1126.29 1334.65,1125.31 \\n  1338.15,1124.3 1341.64,1123.25 1345.11,1122.16 1348.57,1121.05 1352.03,1119.89 1355.47,1118.7 1358.89,1117.48 1362.31,1116.22 1365.71,1114.93 1369.1,1113.61 \\n  1372.48,1112.25 1375.84,1110.86 1379.19,1109.43 1382.53,1107.97 1385.85,1106.48 1389.15,1104.95 1392.44,1103.39 1395.71,1101.8 1398.97,1100.17 1402.21,1098.52 \\n  1405.44,1096.83 1408.64,1095.11 1411.83,1093.35 1415.01,1091.57 1418.16,1089.75 1421.3,1087.9 1424.41,1086.02 1427.51,1084.11 1430.59,1082.17 1433.65,1080.2 \\n  1436.69,1078.2 1439.71,1076.16 1442.71,1074.1 1445.69,1072.01 1448.64,1069.88 1451.58,1067.73 1454.49,1065.55 1457.38,1063.34 1460.25,1061.1 1463.1,1058.83 \\n  1465.93,1056.54 1468.73,1054.21 1471.51,1051.86 1474.26,1049.48 1476.99,1047.07 1479.7,1044.64 1482.38,1042.18 1485.03,1039.69 1487.67,1037.17 1490.27,1034.63 \\n  1492.85,1032.07 1495.41,1029.47 1497.94,1026.86 1500.44,1024.21 1502.92,1021.55 1505.37,1018.85 1507.79,1016.14 1510.18,1013.4 1512.55,1010.63 1514.89,1007.84 \\n  1517.2,1005.03 1519.49,1002.2 1521.74,999.34 1523.97,996.46 1526.17,993.558 1528.34,990.635 1530.47,987.69 1532.58,984.723 1534.66,981.736 1536.71,978.728 \\n  1538.73,975.7 1540.72,972.651 1542.68,969.583 1544.61,966.496 1546.51,963.389 1548.37,960.264 1550.21,957.12 1552.01,953.958 1553.78,950.778 1555.52,947.58 \\n  1557.23,944.365 1558.9,941.134 1560.55,937.885 1562.16,934.621 1563.73,931.34 1565.28,928.044 1566.79,924.733 1568.27,921.406 1569.71,918.065 1571.12,914.71 \\n  1572.5,911.341 1573.84,907.958 1575.15,904.562 1576.43,901.153 1577.67,897.732 1578.88,894.298 1580.05,890.852 1581.19,887.395 1582.3,883.926 1583.37,880.447 \\n  1584.4,876.957 1585.4,873.457 1586.36,869.947 1587.29,866.428 1588.19,862.899 1589.05,859.362 1589.87,855.816 1590.66,852.262 1591.41,848.701 1592.13,845.132 \\n  1592.81,841.557 1593.45,837.974 1594.06,834.386 1594.64,830.791 1595.17,827.191 1595.68,823.586 1596.14,819.975 1596.57,816.361 1596.96,812.742 1597.32,809.12 \\n  1597.64,805.494 1597.92,801.865 1598.17,798.233 1598.38,794.599 1598.56,790.964 1598.7,787.326 1598.8,783.688 1598.87,780.048 1598.9,776.408 \\n  \\\"/>\\n<polyline clip-path=\\\"url(#clip02)\\\" style=\\\"stroke:#0000ff; stroke-width:3.2; stroke-opacity:1; fill:none\\\" stroke-dasharray=\\\"13, 8\\\" points=\\\"\\n  1234.9,775.249 1234.9,775.249 \\n  \\n  \\n  \\n  \\n  \\n  \\n  \\n  \\n  \\n  \\n  \\n  \\n  \\n  \\n  \\n  \\n  \\n  \\n  \\n  \\n  \\n  \\n  \\n  \\n  \\n  \\n  \\n  \\n  \\n  \\n  \\n  \\n  \\n  \\n  \\n  \\n  \\n  \\n  \\n  \\n  \\n  \\n  \\n  \\n  \\n  \\n  \\n  \\n  \\n  \\n  \\n  \\n  \\n  \\n  \\n  \\n  \\n  \\n  \\n  \\n  \\n  \\n  \\\"/>\\n<polyline clip-path=\\\"url(#clip02)\\\" style=\\\"stroke:#ff00ff; stroke-width:12.8; stroke-opacity:1; fill:none\\\" points=\\\"\\n  1234.9,775.249 1234.9,775.249 \\n  \\\"/>\\n<polyline clip-path=\\\"url(#clip02)\\\" style=\\\"stroke:#ff00ff; stroke-width:12.8; stroke-opacity:1; fill:none\\\" points=\\\"\\n  1234.9,775.249 1598.87,779.832 \\n  \\\"/>\\n<circle clip-path=\\\"url(#clip02)\\\" style=\\\"fill:#00002d; stroke:none; fill-opacity:1\\\" cx=\\\"1234.9\\\" cy=\\\"775.249\\\" r=\\\"14\\\"/>\\n<circle clip-path=\\\"url(#clip02)\\\" style=\\\"fill:#ff5d5d; stroke:none; fill-opacity:1\\\" cx=\\\"1234.9\\\" cy=\\\"775.249\\\" r=\\\"11\\\"/>\\n</svg>\\n\" })))"
      ]
     },
     "execution_count": 9,
     "metadata": {
      "application/vnd.webio.node+json": {
       "kernelId": "b60d3081-e7dd-4d68-bb83-50e4fad3e468"
      }
     },
     "output_type": "execute_result"
    }
   ],
   "source": [
    "vbox(sliders, θ, p)"
   ]
  },
  {
   "cell_type": "markdown",
   "metadata": {},
   "source": [
    "## Define matrix using the SVD"
   ]
  },
  {
   "cell_type": "code",
   "execution_count": 10,
   "metadata": {},
   "outputs": [],
   "source": [
    "using LinearAlgebra"
   ]
  },
  {
   "metadata": {},
   "cell_type": "code",
   "outputs": [],
   "execution_count": null,
   "source": [
    "@manipulate for σ₁ in 0:0.01:2, σ₂ in 0:0.01:2, θ in 0:0.01:2π, ϕ in 0:0.01:2π, angle=-2π:0.01:2π\n",
    "\n",
    "    # when phi=theta have U = V so a symmetric matrix\n",
    "    \n",
    "    U = [cos(θ) sin(θ); -sin(θ) cos(θ)]\n",
    "    V = [cos(ϕ) sin(ϕ); -sin(ϕ) cos(ϕ)]\n",
    "\n",
    "    Σ = Diagonal([σ₁, σ₂])\n",
    "\n",
    "    M = U * Σ * V'\n",
    "   \n",
    "    x = [cos(angle), sin(angle)]\n",
    "\n",
    "    plot_image(M, x, 0.01)\n",
    "    \n",
    "    title!(\"evals = $(eigvals(M))\")\n",
    "end"
   ]
  },
  {
   "cell_type": "code",
   "execution_count": null,
   "metadata": {},
   "outputs": [],
   "source": []
  }
 ],
 "metadata": {
  "@webio": {
   "lastCommId": "2cd03ed5f2e94225b16275963664f6e9",
   "lastKernelId": "b60d3081-e7dd-4d68-bb83-50e4fad3e468"
  },
  "kernelspec": {
   "display_name": "Python 3",
   "language": "python",
   "name": "python3"
  },
  "language_info": {
   "codemirror_mode": {
    "name": "ipython",
    "version": 3
   },
   "file_extension": ".py",
   "mimetype": "text/x-python",
   "name": "python",
   "nbconvert_exporter": "python",
   "pygments_lexer": "ipython3",
   "version": "3.9.7"
  }
 },
 "nbformat": 4,
 "nbformat_minor": 2
}
