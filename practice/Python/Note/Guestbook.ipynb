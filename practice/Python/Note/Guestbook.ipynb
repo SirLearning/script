{
 "cells": [
  {
   "cell_type": "markdown",
   "source": [
    "要开发一个Web留言簿，下面将用python来开发这个程序的后台功能\n",
    "\n",
    "1. 保存评论数据：使用标准模块shelve"
   ],
   "metadata": {
    "collapsed": false
   },
   "id": "1ad6b1a39cb05c71"
  },
  {
   "cell_type": "code",
   "execution_count": null,
   "id": "initial_id",
   "metadata": {
    "collapsed": true
   },
   "outputs": [],
   "source": [
    "import shelve\n",
    "\n",
    "DATA_FILE = 'guestbook.dat'\n",
    "\n",
    "def save_data(name, comment, create_at):\n",
    "    # 读取shelve文件\n",
    "    database = shelve.open(DATA_FILE)\n",
    "    # 如果数据库中没有comments列表，就新建一个\n",
    "    if 'comments' not in database:\n",
    "        comments = []\n",
    "    else:\n",
    "        comments = database['comments']\n",
    "    # 将提交的数据添加到comments列表的开头\n",
    "    comments.insert(0, {'name': name, 'comment': comment, 'create_at': create_at})\n",
    "    # 更新数据库，但是为什么？\n",
    "    database['comments'] = comments\n",
    "    database.close()"
   ]
  },
  {
   "cell_type": "markdown",
   "source": [
    "2. 取出保存过的评论数据"
   ],
   "metadata": {
    "collapsed": false
   },
   "id": "6d951328a266735e"
  },
  {
   "cell_type": "code",
   "outputs": [],
   "source": [
    "def load_data():\n",
    "    database = shelve.open(DATA_FILE)\n",
    "    comments = database.get('comments', [])\n",
    "    database.close()\n",
    "    return comments"
   ],
   "metadata": {
    "collapsed": false
   },
   "id": "2e44662eb99a1353"
  },
  {
   "cell_type": "markdown",
   "source": [
    "3. 使用模板引擎显示页面：使用flask"
   ],
   "metadata": {
    "collapsed": false
   },
   "id": "7a866ab021106066"
  },
  {
   "cell_type": "code",
   "outputs": [],
   "source": [
    "from flask import Flask, request, redirect, Markup\n",
    "app = Flask(__name__)\n",
    "\n",
    "@app.route('/')\n",
    "def index():\n",
    "    comments = load_data()\n",
    "    comments_html = ''\n",
    "    for comment in comments:\n",
    "        comment_html = '''\n",
    "        <div class=\"comment\">\n",
    "            <span class=\"create_at\">[%s]</span>\n",
    "            <span class=\"name\">%s</span>:\n",
    "            <span class=\"comment\">%s</span>\n",
    "        </div>\n",
    "        ''' % (comment['create_at'], comment['name'], comment['comment'])\n",
    "        comments_html += Markup(comment_html)\n",
    "    return '''\n",
    "    <html>\n",
    "        <head>\n",
    "            <title>Web留言簿</title>\n",
    "            <style type=\"text/css\">\n",
    "                .comment {margin-bottom: 10px;}\n",
    "                .create_at {color: #999;}\n",
    "                .name {font-weight: bold;}\n",
    "            </style>\n",
    "        </head>\n",
    "        <body>\n",
    "            <h1>Web留言簿</h1>\n",
    "            <div id=\"comments\">\n",
    "                %s\n",
    "            </div>\n",
    "            <h3>添加新评论</h3>\n",
    "            <form action=\"/post\" method=\"post\">\n",
    "                <div>姓名：<input type=\"text\" name=\"name\"></div>\n",
    "                <div>评论：<textarea name=\"comment\" rows=\"3\" cols=\"40\"></textarea></div>\n",
    "                <div><input type=\"submit\" value=\"提交\"></div>\n",
    "            </form>\n",
    "        </body>\n",
    "    </html>\n",
    "    ''' % comments_html\n",
    "\n",
    "if __name__ == '__main__':\n",
    "    app.run()"
   ],
   "metadata": {
    "collapsed": false
   },
   "id": "36028c1bb429c4ec"
  },
  {
   "cell_type": "markdown",
   "source": [
    "4. 准备评论的目标URL地址：使用datatime模块"
   ],
   "metadata": {
    "collapsed": false
   },
   "id": "c3da10d154df4fdf"
  },
  {
   "cell_type": "code",
   "outputs": [],
   "source": [
    "from datetime import datetime\n",
    "\n",
    "@app.route('/post', methods=['POST'])\n",
    "def post():\n",
    "    name = request.form.get('name')\n",
    "    comment = request.form.get('comment')\n",
    "    create_at = datetime.now()\n",
    "    save_data(name, comment, create_at)\n",
    "    return redirect('/')"
   ],
   "metadata": {
    "collapsed": false
   },
   "id": "c1f05f2f490e591b"
  },
  {
   "cell_type": "markdown",
   "source": [
    "5. 调整模板输出：两个模板过滤器"
   ],
   "metadata": {
    "collapsed": false
   },
   "id": "5148fc8686bca74b"
  },
  {
   "cell_type": "code",
   "outputs": [],
   "source": [
    "@app.template_filter('datetime_fmt')\n",
    "def datetime_fmt_filter(dt):\n",
    "    return dt.strftime('%Y-%m-%d %H:%M:%S')\n",
    "\n",
    "@app.template_filter('nl2br')\n",
    "def nl2br_filter(s):\n",
    "    return Markup(s.replace('\\n', '<br>'))"
   ],
   "metadata": {
    "collapsed": false
   },
   "id": "b7867cfee53c791b"
  }
 ],
 "metadata": {
  "kernelspec": {
   "display_name": "Python 3",
   "language": "python",
   "name": "python3"
  },
  "language_info": {
   "codemirror_mode": {
    "name": "ipython",
    "version": 2
   },
   "file_extension": ".py",
   "mimetype": "text/x-python",
   "name": "python",
   "nbconvert_exporter": "python",
   "pygments_lexer": "ipython2",
   "version": "2.7.6"
  }
 },
 "nbformat": 4,
 "nbformat_minor": 5
}
