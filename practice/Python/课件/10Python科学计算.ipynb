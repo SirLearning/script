{
 "cells": [
  {
   "cell_type": "markdown",
   "metadata": {},
   "source": [
    "## 《Python程序设计》2023秋季\n",
    "**<font size=4>10 Python科学计算</font>**\n",
    "\n",
    "**机械科学与工程学院  刘潇**\n",
    "\n",
    "本节要点包括：\n",
    "- 了解科学计算的实现过程\n",
    "- 掌握Numpy模块数组对象的创建和常用方法\n",
    "- 掌握Scipy和Matplotlib模块的常用方法"
   ]
  },
  {
   "cell_type": "markdown",
   "metadata": {},
   "source": [
    "### 列表相乘"
   ]
  },
  {
   "cell_type": "code",
   "execution_count": 7,
   "metadata": {
    "scrolled": true
   },
   "outputs": [
    {
     "name": "stdout",
     "output_type": "stream",
     "text": [
      "[1, 2, 1, 2]\n",
      "[2, 4]\n"
     ]
    }
   ],
   "source": [
    "a = [1, 2]\n",
    "print(a * 2)\n",
    "\n",
    "# 列表乘法运算符重载\n",
    "class lst(list):\n",
    "    def __init__(self, *x):\n",
    "        list.__init__(self)\n",
    "        self.number = x\n",
    "        \n",
    "    def __mul__(self, other):\n",
    "        return [x*other for x in self.number]\n",
    "\n",
    "b = lst(1, 2)\n",
    "print(b * 2)"
   ]
  },
  {
   "cell_type": "markdown",
   "metadata": {},
   "source": [
    "### Numpy"
   ]
  },
  {
   "cell_type": "code",
   "execution_count": 3,
   "metadata": {},
   "outputs": [
    {
     "name": "stdout",
     "output_type": "stream",
     "text": [
      "\n",
      "NumPy\n",
      "=====\n",
      "\n",
      "Provides\n",
      "  1. An array object of arbitrary homogeneous items\n",
      "  2. Fast mathematical operations over arrays\n",
      "  3. Linear Algebra, Fourier Transforms, Random Number Generation\n",
      "\n",
      "How to use the documentation\n",
      "----------------------------\n",
      "Documentation is available in two forms: docstrings provided\n",
      "with the code, and a loose standing reference guide, available from\n",
      "`the NumPy homepage <https://www.scipy.org>`_.\n",
      "\n",
      "We recommend exploring the docstrings using\n",
      "`IPython <https://ipython.org>`_, an advanced Python shell with\n",
      "TAB-completion and introspection capabilities.  See below for further\n",
      "instructions.\n",
      "\n",
      "The docstring examples assume that `numpy` has been imported as `np`::\n",
      "\n",
      "  >>> import numpy as np\n",
      "\n",
      "Code snippets are indicated by three greater-than signs::\n",
      "\n",
      "  >>> x = 42\n",
      "  >>> x = x + 1\n",
      "\n",
      "Use the built-in ``help`` function to view a function's docstring::\n",
      "\n",
      "  >>> help(np.sort)\n",
      "  ... # doctest: +SKIP\n",
      "\n",
      "For some objects, ``np.info(obj)`` may provide additional help.  This is\n",
      "particularly true if you see the line \"Help on ufunc object:\" at the top\n",
      "of the help() page.  Ufuncs are implemented in C, not Python, for speed.\n",
      "The native Python help() does not know how to view their help, but our\n",
      "np.info() function does.\n",
      "\n",
      "To search for documents containing a keyword, do::\n",
      "\n",
      "  >>> np.lookfor('keyword')\n",
      "  ... # doctest: +SKIP\n",
      "\n",
      "General-purpose documents like a glossary and help on the basic concepts\n",
      "of numpy are available under the ``doc`` sub-module::\n",
      "\n",
      "  >>> from numpy import doc\n",
      "  >>> help(doc)\n",
      "  ... # doctest: +SKIP\n",
      "\n",
      "Available subpackages\n",
      "---------------------\n",
      "doc\n",
      "    Topical documentation on broadcasting, indexing, etc.\n",
      "lib\n",
      "    Basic functions used by several sub-packages.\n",
      "random\n",
      "    Core Random Tools\n",
      "linalg\n",
      "    Core Linear Algebra Tools\n",
      "fft\n",
      "    Core FFT routines\n",
      "polynomial\n",
      "    Polynomial tools\n",
      "testing\n",
      "    NumPy testing tools\n",
      "f2py\n",
      "    Fortran to Python Interface Generator.\n",
      "distutils\n",
      "    Enhancements to distutils with support for\n",
      "    Fortran compilers support and more.\n",
      "\n",
      "Utilities\n",
      "---------\n",
      "test\n",
      "    Run numpy unittests\n",
      "show_config\n",
      "    Show numpy build configuration\n",
      "dual\n",
      "    Overwrite certain functions with high-performance Scipy tools\n",
      "matlib\n",
      "    Make everything matrices.\n",
      "__version__\n",
      "    NumPy version string\n",
      "\n",
      "Viewing documentation using IPython\n",
      "-----------------------------------\n",
      "Start IPython with the NumPy profile (``ipython -p numpy``), which will\n",
      "import `numpy` under the alias `np`.  Then, use the ``cpaste`` command to\n",
      "paste examples into the shell.  To see which functions are available in\n",
      "`numpy`, type ``np.<TAB>`` (where ``<TAB>`` refers to the TAB key), or use\n",
      "``np.*cos*?<ENTER>`` (where ``<ENTER>`` refers to the ENTER key) to narrow\n",
      "down the list.  To view the docstring for a function, use\n",
      "``np.cos?<ENTER>`` (to view the docstring) and ``np.cos??<ENTER>`` (to view\n",
      "the source code).\n",
      "\n",
      "Copies vs. in-place operation\n",
      "-----------------------------\n",
      "Most of the functions in `numpy` return a copy of the array argument\n",
      "(e.g., `np.sort`).  In-place versions of these functions are often\n",
      "available as array methods, i.e. ``x = np.array([1,2,3]); x.sort()``.\n",
      "Exceptions to this rule are documented.\n",
      "\n",
      "\n"
     ]
    }
   ],
   "source": [
    "import numpy as np # 导入numpy模块，简写为np\n",
    "print(np.__doc__)"
   ]
  },
  {
   "cell_type": "markdown",
   "metadata": {},
   "source": [
    "### 创建数组"
   ]
  },
  {
   "cell_type": "code",
   "execution_count": 18,
   "metadata": {},
   "outputs": [
    {
     "name": "stdout",
     "output_type": "stream",
     "text": [
      "[2 4]\n",
      "<class 'numpy.ndarray'> <class 'numpy.ndarray'>\n",
      "['1' 'a']\n"
     ]
    }
   ],
   "source": [
    "# print(np.array.__doc__)\n",
    "a = np.array([1, 2]) # 从列表创建数组\n",
    "print(a * 2)\n",
    "print(type(a), a.__class__)\n",
    "\n",
    "# 可以是字符串\n",
    "b = np.array([1, \"a\"])\n",
    "print(b)\n",
    "# print(b * 2) # 不支持数组的运算"
   ]
  },
  {
   "cell_type": "markdown",
   "metadata": {},
   "source": [
    "### 多维数组"
   ]
  },
  {
   "cell_type": "code",
   "execution_count": 34,
   "metadata": {},
   "outputs": [
    {
     "name": "stdout",
     "output_type": "stream",
     "text": [
      "1\n",
      "[1 2 3 4 5]\n",
      "[[1 2 3 4 5]\n",
      " [1 2 3 4 5]]\n",
      "[[[1 2]\n",
      "  [3 4]]\n",
      "\n",
      " [[5 6]\n",
      "  [7 8]]]\n",
      "[[[[[1 2 3 4 5]]]]] 5\n"
     ]
    }
   ],
   "source": [
    "# 0维\n",
    "print(np.array(1))\n",
    "\n",
    "# 1维\n",
    "print(np.array((1, 2, 3, 4, 5)))\n",
    "\n",
    "# 2维\n",
    "print(np.array(([1, 2, 3, 4, 5],(1, 2, 3, 4, 5))))\n",
    "\n",
    "# 3维\n",
    "print(np.array([[[1, 2],[3, 4]],[[5, 6],[7, 8]]]))\n",
    "\n",
    "# 多维数组\n",
    "c = np.array([1, 2, 3, 4, 5], ndmin = 5)\n",
    "print(c, c.ndim)"
   ]
  },
  {
   "cell_type": "markdown",
   "metadata": {},
   "source": [
    "### 其他创建数组的函数"
   ]
  },
  {
   "cell_type": "code",
   "execution_count": 148,
   "metadata": {},
   "outputs": [
    {
     "name": "stdout",
     "output_type": "stream",
     "text": [
      "[1 2 3 4]\n",
      "[0.         0.6981317  1.3962634  2.0943951  2.7925268  3.4906585\n",
      " 4.1887902  4.88692191 5.58505361 6.28318531]\n",
      "[[0.12387708 0.73663296 0.7847359 ]\n",
      " [0.44069413 0.8830835  0.54260579]]\n",
      "[[1. 1. 1.]\n",
      " [1. 1. 1.]]\n",
      "[[0. 0. 0.]\n",
      " [0. 0. 0.]]\n",
      "[[[0 0 0]\n",
      "  [1 1 1]]\n",
      "\n",
      " [[0 1 2]\n",
      "  [0 1 2]]]\n",
      "[[0 0 0]\n",
      " [1 1 1]]\n",
      "[[0 1 2]\n",
      " [0 1 2]]\n"
     ]
    }
   ],
   "source": [
    "print(np.arange(1,5,1))\n",
    "print(np.linspace(0,2*np.pi,10))\n",
    "print(np.random.rand(2,3))\n",
    "print(np.ones((2,3)))\n",
    "print(np.zeros((2,3)))\n",
    "print(np.indices((2,3)))\n",
    "a, b = np.indices((2,3))\n",
    "print(a, b, sep = \"\\n\")"
   ]
  },
  {
   "cell_type": "markdown",
   "metadata": {},
   "source": [
    "### 数组的常用属性"
   ]
  },
  {
   "cell_type": "code",
   "execution_count": 76,
   "metadata": {},
   "outputs": [
    {
     "name": "stdout",
     "output_type": "stream",
     "text": [
      "[[1. 1. 1.]\n",
      " [1. 1. 1.]\n",
      " [1. 1. 1.]]\n",
      "2\n",
      "(3, 3)\n",
      "9\n",
      "float64 8 <memory at 0x00000000071C86C0>\n",
      "1.0 1.0 1.0 1.0 1.0 1.0 1.0 1.0 1.0 \n",
      "1 2 3 4 5 6 "
     ]
    }
   ],
   "source": [
    "a = np.ones((3,3))\n",
    "print(a)\n",
    "print(a.ndim)\n",
    "print(a.shape)\n",
    "print(a.size)\n",
    "print(a.dtype, a.itemsize, a.data)\n",
    "for x in a.flat:\n",
    "    print(x, end = \" \")\n",
    "\n",
    "print(\"\")\n",
    "b = np.array([[1,2,3],[4,5,6]])\n",
    "for x in b.flat:\n",
    "    print(x, end = \" \")"
   ]
  },
  {
   "cell_type": "markdown",
   "metadata": {},
   "source": [
    "### 变形"
   ]
  },
  {
   "cell_type": "code",
   "execution_count": 93,
   "metadata": {},
   "outputs": [
    {
     "name": "stdout",
     "output_type": "stream",
     "text": [
      "(2, 3)\n",
      "[[1 2]\n",
      " [3 4]\n",
      " [5 6]]\n",
      "[[1 2 3 4 5 6]]\n",
      "[1 2 3 4 5 6]\n",
      "[[1 4]\n",
      " [2 5]\n",
      " [3 6]] [1 2 3 4 5 6]\n"
     ]
    }
   ],
   "source": [
    "a = np.array([[1, 2, 3],[4, 5, 6]])\n",
    "print(a.shape)\n",
    "b = a.reshape(3, 2)\n",
    "print(b)\n",
    "b.resize(1,6)\n",
    "print(b)\n",
    "b.resize(6)\n",
    "print(b)\n",
    "\n",
    "c = a.swapaxes(0,1)\n",
    "d = a.flatten()\n",
    "print(c, d)"
   ]
  },
  {
   "cell_type": "code",
   "execution_count": 101,
   "metadata": {},
   "outputs": [
    {
     "name": "stdout",
     "output_type": "stream",
     "text": [
      "[ 1  2  3  4  5  6  7  8  9 10 11 12] (12,)\n",
      "[[[ 1  2]\n",
      "  [ 3  4]\n",
      "  [ 5  6]]\n",
      "\n",
      " [[ 7  8]\n",
      "  [ 9 10]\n",
      "  [11 12]]]\n",
      "[[[ 1  7]\n",
      "  [ 3  9]\n",
      "  [ 5 11]]\n",
      "\n",
      " [[ 2  8]\n",
      "  [ 4 10]\n",
      "  [ 6 12]]]\n",
      "[ 1  2  3  4  5  6  7  8  9 10 11 12]\n"
     ]
    }
   ],
   "source": [
    "a = np.arange(1,13)\n",
    "print(a, a.shape)\n",
    "b = a.reshape(2, 3, 2)\n",
    "print(b)\n",
    "c = b.swapaxes(0,2)\n",
    "print(c)\n",
    "d = b.flatten()\n",
    "print(d)"
   ]
  },
  {
   "cell_type": "code",
   "execution_count": 104,
   "metadata": {},
   "outputs": [
    {
     "name": "stdout",
     "output_type": "stream",
     "text": [
      "[[[0 0]\n",
      "  [0 0]\n",
      "  [0 0]]\n",
      "\n",
      " [[1 1]\n",
      "  [1 1]\n",
      "  [1 1]]]\n",
      "[[[0 0]\n",
      "  [1 1]\n",
      "  [2 2]]\n",
      "\n",
      " [[0 0]\n",
      "  [1 1]\n",
      "  [2 2]]]\n",
      "[[[0 1]\n",
      "  [0 1]\n",
      "  [0 1]]\n",
      "\n",
      " [[0 1]\n",
      "  [0 1]\n",
      "  [0 1]]]\n"
     ]
    }
   ],
   "source": [
    "b1, b2, b3 = np.indices(b.shape)\n",
    "print(b1, b2, b3, sep = \"\\n\")"
   ]
  },
  {
   "cell_type": "markdown",
   "metadata": {},
   "source": [
    "### 索引和切片"
   ]
  },
  {
   "cell_type": "code",
   "execution_count": 126,
   "metadata": {},
   "outputs": [
    {
     "name": "stdout",
     "output_type": "stream",
     "text": [
      "1 11 [1 2 3] [1 3 5]\n",
      "[[[ 0  1  2]\n",
      "  [ 3  4  5]]\n",
      "\n",
      " [[ 6  7  8]\n",
      "  [ 9 10 11]]]\n",
      "5\n",
      "[0 1 2]\n",
      "[0 1]\n",
      "[[0 1]\n",
      " [3 4]]\n"
     ]
    }
   ],
   "source": [
    "# 一维数组\n",
    "a = np.arange(12)\n",
    "print(a[1], a[-1], a[1:4], a[1:6:2])\n",
    "\n",
    "# 多维数组\n",
    "b = a.reshape(2,2,3)\n",
    "print(b)\n",
    "print(b[0,1,2])\n",
    "print(b[0,0,:])\n",
    "print(b[0,0,:-1])\n",
    "print(b[0,:,:-1])"
   ]
  },
  {
   "cell_type": "code",
   "execution_count": 124,
   "metadata": {},
   "outputs": [
    {
     "name": "stdout",
     "output_type": "stream",
     "text": [
      "[[[0, 1, 2], [3, 4, 5]], [[6, 7, 8], [9, 10, 11]]]\n",
      "5\n",
      "[0, 1, 2]\n"
     ]
    }
   ],
   "source": [
    "# 列表索引与切片\n",
    "listb = [[[0,1,2],[3,4,5]],[[6,7,8],[9,10,11]]]\n",
    "print(listb)\n",
    "print(listb[0][1][2])\n",
    "print(listb[0][0][:])"
   ]
  },
  {
   "cell_type": "code",
   "execution_count": 127,
   "metadata": {},
   "outputs": [
    {
     "name": "stdout",
     "output_type": "stream",
     "text": [
      "[[0 2]\n",
      " [3 5]]\n"
     ]
    }
   ],
   "source": [
    "print(b[np.array([[0,0],[0,0]]),np.array([[0,0],[1,1]]),np.array([[0,2],[0,2]])])"
   ]
  },
  {
   "cell_type": "markdown",
   "metadata": {},
   "source": [
    "### 四则运算"
   ]
  },
  {
   "cell_type": "code",
   "execution_count": 136,
   "metadata": {},
   "outputs": [
    {
     "name": "stdout",
     "output_type": "stream",
     "text": [
      "[1 2] [1. 1.]\n",
      "data + ones =  [2. 3.]\n",
      "data - ones =  [0. 1.]\n",
      "data * ones =  [1. 2.]\n",
      "data / ones =  [1. 2.]\n",
      "data * 2 =  [2 4]\n"
     ]
    }
   ],
   "source": [
    "data = np.array([1,2])\n",
    "ones = np.ones(2)\n",
    "print(data, ones)\n",
    "\n",
    "print(\"data + ones = \", data+ones)\n",
    "print(\"data - ones = \", data-ones)\n",
    "print(\"data * ones = \", data*ones)\n",
    "print(\"data / ones = \", data/ones)\n",
    "print(\"data * 2 = \", data*2)"
   ]
  },
  {
   "cell_type": "markdown",
   "metadata": {},
   "source": [
    "### 广播原则"
   ]
  },
  {
   "cell_type": "code",
   "execution_count": 142,
   "metadata": {},
   "outputs": [
    {
     "name": "stdout",
     "output_type": "stream",
     "text": [
      "[[2. 3.]\n",
      " [4. 5.]\n",
      " [6. 7.]]\n"
     ]
    },
    {
     "ename": "ValueError",
     "evalue": "operands could not be broadcast together with shapes (3,2) (2,2) ",
     "output_type": "error",
     "traceback": [
      "\u001b[1;31m---------------------------------------------------------------------------\u001b[0m",
      "\u001b[1;31mValueError\u001b[0m                                Traceback (most recent call last)",
      "\u001b[1;32m<ipython-input-142-1b682e04eee8>\u001b[0m in \u001b[0;36m<module>\u001b[1;34m\u001b[0m\n\u001b[0;32m      4\u001b[0m \u001b[1;33m\u001b[0m\u001b[0m\n\u001b[0;32m      5\u001b[0m \u001b[0mones\u001b[0m \u001b[1;33m=\u001b[0m \u001b[0mnp\u001b[0m\u001b[1;33m.\u001b[0m\u001b[0mones\u001b[0m\u001b[1;33m(\u001b[0m\u001b[1;33m(\u001b[0m\u001b[1;36m2\u001b[0m\u001b[1;33m,\u001b[0m\u001b[1;36m2\u001b[0m\u001b[1;33m)\u001b[0m\u001b[1;33m)\u001b[0m\u001b[1;33m\u001b[0m\u001b[1;33m\u001b[0m\u001b[0m\n\u001b[1;32m----> 6\u001b[1;33m \u001b[0mprint\u001b[0m\u001b[1;33m(\u001b[0m\u001b[0mdata\u001b[0m\u001b[1;33m+\u001b[0m\u001b[0mones\u001b[0m\u001b[1;33m)\u001b[0m\u001b[1;33m\u001b[0m\u001b[1;33m\u001b[0m\u001b[0m\n\u001b[0m",
      "\u001b[1;31mValueError\u001b[0m: operands could not be broadcast together with shapes (3,2) (2,2) "
     ]
    }
   ],
   "source": [
    "data = np.arange(1,7).reshape(3,2)\n",
    "ones = np.ones((1,2))\n",
    "print(data+ones)\n",
    "\n",
    "# 各维度长度相同或者有维度长度为1才能计算\n",
    "ones = np.ones((2,2))\n",
    "print(data+ones)"
   ]
  },
  {
   "cell_type": "markdown",
   "metadata": {},
   "source": [
    "### 数组运算函数"
   ]
  },
  {
   "cell_type": "code",
   "execution_count": 147,
   "metadata": {},
   "outputs": [
    {
     "name": "stdout",
     "output_type": "stream",
     "text": [
      "[0.         0.6981317  1.3962634  2.0943951  2.7925268  3.4906585\n",
      " 4.1887902  4.88692191 5.58505361 6.28318531]\n",
      "[ 0.00000000e+00  6.42787610e-01  9.84807753e-01  8.66025404e-01\n",
      "  3.42020143e-01 -3.42020143e-01 -8.66025404e-01 -9.84807753e-01\n",
      " -6.42787610e-01 -2.44929360e-16]\n"
     ]
    },
    {
     "data": {
      "image/png": "[encoded data removed]",
      "text/plain": [
       "<Figure size 432x288 with 1 Axes>"
      ]
     },
     "metadata": {
      "needs_background": "light"
     },
     "output_type": "display_data"
    }
   ],
   "source": [
    "import matplotlib.pyplot as plt\n",
    "x = np.linspace(0,2*np.pi,10)\n",
    "y = np.sin(x)\n",
    "print(x, y, sep = \"\\n\")\n",
    "\n",
    "x = np.linspace(0,2*np.pi,100)\n",
    "y = np.sin(x)\n",
    "plt.plot(x, y)\n",
    "plt.show()"
   ]
  },
  {
   "cell_type": "code",
   "execution_count": 153,
   "metadata": {},
   "outputs": [
    {
     "name": "stdout",
     "output_type": "stream",
     "text": [
      "math.sin: 2.5630429979937617\n",
      "np.sin: 0.635888981007156\n",
      "np.sin: 10.226119162005489\n"
     ]
    }
   ],
   "source": [
    "import time, math\n",
    "x = [i for i in range(10000000)]\n",
    "y, z = [], []\n",
    "# math.sin()\n",
    "start_time = time.perf_counter()\n",
    "for i in x:\n",
    "    y.append(math.sin(i))\n",
    "during_time = time.perf_counter() - start_time\n",
    "print(\"math.sin: {}\".format(during_time))\n",
    "\n",
    "# np.sin()\n",
    "start_time = time.perf_counter()\n",
    "X = np.array(x)\n",
    "Y = np.sin(X)\n",
    "during_time = time.perf_counter() - start_time\n",
    "print(\"np.sin: {}\".format(during_time))\n",
    "\n",
    "# np.sin()\n",
    "start_time = time.perf_counter()\n",
    "for i in x:\n",
    "    z.append(np.sin(i))\n",
    "during_time = time.perf_counter() - start_time\n",
    "print(\"np.sin: {}\".format(during_time))"
   ]
  },
  {
   "cell_type": "markdown",
   "metadata": {},
   "source": [
    "### 数组运算函数"
   ]
  },
  {
   "cell_type": "code",
   "execution_count": 154,
   "metadata": {},
   "outputs": [
    {
     "name": "stdout",
     "output_type": "stream",
     "text": [
      "321\n",
      "[ 30201 302010]\n"
     ]
    }
   ],
   "source": [
    "data = np.array([1,2,3])\n",
    "powers_of_ten1 = np.array([1,10,100])\n",
    "powers_of_ten2 = np.array([[1,10], [100,1000], [10000, 100000]])\n",
    "print(np.dot(data, powers_of_ten1))\n",
    "print(np.dot(data, powers_of_ten2))"
   ]
  },
  {
   "cell_type": "code",
   "execution_count": 139,
   "metadata": {},
   "outputs": [
    {
     "data": {
      "text/plain": [
       "15"
      ]
     },
     "execution_count": 139,
     "metadata": {},
     "output_type": "execute_result"
    }
   ],
   "source": [
    "a = np.array([1,2,3])\n",
    "b = np.array([2,2,3])\n",
    "# 向量乘法\n",
    "np.dot(a,b)"
   ]
  },
  {
   "cell_type": "markdown",
   "metadata": {},
   "source": [
    "### 数组的常用运算函数"
   ]
  },
  {
   "cell_type": "code",
   "execution_count": 129,
   "metadata": {},
   "outputs": [
    {
     "name": "stdout",
     "output_type": "stream",
     "text": [
      "1 3 6\n",
      "2.0 6 0.816496580927726\n"
     ]
    }
   ],
   "source": [
    "data = np.array([1, 2, 3])\n",
    "print(np.min(data), np.max(data), np.sum(data))\n",
    "print(np.mean(data), np.prod(data), np.std(data))"
   ]
  },
  {
   "cell_type": "markdown",
   "metadata": {},
   "source": [
    "### Scipy"
   ]
  },
  {
   "cell_type": "code",
   "execution_count": 157,
   "metadata": {},
   "outputs": [
    {
     "name": "stdout",
     "output_type": "stream",
     "text": [
      "\n",
      "SciPy: A scientific computing package for Python\n",
      "================================================\n",
      "\n",
      "Documentation is available in the docstrings and\n",
      "online at https://docs.scipy.org.\n",
      "\n",
      "Contents\n",
      "--------\n",
      "SciPy imports all the functions from the NumPy namespace, and in\n",
      "addition provides:\n",
      "\n",
      "Subpackages\n",
      "-----------\n",
      "Using any of these subpackages requires an explicit import. For example,\n",
      "``import scipy.cluster``.\n",
      "\n",
      "::\n",
      "\n",
      " cluster                      --- Vector Quantization / Kmeans\n",
      " fft                          --- Discrete Fourier transforms\n",
      " fftpack                      --- Legacy discrete Fourier transforms\n",
      " integrate                    --- Integration routines\n",
      " interpolate                  --- Interpolation Tools\n",
      " io                           --- Data input and output\n",
      " linalg                       --- Linear algebra routines\n",
      " linalg.blas                  --- Wrappers to BLAS library\n",
      " linalg.lapack                --- Wrappers to LAPACK library\n",
      " misc                         --- Various utilities that don't have\n",
      "                                  another home.\n",
      " ndimage                      --- N-D image package\n",
      " odr                          --- Orthogonal Distance Regression\n",
      " optimize                     --- Optimization Tools\n",
      " signal                       --- Signal Processing Tools\n",
      " signal.windows               --- Window functions\n",
      " sparse                       --- Sparse Matrices\n",
      " sparse.linalg                --- Sparse Linear Algebra\n",
      " sparse.linalg.dsolve         --- Linear Solvers\n",
      " sparse.linalg.dsolve.umfpack --- :Interface to the UMFPACK library:\n",
      "                                  Conjugate Gradient Method (LOBPCG)\n",
      " sparse.linalg.eigen          --- Sparse Eigenvalue Solvers\n",
      " sparse.linalg.eigen.lobpcg   --- Locally Optimal Block Preconditioned\n",
      "                                  Conjugate Gradient Method (LOBPCG)\n",
      " spatial                      --- Spatial data structures and algorithms\n",
      " special                      --- Special functions\n",
      " stats                        --- Statistical Functions\n",
      "\n",
      "Utility tools\n",
      "-------------\n",
      "::\n",
      "\n",
      " test              --- Run scipy unittests\n",
      " show_config       --- Show scipy build configuration\n",
      " show_numpy_config --- Show numpy build configuration\n",
      " __version__       --- SciPy version string\n",
      " __numpy_version__ --- Numpy version string\n",
      "\n",
      "\n"
     ]
    }
   ],
   "source": [
    "import scipy\n",
    "# print(dir(scipy))\n",
    "print(scipy.__doc__)"
   ]
  },
  {
   "cell_type": "markdown",
   "metadata": {},
   "source": [
    "### 线性回归模型"
   ]
  },
  {
   "cell_type": "code",
   "execution_count": 175,
   "metadata": {},
   "outputs": [
    {
     "name": "stdout",
     "output_type": "stream",
     "text": [
      "[0.99335615 2.10865386]\n",
      "[[ 0.00095351 -0.00471988]\n",
      " [-0.00471988  0.03130857]]\n"
     ]
    }
   ],
   "source": [
    "import numpy as np\n",
    "from scipy.optimize import curve_fit\n",
    "# 产生数据\n",
    "x = [i * 0.1 for i in range(100)]\n",
    "y = list(map(lambda i:i+2, x))\n",
    "\n",
    "# 添加噪音\n",
    "X, Y = np.array(x), np.array(y)\n",
    "Yn = Y + 0.9 * np.random.normal(size=len(x))\n",
    "\n",
    "# 函数模型拟合\n",
    "def func(x, a, b):\n",
    "    return a*x+b\n",
    "popt, pcov = curve_fit(func, X, Yn)\n",
    "print(popt)\n",
    "print(pcov)"
   ]
  },
  {
   "cell_type": "code",
   "execution_count": 176,
   "metadata": {},
   "outputs": [
    {
     "data": {
      "image/png": "[encoded data removed]",
      "text/plain": [
       "<Figure size 432x288 with 1 Axes>"
      ]
     },
     "metadata": {
      "needs_background": "light"
     },
     "output_type": "display_data"
    }
   ],
   "source": [
    "import matplotlib.pyplot as plt\n",
    "yfit = func(X, popt[0], popt[1])\n",
    "plt.plot(X, Y, color=\"green\", label=\"actual data\")\n",
    "plt.plot(X, Yn, \"o\", label=\"actual data with noise\")\n",
    "plt.plot(X, yfit, color=\"yellow\", label=\"fitting data\")\n",
    "plt.legend(loc=\"best\")\n",
    "plt.show()"
   ]
  },
  {
   "cell_type": "markdown",
   "metadata": {},
   "source": [
    "### 非线性回归模型"
   ]
  },
  {
   "cell_type": "code",
   "execution_count": 201,
   "metadata": {},
   "outputs": [
    {
     "name": "stdout",
     "output_type": "stream",
     "text": [
      "[1.01097681 5.15279245 1.90647877]\n"
     ]
    }
   ],
   "source": [
    "import numpy as np\n",
    "from scipy.optimize import curve_fit\n",
    "# 函数模型拟合\n",
    "def func(x, a, b, c):\n",
    "    return a*np.exp(-(x-b)**2/(2*c**2))\n",
    "\n",
    "# 产生数据\n",
    "X = np.array([i * 0.1 for i in range(-50, 150)])\n",
    "Y = func(X, 1, 5, 2)\n",
    "\n",
    "# 添加噪音\n",
    "Yn = Y + 0.2 * np.random.normal(size=len(X))\n",
    "\n",
    "p0 = [1.2, 4, 3] # 初步猜测参数，如果没有默认全为1\n",
    "#popt, pcov = curve_fit(func, X, Yn)\n",
    "popt, pcov = curve_fit(func, X, Yn, p0 = p0)\n",
    "print(popt)"
   ]
  },
  {
   "cell_type": "code",
   "execution_count": 202,
   "metadata": {},
   "outputs": [
    {
     "data": {
      "image/png": "[encoded data removed]",
      "text/plain": [
       "<Figure size 432x288 with 1 Axes>"
      ]
     },
     "metadata": {
      "needs_background": "light"
     },
     "output_type": "display_data"
    }
   ],
   "source": [
    "import matplotlib.pyplot as plt\n",
    "yfit = func(X, *tuple(popt))\n",
    "plt.plot(X, Y, color=\"green\", label=\"actual data\")\n",
    "plt.plot(X, Yn, \"o\", label=\"actual data with noise\")\n",
    "plt.plot(X, yfit, color=\"yellow\", label=\"fitting data\")\n",
    "plt.legend(loc=\"best\")\n",
    "plt.show()"
   ]
  },
  {
   "cell_type": "markdown",
   "metadata": {},
   "source": [
    "### Matplotlib"
   ]
  },
  {
   "cell_type": "code",
   "execution_count": 204,
   "metadata": {},
   "outputs": [
    {
     "name": "stdout",
     "output_type": "stream",
     "text": [
      "\n",
      "This is an object-oriented plotting library.\n",
      "\n",
      "A procedural interface is provided by the companion pyplot module,\n",
      "which may be imported directly, e.g.::\n",
      "\n",
      "    import matplotlib.pyplot as plt\n",
      "\n",
      "or using ipython::\n",
      "\n",
      "    ipython\n",
      "\n",
      "at your terminal, followed by::\n",
      "\n",
      "    In [1]: %matplotlib\n",
      "    In [2]: import matplotlib.pyplot as plt\n",
      "\n",
      "at the ipython shell prompt.\n",
      "\n",
      "For the most part, direct use of the object-oriented library is\n",
      "encouraged when programming; pyplot is primarily for working\n",
      "interactively.  The\n",
      "exceptions are the pyplot commands :func:`~matplotlib.pyplot.figure`,\n",
      ":func:`~matplotlib.pyplot.subplot`,\n",
      ":func:`~matplotlib.pyplot.subplots`, and\n",
      ":func:`~pyplot.savefig`, which can greatly simplify scripting.\n",
      "\n",
      "Modules include:\n",
      "\n",
      "    :mod:`matplotlib.axes`\n",
      "        defines the :class:`~matplotlib.axes.Axes` class.  Most pyplot\n",
      "        commands are wrappers for :class:`~matplotlib.axes.Axes`\n",
      "        methods.  The axes module is the highest level of OO access to\n",
      "        the library.\n",
      "\n",
      "    :mod:`matplotlib.figure`\n",
      "        defines the :class:`~matplotlib.figure.Figure` class.\n",
      "\n",
      "    :mod:`matplotlib.artist`\n",
      "        defines the :class:`~matplotlib.artist.Artist` base class for\n",
      "        all classes that draw things.\n",
      "\n",
      "    :mod:`matplotlib.lines`\n",
      "        defines the :class:`~matplotlib.lines.Line2D` class for\n",
      "        drawing lines and markers\n",
      "\n",
      "    :mod:`matplotlib.patches`\n",
      "        defines classes for drawing polygons\n",
      "\n",
      "    :mod:`matplotlib.text`\n",
      "        defines the :class:`~matplotlib.text.Text`,\n",
      "        :class:`~matplotlib.text.TextWithDash`, and\n",
      "        :class:`~matplotlib.text.Annotate` classes\n",
      "\n",
      "    :mod:`matplotlib.image`\n",
      "        defines the :class:`~matplotlib.image.AxesImage` and\n",
      "        :class:`~matplotlib.image.FigureImage` classes\n",
      "\n",
      "    :mod:`matplotlib.collections`\n",
      "        classes for efficient drawing of groups of lines or polygons\n",
      "\n",
      "    :mod:`matplotlib.colors`\n",
      "        classes for interpreting color specifications and for making\n",
      "        colormaps\n",
      "\n",
      "    :mod:`matplotlib.cm`\n",
      "        colormaps and the :class:`~matplotlib.image.ScalarMappable`\n",
      "        mixin class for providing color mapping functionality to other\n",
      "        classes\n",
      "\n",
      "    :mod:`matplotlib.ticker`\n",
      "        classes for calculating tick mark locations and for formatting\n",
      "        tick labels\n",
      "\n",
      "    :mod:`matplotlib.backends`\n",
      "        a subpackage with modules for various gui libraries and output\n",
      "        formats\n",
      "\n",
      "The base matplotlib namespace includes:\n",
      "\n",
      "    :data:`~matplotlib.rcParams`\n",
      "        a global dictionary of default configuration settings.  It is\n",
      "        initialized by code which may be overridden by a matplotlibrc\n",
      "        file.\n",
      "\n",
      "    :func:`~matplotlib.rc`\n",
      "        a function for setting groups of rcParams values\n",
      "\n",
      "    :func:`~matplotlib.use`\n",
      "        a function for setting the matplotlib backend.  If used, this\n",
      "        function must be called immediately after importing matplotlib\n",
      "        for the first time.  In particular, it must be called\n",
      "        **before** importing pyplot (if pyplot is imported).\n",
      "\n",
      "matplotlib was initially written by John D. Hunter (1968-2012) and is now\n",
      "developed and maintained by a host of others.\n",
      "\n",
      "Occasionally the internal documentation (python docstrings) will refer\n",
      "to MATLAB&reg;, a registered trademark of The MathWorks, Inc.\n",
      "\n",
      "\n"
     ]
    }
   ],
   "source": [
    "import matplotlib\n",
    "# print(dir(matplotlib))\n",
    "print(matplotlib.__doc__)"
   ]
  },
  {
   "cell_type": "markdown",
   "metadata": {},
   "source": [
    "### 数据曲线"
   ]
  },
  {
   "cell_type": "code",
   "execution_count": 210,
   "metadata": {},
   "outputs": [
    {
     "data": {
      "image/png": "[encoded data removed]",
      "text/plain": [
       "<Figure size 432x288 with 1 Axes>"
      ]
     },
     "metadata": {
      "needs_background": "light"
     },
     "output_type": "display_data"
    },
    {
     "data": {
      "image/png": "[encoded data removed]",
      "text/plain": [
       "<Figure size 432x288 with 1 Axes>"
      ]
     },
     "metadata": {
      "needs_background": "light"
     },
     "output_type": "display_data"
    }
   ],
   "source": [
    "import matplotlib.pyplot as plt\n",
    "X = np.linspace(0, 2*np.pi, 30)\n",
    "Y = np.sin(X)\n",
    "plt.plot(X,Y)\n",
    "plt.show()\n",
    "\n",
    "# 调整样式\n",
    "plt.plot(X, Y, \"y*-\")\n",
    "plt.plot(X, Y*2, \"r--\")\n",
    "plt.show()"
   ]
  },
  {
   "cell_type": "markdown",
   "metadata": {},
   "source": [
    "### 图注"
   ]
  },
  {
   "cell_type": "code",
   "execution_count": 225,
   "metadata": {},
   "outputs": [
    {
     "data": {
      "image/png": "[encoded data removed]",
      "text/plain": [
       "<Figure size 432x216 with 1 Axes>"
      ]
     },
     "metadata": {
      "needs_background": "light"
     },
     "output_type": "display_data"
    }
   ],
   "source": [
    "plt.figure(figsize=(6,3)) # 设置图片大小\n",
    "plt.plot(X, Y, label = \"sin(x)\") # 曲线标注\n",
    "plt.plot(X, Y*2, label = \"2sin(x)\") # 曲线标注\n",
    "plt.legend(loc=\"best\")\n",
    "plt.title(\"sin(X) & 2sin(X)\") # 标题\n",
    "plt.xlim((0, np.pi+1)) # x轴范围\n",
    "plt.ylim((-3,3)) # y轴范围\n",
    "plt.xlabel(\"X\") # x轴名称\n",
    "plt.ylabel(\"Y\") # y轴名称\n",
    "plt.xticks((0, np.pi*0.5, np.pi, np.pi*1.5, np.pi*2)) # x轴刻度精度\n",
    "plt.yticks(np.linspace(-3,3,13)) # y轴刻度精度\n",
    "plt.show()"
   ]
  },
  {
   "cell_type": "markdown",
   "metadata": {},
   "source": [
    "### 散点图"
   ]
  },
  {
   "cell_type": "code",
   "execution_count": 227,
   "metadata": {},
   "outputs": [
    {
     "data": {
      "image/png": "[encoded data removed]",
      "text/plain": [
       "<Figure size 432x288 with 2 Axes>"
      ]
     },
     "metadata": {
      "needs_background": "light"
     },
     "output_type": "display_data"
    }
   ],
   "source": [
    "import matplotlib.pyplot as plt\n",
    "\n",
    "# 生成数据点\n",
    "k = 500\n",
    "x = np.random.rand(k)\n",
    "y = np.random.rand(k)\n",
    "\n",
    "# 生成每个点的大小、颜色\n",
    "size = 50*np.random.rand(k)\n",
    "colour = np.arctan2(x, y)\n",
    "\n",
    "# 画图并添加颜色栏（colorbar）\n",
    "plt.scatter(x, y, s=size, c=colour)\n",
    "plt.colorbar()\n",
    "plt.show()"
   ]
  },
  {
   "cell_type": "markdown",
   "metadata": {},
   "source": [
    "### 柱状图"
   ]
  },
  {
   "cell_type": "code",
   "execution_count": 234,
   "metadata": {},
   "outputs": [
    {
     "data": {
      "image/png": "[encoded data removed]",
      "text/plain": [
       "<Figure size 432x288 with 1 Axes>"
      ]
     },
     "metadata": {
      "needs_background": "light"
     },
     "output_type": "display_data"
    }
   ],
   "source": [
    "import matplotlib.pyplot as plt\n",
    "x = [1,2,3,4,5]\n",
    "y = [3,6,1,8,2]\n",
    "plt.bar(x,y, width=0.3, color='r', alpha=0.3) \n",
    "plt.xticks(x, [\"a\",\"b\",\"c\",\"d\",\"e\"])\n",
    "plt.yticks(np.linspace(0,10,11))\n",
    "plt.show()"
   ]
  },
  {
   "cell_type": "code",
   "execution_count": null,
   "metadata": {},
   "outputs": [],
   "source": []
  }
 ],
 "metadata": {
  "kernelspec": {
   "display_name": "Python 3",
   "language": "python",
   "name": "python3"
  },
  "language_info": {
   "codemirror_mode": {
    "name": "ipython",
    "version": 3
   },
   "file_extension": ".py",
   "mimetype": "text/x-python",
   "name": "python",
   "nbconvert_exporter": "python",
   "pygments_lexer": "ipython3",
   "version": "3.8.3"
  }
 },
 "nbformat": 4,
 "nbformat_minor": 4
}
