{
 "cells": [
  {
   "cell_type": "markdown",
   "metadata": {},
   "source": [
    "## 《Python程序设计》2023秋季\n",
    "**<font size=4>1 Python概述</font>**\n",
    "\n",
    "**机械科学与工程学院  刘潇**\n",
    "\n",
    "本节要点包括：\n",
    "- 了解Python的发展历史和设计哲学\n",
    "- 了解Python相比于其他编程语言的特点\n",
    "- 掌握Python环境安装过程，了解Python环境和模块管理\n",
    "- 利用anaconda搭建Python开发环境\n",
    "- 掌握Python基础语法，包括注释、缩进、输入输出、标识符、表达式等"
   ]
  },
  {
   "cell_type": "markdown",
   "metadata": {},
   "source": [
    "### 第一行Python代码"
   ]
  },
  {
   "cell_type": "code",
   "execution_count": null,
   "metadata": {},
   "outputs": [],
   "source": [
    "print(\"hello world!\")"
   ]
  },
  {
   "cell_type": "markdown",
   "metadata": {},
   "source": [
    "### 强大的Python模块\n",
    "$$A=\\begin{bmatrix}\n",
    "3 & 2  \\\\\n",
    "2 & 6  \\\\\n",
    "\\end{bmatrix}$$\n",
    "\n",
    "$$B=\\begin{bmatrix}\n",
    "2 & 2 \\\\\n",
    "-8 & 3 \\\\\n",
    "\\end{bmatrix}$$\n",
    "### 计算矩阵A和矩阵B的乘积"
   ]
  },
  {
   "cell_type": "code",
   "execution_count": 1,
   "metadata": {
    "ExecuteTime": {
     "end_time": "2024-01-20T05:19:01.465036Z",
     "start_time": "2024-01-20T05:19:01.201189Z"
    }
   },
   "outputs": [
    {
     "name": "stdout",
     "output_type": "stream",
     "text": [
      "[[-10  12]\n",
      " [-44  22]]\n",
      "[[  6   4]\n",
      " [-16  18]]\n"
     ]
    }
   ],
   "source": [
    "# 加载模块\n",
    "import numpy\n",
    "\n",
    "# 定义矩阵\n",
    "A = numpy.array([[3,2],[2,6]])\n",
    "B = numpy.array([[2,2],[-8,3]])\n",
    "\n",
    "# 计算乘积并输出\n",
    "print(numpy.dot(A,B))\n",
    "print(A*B)"
   ]
  },
  {
   "cell_type": "markdown",
   "metadata": {},
   "source": [
    "### Python基础语法"
   ]
  },
  {
   "cell_type": "code",
   "execution_count": 1,
   "metadata": {},
   "outputs": [
    {
     "name": "stdout",
     "output_type": "stream",
     "text": [
      "x is equal to y\n",
      "thanks!\n"
     ]
    }
   ],
   "source": [
    "#这是注释\n",
    "x = 1\n",
    "y = 1\n",
    "if x == y:\n",
    "    print(\"x is equal to y\")\n",
    "    ''' if y != 0:\n",
    "            print(\"therefore, x/y is\", x/y) '''\n",
    "elif x < y:\n",
    "    print(\"x is smaller than y\")\n",
    "else:\n",
    "    print(\"y is smaller than x\")\n",
    "print(\"thanks!\")"
   ]
  },
  {
   "cell_type": "markdown",
   "metadata": {},
   "source": [
    "### 输入输出"
   ]
  },
  {
   "cell_type": "code",
   "execution_count": 3,
   "metadata": {},
   "outputs": [
    {
     "name": "stdout",
     "output_type": "stream",
     "text": [
      "a = 1\n",
      "b = 2\n",
      "1 2\n",
      "1,2没有换行\n"
     ]
    }
   ],
   "source": [
    "a = int(input(\"a = \"))\n",
    "b = int(input(\"b = \"))\n",
    "print(a,b)\n",
    "print(a,b,sep=\",\",end=\"\")\n",
    "print(\"没有换行\")"
   ]
  },
  {
   "cell_type": "markdown",
   "metadata": {},
   "source": [
    "### 赋值"
   ]
  },
  {
   "cell_type": "code",
   "execution_count": 4,
   "metadata": {},
   "outputs": [
    {
     "name": "stdout",
     "output_type": "stream",
     "text": [
      "6\n",
      "我是字符串\n"
     ]
    }
   ],
   "source": [
    "#一行赋值多个变量\n",
    "num1, num2, num3 = 1, 2, 3\n",
    "num4 = num5 = num6 = 4\n",
    "print(num5+num2)\n",
    "\n",
    "#字符串赋值\n",
    "str1 = \"我是\"\n",
    "str2 = \"字符串\"\n",
    "print(str1+str2)"
   ]
  },
  {
   "cell_type": "markdown",
   "metadata": {},
   "source": [
    "### 表达式"
   ]
  },
  {
   "cell_type": "code",
   "execution_count": 5,
   "metadata": {},
   "outputs": [
    {
     "name": "stdout",
     "output_type": "stream",
     "text": [
      "8\n"
     ]
    }
   ],
   "source": [
    "32\n",
    "\"hello world!\"\n",
    "x = 1+2+5\n",
    "print(x)"
   ]
  },
  {
   "cell_type": "code",
   "execution_count": null,
   "metadata": {},
   "outputs": [],
   "source": []
  }
 ],
 "metadata": {
  "kernelspec": {
   "display_name": "Python 3",
   "language": "python",
   "name": "python3"
  },
  "language_info": {
   "codemirror_mode": {
    "name": "ipython",
    "version": 3
   },
   "file_extension": ".py",
   "mimetype": "text/x-python",
   "name": "python",
   "nbconvert_exporter": "python",
   "pygments_lexer": "ipython3",
   "version": "3.8.3"
  }
 },
 "nbformat": 4,
 "nbformat_minor": 4
}
