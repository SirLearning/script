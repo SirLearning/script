{
 "cells": [
  {
   "cell_type": "code",
   "execution_count": null,
   "metadata": {
    "is_executing": true
   },
   "outputs": [],
   "source": [
    "import os\n",
    "import numpy as np\n",
    "import pandas as pd  \n",
    "import matplotlib.pyplot as plt\n",
    "\n",
    "import bigfish\n",
    "import bigfish.stack as stack\n",
    "import bigfish.plot as plot\n",
    "import bigfish.multistack as multistack\n",
    "import bigfish.segmentation as segmentation \n",
    "import bigfish.detection as detection  \n",
    "\n",
    "import tifffile as tf\n",
    "import re \n",
    "\n",
    "import threading\n",
    "import datetime as dt\n",
    "import gc\n",
    "\n",
    "from roifile import ImagejRoi\n",
    "from imaris_ims_file_reader.ims import ims"
   ]
  },
  {
   "cell_type": "code",
   "execution_count": 2,
   "metadata": {},
   "outputs": [],
   "source": [
    "path = [\"D:/round1/RNAscope_time/Data_ROI\"]\n",
    "out_path = \"D:/round1/RNAscope_time/result\""
   ]
  },
  {
   "cell_type": "code",
   "execution_count": 3,
   "metadata": {},
   "outputs": [],
   "source": [
    "## multiple thread\n",
    "max_connections = 1\n",
    "pool_sema = threading.BoundedSemaphore(max_connections)"
   ]
  },
  {
   "cell_type": "markdown",
   "metadata": {},
   "source": [
    "# Function: detect spots"
   ]
  },
  {
   "cell_type": "code",
   "execution_count": 4,
   "metadata": {},
   "outputs": [],
   "source": [
    "def detect_spot(image, z_radius, xy_radius):\n",
    "    spots, threshold = detection.detect_spots(\n",
    "        images=image,\n",
    "        return_threshold=True,\n",
    "        voxel_size=(1000, 191, 191),\n",
    "        spot_radius=(z_radius, xy_radius, xy_radius))#可调\n",
    "    \n",
    "    spots_post_decomposition, dense_regions, reference_spot = detection.decompose_dense(\n",
    "        image=image, \n",
    "        spots=spots, \n",
    "        voxel_size=(1000, 191, 191), \n",
    "        spot_radius=(z_radius, xy_radius, xy_radius), \n",
    "        alpha=0.7,  # alpha impacts the number of spots per candidate region\n",
    "        beta=1,  # beta impacts the number of candidate regions to decompose\n",
    "        gamma=5)  # gamma the filtering step to denoise the image\n",
    "    \n",
    "    spots_post_clustering, clusters = detection.detect_clusters(\n",
    "        spots=spots_post_decomposition, \n",
    "        voxel_size=(1000, 191, 191), \n",
    "        radius=1000, \n",
    "        nb_min_spots=10)\n",
    "    \n",
    "    print(\"detected spots before decomposition\")\n",
    "    print(\"\\r shape: {0}\".format(spots.shape))\n",
    "    print(\"\\r dtype: {0}\".format(spots.dtype), \"\\n\")\n",
    "    print(\"detected spots after decomposition\")\n",
    "    print(\"\\r shape: {0}\".format(spots_post_decomposition.shape))\n",
    "    print(\"\\r dtype: {0}\".format(spots_post_decomposition.dtype))\n",
    "    print(\"detected spots after clustering\")\n",
    "    print(\"\\r shape: {0}\".format(spots_post_clustering.shape))\n",
    "    print(\"\\r dtype: {0}\".format(spots_post_clustering.dtype), \"\\n\")\n",
    "    print(\"detected clusters\")\n",
    "    print(\"\\r shape: {0}\".format(clusters.shape))\n",
    "    print(\"\\r dtype: {0}\".format(clusters.dtype))\n",
    "\n",
    "    return spots_post_decomposition, clusters\n"
   ]
  },
  {
   "cell_type": "code",
   "execution_count": 5,
   "metadata": {},
   "outputs": [],
   "source": [
    "def plot_spot(image, spots_post_decomposition, clusters):\n",
    "    image_mip = stack.maximum_projection(image)\n",
    "    plot.plot_detection(image_mip, \n",
    "                        spots=[spots_post_decomposition, clusters[:, :3]], \n",
    "                        shape=[\"circle\", \"square\"], \n",
    "                        radius=[3, 6], \n",
    "                        color=[\"red\", \"blue\"],\n",
    "                        linewidth=[1, 2], \n",
    "                        fill=[False, True], \n",
    "                        contrast=True)\n",
    "    return"
   ]
  },
  {
   "cell_type": "code",
   "execution_count": 6,
   "metadata": {},
   "outputs": [],
   "source": [
    "def extract_roifile(img_name, path):\n",
    "    roi_name1 = re.sub(pattern=\"\\.ims\", repl=\".zip\", string=img_name)\n",
    "    roi_name2 = re.sub(pattern=\"\\.ims\", repl=\".roi.zip\", string=img_name)\n",
    "\n",
    "    try:\n",
    "        roi = ImagejRoi.fromfile(path + \"/\" + roi_name1)\n",
    "        print(\"found roi of img: %s\" % (img_name))\n",
    "        return roi_name1\n",
    "    except:\n",
    "        pass\n",
    "\n",
    "    try:\n",
    "        roi = ImagejRoi.fromfile(path + \"/\" + roi_name2)\n",
    "        print(\"found roi of img: %s\" % (img_name))\n",
    "        return roi_name2\n",
    "    except:\n",
    "        pass\n",
    "\n",
    "    return 0   "
   ]
  },
  {
   "cell_type": "code",
   "execution_count": 7,
   "metadata": {},
   "outputs": [],
   "source": [
    "def extract_result(img_name, path, out_dir):\n",
    "    pool_sema.acquire()\n",
    "\n",
    "    roi_name = extract_roifile(img_name, path)\n",
    "\n",
    "    if (roi_name == 0):\n",
    "        print(\"no roi file found: %s\" % (img_name))\n",
    "        pool_sema.release()\n",
    "        return \n",
    "\n",
    "    print('current processing image: %s/%s\\n' % (path, img_name))\n",
    "\n",
    "    genotype = re.sub(pattern='_.*', repl='', string=img_name)\n",
    "\n",
    "    ZT = re.sub(pattern='.*ZT', repl='ZT', string=img_name)\n",
    "    ZT = re.sub(pattern='_.*', repl='', string=ZT)\n",
    "\n",
    "    number = re.sub(pattern='.*LN._', repl='', string=img_name)\n",
    "    number = re.sub(pattern='\\..*', repl='', string=number)\n",
    "    number = re.sub(pattern='_.*', repl='', string=number)\n",
    "\n",
    "    side = re.sub(pattern='.*LN', repl='LN', string=img_name)\n",
    "    side = re.sub(pattern='_.*', repl='', string=side)\n",
    "\n",
    "    try:\n",
    "        img = ims(path + \"/\" + img_name)\n",
    "    except:\n",
    "        print(\"unreadable image: %s/%s\\n, skiped\" %(path, img_name))\n",
    "        pool_sema.release()\n",
    "        return\n",
    " \n",
    "    roi = ImagejRoi.fromfile(path + \"/\" + roi_name)\n",
    "\n",
    "    try: \n",
    "        spots_c1, clusters_c1 = detect_spot(image=img[0, 0], xy_radius=80, z_radius=400)\n",
    "    except:\n",
    "        print(\"unprocessable image for c1 channel:  %s/%s\\n, skiped\" %(path, img_name))\n",
    "        pool_sema.release()\n",
    "        return\n",
    "    \n",
    "    try: \n",
    "        spots_c2, clusters_c2 = detect_spot(image=img[0, 1], xy_radius=80, z_radius=400)\n",
    "    except:\n",
    "        print(\"unprocessable image for c2 channel:  %s/%s\\n, skiped\" %(path, img_name))\n",
    "        pool_sema.release()\n",
    "        return \n",
    "\n",
    "    cell_spot_sum = pd.DataFrame(data=None, columns = ['Genotype', 'ZT', 'number', 'side', ' channel', 'cell', 'spot_num']) \n",
    "    cell_spot = pd.DataFrame(data=None, columns = ['Genotype', 'ZT', 'number', 'side', 'channel', 'cell', 'x', 'y', 'z'])\n",
    "\n",
    "    for r in range(len(roi)):\n",
    "        \n",
    "        roi_cell = roi[r].name\n",
    "\n",
    "        if (re.match(pattern = \".*_chr$\", string=roi_cell) != None):\n",
    "            spot_z_c1 =  spots_c1[np.where((spots_c1[:, 0] >= roi[r].z_position-3) & (spots_c1[:, 0] <= roi[r].z_position+1))]\n",
    "            spot_z_c2 =  spots_c2[np.where((spots_c2[:, 0] >= roi[r].z_position-3) & (spots_c2[:, 0] <= roi[r].z_position+1))]\n",
    "        elif (re.match(pattern = \"lLNv.*\", string=roi_cell) != None):\n",
    "            spot_z_c1 =  spots_c1[np.where((spots_c1[:, 0] >= roi[r].z_position-7) & (spots_c1[:, 0] <= roi[r].z_position+5))]\n",
    "            spot_z_c2 =  spots_c2[np.where((spots_c2[:, 0] >= roi[r].z_position-7) & (spots_c2[:, 0] <= roi[r].z_position+5))]\n",
    "        else:\n",
    "            spot_z_c1 =  spots_c1[np.where((spots_c1[:, 0] >= roi[r].z_position-5) & (spots_c1[:, 0] <= roi[r].z_position+3))]\n",
    "            spot_z_c2 =  spots_c2[np.where((spots_c2[:, 0] >= roi[r].z_position-5) & (spots_c2[:, 0] <= roi[r].z_position+3))]\n",
    "\n",
    "        # print(len(spot_z))\n",
    "        \n",
    "        cell_spot_sum.loc[len(cell_spot_sum.index)] = [genotype, ZT, number, side, 'C1', roi_cell, 0] \n",
    "  \n",
    "        for i in range(spot_z_c1.shape[0]): \n",
    "            border_z_c1 = roi[r].integer_coordinates[np.where(roi[r].integer_coordinates[:, 1] + roi[r].top == spot_z_c1[i, 1])]\n",
    "            \n",
    "            if (border_z_c1.shape[0] == 0) : \n",
    "                # print(\"not in: spot %s\"%(i))  \n",
    "                continue\n",
    "\n",
    "            if ((np.min(border_z_c1[:, 0])+roi[r].left <= spot_z_c1[i, 2]) & (np.max(border_z_c1[:, 0])+roi[r].left >= spot_z_c1[i, 2] )):\n",
    "                # print(\"sp  ot: %s(x: %s  y: %s  z: %s)\"%(i, spot_z[i, 1], spot_z[i, 2], spot_z[i, 0]))\n",
    "                cell_spot_sum.iloc[len(cell_spot_sum.index)-1, 6] = cell_spot_sum.iloc[len(cell_spot_sum.index)-1, 6] + 1\n",
    "                cell_spot.loc[len(cell_spot.index)] = [genotype, ZT, number, side, 'C1', roi_cell, spot_z_c1[i, 1], spot_z_c1[i, 2], spot_z_c1[i, 0]]\n",
    "\n",
    "        cell_spot_sum.loc[len(cell_spot_sum.index)] = [genotype, ZT, number, side, 'C2', roi_cell, 0]\n",
    "\n",
    "        for i in range(spot_z_c2.shape[0]):\n",
    "            border_z_c2 = roi[r].integer_coordinates[np.where(roi[r].integer_coordinates[:, 1] + roi[r].top == spot_z_c2[i, 1])]\n",
    "             \n",
    "            if (border_z_c2.shape[0] == 0) :\n",
    "                # print(\"not in: spot %s\"%(i)) \n",
    "                continue\n",
    "\n",
    "            if ((np.min(border_z_c2[:, 0])+roi[r].left <= spot_z_c2[i, 2]) & (np.max(border_z_c2[:, 0])+roi[r].left >= spot_z_c2[i, 2] )):\n",
    "                # print(\"spot: %s(x: %s  y: %s  z: %s)\"%(i, spot_z[i, 1], spot_z[i, 2], spot_z[i, 0]))\n",
    "                cell_spot_sum.iloc[len(cell_spot_sum.index)-1, 6] = cell_spot_sum.iloc[len(cell_spot_sum.index)-1, 6] + 1\n",
    "                cell_spot.loc[len(cell_spot.index)] = [genotype, ZT, number, side, 'C2', roi_cell, spot_z_c2[i, 1], spot_z_c2[i, 2], spot_z_c2[i, 0]]    \n",
    "\n",
    "    cell_spot_sum.to_csv(\"%s/%s.txt\" % (out_dir, genotype), sep = '\\t', index = False, header= False, mode = 'a')\n",
    "    cell_spot.to_csv(\"%s/%s_spot.txt\" % (out_dir, genotype), sep = '\\t', index = False, header= False, mode = 'a')\n",
    "\n",
    "    pool_sema.release()\n",
    "\n",
    "    return "
   ]
  },
  {
   "cell_type": "code",
   "execution_count": 8,
   "metadata": {},
   "outputs": [],
   "source": [
    "def main():\n",
    "    thread_list = []\n",
    "    for i in range(len(path)):\n",
    "        img_list_all = os.listdir(path[i])\n",
    "        img_list = list(filter(lambda x: re.match('.*\\.ims', x) != None, img_list_all))\n",
    "        # img_list1 = list(map(lambda x : re.sub('\\..*', '.tif', x), img_list))\n",
    "        # if not os.path.exists(path[i] + \"/Split/Spot/\"):\n",
    "        #     os.makedirs(path[i] + \"/Split/Spot/\")\n",
    "\n",
    "        # img_list = [img_list[0]]\n",
    "\n",
    "        for j in range(len(img_list)):\n",
    "            # t = threading.Thread(target=test_thread, args = [j, img_list[j]])\n",
    "            t = threading.Thread(target = extract_result, args = [img_list[j], path[i], out_path])\n",
    "            thread_list.append(t)\n",
    "\n",
    "    for t in thread_list:\n",
    "        t.start() \n",
    "\n",
    "    for t in thread_list:\n",
    "        t.join()"
   ]
  },
  {
   "cell_type": "code",
   "execution_count": null,
   "metadata": {},
   "outputs": [
    {
     "name": "stdout",
     "output_type": "stream",
     "text": [
      "found roi of img: 12758_405DAPI_488timCDS_561PDF_647intron_ZT14_LN2_1_2024-10-04_13.43.40.ims\n",
      "current processing image: D:/round1/RNAscope_time/Data_ROI/12758_405DAPI_488timCDS_561PDF_647intron_ZT14_LN2_1_2024-10-04_13.43.40.ims\n",
      "\n",
      "Opening readonly file: D:/round1/RNAscope_time/Data_ROI/12758_405DAPI_488timCDS_561PDF_647intron_ZT14_LN2_1_2024-10-04_13.43.40.ims \n",
      "\n",
      "unprocessable image for c1 channel:  D:/round1/RNAscope_time/Data_ROI/12758_405DAPI_488timCDS_561PDF_647intron_ZT14_LN2_1_2024-10-04_13.43.40.ims\n",
      ", skiped\n",
      "Closing file: D:/round1/RNAscope_time/Data_ROI/12758_405DAPI_488timCDS_561PDF_647intron_ZT14_LN2_1_2024-10-04_13.43.40.ims \n"
     ]
    }
   ],
   "source": [
    "if __name__ == \"__main__\":\n",
    "    main()"
   ]
  },
  {
   "cell_type": "code",
   "execution_count": null,
   "metadata": {},
   "outputs": [],
   "source": [
    "roi[1].plot()"
   ]
  },
  {
   "cell_type": "code",
   "execution_count": null,
   "metadata": {},
   "outputs": [],
   "source": [
    "ap = roi1[0].plot()"
   ]
  },
  {
   "cell_type": "code",
   "execution_count": null,
   "metadata": {},
   "outputs": [],
   "source": [
    "a = plt.figure()\n",
    "plt.scatter(spot_z[:, 1], spot_z[:, 2])\n",
    "plt.plot(roi1[0].integer_coordinates[:,0]+roi1[0].left, roi1[0].integer_coordinates[:,1]+roi1[0].top )\n",
    "# ax = plt.gca()\n",
    "# ax.set_aspect(1)"
   ]
  },
  {
   "cell_type": "code",
   "execution_count": null,
   "metadata": {},
   "outputs": [],
   "source": [
    "\n",
    "for i in range(spot_z.shape[0]):\n",
    "    border_z = roi1[0].integer_coordinates[np.where(roi1[0].integer_coordinates[:, 1] + roi1[0].top == spot_z[i, 2])]\n",
    "    \n",
    "    if (border_z.shape[0] == 0) :\n",
    "        # print(\"not in: spot %s\"%(i))\n",
    "        continue\n",
    "\n",
    "    if ((np.min(border_z[:, 0])+roi1[0].left <= spot_z[i, 1]) & (np.max(border_z[:, 0])+roi1[0].left >= spot_z[i, 1] )):\n",
    "        print(\"spot: %s(x: %s  y: %s  z: %s)\"%(i, spot_z[i, 1], spot_z[i, 2], spot_z[i, 0]))"
   ]
  },
  {
   "cell_type": "code",
   "execution_count": null,
   "metadata": {},
   "outputs": [],
   "source": [
    "np.min(roi1[0].integer_coordinates[:, 1])"
   ]
  },
  {
   "cell_type": "code",
   "execution_count": null,
   "metadata": {},
   "outputs": [],
   "source": [
    "roi1[0]"
   ]
  },
  {
   "cell_type": "code",
   "execution_count": null,
   "metadata": {},
   "outputs": [],
   "source": [
    "a = plt.plot(roi1[0].integer_coordinates[:,0]+roi1[0].left, roi1[0].integer_coordinates[:,1]+roi1[0].top )\n",
    "ax = plt.gca()\n",
    "ax.set_aspect(1)\n",
    "# ax.set_ylim((80, -5))"
   ]
  },
  {
   "cell_type": "code",
   "execution_count": null,
   "metadata": {},
   "outputs": [],
   "source": [
    "roi1[0]"
   ]
  },
  {
   "cell_type": "markdown",
   "metadata": {},
   "source": [
    "# Extract cell level result"
   ]
  },
  {
   "cell_type": "markdown",
   "metadata": {},
   "source": [
    "### segmentation (grey)"
   ]
  },
  {
   "cell_type": "code",
   "execution_count": 53,
   "metadata": {},
   "outputs": [],
   "source": [
    "sample = \"12758_ZT14_LN2_1\""
   ]
  },
  {
   "cell_type": "code",
   "execution_count": 11,
   "metadata": {},
   "outputs": [],
   "source": [
    "ovules = tf.imread(\"gray_filter_ovules.tif\")\n",
    "LRP = tf.imread(\"gray_filter_LRP.tif\") \n",
    "              \n",
    "seg = pd.read_excel(\"Segmentation_info.xlsx\") "
   ]
  },
  {
   "cell_type": "code",
   "execution_count": 13,
   "metadata": {},
   "outputs": [],
   "source": [
    "seg['spots'] = 0\n",
    "seg.head()"
   ]
  },
  {
   "cell_type": "code",
   "execution_count": null,
   "metadata": {},
   "outputs": [],
   "source": [
    "for i in range(seg.shape[0]):\n",
    "    print(seg.iloc[i, 0])\n",
    "    if (re.match(\"ovules\", seg.iloc[i, 1], re.IGNORECASE)):\n",
    "        cell_loc_3 = np.where(ovules == seg.iloc[i, 2])\n",
    "    elif (re.match(\"LRP\", seg.iloc[i, 1], re.IGNORECASE)):\n",
    "        cell_loc_3 = np.where(LRP == seg.iloc[i, 2]) \n",
    "    cell_loc = np.concatenate((cell_loc_3[0][:, np.newaxis],\n",
    "                                cell_loc_3[1][:, np.newaxis],\n",
    "                                cell_loc_3[2][:, np.newaxis]), axis = 1)\n",
    "    cell_spots = np.where((spots_post_decomposition[:, None, :] == cell_loc).all(-1))[1]\n",
    "    seg.iloc[i, 3] = cell_spots.shape[0]\n",
    "                                "
   ]
  },
  {
   "cell_type": "code",
   "execution_count": 39,
   "metadata": {},
   "outputs": [],
   "source": [
    "seg['repeat'] = seg.groupby('number')['number'].transform('count')\n",
    "seg['spots'] = seg['spots'] / seg['repeat']\n",
    "seg.head()"
   ]
  },
  {
   "cell_type": "code",
   "execution_count": 52,
   "metadata": {},
   "outputs": [],
   "source": [
    "seg.to_excel(\"Segmentation_info.xlsx\", index = False, sheet_name = \"12758_ZT14_LN2_1\")"
   ]
  },
  {
   "cell_type": "code",
   "execution_count": null,
   "metadata": {},
   "outputs": [],
   "source": []
  },
  {
   "cell_type": "markdown",
   "metadata": {},
   "source": [
    "# Old\n"
   ]
  },
  {
   "cell_type": "code",
   "execution_count": null,
   "metadata": {},
   "outputs": [],
   "source": [
    "def extract_result_old(roi_name, path, out_dir):\n",
    "    pool_sema.acquire()\n",
    "\n",
    "    img_name = re.sub(pattern=\"\\.zip\", repl=\".tif\", string=roi_name)\n",
    "    img_name = re.sub(pattern='\\.roi', repl='', string=img_name)\n",
    "    img_name_c2 = re.sub(pattern='C1_', repl='C2_', string=img_name)\n",
    "\n",
    "    print('current processing image: %s/C1/%s\\n' % (path, img_name))\n",
    "    \n",
    "    genotype = re.sub(pattern='C1_', repl='', string=img_name)\n",
    "    genotype = re.sub(pattern='_.*', repl='', string=genotype)\n",
    "\n",
    "    ZT = re.sub(pattern='.*Dil_', repl='', string=img_name)\n",
    "    ZT = re.sub(pattern='_.*', repl='', string=ZT)\n",
    "\n",
    "    number = re.sub(pattern='.*LN._', repl='', string=img_name)\n",
    "    number = re.sub(pattern='\\..*', repl='', string=number)\n",
    "    number = re.sub(pattern='_.*', repl='', string=number)\n",
    "\n",
    "    try:\n",
    "        img = tf.imread(path + \"/C1/\" + img_name)\n",
    "    except:\n",
    "        print(\"unreadable image: %s/C1/%s\\n, skiped\" %(path, img_name))\n",
    "        return\n",
    "    \n",
    "    try:\n",
    "        img_c2 = tf.imread(path + \"/C2/\" + img_name_c2)\n",
    "    except:\n",
    "        print(\"unreadable image: %s/C2/%s\\n, skiped\" %(path, img_name_c2))\n",
    "        return\n",
    "\n",
    "    roi = ImagejRoi.fromfile(path + \"/C1/\" + roi_name)\n",
    "\n",
    "    try: \n",
    "        spots, clusters = detect_spot(image=img, xy_radius=80, z_radius=400)\n",
    "    except:\n",
    "        print(\"unprocessable image:  %s/C1/%s\\n, skiped\" %(path, img_name))\n",
    "        return\n",
    "    \n",
    "    try: \n",
    "        spots_c2, clusters_c2 = detect_spot(image=img_c2, xy_radius=80, z_radius=400)\n",
    "    except:\n",
    "        print(\"unprocessable image:  %s/C2/%s\\n, skiped\" %(path, img_name_c2))\n",
    "        return \n",
    "\n",
    "    cell_spot_sum = pd.DataFrame(data=None, columns = ['Genotype', 'ZT', 'number', ' channel', 'cell', 'spot_num']) \n",
    "    cell_spot = pd.DataFrame(data=None, columns = ['Genotype', 'ZT', 'number', 'channel', 'cell', 'x', 'y', 'z'])\n",
    "\n",
    "    for r in range(len(roi)):\n",
    "        \n",
    "        roi_cell = roi[r].name\n",
    "\n",
    "        if (re.match(pattern = \".*_chr$\", string=roi_cell) != None):\n",
    "            spot_z =  spots[np.where((spots[:, 0] >= roi[r].z_position-2) & (spots[:, 0] <= roi[r].z_position))]\n",
    "            spot_z_c2 =  spots_c2[np.where((spots_c2[:, 0] >= roi[r].z_position-2) & (spots_c2[:, 0] <= roi[r].z_position))]\n",
    "        elif (re.match(pattern = \"lLNv.*\", string=roi_cell) != None):\n",
    "            spot_z =  spots[np.where((spots[:, 0] >= roi[r].z_position-4) & (spots[:, 0] <= roi[r].z_position+2))]\n",
    "            spot_z_c2 =  spots_c2[np.where((spots_c2[:, 0] >= roi[r].z_position-4) & (spots_c2[:, 0] <= roi[r].z_position+2))]\n",
    "        else:\n",
    "            spot_z =  spots[np.where((spots[:, 0] >= roi[r].z_position-3) & (spots[:, 0] <= roi[r].z_position+1))]\n",
    "            spot_z_c2 =  spots_c2[np.where((spots_c2[:, 0] >= roi[r].z_position-3) & (spots_c2[:, 0] <= roi[r].z_position+1))]\n",
    "\n",
    "        # print(len(spot_z))\n",
    "        \n",
    "        cell_spot_sum.loc[len(cell_spot_sum.index)] = [genotype, ZT, number, '1', roi_cell, 0] \n",
    "  \n",
    "        for i in range(spot_z.shape[0]): \n",
    "            border_z = roi[r].integer_coordinates[np.where(roi[r].integer_coordinates[:, 1] + roi[r].top == spot_z[i, 1])]\n",
    "            \n",
    "            if (border_z.shape[0] == 0) : \n",
    "                # print(\"not in: spot %s\"%(i))  \n",
    "                continue\n",
    "\n",
    "            if ((np.min(border_z[:, 0])+roi[r].left <= spot_z[i, 2]) & (np.max(border_z[:, 0])+roi[r].left >= spot_z[i, 2] )):\n",
    "                # print(\"sp  ot: %s(x: %s  y: %s  z: %s)\"%(i, spot_z[i, 1], spot_z[i, 2], spot_z[i, 0]))\n",
    "                cell_spot_sum.iloc[len(cell_spot_sum.index)-1, 5] = cell_spot_sum.iloc[len(cell_spot_sum.index)-1, 5] + 1\n",
    "                cell_spot.loc[len(cell_spot.index)] = [genotype, ZT, number, '1', roi_cell, spot_z[i, 1], spot_z[i, 2], spot_z[i, 0]]\n",
    "\n",
    "        cell_spot_sum.loc[len(cell_spot_sum.index)] = [genotype, ZT, number, '2', roi_cell, 0]\n",
    "\n",
    "        for i in range(spot_z_c2.shape[0]):\n",
    "            border_z_c2 = roi[r].integer_coordinates[np.where(roi[r].integer_coordinates[:, 1] + roi[r].top == spot_z_c2[i, 1])]\n",
    "             \n",
    "            if (border_z_c2.shape[0] == 0) :\n",
    "                # print(\"not in: spot %s\"%(i)) \n",
    "                continue\n",
    "\n",
    "            if ((np.min(border_z_c2[:, 0])+roi[r].left <= spot_z_c2[i, 2]) & (np.max(border_z_c2[:, 0])+roi[r].left >= spot_z_c2[i, 2] )):\n",
    "                # print(\"spot: %s(x: %s  y: %s  z: %s)\"%(i, spot_z[i, 1], spot_z[i, 2], spot_z[i, 0]))\n",
    "                cell_spot_sum.iloc[len(cell_spot_sum.index)-1, 5] = cell_spot_sum.iloc[len(cell_spot_sum.index)-1, 5] + 1\n",
    "                cell_spot.loc[len(cell_spot.index)] = [genotype, ZT, number, '2', roi_cell, spot_z[i, 1], spot_z[i, 2], spot_z[i, 0]]    \n",
    "\n",
    "    cell_spot_sum.to_csv(\"%s/%s.txt\" % (out_dir, genotype), sep = '\\t', index = False, header= False, mode = 'a')\n",
    "    cell_spot.to_csv(\"%s/%s_spot.txt\" % (out_dir, genotype), sep = '\\t', index = False, header= False, mode = 'a')\n",
    "\n",
    "    pool_sema.release()\n",
    "\n",
    "    return \n",
    "    \n",
    "    "
   ]
  }
 ],
 "metadata": {
  "kernelspec": {
   "display_name": "fish-quant",
   "language": "python",
   "name": "python3"
  },
  "language_info": {
   "codemirror_mode": {
    "name": "ipython",
    "version": 3
   },
   "file_extension": ".py",
   "mimetype": "text/x-python",
   "name": "python",
   "nbconvert_exporter": "python",
   "pygments_lexer": "ipython3",
   "version": "3.11.10"
  }
 },
 "nbformat": 4,
 "nbformat_minor": 2
}
