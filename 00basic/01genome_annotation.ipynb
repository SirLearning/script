{
 "cells": [
  {
   "metadata": {},
   "cell_type": "markdown",
   "source": [
    "# 1 Data type\n",
    "## 1.1 main types\n",
    "2 file types:\n",
    "- `.bed`: mainly use `bedtools`\n",
    "- `.gff` \n",
    "\n",
    "## 1.2 transfer\n",
    "Change `.gff` file to `.bed` file by awk\n",
    "```\n",
    "awk -F'\\t' '$3 == \"repeat_region\" {split($9, a, \";\"); for (i in a) {split(a[i], b, \"=\"); if (b[1] == \"ID\") TE_id = b[2];}  print $1, $4-1, $5, TE_id, \".\", $7}' chr1A.gff3 > annotations.bed\n",
    "\n",
    "gff2bed <JM44.repeat.masked.gff > annotation.bed\n",
    "bedtools getfasta -s -fi JM44.repeat.masked.fasta -bed annotation.bed -fo teseq.fasta\n",
    "seqkit stats teseq.fasta\n",
    "python DataProcessing.py > call.txt\n",
    "bedtools merge -i annotation.bed > merge.bed\n",
    "```\n",
    "It is worth mention that use command `wc -l file.txt` can easily count lines number.\n",
    "\n",
    "Other transformations include:\n",
    "- gff to bed\n",
    "```\n",
    "gff2bed <JM44.repeat.masked.gff > annotation.bed\n",
    "awk -F'\\t' '$3 == \"repeat_region\" {split($9, a, \";\"); for (i in a) {split(a[i], b, \"=\"); if (b[1] == \"ID\") TE_id = b[2];}  print $1, $4-1, $5, TE_id, \".\", $7}' chr1A.gff3 > annotations.bed\n",
    "```\n",
    "- bed to fasta: `bedtools getfasta -s -fi JM44.repeat.masked.fasta -bed annotation.bed -fo teseq.fasta`\n",
    "- embl to fasta: `any2fasta test.embl > RMRBSeqs.fa`\n",
    "\n",
    "## 1.3 stat specific line number using command line\n",
    "To do this, you can:\n",
    "- scan the number of '=' char in the file: `awk '{ print gsub(/=/,\"\") }' 01cs.anno.gff3 > s.txt`\n",
    "- list the line number of specific char: `grep -n '6' s.txt`\n",
    "\n"
   ],
   "id": "6d1dcd4f70e7aff4"
  }
 ],
 "metadata": {
  "kernelspec": {
   "display_name": "Python 3",
   "language": "python",
   "name": "python3"
  },
  "language_info": {
   "codemirror_mode": {
    "name": "ipython",
    "version": 2
   },
   "file_extension": ".py",
   "mimetype": "text/x-python",
   "name": "python",
   "nbconvert_exporter": "python",
   "pygments_lexer": "ipython2",
   "version": "2.7.6"
  }
 },
 "nbformat": 4,
 "nbformat_minor": 5
}
