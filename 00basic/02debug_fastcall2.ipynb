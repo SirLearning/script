{
 "cells": [
  {
   "metadata": {},
   "cell_type": "markdown",
   "source": [
    "# 1 Tried to run\n",
    "\n",
    "## 1.1 run speed test\n",
    "\n",
    "Using `perf`, I can get running time of `FastCall2` with command line:\n",
    "\n",
    "1. \n",
    "\n",
    "## 1.2 scan step error\n",
    "\n",
    "Run `scan` with command line: `java -Xmx100g -jar TIGER_20250526.jar -app FastCall2 -mod scan -a ../00data/chr1_10M.fa -b taxaBamMap.txt -c ../blib/1_1_10000001.lib.gz -d 1 -e 0 -f 30 -g 20 -h 0.05 -i /data/home/dazheng/miniconda3/envs/debug/bin/samtools -j 32 -k ../scan`\n",
    "\n",
    "I got the following error:\n",
    "```\n",
    "java.lang.ArrayIndexOutOfBoundsException: 292652\n",
    "        at pgl.app.fastCall2.ScanGenotype.lambda$mkFinalVCFFromIndiCounts$0(ScanGenotype.java:274)\n",
    "        at java.util.stream.ForEachOps$ForEachOp$OfRef.accept(ForEachOps.java:183)\n",
    "        at java.util.ArrayList$ArrayListSpliterator.forEachRemaining(ArrayList.java:1382)\n",
    "        at java.util.stream.AbstractPipeline.copyInto(AbstractPipeline.java:482)\n",
    "        at java.util.stream.ForEachOps$ForEachTask.compute(ForEachOps.java:290)\n",
    "        at java.util.concurrent.CountedCompleter.exec(CountedCompleter.java:731)\n",
    "        at java.util.concurrent.ForkJoinTask.doExec(ForkJoinTask.java:289)\n",
    "        at java.util.concurrent.ForkJoinTask.doInvoke(ForkJoinTask.java:401)\n",
    "        at java.util.concurrent.ForkJoinTask.invoke(ForkJoinTask.java:734)\n",
    "        at java.util.stream.ForEachOps$ForEachOp.evaluateParallel(ForEachOps.java:159)\n",
    "        at java.util.stream.ForEachOps$ForEachOp$OfRef.evaluateParallel(ForEachOps.java:173)\n",
    "        at java.util.stream.AbstractPipeline.evaluate(AbstractPipeline.java:233)\n",
    "        at java.util.stream.ReferencePipeline.forEach(ReferencePipeline.java:485)\n",
    "        at java.util.stream.ReferencePipeline$Head.forEach(ReferencePipeline.java:650)\n",
    "        at pgl.app.fastCall2.ScanGenotype.mkFinalVCFFromIndiCounts(ScanGenotype.java:262)\n",
    "        at pgl.app.fastCall2.ScanGenotype.<init>(ScanGenotype.java:89)\n",
    "        at pgl.app.fastCall2.FastCall2.<init>(FastCall2.java:55)\n",
    "        at pgl.PGLAPPEntrance.runApp(PGLAPPEntrance.java:51)\n",
    "        at pgl.PGLAPPEntrance.<init>(PGLAPPEntrance.java:27)\n",
    "        at pgl.PGLAPPEntrance.main(PGLAPPEntrance.java:85)\n",
    "```\n"
   ],
   "id": "7aa519d730581b71"
  }
 ],
 "metadata": {
  "kernelspec": {
   "display_name": "Python 3",
   "language": "python",
   "name": "python3"
  },
  "language_info": {
   "codemirror_mode": {
    "name": "ipython",
    "version": 2
   },
   "file_extension": ".py",
   "mimetype": "text/x-python",
   "name": "python",
   "nbconvert_exporter": "python",
   "pygments_lexer": "ipython2",
   "version": "2.7.6"
  }
 },
 "nbformat": 4,
 "nbformat_minor": 5
}
