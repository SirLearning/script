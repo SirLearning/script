{
 "cells": [
  {
   "cell_type": "code",
   "execution_count": null,
   "id": "94f0f0d7467e49b4",
   "metadata": {},
   "outputs": [],
   "source": [
    "# Examples\n",
    "\n",
    "1. count $\\sum\\cos(x)dx$\n",
    "```{r}\n",
    "result <- vector(\"numeric\")\n",
    "while (length(result) < 10000) {\n",
    "  y <- runif(1, 0, pi/2)\n",
    "  u <- runif(1)\n",
    "  if (u <= cos(y)) {\n",
    "    result <- append(result, y)\n",
    "  }\n",
    "}\n",
    "judge1 <- result <= 1\n",
    "judge2 <- result >= 0\n",
    "m <- sum(judge1*judge2)"
   ]
  }
 ],
 "metadata": {
  "kernelspec": {
   "display_name": "R",
   "language": "R",
   "name": "ir"
  },
  "language_info": {
   "codemirror_mode": "r",
   "file_extension": ".r",
   "mimetype": "text/x-r-source",
   "name": "R",
   "pygments_lexer": "r",
   "version": "4.4.2"
  }
 },
 "nbformat": 4,
 "nbformat_minor": 5
}
