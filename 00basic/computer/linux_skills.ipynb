{
 "cells": [
  {
   "metadata": {},
   "cell_type": "markdown",
   "source": [
    "# 1 Files management\n",
    "If you want to manage file in one directory recursively, you can use `mapfile` command.\n",
    "\n",
    "Remove files recursively:\n",
    "```\n",
    "mapfile -t rmlist < rmlist.txt\n",
    "size=${#rmlist[@]}\n",
    "for (( i = 0; i < size; i++ ));\n",
    "do\n",
    "    rm -r ${rmlist[i]}\n",
    "done\n",
    "```\n",
    "Dowload files recursively:\n",
    "```\n",
    "mapfile -t dllist < dllist.txt\n",
    "mapfile -t dirlist < dirlist.txt\n",
    "size=${#dllist[@]}\n",
    "for (( i = 0; i < size; i++ ));\n",
    "do\n",
    "    wget ftp://download.big.ac.cn/gsa2/CRA012590/2/${dllist[i]} -P $1${dirlist[i]}\n",
    "done\n",
    "```\n",
    "There is a script I wrote to remove `.bam` files in a directory recursively:"
   ],
   "id": "579bb3d9c17be0bb"
  },
  {
   "metadata": {},
   "cell_type": "code",
   "outputs": [],
   "execution_count": null,
   "source": [
    "%%bash\n",
    "#! /bin/bash\n",
    "\n",
    "# File name: rm.bam.sh\n",
    "# Remove the primary .bam files in a directory recursively.\n",
    "## $1: number\n",
    "## $2: /path/to/index\n",
    "## $3: /path/to/fastq_data\n",
    "\n",
    "mapfile -t tag < $1\n",
    "size=${#tag[@]}\n",
    "echo \"Tags loaded: ${#tag[@]}\"\n",
    "for ((i=0; i<size; i++));\n",
    "  do\n",
    "  echo \"Processing tag: ${tag[i]}\"\n",
    "  if [ -f ${tag[i]}.rmdup.bam ]; then\n",
    "    echo \"Removing file: ${tag[i]}.bam\"\n",
    "    rm -r ${tag[i]}.bam\n",
    "  fi\n",
    "done\n"
   ],
   "id": "7ca099457fc70049"
  },
  {
   "metadata": {},
   "cell_type": "markdown",
   "source": "Also, there is a script I wrote to copy files in a directory recursively:",
   "id": "ee08e88353e65eea"
  },
  {
   "metadata": {},
   "cell_type": "code",
   "outputs": [],
   "execution_count": null,
   "source": [
    "%%bash\n",
    "#! /bin/bash\n",
    "\n",
    "# File name: cp-for\n",
    "# This script is used to copy the fastq files recursively.\n",
    "## $1: /file/location\n",
    "## $2: /path/to/destination\n",
    "## $3: files\n",
    "\n",
    "files=$3\n",
    "size=${#files[@]}\n",
    "for (( i = 0; i < size; i++ )); do\n",
    "  cp -ax \"$1/${files[i]}\" \"$2\"\n",
    "done"
   ],
   "id": "49fd00eb20d645df"
  },
  {
   "metadata": {},
   "cell_type": "markdown",
   "source": [
    "# 2 Vim\n",
    "\n",
    "阅读二进制文件：`vim -b {file}`\n",
    "- 将内容转化为16进制：`:%!xxd`\n",
    "- 将内容转化回文本格式：`:%!xxd -r`\n"
   ],
   "id": "54d4398c40979a66"
  }
 ],
 "metadata": {
  "kernelspec": {
   "display_name": "Python 3",
   "language": "python",
   "name": "python3"
  },
  "language_info": {
   "codemirror_mode": {
    "name": "ipython",
    "version": 2
   },
   "file_extension": ".py",
   "mimetype": "text/x-python",
   "name": "python",
   "nbconvert_exporter": "python",
   "pygments_lexer": "ipython2",
   "version": "2.7.6"
  }
 },
 "nbformat": 4,
 "nbformat_minor": 5
}
