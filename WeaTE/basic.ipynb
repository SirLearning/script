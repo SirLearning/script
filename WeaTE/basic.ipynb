{
 "cells": [
  {
   "metadata": {},
   "cell_type": "markdown",
   "source": [
    "seqkit to parent\n",
    "```\n",
    "cat annotation.bed | grep -w 'Parent' > parent.bed\n",
    "bedtools getfasta -s -fi 01data/JM44.repeat.masked.fasta -bed new.bed -fo parent.fasta\n",
    "cat annotation.bed | grep -v 'Parent' > vParent.bed\n",
    "bedtools getfasta -s -fi 01data/JM44.repeat.masked.fasta -bed new.bed -fo vParent.fasta\n",
    "seqkit stats 02result/teSeq.fasta parent.fasta vParent.fasta\n",
    "cat 01data/\n",
    "seqkit fx2tab -nliH parent.fasta -o new.txt\n",
    "python DataProcessing.py > table.txt\n",
    "```"
   ],
   "id": "e5c2828eb8b2b80d"
  }
 ],
 "metadata": {
  "kernelspec": {
   "display_name": "Python 3",
   "language": "python",
   "name": "python3"
  },
  "language_info": {
   "codemirror_mode": {
    "name": "ipython",
    "version": 2
   },
   "file_extension": ".py",
   "mimetype": "text/x-python",
   "name": "python",
   "nbconvert_exporter": "python",
   "pygments_lexer": "ipython2",
   "version": "2.7.6"
  }
 },
 "nbformat": 4,
 "nbformat_minor": 5
}
